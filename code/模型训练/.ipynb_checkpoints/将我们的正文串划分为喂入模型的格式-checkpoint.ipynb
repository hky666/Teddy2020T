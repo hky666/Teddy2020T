{
 "cells": [
  {
   "cell_type": "markdown",
   "metadata": {},
   "source": [
    "# ner2020格式"
   ]
  },
  {
   "cell_type": "code",
   "execution_count": 8,
   "metadata": {},
   "outputs": [],
   "source": [
    "import re"
   ]
  },
  {
   "cell_type": "code",
   "execution_count": 15,
   "metadata": {},
   "outputs": [],
   "source": [
    "test_string = '截至2月3日10时，陕西新增12例新型冠状病毒感染的肺炎确诊病例，新增疑似病例36例。新增确诊病例中，西安市8例、宝鸡市1例、铜川市1例、渭南市1例、安康市1例。陕西累计报告新型冠状病毒感染的肺炎确诊病例128例，其中输入性病例87例，密切接触者37例，无明确接触史病例4例。累计确诊病例中，西安市55例、宝鸡市8例、咸阳市9例、铜川市7例、渭南市6例、延安市7例、榆林市1例、汉中市15例、安康市17例、商洛市2例、韩城市1例。全省现有疑似病例205例。全省新增密切接触者1024人，累计5418人，均集中医学观察。新增解除密切接触者118人，累计解除密切接触者906人。患者1，女，50岁，现居宝鸡市高新区。1月27日从甘肃省兰州市到宝鸡市，29日出现症状，30日到宝鸡市高新人民医院就诊。2月3日被诊断为新型冠状病毒感染的肺炎。目前在宝鸡市高新人民医院隔离治疗，病情平稳。患者2，女，76岁，铜川市王益区人，与1月25日确诊患者4为母子关系。1月25日被隔离观察，27日晚出现症状，当晚被转运至铜川市矿务局中心医院就诊。2月3日被诊断为新型冠状病毒感染的肺炎。目前在铜川市矿务局中心医院隔离治疗，病情平稳。患者3，男， 47岁，安康市紫阳县人，长期在武汉市工作。1月19日从武汉市到安康市紫阳县，1月31日被紫阳县城关镇卫生院组织到紫阳县中医院进行胸片筛查，胸片提示存在病灶，当天到紫阳县人民医院就诊。2月3日被诊断为新型冠状病毒感染的肺炎。目前在安康市中心医院隔离治疗，病情平稳。患者4，男，38岁，武汉市洪山区人，系1月31日确诊患者7的女婿。1月23日从武汉市到渭南市，随后自行居家隔离。29日出现症状，30日被集中隔离。2月3日被诊断为新型冠状病毒感染的肺炎。目前在渭南市中心医院隔离治疗，病情平稳。患者5，女，52岁，西安市灞桥区人。1月21日从武汉市到西安市，23日出现症状，25日到唐都医院就诊，2月1日症状加重再次到唐都医院就诊。2月3日被诊断为新型冠状病毒感染的肺炎。目前在唐都医院隔离治疗，病情平稳。患者6，女，47岁，现居西安市雁塔区，与1月31日确诊患者3有聚餐经历。1月25日出现症状，自行服药。28日症状加重，当天到陕西省第四人民医院就诊。2月3日被诊断为新型冠状病毒感染的肺炎。目前在陕西省传染病院（西安市第八医院）隔离治疗，病情平稳。患者7，男，54岁，现居西安市阎良区，与1月29日确诊患者9和1月31日确诊患者21有接触史。1月29日在阎良区人民医院隔离观察，30日出现症状。2月3日被诊断为新型冠状病毒感染的肺炎。目前在阎良区人民医院隔离治疗，病情平稳。患者8，男，50岁，汉中市西乡县人，与1月27日确诊患者3、4有接触史。1月29日在陕西省结核病防治院隔离观察，经检查发现异常，31日早被转运至西安市胸科医院隔离观察。2月3日被诊断为新型冠状病毒感染的肺炎。目前在西安市胸科医院隔离治疗，病情平稳。患者9，男，50岁，湖北省应城市人。1月23日从湖北省应城市到西安市，当天被隔离观察。31日出现症状，当天被转运至西安市胸科医院就诊。2月3日被诊断为新型冠状病毒感染的肺炎。目前在西安市胸科医院隔离治疗，病情平稳。患者10，女，35岁，西安市未央区人，与1月29日确诊患者3有接触史。1月25日出现症状，31日到未央区辛家庙社区卫生服务中心就诊。2月3日被诊断为新型冠状病毒感染的肺炎。目前在唐都医院隔离治疗，病情平稳。 患者11，女，37岁，西安市临潼区人，暂未发现明确暴露史。1月28日出现症状，当天到临潼区斜口街办窑村村卫生室就诊。2月1日症状加重后到临潼区人民医院就诊。2月3日被诊断为新型冠状病毒感染的肺炎。目前在西安市胸科医院隔离治疗，病情平稳。患者12，男，24岁，现居西安市雁塔区，系1月30日确诊病例6的儿子。1月27日出现症状，当天到西安交通大学第一附属医院就诊。2月3日被诊断为新型冠状病毒感染的肺炎。目前在西安交通大学第一附属医院隔离治疗，病情平稳。'"
   ]
  },
  {
   "cell_type": "code",
   "execution_count": 96,
   "metadata": {},
   "outputs": [],
   "source": [
    "from nltk.tokenize import RegexpTokenizer"
   ]
  },
  {
   "cell_type": "code",
   "execution_count": 18,
   "metadata": {},
   "outputs": [],
   "source": [
    "tokenizer = RegexpTokenizer(\".*?[。！？]\")"
   ]
  },
  {
   "cell_type": "code",
   "execution_count": 21,
   "metadata": {},
   "outputs": [],
   "source": [
    "fenjuzi = tokenizer.tokenize(test_string)"
   ]
  },
  {
   "cell_type": "code",
   "execution_count": 23,
   "metadata": {},
   "outputs": [],
   "source": [
    "json = []"
   ]
  },
  {
   "cell_type": "code",
   "execution_count": 24,
   "metadata": {},
   "outputs": [],
   "source": [
    "for i in range(len(fenjuzi)):\n",
    "    json.append({'id':i,'text':fenjuzi[i]})"
   ]
  },
  {
   "cell_type": "code",
   "execution_count": 28,
   "metadata": {},
   "outputs": [],
   "source": [
    "r = ''\n",
    "for ji in json:\n",
    "    r += str(ji) + '\\n' "
   ]
  },
  {
   "cell_type": "code",
   "execution_count": 167,
   "metadata": {},
   "outputs": [],
   "source": [
    "def save(filename, contents):\n",
    "    fh = open(filename, 'w+',encoding='utf-8')\n",
    "    fh.write(contents)\n",
    "    fh.close()"
   ]
  },
  {
   "cell_type": "code",
   "execution_count": 40,
   "metadata": {},
   "outputs": [],
   "source": [
    "save('./tinytest.json', r)"
   ]
  },
  {
   "cell_type": "code",
   "execution_count": 109,
   "metadata": {},
   "outputs": [],
   "source": [
    "import jsonlines"
   ]
  },
  {
   "cell_type": "code",
   "execution_count": 110,
   "metadata": {},
   "outputs": [],
   "source": [
    "def reformate(s,filename):\n",
    "    tokenizer = RegexpTokenizer(\".*?[。！？]\")\n",
    "    fenjuzi = tokenizer.tokenize(s)\n",
    "    with jsonlines.open(filename, mode='w') as writer:\n",
    "#         writer.write({'a':5})\n",
    "        for i in range(len(fenjuzi)):\n",
    "            writer.write({'id':i,'text':fenjuzi[i]})\n",
    "#             json.append()\n",
    "#     r = ''\n",
    "#     for ji in json:\n",
    "#         r += str(ji) + '\\n' \n",
    "#     save(filename, r)\n",
    "#     return r "
   ]
  },
  {
   "cell_type": "code",
   "execution_count": 36,
   "metadata": {},
   "outputs": [],
   "source": [
    "s2 = '2020年2月8日河池市新冠肺炎疫情情况2020年2月9日上午，广西壮族自治区卫生健康委发布通报，2月8日0-24时，河池市新增4例新冠肺炎确诊病例。报告死亡病例1例（都安县病例）。病例一：韦某桥，男，41岁，现居住都安县创业园第二期9排，常住都安县，系新冠肺炎确诊病例莫某某之五儿子。2020年1月29日开始出现发热，到都安县苏某某诊所就诊，未见好转。1月31日到都安县人民医院行CT检查提示“疑似肺炎”，2月2日收住都安县人民医院隔离治疗。2月3日、2月6日分别采集标本进行新冠肺炎核酸检测阴性。患者否认到过武汉疫区及武汉类似病人接触史，曾多次与其父亲莫某某聚餐。2月8日经河池市疾控中心检测，新冠病毒核酸阳性。目前病情稳定。病例二：黄某良，男，48岁，系2月7日新冠肺炎确诊病例蓝某参儿子，确诊病例黄某玲哥哥。常住都安县，现居住都安县高岭镇正玄村巴文队。其母亲蓝某参、妹妹黄某玲确诊后，因与母亲及妹妹同处一屋（天地楼），属密切接触者。2月7日，医学观察过程中发现其体温升高，无咳嗽、乏力、胸闷，收住都安县人民医院住院隔离治疗。2月8日经河池市疾控中心检测，新冠病毒核酸阳性。目前病情稳定。病例三：黄某娟，女，35岁，系2月7日新冠肺炎确诊病例蓝某参女儿，确诊病例黄某玲妹妹，现居住都安县下坳镇下坳社区塘边屯，系都安县下坳镇卫生院护士。2020年1月19日下午2点10分乘坐火车C7006至广州南站，约4时到站，入住广州巨大国际公寓。1月20日9点12分乘坐动车（D3710）从广州南到南宁东站，乘坐地铁到其姐黄某玲家（南宁市青秀区长湖路埌东2组A区47栋），当天与其姐黄某玲共乘私家车（车内还有吴某钧）回高岭镇正玄村巴文屯老家，与母亲蓝某参、姐姐黄某玲等同处一屋（天地楼）至1月30日，属密切接触者。2月7日医学观察过程中发现其体温升高，收住都安县人民医院住院隔离治疗。2月8日经河池市疾控中心检测，新冠病毒核酸阳性。目前病情稳定。病例四：黄某等，男，22岁，系2月7日新冠肺炎确诊病例蓝某参孙子、确诊病例黄某玲侄子、黄某良儿子，现居住都安县高岭镇正玄村巴文队。蓝某参、黄某玲确诊后，因其与蓝某参、黄某玲同处一屋（天地楼），属密切接触者。2月7日，医学观察过程中发现其体温升高，无咳嗽、乏力、胸闷，收住都安县人民医院住院隔离治疗。2月8日经河池市疾控中心检测，新型冠状病毒核酸阳性。目前病情稳定。截至2020年2月8日24时，河池市累计报告确诊病例19例，其中：金城江区3例，宜州区1例，环江县2例，都安县13例。重症病例2例，危重病例2例，死亡病例1例。所有患者均在定点医院隔离治疗。（河池市卫生健康委员会）'"
   ]
  },
  {
   "cell_type": "code",
   "execution_count": 39,
   "metadata": {},
   "outputs": [
    {
     "data": {
      "text/plain": [
       "\"{'id': 0, 'text': '截至2月3日10时，陕西新增12例新型冠状病毒感染的肺炎确诊病例，新增疑似病例36例。'}\\n{'id': 1, 'text': '新增确诊病例中，西安市8例、宝鸡市1例、铜川市1例、渭南市1例、安康市1例。'}\\n{'id': 2, 'text': '陕西累计报告新型冠状病毒感染的肺炎确诊病例128例，其中输入性病例87例，密切接触者37例，无明确接触史病例4例。'}\\n{'id': 3, 'text': '累计确诊病例中，西安市55例、宝鸡市8例、咸阳市9例、铜川市7例、渭南市6例、延安市7例、榆林市1例、汉中市15例、安康市17例、商洛市2例、韩城市1例。'}\\n{'id': 4, 'text': '全省现有疑似病例205例。'}\\n{'id': 5, 'text': '全省新增密切接触者1024人，累计5418人，均集中医学观察。'}\\n{'id': 6, 'text': '新增解除密切接触者118人，累计解除密切接触者906人。'}\\n{'id': 7, 'text': '患者1，女，50岁，现居宝鸡市高新区。'}\\n{'id': 8, 'text': '1月27日从甘肃省兰州市到宝鸡市，29日出现症状，30日到宝鸡市高新人民医院就诊。'}\\n{'id': 9, 'text': '2月3日被诊断为新型冠状病毒感染的肺炎。'}\\n{'id': 10, 'text': '目前在宝鸡市高新人民医院隔离治疗，病情平稳。'}\\n{'id': 11, 'text': '患者2，女，76岁，铜川市王益区人，与1月25日确诊患者4为母子关系。'}\\n{'id': 12, 'text': '1月25日被隔离观察，27日晚出现症状，当晚被转运至铜川市矿务局中心医院就诊。'}\\n{'id': 13, 'text': '2月3日被诊断为新型冠状病毒感染的肺炎。'}\\n{'id': 14, 'text': '目前在铜川市矿务局中心医院隔离治疗，病情平稳。'}\\n{'id': 15, 'text': '患者3，男， 47岁，安康市紫阳县人，长期在武汉市工作。'}\\n{'id': 16, 'text': '1月19日从武汉市到安康市紫阳县，1月31日被紫阳县城关镇卫生院组织到紫阳县中医院进行胸片筛查，胸片提示存在病灶，当天到紫阳县人民医院就诊。'}\\n{'id': 17, 'text': '2月3日被诊断为新型冠状病毒感染的肺炎。'}\\n{'id': 18, 'text': '目前在安康市中心医院隔离治疗，病情平稳。'}\\n{'id': 19, 'text': '患者4，男，38岁，武汉市洪山区人，系1月31日确诊患者7的女婿。'}\\n{'id': 20, 'text': '1月23日从武汉市到渭南市，随后自行居家隔离。'}\\n{'id': 21, 'text': '29日出现症状，30日被集中隔离。'}\\n{'id': 22, 'text': '2月3日被诊断为新型冠状病毒感染的肺炎。'}\\n{'id': 23, 'text': '目前在渭南市中心医院隔离治疗，病情平稳。'}\\n{'id': 24, 'text': '患者5，女，52岁，西安市灞桥区人。'}\\n{'id': 25, 'text': '1月21日从武汉市到西安市，23日出现症状，25日到唐都医院就诊，2月1日症状加重再次到唐都医院就诊。'}\\n{'id': 26, 'text': '2月3日被诊断为新型冠状病毒感染的肺炎。'}\\n{'id': 27, 'text': '目前在唐都医院隔离治疗，病情平稳。'}\\n{'id': 28, 'text': '患者6，女，47岁，现居西安市雁塔区，与1月31日确诊患者3有聚餐经历。'}\\n{'id': 29, 'text': '1月25日出现症状，自行服药。'}\\n{'id': 30, 'text': '28日症状加重，当天到陕西省第四人民医院就诊。'}\\n{'id': 31, 'text': '2月3日被诊断为新型冠状病毒感染的肺炎。'}\\n{'id': 32, 'text': '目前在陕西省传染病院（西安市第八医院）隔离治疗，病情平稳。'}\\n{'id': 33, 'text': '患者7，男，54岁，现居西安市阎良区，与1月29日确诊患者9和1月31日确诊患者21有接触史。'}\\n{'id': 34, 'text': '1月29日在阎良区人民医院隔离观察，30日出现症状。'}\\n{'id': 35, 'text': '2月3日被诊断为新型冠状病毒感染的肺炎。'}\\n{'id': 36, 'text': '目前在阎良区人民医院隔离治疗，病情平稳。'}\\n{'id': 37, 'text': '患者8，男，50岁，汉中市西乡县人，与1月27日确诊患者3、4有接触史。'}\\n{'id': 38, 'text': '1月29日在陕西省结核病防治院隔离观察，经检查发现异常，31日早被转运至西安市胸科医院隔离观察。'}\\n{'id': 39, 'text': '2月3日被诊断为新型冠状病毒感染的肺炎。'}\\n{'id': 40, 'text': '目前在西安市胸科医院隔离治疗，病情平稳。'}\\n{'id': 41, 'text': '患者9，男，50岁，湖北省应城市人。'}\\n{'id': 42, 'text': '1月23日从湖北省应城市到西安市，当天被隔离观察。'}\\n{'id': 43, 'text': '31日出现症状，当天被转运至西安市胸科医院就诊。'}\\n{'id': 44, 'text': '2月3日被诊断为新型冠状病毒感染的肺炎。'}\\n{'id': 45, 'text': '目前在西安市胸科医院隔离治疗，病情平稳。'}\\n{'id': 46, 'text': '患者10，女，35岁，西安市未央区人，与1月29日确诊患者3有接触史。'}\\n{'id': 47, 'text': '1月25日出现症状，31日到未央区辛家庙社区卫生服务中心就诊。'}\\n{'id': 48, 'text': '2月3日被诊断为新型冠状病毒感染的肺炎。'}\\n{'id': 49, 'text': '目前在唐都医院隔离治疗，病情平稳。'}\\n{'id': 50, 'text': ' 患者11，女，37岁，西安市临潼区人，暂未发现明确暴露史。'}\\n{'id': 51, 'text': '1月28日出现症状，当天到临潼区斜口街办窑村村卫生室就诊。'}\\n{'id': 52, 'text': '2月1日症状加重后到临潼区人民医院就诊。'}\\n{'id': 53, 'text': '2月3日被诊断为新型冠状病毒感染的肺炎。'}\\n{'id': 54, 'text': '目前在西安市胸科医院隔离治疗，病情平稳。'}\\n{'id': 55, 'text': '患者12，男，24岁，现居西安市雁塔区，系1月30日确诊病例6的儿子。'}\\n{'id': 56, 'text': '1月27日出现症状，当天到西安交通大学第一附属医院就诊。'}\\n{'id': 57, 'text': '2月3日被诊断为新型冠状病毒感染的肺炎。'}\\n{'id': 58, 'text': '目前在西安交通大学第一附属医院隔离治疗，病情平稳。'}\\n\""
      ]
     },
     "execution_count": 39,
     "metadata": {},
     "output_type": "execute_result"
    }
   ],
   "source": [
    "reformate(s2,'test.json')"
   ]
  },
  {
   "cell_type": "code",
   "execution_count": 136,
   "metadata": {},
   "outputs": [],
   "source": [
    "f = open('Alltext.txt','r+',encoding='utf-8')\n",
    "sall = f.read()"
   ]
  },
  {
   "cell_type": "code",
   "execution_count": 137,
   "metadata": {},
   "outputs": [],
   "source": [
    "sall_ = sall.replace('\\n','。')"
   ]
  },
  {
   "cell_type": "code",
   "execution_count": 138,
   "metadata": {},
   "outputs": [],
   "source": [
    "sall_ = sall_.replace('\\t','。')"
   ]
  },
  {
   "cell_type": "code",
   "execution_count": 139,
   "metadata": {},
   "outputs": [],
   "source": [
    "fs = open('Alltext_fixed.txt','w+',encoding='utf-8')"
   ]
  },
  {
   "cell_type": "code",
   "execution_count": 140,
   "metadata": {},
   "outputs": [
    {
     "data": {
      "text/plain": [
       "468227"
      ]
     },
     "execution_count": 140,
     "metadata": {},
     "output_type": "execute_result"
    }
   ],
   "source": [
    "fs.write(sall_)"
   ]
  },
  {
   "cell_type": "code",
   "execution_count": 141,
   "metadata": {},
   "outputs": [],
   "source": [
    "fs.close()"
   ]
  },
  {
   "cell_type": "code",
   "execution_count": 142,
   "metadata": {},
   "outputs": [],
   "source": [
    "f.close()"
   ]
  },
  {
   "cell_type": "code",
   "execution_count": 143,
   "metadata": {},
   "outputs": [],
   "source": [
    "result = reformate(sall_,'alltext_jsonfiy.json')"
   ]
  },
  {
   "cell_type": "code",
   "execution_count": 107,
   "metadata": {},
   "outputs": [
    {
     "data": {
      "text/plain": [
       "468227"
      ]
     },
     "execution_count": 107,
     "metadata": {},
     "output_type": "execute_result"
    }
   ],
   "source": [
    "len(sall)"
   ]
  },
  {
   "cell_type": "code",
   "execution_count": 108,
   "metadata": {},
   "outputs": [
    {
     "name": "stdout",
     "output_type": "stream",
     "text": [
      "Collecting jsonlines\n",
      "  Downloading https://files.pythonhosted.org/packages/4f/9a/ab96291470e305504aa4b7a2e0ec132e930da89eb3ca7a82fbe03167c131/jsonlines-1.2.0-py2.py3-none-any.whl\n",
      "Requirement already satisfied: six in e:\\anaconda3\\lib\\site-packages (from jsonlines) (1.12.0)\n",
      "Installing collected packages: jsonlines\n",
      "Successfully installed jsonlines-1.2.0\n"
     ]
    }
   ],
   "source": [
    "!pip install jsonlines"
   ]
  },
  {
   "cell_type": "code",
   "execution_count": 111,
   "metadata": {},
   "outputs": [],
   "source": [
    "result = reformate(sall_,'alltext_jsonfiy.json')"
   ]
  },
  {
   "cell_type": "code",
   "execution_count": 162,
   "metadata": {},
   "outputs": [],
   "source": [
    "f = open('./算法/Alltext_TSET.txt.anns','r+',encoding='utf-8')\n",
    "xy = f.read()"
   ]
  },
  {
   "cell_type": "code",
   "execution_count": 163,
   "metadata": {},
   "outputs": [],
   "source": [
    "xy = xy.replace('\\t','。')"
   ]
  },
  {
   "cell_type": "code",
   "execution_count": null,
   "metadata": {},
   "outputs": [],
   "source": [
    "Alltext_TSET"
   ]
  },
  {
   "cell_type": "code",
   "execution_count": 115,
   "metadata": {},
   "outputs": [
    {
     "data": {
      "text/plain": [
       "'最 O\\n新 O\\n消 O\\n息 O\\n2 O\\n月 O\\n1 O\\n4 O\\n日 O\\n上 O\\n午 O\\n， O\\n省 O\\n卫 O\\n健 O\\n委 O\\n公 O\\n布 O\\n2 O\\n月 O\\n1 O\\n3 O\\n日 O\\n0 O\\n2 O\\n'"
      ]
     },
     "execution_count": 115,
     "metadata": {},
     "output_type": "execute_result"
    }
   ],
   "source": [
    "xy[:100]"
   ]
  },
  {
   "cell_type": "code",
   "execution_count": 164,
   "metadata": {},
   "outputs": [],
   "source": [
    "xyline = xy.splitlines()"
   ]
  },
  {
   "cell_type": "code",
   "execution_count": 165,
   "metadata": {},
   "outputs": [],
   "source": [
    "train = ''\n",
    "dev = ''\n",
    "test = ''\n",
    "for i in range(len(xyline)):\n",
    "    if i<=len(xyline)/2:\n",
    "        train+=xyline[i]+'\\n'\n",
    "    elif i<len(xyline)*4/5:\n",
    "        dev+=xyline[i]+'\\n'\n",
    "    else:\n",
    "        test+=xyline[i]+'\\n'"
   ]
  },
  {
   "cell_type": "code",
   "execution_count": 146,
   "metadata": {},
   "outputs": [
    {
     "data": {
      "text/plain": [
       "'1 O\\n5 O\\n1 '"
      ]
     },
     "execution_count": 146,
     "metadata": {},
     "output_type": "execute_result"
    }
   ],
   "source": [
    "test[:10]"
   ]
  },
  {
   "cell_type": "code",
   "execution_count": 166,
   "metadata": {},
   "outputs": [],
   "source": [
    "save('test.test',test)\n",
    "save('dev.dev',dev)\n",
    "save('train.train',train)"
   ]
  },
  {
   "cell_type": "code",
   "execution_count": 156,
   "metadata": {
    "collapsed": true
   },
   "outputs": [
    {
     "data": {
      "text/plain": [
       "'最 O\\n新 O\\n消 O\\n息 O\\n2 O\\n月 O\\n1 O\\n4 O\\n日 O\\n上 O\\n午 O\\n， O\\n省 O\\n卫 O\\n健 O\\n委 O\\n公 O\\n布 O\\n2 O\\n月 O\\n1 O\\n3 O\\n日 O\\n0 O\\n2 O\\n4 O\\n时 O\\n肇 O\\n庆 O\\n市 O\\n新 O\\n增 O\\n1 O\\n例 O\\n新 O\\n冠 O\\n肺 O\\n炎 O\\n确 O\\n诊 O\\n病 O\\n例 O\\n。 O\\n截 O\\n至 O\\n2 O\\n月 O\\n1 O\\n3 O\\n日 O\\n2 O\\n4 O\\n时 O\\n， O\\n肇 O\\n庆 O\\n市 O\\n累 O\\n计 O\\n报 O\\n告 O\\n新 O\\n冠 O\\n肺 O\\n炎 O\\n确 O\\n诊 O\\n病 O\\n例 O\\n1 O\\n7 O\\n例 O\\n。 O\\n1 O\\n3 O\\n日 O\\n0 O\\n- O\\n2 O\\n4 O\\n时 O\\n全 O\\n市 O\\n新 O\\n增 O\\n确 O\\n诊 O\\n病 O\\n例 O\\n1 O\\n例 O\\n， O\\n分 O\\n布 O\\n在 O\\n封 O\\n开 O\\n县 O\\n。 O\\n累 O\\n计 O\\n报 O\\n告 O\\n的 O\\n1 O\\n7 O\\n例 O\\n确 O\\n诊 O\\n病 O\\n例 O\\n中 O\\n， O\\n端 O\\n州 O\\n区 O\\n5 O\\n例 O\\n， O\\n鼎 O\\n湖 O\\n区 O\\n2 O\\n例 O\\n、 O\\n高 O\\n要 O\\n区 O\\n3 O\\n例 O\\n、 O\\n四 O\\n会 O\\n市 O\\n1 O\\n例 O\\n、 O\\n广 O\\n宁 O\\n县 O\\n1 O\\n例 O\\n、 O\\n封 O\\n开 O\\n县 O\\n5 O\\n例 O\\n。 O\\n其 O\\n中 O\\n男 O\\n性 O\\n1 O\\n0 O\\n例 O\\n， O\\n女 O\\n性 O\\n7 O\\n例 O\\n， O\\n年 O\\n龄 O\\n介 O\\n于 O\\n3 O\\n岁 O\\n到 O\\n6 O\\n5 O\\n岁 O\\n之 O\\n间 O\\n。 O\\n截 O\\n至 O\\n2 O\\n0 O\\n2 O\\n0 O\\n年 O\\n2 O\\n月 O\\n1 O\\n3 O\\n日 O\\n2 O\\n4 O\\n时 O\\n， O\\n在 O\\n院 O\\n的 O\\n9 O\\n例 O\\n确 O\\n诊 O\\n病 O\\n例 O\\n中 O\\n， O\\n普 O\\n通 O\\n型 O\\n4 O\\n例 O\\n， O\\n轻 O\\n型 O\\n4 O\\n例 O\\n， O\\n重 O\\n型 O\\n1 O\\n例 O\\n。 O\\n死 O\\n亡 O\\n1 O\\n例 O\\n。 O\\n无 O\\n医 O\\n务 O\\n人 O\\n员 O\\n感 O\\n染 O\\n。 O\\n在 O\\n院 O\\n的 O\\n9 O\\n例 O\\n病 O\\n例 O\\n， O\\n有 O\\n1 O\\n例 O\\n病 O\\n例 O\\n病 O\\n情 O\\n加 O\\n重 O\\n， O\\n其 O\\n余 O\\n确 O\\n诊 O\\n病 O\\n例 O\\n病 O\\n情 O\\n稳 O\\n定 O\\n。 O\\n全 O\\n市 O\\n共 O\\n追 O\\n踪 O\\n到 O\\n5 O\\n0 O\\n7 O\\n名 O\\n密 O\\n切 O\\n接 O\\n触 O\\n者 O\\n， O\\n正 O\\n接 O\\n受 O\\n集 O\\n中 O\\n医 O\\n学 O\\n观 O\\n察 O\\n2 O\\n7 O\\n7 O\\n人 O\\n， O\\n累 O\\n计 O\\n2 O\\n3 O\\n0 O\\n人 O\\n解 O\\n除 O\\n医 O\\n学 O\\n观 O\\n察 O\\n。 O\\n1 O\\n7 O\\n例 O\\n确 O\\n诊 O\\n病 O\\n例 O\\n感 O\\n染 O\\n原 O\\n因 O\\n为 O\\n湖 O\\n北 O\\n输 O\\n入 O\\n病 O\\n例 O\\n6 O\\n例 O\\n、 O\\n旅 O\\n游 O\\n输 O\\n入 O\\n病 O\\n例 O\\n4 O\\n例 O\\n、 O\\n由 O\\n旅 O\\n游 O\\n输 O\\n入 O\\n引 O\\n起 O\\n的 O\\n家 O\\n庭 O\\n病 O\\n例 O\\n3 O\\n例 O\\n、 O\\n有 O\\n武 O\\n汉 O\\n返 O\\n肇 O\\n人 O\\n员 O\\n接 O\\n触 O\\n史 O\\n4 O\\n例 O\\n。 O\\n目 O\\n前 O\\n， O\\n累 O\\n计 O\\n已 O\\n有 O\\n7 O\\n例 O\\n确 O\\n诊 O\\n病 O\\n例 O\\n治 O\\n愈 O\\n出 O\\n院 O\\n。 O\\n肇 O\\n庆 O\\n市 O\\n新 O\\n增 O\\n一 O\\n例 O\\n确 O\\n诊 O\\n病 O\\n例 O\\n情 O\\n况 O\\n如 O\\n下 O\\n： O\\n1 O\\n1 O\\n病 O\\n例 O\\n1 O\\n7 O\\n何 O\\n某 O\\n（ O\\n女 O\\n、 O\\n6 O\\n5 O\\n岁 O\\n、 O\\n封 O\\n开 O\\n人 O\\n） O\\n， O\\n现 O\\n住 O\\n封 O\\n开 O\\n县 O\\n江 O\\n口 O\\n镇 O\\n河 B-Location\\n堤 I-Location\\n二 I-Location\\n路 I-Location\\n2 O\\n2 O\\n号 O\\n。 O\\n近 O\\n期 O\\n无 O\\n湖 O\\n北 O\\n省 O\\n居 O\\n住 O\\n、 O\\n旅 O\\n游 O\\n史 O\\n， O\\n感 O\\n染 O\\n原 O\\n因 O\\n是 O\\n与 O\\n新 O\\n型 O\\n冠 O\\n状 O\\n病 O\\n毒 O\\n感 O\\n染 O\\n肺 O\\n炎 O\\n病 O\\n例 O\\n有 O\\n接 O\\n触 O\\n。 O\\n1 O\\n月 O\\n1 O\\n9 O\\n日 O\\n下 O\\n午 O\\n3 O\\n： O\\n0 O\\n0 O\\n与 O\\n何 O\\n某 O\\n、 O\\n吴 O\\n某 O\\n（ O\\n病 O\\n例 O\\n1 O\\n6 O\\n、 O\\n1 O\\n5 O\\n） O\\n等 O\\n人 O\\n一 O\\n起 O\\n在 O\\n封 O\\n开 O\\n县 O\\n曲 B-Location\\n艺 I-Location\\n社 I-Location\\n排 O\\n练 O\\n。 O\\n1 O\\n月 O\\n2 O\\n3 O\\n日 O\\n到 O\\n何 O\\n某 O\\n（ O\\n病 O\\n例 O\\n1 O\\n6 O\\n） O\\n家 O\\n中 O\\n（ O\\n水 B-Location\\n上 I-Location\\n居 I-Location\\n民 I-Location\\n安 I-Location\\n置 I-Location\\n楼 I-Location\\n） O\\n， O\\n1 O\\n月 O\\n2 O\\n4 O\\n日 O\\n、 O\\n1 O\\n月 O\\n3 O\\n1 O\\n日 O\\n、 O\\n2 O\\n月 O\\n7 O\\n日 O\\n分 O\\n别 O\\n送 O\\n丈 O\\n夫 O\\n到 O\\n封 O\\n开 O\\n县 O\\n人 O\\n民 O\\n医 O\\n院 O\\n进 O\\n行 O\\n透 O\\n析 O\\n治 O\\n疗 O\\n， O\\n2 O\\n月 O\\n7 O\\n日 O\\n上 O\\n午 O\\n9 O\\n时 O\\n到 O\\n好 B-Location\\n又 I-Location\\n多 I-Location\\n超 I-Location\\n市 I-Location\\n买 O\\n菜 O\\n。 O\\n其 O\\n余 O\\n时 O\\n间 O\\n在 O\\n家 O\\n照 O\\n顾 O\\n丈 O\\n夫 O\\n。 O\\n2 O\\n月 O\\n9 O\\n日 O\\n采 O\\n集 O\\n咽 O\\n拭 O\\n子 O\\n送 O\\n市 O\\n疾 O\\n控 O\\n中 O\\n心 O\\n核 O\\n酸 O\\n检 O\\n测 O\\n为 O\\n阴 O\\n性 O\\n， O\\n2 O\\n月 O\\n1 O\\n2 O\\n日 O\\n采 O\\n集 O\\n咽 O\\n拭 O\\n子 O\\n送 O\\n市 O\\n疾 O\\n控 O\\n中 O\\n心 O\\n检 O\\n测 O\\n。 O\\n2 O\\n月 O\\n1 O\\n2 O\\n日 O\\n下 O\\n午 O\\n到 O\\n封 O\\n开 O\\n县 O\\n人 B-Location\\n民 I-Location\\n医 I-Location\\n院 I-Location\\n进 O\\n行 O\\n胸 O\\n部 O\\nC O\\nT O\\n筛 O\\n查 O\\n， O\\n结 O\\n果 O\\n显 O\\n示 O\\n双 O\\n肺 O\\n多 O\\n发 O\\n磨 O\\n玻 O\\n璃 O\\n影 O\\n， O\\n胸 O\\n膜 O\\n下 O\\n明 O\\n显 O\\n， O\\n考 O\\n虑 O\\n是 O\\n病 O\\n毒 O\\n性 O\\n肺 O\\n炎 O\\n， O\\n1 O\\n3 O\\n日 O\\n核 O\\n酸 O\\n检 O\\n测 O\\n报 O\\n告 O\\n为 O\\n阳 O\\n性 O\\n， O\\n送 O\\n至 O\\n肇 O\\n庆 O\\n市 O\\n第 O\\n一 O\\n人 O\\n民 O\\n医 O\\n院 O\\n隔 O\\n离 O\\n治 O\\n疗 O\\n， O\\n病 O\\n人 O\\n病 O\\n情 O\\n稳 O\\n定 O\\n。 O\\n目 O\\n前 O\\n已 O\\n对 O\\n密 O\\n切 O\\n接 O\\n触 O\\n者 O\\n集 O\\n中 O\\n隔 O\\n离 O\\n医 O\\n学 O\\n观 O\\n察 O\\n。 O\\n新 O\\n增 O\\n确 O\\n诊 O\\n病 O\\n例 O\\n涉 O\\n及 O\\n的 O\\n小 O\\n区 O\\n或 O\\n场 O\\n所 O\\n封 O\\n开 O\\n县 O\\n江 O\\n口 O\\n镇 O\\n河 B-Location\\n堤 I-Location\\n二 I-Location\\n路 I-Location\\n2 I-Location\\n2 I-Location\\n号 I-Location\\n、 O\\n江 O\\n口 O\\n镇 O\\n蝴 O\\n蝶 O\\n塘 O\\n路 O\\n封 O\\n开 O\\n县 O\\n曲 B-Location\\n艺 I-Location\\n社 I-Location\\n、 O\\n好 B-Location\\n又 I-Location\\n多 I-Location\\n超 I-Location\\n市 I-Location\\n、 O\\n水 O\\n上 O\\n居 O\\n民 O\\n安 O\\n置 O\\n楼 O\\n此 O\\n前 O\\n确 O\\n诊 O\\n病 O\\n例 O\\n情 O\\n况 O\\n如 O\\n下 O\\n: O\\n病 O\\n例 O\\n1 O\\n6 O\\n何 O\\n某 O\\n（ O\\n女 O\\n、 O\\n6 O\\n2 O\\n岁 O\\n、 O\\n封 O\\n开 O\\n人 O\\n） O\\n， O\\n常 O\\n住 O\\n封 O\\n开 O\\n县 O\\n江 O\\n口 O\\n镇 O\\n水 B-Location\\n上 I-Location\\n居 I-Location\\n民 I-Location\\n安 I-Location\\n置 I-Location\\n楼 I-Location\\n。 O\\n近 O\\n期 O\\n无 O\\n武 O\\n汉 O\\n居 O\\n住 O\\n旅 O\\n游 O\\n史 O\\n， O\\n是 O\\n新 O\\n冠 O\\n肺 O\\n炎 O\\n确 O\\n诊 O\\n病 O\\n例 O\\n吴 O\\n某 O\\n（ O\\n病 O\\n例 O\\n1 O\\n5 O\\n） O\\n的 O\\n密 O\\n切 O\\n接 O\\n触 O\\n者 O\\n。 O\\n平 O\\n时 O\\n主 O\\n要 O\\n娱 O\\n乐 O\\n活 O\\n动 O\\n是 O\\n到 O\\n江 O\\n口 O\\n镇 O\\n星 B-Location\\n辉 I-Location\\n曲 I-Location\\n艺 I-Location\\n社 I-Location\\n江 I-Location\\n口 I-Location\\n社 I-Location\\n区 I-Location\\n唱 O\\n粤 O\\n曲 O\\n， O\\n2 O\\n0 O\\n2 O\\n0 O\\n年 O\\n1 O\\n月 O\\n2 O\\n0 O\\n日 O\\n， O\\n与 O\\n吴 O\\n某 O\\n（ O\\n病 O\\n例 O\\n1 O\\n5 O\\n） O\\n及 O\\n其 O\\n工 O\\n友 O\\n在 O\\n宾 B-Location\\n悦 I-Location\\n酒 I-Location\\n店 I-Location\\n2 I-Location\\n楼 I-Location\\n聚 O\\n餐 O\\n及 O\\n唱 O\\n歌 O\\n。 O\\n2 O\\n2 O\\n日 O\\n由 O\\n封 O\\n开 O\\n曲 O\\n艺 O\\n社 O\\n组 O\\n织 O\\n前 O\\n往 O\\n平 O\\n凤 O\\n镇 O\\n新 B-Location\\n围 I-Location\\n村 I-Location\\n参 O\\n加 O\\n敬 O\\n老 O\\n演 O\\n出 O\\n活 O\\n动 O\\n， O\\n演 O\\n出 O\\n活 O\\n动 O\\n后 O\\n出 O\\n现 O\\n流 O\\n涕 O\\n、 O\\n咳 O\\n嗽 O\\n、 O\\n咳 O\\n痰 O\\n症 O\\n状 O\\n， O\\n无 O\\n发 O\\n热 O\\n（ O\\n未 O\\n测 O\\n体 O\\n温 O\\n） O\\n， O\\n自 O\\n行 O\\n服 O\\n用 O\\n药 O\\n物 O\\n治 O\\n疗 O\\n， O\\n未 O\\n到 O\\n医 O\\n院 O\\n就 O\\n诊 O\\n。 O\\n2 O\\n3 O\\n日 O\\n开 O\\n始 O\\n自 O\\n己 O\\n居 O\\n家 O\\n隔 O\\n离 O\\n， O\\n期 O\\n间 O\\n无 O\\n外 O\\n出 O\\n， O\\n直 O\\n至 O\\n2 O\\n月 O\\n1 O\\n0 O\\n日 O\\n凌 O\\n晨 O\\n到 O\\n封 O\\n开 O\\n县 O\\n江 O\\n口 O\\n镇 O\\n杏 B-Location\\n花 I-Location\\n宾 I-Location\\n馆 I-Location\\n集 O\\n中 O\\n隔 O\\n离 O\\n观 O\\n察 O\\n。 O\\n2 O\\n月 O\\n1 O\\n0 O\\n日 O\\n上 O\\n午 O\\n患 O\\n者 O\\n咳 O\\n嗽 O\\n较 O\\n前 O\\n加 O\\n重 O\\n， O\\n出 O\\n现 O\\n发 O\\n热 O\\n， O\\n胸 O\\n部 O\\nC O\\nT O\\n检 O\\n查 O\\n结 O\\n果 O\\n显 O\\n示 O\\n双 O\\n肺 O\\n多 O\\n发 O\\n磨 O\\n玻 O\\n璃 O\\n影 O\\n， O\\n胸 O\\n膜 O\\n下 O\\n明 O\\n显 O\\n， O\\n考 O\\n虑 O\\n是 O\\n病 O\\n毒 O\\n性 O\\n肺 O\\n炎 O\\n， O\\n当 O\\n晚 O\\n送 O\\n肇 O\\n庆 O\\n市 O\\n第 O\\n一 O\\n人 O\\n民 O\\n医 O\\n院 O\\n隔 O\\n离 O\\n治 O\\n疗 O\\n。 O\\n2 O\\n月 O\\n1 O\\n1 O\\n日 O\\n患 O\\n者 O\\n新 O\\n型 O\\n冠 O\\n状 O\\n病 O\\n毒 O\\n核 O\\n酸 O\\n检 O\\n测 O\\n阳 O\\n性 O\\n。 O\\n目 O\\n前 O\\n病 O\\n人 O\\n经 O\\n治 O\\n疗 O\\n后 O\\n， O\\n有 O\\n发 O\\n热 O\\n、 O\\n咳 O\\n嗽 O\\n、 O\\n咳 O\\n痰 O\\n症 O\\n状 O\\n， O\\n病 O\\n情 O\\n稳 O\\n定 O\\n。 O\\n病 O\\n例 O\\n1 O\\n5 O\\n吴 O\\n某 O\\n（ O\\n男 O\\n、 O\\n5 O\\n6 O\\n岁 O\\n、 O\\n封 O\\n开 O\\n人 O\\n） O\\n， O\\n常 O\\n住 O\\n封 O\\n开 O\\n县 O\\n江 O\\n口 O\\n镇 O\\n东 B-Location\\n方 I-Location\\n二 I-Location\\n路 I-Location\\n1 I-Location\\n1 I-Location\\n5 I-Location\\n号 I-Location\\n。 O\\n1 O\\n月 O\\n1 O\\n9 O\\n日 O\\n下 O\\n午 O\\n病 O\\n例 O\\n与 O\\n苏 O\\n某 O\\n（ O\\n病 O\\n例 O\\n1 O\\n4 O\\n） O\\n在 O\\n江 B-Location\\n口 I-Location\\n镇 I-Location\\n曲 I-Location\\n艺 I-Location\\n社 I-Location\\n一 O\\n起 O\\n参 O\\n加 O\\n粤 O\\n剧 O\\n排 O\\n练 O\\n。 O\\n晚 O\\n上 O\\n与 O\\n朋 O\\n友 O\\n到 O\\n苏 O\\n某 O\\n（ O\\n病 O\\n例 O\\n1 O\\n4 O\\n） O\\n的 O\\n店 O\\n铺 O\\n喝 O\\n茶 O\\n。 O\\n2 O\\n0 O\\n日 O\\n晚 O\\n与 O\\n工 O\\n友 O\\n在 O\\n江 O\\n口 O\\n镇 O\\n宾 B-Location\\n悦 I-Location\\n酒 I-Location\\n店 I-Location\\n二 I-Location\\n楼 I-Location\\n聚 O\\n餐 O\\n。 O\\n2 O\\n1 O\\n2 O\\n3 O\\n日 O\\n期 O\\n间 O\\n在 O\\n封 O\\n开 O\\n县 O\\n江 O\\n口 O\\n镇 O\\n东 B-Location\\n方 I-Location\\n二 I-Location\\n路 I-Location\\n1 I-Location\\n1 I-Location\\n5 I-Location\\n号 I-Location\\n家 O\\n中 O\\n休 O\\n息 O\\n， O\\n曾 O\\n到 O\\n井 B-Location\\n根 I-Location\\n农 I-Location\\n贸 I-Location\\n市 I-Location\\n场 I-Location\\n购 O\\n物 O\\n。 O\\n2 O\\n4 O\\n日 O\\n、 O\\n2 O\\n6 O\\n日 O\\n晚 O\\n上 O\\n到 O\\n江 B-Location\\n口 I-Location\\n镇 I-Location\\n东 I-Location\\n堤 I-Location\\n路 I-Location\\n2 I-Location\\n5 I-Location\\n号 I-Location\\n亲 O\\n戚 O\\n家 O\\n中 O\\n参 O\\n加 O\\n家 O\\n庭 O\\n聚 O\\n餐 O\\n。 O\\n1 O\\n月 O\\n2 O\\n7 O\\n、 O\\n2 O\\n9 O\\n日 O\\n及 O\\n2 O\\n月 O\\n1 O\\n日 O\\n到 O\\n杏 B-Location\\n花 I-Location\\n宾 I-Location\\n馆 I-Location\\n宿 O\\n舍 O\\n其 O\\n朋 O\\n友 O\\n家 O\\n中 O\\n聚 O\\n餐 O\\n、 O\\n打 O\\n麻 O\\n将 O\\n。 O\\n2 O\\n8 O\\n日 O\\n晚 O\\n上 O\\n再 O\\n次 O\\n到 O\\n苏 O\\n某 O\\n（ O\\n病 O\\n例 O\\n1 O\\n4 O\\n） O\\n店 O\\n铺 O\\n喝 O\\n茶 O\\n。 O\\n无 O\\n武 O\\n汉 O\\n居 O\\n住 O\\n旅 O\\n游 O\\n史 O\\n。 O\\n2 O\\n月 O\\n3 O\\n日 O\\n出 O\\n现 O\\n咽 O\\n痒 O\\n不 O\\n适 O\\n， O\\n偶 O\\n发 O\\n性 O\\n咳 O\\n嗽 O\\n， O\\n伴 O\\n有 O\\n低 O\\n热 O\\n。 O\\n2 O\\n月 O\\n6 O\\n日 O\\n胸 O\\n部 O\\nC O\\nT O\\n检 O\\n查 O\\n结 O\\n果 O\\n显 O\\n示 O\\n右 O\\n肺 O\\n上 O\\n叶 O\\n炎 O\\n症 O\\n。 O\\n2 O\\n月 O\\n8 O\\n日 O\\n送 O\\n肇 O\\n庆 O\\n市 O\\n一 O\\n医 O\\n隔 O\\n离 O\\n治 O\\n疗 O\\n， O\\n采 O\\n集 O\\n咽 O\\n拭 O\\n子 O\\n进 O\\n行 O\\n新 O\\n型 O\\n冠 O\\n状 O\\n病 O\\n毒 O\\n核 O\\n酸 O\\n检 O\\n测 O\\n， O\\n肇 O\\n庆 O\\n市 O\\n一 O\\n医 O\\n院 O\\n和 O\\n肇 O\\n庆 O\\n市 O\\n疾 O\\n控 O\\n中 O\\n心 O\\n报 O\\n告 O\\n均 O\\n为 O\\n阴 O\\n性 O\\n。 O\\n2 O\\n月 O\\n9 O\\n日 O\\n肇 O\\n庆 O\\n市 O\\n一 O\\n医 O\\n院 O\\n取 O\\n下 O\\n呼 O\\n吸 O\\n道 O\\n分 O\\n泌 O\\n物 O\\n检 O\\n测 O\\n新 O\\n型 O\\n冠 O\\n状 O\\n病 O\\n毒 O\\n核 O\\n酸 O\\n初 O\\n筛 O\\n阳 O\\n性 O\\n， O\\n送 O\\n肇 O\\n庆 O\\n市 O\\n疾 O\\n控 O\\n中 O\\n心 O\\n复 O\\n核 O\\n， O\\n结 O\\n果 O\\n阳 O\\n性 O\\n。 O\\n目 O\\n前 O\\n病 O\\n人 O\\n经 O\\n治 O\\n疗 O\\n后 O\\n， O\\n偶 O\\n有 O\\n咳 O\\n嗽 O\\n、 O\\n咳 O\\n痰 O\\n， O\\n无 O\\n畏 O\\n寒 O\\n、 O\\n发 O\\n热 O\\n， O\\n病 O\\n情 O\\n稳 O\\n定 O\\n。 O\\n病 O\\n例 O\\n1 O\\n4 O\\n苏 O\\n某 O\\n（ O\\n男 O\\n、 O\\n5 O\\n5 O\\n岁 O\\n、 O\\n封 O\\n开 O\\n人 O\\n） O\\n， O\\n在 O\\n封 O\\n开 O\\n县 O\\n江 O\\n口 O\\n镇 O\\n经 O\\n营 O\\n乐 B-Location\\n惠 I-Location\\n士 I-Location\\n多 I-Location\\n店 I-Location\\n， O\\n常 O\\n在 O\\n店 O\\n内 O\\n聚 O\\n众 O\\n打 O\\n牌 O\\n。 O\\n平 O\\n常 O\\n活 O\\n动 O\\n点 O\\n为 O\\n乐 B-Location\\n惠 I-Location\\n士 I-Location\\n多 I-Location\\n店 I-Location\\n和 I-Location\\n曙 I-Location\\n光 I-Location\\n路 I-Location\\n3 I-Location\\n1 I-Location\\n号 I-Location\\n家 O\\n中 O\\n， O\\n1 O\\n月 O\\n2 O\\n4 O\\n日 O\\n晚 O\\n到 O\\n封 O\\n开 O\\n县 O\\n广 B-Location\\n信 I-Location\\n嘉 I-Location\\n园 I-Location\\n朋 O\\n友 O\\n家 O\\n中 O\\n聚 O\\n餐 O\\n， O\\n1 O\\n月 O\\n2 O\\n8 O\\n日 O\\n晚 O\\n到 O\\n封 O\\n开 O\\n县 O\\n唐 B-Location\\n八 I-Location\\n叔 I-Location\\n清 I-Location\\n补 I-Location\\n羊 I-Location\\n火 I-Location\\n锅 I-Location\\n店 I-Location\\n聚 O\\n餐 O\\n。 O\\n有 O\\n武 O\\n汉 O\\n返 O\\n粤 O\\n人 O\\n员 O\\n接 O\\n触 O\\n史 O\\n， O\\n无 O\\n其 O\\n它 O\\n外 O\\n出 O\\n旅 O\\n游 O\\n史 O\\n。 O\\n2 O\\n月 O\\n2 O\\n日 O\\n出 O\\n现 O\\n发 O\\n热 O\\n、 O\\n轻 O\\n微 O\\n气 O\\n喘 O\\n等 O\\n症 O\\n状 O\\n， O\\n2 O\\n月 O\\n5 O\\n日 O\\n采 O\\n集 O\\n患 O\\n者 O\\n咽 O\\n拭 O\\n子 O\\n及 O\\n血 O\\n清 O\\n标 O\\n本 O\\n检 O\\n测 O\\n， O\\n2 O\\n月 O\\n6 O\\n日 O\\n检 O\\n测 O\\n结 O\\n果 O\\n显 O\\n示 O\\n阳 O\\n性 O\\n， O\\n确 O\\n诊 O\\n为 O\\n新 O\\n冠 O\\n肺 O\\n炎 O\\n病 O\\n例 O\\n。 O\\n患 O\\n者 O\\n属 O\\n重 O\\n症 O\\n病 O\\n例 O\\n， O\\n有 O\\n多 O\\n年 O\\n糖 O\\n尿 O\\n病 O\\n史 O\\n， O\\n因 O\\n病 O\\n情 O\\n恶 O\\n化 O\\n， O\\n经 O\\n抢 O\\n救 O\\n无 O\\n效 O\\n， O\\n于 O\\n2 O\\n月 O\\n6 O\\n日 O\\n1 O\\n8 O\\n时 O\\n1 O\\n5 O\\n分 O\\n死 O\\n亡 O\\n。 O\\n病 O\\n例 O\\n1 O\\n3 O\\n莫 O\\n某 O\\n（ O\\n男 O\\n、 O\\n2 O\\n4 O\\n岁 O\\n、 O\\n封 O\\n开 O\\n人 O\\n） O\\n， O\\n长 O\\n期 O\\n在 O\\n湖 O\\n北 O\\n省 O\\n黄 O\\n冈 O\\n市 O\\n做 O\\n生 O\\n意 O\\n。 O\\n1 O\\n月 O\\n2 O\\n2 O\\n日 O\\n， O\\n乘 O\\n坐 O\\n1 O\\n9 O\\n时 O\\n0 O\\n6 O\\n分 O\\nT O\\n9 O\\n5 O\\n班 O\\n次 O\\n火 O\\n车 O\\n（ O\\n0 O\\n4 O\\n车 O\\n厢 O\\n） O\\n从 O\\n武 O\\n汉 O\\n返 O\\n回 O\\n到 O\\n广 O\\n州 O\\n。 O\\n1 O\\n月 O\\n2 O\\n3 O\\n日 O\\n， O\\n在 O\\n广 O\\n州 O\\n口 O\\n汽 O\\n车 O\\n站 O\\n乘 O\\n坐 O\\n8 O\\n时 O\\n3 O\\n0 O\\n分 O\\n班 O\\n次 O\\n客 O\\n车 O\\n返 O\\n回 O\\n到 O\\n封 O\\n开 O\\n县 O\\n杏 O\\n花 O\\n镇 O\\n新 B-Location\\n和 I-Location\\n村 I-Location\\n家 O\\n中 O\\n。 O\\n2 O\\n月 O\\n1 O\\n日 O\\n， O\\n进 O\\n行 O\\n咽 O\\n拭 O\\n子 O\\n检 O\\n测 O\\n， O\\n2 O\\n月 O\\n4 O\\n日 O\\n， O\\n省 O\\n疾 O\\n控 O\\n中 O\\n心 O\\n新 O\\n型 O\\n冠 O\\n状 O\\n病 O\\n毒 O\\n核 O\\n酸 O\\n检 O\\n测 O\\n复 O\\n核 O\\n结 O\\n果 O\\n阳 O\\n性 O\\n。 O\\n2 O\\n月 O\\n4 O\\n日 O\\n， O\\n在 O\\n肇 O\\n庆 O\\n市 O\\n第 O\\n一 O\\n人 O\\n民 O\\n医 O\\n院 O\\n进 O\\n行 O\\n肺 O\\n部 O\\nC O\\nT O\\n检 O\\n查 O\\n， O\\n显 O\\n示 O\\n肺 O\\n部 O\\n炎 O\\n症 O\\n， O\\n2 O\\n月 O\\n5 O\\n日 O\\n上 O\\n午 O\\n出 O\\n现 O\\n发 O\\n热 O\\n等 O\\n临 O\\n床 O\\n症 O\\n状 O\\n， O\\n确 O\\n诊 O\\n为 O\\n新 O\\n冠 O\\n肺 O\\n炎 O\\n患 O\\n者 O\\n。 O\\n目 O\\n前 O\\n， O\\n正 O\\n在 O\\n定 O\\n点 O\\n医 O\\n院 O\\n规 O\\n范 O\\n治 O\\n疗 O\\n， O\\n病 O\\n人 O\\n病 O\\n情 O\\n稳 O\\n定 O\\n， O\\n生 O\\n命 O\\n体 O\\n征 O\\n良 O\\n好 O\\n。 O\\n病 O\\n例 O\\n1 O\\n2 O\\n病 O\\n例 O\\n7 O\\n江 O\\n某 O\\n的 O\\n大 O\\n儿 O\\n子 O\\n梁 O\\n某 O\\n（ O\\n男 O\\n、 O\\n1 O\\n0 O\\n岁 O\\n、 O\\n端 O\\n州 O\\n人 O\\n） O\\n， O\\n1 O\\n月 O\\n1 O\\n9 O\\n日 O\\n与 O\\n父 O\\n母 O\\n梁 O\\n某 O\\n、 O\\n江 O\\n某 O\\n（ O\\n病 O\\n例 O\\n7 O\\n、 O\\n病 O\\n例 O\\n8 O\\n） O\\n一 O\\n起 O\\n到 O\\n广 O\\n州 O\\n南 O\\n沙 O\\n乘 O\\n坐 O\\n邮 O\\n轮 O\\n到 O\\n越 O\\n南 O\\n旅 O\\n游 O\\n， O\\n1 O\\n月 O\\n2 O\\n4 O\\n日 O\\n与 O\\n父 O\\n母 O\\n从 O\\n广 O\\n州 O\\n南 O\\n沙 O\\n码 O\\n头 O\\n下 O\\n船 O\\n， O\\n自 O\\n驾 O\\n车 O\\n返 O\\n回 O\\n端 O\\n州 O\\n， O\\n2 O\\n月 O\\n1 O\\n日 O\\n江 O\\n某 O\\n确 O\\n诊 O\\n为 O\\n新 O\\n冠 O\\n肺 O\\n炎 O\\n患 O\\n者 O\\n， O\\n2 O\\n月 O\\n5 O\\n日 O\\n江 O\\n某 O\\n的 O\\n大 O\\n儿 O\\n子 O\\n出 O\\n现 O\\n发 O\\n热 O\\n等 O\\n临 O\\n床 O\\n症 O\\n状 O\\n， O\\n2 O\\n月 O\\n5 O\\n日 O\\n确 O\\n诊 O\\n为 O\\n新 O\\n冠 O\\n肺 O\\n炎 O\\n患 O\\n者 O\\n。 O\\n目 O\\n前 O\\n正 O\\n在 O\\n定 O\\n点 O\\n医 O\\n院 O\\n规 O\\n范 O\\n治 O\\n疗 O\\n， O\\n病 O\\n人 O\\n病 O\\n情 O\\n稳 O\\n定 O\\n， O\\n生 O\\n命 O\\n体 O\\n征 O\\n良 O\\n好 O\\n。 O\\n病 O\\n例 O\\n1 O\\n1 O\\n病 O\\n例 O\\n7 O\\n江 O\\n某 O\\n的 O\\n小 O\\n儿 O\\n子 O\\n梁 O\\n某 O\\n（ O\\n男 O\\n、 O\\n3 O\\n岁 O\\n、 O\\n端 O\\n州 O\\n人 O\\n） O\\n， O\\n2 O\\n月 O\\n1 O\\n日 O\\n江 O\\n某 O\\n确 O\\n诊 O\\n为 O\\n新 O\\n冠 O\\n肺 O\\n炎 O\\n患 O\\n者 O\\n， O\\n江 O\\n某 O\\n的 O\\n小 O\\n儿 O\\n子 O\\n为 O\\n确 O\\n诊 O\\n病 O\\n例 O\\n密 O\\n切 O\\n接 O\\n触 O\\n者 O\\n， O\\n2 O\\n月 O\\n4 O\\n日 O\\n江 O\\n某 O\\n的 O\\n小 O\\n儿 O\\n子 O\\n出 O\\n现 O\\n发 O\\n热 O\\n等 O\\n临 O\\n床 O\\n症 O\\n状 O\\n， O\\n2 O\\n月 O\\n4 O\\n日 O\\n确 O\\n诊 O\\n为 O\\n新 O\\n冠 O\\n肺 O\\n炎 O\\n患 O\\n者 O\\n。 O\\n目 O\\n前 O\\n正 O\\n在 O\\n定 O\\n点 O\\n医 O\\n院 O\\n规 O\\n范 O\\n治 O\\n疗 O\\n， O\\n病 O\\n人 O\\n病 O\\n情 O\\n稳 O\\n定 O\\n， O\\n生 O\\n命 O\\n体 O\\n征 O\\n良 O\\n好 O\\n。 O\\n经 O\\n治 O\\n疗 O\\n， O\\n2 O\\n0 O\\n2 O\\n0 O\\n年 O\\n2 O\\n月 O\\n1 O\\n1 O\\n日 O\\n已 O\\n出 O\\n院 O\\n。 O\\n病 O\\n例 O\\n1 O\\n0 O\\n病 O\\n例 O\\n7 O\\n江 O\\n某 O\\n的 O\\n婆 O\\n婆 O\\n钟 O\\n某 O\\n（ O\\n女 O\\n、 O\\n6 O\\n2 O\\n岁 O\\n、 O\\n鼎 O\\n湖 O\\n人 O\\n） O\\n， O\\n2 O\\n月 O\\n1 O\\n日 O\\n江 O\\n某 O\\n确 O\\n诊 O\\n为 O\\n新 O\\n冠 O\\n肺 O\\n炎 O\\n患 O\\n者 O\\n， O\\n钟 O\\n某 O\\n为 O\\n确 O\\n诊 O\\n病 O\\n例 O\\n密 O\\n切 O\\n接 O\\n触 O\\n者 O\\n， O\\n2 O\\n月 O\\n2 O\\n日 O\\n江 O\\n某 O\\n的 O\\n婆 O\\n婆 O\\n进 O\\n行 O\\n肺 O\\n部 O\\nC O\\nT O\\n检 O\\n查 O\\n， O\\n显 O\\n示 O\\n肺 O\\n部 O\\n炎 O\\n症 O\\n。 O\\n2 O\\n月 O\\n3 O\\n日 O\\n江 O\\n某 O\\n的 O\\n婆 O\\n婆 O\\n确 O\\n诊 O\\n为 O\\n新 O\\n冠 O\\n肺 O\\n炎 O\\n患 O\\n者 O\\n。 O\\n目 O\\n前 O\\n正 O\\n在 O\\n定 O\\n点 O\\n医 O\\n院 O\\n规 O\\n范 O\\n治 O\\n疗 O\\n， O\\n病 O\\n人 O\\n病 O\\n情 O\\n稳 O\\n定 O\\n， O\\n生 O\\n命 O\\n体 O\\n征 O\\n良 O\\n好 O\\n。 O\\n病 O\\n例 O\\n9 O\\n病 O\\n例 O\\n7 O\\n江 O\\n某 O\\n的 O\\n公 O\\n公 O\\n梁 O\\n某 O\\n（ O\\n男 O\\n、 O\\n6 O\\n4 O\\n岁 O\\n、 O\\n鼎 O\\n湖 O\\n人 O\\n） O\\n， O\\n2 O\\n月 O\\n1 O\\n日 O\\n江 O\\n某 O\\n确 O\\n诊 O\\n为 O\\n新 O\\n冠 O\\n肺 O\\n炎 O\\n患 O\\n者 O\\n， O\\n梁 O\\n某 O\\n为 O\\n确 O\\n诊 O\\n病 O\\n例 O\\n密 O\\n切 O\\n接 O\\n触 O\\n者 O\\n， O\\n2 O\\n月 O\\n2 O\\n日 O\\n梁 O\\n某 O\\n进 O\\n行 O\\n肺 O\\n部 O\\nC O\\nT O\\n检 O\\n查 O\\n， O\\n显 O\\n示 O\\n肺 O\\n部 O\\n炎 O\\n症 O\\n。 O\\n2 O\\n月 O\\n3 O\\n日 O\\n梁 O\\n某 O\\n确 O\\n诊 O\\n为 O\\n新 O\\n冠 O\\n肺 O\\n炎 O\\n患 O\\n者 O\\n。 O\\n目 O\\n前 O\\n病 O\\n人 O\\n属 O\\n重 O\\n症 O\\n病 O\\n例 O\\n， O\\n正 O\\n在 O\\n定 O\\n点 O\\n医 O\\n院 O\\n规 O\\n范 O\\n治 O\\n疗 O\\n。 O\\n病 O\\n例 O\\n8 O\\n病 O\\n例 O\\n7 O\\n江 O\\n某 O\\n的 O\\n丈 O\\n夫 O\\n梁 O\\n某 O\\n（ O\\n男 O\\n、 O\\n3 O\\n5 O\\n岁 O\\n、 O\\n端 O\\n州 O\\n人 O\\n） O\\n。 O\\n1 O\\n月 O\\n1 O\\n9 O\\n日 O\\n与 O\\n妻 O\\n子 O\\n、 O\\n大 O\\n儿 O\\n子 O\\n一 O\\n起 O\\n， O\\n自 O\\n驾 O\\n车 O\\n到 O\\n广 O\\n州 O\\n南 O\\n沙 O\\n乘 O\\n坐 O\\n邮 O\\n轮 O\\n到 O\\n越 O\\n南 O\\n旅 O\\n游 O\\n， O\\n1 O\\n月 O\\n2 O\\n4 O\\n日 O\\n与 O\\n家 O\\n人 O\\n从 O\\n广 O\\n州 O\\n南 O\\n沙 O\\n码 O\\n头 O\\n下 O\\n船 O\\n， O\\n自 O\\n驾 O\\n车 O\\n返 O\\n回 O\\n端 O\\n州 O\\n， O\\n1 O\\n月 O\\n2 O\\n5 O\\n日 O\\n梁 O\\n某 O\\n出 O\\n现 O\\n发 O\\n热 O\\n症 O\\n状 O\\n， O\\n1 O\\n月 O\\n3 O\\n1 O\\n日 O\\n晚 O\\n上 O\\n到 O\\n肇 O\\n庆 O\\n市 O\\n第 O\\n一 O\\n人 O\\n民 O\\n医 O\\n院 O\\n发 O\\n热 O\\n门 O\\n诊 O\\n就 O\\n医 O\\n。 O\\n2 O\\n月 O\\n3 O\\n日 O\\n梁 O\\n某 O\\n确 O\\n诊 O\\n为 O\\n新 O\\n冠 O\\n肺 O\\n炎 O\\n患 O\\n者 O\\n。 O\\n目 O\\n前 O\\n正 O\\n在 O\\n定 O\\n点 O\\n医 O\\n院 O\\n规 O\\n范 O\\n治 O\\n疗 O\\n， O\\n病 O\\n人 O\\n病 O\\n情 O\\n稳 O\\n定 O\\n， O\\n生 O\\n命 O\\n体 O\\n征 O\\n良 O\\n好 O\\n。 O\\n病 O\\n例 O\\n7 O\\n江 O\\n某 O\\n（ O\\n女 O\\n、 O\\n3 O\\n3 O\\n岁 O\\n、 O\\n端 O\\n州 O\\n人 O\\n） O\\n， O\\n近 O\\n半 O\\n年 O\\n在 O\\n端 O\\n州 O\\n区 O\\n居 O\\n住 O\\n工 O\\n作 O\\n， O\\n无 O\\n明 O\\n显 O\\n疫 O\\n情 O\\n发 O\\n生 O\\n地 O\\n接 O\\n触 O\\n史 O\\n， O\\n1 O\\n月 O\\n1 O\\n9 O\\n日 O\\n与 O\\n丈 O\\n夫 O\\n、 O\\n大 O\\n儿 O\\n子 O\\n一 O\\n起 O\\n， O\\n自 O\\n驾 O\\n车 O\\n到 O\\n广 O\\n州 O\\n南 O\\n沙 O\\n乘 O\\n坐 O\\n邮 O\\n轮 O\\n到 O\\n越 O\\n南 O\\n旅 O\\n游 O\\n， O\\n1 O\\n月 O\\n2 O\\n4 O\\n日 O\\n与 O\\n家 O\\n人 O\\n从 O\\n广 O\\n州 O\\n南 O\\n沙 O\\n码 O\\n头 O\\n下 O\\n船 O\\n， O\\n自 O\\n驾 O\\n车 O\\n返 O\\n回 O\\n端 O\\n州 O\\n， O\\n江 O\\n某 O\\n1 O\\n月 O\\n2 O\\n5 O\\n日 O\\n出 O\\n现 O\\n发 O\\n热 O\\n症 O\\n状 O\\n， O\\n1 O\\n月 O\\n2 O\\n9 O\\n日 O\\n到 O\\n高 O\\n要 O\\n区 O\\n人 O\\n民 O\\n医 O\\n院 O\\n就 O\\n医 O\\n， O\\n1 O\\n月 O\\n3 O\\n1 O\\n日 O\\n到 O\\n肇 O\\n庆 O\\n市 O\\n第 O\\n一 O\\n人 O\\n民 O\\n医 O\\n院 O\\n发 O\\n热 O\\n门 O\\n诊 O\\n就 O\\n医 O\\n。 O\\n2 O\\n月 O\\n1 O\\n日 O\\n江 O\\n某 O\\n确 O\\n诊 O\\n为 O\\n新 O\\n冠 O\\n肺 O\\n炎 O\\n患 O\\n者 O\\n。 O\\n目 O\\n前 O\\n正 O\\n在 O\\n定 O\\n点 O\\n医 O\\n院 O\\n规 O\\n范 O\\n治 O\\n疗 O\\n， O\\n病 O\\n人 O\\n病 O\\n情 O\\n稳 O\\n定 O\\n， O\\n生 O\\n命 O\\n体 O\\n征 O\\n良 O\\n好 O\\n。 O\\n经 O\\n治 O\\n疗 O\\n， O\\n2 O\\n0 O\\n2 O\\n0 O\\n年 O\\n2 O\\n月 O\\n1 O\\n1 O\\n日 O\\n已 O\\n出 O\\n院 O\\n。 O\\n病 O\\n例 O\\n7 O\\n、 O\\n病 O\\n例 O\\n8 O\\n、 O\\n病 O\\n例 O\\n9 O\\n、 O\\n病 O\\n例 O\\n1 O\\n0 O\\n、 O\\n病 O\\n例 O\\n1 O\\n1 O\\n、 O\\n病 O\\n例 O\\n1 O\\n2 O\\n属 O\\n于 O\\n新 O\\n冠 O\\n肺 O\\n炎 O\\n家 O\\n庭 O\\n聚 O\\n集 O\\n性 O\\n病 O\\n例 O\\n。 O\\n病 O\\n例 O\\n6 O\\n谭 O\\n某 O\\n（ O\\n男 O\\n、 O\\n2 O\\n6 O\\n岁 O\\n、 O\\n武 O\\n汉 O\\n人 O\\n） O\\n， O\\n在 O\\n武 O\\n汉 O\\n居 O\\n住 O\\n工 O\\n作 O\\n， O\\n1 O\\n月 O\\n2 O\\n2 O\\n日 O\\n自 O\\n驾 O\\n车 O\\n离 O\\n开 O\\n武 O\\n汉 O\\n， O\\n1 O\\n月 O\\n2 O\\n3 O\\n日 O\\n到 O\\n广 O\\n宁 O\\n旅 O\\n游 O\\n， O\\n1 O\\n月 O\\n2 O\\n3 O\\n日 O\\n到 O\\n当 O\\n地 O\\n医 O\\n院 O\\n检 O\\n查 O\\n， O\\n结 O\\n果 O\\n显 O\\n示 O\\n未 O\\n见 O\\n异 O\\n常 O\\n， O\\n1 O\\n月 O\\n2 O\\n4 O\\n日 O\\n开 O\\n始 O\\n进 O\\n行 O\\n为 O\\n期 O\\n1 O\\n4 O\\n天 O\\n集 O\\n中 O\\n隔 O\\n离 O\\n的 O\\n医 O\\n学 O\\n观 O\\n察 O\\n， O\\n1 O\\n月 O\\n2 O\\n8 O\\n日 O\\n出 O\\n现 O\\n头 O\\n痛 O\\n、 O\\n腹 O\\n泻 O\\n症 O\\n状 O\\n， O\\n1 O\\n月 O\\n2 O\\n9 O\\n日 O\\n住 O\\n院 O\\n隔 O\\n离 O\\n治 O\\n疗 O\\n， O\\n1 O\\n月 O\\n3 O\\n0 O\\n日 O\\n确 O\\n诊 O\\n。 O\\n目 O\\n前 O\\n， O\\n正 O\\n在 O\\n定 O\\n点 O\\n医 O\\n院 O\\n规 O\\n范 O\\n治 O\\n疗 O\\n， O\\n病 O\\n人 O\\n病 O\\n情 O\\n稳 O\\n定 O\\n， O\\n生 O\\n命 O\\n体 O\\n征 O\\n良 O\\n好 O\\n。 O\\n病 O\\n例 O\\n5 O\\n郭 O\\n某 O\\n（ O\\n女 O\\n、 O\\n2 O\\n7 O\\n岁 O\\n、 O\\n高 O\\n要 O\\n人 O\\n） O\\n， O\\n近 O\\n半 O\\n年 O\\n在 O\\n武 O\\n汉 O\\n居 O\\n住 O\\n工 O\\n作 O\\n， O\\n1 O\\n月 O\\n2 O\\n2 O\\n日 O\\n自 O\\n驾 O\\n车 O\\n离 O\\n开 O\\n武 O\\n汉 O\\n回 O\\n肇 O\\n， O\\n1 O\\n月 O\\n2 O\\n3 O\\n日 O\\n到 O\\n肇 O\\n后 O\\n无 O\\n不 O\\n适 O\\n症 O\\n状 O\\n并 O\\n纳 O\\n入 O\\n医 O\\n学 O\\n观 O\\n察 O\\n， O\\n1 O\\n月 O\\n2 O\\n5 O\\n日 O\\n出 O\\n现 O\\n发 O\\n热 O\\n症 O\\n状 O\\n， O\\n1 O\\n月 O\\n2 O\\n6 O\\n日 O\\n住 O\\n院 O\\n隔 O\\n离 O\\n治 O\\n疗 O\\n， O\\n1 O\\n月 O\\n2 O\\n8 O\\n日 O\\n确 O\\n诊 O\\n。 O\\n目 O\\n前 O\\n， O\\n正 O\\n在 O\\n定 O\\n点 O\\n医 O\\n院 O\\n规 O\\n范 O\\n治 O\\n疗 O\\n， O\\n病 O\\n人 O\\n病 O\\n情 O\\n稳 O\\n定 O\\n， O\\n生 O\\n命 O\\n体 O\\n征 O\\n良 O\\n好 O\\n。 O\\n经 O\\n治 O\\n疗 O\\n， O\\n2 O\\n0 O\\n2 O\\n0 O\\n年 O\\n2 O\\n月 O\\n1 O\\n0 O\\n日 O\\n已 O\\n出 O\\n院 O\\n。 O\\n病 O\\n例 O\\n4 O\\n李 O\\n某 O\\n（ O\\n女 O\\n、 O\\n4 O\\n3 O\\n岁 O\\n、 O\\n高 O\\n要 O\\n人 O\\n） O\\n， O\\n近 O\\n半 O\\n年 O\\n在 O\\n高 O\\n要 O\\n居 O\\n住 O\\n工 O\\n作 O\\n， O\\n无 O\\n明 O\\n显 O\\n疫 O\\n情 O\\n发 O\\n生 O\\n地 O\\n接 O\\n触 O\\n史 O\\n， O\\n1 O\\n月 O\\n9 O\\n日 O\\n参 O\\n加 O\\n自 O\\n组 O\\n团 O\\n到 O\\n泰 O\\n国 O\\n旅 O\\n游 O\\n， O\\n乘 O\\n坐 O\\n泰 O\\n国 O\\n亚 O\\n航 O\\nF O\\nD O\\n5 O\\n3 O\\n7 O\\n航 O\\n班 O\\n从 O\\n广 O\\n州 O\\n白 O\\n云 O\\n机 O\\n场 O\\n抵 O\\n达 O\\n廊 O\\n曼 O\\n机 O\\n场 O\\n， O\\n1 O\\n月 O\\n1 O\\n3 O\\n日 O\\n出 O\\n现 O\\n感 O\\n冒 O\\n、 O\\n乏 O\\n力 O\\n症 O\\n状 O\\n， O\\n1 O\\n月 O\\n1 O\\n4 O\\n日 O\\n乘 O\\n坐 O\\n泰 O\\n国 O\\n亚 O\\n航 O\\nF O\\nD O\\n5 O\\n3 O\\n0 O\\n航 O\\n班 O\\n抵 O\\n达 O\\n广 O\\n州 O\\n白 O\\n云 O\\n机 O\\n场 O\\n， O\\n1 O\\n月 O\\n1 O\\n7 O\\n日 O\\n入 O\\n院 O\\n就 O\\n诊 O\\n， O\\n1 O\\n月 O\\n2 O\\n5 O\\n日 O\\n确 O\\n诊 O\\n。 O\\n目 O\\n前 O\\n， O\\n正 O\\n在 O\\n定 O\\n点 O\\n医 O\\n院 O\\n规 O\\n范 O\\n治 O\\n疗 O\\n， O\\n病 O\\n人 O\\n病 O\\n情 O\\n稳 O\\n定 O\\n， O\\n生 O\\n命 O\\n体 O\\n征 O\\n良 O\\n好 O\\n。 O\\n经 O\\n治 O\\n疗 O\\n， O\\n2 O\\n0 O\\n2 O\\n0 O\\n年 O\\n2 O\\n月 O\\n1 O\\n1 O\\n日 O\\n已 O\\n出 O\\n院 O\\n。 O\\n病 O\\n例 O\\n3 O\\n廖 O\\n某 O\\n（ O\\n男 O\\n、 O\\n2 O\\n6 O\\n岁 O\\n、 O\\n高 O\\n要 O\\n人 O\\n） O\\n， O\\n近 O\\n半 O\\n年 O\\n在 O\\n武 O\\n汉 O\\n居 O\\n住 O\\n工 O\\n作 O\\n， O\\n1 O\\n月 O\\n1 O\\n9 O\\n日 O\\n从 O\\n武 O\\n汉 O\\n乘 O\\n坐 O\\n飞 O\\n机 O\\n到 O\\n广 O\\n州 O\\n白 O\\n云 O\\n机 O\\n场 O\\n， O\\n随 O\\n后 O\\n由 O\\n同 O\\n事 O\\n接 O\\n载 O\\n回 O\\n端 O\\n州 O\\n， O\\n1 O\\n月 O\\n2 O\\n1 O\\n日 O\\n出 O\\n现 O\\n发 O\\n热 O\\n症 O\\n状 O\\n并 O\\n入 O\\n院 O\\n就 O\\n诊 O\\n， O\\n1 O\\n月 O\\n2 O\\n5 O\\n日 O\\n确 O\\n诊 O\\n。 O\\n经 O\\n治 O\\n疗 O\\n， O\\n2 O\\n0 O\\n2 O\\n0 O\\n年 O\\n2 O\\n月 O\\n8 O\\n日 O\\n已 O\\n出 O\\n院 O\\n。 O\\n病 O\\n例 O\\n2 O\\n林 O\\n某 O\\n（ O\\n男 O\\n、 O\\n3 O\\n7 O\\n岁 O\\n、 O\\n端 O\\n州 O\\n人 O\\n） O\\n， O\\n近 O\\n半 O\\n年 O\\n在 O\\n武 O\\n汉 O\\n居 O\\n住 O\\n工 O\\n作 O\\n， O\\n1 O\\n月 O\\n2 O\\n2 O\\n日 O\\n乘 O\\n坐 O\\n武 O\\n广 O\\n高 O\\n铁 O\\nG O\\n9 O\\n5 O\\n班 O\\n次 O\\n列 O\\n车 O\\n回 O\\n到 O\\n广 O\\n州 O\\n南 O\\n， O\\n在 O\\n广 O\\n州 O\\n南 O\\n站 O\\n客 O\\n运 O\\n站 O\\n乘 O\\n坐 O\\n前 O\\n往 O\\n端 O\\n州 O\\n的 O\\n大 O\\n巴 O\\n， O\\n再 O\\n乘 O\\n坐 O\\n滴 O\\n滴 O\\n车 O\\n回 O\\n端 O\\n州 O\\n。 O\\n在 O\\n武 O\\n汉 O\\n归 O\\n家 O\\n途 O\\n中 O\\n开 O\\n始 O\\n发 O\\n热 O\\n， O\\n但 O\\n自 O\\n己 O\\n除 O\\n乏 O\\n力 O\\n外 O\\n无 O\\n感 O\\n觉 O\\n到 O\\n其 O\\n他 O\\n不 O\\n适 O\\n， O\\n在 O\\n进 O\\n家 O\\n门 O\\n前 O\\n妻 O\\n子 O\\n发 O\\n现 O\\n其 O\\n体 O\\n温 O\\n异 O\\n常 O\\n， O\\n其 O\\n妻 O\\n子 O\\n自 O\\n驾 O\\n车 O\\n送 O\\n患 O\\n者 O\\n到 O\\n医 O\\n院 O\\n就 O\\n诊 O\\n， O\\n1 O\\n月 O\\n2 O\\n4 O\\n日 O\\n确 O\\n诊 O\\n。 O\\n经 O\\n治 O\\n疗 O\\n， O\\n2 O\\n0 O\\n2 O\\n0 O\\n年 O\\n2 O\\n月 O\\n8 O\\n日 O\\n已 O\\n出 O\\n院 O\\n。 O\\n病 O\\n例 O\\n1 O\\n黎 O\\n某 O\\n（ O\\n女 O\\n、 O\\n2 O\\n5 O\\n岁 O\\n、 O\\n四 O\\n会 O\\n人 O\\n） O\\n， O\\n近 O\\n半 O\\n年 O\\n在 O\\n武 O\\n汉 O\\n居 O\\n住 O\\n工 O\\n作 O\\n。 O\\n1 O\\n月 O\\n1 O\\n1 O\\n日 O\\n出 O\\n现 O\\n鼻 O\\n塞 O\\n、 O\\n流 O\\n涕 O\\n、 O\\n间 O\\n歇 O\\n性 O\\n咳 O\\n嗽 O\\n等 O\\n症 O\\n状 O\\n， O\\n1 O\\n月 O\\n1 O\\n3 O\\n日 O\\n和 O\\n1 O\\n6 O\\n日 O\\n在 O\\n武 O\\n汉 O\\n医 O\\n院 O\\n就 O\\n诊 O\\n， O\\n1 O\\n月 O\\n1 O\\n7 O\\n日 O\\n乘 O\\n坐 O\\nG O\\n1 O\\n0 O\\n1 O\\n5 O\\n次 O\\n列 O\\n车 O\\n（ O\\n座 O\\n位 O\\n号 O\\n3 O\\n车 O\\n厢 O\\n） O\\n回 O\\n广 O\\n州 O\\n南 O\\n站 O\\n， O\\n在 O\\n广 O\\n州 O\\n南 O\\n站 O\\n客 O\\n运 O\\n站 O\\n乘 O\\n坐 O\\n前 O\\n往 O\\n四 O\\n会 O\\n的 O\\n大 O\\n巴 O\\n， O\\n再 O\\n乘 O\\n坐 O\\n滴 O\\n滴 O\\n车 O\\n回 O\\n四 O\\n会 O\\n， O\\n1 O\\n月 O\\n1 O\\n8 O\\n日 O\\n入 O\\n院 O\\n就 O\\n诊 O\\n， O\\n1 O\\n月 O\\n2 O\\n2 O\\n日 O\\n确 O\\n诊 O\\n。 O\\n经 O\\n治 O\\n疗 O\\n， O\\n2 O\\n0 O\\n2 O\\n0 O\\n年 O\\n1 O\\n月 O\\n3 O\\n1 O\\n日 O\\n已 O\\n出 O\\n院 O\\n。 O\\n全 O\\n市 O\\n累 O\\n计 O\\n确 O\\n诊 O\\n病 O\\n例 O\\n涉 O\\n及 O\\n的 O\\n小 O\\n区 O\\n或 O\\n场 O\\n所 O\\n1 O\\n端 O\\n州 O\\n区 O\\n： O\\n睦 B-Location\\n岗 I-Location\\n街 I-Location\\n道 I-Location\\n锦 I-Location\\n绣 I-Location\\n山 I-Location\\n河 I-Location\\n小 I-Location\\n区 I-Location\\n、 O\\n城 B-Location\\n东 I-Location\\n街 I-Location\\n道 I-Location\\n帝 I-Location\\n和 I-Location\\n豪 I-Location\\n庭 I-Location\\n小 I-Location\\n区 I-Location\\n. O\\n鼎 O\\n湖 O\\n区 O\\n： O\\n坑 B-Location\\n口 I-Location\\n街 I-Location\\n道 I-Location\\n一 I-Location\\n米 I-Location\\n阳 I-Location\\n光 I-Location\\n小 I-Location\\n区 I-Location\\n. O\\n高 O\\n要 O\\n区 O\\n： O\\n南 B-Location\\n岸 I-Location\\n街 I-Location\\n道 I-Location\\n珀 I-Location\\n丽 I-Location\\n湾 I-Location\\n小 I-Location\\n区 I-Location\\n、 O\\n南 B-Location\\n岸 I-Location\\n街 I-Location\\n道 I-Location\\n帝 I-Location\\n景 I-Location\\n蓝 I-Location\\n湾 I-Location\\n小 I-Location\\n区 I-Location\\n、 O\\n大 B-Location\\n湾 I-Location\\n镇 I-Location\\n禄 I-Location\\n岸 I-Location\\n村 I-Location\\n. O\\n四 O\\n会 O\\n市 O\\n： O\\n东 B-Location\\n城 I-Location\\n街 I-Location\\n道 I-Location\\n九 I-Location\\n龙 I-Location\\n湾 I-Location\\n小 I-Location\\n区 I-Location\\n广 I-Location\\n宁 I-Location\\n县 I-Location\\n： O\\n南 B-Location\\n街 I-Location\\n镇 I-Location\\n碧 I-Location\\n翠 I-Location\\n湖 I-Location\\n度 I-Location\\n假 I-Location\\n村 I-Location\\n. O\\n封 O\\n开 O\\n县 O\\n： O\\n封 O\\n开 O\\n县 O\\n杏 B-Location\\n花 I-Location\\n镇 I-Location\\n新 I-Location\\n和 I-Location\\n村 I-Location\\n、 O\\n江 O\\n口 O\\n镇 O\\n乐 B-Location\\n惠 I-Location\\n士 I-Location\\n多 I-Location\\n店 I-Location\\n、 O\\n江 O\\n口 O\\n镇 O\\n曙 B-Location\\n光 I-Location\\n路 I-Location\\n3 I-Location\\n1 I-Location\\n号 I-Location\\n、 O\\n封 O\\n开 O\\n县 O\\n广 B-Location\\n信 I-Location\\n嘉 I-Location\\n园 I-Location\\n、 O\\n封 O\\n开 O\\n县 O\\n唐 B-Location\\n八 I-Location\\n叔 I-Location\\n清 I-Location\\n补 I-Location\\n羊 I-Location\\n火 I-Location\\n锅 I-Location\\n店 I-Location\\n、 O\\n封 O\\n开 O\\n县 O\\n江 B-Location\\n口 I-Location\\n镇 I-Location\\n东 I-Location\\n方 I-Location\\n二 I-Location\\n路 I-Location\\n1 I-Location\\n1 I-Location\\n5 I-Location\\n号 I-Location\\n、 O\\n江 O\\n口 O\\n镇 O\\n宾 B-Location\\n悦 I-Location\\n酒 I-Location\\n店 I-Location\\n、 O\\n井 B-Location\\n根 I-Location\\n农 I-Location\\n贸 I-Location\\n市 I-Location\\n场 I-Location\\n、 O\\n江 O\\n口 O\\n镇 O\\n东 B-Location\\n堤 I-Location\\n路 I-Location\\n2 I-Location\\n5 I-Location\\n号 I-Location\\n、 O\\n杏 B-Location\\n花 I-Location\\n宾 I-Location\\n馆 I-Location\\n宿 I-Location\\n舍 I-Location\\n、 O\\n封 O\\n开 O\\n县 O\\n江 O\\n口 O\\n镇 O\\n水 B-Location\\n上 I-Location\\n居 I-Location\\n民 I-Location\\n安 I-Location\\n置 I-Location\\n楼 I-Location\\n、 O\\n江 O\\n口 O\\n镇 O\\n星 B-Location\\n辉 I-Location\\n曲 I-Location\\n艺 I-Location\\n社 I-Location\\n江 I-Location\\n口 I-Location\\n社 I-Location\\n区 I-Location\\n、 O\\n平 O\\n凤 O\\n镇 O\\n新 B-Location\\n围 I-Location\\n村 I-Location\\n、 O\\n封 O\\n开 O\\n县 O\\n江 O\\n口 O\\n镇 O\\n河 B-Location\\n堤 I-Location\\n二 I-Location\\n路 I-Location\\n2 I-Location\\n2 I-Location\\n号 I-Location\\n、 O\\n江 O\\n口 O\\n镇 O\\n蝴 B-Location\\n蝶 I-Location\\n塘 I-Location\\n路 I-Location\\n. O\\n封 O\\n开 O\\n县 O\\n曲 B-Location\\n艺 I-Location\\n社 I-Location\\n、 O\\n好 B-Location\\n又 I-Location\\n多 I-Location\\n超 I-Location\\n市 I-Location\\n。 O\\n肇 O\\n庆 O\\n市 O\\n1 O\\n7 O\\n例 O\\n确 O\\n诊 O\\n病 O\\n例 O\\n涉 O\\n及 O\\n6 O\\n个 O\\n县 O\\n（ O\\n市 O\\n、 O\\n区 O\\n） O\\n2 O\\n4 O\\n个 O\\n小 O\\n区 O\\n或 O\\n场 O\\n所 O\\n， O\\n发 O\\n现 O\\n确 O\\n诊 O\\n病 O\\n例 O\\n后 O\\n， O\\n市 O\\n、 O\\n县 O\\n两 O\\n级 O\\n疾 O\\n控 O\\n部 O\\n门 O\\n已 O\\n立 O\\n即 O\\n对 O\\n所 O\\n涉 O\\n及 O\\n的 O\\n小 O\\n区 O\\n或 O\\n场 O\\n所 O\\n进 O\\n行 O\\n了 O\\n严 O\\n格 O\\n的 O\\n终 O\\n末 O\\n消 O\\n毒 O\\n， O\\n督 O\\n促 O\\n指 O\\n导 O\\n社 O\\n区 O\\n和 O\\n物 O\\n业 O\\n做 O\\n好 O\\n日 O\\n常 O\\n预 O\\n防 O\\n性 O\\n消 O\\n毒 O\\n工 O\\n作 O\\n。 O\\n与 O\\n病 O\\n例 O\\n有 O\\n关 O\\n的 O\\n密 O\\n切 O\\n接 O\\n触 O\\n者 O\\n已 O\\n送 O\\n指 O\\n定 O\\n场 O\\n所 O\\n进 O\\n行 O\\n集 O\\n中 O\\n隔 O\\n离 O\\n医 O\\n学 O\\n观 O\\n察 O\\n。 O\\n希 O\\n望 O\\n大 O\\n家 O\\n做 O\\n好 O\\n个 O\\n人 O\\n防 O\\n护 O\\n。 O\\n1 O\\n相 O\\n关 O\\n链 O\\n接 O\\n： O\\n肇 O\\n庆 O\\n市 O\\n民 O\\n， O\\n轻 O\\n微 O\\n发 O\\n热 O\\n不 O\\n用 O\\n跑 O\\n医 O\\n院 O\\n！ O\\n这 O\\n里 O\\n可 O\\n免 O\\n费 O\\n咨 O\\n询 O\\n专 O\\n家 O\\n； O\\n一 O\\n图 O\\n读 O\\n懂 O\\n新 O\\n型 O\\n冠 O\\n状 O\\n病 O\\n毒 O\\n传 O\\n播 O\\n途 O\\n径 O\\n与 O\\n预 O\\n防 O\\n指 O\\n南 O\\n！ O\\n编 O\\n辑 O\\n健 O\\n康 O\\n肇 O\\n庆 O\\n编 O\\n辑 O\\n部 O\\n热 O\\n点 O\\n回 O\\n顾 O\\n今 O\\n天 O\\n， O\\n肇 O\\n庆 O\\n3 O\\n例 O\\n确 O\\n诊 O\\n患 O\\n者 O\\n治 O\\n愈 O\\n出 O\\n院 O\\n！ O\\n包 O\\n括 O\\n一 O\\n名 O\\n3 O\\n岁 O\\n儿 O\\n童 O\\n今 O\\n天 O\\n， O\\n肇 O\\n庆 O\\n第 O\\n二 O\\n批 O\\n驰 O\\n援 O\\n湖 O\\n北 O\\n医 O\\n疗 O\\n队 O\\n出 O\\n征 O\\n！ O\\n请 O\\n平 O\\n安 O\\n归 O\\n来 O\\n点 O\\n个 O\\n在 O\\n看 O\\n让 O\\n更 O\\n多 O\\n人 O\\n知 O\\n道 O\\n！ O\\n\\n抗 O\\n击 O\\n疫 O\\n情 O\\n庆 O\\n在 O\\n行 O\\n动 O\\n健 O\\n康 O\\n肇 O\\n庆 O\\n疫 O\\n情 O\\n通 O\\n报 O\\n截 O\\n至 O\\n2 O\\n月 O\\n1 O\\n3 O\\n日 O\\n2 O\\n4 O\\n时 O\\n: O\\n肇 O\\n庆 O\\n市 O\\n累 O\\n计 O\\n报 O\\n告 O\\n新 O\\n冠 O\\n肺 O\\n炎 O\\n确 O\\n诊 O\\n病 O\\n例 O\\n1 O\\n7 O\\n例 O\\n。 O\\n其 O\\n中 O\\n: O\\n端 O\\n州 O\\n区 O\\n5 O\\n例 O\\n, O\\n鼎 O\\n湖 O\\n2 O\\n例 O\\n、 O\\n高 O\\n要 O\\n区 O\\n3 O\\n例 O\\n、 O\\n四 O\\n会 O\\n市 O\\n1 O\\n例 O\\n、 O\\n广 O\\n宁 O\\n县 O\\n1 O\\n例 O\\n、 O\\n封 O\\n开 O\\n县 O\\n5 O\\n例 O\\n。 O\\n5 O\\n例 O\\n鼎 O\\n湖 O\\n区 O\\n2 O\\n例 O\\n高 O\\n要 O\\n区 O\\n3 O\\n例 O\\n四 O\\n会 O\\n市 O\\n1 O\\n例 O\\n广 O\\n宁 O\\n县 O\\n1 O\\n例 O\\n德 O\\n庆 O\\n县 O\\n0 O\\n例 O\\n封 O\\n开 O\\n县 O\\n5 O\\n例 O\\n怀 O\\n集 O\\n县 O\\n0 O\\n例 O\\n高 O\\n新 O\\n区 O\\n0 O\\n例 O\\n累 O\\n计 O\\n出 O\\n院 O\\n7 O\\n例 O\\n, O\\n死 O\\n亡 O\\n1 O\\n例 O\\n。 O\\n确 O\\n诊 O\\n重 O\\n症 O\\n危 O\\n重 O\\n症 O\\n治 O\\n意 O\\n死 O\\n亡 O\\ng O\\n6 O\\n0 O\\n3 O\\n0 O\\n鼎 O\\n湖 O\\n2 O\\n0 O\\no O\\n四 O\\n会 O\\n市 O\\n1 O\\n0 O\\n宁 O\\n县 O\\n0 O\\n德 O\\n庆 O\\n县 O\\n0 O\\n封 O\\n开 O\\n县 O\\n高 O\\n新 O\\n区 O\\n0 O\\n疫 O\\n情 O\\n通 O\\n报 O\\n目 O\\n前 O\\n, O\\n1 O\\n7 O\\n例 O\\n确 O\\n诊 O\\n病 O\\n例 O\\n年 O\\n岭 O\\n介 O\\n于 O\\n3 O\\n岁 O\\n到 O\\n6 O\\n5 O\\n岁 O\\n之 O\\n, O\\n其 O\\n中 O\\n0 O\\n- O\\n1 O\\n0 O\\n岁 O\\n2 O\\n例 O\\n, O\\n2 O\\n1 O\\n- O\\n3 O\\n0 O\\n岁 O\\n5 O\\n例 O\\n, O\\n3 O\\n1 O\\n- O\\n4 O\\n0 O\\n岁 O\\n3 O\\n例 O\\n, O\\n4 O\\n1 O\\n- O\\n5 O\\n0 O\\n岁 O\\n1 O\\n例 O\\n, O\\n5 O\\n1 O\\n- O\\n6 O\\n0 O\\n岁 O\\n2 O\\n例 O\\n, O\\n6 O\\n1 O\\n- O\\n7 O\\n0 O\\n岁 O\\n4 O\\n列 O\\n。 O\\n5 O\\n例 O\\n4 O\\n例 O\\n3 O\\n例 O\\n2 O\\n例 O\\n1 O\\n例 O\\n0 O\\n- O\\n1 O\\n0 O\\n1 O\\n1 O\\n- O\\n2 O\\n0 O\\n2 O\\n1 O\\n- O\\n3 O\\n0 O\\n3 O\\n1 O\\n- O\\n4 O\\n0 O\\n4 O\\n1 O\\n- O\\n5 O\\n0 O\\n5 O\\n1 O\\n- O\\n6 O\\n0 O\\n6 O\\n1 O\\n- O\\n7 O\\n0 O\\n防 O\\n新 O\\n型 O\\n冠 O\\n病 O\\n者 O\\n巵 O\\n的 O\\n肺 O\\n炎 O\\n酸 O\\n把 O\\n人 O\\n民 O\\n群 O\\n众 O\\n生 O\\n命 O\\n安 O\\n全 O\\n和 O\\n身 O\\n体 O\\n健 O\\n康 O\\n放 O\\n在 O\\n第 O\\n一 O\\n位 O\\n把 O\\n疫 O\\n情 O\\n防 O\\n控 O\\n工 O\\n作 O\\n作 O\\n为 O\\n当 O\\n前 O\\n最 O\\n重 O\\n要 O\\n的 O\\n工 O\\n作 O\\n来 O\\n抓 O\\n2 O\\n疫 O\\n情 O\\n就 O\\n是 O\\n命 O\\n令 O\\n防 O\\n控 O\\n就 O\\n是 O\\n责 O\\n任 O\\n3 O\\n坚 O\\n定 O\\n信 O\\n心 O\\n、 O\\n同 O\\n舟 O\\n共 O\\n济 O\\n、 O\\n科 O\\n学 O\\n防 O\\n治 O\\n、 O\\n精 O\\n准 O\\n施 O\\n策 O\\n坚 O\\n决 O\\n打 O\\n嬴 O\\n疫 O\\n情 O\\n防 O\\n控 O\\n阻 O\\n击 O\\n战 O\\n4 O\\n做 O\\n好 O\\n疫 O\\n情 O\\n监 O\\n测 O\\n、 O\\n排 O\\n查 O\\n、 O\\n预 O\\n警 O\\n等 O\\n工 O\\n作 O\\n做 O\\n到 O\\n早 O\\n发 O\\n现 O\\n、 O\\n早 O\\n报 O\\n告 O\\n、 O\\n早 O\\n隔 O\\n离 O\\n、 O\\n早 O\\n治 O\\n疗 O\\n5 O\\n全 O\\n力 O\\n遏 O\\n制 O\\n疫 O\\n情 O\\n扩 O\\n散 O\\n蔓 O\\n延 O\\n维 O\\n护 O\\n人 O\\n民 O\\n生 O\\n命 O\\n安 O\\n全 O\\n和 O\\n身 O\\n体 O\\n健 O\\n康 O\\n全 O\\n省 O\\n动 O\\n员 O\\n全 O\\n民 O\\n行 O\\n动 O\\n集 O\\n中 O\\n力 O\\n量 O\\n坚 O\\n决 O\\n打 O\\n赢 O\\n疫 O\\n情 O\\n防 O\\n控 O\\n这 O\\n场 O\\n硬 O\\n仗 O\\n\\t O\\n2 O\\n0 O\\n2 O\\n0 O\\n年 O\\n\\n\\n\\n1 O\\n日 O\\n， O\\n江 O\\n西 O\\n省 O\\n卫 O\\n生 O\\n健 O\\n康 O\\n委 O\\n发 O\\n布 O\\n疫 O\\n情 O\\n通 O\\n报 O\\n， O\\n2 O\\n0 O\\n2 O\\n0 O\\n年 O\\n1 O\\n月 O\\n3 O\\n1 O\\n日 O\\n0 O\\n- O\\n2 O\\n4 O\\n时 O\\n， O\\n江 O\\n西 O\\n省 O\\n报 O\\n告 O\\n新 O\\n型 O\\n冠 O\\n状 O\\n病 O\\n毒 O\\n感 O\\n染 O\\n的 O\\n肺 O\\n炎 O\\n新 O\\n增 O\\n确 O\\n诊 O\\n病 O\\n例 O\\n4 O\\n7 O\\n例 O\\n， O\\n\\n累 O\\n计 O\\n确 O\\n诊 O\\n病 O\\n例 O\\n\\n2 O\\n8 O\\n6 O\\n例 O\\n（ O\\n国 O\\n家 O\\n核 O\\n减 O\\n九 O\\n江 O\\n市 O\\n确 O\\n诊 O\\n病 O\\n例 O\\n1 O\\n例 O\\n） O\\n， O\\n其 O\\n中 O\\n重 O\\n症 O\\n病 O\\n例 O\\n3 O\\n3 O\\n例 O\\n， O\\n出 O\\n院 O\\n病 O\\n例 O\\n9 O\\n例 O\\n。 O\\n其 O\\n中 O\\n南 O\\n昌 O\\n市 O\\n报 O\\n告 O\\n新 O\\n增 O\\n新 O\\n型 O\\n冠 O\\n状 O\\n病 O\\n毒 O\\n感 O\\n染 O\\n的 O\\n肺 O\\n炎 O\\n确 O\\n诊 O\\n病 O\\n例 O\\n1 O\\n6 O\\n例 O\\n， O\\n\\n累 O\\n计 O\\n报 O\\n告 O\\n确 O\\n诊 O\\n病 O\\n例 O\\n\\n8 O\\n3 O\\n例 O\\n（ O\\n含 O\\n重 O\\n症 O\\n病 O\\n例 O\\n2 O\\n2 O\\n例 O\\n） O\\n。 O\\n\\n新 O\\n增 O\\n确 O\\n诊 O\\n病 O\\n例 O\\n中 O\\n， O\\n南 O\\n昌 O\\n县 O\\n\\n2 O\\n例 O\\n； O\\n进 O\\n贤 O\\n县 O\\n1 O\\n例 O\\n； O\\n安 O\\n义 O\\n县 O\\n1 O\\n例 O\\n； O\\n西 O\\n湖 O\\n区 O\\n3 O\\n例 O\\n； O\\n青 O\\n云 O\\n谱 O\\n区 O\\n2 O\\n例 O\\n； O\\n青 O\\n山 O\\n湖 O\\n区 O\\n2 O\\n例 O\\n； O\\n高 O\\n新 O\\n区 O\\n5 O\\n例 O\\n。 O\\n\\n各 O\\n县 O\\n（ O\\n区 O\\n） O\\n已 O\\n确 O\\n诊 O\\n病 O\\n例 O\\n中 O\\n， O\\n南 O\\n昌 O\\n县 O\\n\\n1 O\\n5 O\\n例 O\\n； O\\n进 O\\n贤 O\\n县 O\\n9 O\\n例 O\\n； O\\n安 O\\n义 O\\n县 O\\n4 O\\n例 O\\n； O\\n东 O\\n湖 O\\n区 O\\n6 O\\n例 O\\n； O\\n西 O\\n湖 O\\n区 O\\n1 O\\n7 O\\n例 O\\n； O\\n青 O\\n山 O\\n湖 O\\n区 O\\n5 O\\n例 O\\n； O\\n青 O\\n云 O\\n谱 O\\n区 O\\n4 O\\n例 O\\n； O\\n新 O\\n建 O\\n区 O\\n3 O\\n例 O\\n； O\\n经 O\\n开 O\\n区 O\\n1 O\\n例 O\\n； O\\n高 O\\n新 O\\n区 O\\n1 O\\n7 O\\n例 O\\n； O\\n红 O\\n谷 O\\n滩 O\\n新 O\\n区 O\\n2 O\\n例 O\\n。 O\\n\\n目 O\\n前 O\\n追 O\\n踪 O\\n到 O\\n密 O\\n切 O\\n接 O\\n触 O\\n者 O\\n\\n9 O\\n2 O\\n7 O\\n人 O\\n（ O\\n含 O\\n已 O\\n解 O\\n除 O\\n隔 O\\n离 O\\n7 O\\n人 O\\n） O\\n， O\\n均 O\\n正 O\\n在 O\\n实 O\\n施 O\\n医 O\\n学 O\\n观 O\\n察 O\\n。 O\\n\\n附 O\\n件 O\\n： O\\n\\n南 O\\n昌 O\\n市 O\\n新 O\\n型 O\\n冠 O\\n状 O\\n病 O\\n毒 O\\n感 O\\n染 O\\n的 O\\n肺 O\\n炎 O\\n情 O\\n况 O\\n一 O\\n览 O\\n表 O\\n\\t O\\n更 O\\n新 O\\n时 O\\n间 O\\n： O\\n2 O\\n0 O\\n2 O\\n0 O\\n年 O\\n2 O\\n月 O\\n1 O\\n1 O\\n日 O\\n2 O\\n4 O\\n时 O\\n\\n1 O\\n、 O\\n男 O\\n， O\\n4 O\\n9 O\\n岁 O\\n， O\\n现 O\\n住 O\\n淮 O\\n安 O\\n经 O\\n济 O\\n技 O\\n术 O\\n开 O\\n发 O\\n区 O\\n大 B-Location\\n湖 I-Location\\n城 I-Location\\n邦 I-Location\\n小 I-Location\\n区 I-Location\\n， O\\n无 O\\n湖 O\\n北 O\\n居 O\\n住 O\\n史 O\\n和 O\\n旅 O\\n行 O\\n史 O\\n。 O\\n1 O\\n月 O\\n2 O\\n0 O\\n日 O\\n在 O\\n淮 O\\n安 O\\n区 O\\n浅 B-Location\\n深 I-Location\\n浴 I-Location\\n室 I-Location\\n洗 O\\n浴 O\\n， O\\n下 O\\n午 O\\n与 O\\n我 O\\n市 O\\n一 O\\n名 O\\n确 O\\n诊 O\\n患 O\\n者 O\\n有 O\\n接 O\\n触 O\\n； O\\n1 O\\n月 O\\n2 O\\n7 O\\n日 O\\n自 O\\n觉 O\\n不 O\\n适 O\\n； O\\n1 O\\n月 O\\n2 O\\n9 O\\n日 O\\n晚 O\\n出 O\\n现 O\\n发 O\\n热 O\\n、 O\\n咳 O\\n嗽 O\\n症 O\\n状 O\\n； O\\n1 O\\n月 O\\n3 O\\n1 O\\n日 O\\n至 O\\n2 O\\n月 O\\n3 O\\n日 O\\n驾 O\\n车 O\\n前 O\\n往 O\\n淮 O\\n阴 O\\n区 O\\n一 O\\n私 O\\n人 O\\n诊 O\\n所 O\\n输 O\\n液 O\\n治 O\\n疗 O\\n； O\\n2 O\\n月 O\\n4 O\\n日 O\\n下 O\\n午 O\\n驾 O\\n车 O\\n前 O\\n往 O\\n淮 O\\n阴 O\\n区 O\\n营 O\\n中 O\\n社 O\\n区 O\\n卫 O\\n生 O\\n服 O\\n务 O\\n中 O\\n心 O\\n就 O\\n诊 O\\n， O\\n后 O\\n转 O\\n至 O\\n淮 O\\n安 O\\n市 O\\n淮 O\\n阴 O\\n医 O\\n院 O\\n， O\\n入 O\\n院 O\\n隔 O\\n离 O\\n观 O\\n察 O\\n治 O\\n疗 O\\n； O\\n2 O\\n月 O\\n5 O\\n日 O\\n转 O\\n至 O\\n淮 O\\n安 O\\n市 O\\n第 O\\n四 O\\n人 O\\n民 O\\n医 O\\n院 O\\n； O\\n2 O\\n月 O\\n7 O\\n日 O\\n被 O\\n确 O\\n诊 O\\n为 O\\n新 O\\n型 O\\n冠 O\\n状 O\\n病 O\\n毒 O\\n感 O\\n染 O\\n的 O\\n肺 O\\n炎 O\\n。 O\\n\\n2 O\\n、 O\\n男 O\\n， O\\n5 O\\n2 O\\n岁 O\\n， O\\n现 O\\n住 O\\n淮 O\\n安 O\\n经 O\\n济 O\\n技 O\\n术 O\\n开 O\\n发 O\\n区 O\\n东 B-Location\\n方 I-Location\\n凯 I-Location\\n旋 I-Location\\n城 I-Location\\n小 I-Location\\n区 I-Location\\n， O\\n无 O\\n湖 O\\n北 O\\n居 O\\n住 O\\n史 O\\n和 O\\n旅 O\\n行 O\\n史 O\\n， O\\n与 O\\n我 O\\n市 O\\n一 O\\n确 O\\n诊 O\\n患 O\\n者 O\\n打 O\\n过 O\\n牌 O\\n， O\\n系 O\\n密 O\\n切 O\\n接 O\\n触 O\\n者 O\\n。 O\\n1 O\\n月 O\\n2 O\\n9 O\\n日 O\\n出 O\\n现 O\\n头 O\\n痛 O\\n、 O\\n咳 O\\n嗽 O\\n、 O\\n发 O\\n热 O\\n等 O\\n症 O\\n状 O\\n， O\\n至 O\\n淮 O\\n安 O\\n市 O\\n第 O\\n二 O\\n人 O\\n民 O\\n医 O\\n院 O\\n就 O\\n诊 O\\n， O\\n口 O\\n服 O\\n药 O\\n物 O\\n治 O\\n疗 O\\n； O\\n1 O\\n月 O\\n3 O\\n0 O\\n日 O\\n自 O\\n觉 O\\n症 O\\n状 O\\n未 O\\n缓 O\\n解 O\\n， O\\n至 O\\n淮 O\\n安 O\\n市 O\\n第 O\\n一 O\\n人 O\\n民 O\\n医 O\\n院 O\\n就 O\\n诊 O\\n， O\\n1 O\\n月 O\\n3 O\\n1 O\\n日 O\\n晚 O\\n接 O\\n受 O\\n输 O\\n液 O\\n治 O\\n疗 O\\n， O\\n至 O\\n2 O\\n月 O\\n1 O\\n日 O\\n凌 O\\n晨 O\\n回 O\\n家 O\\n， O\\n在 O\\n家 O\\n休 O\\n息 O\\n一 O\\n天 O\\n； O\\n2 O\\n月 O\\n2 O\\n日 O\\n上 O\\n午 O\\n再 O\\n次 O\\n发 O\\n烧 O\\n， O\\n至 O\\n清 O\\n江 O\\n浦 O\\n区 O\\n钵 O\\n池 O\\n山 O\\n社 O\\n区 O\\n卫 O\\n生 O\\n服 O\\n务 O\\n中 O\\n心 O\\n就 O\\n诊 O\\n， O\\n服 O\\n药 O\\n治 O\\n疗 O\\n； O\\n2 O\\n月 O\\n3 O\\n日 O\\n至 O\\n5 O\\n日 O\\n在 O\\n淮 O\\n安 O\\n市 O\\n第 O\\n一 O\\n人 O\\n民 O\\n医 O\\n院 O\\n输 O\\n液 O\\n治 O\\n疗 O\\n， O\\n2 O\\n月 O\\n7 O\\n日 O\\n入 O\\n院 O\\n隔 O\\n离 O\\n观 O\\n察 O\\n治 O\\n疗 O\\n， O\\n当 O\\n晚 O\\n转 O\\n至 O\\n淮 O\\n安 O\\n市 O\\n第 O\\n四 O\\n人 O\\n民 O\\n医 O\\n院 O\\n； O\\n2 O\\n月 O\\n9 O\\n日 O\\n被 O\\n确 O\\n诊 O\\n为 O\\n新 O\\n型 O\\n冠 O\\n状 O\\n病 O\\n毒 O\\n感 O\\n染 O\\n的 O\\n肺 O\\n炎 O\\n。 O\\n\\n温 O\\n馨 O\\n提 O\\n示 O\\n： O\\n淮 O\\n安 O\\n新 O\\n型 O\\n冠 O\\n状 O\\n病 O\\n毒 O\\n的 O\\n最 O\\n新 O\\n疫 O\\n情 O\\n是 O\\n怎 O\\n样 O\\n的 O\\n？ O\\n淮 O\\n安 O\\n新 O\\n型 O\\n冠 O\\n状 O\\n病 O\\n毒 O\\n的 O\\n传 O\\n播 O\\n途 O\\n径 O\\n有 O\\n哪 O\\n些 O\\n？ O\\n微 O\\n信 O\\n搜 O\\n索 O\\n并 O\\n关 O\\n注 O\\n【 O\\n淮 O\\n安 O\\n本 O\\n地 O\\n宝 O\\n】 O\\n微 O\\n信 O\\n公 O\\n众 O\\n号 O\\n， O\\n在 O\\n对 O\\n话 O\\n框 O\\n发 O\\n送 O\\n【 O\\n肺 O\\n炎 O\\n】 O\\n， O\\n即 O\\n可 O\\n获 O\\n取 O\\n淮 O\\n安 O\\n最 O\\n新 O\\n疫 O\\n情 O\\n消 O\\n息 O\\n实 O\\n时 O\\n播 O\\n报 O\\n， O\\n淮 O\\n安 O\\n新 O\\n型 O\\n冠 O\\n状 O\\n病 O\\n毒 O\\n的 O\\n传 O\\n播 O\\n途 O\\n径 O\\n等 O\\n更 O\\n多 O\\n最 O\\n新 O\\n信 O\\n息 O\\n！ O\\n淮 O\\n安 O\\n本 O\\n地 O\\n宝 O\\n还 O\\n可 O\\n以 O\\n为 O\\n您 O\\n解 O\\n决 O\\n身 O\\n份 O\\n证 O\\n、 O\\n护 O\\n照 O\\n、 O\\n居 O\\n住 O\\n证 O\\n、 O\\n户 O\\n口 O\\n等 O\\n生 O\\n活 O\\n类 O\\n实 O\\n用 O\\n信 O\\n息 O\\n， O\\n敬 O\\n请 O\\n关 O\\n注 O\\n! O\\n9 O\\n淮 O\\n安 O\\n本 O\\n地 O\\n宝 O\\n肺 O\\n炎 O\\n市 O\\n地 O\\n宝 O\\n【 O\\n新 O\\n型 O\\n冠 O\\n状 O\\n病 O\\n毒 O\\n准 O\\n安 O\\n武 O\\n汉 O\\n加 O\\n油 O\\n! O\\n中 O\\n国 O\\n加 O\\n油 O\\n最 O\\n新 O\\n消 O\\n息 O\\n怎 O\\n么 O\\n预 O\\n防 O\\n传 O\\n播 O\\n途 O\\n径 O\\n发 O\\n热 O\\n门 O\\n诊 O\\n电 O\\n话 O\\n目 O\\n录 O\\n疫 O\\n情 O\\n最 O\\n新 O\\n数 O\\n据 O\\n最 O\\n新 O\\n情 O\\n况 O\\n通 O\\n报 O\\n国 O\\n家 O\\n卫 O\\n健 O\\n委 O\\n实 O\\n时 O\\n辟 O\\n谣 O\\n关 O\\n于 O\\n肺 O\\n炎 O\\n的 O\\n九 O\\n大 O\\n事 O\\n实 O\\n【 O\\n人 O\\n民 O\\n日 O\\n报 O\\n关 O\\n于 O\\n肺 O\\n炎 O\\n的 O\\n九 O\\n大 O\\n谣 O\\n言 O\\n人 O\\n民 O\\n日 O\\n报 O\\n辟 O\\n谣 O\\n平 O\\n台 O\\n腾 O\\n讯 O\\n网 O\\n自 O\\n肺 O\\n炎 O\\nI O\\n\\t O\\n2 O\\n0 O\\n2 O\\n0 O\\n年 O\\n2 O\\n月 O\\n8 O\\n日 O\\n河 O\\n池 O\\n市 O\\n新 O\\n冠 O\\n肺 O\\n炎 O\\n疫 O\\n情 O\\n情 O\\n况 O\\n\\n2 O\\n0 O\\n2 O\\n0 O\\n年 O\\n2 O\\n月 O\\n9 O\\n日 O\\n上 O\\n午 O\\n， O\\n广 O\\n西 O\\n壮 O\\n族 O\\n自 O\\n治 O\\n区 O\\n卫 O\\n生 O\\n健 O\\n康 O\\n委 O\\n发 O\\n布 O\\n通 O\\n报 O\\n， O\\n2 O\\n月 O\\n8 O\\n日 O\\n0 O\\n- O\\n2 O\\n4 O\\n时 O\\n， O\\n河 O\\n池 O\\n市 O\\n新 O\\n增 O\\n4 O\\n例 O\\n新 O\\n冠 O\\n肺 O\\n炎 O\\n确 O\\n诊 O\\n病 O\\n例 O\\n。 O\\n报 O\\n告 O\\n死 O\\n亡 O\\n病 O\\n例 O\\n1 O\\n例 O\\n（ O\\n都 O\\n安 O\\n县 O\\n病 O\\n例 O\\n） O\\n。 O\\n\\n病 O\\n例 O\\n一 O\\n： O\\n韦 O\\n某 O\\n桥 O\\n， O\\n男 O\\n， O\\n4 O\\n1 O\\n岁 O\\n， O\\n现 O\\n居 O\\n住 O\\n都 O\\n安 O\\n县 O\\n创 B-Location\\n业 I-Location\\n园 I-Location\\n第 I-Location\\n二 I-Location\\n期 I-Location\\n9 I-Location\\n排 I-Location\\n， O\\n常 O\\n住 O\\n都 O\\n安 O\\n县 O\\n， O\\n系 O\\n新 O\\n冠 O\\n肺 O\\n炎 O\\n确 O\\n诊 O\\n病 O\\n例 O\\n莫 O\\n某 O\\n某 O\\n之 O\\n五 O\\n儿 O\\n子 O\\n。 O\\n2 O\\n0 O\\n2 O\\n0 O\\n年 O\\n1 O\\n月 O\\n2 O\\n9 O\\n日 O\\n开 O\\n始 O\\n出 O\\n现 O\\n发 O\\n热 O\\n， O\\n到 O\\n都 O\\n安 O\\n县 O\\n苏 O\\n某 O\\n某 O\\n诊 O\\n所 O\\n就 O\\n诊 O\\n， O\\n未 O\\n见 O\\n好 O\\n转 O\\n。 O\\n1 O\\n月 O\\n3 O\\n1 O\\n日 O\\n到 O\\n都 O\\n安 O\\n县 O\\n人 O\\n民 O\\n医 O\\n院 O\\n行 O\\nC O\\nT O\\n检 O\\n查 O\\n提 O\\n示 O\\n疑 O\\n似 O\\n肺 O\\n炎 O\\n， O\\n2 O\\n月 O\\n2 O\\n日 O\\n收 O\\n住 O\\n都 O\\n安 O\\n县 O\\n人 O\\n民 O\\n医 O\\n院 O\\n隔 O\\n离 O\\n治 O\\n疗 O\\n。 O\\n2 O\\n月 O\\n3 O\\n日 O\\n、 O\\n2 O\\n月 O\\n6 O\\n日 O\\n分 O\\n别 O\\n采 O\\n集 O\\n标 O\\n本 O\\n进 O\\n行 O\\n新 O\\n冠 O\\n肺 O\\n炎 O\\n核 O\\n酸 O\\n检 O\\n测 O\\n阴 O\\n性 O\\n。 O\\n患 O\\n者 O\\n否 O\\n认 O\\n到 O\\n过 O\\n武 O\\n汉 O\\n疫 O\\n区 O\\n及 O\\n武 O\\n汉 O\\n类 O\\n似 O\\n病 O\\n人 O\\n接 O\\n触 O\\n史 O\\n， O\\n曾 O\\n多 O\\n次 O\\n与 O\\n其 O\\n父 O\\n亲 O\\n莫 O\\n某 O\\n某 O\\n聚 O\\n餐 O\\n。 O\\n2 O\\n月 O\\n8 O\\n日 O\\n经 O\\n河 O\\n池 O\\n市 O\\n疾 O\\n控 O\\n中 O\\n心 O\\n检 O\\n测 O\\n， O\\n新 O\\n冠 O\\n病 O\\n毒 O\\n核 O\\n酸 O\\n阳 O\\n性 O\\n。 O\\n目 O\\n前 O\\n病 O\\n情 O\\n稳 O\\n定 O\\n。 O\\n\\n病 O\\n例 O\\n二 O\\n： O\\n黄 O\\n某 O\\n良 O\\n， O\\n男 O\\n， O\\n4 O\\n8 O\\n岁 O\\n， O\\n系 O\\n2 O\\n月 O\\n7 O\\n日 O\\n新 O\\n冠 O\\n肺 O\\n炎 O\\n确 O\\n诊 O\\n病 O\\n例 O\\n蓝 O\\n某 O\\n参 O\\n儿 O\\n子 O\\n， O\\n确 O\\n诊 O\\n病 O\\n例 O\\n黄 O\\n某 O\\n玲 O\\n哥 O\\n哥 O\\n。 O\\n常 O\\n住 O\\n都 O\\n安 O\\n县 O\\n， O\\n现 O\\n居 O\\n住 O\\n都 O\\n安 O\\n县 O\\n高 O\\n岭 O\\n镇 O\\n正 B-Location\\n玄 I-Location\\n村 I-Location\\n巴 I-Location\\n文 I-Location\\n队 I-Location\\n。 O\\n其 O\\n母 O\\n亲 O\\n蓝 O\\n某 O\\n参 O\\n、 O\\n妹 O\\n妹 O\\n黄 O\\n某 O\\n玲 O\\n确 O\\n诊 O\\n后 O\\n， O\\n因 O\\n与 O\\n母 O\\n亲 O\\n及 O\\n妹 O\\n妹 O\\n同 O\\n处 O\\n一 O\\n屋 O\\n（ O\\n天 O\\n地 O\\n楼 O\\n） O\\n， O\\n属 O\\n密 O\\n切 O\\n接 O\\n触 O\\n者 O\\n。 O\\n2 O\\n月 O\\n7 O\\n日 O\\n， O\\n医 O\\n学 O\\n观 O\\n察 O\\n过 O\\n程 O\\n中 O\\n发 O\\n现 O\\n其 O\\n体 O\\n温 O\\n升 O\\n高 O\\n， O\\n无 O\\n咳 O\\n嗽 O\\n、 O\\n乏 O\\n力 O\\n、 O\\n胸 O\\n闷 O\\n， O\\n收 O\\n住 O\\n都 O\\n安 O\\n县 O\\n人 O\\n民 O\\n医 O\\n院 O\\n住 O\\n院 O\\n隔 O\\n离 O\\n治 O\\n疗 O\\n。 O\\n2 O\\n月 O\\n8 O\\n日 O\\n经 O\\n河 O\\n池 O\\n市 O\\n疾 O\\n控 O\\n中 O\\n心 O\\n检 O\\n测 O\\n， O\\n新 O\\n冠 O\\n病 O\\n毒 O\\n核 O\\n酸 O\\n阳 O\\n性 O\\n。 O\\n目 O\\n前 O\\n病 O\\n情 O\\n稳 O\\n定 O\\n。 O\\n\\n病 O\\n例 O\\n三 O\\n： O\\n黄 O\\n某 O\\n娟 O\\n， O\\n女 O\\n， O\\n3 O\\n5 O\\n岁 O\\n， O\\n系 O\\n2 O\\n月 O\\n7 O\\n日 O\\n新 O\\n冠 O\\n肺 O\\n炎 O\\n确 O\\n诊 O\\n病 O\\n例 O\\n蓝 O\\n某 O\\n参 O\\n女 O\\n儿 O\\n， O\\n确 O\\n诊 O\\n病 O\\n例 O\\n黄 O\\n某 O\\n玲 O\\n妹 O\\n妹 O\\n， O\\n现 O\\n居 O\\n住 O\\n都 O\\n安 O\\n县 O\\n下 B-Location\\n坳 I-Location\\n镇 I-Location\\n下 I-Location\\n坳 I-Location\\n社 I-Location\\n区 I-Location\\n塘 I-Location\\n边 I-Location\\n屯 I-Location\\n， O\\n系 O\\n都 O\\n安 O\\n县 O\\n下 O\\n坳 O\\n镇 O\\n卫 O\\n生 O\\n院 O\\n护 O\\n士 O\\n。 O\\n2 O\\n0 O\\n2 O\\n0 O\\n年 O\\n1 O\\n月 O\\n1 O\\n9 O\\n日 O\\n下 O\\n午 O\\n2 O\\n点 O\\n1 O\\n0 O\\n分 O\\n乘 O\\n坐 O\\n火 O\\n车 O\\nC O\\n7 O\\n0 O\\n0 O\\n6 O\\n至 O\\n广 O\\n州 O\\n南 O\\n， O\\n约 O\\n4 O\\n时 O\\n到 O\\n站 O\\n， O\\n入 O\\n住 O\\n广 O\\n州 O\\n巨 O\\n大 O\\n国 O\\n际 O\\n公 O\\n寓 O\\n。 O\\n1 O\\n月 O\\n2 O\\n0 O\\n日 O\\n9 O\\n点 O\\n1 O\\n2 O\\n分 O\\n乘 O\\n坐 O\\n动 O\\n车 O\\n（ O\\nD O\\n3 O\\n7 O\\n1 O\\n0 O\\n） O\\n从 O\\n广 O\\n州 O\\n南 O\\n到 O\\n南 O\\n宁 O\\n东 O\\n， O\\n乘 O\\n坐 O\\n地 O\\n铁 O\\n到 O\\n其 O\\n姐 O\\n黄 O\\n某 O\\n玲 O\\n家 O\\n（ O\\n南 O\\n宁 O\\n市 O\\n青 O\\n秀 O\\n区 O\\n长 B-Location\\n湖 I-Location\\n路 I-Location\\n东 I-Location\\n2 I-Location\\n组 I-Location\\nA I-Location\\n区 I-Location\\n4 I-Location\\n7 I-Location\\n栋 I-Location\\n） O\\n， O\\n当 O\\n天 O\\n与 O\\n其 O\\n姐 O\\n黄 O\\n某 O\\n玲 O\\n共 O\\n乘 O\\n私 O\\n家 O\\n车 O\\n（ O\\n车 O\\n内 O\\n还 O\\n有 O\\n吴 O\\n某 O\\n钧 O\\n） O\\n回 O\\n高 O\\n岭 O\\n镇 O\\n正 O\\n玄 O\\n村 O\\n巴 O\\n文 O\\n屯 O\\n老 O\\n家 O\\n， O\\n与 O\\n母 O\\n亲 O\\n蓝 O\\n某 O\\n参 O\\n、 O\\n姐 O\\n姐 O\\n黄 O\\n某 O\\n玲 O\\n等 O\\n同 O\\n处 O\\n一 O\\n屋 O\\n（ O\\n天 O\\n地 O\\n楼 O\\n） O\\n至 O\\n1 O\\n月 O\\n3 O\\n0 O\\n日 O\\n， O\\n属 O\\n密 O\\n切 O\\n接 O\\n触 O\\n者 O\\n。 O\\n2 O\\n月 O\\n7 O\\n日 O\\n医 O\\n学 O\\n观 O\\n察 O\\n过 O\\n程 O\\n中 O\\n发 O\\n现 O\\n其 O\\n体 O\\n温 O\\n升 O\\n高 O\\n， O\\n收 O\\n住 O\\n都 O\\n安 O\\n县 O\\n人 O\\n民 O\\n医 O\\n院 O\\n住 O\\n院 O\\n隔 O\\n离 O\\n治 O\\n疗 O\\n。 O\\n2 O\\n月 O\\n8 O\\n日 O\\n经 O\\n河 O\\n池 O\\n市 O\\n疾 O\\n控 O\\n中 O\\n心 O\\n检 O\\n测 O\\n， O\\n新 O\\n冠 O\\n病 O\\n毒 O\\n核 O\\n酸 O\\n阳 O\\n性 O\\n。 O\\n目 O\\n前 O\\n病 O\\n情 O\\n稳 O\\n定 O\\n。 O\\n\\n病 O\\n例 O\\n四 O\\n： O\\n黄 O\\n某 O\\n等 O\\n， O\\n男 O\\n， O\\n2 O\\n2 O\\n岁 O\\n， O\\n系 O\\n2 O\\n月 O\\n7 O\\n日 O\\n新 O\\n冠 O\\n肺 O\\n炎 O\\n确 O\\n诊 O\\n病 O\\n例 O\\n蓝 O\\n某 O\\n参 O\\n孙 O\\n子 O\\n、 O\\n确 O\\n诊 O\\n病 O\\n例 O\\n黄 O\\n某 O\\n玲 O\\n侄 O\\n子 O\\n、 O\\n黄 O\\n某 O\\n良 O\\n儿 O\\n子 O\\n， O\\n现 O\\n居 O\\n住 O\\n都 O\\n安 O\\n县 O\\n高 O\\n岭 O\\n镇 O\\n正 B-Location\\n玄 I-Location\\n村 I-Location\\n巴 I-Location\\n文 I-Location\\n队 I-Location\\n。 O\\n蓝 O\\n某 O\\n参 O\\n、 O\\n黄 O\\n某 O\\n玲 O\\n确 O\\n诊 O\\n后 O\\n， O\\n因 O\\n其 O\\n与 O\\n蓝 O\\n某 O\\n参 O\\n、 O\\n黄 O\\n某 O\\n玲 O\\n同 O\\n处 O\\n一 O\\n屋 O\\n（ O\\n天 B-Location\\n地 I-Location\\n楼 I-Location\\n） O\\n， O\\n属 O\\n密 O\\n切 O\\n接 O\\n触 O\\n者 O\\n。 O\\n2 O\\n月 O\\n7 O\\n日 O\\n， O\\n医 O\\n学 O\\n观 O\\n察 O\\n过 O\\n程 O\\n中 O\\n发 O\\n现 O\\n其 O\\n体 O\\n温 O\\n升 O\\n高 O\\n， O\\n无 O\\n咳 O\\n嗽 O\\n、 O\\n乏 O\\n力 O\\n、 O\\n胸 O\\n闷 O\\n， O\\n收 O\\n住 O\\n都 O\\n安 O\\n县 O\\n人 O\\n民 O\\n医 O\\n院 O\\n住 O\\n院 O\\n隔 O\\n离 O\\n治 O\\n疗 O\\n。 O\\n2 O\\n月 O\\n8 O\\n日 O\\n经 O\\n河 O\\n池 O\\n市 O\\n疾 O\\n控 O\\n中 O\\n心 O\\n检 O\\n测 O\\n， O\\n新 O\\n型 O\\n冠 O\\n状 O\\n病 O\\n毒 O\\n核 O\\n酸 O\\n阳 O\\n性 O\\n。 O\\n目 O\\n前 O\\n病 O\\n情 O\\n稳 O\\n定 O\\n。 O\\n\\n截 O\\n至 O\\n2 O\\n0 O\\n2 O\\n0 O\\n年 O\\n2 O\\n月 O\\n8 O\\n日 O\\n2 O\\n4 O\\n时 O\\n， O\\n河 O\\n池 O\\n市 O\\n累 O\\n计 O\\n报 O\\n告 O\\n确 O\\n诊 O\\n病 O\\n例 O\\n1 O\\n9 O\\n例 O\\n， O\\n其 O\\n中 O\\n： O\\n金 O\\n城 O\\n江 O\\n区 O\\n3 O\\n例 O\\n， O\\n宜 O\\n州 O\\n区 O\\n1 O\\n例 O\\n， O\\n环 O\\n江 O\\n县 O\\n2 O\\n例 O\\n， O\\n都 O\\n安 O\\n县 O\\n1 O\\n3 O\\n例 O\\n。 O\\n重 O\\n症 O\\n病 O\\n例 O\\n2 O\\n例 O\\n， O\\n危 O\\n重 O\\n病 O\\n例 O\\n2 O\\n例 O\\n， O\\n死 O\\n亡 O\\n病 O\\n例 O\\n1 O\\n例 O\\n。 O\\n所 O\\n有 O\\n患 O\\n者 O\\n均 O\\n在 O\\n定 O\\n点 O\\n医 O\\n院 O\\n隔 O\\n离 O\\n治 O\\n疗 O\\n。 O\\n\\n（ O\\n河 O\\n池 O\\n市 O\\n卫 O\\n生 O\\n健 O\\n康 O\\n委 O\\n员 O\\n会 O\\n） O\\n\\n上 O\\n一 O\\n页 O\\n\\n下 O\\n一 O\\n页 O\\n\\n\\n\\n\\n\\n\\n\\n页 O\\n\\t O\\n西 O\\n安 O\\n网 O\\n讯 O\\n： O\\n周 O\\n至 O\\n县 O\\n疫 O\\n情 O\\n防 O\\n控 O\\n指 O\\n挥 O\\n部 O\\n今 O\\n日 O\\n发 O\\n布 O\\n寻 O\\n人 O\\n通 O\\n告 O\\n： O\\n\\n一 O\\n、 O\\n西 O\\n安 O\\n市 O\\n周 O\\n至 O\\n县 O\\n的 O\\n一 O\\n名 O\\n新 O\\n型 O\\n冠 O\\n状 O\\n病 O\\n毒 O\\n感 O\\n染 O\\n的 O\\n肺 O\\n炎 O\\n确 O\\n诊 O\\n病 O\\n例 O\\n徐 O\\n某 O\\n某 O\\n, O\\n于 O\\n2 O\\n0 O\\n2 O\\n0 O\\n年 O\\n1 O\\n月 O\\n2 O\\n3 O\\n日 O\\n1 O\\n6 O\\n时 O\\n2 O\\n0 O\\n分 O\\n乘 O\\n坐 O\\n由 O\\n西 O\\n安 O\\n发 O\\n往 O\\n周 O\\n至 O\\n的 O\\n陕 O\\nA O\\nU O\\n5 O\\n0 O\\n6 O\\n5 O\\n( O\\n西 O\\n宝 O\\n南 O\\n线 O\\n) O\\n客 O\\n车 O\\n( O\\n途 O\\n经 O\\n大 O\\n王 O\\n、 O\\n尚 O\\n村 O\\n、 O\\n终 O\\n南 O\\n、 O\\n司 O\\n竹 O\\n) O\\n， O\\n1 O\\n8 O\\n时 O\\n1 O\\n5 O\\n分 O\\n到 O\\n达 O\\n周 O\\n至 O\\n汽 O\\n车 O\\n站 O\\n。 O\\n车 O\\n辆 O\\n出 O\\n站 O\\n时 O\\n乘 O\\n客 O\\n3 O\\n2 O\\n人 O\\n( O\\n不 O\\n含 O\\n司 O\\n乘 O\\n人 O\\n员 O\\n2 O\\n人 O\\n) O\\n， O\\n沿 O\\n途 O\\n上 O\\n车 O\\n6 O\\n人 O\\n， O\\n共 O\\n计 O\\n接 O\\n触 O\\n3 O\\n8 O\\n人 O\\n( O\\n不 O\\n含 O\\n司 O\\n乘 O\\n人 O\\n员 O\\n2 O\\n人 O\\n) O\\n。 O\\n\\n二 O\\n、 O\\n西 O\\n安 O\\n市 O\\n周 O\\n至 O\\n县 O\\n的 O\\n一 O\\n名 O\\n新 O\\n型 O\\n冠 O\\n状 O\\n病 O\\n毒 O\\n感 O\\n染 O\\n的 O\\n肺 O\\n炎 O\\n确 O\\n诊 O\\n病 O\\n例 O\\n徐 O\\n某 O\\n某 O\\n, O\\n于 O\\n2 O\\n0 O\\n2 O\\n0 O\\n年 O\\n1 O\\n月 O\\n2 O\\n4 O\\n日 O\\n9 O\\n时 O\\n3 O\\n0 O\\n分 O\\n至 O\\n1 O\\n0 O\\n时 O\\n， O\\n骑 O\\n电 O\\n动 O\\n车 O\\n到 O\\n县 O\\n城 O\\n西 O\\n关 O\\n农 O\\n贸 O\\n市 O\\n场 O\\n门 O\\n口 O\\n， O\\n在 O\\n市 O\\n场 O\\n外 O\\n流 O\\n动 O\\n摊 O\\n点 O\\n购 O\\n买 O\\n蔬 O\\n菜 O\\n( O\\n青 O\\n菜 O\\n、 O\\n豆 O\\n腐 O\\n、 O\\n西 O\\n红 O\\n柿 O\\n等 O\\n) O\\n。 O\\n\\n三 O\\n、 O\\n西 O\\n安 O\\n市 O\\n周 O\\n至 O\\n县 O\\n的 O\\n一 O\\n名 O\\n新 O\\n型 O\\n冠 O\\n状 O\\n病 O\\n毒 O\\n感 O\\n染 O\\n的 O\\n肺 O\\n炎 O\\n确 O\\n诊 O\\n病 O\\n例 O\\n徐 O\\n某 O\\n某 O\\n, O\\n于 O\\n2 O\\n0 O\\n2 O\\n0 O\\n年 O\\n1 O\\n月 O\\n2 O\\n6 O\\n日 O\\n8 O\\n时 O\\n2 O\\n5 O\\n分 O\\n乘 O\\n坐 O\\n由 O\\n周 O\\n至 O\\n发 O\\n往 O\\n西 O\\n安 O\\n的 O\\n陕 O\\nA O\\n7 O\\n8 O\\n3 O\\n2 O\\n9 O\\n客 O\\n车 O\\n， O\\n1 O\\n0 O\\n时 O\\n1 O\\n0 O\\n分 O\\n到 O\\n达 O\\n西 O\\n安 O\\n市 O\\n汽 O\\n车 O\\n站 O\\n， O\\n车 O\\n辆 O\\n出 O\\n站 O\\n时 O\\n乘 O\\n客 O\\n6 O\\n人 O\\n。 O\\n亲 O\\n密 O\\n接 O\\n触 O\\n者 O\\n徐 O\\n某 O\\n( O\\n确 O\\n诊 O\\n病 O\\n例 O\\n徐 O\\n某 O\\n某 O\\n儿 O\\n子 O\\n) O\\n， O\\n于 O\\n1 O\\n月 O\\n2 O\\n6 O\\n日 O\\n1 O\\n1 O\\n时 O\\n整 O\\n乘 O\\n坐 O\\n由 O\\n西 O\\n安 O\\n发 O\\n往 O\\n周 O\\n至 O\\n的 O\\n陕 O\\nA O\\nR O\\n9 O\\n1 O\\n0 O\\n6 O\\n客 O\\n车 O\\n， O\\n1 O\\n2 O\\n时 O\\n3 O\\n0 O\\n分 O\\n到 O\\n达 O\\n周 O\\n至 O\\n汽 O\\n车 O\\n站 O\\n， O\\n车 O\\n辆 O\\n共 O\\n载 O\\n乘 O\\n客 O\\n1 O\\n3 O\\n人 O\\n( O\\n含 O\\n驾 O\\n驶 O\\n员 O\\n) O\\n。 O\\n\\n请 O\\n以 O\\n上 O\\n时 O\\n段 O\\n与 O\\n上 O\\n述 O\\n人 O\\n员 O\\n有 O\\n接 O\\n触 O\\n者 O\\n紧 O\\n急 O\\n采 O\\n取 O\\n以 O\\n下 O\\n防 O\\n护 O\\n措 O\\n施 O\\n： O\\n\\n1 O\\n. O\\n第 O\\n一 O\\n时 O\\n间 O\\n报 O\\n告 O\\n当 O\\n地 O\\n村 O\\n、 O\\n镇 O\\n， O\\n并 O\\n及 O\\n时 O\\n采 O\\n取 O\\n居 O\\n家 O\\n隔 O\\n离 O\\n措 O\\n施 O\\n。 O\\n\\n2 O\\n. O\\n及 O\\n时 O\\n与 O\\n周 O\\n至 O\\n县 O\\n疾 O\\n控 O\\n中 O\\n心 O\\n工 O\\n作 O\\n人 O\\n员 O\\n联 O\\n系 O\\n, O\\n联 O\\n系 O\\n咨 O\\n询 O\\n电 O\\n话 O\\n: O\\n0 O\\n2 O\\n9 O\\n6 O\\n3 O\\n6 O\\n1 O\\n5 O\\n9 O\\n1 O\\n0 O\\n或 O\\n6 O\\n3 O\\n6 O\\n1 O\\n5 O\\n9 O\\n1 O\\n1 O\\n。 O\\n\\n3 O\\n. O\\n如 O\\n有 O\\n发 O\\n热 O\\n、 O\\n咳 O\\n嗽 O\\n等 O\\n症 O\\n状 O\\n, O\\n请 O\\n不 O\\n要 O\\n自 O\\n行 O\\n前 O\\n往 O\\n医 O\\n院 O\\n, O\\n不 O\\n要 O\\n出 O\\n门 O\\n, O\\n及 O\\n时 O\\n联 O\\n系 O\\n辖 O\\n区 O\\n镇 O\\n( O\\n街 O\\n) O\\n卫 O\\n生 O\\n院 O\\n上 O\\n门 O\\n检 O\\n查 O\\n, O\\n就 O\\n诊 O\\n检 O\\n查 O\\n过 O\\n程 O\\n中 O\\n, O\\n请 O\\n全 O\\n程 O\\n戴 O\\n好 O\\n口 O\\n罩 O\\n, O\\n积 O\\n极 O\\n配 O\\n合 O\\n。 O\\n\\n编 O\\n辑 O\\n: O\\n张 O\\n楠 O\\n\\n版 O\\n权 O\\n声 O\\n明 O\\n： O\\n本 O\\n网 O\\n注 O\\n明 O\\n来 O\\n源 O\\n为 O\\n西 O\\n安 O\\n网 O\\n的 O\\n文 O\\n字 O\\n、 O\\n视 O\\n频 O\\n、 O\\n图 O\\n片 O\\n内 O\\n容 O\\n， O\\n版 O\\n权 O\\n均 O\\n属 O\\n本 O\\n站 O\\n所 O\\n有 O\\n， O\\n如 O\\n若 O\\n转 O\\n载 O\\n， O\\n请 O\\n注 O\\n明 O\\n本 O\\n文 O\\n出 O\\n处 O\\n： O\\nh O\\nt O\\nt O\\np O\\n: O\\nw O\\nw O\\nw O\\n. O\\nx O\\ni O\\na O\\nn O\\nc O\\ni O\\nt O\\ny O\\n. O\\nc O\\nn O\\n同 O\\n时 O\\n本 O\\n网 O\\n转 O\\n载 O\\n内 O\\n容 O\\n仅 O\\n为 O\\n传 O\\n播 O\\n资 O\\n讯 O\\n， O\\n不 O\\n代 O\\n表 O\\n本 O\\n网 O\\n观 O\\n点 O\\n。 O\\n如 O\\n涉 O\\n及 O\\n作 O\\n品 O\\n内 O\\n容 O\\n、 O\\n版 O\\n权 O\\n和 O\\n其 O\\n它 O\\n问 O\\n题 O\\n， O\\n请 O\\n与 O\\n本 O\\n网 O\\n站 O\\n联 O\\n系 O\\n， O\\n我 O\\n们 O\\n将 O\\n在 O\\n第 O\\n一 O\\n时 O\\n间 O\\n删 O\\n除 O\\n内 O\\n容 O\\n。 O\\n\\t O\\n紧 O\\n急 O\\n通 O\\n知 O\\n\\n近 O\\n日 O\\n， O\\n高 O\\n新 O\\n区 O\\n一 O\\n名 O\\n就 O\\n医 O\\n患 O\\n者 O\\n被 O\\n确 O\\n定 O\\n为 O\\n新 O\\n型 O\\n冠 O\\n状 O\\n病 O\\n毒 O\\n感 O\\n染 O\\n的 O\\n确 O\\n诊 O\\n病 O\\n例 O\\n。 O\\n该 O\\n患 O\\n者 O\\n曾 O\\n于 O\\n1 O\\n月 O\\n2 O\\n1 O\\n日 O\\n中 O\\n午 O\\n1 O\\n2 O\\n点 O\\n2 O\\n0 O\\n分 O\\n从 O\\n1 O\\n0 O\\n7 O\\n路 O\\n公 O\\n交 O\\n车 O\\n南 O\\n窑 O\\n头 O\\n站 O\\n上 O\\n车 O\\n， O\\n乘 O\\n至 O\\n延 O\\n平 O\\n门 O\\n站 O\\n下 O\\n车 O\\n。 O\\n1 O\\n2 O\\n点 O\\n4 O\\n1 O\\n分 O\\n左 O\\n右 O\\n从 O\\n地 O\\n铁 O\\n三 O\\n号 O\\n线 O\\n延 O\\n平 O\\n门 O\\n站 O\\n上 O\\n车 O\\n， O\\n搭 O\\n乘 O\\n地 O\\n铁 O\\n三 O\\n号 O\\n线 O\\n经 O\\n小 O\\n寨 O\\n转 O\\n乘 O\\n地 O\\n铁 O\\n二 O\\n号 O\\n线 O\\n至 O\\n行 O\\n政 O\\n中 O\\n心 O\\n， O\\n1 O\\n3 O\\n点 O\\n2 O\\n7 O\\n分 O\\n从 O\\n行 O\\n政 O\\n中 O\\n心 O\\n站 O\\n下 O\\n车 O\\n。 O\\n现 O\\n请 O\\n有 O\\n相 O\\n同 O\\n轨 O\\n迹 O\\n的 O\\n市 O\\n民 O\\n第 O\\n一 O\\n时 O\\n间 O\\n向 O\\n居 O\\n住 O\\n地 O\\n辖 O\\n区 O\\n的 O\\n疫 O\\n情 O\\n防 O\\n控 O\\n指 O\\n挥 O\\n部 O\\n报 O\\n告 O\\n， O\\n并 O\\n严 O\\n格 O\\n按 O\\n照 O\\n要 O\\n求 O\\n做 O\\n好 O\\n隔 O\\n离 O\\n等 O\\n防 O\\n疫 O\\n措 O\\n施 O\\n， O\\n如 O\\n有 O\\n不 O\\n适 O\\n症 O\\n状 O\\n尽 O\\n快 O\\n到 O\\n指 O\\n定 O\\n医 O\\n院 O\\n检 O\\n查 O\\n。 O\\n\\n联 O\\n系 O\\n电 O\\n话 O\\n： O\\n0 O\\n2 O\\n9 O\\n- O\\n8 O\\n1 O\\n1 O\\n5 O\\n0 O\\n2 O\\n1 O\\n5 O\\n\\n西 O\\n安 O\\n高 O\\n新 O\\n区 O\\n疫 O\\n情 O\\n防 O\\n控 O\\n指 O\\n挥 O\\n部 O\\n\\n2 O\\n0 O\\n2 O\\n0 O\\n年 O\\n2 O\\n月 O\\n9 O\\n日 O\\n\\t O\\n截 O\\n至 O\\n2 O\\n月 O\\n1 O\\n3 O\\n日 O\\n1 O\\n0 O\\n时 O\\n， O\\n陕 O\\n西 O\\n新 O\\n增 O\\n4 O\\n例 O\\n新 O\\n冠 O\\n肺 O\\n炎 O\\n确 O\\n诊 O\\n病 O\\n例 O\\n， O\\n新 O\\n增 O\\n疑 O\\n似 O\\n病 O\\n例 O\\n5 O\\n3 O\\n例 O\\n。 O\\n新 O\\n增 O\\n确 O\\n诊 O\\n病 O\\n例 O\\n中 O\\n， O\\n西 O\\n安 O\\n市 O\\n4 O\\n例 O\\n。 O\\n陕 O\\n西 O\\n累 O\\n计 O\\n报 O\\n告 O\\n新 O\\n冠 O\\n肺 O\\n炎 O\\n确 O\\n诊 O\\n病 O\\n例 O\\n2 O\\n2 O\\n9 O\\n例 O\\n（ O\\n4 O\\n2 O\\n例 O\\n治 O\\n愈 O\\n出 O\\n院 O\\n） O\\n， O\\n其 O\\n中 O\\n输 O\\n入 O\\n性 O\\n病 O\\n例 O\\n1 O\\n1 O\\n5 O\\n例 O\\n， O\\n密 O\\n切 O\\n接 O\\n触 O\\n者 O\\n1 O\\n0 O\\n0 O\\n例 O\\n， O\\n无 O\\n明 O\\n确 O\\n接 O\\n触 O\\n史 O\\n病 O\\n例 O\\n1 O\\n4 O\\n例 O\\n。 O\\n累 O\\n计 O\\n确 O\\n诊 O\\n病 O\\n例 O\\n中 O\\n， O\\n西 O\\n安 O\\n市 O\\n1 O\\n1 O\\n4 O\\n例 O\\n、 O\\n宝 O\\n鸡 O\\n市 O\\n1 O\\n3 O\\n例 O\\n、 O\\n咸 O\\n阳 O\\n市 O\\n1 O\\n7 O\\n例 O\\n、 O\\n铜 O\\n川 O\\n市 O\\n8 O\\n例 O\\n、 O\\n渭 O\\n南 O\\n市 O\\n1 O\\n4 O\\n例 O\\n、 O\\n延 O\\n安 O\\n市 O\\n8 O\\n例 O\\n、 O\\n榆 O\\n林 O\\n市 O\\n3 O\\n例 O\\n、 O\\n汉 O\\n中 O\\n市 O\\n2 O\\n1 O\\n例 O\\n、 O\\n安 O\\n康 O\\n市 O\\n2 O\\n2 O\\n例 O\\n、 O\\n商 O\\n洛 O\\n市 O\\n7 O\\n例 O\\n、 O\\n杨 O\\n凌 O\\n示 O\\n范 O\\n区 O\\n1 O\\n例 O\\n， O\\n韩 O\\n城 O\\n市 O\\n1 O\\n例 O\\n。 O\\n全 O\\n省 O\\n现 O\\n有 O\\n疑 O\\n似 O\\n病 O\\n例 O\\n3 O\\n0 O\\n4 O\\n例 O\\n。 O\\n全 O\\n省 O\\n新 O\\n增 O\\n密 O\\n切 O\\n接 O\\n触 O\\n者 O\\n8 O\\n2 O\\n9 O\\n人 O\\n'"
      ]
     },
     "execution_count": 156,
     "metadata": {},
     "output_type": "execute_result"
    }
   ],
   "source": [
    "train"
   ]
  },
  {
   "cell_type": "code",
   "execution_count": 159,
   "metadata": {
    "scrolled": true
   },
   "outputs": [],
   "source": [
    "tdt = [train,dev,test]\n",
    "for i in tdt:\n",
    "    for c in i.split('\\n'):\n",
    "        try:\n",
    "            if c!='':\n",
    "                char, this_flag = c.split(' ')\n",
    "        except Exception as e:\n",
    "            print (len(i),c)\n",
    "            break"
   ]
  },
  {
   "cell_type": "markdown",
   "metadata": {},
   "source": [
    "# 小插曲"
   ]
  },
  {
   "cell_type": "code",
   "execution_count": 188,
   "metadata": {},
   "outputs": [],
   "source": [
    "import pandas as pd"
   ]
  },
  {
   "cell_type": "code",
   "execution_count": 189,
   "metadata": {},
   "outputs": [],
   "source": [
    "df =pd.read_csv('./算法/content_withOCR_05011836.csv')"
   ]
  },
  {
   "cell_type": "code",
   "execution_count": 191,
   "metadata": {
    "collapsed": true
   },
   "outputs": [
    {
     "data": {
      "text/html": [
       "<div>\n",
       "<style scoped>\n",
       "    .dataframe tbody tr th:only-of-type {\n",
       "        vertical-align: middle;\n",
       "    }\n",
       "\n",
       "    .dataframe tbody tr th {\n",
       "        vertical-align: top;\n",
       "    }\n",
       "\n",
       "    .dataframe thead th {\n",
       "        text-align: right;\n",
       "    }\n",
       "</style>\n",
       "<table border=\"1\" class=\"dataframe\">\n",
       "  <thead>\n",
       "    <tr style=\"text-align: right;\">\n",
       "      <th></th>\n",
       "      <th>Unnamed: 0</th>\n",
       "      <th>url</th>\n",
       "      <th>content</th>\n",
       "      <th>sname</th>\n",
       "      <th>images</th>\n",
       "      <th>methods</th>\n",
       "      <th>content_count</th>\n",
       "      <th>ocr_text</th>\n",
       "    </tr>\n",
       "  </thead>\n",
       "  <tbody>\n",
       "    <tr>\n",
       "      <td>0</td>\n",
       "      <td>0</td>\n",
       "      <td>https://mp.weixin.qq.com/s/HTsNM1zxEAx3IqoF1uYnYA</td>\n",
       "      <td>\\n最新消息2月14日上午，省卫健委公布2月13日0－24时肇庆市新增1例新冠肺炎确诊病例。...</td>\n",
       "      <td>健康肇庆</td>\n",
       "      <td>['https://mmbiz.qpic.cn/mmbiz_jpg/z2KVp01hujFY...</td>\n",
       "      <td>template</td>\n",
       "      <td>4495</td>\n",
       "      <td>抗击疫情庆在行动\\t健康肇庆疫情通报截至2月13日24时:肇庆市累计报告新冠肺炎确诊病例17...</td>\n",
       "    </tr>\n",
       "    <tr>\n",
       "      <td>1</td>\n",
       "      <td>1</td>\n",
       "      <td>http://hc.nc.gov.cn/ncwjw/gzdt/202002/b5cf8972...</td>\n",
       "      <td>2020年\\n2\\n月\\n1日，江西省卫生健康委发布疫情通报，2020年1月31日0-24时...</td>\n",
       "      <td>南昌市卫生健康委员会</td>\n",
       "      <td>['http://hc.nc.gov.cn/default/images/icon16/xl...</td>\n",
       "      <td>GNE</td>\n",
       "      <td>369</td>\n",
       "      <td>NaN</td>\n",
       "    </tr>\n",
       "    <tr>\n",
       "      <td>2</td>\n",
       "      <td>2</td>\n",
       "      <td>http://m.ha.bendibao.com/mip/1636.shtm</td>\n",
       "      <td>更新时间：2020年2月11日24时\\n1、男，49岁，现住淮安经济技术开发区大湖城邦小区，...</td>\n",
       "      <td>bendibao.com</td>\n",
       "      <td>['http://imgbdb3.bendibao.com/habdb/news/20202...</td>\n",
       "      <td>diffbot</td>\n",
       "      <td>628</td>\n",
       "      <td>く9淮安本地宝肺炎市地宝【新型冠状病毒准安武汉加油!中国加油最新消息怎么预防传播途径发热门诊...</td>\n",
       "    </tr>\n",
       "    <tr>\n",
       "      <td>3</td>\n",
       "      <td>3</td>\n",
       "      <td>http://news.gxnews.com.cn/staticpages/20200209...</td>\n",
       "      <td>2020年2月8日河池市新冠肺炎疫情情况\\n2020年2月9日上午，广西壮族自治区卫生健康委...</td>\n",
       "      <td>2月8日广西新增确诊病例12例 新增死亡病例1例</td>\n",
       "      <td>[]</td>\n",
       "      <td>GNE</td>\n",
       "      <td>1147</td>\n",
       "      <td>NaN</td>\n",
       "    </tr>\n",
       "    <tr>\n",
       "      <td>4</td>\n",
       "      <td>4</td>\n",
       "      <td>http://o.xiancity.cn/system/2020/02/09/0307133...</td>\n",
       "      <td>西安网讯：周至县疫情防控指挥部今日发布寻人通告：\\n一、西安市周至县的一名新型冠状病毒感染的...</td>\n",
       "      <td>xiancity.cn</td>\n",
       "      <td>[]</td>\n",
       "      <td>diffbot</td>\n",
       "      <td>747</td>\n",
       "      <td>NaN</td>\n",
       "    </tr>\n",
       "    <tr>\n",
       "      <td>...</td>\n",
       "      <td>...</td>\n",
       "      <td>...</td>\n",
       "      <td>...</td>\n",
       "      <td>...</td>\n",
       "      <td>...</td>\n",
       "      <td>...</td>\n",
       "      <td>...</td>\n",
       "      <td>...</td>\n",
       "    </tr>\n",
       "    <tr>\n",
       "      <td>184</td>\n",
       "      <td>184</td>\n",
       "      <td>http://wjw.shanxi.gov.cn/wjywl02/24757.hrh</td>\n",
       "      <td>病例1：男，24岁，现住址为临汾市吉县荣辰佳苑。\\n2020年1月22日下午，在太原市乘坐8...</td>\n",
       "      <td>山西省卫生健康委员会网站</td>\n",
       "      <td>[]</td>\n",
       "      <td>GNE</td>\n",
       "      <td>1093</td>\n",
       "      <td>NaN</td>\n",
       "    </tr>\n",
       "    <tr>\n",
       "      <td>185</td>\n",
       "      <td>185</td>\n",
       "      <td>http://wjw.shanxi.gov.cn/wjywl02/24774.hrh</td>\n",
       "      <td>病例1：女，44岁，现住址为平遥县杜家庄乡苏家堡村，长期在武汉白马商场销售服装。\\n2020...</td>\n",
       "      <td>shanxi.gov.cn</td>\n",
       "      <td>[]</td>\n",
       "      <td>diffbot</td>\n",
       "      <td>1142</td>\n",
       "      <td>NaN</td>\n",
       "    </tr>\n",
       "    <tr>\n",
       "      <td>186</td>\n",
       "      <td>186</td>\n",
       "      <td>https://www.sg.gov.cn/xw/ztjj/yqfkyz/zxyq/cont...</td>\n",
       "      <td>2月2日我市新确诊1例新型冠状病毒感染的肺炎病例，为浈江区59岁女性患者，有与武汉来韶人员接...</td>\n",
       "      <td>sg.gov.cn</td>\n",
       "      <td>[]</td>\n",
       "      <td>diffbot</td>\n",
       "      <td>343</td>\n",
       "      <td>NaN</td>\n",
       "    </tr>\n",
       "    <tr>\n",
       "      <td>187</td>\n",
       "      <td>187</td>\n",
       "      <td>https://www.sg.gov.cn/xw/ztjj/yqfkyz/zxyq/cont...</td>\n",
       "      <td>2月4日我市新确诊1例新型冠状病毒感染的肺炎病例，该确诊病例为女性，31岁，为我市第二例确诊...</td>\n",
       "      <td>sg.gov.cn</td>\n",
       "      <td>[]</td>\n",
       "      <td>diffbot</td>\n",
       "      <td>463</td>\n",
       "      <td>NaN</td>\n",
       "    </tr>\n",
       "    <tr>\n",
       "      <td>188</td>\n",
       "      <td>188</td>\n",
       "      <td>https://www.sg.gov.cn/xw/ztjj/yqfkyz/zxyq/cont...</td>\n",
       "      <td>2月13日，广东省卫生健康委确认，我市新确诊1例新型冠状病毒感染的肺炎病例，该病例为男性，2...</td>\n",
       "      <td>sg.gov.cn</td>\n",
       "      <td>[]</td>\n",
       "      <td>diffbot</td>\n",
       "      <td>519</td>\n",
       "      <td>NaN</td>\n",
       "    </tr>\n",
       "  </tbody>\n",
       "</table>\n",
       "<p>189 rows × 8 columns</p>\n",
       "</div>"
      ],
      "text/plain": [
       "     Unnamed: 0                                                url  \\\n",
       "0             0  https://mp.weixin.qq.com/s/HTsNM1zxEAx3IqoF1uYnYA   \n",
       "1             1  http://hc.nc.gov.cn/ncwjw/gzdt/202002/b5cf8972...   \n",
       "2             2             http://m.ha.bendibao.com/mip/1636.shtm   \n",
       "3             3  http://news.gxnews.com.cn/staticpages/20200209...   \n",
       "4             4  http://o.xiancity.cn/system/2020/02/09/0307133...   \n",
       "..          ...                                                ...   \n",
       "184         184         http://wjw.shanxi.gov.cn/wjywl02/24757.hrh   \n",
       "185         185         http://wjw.shanxi.gov.cn/wjywl02/24774.hrh   \n",
       "186         186  https://www.sg.gov.cn/xw/ztjj/yqfkyz/zxyq/cont...   \n",
       "187         187  https://www.sg.gov.cn/xw/ztjj/yqfkyz/zxyq/cont...   \n",
       "188         188  https://www.sg.gov.cn/xw/ztjj/yqfkyz/zxyq/cont...   \n",
       "\n",
       "                                               content  \\\n",
       "0    \\n最新消息2月14日上午，省卫健委公布2月13日0－24时肇庆市新增1例新冠肺炎确诊病例。...   \n",
       "1    2020年\\n2\\n月\\n1日，江西省卫生健康委发布疫情通报，2020年1月31日0-24时...   \n",
       "2    更新时间：2020年2月11日24时\\n1、男，49岁，现住淮安经济技术开发区大湖城邦小区，...   \n",
       "3    2020年2月8日河池市新冠肺炎疫情情况\\n2020年2月9日上午，广西壮族自治区卫生健康委...   \n",
       "4    西安网讯：周至县疫情防控指挥部今日发布寻人通告：\\n一、西安市周至县的一名新型冠状病毒感染的...   \n",
       "..                                                 ...   \n",
       "184  病例1：男，24岁，现住址为临汾市吉县荣辰佳苑。\\n2020年1月22日下午，在太原市乘坐8...   \n",
       "185  病例1：女，44岁，现住址为平遥县杜家庄乡苏家堡村，长期在武汉白马商场销售服装。\\n2020...   \n",
       "186  2月2日我市新确诊1例新型冠状病毒感染的肺炎病例，为浈江区59岁女性患者，有与武汉来韶人员接...   \n",
       "187  2月4日我市新确诊1例新型冠状病毒感染的肺炎病例，该确诊病例为女性，31岁，为我市第二例确诊...   \n",
       "188  2月13日，广东省卫生健康委确认，我市新确诊1例新型冠状病毒感染的肺炎病例，该病例为男性，2...   \n",
       "\n",
       "                        sname  \\\n",
       "0                        健康肇庆   \n",
       "1                  南昌市卫生健康委员会   \n",
       "2                bendibao.com   \n",
       "3    2月8日广西新增确诊病例12例 新增死亡病例1例   \n",
       "4                 xiancity.cn   \n",
       "..                        ...   \n",
       "184              山西省卫生健康委员会网站   \n",
       "185             shanxi.gov.cn   \n",
       "186                 sg.gov.cn   \n",
       "187                 sg.gov.cn   \n",
       "188                 sg.gov.cn   \n",
       "\n",
       "                                                images   methods  \\\n",
       "0    ['https://mmbiz.qpic.cn/mmbiz_jpg/z2KVp01hujFY...  template   \n",
       "1    ['http://hc.nc.gov.cn/default/images/icon16/xl...       GNE   \n",
       "2    ['http://imgbdb3.bendibao.com/habdb/news/20202...   diffbot   \n",
       "3                                                   []       GNE   \n",
       "4                                                   []   diffbot   \n",
       "..                                                 ...       ...   \n",
       "184                                                 []       GNE   \n",
       "185                                                 []   diffbot   \n",
       "186                                                 []   diffbot   \n",
       "187                                                 []   diffbot   \n",
       "188                                                 []   diffbot   \n",
       "\n",
       "     content_count                                           ocr_text  \n",
       "0             4495  抗击疫情庆在行动\\t健康肇庆疫情通报截至2月13日24时:肇庆市累计报告新冠肺炎确诊病例17...  \n",
       "1              369                                                NaN  \n",
       "2              628  く9淮安本地宝肺炎市地宝【新型冠状病毒准安武汉加油!中国加油最新消息怎么预防传播途径发热门诊...  \n",
       "3             1147                                                NaN  \n",
       "4              747                                                NaN  \n",
       "..             ...                                                ...  \n",
       "184           1093                                                NaN  \n",
       "185           1142                                                NaN  \n",
       "186            343                                                NaN  \n",
       "187            463                                                NaN  \n",
       "188            519                                                NaN  \n",
       "\n",
       "[189 rows x 8 columns]"
      ]
     },
     "execution_count": 191,
     "metadata": {},
     "output_type": "execute_result"
    }
   ],
   "source": [
    "df"
   ]
  },
  {
   "cell_type": "code",
   "execution_count": 193,
   "metadata": {},
   "outputs": [],
   "source": [
    "for i in range(len(df)):\n",
    "    if  '企石医院' in df['content'][i]:\n",
    "        print (df['url'][i])"
   ]
  },
  {
   "cell_type": "markdown",
   "metadata": {},
   "source": [
    "# 序列数据转bert4keras格式"
   ]
  },
  {
   "cell_type": "code",
   "execution_count": 179,
   "metadata": {},
   "outputs": [],
   "source": [
    "def load_data(filename):\n",
    "    D = []\n",
    "    with open(filename, encoding='utf-8') as f:\n",
    "        f = f.read()\n",
    "        for l in f.split('\\n\\n'):\n",
    "            if not l:\n",
    "                continue\n",
    "            d, last_flag = [], ''\n",
    "            for c in l.split('\\n'):\n",
    "              if c!= '':\n",
    "                char, this_flag = c.split(' ')\n",
    "                if this_flag == 'O' and last_flag == 'O':\n",
    "                    d[-1][0] += char\n",
    "                elif this_flag == 'O' and last_flag != 'O':\n",
    "                    d.append([char, 'O'])\n",
    "                elif this_flag[:1] == 'B':\n",
    "                    d.append([char, this_flag[2:]])\n",
    "                else:\n",
    "                    d[-1][0] += char\n",
    "                last_flag = this_flag\n",
    "            D.append(d)\n",
    "    return D"
   ]
  },
  {
   "cell_type": "code",
   "execution_count": 180,
   "metadata": {},
   "outputs": [],
   "source": [
    "# 标注数据\n",
    "train_data = load_data('C:\\\\Users\\\\Administrator\\\\Desktop\\\\tiger\\\\data\\\\china-people-daily-ner-corpus\\example.train')\n",
    "valid_data = load_data('C:\\\\Users\\\\Administrator\\\\Desktop\\\\tiger\\\\data\\\\china-people-daily-ner-corpus\\example.dev')\n",
    "test_data = load_data('C:\\\\Users\\\\Administrator\\\\Desktop\\\\tiger\\\\data\\\\china-people-daily-ner-corpus\\example.test')"
   ]
  },
  {
   "cell_type": "code",
   "execution_count": 182,
   "metadata": {},
   "outputs": [
    {
     "data": {
      "text/plain": [
       "[[['海钓比赛地点在', 'O'], ['厦门', 'LOC'], ['与', 'O'], ['金门', 'LOC'], ['之间的海域。', 'O']],\n",
       " [['这座依山傍水的博物馆由国内一流的设计师主持设计，整个建筑群精美而恢宏。', 'O']],\n",
       " [['但作为一个共产党员、人民公仆，应当胸怀宽阔，真正做到“先天下之忧而忧，后天下之乐而乐”，淡化个人的名利得失和宠辱悲喜，把改革大业摆在首位，这样才能超越自我，摆脱世俗，有所作为。',\n",
       "   'O']],\n",
       " [['在发达国家，急救保险十分普及，已成为社会保障体系的重要组成部分。', 'O']],\n",
       " [['日', 'LOC'],\n",
       "  ['俄', 'LOC'],\n",
       "  ['两国国内政局都充满变数，尽管', 'O'],\n",
       "  ['日', 'LOC'],\n",
       "  ['俄', 'LOC'],\n",
       "  ['关系目前是历史最佳时期，但其脆弱性不言自明。', 'O']],\n",
       " [['克马尔的女儿让娜今年读五年级，她所在的班上有30多名同学，该班的“家委会”由10名家长组成。', 'O']],\n",
       " [['参加步行的有男有女，有年轻人，也有中年人。', 'O']],\n",
       " [['沙特队教练佩雷拉：两支队都想胜，因此都作出了最大的努力。', 'O']],\n",
       " [['这种混乱局面导致有些海域使用者的合法权益难以得到维护。', 'O']],\n",
       " [['鲁宾明确指出，对政府的这种指控完全没有事实根据，', 'O'],\n",
       "  ['美国', 'LOC'],\n",
       "  ['政府不想也没有向', 'O'],\n",
       "  ['中国', 'LOC'],\n",
       "  ['转让敏感技术，事实真相总有一天会大白于天下；众议院的这种做法令人“非常失望”，将使', 'O'],\n",
       "  ['美国', 'LOC'],\n",
       "  ['的商业卫星产业受到威胁，使', 'O'],\n",
       "  ['美国', 'LOC'],\n",
       "  ['的竞争力受到损害。', 'O']],\n",
       " [['体育场每天早6时至8时向群众免费开放，体育馆、游泳馆等则增加综合服务，延长开放时间，采取灵活收费。', 'O']],\n",
       " [['再看内容，图文并茂，简短的文字，准确地反映了五十六个民族的风土人情和文化传统，把各民族的主要特点讲得很到位。', 'O']],\n",
       " [['美国“哥伦比亚”号航天飞机上的宇航员今天一边进行实验，一边继续抢修出了故障的二氧化碳清除装置。', 'O']],\n",
       " [['从前剥削阶级在劳动生产率很低的情况下占有有限的剩余产品，主要是为了满足其家族豪华生活的需要，难有多大力量扩大再生产；现在资产阶级在社会化大生产条件下榨取大量剩余价值，除供自身需求外，主要又转化为资本，用以剥削新的雇佣劳动，从而使私人资本越来越扩大，生产资料也越来越集中。',\n",
       "   'O']],\n",
       " [['全国人民代表大会澳门特别行政区筹备委员会第一次全体会议今天上午在', 'O'],\n",
       "  ['北京', 'LOC'],\n",
       "  ['人民大会堂', 'LOC'],\n",
       "  ['开幕，国务院副总理、筹委会主任委员钱其琛在致开幕词中指出，筹建', 'O'],\n",
       "  ['澳门特别行政区', 'LOC'],\n",
       "  ['的工作已经启动，筹委会面临的工作是大量的、紧迫的，筹委们任重道远，希望大家齐心协力为', 'O'],\n",
       "  ['澳门', 'LOC'],\n",
       "  ['的平稳过渡、政权顺利交接作出贡献。', 'O']],\n",
       " [['而经济社会的活动过程已经使整个经济学界深信：宏观经济的变化必须以微观经济为基础。', 'O']],\n",
       " [['本病好发于面、颈、背、躯干及外生殖器，可见于各种年龄。', 'O']],\n",
       " [['北京市', 'LOC'],\n",
       "  ['怀柔县', 'LOC'],\n",
       "  ['参试学生普遍感觉第四节课饥饿感消失了，', 'O'],\n",
       "  ['四川省', 'LOC'],\n",
       "  ['江油市华丰中学选用豆奶和复合营养素后，试验组男生的贫血率下降13个百分点，而对照组只降低0．44个百分点。', 'O']],\n",
       " [['党的宗旨和当干部的目的决定了党员干部要乐于奉献，甘愿吃亏，吃苦在前，享受在后，把困难和危险留给自己，把方便和安全让给群众。', 'O']],\n",
       " [['今年年初，党中央、国务院根据国内外经济形势的变化，及时作出扩大内需、保持经济持续快速增长的重大决策。', 'O']],\n",
       " [['发现而定位，确立而研究，一个文学流派就能提供许多富有意味的理论话题。', 'O']],\n",
       " [['党委书记粟光前当机立断：“我们都是他的家人，都是他的亲兄弟，我签！”', 'O']],\n",
       " [['熟悉世行运作的人士说，贷款一旦被推迟，将在几个月、甚至可能更长的时间后才能被重新考虑。', 'O']],\n",
       " [['在我们的队伍中，确实有些只讲哥们儿义气不讲党的原则，只图实惠不讲干部形象的事。', 'O']],\n",
       " [['我估计她会说像疤痕，像笨拙女人手下的针线活儿。', 'O']],\n",
       " [['周恩来总理说，那就送一株万古常青的友谊红杉吧！', 'O']],\n",
       " [['在与', 'O'],\n",
       "  ['巴', 'LOC'],\n",
       "  ['重开会谈问题上，', 'O'],\n",
       "  ['印', 'LOC'],\n",
       "  ['声明再次宣称，“没有任何第三方介入的余地”。', 'O']],\n",
       " [['不久前，记者就这些问题赴江西省委老干部局进行了采访。', 'O']],\n",
       " [['一是发动广大职工积极参与企业民主管理，接受职工监督。', 'O']],\n",
       " [['她说：“如今，我们真是过上了安居乐业的好日子。”', 'O']],\n",
       " [['倘若对客观环境的变化反应迟钝，就很难迅速地作出正确判断和决策，也就难免陷于被动甚至四处碰壁。', 'O']],\n",
       " [['然而作为新的经济增长点，必将成为新的消费热点。', 'O']],\n",
       " [['被解雇后，失业者的首要任务是四处寻找工作，而联邦和州政府也给予适当救济和支持。', 'O']],\n",
       " [['为达此目的，可以采取的一个具体步骤是吸收', 'O'], ['中国', 'LOC'], ['参加七国集团年会。', 'O']],\n",
       " [['另一方面，', 'O'],\n",
       "  ['龙口', 'LOC'],\n",
       "  ['的经济基础使其有了增加科技投入的能力，只要真正重视人才、信息和创新能力的开发，一定会有跳跃式的发展。', 'O']],\n",
       " [['强调全社会要不断提高对职业培训意义的认识，将职业培训同教育和经济发展紧密结合，把中、小学九年基础教育变成继续升学或接受职业培训的准备阶段，让广大青少年懂得学习和职业培训互为一体，升学和职业培训没有贵贱之分。',\n",
       "   'O']],\n",
       " [['请注意：两个短语都是“动宾结构”而非“偏正结构”，尽孝的不是儿女，而是父母也。', 'O']],\n",
       " [['一些地方开始实行干部任用环保一票否决制。', 'O']],\n",
       " [['目前的技术条件和制作水平还缺乏竞争能力，在国际电影制作业如摄影、录音、美术、剪辑等诸多方面的科技竞争日趋激烈、各国电影争相利用电影的高科技制造影像奇观以争夺观众的情况下，国产电影应该急起直追。',\n",
       "   'O']],\n",
       " [['明代大医药学家李时珍的父亲李言闻屡试不第，于是将仕进的希望寄托在二儿子李时珍身上，而李时珍对八股文不感兴趣，对医药学特别酷爱。', 'O']],\n",
       " [['全国人大常委会副委员长周光召、信息产业部部长吴基传、英特尔公司董事长安德鲁·葛鲁夫等应邀出席了这次活动。', 'O']],\n",
       " [['如此说来，这手推车也自然不是等闲之物。', 'O']],\n",
       " [['由于保护区内的防护设施不配套，加上保护区本身管理上存在的问题，使', 'O'],\n",
       "  ['天鹅洲', 'LOC'],\n",
       "  ['保护区难以起到应有的保护作用。', 'O']],\n",
       " [['所以“需求不足”的根源，最终可还原为供给有问题。', 'O']],\n",
       " [['一连串表面“井井有条”的程序后，顾新华对犯罪“供认不讳”，并在一审被判处死刑。', 'O']],\n",
       " [['据此，笔者建议，各金融部门应加强对广大农民进行反假币知识、技巧及有关法律法规的宣传，以维护农村正常的金融秩序和社会安定。', 'O']],\n",
       " [['『德高望重风范长存茅以升、周培源生平事迹展览』也同时开幕。', 'O']],\n",
       " [['在光电磁连接而成的“', 'O'],\n",
       "  ['地球村', 'LOC'],\n",
       "  ['”中，能不能把自己的孩子培养成为一个合格的“村民”，散发着独特的文化魅力，而非', 'O'],\n",
       "  ['好莱坞', 'LOC'],\n",
       "  ['文化工业流水线上千人一面的模具翻版？', 'O']],\n",
       " [['加强对小企业改制的规范和指导。', 'O']],\n",
       " [['发展燃气汽车，不仅仅是环境的原因', 'O']],\n",
       " [['守门员：何—路易斯·切拉维特、鲁·路·迪亚斯、达·阿塞瓦尔；后卫：佩·萨拉维亚、塞·阿亚拉、卡·里瓦罗拉、弗·阿尔塞、里·罗哈斯、丹·卡尼扎、卡·加马拉；中场：胡·塞·埃西索、罗·阿库纳、埃·阿吉莱拉、卡·莫拉莱斯、卡·帕雷德斯；前锋：米·贝尼特斯、胡·塞·耶格罗斯、豪·冈玻斯、何·卡多萨、阿·罗哈斯、塞·拉米雷斯、乌·布里苏埃拉。',\n",
       "   'O']],\n",
       " [['山是稳重的，这是我最初的观念。', 'O']],\n",
       " [['立案不结、以罚代刑等问题有较大改观。', 'O']],\n",
       " [['中国', 'LOC'],\n",
       "  ['与', 'O'],\n",
       "  ['非洲', 'LOC'],\n",
       "  ['国家之间在资源消费、产品市场和经济发展战略等方面均互有需求，加上', 'O'],\n",
       "  ['中国', 'LOC'],\n",
       "  ['同', 'O'],\n",
       "  ['非洲', 'LOC'],\n",
       "  ['国家之间存在着长期经济贸易友好合作的基础，', 'O'],\n",
       "  ['中国', 'LOC'],\n",
       "  ['企业只要扎扎实实地开拓', 'O'],\n",
       "  ['非洲', 'LOC'],\n",
       "  ['市场，是一定会大有作为的。', 'O']],\n",
       " [['从5月份开始，常去阅览室的读者已发现，中文图书阅览室、中文期刊阅览室开放时间已延至晚上8时。', 'O']],\n",
       " [['从这个意义上讲，谈教育和经济之间的相互关系时，教育不能不重视对现代经济增长起最主要作用的因素———智力资本的形成。', 'O']],\n",
       " [['第二，馆藏图书突破藏、借、阅分立的传统布局，实行藏书、借书、阅览全开架的现代化管理办法，读者可以自主选用文献资料。', 'O']],\n",
       " [['科索沃', 'LOC'],\n",
       "  ['阿族政党民主联盟昨天对北约日前在', 'O'],\n",
       "  ['南斯拉夫', 'LOC'],\n",
       "  ['边界举行的空军演习表示欢迎，认为这是为阿族同', 'O'],\n",
       "  ['塞尔维亚', 'LOC'],\n",
       "  ['继续对话提供的“必要帮助”。', 'O']],\n",
       " [['新华社', 'O'],\n",
       "  ['北京', 'LOC'],\n",
       "  ['4月7日电英国业余游泳协会7日说，一位叫迈克尔·菲本斯的游泳选手被查出服用兴奋剂。', 'O']],\n",
       " [['因此，为了维护自身经济利益，', 'O'],\n",
       "  ['拉美', 'LOC'],\n",
       "  ['国家感到，需要通过加强地区经济集团，加速区域联合，来增强国家的经济实力，从而增强其在未来', 'O'],\n",
       "  ['美洲', 'LOC'],\n",
       "  ['自由贸易区谈判中的地位。', 'O']],\n",
       " [['义勇军进行曲绕桥三日余音不绝。', 'O']],\n",
       " [['从而使得《军嫂》、《警魂》、《一个独生子女的故事》等影片，在', 'O'],\n",
       "  ['广州', 'LOC'],\n",
       "  ['都获得了较好的票房收入。', 'O']],\n",
       " [['与会的', 'O'],\n",
       "  ['中', 'LOC'],\n",
       "  ['美', 'LOC'],\n",
       "  ['各界人士认为，经贸合作是', 'O'],\n",
       "  ['中', 'LOC'],\n",
       "  ['美', 'LOC'],\n",
       "  ['关系大厦的基石之一，表示要继续为推动', 'O'],\n",
       "  ['中', 'LOC'],\n",
       "  ['美', 'LOC'],\n",
       "  ['经贸合作的发展作出积极贡献。', 'O']],\n",
       " [['她同心合群，奋发图强，这正是', 'O'], ['香港', 'LOC'], ['人朝气蓬勃、拼搏奋斗精神的写照。', 'O']],\n",
       " [['在今年2月至5月的春季招兵期间，每月比过去少招募2100至3100人。', 'O']],\n",
       " [['我国卫生部规定，共有72种天然资源可以既用于开发药品，又用于开发食品。', 'O']],\n",
       " [['一级预防是通过改变人本身或环境的因素，以达到防止癌症发生的目的。', 'O']],\n",
       " [['目前她们正在为我国四个城市引进外资建设规模更大的发电项目进行不懈的努力。', 'O']],\n",
       " [['试验的数据表明，燃用液化石油气或天然气，发动机尾气中的一氧化碳比燃用汽油降低90％以上，碳氢化合物则降低31％，大大减少了尾气对空气造成的污染。',\n",
       "   'O']],\n",
       " [['男双在网前的平抽、封网技术都很差，亟待改进；我们男单的网前技术也需要改进，男单网前技术方面，丹麦队员的技术特点是我们的方向。', 'O']],\n",
       " [['结果，中国男队以5个2∶0轻松赢下本场比赛。', 'O']],\n",
       " [['然而，从长远预测分析，油价低迷是反常现象。', 'O']],\n",
       " [['叶利钦于3月27日提名35岁的基里延科为新总理。', 'O']],\n",
       " [['从这里，我们同时也会深刻地认识到，对精神文明建设中的理论问题进行哲学思考，是何等地重要。', 'O']],\n",
       " [['要认识党虽然处在现阶段，但担负着领导社会主义初级阶段事业的重大责任。', 'O']],\n",
       " [['记者不久前就这一问题采访了此间一些专业人士。', 'O']],\n",
       " [['可这一年多里，我却和爸爸较上劲了。', 'O']],\n",
       " [['抗战时期的联大和解放战争时期的北大，办学条件艰苦，但所聘教师仍然都是第一流的，不论其政治立场，学术派别，出身高低，留洋与否，只要有真才实学，确具专长，一律受到尊重。',\n",
       "   'O']],\n",
       " [['据李庄同志回忆，', 'O'],\n",
       "  ['里庄', 'LOC'],\n",
       "  ['的民风淳朴，', 'O'],\n",
       "  ['里庄', 'LOC'],\n",
       "  ['人民养育、支持了《人民日报》。', 'O']],\n",
       " [['据了解，我国各地电信局基本上没有开设此项业务。', 'O']],\n",
       " [['全国新闻专业期刊举行首届交流会强调', 'O']],\n",
       " [['张君秋对', 'O'], ['京', 'LOC'], ['剧音配像的指导也不限于旦角艺术。', 'O']],\n",
       " [['该校坚持对学生以科学文化为主线，德、智、体、美、劳协调发展，全面提高学生的素质。', 'O']],\n",
       " [['每个地方都有其经济特点，所以说高校发展应围绕经济建设这个中心，应该每个地方有所侧重，有所不同。', 'O']],\n",
       " [['缓解财政紧张状况，最根本的是发展经济，拓宽生财聚财的渠道。', 'O']],\n",
       " [['环境监测技术人员更加注重对空气污染监测技术的研究，为逐步建立空气污染预报、预警系统提供了可靠的技术支持。', 'O']],\n",
       " [['女队：坚持优势，发展优势，进一步强化优势', 'O']],\n",
       " [['本报“读者之友”版3月25日刊出征稿启事，截至4月25日，共收到各地读者的来稿7000多件、“一句话”1．5万多条。', 'O']],\n",
       " [['两国边界机构去年会晤、会谈100多次，没有一次是因为纠纷引起的。', 'O']],\n",
       " [['一位', 'O'],\n",
       "  ['美国', 'LOC'],\n",
       "  ['朋友说，失业是件坏事，但保持一定的低失业率也有好处，它可促使人们不断充实自己的知识和技能，在劳动力市场上参与竞争，这对整个经济发展是有益的。',\n",
       "   'O']],\n",
       " [['一是开发适应市场的新产品，增加就业岗位。', 'O']],\n",
       " [['要实现这一新时期党的建设总目标，各级党组织和广大党员、干部必须认真学习和努力实践邓小平党的建设理论，按照十五大对党的建设的总体部署，从思想上、组织上、作风上全面加强党的建设，更好地发挥党在社会主义改革开放和现代化建设事业中的领导核心作用。',\n",
       "   'O']],\n",
       " [['●收入分配是社会再生产的一个重要环节，它在生产和消费之间起着承上启下的关键作用。', 'O']],\n",
       " [['5月23日一大早，', 'O'],\n",
       "  ['江西省', 'LOC'],\n",
       "  ['新余', 'LOC'],\n",
       "  ['市区大街小巷横幅高悬，百余幅国防宣传画布满街头。', 'O']],\n",
       " [['令人欣慰的是，茅忠谨无缘中级职称难行医的消息见报后，引起了有关领导部门的重视。', 'O']],\n",
       " [['法律是一种有别于情与理的特殊的语言，当事人的动与静、雄辩与沉默都会构成准证据。', 'O']],\n",
       " [['这是一家档次比较高雅的酒吧，吸引了众多黑人青年。', 'O']],\n",
       " [['医疗保险基金由企业和个人共同承担：企业按上年度职工个人工资总额8％提计，其中40％划入个人医疗账户，60％作为统筹金，职工个人按当年工资总额1％纳入医疗账户；医疗费分三段支付。',\n",
       "   'O']],\n",
       " [['他说，', 'O'],\n",
       "  ['中', 'LOC'],\n",
       "  ['法', 'LOC'],\n",
       "  ['两国经济各有特色，互补性强，双方合作还有很大潜力。', 'O']],\n",
       " [['贞雅今年39岁，中等身材，穿着蓝色职业女装，谈吐大方。', 'O']]]"
      ]
     },
     "execution_count": 182,
     "metadata": {},
     "output_type": "execute_result"
    }
   ],
   "source": [
    "train_data[:100]"
   ]
  },
  {
   "cell_type": "code",
   "execution_count": null,
   "metadata": {},
   "outputs": [],
   "source": []
  }
 ],
 "metadata": {
  "kernelspec": {
   "display_name": "Python 3",
   "language": "python",
   "name": "python3"
  },
  "language_info": {
   "codemirror_mode": {
    "name": "ipython",
    "version": 3
   },
   "file_extension": ".py",
   "mimetype": "text/x-python",
   "name": "python",
   "nbconvert_exporter": "python",
   "pygments_lexer": "ipython3",
   "version": "3.7.6"
  }
 },
 "nbformat": 4,
 "nbformat_minor": 2
}
