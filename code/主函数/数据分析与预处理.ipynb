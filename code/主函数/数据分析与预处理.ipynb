{
 "cells": [
  {
   "cell_type": "markdown",
   "metadata": {},
   "source": [
    "# 包"
   ]
  },
  {
   "cell_type": "code",
   "execution_count": 1,
   "metadata": {},
   "outputs": [],
   "source": [
    "import requests\n",
    "from bs4 import BeautifulSoupa\n",
    "import re\n",
    "import matplotlib.pyplot as plt\n",
    "import numpy as np\n",
    "import matplotlib as mpl\n",
    "mpl.rcParams[\"font.sans-serif\"]=[\"SimHei\"]\n",
    "mpl.rcParams[\"axes.unicode_minus\"]=False\n",
    "from selenium import webdriver\n",
    "from  time import sleep\n",
    "import pandas as pd\n",
    "import json\n",
    "from  random import random\n",
    "import re"
   ]
  },
  {
   "cell_type": "code",
   "execution_count": 2,
   "metadata": {},
   "outputs": [],
   "source": [
    "driver = webdriver.Chrome()\n",
    "driver.get('https://weibo.com')"
   ]
  },
  {
   "cell_type": "markdown",
   "metadata": {},
   "source": [
    "# 导入数据"
   ]
  },
  {
   "cell_type": "code",
   "execution_count": 6,
   "metadata": {},
   "outputs": [],
   "source": [
    "dfold=pd.read_excel('C:\\\\Users\\\\Administrator\\\\Desktop\\\\tiger01\\\\test.xlsx')"
   ]
  },
  {
   "cell_type": "code",
   "execution_count": 4,
   "metadata": {},
   "outputs": [
    {
     "name": "stdout",
     "output_type": "stream",
     "text": [
      "195 1 <class 'pandas.core.frame.DataFrame'>\n"
     ]
    }
   ],
   "source": [
    "df=pd.read_excel('C:\\\\Users\\\\Administrator\\\\Desktop\\\\南都特别赛题\\\\test.xlsx')\n",
    "height,width = df.shape\n",
    "print(height,width,type(df))"
   ]
  },
  {
   "cell_type": "code",
   "execution_count": 5,
   "metadata": {},
   "outputs": [
    {
     "data": {
      "text/html": [
       "<div>\n",
       "<style scoped>\n",
       "    .dataframe tbody tr th:only-of-type {\n",
       "        vertical-align: middle;\n",
       "    }\n",
       "\n",
       "    .dataframe tbody tr th {\n",
       "        vertical-align: top;\n",
       "    }\n",
       "\n",
       "    .dataframe thead th {\n",
       "        text-align: right;\n",
       "    }\n",
       "</style>\n",
       "<table border=\"1\" class=\"dataframe\">\n",
       "  <thead>\n",
       "    <tr style=\"text-align: right;\">\n",
       "      <th></th>\n",
       "      <th>疫情通报网址</th>\n",
       "    </tr>\n",
       "  </thead>\n",
       "  <tbody>\n",
       "    <tr>\n",
       "      <td>0</td>\n",
       "      <td>https://mp.weixin.qq.com/s/N76fZ6R4zeiB6Zqa3TYaxg</td>\n",
       "    </tr>\n",
       "    <tr>\n",
       "      <td>1</td>\n",
       "      <td>http://www.gz.gov.cn/zt/qlyfdyyqfkyz/qktb/cont...</td>\n",
       "    </tr>\n",
       "    <tr>\n",
       "      <td>2</td>\n",
       "      <td>http://wjw.gz.gov.cn/ztzl/xxfyyqfk/yqtb/conten...</td>\n",
       "    </tr>\n",
       "    <tr>\n",
       "      <td>3</td>\n",
       "      <td>https://mp.weixin.qq.com/s/KkYpkD4oV997_ZPNRa0vHg</td>\n",
       "    </tr>\n",
       "    <tr>\n",
       "      <td>4</td>\n",
       "      <td>http://wjw.sz.gov.cn/yqxx/202002/t20200203_189...</td>\n",
       "    </tr>\n",
       "    <tr>\n",
       "      <td>...</td>\n",
       "      <td>...</td>\n",
       "    </tr>\n",
       "    <tr>\n",
       "      <td>190</td>\n",
       "      <td>https://mp.weixin.qq.com/s/gb33Pz92gZiVFRe1hy0YyQ</td>\n",
       "    </tr>\n",
       "    <tr>\n",
       "      <td>191</td>\n",
       "      <td>http://wsjkw.jlsy.gov.cn/xwzx/jgdt/202002/t202...</td>\n",
       "    </tr>\n",
       "    <tr>\n",
       "      <td>192</td>\n",
       "      <td>http://www.jl.gov.cn/szfzt/jlzxd/yqtb/202002/t...</td>\n",
       "    </tr>\n",
       "    <tr>\n",
       "      <td>193</td>\n",
       "      <td>http://www.jl.gov.cn/szfzt/jlzxd/yqtb/202002/t...</td>\n",
       "    </tr>\n",
       "    <tr>\n",
       "      <td>194</td>\n",
       "      <td>http://wsjkw.jl.gov.cn/xwzx/xwfb/202002/t20200...</td>\n",
       "    </tr>\n",
       "  </tbody>\n",
       "</table>\n",
       "<p>195 rows × 1 columns</p>\n",
       "</div>"
      ],
      "text/plain": [
       "                                                疫情通报网址\n",
       "0    https://mp.weixin.qq.com/s/N76fZ6R4zeiB6Zqa3TYaxg\n",
       "1    http://www.gz.gov.cn/zt/qlyfdyyqfkyz/qktb/cont...\n",
       "2    http://wjw.gz.gov.cn/ztzl/xxfyyqfk/yqtb/conten...\n",
       "3    https://mp.weixin.qq.com/s/KkYpkD4oV997_ZPNRa0vHg\n",
       "4    http://wjw.sz.gov.cn/yqxx/202002/t20200203_189...\n",
       "..                                                 ...\n",
       "190  https://mp.weixin.qq.com/s/gb33Pz92gZiVFRe1hy0YyQ\n",
       "191  http://wsjkw.jlsy.gov.cn/xwzx/jgdt/202002/t202...\n",
       "192  http://www.jl.gov.cn/szfzt/jlzxd/yqtb/202002/t...\n",
       "193  http://www.jl.gov.cn/szfzt/jlzxd/yqtb/202002/t...\n",
       "194  http://wsjkw.jl.gov.cn/xwzx/xwfb/202002/t20200...\n",
       "\n",
       "[195 rows x 1 columns]"
      ]
     },
     "execution_count": 5,
     "metadata": {},
     "output_type": "execute_result"
    }
   ],
   "source": [
    "df"
   ]
  },
  {
   "cell_type": "code",
   "execution_count": 7,
   "metadata": {},
   "outputs": [
    {
     "data": {
      "text/html": [
       "<div>\n",
       "<style scoped>\n",
       "    .dataframe tbody tr th:only-of-type {\n",
       "        vertical-align: middle;\n",
       "    }\n",
       "\n",
       "    .dataframe tbody tr th {\n",
       "        vertical-align: top;\n",
       "    }\n",
       "\n",
       "    .dataframe thead th {\n",
       "        text-align: right;\n",
       "    }\n",
       "</style>\n",
       "<table border=\"1\" class=\"dataframe\">\n",
       "  <thead>\n",
       "    <tr style=\"text-align: right;\">\n",
       "      <th></th>\n",
       "      <th>疫情通报网址</th>\n",
       "    </tr>\n",
       "  </thead>\n",
       "  <tbody>\n",
       "    <tr>\n",
       "      <td>0</td>\n",
       "      <td>https://mp.weixin.qq.com/s/HTsNM1zxEAx3IqoF1u...</td>\n",
       "    </tr>\n",
       "    <tr>\n",
       "      <td>1</td>\n",
       "      <td>http://hc.nc.gov.cn/ncwjw/gzdt/202002/b5cf8972...</td>\n",
       "    </tr>\n",
       "    <tr>\n",
       "      <td>2</td>\n",
       "      <td>http://m.ha.bendibao.com/mip/1636.shtm</td>\n",
       "    </tr>\n",
       "    <tr>\n",
       "      <td>3</td>\n",
       "      <td>http://news.gxnews.com.cn/staticpages/20200209...</td>\n",
       "    </tr>\n",
       "    <tr>\n",
       "      <td>4</td>\n",
       "      <td>http://o.xiancity.cn/system/2020/02/09/0307133...</td>\n",
       "    </tr>\n",
       "    <tr>\n",
       "      <td>...</td>\n",
       "      <td>...</td>\n",
       "    </tr>\n",
       "    <tr>\n",
       "      <td>188</td>\n",
       "      <td>https://weibo.com/7129811001/ItKAzr93p?from=pa...</td>\n",
       "    </tr>\n",
       "    <tr>\n",
       "      <td>189</td>\n",
       "      <td>https://www.sg.gov.cn/xw/ztjj/yqfkyz/zxyq/cont...</td>\n",
       "    </tr>\n",
       "    <tr>\n",
       "      <td>190</td>\n",
       "      <td>https://www.sg.gov.cn/xw/ztjj/yqfkyz/zxyq/cont...</td>\n",
       "    </tr>\n",
       "    <tr>\n",
       "      <td>191</td>\n",
       "      <td>https://www.sg.gov.cn/xw/ztjj/yqfkyz/zxyq/cont...</td>\n",
       "    </tr>\n",
       "    <tr>\n",
       "      <td>192</td>\n",
       "      <td>https://www.tibet3.com/news/zangqu/qh/2020-02-...</td>\n",
       "    </tr>\n",
       "  </tbody>\n",
       "</table>\n",
       "<p>193 rows × 1 columns</p>\n",
       "</div>"
      ],
      "text/plain": [
       "                                                疫情通报网址\n",
       "0     https://mp.weixin.qq.com/s/HTsNM1zxEAx3IqoF1u...\n",
       "1    http://hc.nc.gov.cn/ncwjw/gzdt/202002/b5cf8972...\n",
       "2               http://m.ha.bendibao.com/mip/1636.shtm\n",
       "3    http://news.gxnews.com.cn/staticpages/20200209...\n",
       "4    http://o.xiancity.cn/system/2020/02/09/0307133...\n",
       "..                                                 ...\n",
       "188  https://weibo.com/7129811001/ItKAzr93p?from=pa...\n",
       "189  https://www.sg.gov.cn/xw/ztjj/yqfkyz/zxyq/cont...\n",
       "190  https://www.sg.gov.cn/xw/ztjj/yqfkyz/zxyq/cont...\n",
       "191  https://www.sg.gov.cn/xw/ztjj/yqfkyz/zxyq/cont...\n",
       "192  https://www.tibet3.com/news/zangqu/qh/2020-02-...\n",
       "\n",
       "[193 rows x 1 columns]"
      ]
     },
     "execution_count": 7,
     "metadata": {},
     "output_type": "execute_result"
    }
   ],
   "source": [
    "dfold"
   ]
  },
  {
   "cell_type": "code",
   "execution_count": 10,
   "metadata": {},
   "outputs": [
    {
     "data": {
      "text/plain": [
       "0       https://mp.weixin.qq.com/s/HTsNM1zxEAx3IqoF1u...\n",
       "1      http://hc.nc.gov.cn/ncwjw/gzdt/202002/b5cf8972...\n",
       "2                 http://m.ha.bendibao.com/mip/1636.shtm\n",
       "3      http://news.gxnews.com.cn/staticpages/20200209...\n",
       "4      http://o.xiancity.cn/system/2020/02/09/0307133...\n",
       "                             ...                        \n",
       "188    https://weibo.com/7129811001/ItKAzr93p?from=pa...\n",
       "189    https://www.sg.gov.cn/xw/ztjj/yqfkyz/zxyq/cont...\n",
       "190    https://www.sg.gov.cn/xw/ztjj/yqfkyz/zxyq/cont...\n",
       "191    https://www.sg.gov.cn/xw/ztjj/yqfkyz/zxyq/cont...\n",
       "192    https://www.tibet3.com/news/zangqu/qh/2020-02-...\n",
       "Name: 疫情通报网址, Length: 193, dtype: object"
      ]
     },
     "execution_count": 10,
     "metadata": {},
     "output_type": "execute_result"
    }
   ],
   "source": [
    "dfold['疫情通报网址']"
   ]
  },
  {
   "cell_type": "code",
   "execution_count": 13,
   "metadata": {},
   "outputs": [],
   "source": [
    "old = dfold['疫情通报网址'].values.tolist()"
   ]
  },
  {
   "cell_type": "code",
   "execution_count": 14,
   "metadata": {},
   "outputs": [
    {
     "data": {
      "text/plain": [
       "[' https://mp.weixin.qq.com/s/HTsNM1zxEAx3IqoF1uYnYA ',\n",
       " 'http://hc.nc.gov.cn/ncwjw/gzdt/202002/b5cf89720dbf4968850892328059db4c.shtml',\n",
       " 'http://m.ha.bendibao.com/mip/1636.shtm',\n",
       " 'http://news.gxnews.com.cn/staticpages/20200209/newgx5e3f4bbc-19247534-3.shtml',\n",
       " 'http://o.xiancity.cn/system/2020/02/09/030713354.shtml',\n",
       " 'http://sn.ifeng.com/a/20200209/8181674_0.shtml',\n",
       " 'http://sxwjw.shaanxi.gov.cn/art/2020/2/13/art_9_67993.html',\n",
       " 'http://sxwjw.shaanxi.gov.cn/art/2020/2/3/art_9_67666.html',\n",
       " 'http://sy.bendibao.com/news/202023/55857.shtm',\n",
       " 'http://wjw.gz.gov.cn/ztzl/xxfyyqfk/yqtb/content/post_5648584.html',\n",
       " 'http://wjw.gz.gov.cn/ztzl/xxfyyqfk/yqtb/content/post_5662091.html',\n",
       " 'http://wjw.nmg.gov.cn/doc/2020/02/01/286091.shtml',\n",
       " 'http://wjw.nmg.gov.cn/doc/2020/02/02/286191.shtml',\n",
       " 'http://wjw.nmg.gov.cn/doc/2020/02/09/291226.shtml',\n",
       " 'http://wjw.shanxi.gov.cn/wjywl02/24757.hrh',\n",
       " 'http://wjw.shanxi.gov.cn/wjywl02/24774.hrh',\n",
       " 'http://wjw.sz.gov.cn/yqxx/202002/t20200209_19006168.htm',\n",
       " 'http://wjw.taiyuan.gov.cn/doc/2020/02/07/955867.shtml',\n",
       " 'http://wjw.taiyuan.gov.cn/doc/2020/02/08/955916.shtml',\n",
       " 'http://wsjkw.sh.gov.cn/xwfb/20200208/f3882592b1144b558a13a5a9c4ac4a9f.html',\n",
       " 'http://www.wuzhong.gov.cn/sy/gsgg/202002/t20200206_1943703.html',\n",
       " 'http://www.wuzhong.gov.cn/sy/gsgg/202002/t20200207_1945035.html',\n",
       " 'http://www.wuzhong.gov.cn/ztzl/ztlb/kjyq/202001/t20200130_1936123.html',\n",
       " 'http://wx.hznews.com/data/hzby_2019-nCoV/index_bl.php',\n",
       " 'https://baijiahao.baidu.com/s?id=1657795127584927321&wfr=spider&for=pc',\n",
       " 'https://baijiahao.baidu.com/s?id=1658403541897422656&wfr=spider&for=pc',\n",
       " 'https://m.mp.oeeee.com/a/BAAFRD000020200203257514.html?layer=4&share=chat&isndappinstalled=12',\n",
       " 'https://m.mp.oeeee.com/a/BAAFRD000020200212262511.html',\n",
       " 'https://m.weibo.cn/2162541102/4469831778965414',\n",
       " 'https://m.weibo.cn/3757167087/4469821893163355',\n",
       " 'https://m.weibo.cn/3757167087/4471457452715962',\n",
       " 'https://m.weibo.cn/3757167087/4471458430201395',\n",
       " 'https://m.weibo.cn/detail/4468614512282405',\n",
       " 'https://mp.weixin.qq.com/s/03w_HdZGypbtAG33jikquw',\n",
       " 'https://mp.weixin.qq.com/s/0xihh12dgBBxbfozR6fnNg',\n",
       " 'https://mp.weixin.qq.com/s/0zzx4G3oUPQmzNk6JTTUzQ',\n",
       " 'https://mp.weixin.qq.com/s/15bQoiHzj8ABrnySvnEtQA',\n",
       " 'https://mp.weixin.qq.com/s/16ICfUi-Z2UMbbckkm0Xpw',\n",
       " 'https://mp.weixin.qq.com/s/1gv6bdr4kVBq4nUYOMqJHg',\n",
       " 'https://mp.weixin.qq.com/s/1l-RCQ_OfAMhOZZSmo2sDw',\n",
       " 'https://mp.weixin.qq.com/s/21pwvOkvunpCGf0F8UGsKQ',\n",
       " 'https://mp.weixin.qq.com/s/22zfhtcc5aqqWpt0anCVOQ',\n",
       " 'https://mp.weixin.qq.com/s/23fOSN0X3dT99e22m34Few',\n",
       " 'https://mp.weixin.qq.com/s/2COYPOACgINLbVZGLJ20pw',\n",
       " 'https://mp.weixin.qq.com/s/2HRalKs46VxIkbLMBBGbCA',\n",
       " 'https://mp.weixin.qq.com/s/2J9_3bKsljNLeVmFqY4rxQ',\n",
       " 'https://mp.weixin.qq.com/s/2ri05eGgAq5QHorGkz07sw',\n",
       " 'https://mp.weixin.qq.com/s/3_ru000m-BsCB3uAjbohAg',\n",
       " 'https://mp.weixin.qq.com/s/39apxV_xQLEu0MJ5ToE__g',\n",
       " 'https://mp.weixin.qq.com/s/3GBAMxcOz-brFl_7_soiXg',\n",
       " 'https://mp.weixin.qq.com/s/40KCQ1yZszq1b5OMNsRctg',\n",
       " 'https://mp.weixin.qq.com/s/4JrjMJc7lPDCFHXY3LFSeQ',\n",
       " 'https://mp.weixin.qq.com/s/4ofIalWCUGmYPNTPhiuiTg',\n",
       " 'https://mp.weixin.qq.com/s/53yB1QgwVerWm6riIRUV6A',\n",
       " 'https://mp.weixin.qq.com/s/6j-iL-tu6pxdC8q8srFvdA',\n",
       " 'https://mp.weixin.qq.com/s/6QQRQ2p1q9OSHHa85dJvpA',\n",
       " 'https://mp.weixin.qq.com/s/704BrIOuTkxkpuXdek9sXw',\n",
       " 'https://mp.weixin.qq.com/s/7aB-WIhbkljfsaO6in6cIw',\n",
       " 'https://mp.weixin.qq.com/s/7Odzuq-I-eqrHPwU9vEujQ',\n",
       " 'https://mp.weixin.qq.com/s/8g-ggBSz1IbIZJZOFVxn0A',\n",
       " 'https://mp.weixin.qq.com/s/92XTQRGQ4PLLM0yz9dgZHA',\n",
       " 'https://mp.weixin.qq.com/s/99IBrH7yBT2bi_k6CXWk1A',\n",
       " 'https://mp.weixin.qq.com/s/A1M0SLD-CJUegw0GAIlvEQ',\n",
       " 'https://mp.weixin.qq.com/s/A4_l39IRa-METFqXyLUaKw',\n",
       " 'https://mp.weixin.qq.com/s/AL2WfgREI1kR0MaUaP3yVA',\n",
       " 'https://mp.weixin.qq.com/s/ANsFtyEh-ThyG6bYF23Mdw',\n",
       " 'https://mp.weixin.qq.com/s/AtGvqHMpPj--woNeOVHqJg',\n",
       " 'https://mp.weixin.qq.com/s/aupP3RkGcLcJ3kcRTWIQSw',\n",
       " 'https://mp.weixin.qq.com/s/AuuQN67_9XRnT3v-YQ-6Kg',\n",
       " 'https://mp.weixin.qq.com/s/BbpXFJ_S_I2aHe8_BCqA3w',\n",
       " 'https://mp.weixin.qq.com/s/BEf8kNgXeQhxvmMjylOmgQ',\n",
       " 'https://mp.weixin.qq.com/s/bFw2DNyZr50uzgb7lYg2iw',\n",
       " 'https://mp.weixin.qq.com/s/BowMr0k90t8psMKEWMmshQ',\n",
       " 'https://mp.weixin.qq.com/s/BQk8wSVC6V4SLRp5A0BSDQ',\n",
       " 'https://mp.weixin.qq.com/s/brhYtrHRMv5rb_SYHoX3fA',\n",
       " 'https://mp.weixin.qq.com/s/BTBVokDLUFUBisFVrreTIg',\n",
       " 'https://mp.weixin.qq.com/s/byOBjYcuIE-ozN5-5j2NjQ',\n",
       " 'https://mp.weixin.qq.com/s/BzRmrot5EL4FRlANN3jPog',\n",
       " 'https://mp.weixin.qq.com/s/CCv9mOu-azDpGCngDnutWw',\n",
       " 'https://mp.weixin.qq.com/s/D_O9alCJ9kQNF9HzQovfpw',\n",
       " 'https://mp.weixin.qq.com/s/d0ChVGAE859JSuSQ4-yuwg',\n",
       " 'https://mp.weixin.qq.com/s/d9aurz1S2epuqAQy3ZL_hw',\n",
       " 'https://mp.weixin.qq.com/s/DclHoJStly7-_Uz_uk2LmA',\n",
       " 'https://mp.weixin.qq.com/s/DGeAhP_Mks4hJputXQK4_w',\n",
       " 'https://mp.weixin.qq.com/s/DNtuRvc9NM88eBEX61IpAQ',\n",
       " 'https://mp.weixin.qq.com/s/DWFNXijNXN0pQLZr2icG5A',\n",
       " 'https://mp.weixin.qq.com/s/eECI1S8obg-Vx11xTjggoA',\n",
       " 'https://mp.weixin.qq.com/s/EiKDu4VTdr4k8o2Uq5Fvcw',\n",
       " 'https://mp.weixin.qq.com/s/en5XMsElXu6JIs0UHd_lmA',\n",
       " 'https://mp.weixin.qq.com/s/F2RiiyzIE87ilYzlAZ0OOw',\n",
       " 'https://mp.weixin.qq.com/s/FEf_w5LyNb8-xXKA_T3e5g',\n",
       " 'https://mp.weixin.qq.com/s/feTfJCSFxyoufeEAks228w',\n",
       " 'https://mp.weixin.qq.com/s/fTiCuXTR8iCNPE0zX3gOrw',\n",
       " 'https://mp.weixin.qq.com/s/ftLPQ6l4nOIX7aRnrRSLCA',\n",
       " 'https://mp.weixin.qq.com/s/FYb03z5wslK1Wzzp1FiA5A',\n",
       " 'https://mp.weixin.qq.com/s/g5khDHYw8DsVIIlz9KlByg',\n",
       " 'https://mp.weixin.qq.com/s/g89sB9SZS0FSyD1B-bnwag',\n",
       " 'https://mp.weixin.qq.com/s/GA_mH8SwviTGaxiSdeHO2A',\n",
       " 'https://mp.weixin.qq.com/s/gd2P77m_DseuaCvzmHLwbg',\n",
       " 'https://mp.weixin.qq.com/s/GGeiv9zLDVP9t5CXddQAvw',\n",
       " 'https://mp.weixin.qq.com/s/gJ2GE_ihEoPaeQmY143dhA',\n",
       " 'https://mp.weixin.qq.com/s/gOIBYl1Hm1R7cQTlkVjyyw',\n",
       " 'https://mp.weixin.qq.com/s/gX82KJTHdwAbVgK6hADT9A',\n",
       " 'https://mp.weixin.qq.com/s/Hdz-Q-3Eig8VGsZJwzTNow',\n",
       " 'https://mp.weixin.qq.com/s/HTsNM1zxEAx3IqoF1uYnYA',\n",
       " 'https://mp.weixin.qq.com/s/hywpRGEm_OJepGkhPbqYOQ',\n",
       " 'https://mp.weixin.qq.com/s/i5Qja8vQ7wmL65JhuRxS-g',\n",
       " 'https://mp.weixin.qq.com/s/I8W5RhgaVZE5pV9gf010Ew',\n",
       " 'https://mp.weixin.qq.com/s/IGaJ4Sz0Uc7ncxnG1lrtGg',\n",
       " 'https://mp.weixin.qq.com/s/Ilcw8gqTBS1mj2sL9y8BBw',\n",
       " 'https://mp.weixin.qq.com/s/i-OHNjnnHgRfODKlpUSYFg',\n",
       " 'https://mp.weixin.qq.com/s/iWJ6omQpWP3YwGkjPANq-Q',\n",
       " 'https://mp.weixin.qq.com/s/J8zMLEAWqq7PLh-y0yO7Tg',\n",
       " 'https://mp.weixin.qq.com/s/JaEaBvbW6dpw3M2LVmA-jw',\n",
       " 'https://mp.weixin.qq.com/s/JEGFaPaXbJCyg4L2Y5f2cA',\n",
       " 'https://mp.weixin.qq.com/s/JEGFaPaXbJCyg4L2Y5f2cA ',\n",
       " 'https://mp.weixin.qq.com/s/jjFdgGdM_qILo5mLaZhylg',\n",
       " 'https://mp.weixin.qq.com/s/k6QZ28KFo3_9-Jvp2td2HA',\n",
       " 'https://mp.weixin.qq.com/s/KK1b85TfZg3OKob_s8ju0Q',\n",
       " 'https://mp.weixin.qq.com/s/L6UmSE1h35jGNX9nII7W1w',\n",
       " 'https://mp.weixin.qq.com/s/l7-4X1mqf191u1sKbwpwtg',\n",
       " 'https://mp.weixin.qq.com/s/LBJ9bWwWH3dIDgHbX3JrMA',\n",
       " 'https://mp.weixin.qq.com/s/ljO-jnuFaLY7dlay04vnQQ',\n",
       " 'https://mp.weixin.qq.com/s/L-kxyVWz2388nVMrHpNwSQ',\n",
       " 'https://mp.weixin.qq.com/s/LLeJqI0C3wg_XMJxptr6hA',\n",
       " 'https://mp.weixin.qq.com/s/MaIhftMbVTrBaslpSPNkuA',\n",
       " 'https://mp.weixin.qq.com/s/MJayWWtfMetX7uypjW34jA',\n",
       " 'https://mp.weixin.qq.com/s/MPkzfHNESrN7F8ZKCYob7Q',\n",
       " 'https://mp.weixin.qq.com/s/MpL6gwVXTxFjfOsBr2SqQg',\n",
       " 'https://mp.weixin.qq.com/s/nqSkq_C1SWyXwSoWH8Tl_Q',\n",
       " 'https://mp.weixin.qq.com/s/o8htUb-Eq0jI-18koz4JSA',\n",
       " 'https://mp.weixin.qq.com/s/oAp7a7J7b8ueznBiy6UfHw',\n",
       " 'https://mp.weixin.qq.com/s/O-d8n6f_AygAgNedh-sOoQ',\n",
       " 'https://mp.weixin.qq.com/s/oSfryyVX7e2CaDTyVRBR1A',\n",
       " 'https://mp.weixin.qq.com/s/p8FwAyaWqBQPQ9ExZNRunA',\n",
       " 'https://mp.weixin.qq.com/s/pAaXlR0Rc7IjTkrJ_nmOHw',\n",
       " 'https://mp.weixin.qq.com/s/pathagzfYVfG7rgn4fsehw',\n",
       " 'https://mp.weixin.qq.com/s/pCknNhnIW75e0cHBe54iyg',\n",
       " 'https://mp.weixin.qq.com/s/PxlQtWded0LAEHEEjPPQjQ',\n",
       " 'https://mp.weixin.qq.com/s/qMb78wvftwMT0Fx-fbgkVA',\n",
       " 'https://mp.weixin.qq.com/s/qnN8WIp6bdivLrcxn3kw8A',\n",
       " 'https://mp.weixin.qq.com/s/qQZ6QvNts9rpSWcPgDXZUA',\n",
       " 'https://mp.weixin.qq.com/s/qVcPv1s491KY6BfXb7BGDg',\n",
       " 'https://mp.weixin.qq.com/s/QVO-ku5SAFS5lGfrJ3tqvw',\n",
       " 'https://mp.weixin.qq.com/s/Rbni3MycgbIuiz5YgD2DCg',\n",
       " 'https://mp.weixin.qq.com/s/rfJiJIU49y8MmMJOXttxBw',\n",
       " 'https://mp.weixin.qq.com/s/S5JyC2E2Vn5XL0jcKkmBPg',\n",
       " 'https://mp.weixin.qq.com/s/sHZtvU0GD-sUbKT8lexYZA',\n",
       " 'https://mp.weixin.qq.com/s/SRElAd3cHRF5Z1yIJOeMYQ',\n",
       " 'https://mp.weixin.qq.com/s/T7W4z1YpykNltgM4Els3cw',\n",
       " 'https://mp.weixin.qq.com/s/tHvCXVKoe13lU2_EP935QQ',\n",
       " 'https://mp.weixin.qq.com/s/TndLruxymZlVFM7oT-tbmQ',\n",
       " 'https://mp.weixin.qq.com/s/tnX6pWa1ag-aA4zvjQh2Qg',\n",
       " 'https://mp.weixin.qq.com/s/TTppjI31ZGHP4nDiAueQZw',\n",
       " 'https://mp.weixin.qq.com/s/U019DW4SJCxW7RTcd9I1Iw',\n",
       " 'https://mp.weixin.qq.com/s/uaNlrAc-0-i_rMvYaAYVJA',\n",
       " 'https://mp.weixin.qq.com/s/UD8VFba4oRx4LLJm3cX7zw',\n",
       " 'https://mp.weixin.qq.com/s/uiBhG5cbibkaO3D2wSMrzA',\n",
       " 'https://mp.weixin.qq.com/s/UK7n7JRT9q4Qmmq0nVa7Yw',\n",
       " 'https://mp.weixin.qq.com/s/URJDtNlB8jOnsmdH17VjXA',\n",
       " 'https://mp.weixin.qq.com/s/v8_qO9NA0OZlohlo0sbCZg',\n",
       " 'https://mp.weixin.qq.com/s/VCPYIcswFYrXKMT_iAo4sQ',\n",
       " 'https://mp.weixin.qq.com/s/VHyCUTBLdswJUs4v94gCGg',\n",
       " 'https://mp.weixin.qq.com/s/VlmSYauI8yaDuegXGATg1A',\n",
       " 'https://mp.weixin.qq.com/s/VlptYBqxOilNbokYmgAq3w',\n",
       " 'https://mp.weixin.qq.com/s/vyMK9XAfBREa6c7KkQZE_g',\n",
       " 'https://mp.weixin.qq.com/s/W9Iqq_rF4D9qHfI91nC0MQ',\n",
       " 'https://mp.weixin.qq.com/s/WBkYAkadMMy8qkjvZeTbyQ',\n",
       " 'https://mp.weixin.qq.com/s/wpsNrPfHKhGECppcmODvAA',\n",
       " 'https://mp.weixin.qq.com/s/X4CKfM-zAvmJTCi_4I-bVg',\n",
       " 'https://mp.weixin.qq.com/s/XLC_oAGCkfZ-9QZiN7dyFw',\n",
       " 'https://mp.weixin.qq.com/s/xPkUySDb9RVh1fWlcQLwGQ',\n",
       " 'https://mp.weixin.qq.com/s/xSgycy4VCvOdSGZl_lWrrw',\n",
       " 'https://mp.weixin.qq.com/s/xYVXdohY_4acdQTniOGWUA',\n",
       " 'https://mp.weixin.qq.com/s/Y43irqUbONn5cePk8zDMVA',\n",
       " 'https://mp.weixin.qq.com/s/y9lpITTKuZivPJB9l55ORg',\n",
       " 'https://mp.weixin.qq.com/s/yB_kxKjAEYVn9MR8PyRCZg',\n",
       " 'https://mp.weixin.qq.com/s/yCMbVMLBuXAhTNhtzZeY7w',\n",
       " 'https://mp.weixin.qq.com/s/YfzMmv1vUZyiphWUgzOLlA',\n",
       " 'https://mp.weixin.qq.com/s/YgLkGhE1VlX6oQWl9nqyMg',\n",
       " 'https://mp.weixin.qq.com/s/YLSR_0NXJ5LUg6LWGW_aDg',\n",
       " 'https://mp.weixin.qq.com/s/yq4IcgXi4vxQxO3UBYOZ-A',\n",
       " 'https://mp.weixin.qq.com/s/yT_I4r6Sc2K3O7-3iAl-mA',\n",
       " 'https://mp.weixin.qq.com/s/yyeefgne4StL6ZH9mRh80Q',\n",
       " 'https://mp.weixin.qq.com/s/z1mVzAvyEoNiS2s0jsIgQw',\n",
       " 'https://mp.weixin.qq.com/s/zOGzJVviegMaLRE8tuiLRw',\n",
       " 'https://weibo.com/7129811001/IrH6peQ3d?from=page_1002067129811001_profile&wvr=6&mod=weibotime&type=comment#_rnd1581676880432',\n",
       " 'https://weibo.com/7129811001/IssWHlJzw?from=page_1002067129811001_profile&wvr=6&mod=weibotime&type=comment',\n",
       " 'https://weibo.com/7129811001/ItKAzr93p?from=page_1002067129811001_profile&wvr=6&mod=weibotime&type=comment#_rnd1581676145115',\n",
       " 'https://www.sg.gov.cn/xw/ztjj/yqfkyz/zxyq/content/post_1754923.html',\n",
       " 'https://www.sg.gov.cn/xw/ztjj/yqfkyz/zxyq/content/post_1756096.html',\n",
       " 'https://www.sg.gov.cn/xw/ztjj/yqfkyz/zxyq/content/post_1760064.html',\n",
       " 'https://www.tibet3.com/news/zangqu/qh/2020-02-04/149341.html']"
      ]
     },
     "execution_count": 14,
     "metadata": {},
     "output_type": "execute_result"
    }
   ],
   "source": [
    "old"
   ]
  },
  {
   "cell_type": "code",
   "execution_count": 18,
   "metadata": {},
   "outputs": [
    {
     "data": {
      "text/plain": [
       "['https://mp.weixin.qq.com/s/N76fZ6R4zeiB6Zqa3TYaxg',\n",
       " 'http://www.gz.gov.cn/zt/qlyfdyyqfkyz/qktb/content/mpost_5650490.html',\n",
       " 'http://wjw.gz.gov.cn/ztzl/xxfyyqfk/yqtb/content/post_5650395.html',\n",
       " 'https://mp.weixin.qq.com/s/KkYpkD4oV997_ZPNRa0vHg',\n",
       " 'http://wjw.sz.gov.cn/yqxx/202002/t20200203_18996658.htm',\n",
       " 'https://mp.weixin.qq.com/s/AZnrdhDgVfn97M0c70VsPQ',\n",
       " 'https://mp.weixin.qq.com/s/QxB_8cidgtnMyYPLYRhuiA',\n",
       " 'https://m.mp.oeeee.com/a/BAAFRD000020200202256893.html',\n",
       " 'https://mp.weixin.qq.com/s/VnxpNxpR_9C68QcaLM0Hcg',\n",
       " 'https://mp.weixin.qq.com/s/ZUlkntZnC4B7Up6RUuTc_A',\n",
       " 'https://m.mp.oeeee.com/a/BAAFRD000020200204258006.html',\n",
       " 'https://m.mp.oeeee.com/a/BAAFRD000020200205258595.html',\n",
       " 'https://m.mp.oeeee.com/a/BAAFRD000020200203257425.html',\n",
       " 'https://m.mp.oeeee.com/a/BAAFRD000020200131256329.html',\n",
       " 'https://mp.weixin.qq.com/s/niO2D4Y69Z9A_jSQ05fWVw',\n",
       " 'https://m.mp.oeeee.com/a/BAAFRD000020200205258804.html',\n",
       " 'https://mp.weixin.qq.com/s/ImcoQdy9mq5XDbeFW_77ig',\n",
       " 'https://mp.weixin.qq.com/s/NzxO4EDvIgv2uf34rtRogQ',\n",
       " 'https://mp.weixin.qq.com/s/dmH5ZJzGZpbipMwArjR0ew',\n",
       " 'https://m.mp.oeeee.com/a/BAAFRD000020200203257453.html?from=singlemessage',\n",
       " 'https://m.mp.oeeee.com/a/BAAFRD000020200205258552.html',\n",
       " 'https://m.mp.oeeee.com/a/BAAFRD000020200204257986.html',\n",
       " 'https://m.mp.oeeee.com/a/BAAFRD000020200204258006.html?from=singlemessage',\n",
       " 'https://www.meizhou.gov.cn/zwgk/zfjg/swsjkj/zfxxgkml/gzdt/content/mpost_1961826.html',\n",
       " 'https://mp.weixin.qq.com/s/HcxhAR_zyM42nRwYEPYPJQ',\n",
       " 'https://mp.weixin.qq.com/s/38A4EVm7Z8vgTgjzgQ2MeA',\n",
       " 'https://mp.weixin.qq.com/s/qfgTktPEryCYGlVfiOOSxg',\n",
       " 'https://mp.weixin.qq.com/s/Fb_mE4aL_anvVCxUbnR8OQ',\n",
       " 'https://mp.weixin.qq.com/s/95NXnHRnYzEBJEuiYxlp5Q',\n",
       " 'https://mp.weixin.qq.com/s/5VPghOXvdzGCxxZ5pZ65wg',\n",
       " 'https://mp.weixin.qq.com/s/o7hxc0RTqyeOCeVSg4j6xA',\n",
       " 'https://m.mp.oeeee.com/a/BAAFRD000020200204257969.html',\n",
       " 'https://m.mp.oeeee.com/a/BAAFRD000020200204258381.html',\n",
       " 'https://m.mp.oeeee.com/a/BAAFRD000020200203257514.html?layer=4&share=chat&isndappinstalled=13',\n",
       " 'https://m.mp.oeeee.com/a/BAAFRD000020200203257514.html?layer=4&share=chat&isndappinstalled=11',\n",
       " 'https://m.mp.oeeee.com/a/BAAFRD000020200203257514.html?layer=4&share=chat&isndappinstalled=10',\n",
       " 'https://m.mp.oeeee.com/a/BAAFRD000020200203257514.html?layer=4&share=chat&isndappinstalled=9',\n",
       " 'https://m.mp.oeeee.com/a/BAAFRD000020200203257514.html?layer=4&share=chat&isndappinstalled=8',\n",
       " 'https://m.mp.oeeee.com/a/BAAFRD000020200203257514.html?layer=4&share=chat&isndappinstalled=7',\n",
       " 'https://m.mp.oeeee.com/a/BAAFRD000020200203257514.html?layer=4&share=chat&isndappinstalled=6',\n",
       " 'https://m.mp.oeeee.com/a/BAAFRD000020200203257514.html?layer=4&share=chat&isndappinstalled=5',\n",
       " 'https://m.mp.oeeee.com/a/BAAFRD000020200203257514.html?layer=4&share=chat&isndappinstalled=3',\n",
       " 'https://m.mp.oeeee.com/a/BAAFRD000020200203257514.html?layer=4&share=chat&isndappinstalled=2',\n",
       " 'https://m.mp.oeeee.com/a/BAAFRD000020200203257514.html?layer=4&share=chat&isndappinstalled=1',\n",
       " 'https://m.mp.oeeee.com/a/BAAFRD000020200203257514.html?layer=4&share=chat&isndappinstalled=0',\n",
       " 'https://m.mp.oeeee.com/a/BAAFRD000020200201256591.html?layer=3&share=chat&isndappinstalled=0',\n",
       " 'https://m.mp.oeeee.com/a/BAAFRD000020200131256384.html',\n",
       " 'https://m.mp.oeeee.com/a/BAAFRD000020200130255837.html?layer=2&share=chat&isndappinstalled=0',\n",
       " 'https://m.mp.oeeee.com/a/BAAFRD000020200205258549.html?from=singlemessage&isappinstalled=0',\n",
       " 'http://www.jiangmen.gov.cn/home/zwyw/content/post_1970234.html',\n",
       " 'https://m.mp.oeeee.com/a/BAAFRD000020200130255474.html',\n",
       " 'https://mp.weixin.qq.com/s/PP0Ae7iEqCdUTjgNfCvqCA',\n",
       " 'https://m.mp.oeeee.com/a/BAAFRD000020200204258092.html?layer=2&share=chat&isndappinstalled=0',\n",
       " 'https://m.mp.oeeee.com/a/BAAFRD000020200205258622.html',\n",
       " 'https://mp.weixin.qq.com/s/4z6VMsRUUlQFhxdX65dGeg',\n",
       " 'https://m.mp.oeeee.com/a/BAAFRD000020200205258967.html',\n",
       " 'https://mp.weixin.qq.com/s/eiEGjqgwS1aD473ux2_5-g',\n",
       " 'http://wjw.gz.gov.cn/ztzl/xxfyyqfk/yqtb/content/post_5652045.html',\n",
       " 'https://mp.weixin.qq.com/s/e-amp6o98SLDq_lWixvHXQ',\n",
       " 'https://mp.weixin.qq.com/s/fCvbNEJExzzEE94c5o0mJg',\n",
       " 'https://m.mp.oeeee.com/a/BAAFRD000020200205258816.html',\n",
       " 'https://m.mp.oeeee.com/a/BAAFRD000020200205258549.html',\n",
       " 'https://mp.weixin.qq.com/s/3yMfjhjDS8rgi4OI4o7MoA',\n",
       " 'https://www.meizhou.gov.cn/zwgk/zfjg/swsjkj/zfxxgkml/gzdt/content/post_1962224.html',\n",
       " 'https://mp.weixin.qq.com/s/8IrwkJ3QFO_QWNvNUEXeBg',\n",
       " 'https://mp.weixin.qq.com/s/az_BM3mznGq6X_L8ffzlGw',\n",
       " 'http://wsjkj.zhuhai.gov.cn/zwgk/tzgg/content/post_2466822.html',\n",
       " 'https://m.mp.oeeee.com/a/BAAFRD000020200205258812.html',\n",
       " 'https://mp.weixin.qq.com/s/QLfdqXGeGMoiDdVn5CR-uA',\n",
       " 'https://mp.weixin.qq.com/s/ed2Kqhl3SM9v84XkNu_kPg',\n",
       " 'https://mp.weixin.qq.com/s/RJLgbJ7EaZMJlbXIOdi1uA',\n",
       " 'https://m.mp.oeeee.com/a/BAAFRD000020200205258617.html',\n",
       " 'https://m.mp.oeeee.com/a/BAAFRD000020200205258863.html',\n",
       " 'https://m.mp.oeeee.com/a/BAAFRD000020200206259154.html',\n",
       " 'https://mp.weixin.qq.com/s/jEj6-XPSjBx4QmbAHPvcaA',\n",
       " 'https://m.mp.oeeee.com/a/BAAFRD000020200206259126.html?layer=2&share=chat&isndappinstalled=0',\n",
       " 'https://m.mp.oeeee.com/a/BAAFRD000020200206259126.html?from=singlemessage',\n",
       " 'https://m.mp.oeeee.com/a/BAAFRD000020200206259165.html',\n",
       " 'https://mp.weixin.qq.com/s/XwNjdNq5T1j_yI4r5o5gTQ',\n",
       " 'https://mp.weixin.qq.com/s/K-sGSnsJxXeBykGxzheZgw',\n",
       " 'https://m.mp.oeeee.com/a/BAAFRD000020200206259435.html?from=groupmessage&isappinstalled=0',\n",
       " 'https://mp.weixin.qq.com/s/d3ON0qecuZkcysq9iBHIag',\n",
       " 'http://www.gaoyao.gov.cn/ztzlyqfk/content/post_1969957.html',\n",
       " 'https://mp.weixin.qq.com/s/58QJRgoIruKKOdvWfKXFBw',\n",
       " 'https://mp.weixin.qq.com/s/C6HaqZrzTVpjx87YYtPdLg',\n",
       " 'https://mp.weixin.qq.com/s/seLEM6utIRjmlJnt1ObSmQ',\n",
       " 'https://mp.weixin.qq.com/s/UBvWAGWqx5upnac0ewUEQg',\n",
       " 'https://mp.weixin.qq.com/s/0l60ZqTHkZ0x9gIJJ_L1GQ',\n",
       " 'https://mp.weixin.qq.com/s?__biz=MzA4MjEzOTQ4Mw==&mid=2650628055&idx=1&sn=67079b69b434704c52c1be7a42f754b8&chksm=8783bfe3b0f436f58d5f7f9714645cc90eba7bea161d08383cb0897a3228ec8aeec61eb7c64f&mpshare=1&scene=1&srcid=&sharer_sharetime=1581135000671&sharer_sh',\n",
       " 'https://mp.weixin.qq.com/s/DJ2wqPqYHw-jyUCs82g3rg',\n",
       " 'https://m.mp.oeeee.com/a/BAAFRD000020200207260189.html',\n",
       " 'https://mp.weixin.qq.com/s/98eYE6zMZSBWQfNqJZbTJA',\n",
       " 'https://mp.weixin.qq.com/s/4-mv1FvXQTyf4TUV4S7R4Q',\n",
       " 'https://mp.weixin.qq.com/s/jUNaWRR69mvaMgpcnAVvVA',\n",
       " 'https://m.mp.oeeee.com/a/BAAFRD000020200208260502.html?layer=2&share=chat&isndappinstalled=0',\n",
       " 'http://wjw.hefei.gov.cn/ztzl/xxgzbdgrdfyyqfk/xxfb/17723463.html',\n",
       " 'http://www.ahwang.cn/anhui/20200205/1977251.html',\n",
       " 'http://www.bbnews.cn/p/7411.html?spm=zm1143-001.0.0.1.NRj4TT',\n",
       " 'http://wjw.hefei.gov.cn/ztzl/xxgzbdgrdfyyqfk/xxfb/17723955.html',\n",
       " 'https://weibo.com/3442980450/IsUn2AqiS',\n",
       " 'https://mp.weixin.qq.com/s/3-vaX3qS-ETg624GmC-AmA',\n",
       " 'https://mp.weixin.qq.com/s/0BJBc-qrghs3-g2xzs8Plw',\n",
       " 'https://mp.weixin.qq.com/s/6dcjtAS7H9J-R8MENf8Ygw',\n",
       " 'https://mp.weixin.qq.com/s/5JTDmfTzdGR4HI_u-xqzKQ',\n",
       " 'https://mp.weixin.qq.com/s/Knh2diX1UlX_TrMDYOc-hw',\n",
       " 'https://mp.weixin.qq.com/s/BqLra_DMGKDL84G0dpxGQw',\n",
       " 'http://hfpc.xm.gov.cn/xwzx/tzgg/202002/t20200203_2419523.htm',\n",
       " 'https://mp.weixin.qq.com/s/HwRgxACoC_lTyXFQUF0vHw',\n",
       " 'http://hfpc.xm.gov.cn/xwzx/tzgg/202002/t20200204_2419773.htm',\n",
       " 'https://mp.weixin.qq.com/s/iDWXUYfXgcLSPEiIfgCXIA',\n",
       " 'http://hfpc.xm.gov.cn/xwzx/tzgg/202002/t20200207_2420350.htm',\n",
       " 'https://mp.weixin.qq.com/s/UB-k6tTT9WSSUvzC5k0Hcg',\n",
       " 'https://mp.weixin.qq.com/s/ffl01w2v7mjJSJuMWKrk_A',\n",
       " 'https://mp.weixin.qq.com/s/fhqvnOGxTC3rqgSRz0lVJw',\n",
       " 'https://mp.weixin.qq.com/s/V9Z0__qohABfoY3sgAoefg',\n",
       " 'https://mp.weixin.qq.com/s/4t4rzPDSAosHrQLWcHrjQA',\n",
       " 'https://mp.weixin.qq.com/s/779aA0RshWV9BSQRfhz0Lw',\n",
       " 'https://mp.weixin.qq.com/s/qsbIODI2G57axt9zr86eRg',\n",
       " 'https://mp.weixin.qq.com/s/bDY_tLAOKtfouxq2EisYbw',\n",
       " 'https://mp.weixin.qq.com/s/k9mJHlu11N5bLxS9-QWXWA',\n",
       " 'https://mp.weixin.qq.com/s/LcR9UuoA-NO5Gx3AOYw5cQ',\n",
       " 'https://mp.weixin.qq.com/s/Hs6IpqXoxWCPWX5Rg3YtwA',\n",
       " 'http://www.gzhfpc.gov.cn/xwzx_500663/tzgg/202002/t20200205_47278011.html',\n",
       " 'http://www.gzhfpc.gov.cn/xwzx_500663/zwyw/202002/t20200204_47017878.html',\n",
       " 'https://mp.weixin.qq.com/s/HaPceoGXl2XnSTFTKWMvZA',\n",
       " 'https://mp.weixin.qq.com/s/LiaHguhJbY3lcCW1iFM7Vw',\n",
       " 'https://mp.weixin.qq.com/s/tqhxt5RZhGloGturQtHafQ',\n",
       " 'https://mp.weixin.qq.com/s?__biz=MzA3NDIwODEwMA==&mid=2878778752&idx=4&sn=74c16ce68b252b3c5bc359d36b5d2a6d&chksm=b1614b8b8616c29d6e9541bb533dce0dd068f0e8e71c960bf79a13a0b937e1c397238e5c8cbd&mpshare=1&scene=1&srcid=&sharer_sharetime=1581943522960&sharer_sh',\n",
       " 'http://www.gzhfpc.gov.cn/ztzl_500663/xxgzbdgrdfyyqfk/yqdt/202002/t20200213_48886436.html',\n",
       " 'https://mp.weixin.qq.com/s/Dc6hqrFt1WTJEnxM4XHtBw',\n",
       " 'https://mp.weixin.qq.com/s/gISZhpQ7Y-hmVNvoUn1K1g',\n",
       " 'http://wst.hainan.gov.cn/yqfk/index/index/qianyi.html',\n",
       " 'https://mp.weixin.qq.com/s/aVozwgjJCHKFhJxjcsvu1Q',\n",
       " 'https://mp.weixin.qq.com/s/ZFeDPEwTl11xVXMBjtV_2g',\n",
       " ' https://mp.weixin.qq.com/s/aVozwgjJCHKFhJxjcsvu1Q',\n",
       " 'https://mp.weixin.qq.com/s/vjaX0yG9GeqvRQ7N-btO_Q',\n",
       " ' http://wst.hainan.gov.cn/yqfk/index/index/qianyi.html',\n",
       " 'https://mp.weixin.qq.com/s?__biz=MzA4NjUyMjMzMA==&mid=2650788921&idx=1&sn=453b3b352e07b8ceda3d21fab1634332&chksm=87cc148cb0bb9d9a6788e15aa0d63ce1488b17263b78e0aa998b5fa6eb440787ecb413d2db27&mpshare=1&scene=1&srcid=&sharer_sharetime=1580972164289&sharer_sh',\n",
       " 'https://mp.weixin.qq.com/s?__biz=MzA4NjUyMjMzMA==&mid=2650788957&idx=1&sn=d86b897d738dab5a2865f1f8593fe542&chksm=87cc14e8b0bb9dfeed22f33081f69742a1b7e04c4674444bba70c2bea233b115d115ada380d9&mpshare=1&scene=1&srcid=&sharer_sharetime=1580975167689&sharer_sh',\n",
       " 'http://www.yandunews.com/html/2020/bingli_0209/8.html',\n",
       " 'https://mp.weixin.qq.com/s?__biz=MzA4NjUyMjMzMA==&mid=2650789284&idx=1&sn=98ff3db390dc1b22dd1b85c0e1841b68&chksm=87cc1511b0bb9c073b60a11bbc9998a54a0ad295e7ad7b6d4a980d4b9d6f4be658357fb302b3&mpshare=1&scene=1&srcid=&sharer_sharetime=1581068168354&sharer_sh',\n",
       " 'https://mp.weixin.qq.com/s?__biz=MzA4NjUyMjMzMA==&mid=2650789511&idx=1&sn=2421038cd68b88d4dc43803f17176b97&chksm=87cc1632b0bb9f2453eb02982848ade9668f6003f60bd1ccca015cba787ed1f8a46e158d0b49&mpshare=1&scene=1&srcid=&sharer_sharetime=1581068189987&sharer_sh',\n",
       " 'http://wjw.zhengzhou.gov.cn/qwfb/2345654.jhtml',\n",
       " 'http://wjw.zhengzhou.gov.cn/qwfb/2348027.jhtml',\n",
       " 'http://wjw.zhengzhou.gov.cn/qwfb/2346837.jhtml',\n",
       " 'http://www.kfwsjsw.gov.cn/news/wsxw/20200205/8407.html',\n",
       " 'https://www.henan100.com/news/2020/905240.shtml',\n",
       " 'https://baijiahao.baidu.com/s?id=1657976152714727373&wfr=spider&for=pc',\n",
       " 'https://mp.weixin.qq.com/s/YeBDsmjoGGUk4x8GcknE_Q',\n",
       " 'https://mp.weixin.qq.com/s/NgVs3WaxLn4gErwEjJWSMw',\n",
       " 'https://mp.weixin.qq.com/s/oMM7kY6sk29kXYE_NyqfWQ',\n",
       " 'https://mp.weixin.qq.com/s/0HvK1Md1pz1rK3Y3dbusAQ',\n",
       " 'https://mp.weixin.qq.com/s/n1DaDYlP_CoejJ1aKtAyrw',\n",
       " 'https://mp.weixin.qq.com/s/pf-ISKMDqKwnItqQfVV5FQ',\n",
       " 'https://mp.weixin.qq.com/s/qp896YSiMMH934gm09LaQA',\n",
       " 'https://mp.weixin.qq.com/s/vLLFWKXKGM3mzuS2RyXTig',\n",
       " 'https://mp.weixin.qq.com/s/dcPwb6Md2Filnkv8lRG-8g',\n",
       " 'https://mp.weixin.qq.com/s/tH9vP_5Xi5IjbwVh-ZHnnA',\n",
       " 'https://mp.weixin.qq.com/s/ebSYvAXoI8K6xQFErgyq4g',\n",
       " 'https://mp.weixin.qq.com/s/9vI40yS4VILYLW8EB-u8tA',\n",
       " 'https://mp.weixin.qq.com/s/NUSIHrZuvVUbjZBY7c2nig',\n",
       " 'https://mp.weixin.qq.com/s/ObvjIgPMKKL5iAoTtm-U7Q',\n",
       " 'https://mp.weixin.qq.com/s/rAN8qAEMRdlTjx-NNZHhbw',\n",
       " 'https://mp.weixin.qq.com/s/M6uQMnE3HTLysTd8asMFug',\n",
       " 'https://app.cnchu.com/index.php/?m=content&c=index&a=show&catid=1&id=20870',\n",
       " 'http://wjw.jingzhou.gov.cn/ztzl/fkxxgz/202002/t20200208_454770.shtml',\n",
       " 'https://mp.weixin.qq.com/s/B_bazUZ9hGT4H0jQfFGTIA',\n",
       " 'https://mp.weixin.qq.com/s/6SlwL-My3-Gzug438Efvjg',\n",
       " 'https://mp.weixin.qq.com/s?__biz=MjM5MTY2NjcwMA==&mid=2650726424&idx=3&sn=2c6b56fa1cb99b38ac3b996e603a7205&chksm=beb8477b89cfce6d7381a6310a48865e07a4b1368a4a33503a430019a7ecabc9928b86292f01&mpshare=1&scene=1&srcid=&sharer_sharetime=1580999780087&sharer_sh',\n",
       " 'http://m.xxcb.cn/event/changsha/2020-02-01/9120744.html',\n",
       " 'http://wjw.zhuzhou.gov.cn//c16689/20200201/i1429367.html',\n",
       " 'https://weibo.com/2288691440/IsDKqrSPR?sudaref=www.baidu.com&display=0&retcode=6102&type=comment#_rnd1581658287338',\n",
       " 'https://weibo.com/2288691440/IsDKqrSPR?sudaref=www.baidu.com&display=0&retcode=6102&type=comment#_rnd1581267634206',\n",
       " 'https://weibo.com/2288691440/IsDKqrSPR?sudaref=www.baidu.com&display=0&retcode=6102&type=comment#_rnd1581659477033',\n",
       " 'http://wjw.changde.gov.cn/zhdt/wjdt/content_718705',\n",
       " 'https://mp.weixin.qq.com/s?__biz=MjM5MTY2NjcwMA==&mid=2650726445&idx=4&sn=99a659794f0b902f7fa714a8e768eda3&chksm=beb8474e89cfce5816ed8ee9728216e40863957c339f562bedf80f21d2cc65962cf09e9a1f0d&mpshare=1&scene=1&srcid=&sharer_sharetime=1581052627542&sharer_sh',\n",
       " 'http://www.changde.gov.cn/cdzx/cdyw/content_717733',\n",
       " 'http://wjw.changde.gov.cn/zhdt/wjdt/content_718989',\n",
       " 'https://mp.weixin.qq.com/s/7QdFMJ-Z0ygdp-UxhasNdA',\n",
       " 'http://news.ldnews.cn/news/loudi/202002/621592.shtml',\n",
       " 'http://www.jlcity.gov.cn/zt/qtzt/kjxgfy/tzgg/202002/t20200203_730660.html',\n",
       " 'http://www.jl.gov.cn/szfzt/jlzxd/yqtb/202002/t20200204_6674931.html',\n",
       " 'https://mp.weixin.qq.com/s/oGMG1xFfaJ3dnUs_gPHLzg',\n",
       " 'https://mp.weixin.qq.com/s/r_Vi9_HbC-fEx9iAOhJiHA',\n",
       " 'https://mp.weixin.qq.com/s/AR9o0zlUzl0MGbU54CfWzQ',\n",
       " 'http://www.jl.gov.cn/szfzt/jlzxd/yqtb/202002/t20200208_6828726.html',\n",
       " 'http://www.jl.gov.cn/szfzt/jlzxd/yqtb/202002/t20200209_6829137.html',\n",
       " 'http://www.jl.gov.cn/szfzt/jlzxd/yqtb/202002/t20200207_6828199.html',\n",
       " 'http://www.jl.gov.cn/szfzt/jlzxd/yqtb/202002/t20200210_6829498.html',\n",
       " 'https://mp.weixin.qq.com/s/xjZGu-rYlfr_57JUC-yv9g',\n",
       " 'https://mp.weixin.qq.com/s/gb33Pz92gZiVFRe1hy0YyQ',\n",
       " 'http://wsjkw.jlsy.gov.cn/xwzx/jgdt/202002/t20200202_360033.html',\n",
       " 'http://www.jl.gov.cn/szfzt/jlzxd/yqtb/202002/t20200212_6836270.html',\n",
       " 'http://www.jl.gov.cn/szfzt/jlzxd/yqtb/202002/t20200213_6836775.html',\n",
       " 'http://wsjkw.jl.gov.cn/xwzx/xwfb/202002/t20200206_6827634.html']"
      ]
     },
     "execution_count": 18,
     "metadata": {},
     "output_type": "execute_result"
    }
   ],
   "source": [
    "new"
   ]
  },
  {
   "cell_type": "code",
   "execution_count": 19,
   "metadata": {},
   "outputs": [
    {
     "name": "stdout",
     "output_type": "stream",
     "text": [
      "yes\n"
     ]
    }
   ],
   "source": [
    "new = df['疫情通报网址'].values.tolist()\n",
    "if \"https://mp.weixin.qq.com/s/ZUlkntZnC4B7Up6RUuTc_A\" in new:\n",
    "    print('yes')\n",
    "#  in .values.tolist()"
   ]
  },
  {
   "cell_type": "code",
   "execution_count": 20,
   "metadata": {},
   "outputs": [],
   "source": [
    "for i in df['疫情通报网址']:\n",
    "    if i in old:\n",
    "        print('yes')"
   ]
  },
  {
   "cell_type": "code",
   "execution_count": 21,
   "metadata": {},
   "outputs": [],
   "source": [
    "df.rename(columns={'疫情通报网址':'url'}, inplace=True)\n",
    "df['url'] = df['url'].apply(lambda x: x.replace(' ',''))"
   ]
  },
  {
   "cell_type": "code",
   "execution_count": 22,
   "metadata": {},
   "outputs": [
    {
     "data": {
      "text/html": [
       "<div>\n",
       "<style scoped>\n",
       "    .dataframe tbody tr th:only-of-type {\n",
       "        vertical-align: middle;\n",
       "    }\n",
       "\n",
       "    .dataframe tbody tr th {\n",
       "        vertical-align: top;\n",
       "    }\n",
       "\n",
       "    .dataframe thead th {\n",
       "        text-align: right;\n",
       "    }\n",
       "</style>\n",
       "<table border=\"1\" class=\"dataframe\">\n",
       "  <thead>\n",
       "    <tr style=\"text-align: right;\">\n",
       "      <th></th>\n",
       "      <th>url</th>\n",
       "    </tr>\n",
       "  </thead>\n",
       "  <tbody>\n",
       "    <tr>\n",
       "      <td>0</td>\n",
       "      <td>https://mp.weixin.qq.com/s/N76fZ6R4zeiB6Zqa3TYaxg</td>\n",
       "    </tr>\n",
       "    <tr>\n",
       "      <td>1</td>\n",
       "      <td>http://www.gz.gov.cn/zt/qlyfdyyqfkyz/qktb/cont...</td>\n",
       "    </tr>\n",
       "    <tr>\n",
       "      <td>2</td>\n",
       "      <td>http://wjw.gz.gov.cn/ztzl/xxfyyqfk/yqtb/conten...</td>\n",
       "    </tr>\n",
       "    <tr>\n",
       "      <td>3</td>\n",
       "      <td>https://mp.weixin.qq.com/s/KkYpkD4oV997_ZPNRa0vHg</td>\n",
       "    </tr>\n",
       "    <tr>\n",
       "      <td>4</td>\n",
       "      <td>http://wjw.sz.gov.cn/yqxx/202002/t20200203_189...</td>\n",
       "    </tr>\n",
       "    <tr>\n",
       "      <td>...</td>\n",
       "      <td>...</td>\n",
       "    </tr>\n",
       "    <tr>\n",
       "      <td>190</td>\n",
       "      <td>https://mp.weixin.qq.com/s/gb33Pz92gZiVFRe1hy0YyQ</td>\n",
       "    </tr>\n",
       "    <tr>\n",
       "      <td>191</td>\n",
       "      <td>http://wsjkw.jlsy.gov.cn/xwzx/jgdt/202002/t202...</td>\n",
       "    </tr>\n",
       "    <tr>\n",
       "      <td>192</td>\n",
       "      <td>http://www.jl.gov.cn/szfzt/jlzxd/yqtb/202002/t...</td>\n",
       "    </tr>\n",
       "    <tr>\n",
       "      <td>193</td>\n",
       "      <td>http://www.jl.gov.cn/szfzt/jlzxd/yqtb/202002/t...</td>\n",
       "    </tr>\n",
       "    <tr>\n",
       "      <td>194</td>\n",
       "      <td>http://wsjkw.jl.gov.cn/xwzx/xwfb/202002/t20200...</td>\n",
       "    </tr>\n",
       "  </tbody>\n",
       "</table>\n",
       "<p>195 rows × 1 columns</p>\n",
       "</div>"
      ],
      "text/plain": [
       "                                                   url\n",
       "0    https://mp.weixin.qq.com/s/N76fZ6R4zeiB6Zqa3TYaxg\n",
       "1    http://www.gz.gov.cn/zt/qlyfdyyqfkyz/qktb/cont...\n",
       "2    http://wjw.gz.gov.cn/ztzl/xxfyyqfk/yqtb/conten...\n",
       "3    https://mp.weixin.qq.com/s/KkYpkD4oV997_ZPNRa0vHg\n",
       "4    http://wjw.sz.gov.cn/yqxx/202002/t20200203_189...\n",
       "..                                                 ...\n",
       "190  https://mp.weixin.qq.com/s/gb33Pz92gZiVFRe1hy0YyQ\n",
       "191  http://wsjkw.jlsy.gov.cn/xwzx/jgdt/202002/t202...\n",
       "192  http://www.jl.gov.cn/szfzt/jlzxd/yqtb/202002/t...\n",
       "193  http://www.jl.gov.cn/szfzt/jlzxd/yqtb/202002/t...\n",
       "194  http://wsjkw.jl.gov.cn/xwzx/xwfb/202002/t20200...\n",
       "\n",
       "[195 rows x 1 columns]"
      ]
     },
     "execution_count": 22,
     "metadata": {},
     "output_type": "execute_result"
    }
   ],
   "source": [
    "df"
   ]
  },
  {
   "cell_type": "markdown",
   "metadata": {},
   "source": [
    "# 去空去重"
   ]
  },
  {
   "cell_type": "code",
   "execution_count": 23,
   "metadata": {},
   "outputs": [],
   "source": [
    "df = df.dropna(axis=0,how='all')"
   ]
  },
  {
   "cell_type": "code",
   "execution_count": 24,
   "metadata": {},
   "outputs": [],
   "source": [
    "df = df.drop_duplicates()"
   ]
  },
  {
   "cell_type": "code",
   "execution_count": 25,
   "metadata": {},
   "outputs": [],
   "source": [
    "df.reset_index(drop=True,inplace = True)"
   ]
  },
  {
   "cell_type": "code",
   "execution_count": 26,
   "metadata": {},
   "outputs": [
    {
     "data": {
      "text/html": [
       "<div>\n",
       "<style scoped>\n",
       "    .dataframe tbody tr th:only-of-type {\n",
       "        vertical-align: middle;\n",
       "    }\n",
       "\n",
       "    .dataframe tbody tr th {\n",
       "        vertical-align: top;\n",
       "    }\n",
       "\n",
       "    .dataframe thead th {\n",
       "        text-align: right;\n",
       "    }\n",
       "</style>\n",
       "<table border=\"1\" class=\"dataframe\">\n",
       "  <thead>\n",
       "    <tr style=\"text-align: right;\">\n",
       "      <th></th>\n",
       "      <th>url</th>\n",
       "    </tr>\n",
       "  </thead>\n",
       "  <tbody>\n",
       "    <tr>\n",
       "      <td>0</td>\n",
       "      <td>https://mp.weixin.qq.com/s/N76fZ6R4zeiB6Zqa3TYaxg</td>\n",
       "    </tr>\n",
       "    <tr>\n",
       "      <td>1</td>\n",
       "      <td>http://www.gz.gov.cn/zt/qlyfdyyqfkyz/qktb/cont...</td>\n",
       "    </tr>\n",
       "    <tr>\n",
       "      <td>2</td>\n",
       "      <td>http://wjw.gz.gov.cn/ztzl/xxfyyqfk/yqtb/conten...</td>\n",
       "    </tr>\n",
       "    <tr>\n",
       "      <td>3</td>\n",
       "      <td>https://mp.weixin.qq.com/s/KkYpkD4oV997_ZPNRa0vHg</td>\n",
       "    </tr>\n",
       "    <tr>\n",
       "      <td>4</td>\n",
       "      <td>http://wjw.sz.gov.cn/yqxx/202002/t20200203_189...</td>\n",
       "    </tr>\n",
       "    <tr>\n",
       "      <td>...</td>\n",
       "      <td>...</td>\n",
       "    </tr>\n",
       "    <tr>\n",
       "      <td>188</td>\n",
       "      <td>https://mp.weixin.qq.com/s/gb33Pz92gZiVFRe1hy0YyQ</td>\n",
       "    </tr>\n",
       "    <tr>\n",
       "      <td>189</td>\n",
       "      <td>http://wsjkw.jlsy.gov.cn/xwzx/jgdt/202002/t202...</td>\n",
       "    </tr>\n",
       "    <tr>\n",
       "      <td>190</td>\n",
       "      <td>http://www.jl.gov.cn/szfzt/jlzxd/yqtb/202002/t...</td>\n",
       "    </tr>\n",
       "    <tr>\n",
       "      <td>191</td>\n",
       "      <td>http://www.jl.gov.cn/szfzt/jlzxd/yqtb/202002/t...</td>\n",
       "    </tr>\n",
       "    <tr>\n",
       "      <td>192</td>\n",
       "      <td>http://wsjkw.jl.gov.cn/xwzx/xwfb/202002/t20200...</td>\n",
       "    </tr>\n",
       "  </tbody>\n",
       "</table>\n",
       "<p>193 rows × 1 columns</p>\n",
       "</div>"
      ],
      "text/plain": [
       "                                                   url\n",
       "0    https://mp.weixin.qq.com/s/N76fZ6R4zeiB6Zqa3TYaxg\n",
       "1    http://www.gz.gov.cn/zt/qlyfdyyqfkyz/qktb/cont...\n",
       "2    http://wjw.gz.gov.cn/ztzl/xxfyyqfk/yqtb/conten...\n",
       "3    https://mp.weixin.qq.com/s/KkYpkD4oV997_ZPNRa0vHg\n",
       "4    http://wjw.sz.gov.cn/yqxx/202002/t20200203_189...\n",
       "..                                                 ...\n",
       "188  https://mp.weixin.qq.com/s/gb33Pz92gZiVFRe1hy0YyQ\n",
       "189  http://wsjkw.jlsy.gov.cn/xwzx/jgdt/202002/t202...\n",
       "190  http://www.jl.gov.cn/szfzt/jlzxd/yqtb/202002/t...\n",
       "191  http://www.jl.gov.cn/szfzt/jlzxd/yqtb/202002/t...\n",
       "192  http://wsjkw.jl.gov.cn/xwzx/xwfb/202002/t20200...\n",
       "\n",
       "[193 rows x 1 columns]"
      ]
     },
     "execution_count": 26,
     "metadata": {},
     "output_type": "execute_result"
    }
   ],
   "source": [
    "df"
   ]
  },
  {
   "cell_type": "code",
   "execution_count": 28,
   "metadata": {},
   "outputs": [
    {
     "name": "stdout",
     "output_type": "stream",
     "text": [
      "http://www.gz.gov.cn/zt/qlyfdyyqfkyz/qktb/content/mpost_5650490.html\n",
      "http://wjw.gz.gov.cn/ztzl/xxfyyqfk/yqtb/content/post_5650395.html\n",
      "http://wjw.sz.gov.cn/yqxx/202002/t20200203_18996658.htm\n",
      "https://www.meizhou.gov.cn/zwgk/zfjg/swsjkj/zfxxgkml/gzdt/content/mpost_1961826.html\n",
      "http://www.jiangmen.gov.cn/home/zwyw/content/post_1970234.html\n",
      "http://wjw.gz.gov.cn/ztzl/xxfyyqfk/yqtb/content/post_5652045.html\n",
      "https://www.meizhou.gov.cn/zwgk/zfjg/swsjkj/zfxxgkml/gzdt/content/post_1962224.html\n",
      "http://wsjkj.zhuhai.gov.cn/zwgk/tzgg/content/post_2466822.html\n",
      "http://www.gaoyao.gov.cn/ztzlyqfk/content/post_1969957.html\n",
      "http://wjw.hefei.gov.cn/ztzl/xxgzbdgrdfyyqfk/xxfb/17723463.html\n",
      "http://wjw.hefei.gov.cn/ztzl/xxgzbdgrdfyyqfk/xxfb/17723955.html\n",
      "http://hfpc.xm.gov.cn/xwzx/tzgg/202002/t20200203_2419523.htm\n",
      "http://hfpc.xm.gov.cn/xwzx/tzgg/202002/t20200204_2419773.htm\n",
      "http://hfpc.xm.gov.cn/xwzx/tzgg/202002/t20200207_2420350.htm\n",
      "http://www.gzhfpc.gov.cn/xwzx_500663/tzgg/202002/t20200205_47278011.html\n",
      "http://www.gzhfpc.gov.cn/xwzx_500663/zwyw/202002/t20200204_47017878.html\n",
      "http://www.gzhfpc.gov.cn/ztzl_500663/xxgzbdgrdfyyqfk/yqdt/202002/t20200213_48886436.html\n",
      "http://wst.hainan.gov.cn/yqfk/index/index/qianyi.html\n",
      "http://wjw.zhengzhou.gov.cn/qwfb/2345654.jhtml\n",
      "http://wjw.zhengzhou.gov.cn/qwfb/2348027.jhtml\n",
      "http://wjw.zhengzhou.gov.cn/qwfb/2346837.jhtml\n",
      "http://www.kfwsjsw.gov.cn/news/wsxw/20200205/8407.html\n",
      "http://wjw.jingzhou.gov.cn/ztzl/fkxxgz/202002/t20200208_454770.shtml\n",
      "http://wjw.zhuzhou.gov.cn//c16689/20200201/i1429367.html\n",
      "http://wjw.changde.gov.cn/zhdt/wjdt/content_718705\n",
      "http://www.changde.gov.cn/cdzx/cdyw/content_717733\n",
      "http://wjw.changde.gov.cn/zhdt/wjdt/content_718989\n",
      "http://www.jlcity.gov.cn/zt/qtzt/kjxgfy/tzgg/202002/t20200203_730660.html\n",
      "http://www.jl.gov.cn/szfzt/jlzxd/yqtb/202002/t20200204_6674931.html\n",
      "http://www.jl.gov.cn/szfzt/jlzxd/yqtb/202002/t20200208_6828726.html\n",
      "http://www.jl.gov.cn/szfzt/jlzxd/yqtb/202002/t20200209_6829137.html\n",
      "http://www.jl.gov.cn/szfzt/jlzxd/yqtb/202002/t20200207_6828199.html\n",
      "http://www.jl.gov.cn/szfzt/jlzxd/yqtb/202002/t20200210_6829498.html\n",
      "http://wsjkw.jlsy.gov.cn/xwzx/jgdt/202002/t20200202_360033.html\n",
      "http://www.jl.gov.cn/szfzt/jlzxd/yqtb/202002/t20200212_6836270.html\n",
      "http://www.jl.gov.cn/szfzt/jlzxd/yqtb/202002/t20200213_6836775.html\n",
      "http://wsjkw.jl.gov.cn/xwzx/xwfb/202002/t20200206_6827634.html\n"
     ]
    }
   ],
   "source": [
    "for u in df['url']:\n",
    "    if 'gov' in u:\n",
    "        print (u)"
   ]
  },
  {
   "cell_type": "markdown",
   "metadata": {},
   "source": [
    "# 来源统计"
   ]
  },
  {
   "cell_type": "code",
   "execution_count": 29,
   "metadata": {},
   "outputs": [
    {
     "data": {
      "text/plain": [
       "0      https://mp.weixin.qq.com/s/N76fZ6R4zeiB6Zqa3TYaxg\n",
       "1      http://www.gz.gov.cn/zt/qlyfdyyqfkyz/qktb/cont...\n",
       "2      http://wjw.gz.gov.cn/ztzl/xxfyyqfk/yqtb/conten...\n",
       "3      https://mp.weixin.qq.com/s/KkYpkD4oV997_ZPNRa0vHg\n",
       "4      http://wjw.sz.gov.cn/yqxx/202002/t20200203_189...\n",
       "                             ...                        \n",
       "188    https://mp.weixin.qq.com/s/gb33Pz92gZiVFRe1hy0YyQ\n",
       "189    http://wsjkw.jlsy.gov.cn/xwzx/jgdt/202002/t202...\n",
       "190    http://www.jl.gov.cn/szfzt/jlzxd/yqtb/202002/t...\n",
       "191    http://www.jl.gov.cn/szfzt/jlzxd/yqtb/202002/t...\n",
       "192    http://wsjkw.jl.gov.cn/xwzx/xwfb/202002/t20200...\n",
       "Name: url, Length: 193, dtype: object"
      ]
     },
     "execution_count": 29,
     "metadata": {},
     "output_type": "execute_result"
    }
   ],
   "source": [
    "df['url']"
   ]
  },
  {
   "cell_type": "code",
   "execution_count": 30,
   "metadata": {},
   "outputs": [],
   "source": [
    "url_set = {}\n",
    "for url in df['url']:\n",
    "    url = re.search(r\"(https{0,1}://)(.+?)/\",url).group(2)\n",
    "    if url not in url_set:\n",
    "        url_set[url] = 1\n",
    "    else:\n",
    "        url_set[url] += 1"
   ]
  },
  {
   "cell_type": "code",
   "execution_count": 31,
   "metadata": {},
   "outputs": [
    {
     "data": {
      "text/plain": [
       "{'mp.weixin.qq.com': 100,\n",
       " 'www.gz.gov.cn': 1,\n",
       " 'wjw.gz.gov.cn': 2,\n",
       " 'wjw.sz.gov.cn': 1,\n",
       " 'm.mp.oeeee.com': 44,\n",
       " 'www.meizhou.gov.cn': 2,\n",
       " 'www.jiangmen.gov.cn': 1,\n",
       " 'wsjkj.zhuhai.gov.cn': 1,\n",
       " 'www.gaoyao.gov.cn': 1,\n",
       " 'wjw.hefei.gov.cn': 2,\n",
       " 'www.ahwang.cn': 1,\n",
       " 'www.bbnews.cn': 1,\n",
       " 'weibo.com': 4,\n",
       " 'hfpc.xm.gov.cn': 3,\n",
       " 'www.gzhfpc.gov.cn': 3,\n",
       " 'wst.hainan.gov.cn': 1,\n",
       " 'www.yandunews.com': 1,\n",
       " 'wjw.zhengzhou.gov.cn': 3,\n",
       " 'www.kfwsjsw.gov.cn': 1,\n",
       " 'www.henan100.com': 1,\n",
       " 'baijiahao.baidu.com': 1,\n",
       " 'app.cnchu.com': 1,\n",
       " 'wjw.jingzhou.gov.cn': 1,\n",
       " 'm.xxcb.cn': 1,\n",
       " 'wjw.zhuzhou.gov.cn': 1,\n",
       " 'wjw.changde.gov.cn': 2,\n",
       " 'www.changde.gov.cn': 1,\n",
       " 'news.ldnews.cn': 1,\n",
       " 'www.jlcity.gov.cn': 1,\n",
       " 'www.jl.gov.cn': 7,\n",
       " 'wsjkw.jlsy.gov.cn': 1,\n",
       " 'wsjkw.jl.gov.cn': 1}"
      ]
     },
     "execution_count": 31,
     "metadata": {},
     "output_type": "execute_result"
    }
   ],
   "source": [
    "url_set"
   ]
  },
  {
   "cell_type": "code",
   "execution_count": 32,
   "metadata": {},
   "outputs": [
    {
     "data": {
      "image/png": "[encoded data removed]",
      "text/plain": [
       "<Figure size 720x720 with 1 Axes>"
      ]
     },
     "metadata": {},
     "output_type": "display_data"
    },
    {
     "data": {
      "text/plain": [
       "<Figure size 432x288 with 0 Axes>"
      ]
     },
     "metadata": {},
     "output_type": "display_data"
    }
   ],
   "source": [
    "plt.figure(figsize=(10,10)) #调?节图形大小\n",
    "# labels = [u'大型',u'中型',u'小型',u'微型'] #定义标签\n",
    "labels = url_set.keys()\n",
    "# sizes = [46,253,321,66] #每块值\n",
    "sizes = url_set.values()\n",
    "# colors = ['red','yellowgreen','lightskyblue','yellow'] #每块颜色定义\n",
    "# explode = (0,0,0.02,0) #将某一块分割出来，值越大分割出的间隙越大\n",
    "plt.pie(sizes,labels=labels,autopct='%.0f%%')\n",
    "\n",
    "plt.axis('equal')\n",
    "plt.legend()\n",
    "plt.show()\n",
    "plt.savefig(\"./pieweixin.png\")"
   ]
  },
  {
   "cell_type": "markdown",
   "metadata": {},
   "source": [
    "# 清理badurl"
   ]
  },
  {
   "cell_type": "markdown",
   "metadata": {},
   "source": [
    "# 访问不到的"
   ]
  },
  {
   "cell_type": "code",
   "execution_count": 33,
   "metadata": {},
   "outputs": [],
   "source": [
    "import selenium"
   ]
  },
  {
   "cell_type": "code",
   "execution_count": 34,
   "metadata": {
    "scrolled": true
   },
   "outputs": [
    {
     "name": "stdout",
     "output_type": "stream",
     "text": [
      "117.96630191802979\n"
     ]
    }
   ],
   "source": [
    "# 那些挂了的链接\n",
    "import time\n",
    "def clean_data(url_df,driver,use_driver=False):\n",
    "    ''' \n",
    "        input:url_df,driver\n",
    "    \n",
    "        output:url_df_good,url_df_bad\n",
    "    '''\n",
    "    url_df_good = []\n",
    "    url_df_bad = []\n",
    "#     bad = [] \n",
    "    s = time.time()\n",
    "    for i in range(len(url_df)):\n",
    "        u = url_df[i]\n",
    "        print('[%d/%d]'%(i+1,len(url_df)),end='\\r')\n",
    "        try:\n",
    "            r = requests.get(u,timeout=5)\n",
    "        except Exception as e:\n",
    "            url_df_bad.append(u)\n",
    "            continue\n",
    "        if r.status_code != requests.codes.ok:\n",
    "            url_df_bad.append(u)\n",
    "            continue\n",
    "        url_df_good.append(u)\n",
    "    good = pd.DataFrame(url_df_good)\n",
    "    bad = pd.DataFrame(url_df_bad)\n",
    "    \n",
    "    e = time.time()\n",
    "    time_elsap = e-s\n",
    "    print(time_elsap)\n",
    "    \n",
    "    return good,bad\n",
    "\n",
    "good,bad = clean_data(df['url'],driver)"
   ]
  },
  {
   "cell_type": "markdown",
   "metadata": {},
   "source": [
    "# 手工check"
   ]
  },
  {
   "cell_type": "code",
   "execution_count": 41,
   "metadata": {
    "scrolled": true
   },
   "outputs": [
    {
     "data": {
      "text/plain": [
       "['http://www.jiangmen.gov.cn/home/zwyw/content/post_1970234.html',\n",
       " 'http://wsjkj.zhuhai.gov.cn/zwgk/tzgg/content/post_2466822.html',\n",
       " 'http://wjw.hefei.gov.cn/ztzl/xxgzbdgrdfyyqfk/xxfb/17723463.html',\n",
       " 'http://wjw.hefei.gov.cn/ztzl/xxgzbdgrdfyyqfk/xxfb/17723955.html',\n",
       " 'http://wjw.zhengzhou.gov.cn/qwfb/2345654.jhtml',\n",
       " 'http://wjw.zhengzhou.gov.cn/qwfb/2348027.jhtml',\n",
       " 'http://wjw.zhengzhou.gov.cn/qwfb/2346837.jhtml',\n",
       " 'http://wjw.jingzhou.gov.cn/ztzl/fkxxgz/202002/t20200208_454770.shtml',\n",
       " 'http://www.changde.gov.cn/cdzx/cdyw/content_717733',\n",
       " 'http://www.jlcity.gov.cn/zt/qtzt/kjxgfy/tzgg/202002/t20200203_730660.html']"
      ]
     },
     "execution_count": 41,
     "metadata": {},
     "output_type": "execute_result"
    }
   ],
   "source": [
    "bad[0].tolist()"
   ]
  },
  {
   "cell_type": "markdown",
   "metadata": {},
   "source": [
    "\n",
    "'http://wjw.zhengzhou.gov.cn/qwfb/2345654.jhtml',\n",
    " 'http://wjw.zhengzhou.gov.cn/qwfb/2348027.jhtml',\n",
    " 'http://wjw.zhengzhou.gov.cn/qwfb/2346837.jhtml',\n",
    " http://wjw.jingzhou.gov.cn/ztzl/fkxxgz/202002/t20200208_454770.shtml\n",
    " http://www.changde.gov.cn/cdzx/cdyw/content_717733"
   ]
  },
  {
   "cell_type": "code",
   "execution_count": 42,
   "metadata": {},
   "outputs": [
    {
     "data": {
      "text/plain": [
       "0    http://www.jiangmen.gov.cn/home/zwyw/content/p...\n",
       "1    http://wsjkj.zhuhai.gov.cn/zwgk/tzgg/content/p...\n",
       "2    http://wjw.hefei.gov.cn/ztzl/xxgzbdgrdfyyqfk/x...\n",
       "3    http://wjw.hefei.gov.cn/ztzl/xxgzbdgrdfyyqfk/x...\n",
       "4       http://wjw.zhengzhou.gov.cn/qwfb/2345654.jhtml\n",
       "5       http://wjw.zhengzhou.gov.cn/qwfb/2348027.jhtml\n",
       "6       http://wjw.zhengzhou.gov.cn/qwfb/2346837.jhtml\n",
       "7    http://wjw.jingzhou.gov.cn/ztzl/fkxxgz/202002/...\n",
       "8    http://www.changde.gov.cn/cdzx/cdyw/content_71...\n",
       "9    http://www.jlcity.gov.cn/zt/qtzt/kjxgfy/tzgg/2...\n",
       "Name: 0, dtype: object"
      ]
     },
     "execution_count": 42,
     "metadata": {},
     "output_type": "execute_result"
    }
   ],
   "source": [
    "bad[0]"
   ]
  },
  {
   "cell_type": "code",
   "execution_count": 39,
   "metadata": {},
   "outputs": [
    {
     "data": {
      "text/plain": [
       "0      https://mp.weixin.qq.com/s/N76fZ6R4zeiB6Zqa3TYaxg\n",
       "1      http://www.gz.gov.cn/zt/qlyfdyyqfkyz/qktb/cont...\n",
       "2      http://wjw.gz.gov.cn/ztzl/xxfyyqfk/yqtb/conten...\n",
       "3      https://mp.weixin.qq.com/s/KkYpkD4oV997_ZPNRa0vHg\n",
       "4      http://wjw.sz.gov.cn/yqxx/202002/t20200203_189...\n",
       "                             ...                        \n",
       "178    https://mp.weixin.qq.com/s/gb33Pz92gZiVFRe1hy0YyQ\n",
       "179    http://wsjkw.jlsy.gov.cn/xwzx/jgdt/202002/t202...\n",
       "180    http://www.jl.gov.cn/szfzt/jlzxd/yqtb/202002/t...\n",
       "181    http://www.jl.gov.cn/szfzt/jlzxd/yqtb/202002/t...\n",
       "182    http://wsjkw.jl.gov.cn/xwzx/xwfb/202002/t20200...\n",
       "Name: 0, Length: 183, dtype: object"
      ]
     },
     "execution_count": 39,
     "metadata": {},
     "output_type": "execute_result"
    }
   ],
   "source": [
    "good[0]"
   ]
  },
  {
   "cell_type": "code",
   "execution_count": 179,
   "metadata": {},
   "outputs": [
    {
     "data": {
      "text/html": [
       "<div>\n",
       "<style scoped>\n",
       "    .dataframe tbody tr th:only-of-type {\n",
       "        vertical-align: middle;\n",
       "    }\n",
       "\n",
       "    .dataframe tbody tr th {\n",
       "        vertical-align: top;\n",
       "    }\n",
       "\n",
       "    .dataframe thead th {\n",
       "        text-align: right;\n",
       "    }\n",
       "</style>\n",
       "<table border=\"1\" class=\"dataframe\">\n",
       "  <thead>\n",
       "    <tr style=\"text-align: right;\">\n",
       "      <th></th>\n",
       "      <th>0</th>\n",
       "    </tr>\n",
       "  </thead>\n",
       "  <tbody>\n",
       "    <tr>\n",
       "      <th>0</th>\n",
       "      <td>http://wjw.shanxi.gov.cn/wjywl02/24757.hrh</td>\n",
       "    </tr>\n",
       "    <tr>\n",
       "      <th>1</th>\n",
       "      <td>http://wjw.shanxi.gov.cn/wjywl02/24774.hrh</td>\n",
       "    </tr>\n",
       "    <tr>\n",
       "      <th>2</th>\n",
       "      <td>http://www.wuzhong.gov.cn/sy/gsgg/202002/t2020...</td>\n",
       "    </tr>\n",
       "    <tr>\n",
       "      <th>3</th>\n",
       "      <td>http://www.wuzhong.gov.cn/sy/gsgg/202002/t2020...</td>\n",
       "    </tr>\n",
       "    <tr>\n",
       "      <th>4</th>\n",
       "      <td>https://www.sg.gov.cn/xw/ztjj/yqfkyz/zxyq/cont...</td>\n",
       "    </tr>\n",
       "    <tr>\n",
       "      <th>5</th>\n",
       "      <td>https://www.sg.gov.cn/xw/ztjj/yqfkyz/zxyq/cont...</td>\n",
       "    </tr>\n",
       "    <tr>\n",
       "      <th>6</th>\n",
       "      <td>https://www.sg.gov.cn/xw/ztjj/yqfkyz/zxyq/cont...</td>\n",
       "    </tr>\n",
       "  </tbody>\n",
       "</table>\n",
       "</div>"
      ],
      "text/plain": [
       "                                                   0\n",
       "0         http://wjw.shanxi.gov.cn/wjywl02/24757.hrh\n",
       "1         http://wjw.shanxi.gov.cn/wjywl02/24774.hrh\n",
       "2  http://www.wuzhong.gov.cn/sy/gsgg/202002/t2020...\n",
       "3  http://www.wuzhong.gov.cn/sy/gsgg/202002/t2020...\n",
       "4  https://www.sg.gov.cn/xw/ztjj/yqfkyz/zxyq/cont...\n",
       "5  https://www.sg.gov.cn/xw/ztjj/yqfkyz/zxyq/cont...\n",
       "6  https://www.sg.gov.cn/xw/ztjj/yqfkyz/zxyq/cont..."
      ]
     },
     "execution_count": 179,
     "metadata": {},
     "output_type": "execute_result"
    }
   ],
   "source": [
    "bad"
   ]
  },
  {
   "cell_type": "code",
   "execution_count": 180,
   "metadata": {
    "scrolled": false
   },
   "outputs": [
    {
     "data": {
      "text/plain": [
       "0           http://wjw.shanxi.gov.cn/wjywl02/24757.hrh\n",
       "1           http://wjw.shanxi.gov.cn/wjywl02/24774.hrh\n",
       "4    https://www.sg.gov.cn/xw/ztjj/yqfkyz/zxyq/cont...\n",
       "5    https://www.sg.gov.cn/xw/ztjj/yqfkyz/zxyq/cont...\n",
       "6    https://www.sg.gov.cn/xw/ztjj/yqfkyz/zxyq/cont...\n",
       "Name: 0, dtype: object"
      ]
     },
     "execution_count": 180,
     "metadata": {},
     "output_type": "execute_result"
    }
   ],
   "source": [
    "bad[0][[0,1,4,5,6]]"
   ]
  },
  {
   "cell_type": "code",
   "execution_count": 43,
   "metadata": {
    "scrolled": true
   },
   "outputs": [],
   "source": [
    "fix = good[0].append(bad[0][[0,1,2,3,9]])\n",
    "\n",
    "# good.reset_index(drop=True,inplace = True)"
   ]
  },
  {
   "cell_type": "code",
   "execution_count": 44,
   "metadata": {},
   "outputs": [],
   "source": [
    "fix.reset_index(drop=True,inplace = True)"
   ]
  },
  {
   "cell_type": "code",
   "execution_count": 45,
   "metadata": {},
   "outputs": [
    {
     "data": {
      "text/plain": [
       "0      https://mp.weixin.qq.com/s/N76fZ6R4zeiB6Zqa3TYaxg\n",
       "1      http://www.gz.gov.cn/zt/qlyfdyyqfkyz/qktb/cont...\n",
       "2      http://wjw.gz.gov.cn/ztzl/xxfyyqfk/yqtb/conten...\n",
       "3      https://mp.weixin.qq.com/s/KkYpkD4oV997_ZPNRa0vHg\n",
       "4      http://wjw.sz.gov.cn/yqxx/202002/t20200203_189...\n",
       "                             ...                        \n",
       "183    http://www.jiangmen.gov.cn/home/zwyw/content/p...\n",
       "184    http://wsjkj.zhuhai.gov.cn/zwgk/tzgg/content/p...\n",
       "185    http://wjw.hefei.gov.cn/ztzl/xxgzbdgrdfyyqfk/x...\n",
       "186    http://wjw.hefei.gov.cn/ztzl/xxgzbdgrdfyyqfk/x...\n",
       "187    http://www.jlcity.gov.cn/zt/qtzt/kjxgfy/tzgg/2...\n",
       "Name: 0, Length: 188, dtype: object"
      ]
     },
     "execution_count": 45,
     "metadata": {},
     "output_type": "execute_result"
    }
   ],
   "source": [
    "fix"
   ]
  },
  {
   "cell_type": "code",
   "execution_count": 46,
   "metadata": {},
   "outputs": [],
   "source": [
    "good_url  =pd.DataFrame(fix)"
   ]
  },
  {
   "cell_type": "code",
   "execution_count": 47,
   "metadata": {},
   "outputs": [],
   "source": [
    "good_url.rename(columns={0:'url'},inplace = True)"
   ]
  },
  {
   "cell_type": "code",
   "execution_count": 48,
   "metadata": {},
   "outputs": [
    {
     "data": {
      "text/html": [
       "<div>\n",
       "<style scoped>\n",
       "    .dataframe tbody tr th:only-of-type {\n",
       "        vertical-align: middle;\n",
       "    }\n",
       "\n",
       "    .dataframe tbody tr th {\n",
       "        vertical-align: top;\n",
       "    }\n",
       "\n",
       "    .dataframe thead th {\n",
       "        text-align: right;\n",
       "    }\n",
       "</style>\n",
       "<table border=\"1\" class=\"dataframe\">\n",
       "  <thead>\n",
       "    <tr style=\"text-align: right;\">\n",
       "      <th></th>\n",
       "      <th>url</th>\n",
       "    </tr>\n",
       "  </thead>\n",
       "  <tbody>\n",
       "    <tr>\n",
       "      <td>0</td>\n",
       "      <td>https://mp.weixin.qq.com/s/N76fZ6R4zeiB6Zqa3TYaxg</td>\n",
       "    </tr>\n",
       "    <tr>\n",
       "      <td>1</td>\n",
       "      <td>http://www.gz.gov.cn/zt/qlyfdyyqfkyz/qktb/cont...</td>\n",
       "    </tr>\n",
       "    <tr>\n",
       "      <td>2</td>\n",
       "      <td>http://wjw.gz.gov.cn/ztzl/xxfyyqfk/yqtb/conten...</td>\n",
       "    </tr>\n",
       "    <tr>\n",
       "      <td>3</td>\n",
       "      <td>https://mp.weixin.qq.com/s/KkYpkD4oV997_ZPNRa0vHg</td>\n",
       "    </tr>\n",
       "    <tr>\n",
       "      <td>4</td>\n",
       "      <td>http://wjw.sz.gov.cn/yqxx/202002/t20200203_189...</td>\n",
       "    </tr>\n",
       "    <tr>\n",
       "      <td>...</td>\n",
       "      <td>...</td>\n",
       "    </tr>\n",
       "    <tr>\n",
       "      <td>183</td>\n",
       "      <td>http://www.jiangmen.gov.cn/home/zwyw/content/p...</td>\n",
       "    </tr>\n",
       "    <tr>\n",
       "      <td>184</td>\n",
       "      <td>http://wsjkj.zhuhai.gov.cn/zwgk/tzgg/content/p...</td>\n",
       "    </tr>\n",
       "    <tr>\n",
       "      <td>185</td>\n",
       "      <td>http://wjw.hefei.gov.cn/ztzl/xxgzbdgrdfyyqfk/x...</td>\n",
       "    </tr>\n",
       "    <tr>\n",
       "      <td>186</td>\n",
       "      <td>http://wjw.hefei.gov.cn/ztzl/xxgzbdgrdfyyqfk/x...</td>\n",
       "    </tr>\n",
       "    <tr>\n",
       "      <td>187</td>\n",
       "      <td>http://www.jlcity.gov.cn/zt/qtzt/kjxgfy/tzgg/2...</td>\n",
       "    </tr>\n",
       "  </tbody>\n",
       "</table>\n",
       "<p>188 rows × 1 columns</p>\n",
       "</div>"
      ],
      "text/plain": [
       "                                                   url\n",
       "0    https://mp.weixin.qq.com/s/N76fZ6R4zeiB6Zqa3TYaxg\n",
       "1    http://www.gz.gov.cn/zt/qlyfdyyqfkyz/qktb/cont...\n",
       "2    http://wjw.gz.gov.cn/ztzl/xxfyyqfk/yqtb/conten...\n",
       "3    https://mp.weixin.qq.com/s/KkYpkD4oV997_ZPNRa0vHg\n",
       "4    http://wjw.sz.gov.cn/yqxx/202002/t20200203_189...\n",
       "..                                                 ...\n",
       "183  http://www.jiangmen.gov.cn/home/zwyw/content/p...\n",
       "184  http://wsjkj.zhuhai.gov.cn/zwgk/tzgg/content/p...\n",
       "185  http://wjw.hefei.gov.cn/ztzl/xxgzbdgrdfyyqfk/x...\n",
       "186  http://wjw.hefei.gov.cn/ztzl/xxgzbdgrdfyyqfk/x...\n",
       "187  http://www.jlcity.gov.cn/zt/qtzt/kjxgfy/tzgg/2...\n",
       "\n",
       "[188 rows x 1 columns]"
      ]
     },
     "execution_count": 48,
     "metadata": {},
     "output_type": "execute_result"
    }
   ],
   "source": [
    "good_url"
   ]
  },
  {
   "cell_type": "markdown",
   "metadata": {},
   "source": [
    "# 公众号迁移"
   ]
  },
  {
   "cell_type": "code",
   "execution_count": 49,
   "metadata": {},
   "outputs": [],
   "source": [
    "# 'https://mp.weixin.qq.com/s/hywpRGEm_OJepGkhPbqYOQ'"
   ]
  },
  {
   "cell_type": "code",
   "execution_count": 50,
   "metadata": {},
   "outputs": [],
   "source": [
    "def weixin_qianxi(good_url):\n",
    "    wx_host = 'mp.weixin.qq.com'\n",
    "    olds = []\n",
    "    news = []\n",
    "    n = len(good_url['url'])\n",
    "    for i in range(n):\n",
    "        url = good_url['url'][i]\n",
    "        old = url\n",
    "        new_url = ''\n",
    "        if wx_host in url:\n",
    "            driver.get(url)\n",
    "            try:\n",
    "                html =  driver.page_source\n",
    "            except Expection as e:\n",
    "                pass\n",
    "            soup = BeautifulSoup(html, 'lxml')\n",
    "            r = soup.find_all(attrs={'id': 'js_access_msg'})\n",
    "            if r != []:\n",
    "                good_url['url'][i] = r[0]['href']\n",
    "                olds.append(old)\n",
    "                news.append(r[0]['href'])\n",
    "    return olds,news"
   ]
  },
  {
   "cell_type": "code",
   "execution_count": 51,
   "metadata": {},
   "outputs": [],
   "source": [
    "o,n = weixin_qianxi(good_url)"
   ]
  },
  {
   "cell_type": "code",
   "execution_count": 52,
   "metadata": {},
   "outputs": [
    {
     "data": {
      "text/plain": [
       "[]"
      ]
     },
     "execution_count": 52,
     "metadata": {},
     "output_type": "execute_result"
    }
   ],
   "source": [
    "o"
   ]
  },
  {
   "cell_type": "code",
   "execution_count": 49,
   "metadata": {},
   "outputs": [],
   "source": [
    "good_url['url'][good_url['url'][good_url['url']=='http://mp.weixin.qq.com/s?__biz=MzI3NDE1NTQ2NQ==&mid=2247484445&amp;idx=1&amp;sn=ebf7bd5008d7749ed6eed1ab839df87d&source=41#wechat_redirect'].index] = 'https://mp.weixin.qq.com/s?__biz=MzI3NDE1NTQ2NQ==&mid=2247484445&amp;idx=1&amp;sn=ebf7bd5008d7749ed6eed1ab839df87d&source=41#wechat_redirect'"
   ]
  },
  {
   "cell_type": "code",
   "execution_count": 50,
   "metadata": {
    "collapsed": true
   },
   "outputs": [
    {
     "name": "stdout",
     "output_type": "stream",
     "text": [
      "https://mp.weixin.qq.com/s/HTsNM1zxEAx3IqoF1uYnYA\n",
      "https://mp.weixin.qq.com/s/03w_HdZGypbtAG33jikquw\n",
      "https://mp.weixin.qq.com/s/0xihh12dgBBxbfozR6fnNg\n",
      "https://mp.weixin.qq.com/s/0zzx4G3oUPQmzNk6JTTUzQ\n",
      "https://mp.weixin.qq.com/s/15bQoiHzj8ABrnySvnEtQA\n",
      "https://mp.weixin.qq.com/s/16ICfUi-Z2UMbbckkm0Xpw\n",
      "https://mp.weixin.qq.com/s/1gv6bdr4kVBq4nUYOMqJHg\n",
      "https://mp.weixin.qq.com/s/1l-RCQ_OfAMhOZZSmo2sDw\n",
      "https://mp.weixin.qq.com/s/21pwvOkvunpCGf0F8UGsKQ\n",
      "https://mp.weixin.qq.com/s/22zfhtcc5aqqWpt0anCVOQ\n",
      "https://mp.weixin.qq.com/s/23fOSN0X3dT99e22m34Few\n",
      "https://mp.weixin.qq.com/s/2COYPOACgINLbVZGLJ20pw\n",
      "https://mp.weixin.qq.com/s/2HRalKs46VxIkbLMBBGbCA\n",
      "https://mp.weixin.qq.com/s/2J9_3bKsljNLeVmFqY4rxQ\n",
      "https://mp.weixin.qq.com/s/2ri05eGgAq5QHorGkz07sw\n",
      "https://mp.weixin.qq.com/s/3_ru000m-BsCB3uAjbohAg\n",
      "https://mp.weixin.qq.com/s/39apxV_xQLEu0MJ5ToE__g\n",
      "https://mp.weixin.qq.com/s/3GBAMxcOz-brFl_7_soiXg\n",
      "https://mp.weixin.qq.com/s/40KCQ1yZszq1b5OMNsRctg\n",
      "https://mp.weixin.qq.com/s/4JrjMJc7lPDCFHXY3LFSeQ\n",
      "https://mp.weixin.qq.com/s/4ofIalWCUGmYPNTPhiuiTg\n",
      "https://mp.weixin.qq.com/s/53yB1QgwVerWm6riIRUV6A\n",
      "https://mp.weixin.qq.com/s/6j-iL-tu6pxdC8q8srFvdA\n",
      "https://mp.weixin.qq.com/s/6QQRQ2p1q9OSHHa85dJvpA\n",
      "https://mp.weixin.qq.com/s/704BrIOuTkxkpuXdek9sXw\n",
      "https://mp.weixin.qq.com/s/7aB-WIhbkljfsaO6in6cIw\n",
      "https://mp.weixin.qq.com/s/7Odzuq-I-eqrHPwU9vEujQ\n",
      "https://mp.weixin.qq.com/s/8g-ggBSz1IbIZJZOFVxn0A\n",
      "https://mp.weixin.qq.com/s/92XTQRGQ4PLLM0yz9dgZHA\n",
      "https://mp.weixin.qq.com/s/99IBrH7yBT2bi_k6CXWk1A\n",
      "https://mp.weixin.qq.com/s/A1M0SLD-CJUegw0GAIlvEQ\n",
      "https://mp.weixin.qq.com/s/A4_l39IRa-METFqXyLUaKw\n",
      "https://mp.weixin.qq.com/s/AL2WfgREI1kR0MaUaP3yVA\n",
      "https://mp.weixin.qq.com/s/ANsFtyEh-ThyG6bYF23Mdw\n",
      "https://mp.weixin.qq.com/s/AtGvqHMpPj--woNeOVHqJg\n",
      "https://mp.weixin.qq.com/s/aupP3RkGcLcJ3kcRTWIQSw\n",
      "https://mp.weixin.qq.com/s/AuuQN67_9XRnT3v-YQ-6Kg\n",
      "https://mp.weixin.qq.com/s/BbpXFJ_S_I2aHe8_BCqA3w\n",
      "https://mp.weixin.qq.com/s/BEf8kNgXeQhxvmMjylOmgQ\n",
      "https://mp.weixin.qq.com/s/bFw2DNyZr50uzgb7lYg2iw\n",
      "https://mp.weixin.qq.com/s/BowMr0k90t8psMKEWMmshQ\n",
      "https://mp.weixin.qq.com/s/BQk8wSVC6V4SLRp5A0BSDQ\n",
      "https://mp.weixin.qq.com/s/brhYtrHRMv5rb_SYHoX3fA\n",
      "https://mp.weixin.qq.com/s/BTBVokDLUFUBisFVrreTIg\n",
      "https://mp.weixin.qq.com/s/byOBjYcuIE-ozN5-5j2NjQ\n",
      "https://mp.weixin.qq.com/s/BzRmrot5EL4FRlANN3jPog\n",
      "https://mp.weixin.qq.com/s/CCv9mOu-azDpGCngDnutWw\n",
      "https://mp.weixin.qq.com/s/D_O9alCJ9kQNF9HzQovfpw\n",
      "https://mp.weixin.qq.com/s/d0ChVGAE859JSuSQ4-yuwg\n",
      "https://mp.weixin.qq.com/s/d9aurz1S2epuqAQy3ZL_hw\n",
      "https://mp.weixin.qq.com/s/DclHoJStly7-_Uz_uk2LmA\n",
      "https://mp.weixin.qq.com/s/DGeAhP_Mks4hJputXQK4_w\n",
      "https://mp.weixin.qq.com/s/DNtuRvc9NM88eBEX61IpAQ\n",
      "https://mp.weixin.qq.com/s/DWFNXijNXN0pQLZr2icG5A\n",
      "https://mp.weixin.qq.com/s/eECI1S8obg-Vx11xTjggoA\n",
      "https://mp.weixin.qq.com/s/EiKDu4VTdr4k8o2Uq5Fvcw\n",
      "https://mp.weixin.qq.com/s/en5XMsElXu6JIs0UHd_lmA\n",
      "https://mp.weixin.qq.com/s/F2RiiyzIE87ilYzlAZ0OOw\n",
      "https://mp.weixin.qq.com/s/FEf_w5LyNb8-xXKA_T3e5g\n",
      "https://mp.weixin.qq.com/s/feTfJCSFxyoufeEAks228w\n",
      "https://mp.weixin.qq.com/s/fTiCuXTR8iCNPE0zX3gOrw\n",
      "https://mp.weixin.qq.com/s/ftLPQ6l4nOIX7aRnrRSLCA\n",
      "https://mp.weixin.qq.com/s/FYb03z5wslK1Wzzp1FiA5A\n",
      "https://mp.weixin.qq.com/s/g5khDHYw8DsVIIlz9KlByg\n",
      "https://mp.weixin.qq.com/s/g89sB9SZS0FSyD1B-bnwag\n",
      "https://mp.weixin.qq.com/s/GA_mH8SwviTGaxiSdeHO2A\n",
      "https://mp.weixin.qq.com/s/gd2P77m_DseuaCvzmHLwbg\n",
      "https://mp.weixin.qq.com/s/GGeiv9zLDVP9t5CXddQAvw\n",
      "https://mp.weixin.qq.com/s/gJ2GE_ihEoPaeQmY143dhA\n",
      "https://mp.weixin.qq.com/s/gOIBYl1Hm1R7cQTlkVjyyw\n",
      "https://mp.weixin.qq.com/s/gX82KJTHdwAbVgK6hADT9A\n",
      "https://mp.weixin.qq.com/s/Hdz-Q-3Eig8VGsZJwzTNow\n",
      "https://mp.weixin.qq.com/s?__biz=MzI3NDE1NTQ2NQ==&mid=2247484445&amp;idx=1&amp;sn=ebf7bd5008d7749ed6eed1ab839df87d&source=41#wechat_redirect\n",
      "https://mp.weixin.qq.com/s/i5Qja8vQ7wmL65JhuRxS-g\n",
      "https://mp.weixin.qq.com/s/I8W5RhgaVZE5pV9gf010Ew\n",
      "https://mp.weixin.qq.com/s/IGaJ4Sz0Uc7ncxnG1lrtGg\n",
      "https://mp.weixin.qq.com/s/Ilcw8gqTBS1mj2sL9y8BBw\n",
      "https://mp.weixin.qq.com/s/i-OHNjnnHgRfODKlpUSYFg\n",
      "https://mp.weixin.qq.com/s/iWJ6omQpWP3YwGkjPANq-Q\n",
      "https://mp.weixin.qq.com/s/J8zMLEAWqq7PLh-y0yO7Tg\n",
      "https://mp.weixin.qq.com/s/JaEaBvbW6dpw3M2LVmA-jw\n",
      "https://mp.weixin.qq.com/s/JEGFaPaXbJCyg4L2Y5f2cA\n",
      "https://mp.weixin.qq.com/s/jjFdgGdM_qILo5mLaZhylg\n",
      "https://mp.weixin.qq.com/s/k6QZ28KFo3_9-Jvp2td2HA\n",
      "https://mp.weixin.qq.com/s/KK1b85TfZg3OKob_s8ju0Q\n",
      "https://mp.weixin.qq.com/s/L6UmSE1h35jGNX9nII7W1w\n",
      "https://mp.weixin.qq.com/s/l7-4X1mqf191u1sKbwpwtg\n",
      "https://mp.weixin.qq.com/s/LBJ9bWwWH3dIDgHbX3JrMA\n",
      "https://mp.weixin.qq.com/s/ljO-jnuFaLY7dlay04vnQQ\n",
      "https://mp.weixin.qq.com/s/L-kxyVWz2388nVMrHpNwSQ\n",
      "https://mp.weixin.qq.com/s/LLeJqI0C3wg_XMJxptr6hA\n",
      "https://mp.weixin.qq.com/s/MaIhftMbVTrBaslpSPNkuA\n",
      "https://mp.weixin.qq.com/s/MJayWWtfMetX7uypjW34jA\n",
      "https://mp.weixin.qq.com/s/MPkzfHNESrN7F8ZKCYob7Q\n",
      "https://mp.weixin.qq.com/s/MpL6gwVXTxFjfOsBr2SqQg\n",
      "https://mp.weixin.qq.com/s/nqSkq_C1SWyXwSoWH8Tl_Q\n",
      "https://mp.weixin.qq.com/s/o8htUb-Eq0jI-18koz4JSA\n",
      "https://mp.weixin.qq.com/s/oAp7a7J7b8ueznBiy6UfHw\n",
      "https://mp.weixin.qq.com/s/O-d8n6f_AygAgNedh-sOoQ\n",
      "https://mp.weixin.qq.com/s/oSfryyVX7e2CaDTyVRBR1A\n",
      "https://mp.weixin.qq.com/s/p8FwAyaWqBQPQ9ExZNRunA\n",
      "https://mp.weixin.qq.com/s/pAaXlR0Rc7IjTkrJ_nmOHw\n",
      "https://mp.weixin.qq.com/s/pathagzfYVfG7rgn4fsehw\n",
      "https://mp.weixin.qq.com/s/pCknNhnIW75e0cHBe54iyg\n",
      "https://mp.weixin.qq.com/s/PxlQtWded0LAEHEEjPPQjQ\n",
      "https://mp.weixin.qq.com/s/qMb78wvftwMT0Fx-fbgkVA\n",
      "https://mp.weixin.qq.com/s/qnN8WIp6bdivLrcxn3kw8A\n",
      "https://mp.weixin.qq.com/s/qQZ6QvNts9rpSWcPgDXZUA\n",
      "https://mp.weixin.qq.com/s/qVcPv1s491KY6BfXb7BGDg\n",
      "https://mp.weixin.qq.com/s/QVO-ku5SAFS5lGfrJ3tqvw\n",
      "https://mp.weixin.qq.com/s/Rbni3MycgbIuiz5YgD2DCg\n",
      "https://mp.weixin.qq.com/s/rfJiJIU49y8MmMJOXttxBw\n",
      "https://mp.weixin.qq.com/s/S5JyC2E2Vn5XL0jcKkmBPg\n",
      "https://mp.weixin.qq.com/s/sHZtvU0GD-sUbKT8lexYZA\n",
      "https://mp.weixin.qq.com/s/SRElAd3cHRF5Z1yIJOeMYQ\n",
      "https://mp.weixin.qq.com/s/T7W4z1YpykNltgM4Els3cw\n",
      "https://mp.weixin.qq.com/s/tHvCXVKoe13lU2_EP935QQ\n",
      "https://mp.weixin.qq.com/s/TndLruxymZlVFM7oT-tbmQ\n",
      "https://mp.weixin.qq.com/s/tnX6pWa1ag-aA4zvjQh2Qg\n",
      "https://mp.weixin.qq.com/s/TTppjI31ZGHP4nDiAueQZw\n",
      "https://mp.weixin.qq.com/s/U019DW4SJCxW7RTcd9I1Iw\n",
      "https://mp.weixin.qq.com/s/uaNlrAc-0-i_rMvYaAYVJA\n",
      "https://mp.weixin.qq.com/s/URJDtNlB8jOnsmdH17VjXA\n",
      "https://mp.weixin.qq.com/s/v8_qO9NA0OZlohlo0sbCZg\n",
      "https://mp.weixin.qq.com/s/VCPYIcswFYrXKMT_iAo4sQ\n",
      "https://mp.weixin.qq.com/s/VHyCUTBLdswJUs4v94gCGg\n",
      "https://mp.weixin.qq.com/s/VlmSYauI8yaDuegXGATg1A\n",
      "https://mp.weixin.qq.com/s/VlptYBqxOilNbokYmgAq3w\n",
      "https://mp.weixin.qq.com/s/vyMK9XAfBREa6c7KkQZE_g\n",
      "https://mp.weixin.qq.com/s/W9Iqq_rF4D9qHfI91nC0MQ\n",
      "https://mp.weixin.qq.com/s/WBkYAkadMMy8qkjvZeTbyQ\n",
      "https://mp.weixin.qq.com/s/wpsNrPfHKhGECppcmODvAA\n",
      "https://mp.weixin.qq.com/s/X4CKfM-zAvmJTCi_4I-bVg\n",
      "https://mp.weixin.qq.com/s/XLC_oAGCkfZ-9QZiN7dyFw\n",
      "https://mp.weixin.qq.com/s/xPkUySDb9RVh1fWlcQLwGQ\n",
      "https://mp.weixin.qq.com/s/xSgycy4VCvOdSGZl_lWrrw\n",
      "https://mp.weixin.qq.com/s/xYVXdohY_4acdQTniOGWUA\n",
      "https://mp.weixin.qq.com/s/Y43irqUbONn5cePk8zDMVA\n",
      "https://mp.weixin.qq.com/s/y9lpITTKuZivPJB9l55ORg\n",
      "https://mp.weixin.qq.com/s/yB_kxKjAEYVn9MR8PyRCZg\n",
      "http://mp.weixin.qq.com/s?__biz=MzI3NDE1NTQ2NQ==&mid=2247484446&amp;idx=1&amp;sn=5f25018ebb33ed447c1f15635b3c06da&source=41#wechat_redirect\n",
      "https://mp.weixin.qq.com/s/YfzMmv1vUZyiphWUgzOLlA\n",
      "https://mp.weixin.qq.com/s/YgLkGhE1VlX6oQWl9nqyMg\n",
      "https://mp.weixin.qq.com/s/YLSR_0NXJ5LUg6LWGW_aDg\n",
      "https://mp.weixin.qq.com/s/yq4IcgXi4vxQxO3UBYOZ-A\n",
      "https://mp.weixin.qq.com/s/yT_I4r6Sc2K3O7-3iAl-mA\n",
      "https://mp.weixin.qq.com/s/yyeefgne4StL6ZH9mRh80Q\n",
      "https://mp.weixin.qq.com/s/z1mVzAvyEoNiS2s0jsIgQw\n",
      "https://mp.weixin.qq.com/s/zOGzJVviegMaLRE8tuiLRw\n",
      "https://mp.weixin.qq.com/s/UD8VFba4oRx4LLJm3cX7zw\n",
      "https://mp.weixin.qq.com/s/uiBhG5cbibkaO3D2wSMrzA\n",
      "https://mp.weixin.qq.com/s/UK7n7JRT9q4Qmmq0nVa7Yw\n"
     ]
    }
   ],
   "source": [
    "for i in good_url['url']:\n",
    "    if 'weixin' in i :\n",
    "        print (i)"
   ]
  },
  {
   "cell_type": "markdown",
   "metadata": {},
   "source": [
    "# 保存"
   ]
  },
  {
   "cell_type": "code",
   "execution_count": 53,
   "metadata": {},
   "outputs": [],
   "source": [
    "good_url.to_csv('./goodurl_5.10.csv')\n",
    "# bad.to_csv('./bad_url.csv')"
   ]
  },
  {
   "cell_type": "markdown",
   "metadata": {},
   "source": [
    "# with_raw_html"
   ]
  },
  {
   "cell_type": "code",
   "execution_count": 38,
   "metadata": {},
   "outputs": [],
   "source": [
    "driver = webdriver.Chrome()\n",
    "driver.get('https://weibo.com')"
   ]
  },
  {
   "cell_type": "code",
   "execution_count": 164,
   "metadata": {},
   "outputs": [],
   "source": [
    "good_url = pd.read_csv('./goodURL_5.1.csv')\n",
    "del good_url['Unnamed: 0']\n",
    "good_url.rename(columns={'0':'url'},inplace=True) "
   ]
  },
  {
   "cell_type": "code",
   "execution_count": 196,
   "metadata": {},
   "outputs": [
    {
     "data": {
      "text/html": [
       "<div>\n",
       "<style scoped>\n",
       "    .dataframe tbody tr th:only-of-type {\n",
       "        vertical-align: middle;\n",
       "    }\n",
       "\n",
       "    .dataframe tbody tr th {\n",
       "        vertical-align: top;\n",
       "    }\n",
       "\n",
       "    .dataframe thead th {\n",
       "        text-align: right;\n",
       "    }\n",
       "</style>\n",
       "<table border=\"1\" class=\"dataframe\">\n",
       "  <thead>\n",
       "    <tr style=\"text-align: right;\">\n",
       "      <th></th>\n",
       "      <th>url</th>\n",
       "    </tr>\n",
       "  </thead>\n",
       "  <tbody>\n",
       "    <tr>\n",
       "      <th>0</th>\n",
       "      <td>https://mp.weixin.qq.com/s/HTsNM1zxEAx3IqoF1uYnYA</td>\n",
       "    </tr>\n",
       "    <tr>\n",
       "      <th>1</th>\n",
       "      <td>http://hc.nc.gov.cn/ncwjw/gzdt/202002/b5cf8972...</td>\n",
       "    </tr>\n",
       "    <tr>\n",
       "      <th>2</th>\n",
       "      <td>http://m.ha.bendibao.com/mip/1636.shtm</td>\n",
       "    </tr>\n",
       "    <tr>\n",
       "      <th>3</th>\n",
       "      <td>http://news.gxnews.com.cn/staticpages/20200209...</td>\n",
       "    </tr>\n",
       "    <tr>\n",
       "      <th>4</th>\n",
       "      <td>http://o.xiancity.cn/system/2020/02/09/0307133...</td>\n",
       "    </tr>\n",
       "    <tr>\n",
       "      <th>...</th>\n",
       "      <td>...</td>\n",
       "    </tr>\n",
       "    <tr>\n",
       "      <th>184</th>\n",
       "      <td>http://wjw.shanxi.gov.cn/wjywl02/24757.hrh</td>\n",
       "    </tr>\n",
       "    <tr>\n",
       "      <th>185</th>\n",
       "      <td>http://wjw.shanxi.gov.cn/wjywl02/24774.hrh</td>\n",
       "    </tr>\n",
       "    <tr>\n",
       "      <th>186</th>\n",
       "      <td>https://www.sg.gov.cn/xw/ztjj/yqfkyz/zxyq/cont...</td>\n",
       "    </tr>\n",
       "    <tr>\n",
       "      <th>187</th>\n",
       "      <td>https://www.sg.gov.cn/xw/ztjj/yqfkyz/zxyq/cont...</td>\n",
       "    </tr>\n",
       "    <tr>\n",
       "      <th>188</th>\n",
       "      <td>https://www.sg.gov.cn/xw/ztjj/yqfkyz/zxyq/cont...</td>\n",
       "    </tr>\n",
       "  </tbody>\n",
       "</table>\n",
       "<p>189 rows × 1 columns</p>\n",
       "</div>"
      ],
      "text/plain": [
       "                                                   url\n",
       "0    https://mp.weixin.qq.com/s/HTsNM1zxEAx3IqoF1uYnYA\n",
       "1    http://hc.nc.gov.cn/ncwjw/gzdt/202002/b5cf8972...\n",
       "2               http://m.ha.bendibao.com/mip/1636.shtm\n",
       "3    http://news.gxnews.com.cn/staticpages/20200209...\n",
       "4    http://o.xiancity.cn/system/2020/02/09/0307133...\n",
       "..                                                 ...\n",
       "184         http://wjw.shanxi.gov.cn/wjywl02/24757.hrh\n",
       "185         http://wjw.shanxi.gov.cn/wjywl02/24774.hrh\n",
       "186  https://www.sg.gov.cn/xw/ztjj/yqfkyz/zxyq/cont...\n",
       "187  https://www.sg.gov.cn/xw/ztjj/yqfkyz/zxyq/cont...\n",
       "188  https://www.sg.gov.cn/xw/ztjj/yqfkyz/zxyq/cont...\n",
       "\n",
       "[189 rows x 1 columns]"
      ]
     },
     "execution_count": 196,
     "metadata": {},
     "output_type": "execute_result"
    }
   ],
   "source": [
    "good_url"
   ]
  },
  {
   "cell_type": "code",
   "execution_count": 197,
   "metadata": {},
   "outputs": [],
   "source": [
    "def GETHTML(url,driver):\n",
    "    ''' \n",
    "        input:url,driver\n",
    "    \n",
    "        output:GETHTML\n",
    "    '''\n",
    "    html =  ''\n",
    "    # 用引擎\n",
    "    driver.get(url)\n",
    "    sleep(0.2)\n",
    "    try:\n",
    "        html =  driver.page_source\n",
    "    except Expection as e:\n",
    "        print(e)\n",
    "    return html"
   ]
  },
  {
   "cell_type": "code",
   "execution_count": 198,
   "metadata": {},
   "outputs": [],
   "source": [
    "good_url['raw_html'] = good_url['url'].apply(lambda x:GETHTML(x,driver))"
   ]
  },
  {
   "cell_type": "code",
   "execution_count": 199,
   "metadata": {},
   "outputs": [
    {
     "data": {
      "text/html": [
       "<div>\n",
       "<style scoped>\n",
       "    .dataframe tbody tr th:only-of-type {\n",
       "        vertical-align: middle;\n",
       "    }\n",
       "\n",
       "    .dataframe tbody tr th {\n",
       "        vertical-align: top;\n",
       "    }\n",
       "\n",
       "    .dataframe thead th {\n",
       "        text-align: right;\n",
       "    }\n",
       "</style>\n",
       "<table border=\"1\" class=\"dataframe\">\n",
       "  <thead>\n",
       "    <tr style=\"text-align: right;\">\n",
       "      <th></th>\n",
       "      <th>url</th>\n",
       "      <th>raw_html</th>\n",
       "    </tr>\n",
       "  </thead>\n",
       "  <tbody>\n",
       "    <tr>\n",
       "      <th>0</th>\n",
       "      <td>https://mp.weixin.qq.com/s/HTsNM1zxEAx3IqoF1uYnYA</td>\n",
       "      <td>&lt;html class=\"\\n\\n\"&gt;&lt;head&gt;\\n                   ...</td>\n",
       "    </tr>\n",
       "    <tr>\n",
       "      <th>1</th>\n",
       "      <td>http://hc.nc.gov.cn/ncwjw/gzdt/202002/b5cf8972...</td>\n",
       "      <td>&lt;html lang=\"en\"&gt;&lt;head&gt;\\n  &lt;meta charset=\"UTF-8...</td>\n",
       "    </tr>\n",
       "    <tr>\n",
       "      <th>2</th>\n",
       "      <td>http://m.ha.bendibao.com/mip/1636.shtm</td>\n",
       "      <td>&lt;html mip=\"\" class=\"mip-i-android-scroll\"&gt;&lt;hea...</td>\n",
       "    </tr>\n",
       "    <tr>\n",
       "      <th>3</th>\n",
       "      <td>http://news.gxnews.com.cn/staticpages/20200209...</td>\n",
       "      <td>&lt;html&gt;&lt;head&gt;&lt;script type=\"text/javascript\" asy...</td>\n",
       "    </tr>\n",
       "    <tr>\n",
       "      <th>4</th>\n",
       "      <td>http://o.xiancity.cn/system/2020/02/09/0307133...</td>\n",
       "      <td>&lt;html xmlns=\"http://www.w3.org/1999/xhtml\"&gt;&lt;he...</td>\n",
       "    </tr>\n",
       "    <tr>\n",
       "      <th>...</th>\n",
       "      <td>...</td>\n",
       "      <td>...</td>\n",
       "    </tr>\n",
       "    <tr>\n",
       "      <th>184</th>\n",
       "      <td>http://wjw.shanxi.gov.cn/wjywl02/24757.hrh</td>\n",
       "      <td>&lt;html&gt;&lt;head&gt;\\n\\t\\t&lt;title&gt;山西省卫生健康委员会网站-卫健要闻&lt;/ti...</td>\n",
       "    </tr>\n",
       "    <tr>\n",
       "      <th>185</th>\n",
       "      <td>http://wjw.shanxi.gov.cn/wjywl02/24774.hrh</td>\n",
       "      <td>&lt;html&gt;&lt;head&gt;\\n\\t\\t&lt;title&gt;山西省卫生健康委员会网站-卫健要闻&lt;/ti...</td>\n",
       "    </tr>\n",
       "    <tr>\n",
       "      <th>186</th>\n",
       "      <td>https://www.sg.gov.cn/xw/ztjj/yqfkyz/zxyq/cont...</td>\n",
       "      <td>&lt;html lang=\"en\"&gt;&lt;head&gt;&lt;script src=\"https://hm....</td>\n",
       "    </tr>\n",
       "    <tr>\n",
       "      <th>187</th>\n",
       "      <td>https://www.sg.gov.cn/xw/ztjj/yqfkyz/zxyq/cont...</td>\n",
       "      <td>&lt;html lang=\"en\"&gt;&lt;head&gt;&lt;script src=\"https://hm....</td>\n",
       "    </tr>\n",
       "    <tr>\n",
       "      <th>188</th>\n",
       "      <td>https://www.sg.gov.cn/xw/ztjj/yqfkyz/zxyq/cont...</td>\n",
       "      <td>&lt;html lang=\"en\"&gt;&lt;head&gt;&lt;script src=\"https://hm....</td>\n",
       "    </tr>\n",
       "  </tbody>\n",
       "</table>\n",
       "<p>189 rows × 2 columns</p>\n",
       "</div>"
      ],
      "text/plain": [
       "                                                   url  \\\n",
       "0    https://mp.weixin.qq.com/s/HTsNM1zxEAx3IqoF1uYnYA   \n",
       "1    http://hc.nc.gov.cn/ncwjw/gzdt/202002/b5cf8972...   \n",
       "2               http://m.ha.bendibao.com/mip/1636.shtm   \n",
       "3    http://news.gxnews.com.cn/staticpages/20200209...   \n",
       "4    http://o.xiancity.cn/system/2020/02/09/0307133...   \n",
       "..                                                 ...   \n",
       "184         http://wjw.shanxi.gov.cn/wjywl02/24757.hrh   \n",
       "185         http://wjw.shanxi.gov.cn/wjywl02/24774.hrh   \n",
       "186  https://www.sg.gov.cn/xw/ztjj/yqfkyz/zxyq/cont...   \n",
       "187  https://www.sg.gov.cn/xw/ztjj/yqfkyz/zxyq/cont...   \n",
       "188  https://www.sg.gov.cn/xw/ztjj/yqfkyz/zxyq/cont...   \n",
       "\n",
       "                                              raw_html  \n",
       "0    <html class=\"\\n\\n\"><head>\\n                   ...  \n",
       "1    <html lang=\"en\"><head>\\n  <meta charset=\"UTF-8...  \n",
       "2    <html mip=\"\" class=\"mip-i-android-scroll\"><hea...  \n",
       "3    <html><head><script type=\"text/javascript\" asy...  \n",
       "4    <html xmlns=\"http://www.w3.org/1999/xhtml\"><he...  \n",
       "..                                                 ...  \n",
       "184  <html><head>\\n\\t\\t<title>山西省卫生健康委员会网站-卫健要闻</ti...  \n",
       "185  <html><head>\\n\\t\\t<title>山西省卫生健康委员会网站-卫健要闻</ti...  \n",
       "186  <html lang=\"en\"><head><script src=\"https://hm....  \n",
       "187  <html lang=\"en\"><head><script src=\"https://hm....  \n",
       "188  <html lang=\"en\"><head><script src=\"https://hm....  \n",
       "\n",
       "[189 rows x 2 columns]"
      ]
     },
     "execution_count": 199,
     "metadata": {},
     "output_type": "execute_result"
    }
   ],
   "source": [
    "good_url"
   ]
  },
  {
   "cell_type": "code",
   "execution_count": 200,
   "metadata": {},
   "outputs": [],
   "source": [
    "good_url.to_csv('./good_url_withRawHtml_5.1.csv')"
   ]
  },
  {
   "cell_type": "markdown",
   "metadata": {},
   "source": [
    "# 临时"
   ]
  },
  {
   "cell_type": "code",
   "execution_count": 38,
   "metadata": {},
   "outputs": [],
   "source": [
    "path = '../标注/ourdev.dev'"
   ]
  },
  {
   "cell_type": "code",
   "execution_count": 40,
   "metadata": {},
   "outputs": [],
   "source": [
    "s = ''\n",
    "with open(path,'r+',encoding=\"gbk\") as f:\n",
    "    s = f.read()"
   ]
  },
  {
   "cell_type": "code",
   "execution_count": 41,
   "metadata": {
    "collapsed": true
   },
   "outputs": [
    {
     "data": {
      "text/plain": [
       "'， O\\n累 O\\n计 O\\n1 O\\n3 O\\n5 O\\n6 O\\n2 O\\n人 O\\n， O\\n均 O\\n集 O\\n中 O\\n医 O\\n学 O\\n观 O\\n察 O\\n。 O\\n新 O\\n增 O\\n解 O\\n除 O\\n密 O\\n切 O\\n接 O\\n触 O\\n者 O\\n5 O\\n9 O\\n0 O\\n人 O\\n， O\\n累 O\\n计 O\\n解 O\\n除 O\\n密 O\\n切 O\\n接 O\\n触 O\\n者 O\\n7 O\\n4 O\\n9 O\\n8 O\\n人 O\\n。 O\\n\\n患 O\\n者 O\\n1 O\\n， O\\n男 O\\n， O\\n5 O\\n8 O\\n岁 O\\n， O\\n现 O\\n居 O\\n西 O\\n安 O\\n市 O\\n高 O\\n新 O\\n区 O\\n。 O\\n1 O\\n月 O\\n1 O\\n9 O\\n日 O\\n从 O\\n上 O\\n海 O\\n市 O\\n到 O\\n西 O\\n安 O\\n市 O\\n， O\\n2 O\\n月 O\\n2 O\\n日 O\\n出 O\\n现 O\\n症 O\\n状 O\\n， O\\n自 O\\n行 O\\n服 O\\n药 O\\n效 O\\n果 O\\n不 O\\n佳 O\\n。 O\\n2 O\\n月 O\\n7 O\\n日 O\\n症 O\\n状 O\\n加 O\\n重 O\\n到 O\\n西 O\\n安 O\\n高 O\\n新 O\\n医 O\\n院 O\\n就 O\\n诊 O\\n， O\\n2 O\\n月 O\\n8 O\\n日 O\\n被 O\\n转 O\\n至 O\\n西 O\\n安 O\\n市 O\\n胸 O\\n科 O\\n医 O\\n院 O\\n。 O\\n2 O\\n月 O\\n1 O\\n3 O\\n日 O\\n被 O\\n诊 O\\n断 O\\n为 O\\n新 O\\n冠 O\\n肺 O\\n炎 O\\n。 O\\n目 O\\n前 O\\n在 O\\n西 O\\n安 O\\n市 O\\n胸 O\\n科 O\\n医 O\\n院 O\\n隔 O\\n离 O\\n治 O\\n疗 O\\n。 O\\n\\n患 O\\n者 O\\n2 O\\n， O\\n男 O\\n， O\\n5 O\\n0 O\\n岁 O\\n， O\\n现 O\\n居 O\\n西 O\\n安 O\\n市 O\\n新 O\\n城 O\\n区 O\\n， O\\n所 O\\n居 O\\n单 O\\n元 O\\n楼 O\\n有 O\\n确 O\\n诊 O\\n患 O\\n者 O\\n（ O\\n2 O\\n月 O\\n2 O\\n日 O\\n确 O\\n诊 O\\n患 O\\n者 O\\n1 O\\n3 O\\n） O\\n。 O\\n1 O\\n月 O\\n9 O\\n日 O\\n从 O\\n浙 O\\n江 O\\n省 O\\n温 O\\n州 O\\n市 O\\n到 O\\n西 O\\n安 O\\n市 O\\n， O\\n1 O\\n月 O\\n1 O\\n0 O\\n日 O\\n至 O\\n1 O\\n月 O\\n1 O\\n4 O\\n日 O\\n在 O\\n多 B-Location\\n彩 I-Location\\n商 I-Location\\n城 I-Location\\n有 O\\n工 O\\n作 O\\n经 O\\n历 O\\n， O\\n1 O\\n月 O\\n2 O\\n8 O\\n日 O\\n出 O\\n现 O\\n症 O\\n状 O\\n， O\\n2 O\\n月 O\\n2 O\\n日 O\\n所 O\\n居 O\\n单 O\\n元 O\\n楼 O\\n被 O\\n隔 O\\n离 O\\n， O\\n当 O\\n天 O\\n被 O\\n转 O\\n至 O\\n华 O\\n山 O\\n医 O\\n院 O\\n就 O\\n诊 O\\n， O\\n当 O\\n晚 O\\n被 O\\n转 O\\n至 O\\n西 O\\n安 O\\n市 O\\n胸 O\\n科 O\\n医 O\\n院 O\\n就 O\\n诊 O\\n。 O\\n2 O\\n月 O\\n1 O\\n3 O\\n日 O\\n被 O\\n诊 O\\n断 O\\n为 O\\n新 O\\n冠 O\\n肺 O\\n炎 O\\n。 O\\n目 O\\n前 O\\n在 O\\n西 O\\n安 O\\n市 O\\n胸 O\\n科 O\\n医 O\\n院 O\\n隔 O\\n离 O\\n治 O\\n疗 O\\n。 O\\n\\n患 O\\n者 O\\n3 O\\n， O\\n男 O\\n， O\\n8 O\\n9 O\\n岁 O\\n， O\\n现 O\\n居 O\\n西 O\\n安 O\\n市 O\\n雁 O\\n塔 O\\n区 O\\n， O\\n与 O\\n2 O\\n月 O\\n8 O\\n日 O\\n确 O\\n诊 O\\n患 O\\n者 O\\n8 O\\n有 O\\n密 O\\n切 O\\n接 O\\n触 O\\n史 O\\n。 O\\n2 O\\n月 O\\n9 O\\n日 O\\n出 O\\n现 O\\n症 O\\n状 O\\n， O\\n2 O\\n月 O\\n1 O\\n0 O\\n日 O\\n到 O\\n西 O\\n安 O\\n交 O\\n通 O\\n大 O\\n学 O\\n第 O\\n一 O\\n附 O\\n属 O\\n医 O\\n院 O\\n就 O\\n诊 O\\n， O\\n被 O\\n隔 O\\n离 O\\n治 O\\n疗 O\\n。 O\\n2 O\\n月 O\\n1 O\\n3 O\\n日 O\\n被 O\\n诊 O\\n断 O\\n为 O\\n新 O\\n冠 O\\n肺 O\\n炎 O\\n。 O\\n目 O\\n前 O\\n在 O\\n西 O\\n安 O\\n交 O\\n通 O\\n大 O\\n学 O\\n第 O\\n一 O\\n附 O\\n属 O\\n医 O\\n院 O\\n隔 O\\n离 O\\n治 O\\n疗 O\\n。 O\\n\\n患 O\\n者 O\\n4 O\\n， O\\n女 O\\n， O\\n8 O\\n1 O\\n岁 O\\n， O\\n现 O\\n居 O\\n西 O\\n安 O\\n市 O\\n碑 O\\n林 O\\n区 O\\n， O\\n与 O\\n2 O\\n月 O\\n8 O\\n日 O\\n确 O\\n诊 O\\n患 O\\n者 O\\n7 O\\n有 O\\n密 O\\n切 O\\n接 O\\n触 O\\n史 O\\n。 O\\n2 O\\n月 O\\n5 O\\n日 O\\n被 O\\n隔 O\\n离 O\\n观 O\\n察 O\\n， O\\n2 O\\n月 O\\n6 O\\n日 O\\n出 O\\n现 O\\n厌 O\\n食 O\\n症 O\\n状 O\\n， O\\n2 O\\n月 O\\n1 O\\n1 O\\n日 O\\n被 O\\n转 O\\n至 O\\n陕 O\\n西 O\\n省 O\\n人 O\\n民 O\\n医 O\\n院 O\\n就 O\\n诊 O\\n。 O\\n2 O\\n月 O\\n1 O\\n3 O\\n日 O\\n被 O\\n诊 O\\n断 O\\n为 O\\n新 O\\n冠 O\\n肺 O\\n炎 O\\n。 O\\n目 O\\n前 O\\n在 O\\n西 O\\n安 O\\n市 O\\n胸 O\\n科 O\\n医 O\\n院 O\\n隔 O\\n离 O\\n治 O\\n疗 O\\n中 O\\n。 O\\n\\n扫 O\\n一 O\\n扫 O\\n在 O\\n手 O\\n机 O\\n打 O\\n开 O\\n当 O\\n前 O\\n页 O\\n\\t O\\n截 O\\n至 O\\n2 O\\n月 O\\n3 O\\n日 O\\n1 O\\n0 O\\n时 O\\n， O\\n陕 O\\n西 O\\n新 O\\n增 O\\n1 O\\n2 O\\n例 O\\n新 O\\n型 O\\n冠 O\\n状 O\\n病 O\\n毒 O\\n感 O\\n染 O\\n的 O\\n肺 O\\n炎 O\\n确 O\\n诊 O\\n病 O\\n例 O\\n， O\\n新 O\\n增 O\\n疑 O\\n似 O\\n病 O\\n例 O\\n3 O\\n6 O\\n例 O\\n。 O\\n新 O\\n增 O\\n确 O\\n诊 O\\n病 O\\n例 O\\n中 O\\n， O\\n西 O\\n安 O\\n市 O\\n8 O\\n例 O\\n、 O\\n宝 O\\n鸡 O\\n市 O\\n1 O\\n例 O\\n、 O\\n铜 O\\n川 O\\n市 O\\n1 O\\n例 O\\n、 O\\n渭 O\\n南 O\\n市 O\\n1 O\\n例 O\\n、 O\\n安 O\\n康 O\\n市 O\\n1 O\\n例 O\\n。 O\\n陕 O\\n西 O\\n累 O\\n计 O\\n报 O\\n告 O\\n新 O\\n型 O\\n冠 O\\n状 O\\n病 O\\n毒 O\\n感 O\\n染 O\\n的 O\\n肺 O\\n炎 O\\n确 O\\n诊 O\\n病 O\\n例 O\\n1 O\\n2 O\\n8 O\\n例 O\\n， O\\n其 O\\n中 O\\n输 O\\n入 O\\n性 O\\n病 O\\n例 O\\n8 O\\n7 O\\n例 O\\n， O\\n密 O\\n切 O\\n接 O\\n触 O\\n者 O\\n3 O\\n7 O\\n例 O\\n， O\\n无 O\\n明 O\\n确 O\\n接 O\\n触 O\\n史 O\\n病 O\\n例 O\\n4 O\\n例 O\\n。 O\\n累 O\\n计 O\\n确 O\\n诊 O\\n病 O\\n例 O\\n中 O\\n， O\\n西 O\\n安 O\\n市 O\\n5 O\\n5 O\\n例 O\\n、 O\\n宝 O\\n鸡 O\\n市 O\\n8 O\\n例 O\\n、 O\\n咸 O\\n阳 O\\n市 O\\n9 O\\n例 O\\n、 O\\n铜 O\\n川 O\\n市 O\\n7 O\\n例 O\\n、 O\\n渭 O\\n南 O\\n市 O\\n6 O\\n例 O\\n、 O\\n延 O\\n安 O\\n市 O\\n7 O\\n例 O\\n、 O\\n榆 O\\n林 O\\n市 O\\n1 O\\n例 O\\n、 O\\n汉 O\\n中 O\\n市 O\\n1 O\\n5 O\\n例 O\\n、 O\\n安 O\\n康 O\\n市 O\\n1 O\\n7 O\\n例 O\\n、 O\\n商 O\\n洛 O\\n市 O\\n2 O\\n例 O\\n、 O\\n韩 O\\n城 O\\n市 O\\n1 O\\n例 O\\n。 O\\n全 O\\n省 O\\n现 O\\n有 O\\n疑 O\\n似 O\\n病 O\\n例 O\\n2 O\\n0 O\\n5 O\\n例 O\\n。 O\\n全 O\\n省 O\\n新 O\\n增 O\\n密 O\\n切 O\\n接 O\\n触 O\\n者 O\\n1 O\\n0 O\\n2 O\\n4 O\\n人 O\\n， O\\n累 O\\n计 O\\n5 O\\n4 O\\n1 O\\n8 O\\n人 O\\n， O\\n均 O\\n集 O\\n中 O\\n医 O\\n学 O\\n观 O\\n察 O\\n。 O\\n新 O\\n增 O\\n解 O\\n除 O\\n密 O\\n切 O\\n接 O\\n触 O\\n者 O\\n1 O\\n1 O\\n8 O\\n人 O\\n， O\\n累 O\\n计 O\\n解 O\\n除 O\\n密 O\\n切 O\\n接 O\\n触 O\\n者 O\\n9 O\\n0 O\\n6 O\\n人 O\\n。 O\\n\\n患 O\\n者 O\\n1 O\\n， O\\n女 O\\n， O\\n5 O\\n0 O\\n岁 O\\n， O\\n现 O\\n居 O\\n宝 O\\n鸡 O\\n市 O\\n高 O\\n新 O\\n区 O\\n。 O\\n1 O\\n月 O\\n2 O\\n7 O\\n日 O\\n从 O\\n甘 O\\n肃 O\\n省 O\\n兰 O\\n州 O\\n市 O\\n到 O\\n宝 O\\n鸡 O\\n市 O\\n， O\\n2 O\\n9 O\\n日 O\\n出 O\\n现 O\\n症 O\\n状 O\\n， O\\n3 O\\n0 O\\n日 O\\n到 O\\n宝 O\\n鸡 O\\n市 O\\n高 O\\n新 O\\n人 O\\n民 O\\n医 O\\n院 O\\n就 O\\n诊 O\\n。 O\\n2 O\\n月 O\\n3 O\\n日 O\\n被 O\\n诊 O\\n断 O\\n为 O\\n新 O\\n型 O\\n冠 O\\n状 O\\n病 O\\n毒 O\\n感 O\\n染 O\\n的 O\\n肺 O\\n炎 O\\n。 O\\n目 O\\n前 O\\n在 O\\n宝 O\\n鸡 O\\n市 O\\n高 O\\n新 O\\n人 O\\n民 O\\n医 O\\n院 O\\n隔 O\\n离 O\\n治 O\\n疗 O\\n， O\\n病 O\\n情 O\\n平 O\\n稳 O\\n。 O\\n\\n患 O\\n者 O\\n2 O\\n， O\\n女 O\\n， O\\n7 O\\n6 O\\n岁 O\\n， O\\n铜 O\\n川 O\\n市 O\\n王 O\\n益 O\\n区 O\\n人 O\\n， O\\n与 O\\n1 O\\n月 O\\n2 O\\n5 O\\n日 O\\n确 O\\n诊 O\\n患 O\\n者 O\\n4 O\\n为 O\\n母 O\\n子 O\\n关 O\\n系 O\\n。 O\\n1 O\\n月 O\\n2 O\\n5 O\\n日 O\\n被 O\\n隔 O\\n离 O\\n观 O\\n察 O\\n， O\\n2 O\\n7 O\\n日 O\\n晚 O\\n出 O\\n现 O\\n症 O\\n状 O\\n， O\\n当 O\\n晚 O\\n被 O\\n转 O\\n运 O\\n至 O\\n铜 O\\n川 O\\n市 O\\n矿 O\\n务 O\\n局 O\\n中 O\\n心 O\\n医 O\\n院 O\\n就 O\\n诊 O\\n。 O\\n2 O\\n月 O\\n3 O\\n日 O\\n被 O\\n诊 O\\n断 O\\n为 O\\n新 O\\n型 O\\n冠 O\\n状 O\\n病 O\\n毒 O\\n感 O\\n染 O\\n的 O\\n肺 O\\n炎 O\\n。 O\\n目 O\\n前 O\\n在 O\\n铜 O\\n川 O\\n市 O\\n矿 O\\n务 O\\n局 O\\n中 O\\n心 O\\n医 O\\n院 O\\n隔 O\\n离 O\\n治 O\\n疗 O\\n， O\\n病 O\\n情 O\\n平 O\\n稳 O\\n。 O\\n\\n患 O\\n者 O\\n3 O\\n， O\\n男 O\\n， O\\n4 O\\n7 O\\n岁 O\\n， O\\n安 O\\n康 O\\n市 O\\n紫 O\\n阳 O\\n县 O\\n人 O\\n， O\\n长 O\\n期 O\\n在 O\\n武 O\\n汉 O\\n市 O\\n工 O\\n作 O\\n。 O\\n1 O\\n月 O\\n1 O\\n9 O\\n日 O\\n从 O\\n武 O\\n汉 O\\n市 O\\n到 O\\n安 O\\n康 O\\n市 O\\n紫 O\\n阳 O\\n县 O\\n， O\\n1 O\\n月 O\\n3 O\\n1 O\\n日 O\\n被 O\\n紫 O\\n阳 O\\n县 O\\n城 O\\n关 O\\n镇 O\\n卫 O\\n生 O\\n院 O\\n组 O\\n织 O\\n到 O\\n紫 O\\n阳 O\\n县 O\\n中 O\\n医 O\\n院 O\\n进 O\\n行 O\\n胸 O\\n片 O\\n筛 O\\n查 O\\n， O\\n胸 O\\n片 O\\n提 O\\n示 O\\n存 O\\n在 O\\n病 O\\n灶 O\\n， O\\n当 O\\n天 O\\n到 O\\n紫 O\\n阳 O\\n县 O\\n人 O\\n民 O\\n医 O\\n院 O\\n就 O\\n诊 O\\n。 O\\n2 O\\n月 O\\n3 O\\n日 O\\n被 O\\n诊 O\\n断 O\\n为 O\\n新 O\\n型 O\\n冠 O\\n状 O\\n病 O\\n毒 O\\n感 O\\n染 O\\n的 O\\n肺 O\\n炎 O\\n。 O\\n目 O\\n前 O\\n在 O\\n安 O\\n康 O\\n市 O\\n中 O\\n心 O\\n医 O\\n院 O\\n隔 O\\n离 O\\n治 O\\n疗 O\\n， O\\n病 O\\n情 O\\n平 O\\n稳 O\\n。 O\\n\\n患 O\\n者 O\\n4 O\\n， O\\n男 O\\n， O\\n3 O\\n8 O\\n岁 O\\n， O\\n武 O\\n汉 O\\n市 O\\n洪 O\\n山 O\\n区 O\\n人 O\\n， O\\n系 O\\n1 O\\n月 O\\n3 O\\n1 O\\n日 O\\n确 O\\n诊 O\\n患 O\\n者 O\\n7 O\\n的 O\\n女 O\\n婿 O\\n。 O\\n1 O\\n月 O\\n2 O\\n3 O\\n日 O\\n从 O\\n武 O\\n汉 O\\n市 O\\n到 O\\n渭 O\\n南 O\\n市 O\\n， O\\n随 O\\n后 O\\n自 O\\n行 O\\n居 O\\n家 O\\n隔 O\\n离 O\\n。 O\\n2 O\\n9 O\\n日 O\\n出 O\\n现 O\\n症 O\\n状 O\\n， O\\n3 O\\n0 O\\n日 O\\n被 O\\n集 O\\n中 O\\n隔 O\\n离 O\\n。 O\\n2 O\\n月 O\\n3 O\\n日 O\\n被 O\\n诊 O\\n断 O\\n为 O\\n新 O\\n型 O\\n冠 O\\n状 O\\n病 O\\n毒 O\\n感 O\\n染 O\\n的 O\\n肺 O\\n炎 O\\n。 O\\n目 O\\n前 O\\n在 O\\n渭 O\\n南 O\\n市 O\\n中 O\\n心 O\\n医 O\\n院 O\\n隔 O\\n离 O\\n治 O\\n疗 O\\n， O\\n病 O\\n情 O\\n平 O\\n稳 O\\n。 O\\n\\n患 O\\n者 O\\n5 O\\n， O\\n女 O\\n， O\\n5 O\\n2 O\\n岁 O\\n， O\\n西 O\\n安 O\\n市 O\\n灞 O\\n桥 O\\n区 O\\n人 O\\n。 O\\n1 O\\n月 O\\n2 O\\n1 O\\n日 O\\n从 O\\n武 O\\n汉 O\\n市 O\\n到 O\\n西 O\\n安 O\\n市 O\\n， O\\n2 O\\n3 O\\n日 O\\n出 O\\n现 O\\n症 O\\n状 O\\n， O\\n2 O\\n5 O\\n日 O\\n到 O\\n唐 O\\n都 O\\n医 O\\n院 O\\n就 O\\n诊 O\\n， O\\n2 O\\n月 O\\n1 O\\n日 O\\n症 O\\n状 O\\n加 O\\n重 O\\n再 O\\n次 O\\n到 O\\n唐 O\\n都 O\\n医 O\\n院 O\\n就 O\\n诊 O\\n。 O\\n2 O\\n月 O\\n3 O\\n日 O\\n被 O\\n诊 O\\n断 O\\n为 O\\n新 O\\n型 O\\n冠 O\\n状 O\\n病 O\\n毒 O\\n感 O\\n染 O\\n的 O\\n肺 O\\n炎 O\\n。 O\\n目 O\\n前 O\\n在 O\\n唐 O\\n都 O\\n医 O\\n院 O\\n隔 O\\n离 O\\n治 O\\n疗 O\\n， O\\n病 O\\n情 O\\n平 O\\n稳 O\\n。 O\\n\\n患 O\\n者 O\\n6 O\\n， O\\n女 O\\n， O\\n4 O\\n7 O\\n岁 O\\n， O\\n现 O\\n居 O\\n西 O\\n安 O\\n市 O\\n雁 O\\n塔 O\\n区 O\\n， O\\n与 O\\n1 O\\n月 O\\n3 O\\n1 O\\n日 O\\n确 O\\n诊 O\\n患 O\\n者 O\\n3 O\\n有 O\\n聚 O\\n餐 O\\n经 O\\n历 O\\n。 O\\n1 O\\n月 O\\n2 O\\n5 O\\n日 O\\n出 O\\n现 O\\n症 O\\n状 O\\n， O\\n自 O\\n行 O\\n服 O\\n药 O\\n。 O\\n2 O\\n8 O\\n日 O\\n症 O\\n状 O\\n加 O\\n重 O\\n， O\\n当 O\\n天 O\\n到 O\\n陕 O\\n西 O\\n省 O\\n第 O\\n四 O\\n人 O\\n民 O\\n医 O\\n院 O\\n就 O\\n诊 O\\n。 O\\n2 O\\n月 O\\n3 O\\n日 O\\n被 O\\n诊 O\\n断 O\\n为 O\\n新 O\\n型 O\\n冠 O\\n状 O\\n病 O\\n毒 O\\n感 O\\n染 O\\n的 O\\n肺 O\\n炎 O\\n。 O\\n目 O\\n前 O\\n在 O\\n陕 O\\n西 O\\n省 O\\n传 O\\n染 O\\n病 O\\n院 O\\n（ O\\n西 O\\n安 O\\n市 O\\n第 O\\n八 O\\n医 O\\n院 O\\n） O\\n隔 O\\n离 O\\n治 O\\n疗 O\\n， O\\n病 O\\n情 O\\n平 O\\n稳 O\\n。 O\\n\\n患 O\\n者 O\\n7 O\\n， O\\n男 O\\n， O\\n5 O\\n4 O\\n岁 O\\n， O\\n现 O\\n居 O\\n西 O\\n安 O\\n市 O\\n阎 O\\n良 O\\n区 O\\n， O\\n与 O\\n1 O\\n月 O\\n2 O\\n9 O\\n日 O\\n确 O\\n诊 O\\n患 O\\n者 O\\n9 O\\n和 O\\n1 O\\n月 O\\n3 O\\n1 O\\n日 O\\n确 O\\n诊 O\\n患 O\\n者 O\\n2 O\\n1 O\\n有 O\\n接 O\\n触 O\\n史 O\\n。 O\\n1 O\\n月 O\\n2 O\\n9 O\\n日 O\\n在 O\\n阎 O\\n良 O\\n区 O\\n人 O\\n民 O\\n医 O\\n院 O\\n隔 O\\n离 O\\n观 O\\n察 O\\n， O\\n3 O\\n0 O\\n日 O\\n出 O\\n现 O\\n症 O\\n状 O\\n。 O\\n2 O\\n月 O\\n3 O\\n日 O\\n被 O\\n诊 O\\n断 O\\n为 O\\n新 O\\n型 O\\n冠 O\\n状 O\\n病 O\\n毒 O\\n感 O\\n染 O\\n的 O\\n肺 O\\n炎 O\\n。 O\\n目 O\\n前 O\\n在 O\\n阎 O\\n良 O\\n区 O\\n人 O\\n民 O\\n医 O\\n院 O\\n隔 O\\n离 O\\n治 O\\n疗 O\\n， O\\n病 O\\n情 O\\n平 O\\n稳 O\\n。 O\\n\\n患 O\\n者 O\\n8 O\\n， O\\n男 O\\n， O\\n5 O\\n0 O\\n岁 O\\n， O\\n汉 O\\n中 O\\n市 O\\n西 O\\n乡 O\\n县 O\\n人 O\\n， O\\n与 O\\n1 O\\n月 O\\n2 O\\n7 O\\n日 O\\n确 O\\n诊 O\\n患 O\\n者 O\\n3 O\\n、 O\\n4 O\\n有 O\\n接 O\\n触 O\\n史 O\\n。 O\\n1 O\\n月 O\\n2 O\\n9 O\\n日 O\\n在 O\\n陕 O\\n西 O\\n省 O\\n结 O\\n核 O\\n病 O\\n防 O\\n治 O\\n院 O\\n隔 O\\n离 O\\n观 O\\n察 O\\n， O\\n经 O\\n检 O\\n查 O\\n发 O\\n现 O\\n异 O\\n常 O\\n， O\\n3 O\\n1 O\\n日 O\\n早 O\\n被 O\\n转 O\\n运 O\\n至 O\\n西 O\\n安 O\\n市 O\\n胸 O\\n科 O\\n医 O\\n院 O\\n隔 O\\n离 O\\n观 O\\n察 O\\n。 O\\n2 O\\n月 O\\n3 O\\n日 O\\n被 O\\n诊 O\\n断 O\\n为 O\\n新 O\\n型 O\\n冠 O\\n状 O\\n病 O\\n毒 O\\n感 O\\n染 O\\n的 O\\n肺 O\\n炎 O\\n。 O\\n目 O\\n前 O\\n在 O\\n西 O\\n安 O\\n市 O\\n胸 O\\n科 O\\n医 O\\n院 O\\n隔 O\\n离 O\\n治 O\\n疗 O\\n， O\\n病 O\\n情 O\\n平 O\\n稳 O\\n。 O\\n\\n患 O\\n者 O\\n9 O\\n， O\\n男 O\\n， O\\n5 O\\n0 O\\n岁 O\\n， O\\n湖 O\\n北 O\\n省 O\\n应 O\\n城 O\\n市 O\\n人 O\\n。 O\\n1 O\\n月 O\\n2 O\\n3 O\\n日 O\\n从 O\\n湖 O\\n北 O\\n省 O\\n应 O\\n城 O\\n市 O\\n到 O\\n西 O\\n安 O\\n市 O\\n， O\\n当 O\\n天 O\\n被 O\\n隔 O\\n离 O\\n观 O\\n察 O\\n。 O\\n3 O\\n1 O\\n日 O\\n出 O\\n现 O\\n症 O\\n状 O\\n， O\\n当 O\\n天 O\\n被 O\\n转 O\\n运 O\\n至 O\\n西 O\\n安 O\\n市 O\\n胸 O\\n科 O\\n医 O\\n院 O\\n就 O\\n诊 O\\n。 O\\n2 O\\n月 O\\n3 O\\n日 O\\n被 O\\n诊 O\\n断 O\\n为 O\\n新 O\\n型 O\\n冠 O\\n状 O\\n病 O\\n毒 O\\n感 O\\n染 O\\n的 O\\n肺 O\\n炎 O\\n。 O\\n目 O\\n前 O\\n在 O\\n西 O\\n安 O\\n市 O\\n胸 O\\n科 O\\n医 O\\n院 O\\n隔 O\\n离 O\\n治 O\\n疗 O\\n， O\\n病 O\\n情 O\\n平 O\\n稳 O\\n。 O\\n\\n患 O\\n者 O\\n1 O\\n0 O\\n， O\\n女 O\\n， O\\n3 O\\n5 O\\n岁 O\\n， O\\n西 O\\n安 O\\n市 O\\n未 O\\n央 O\\n区 O\\n人 O\\n， O\\n与 O\\n1 O\\n月 O\\n2 O\\n9 O\\n日 O\\n确 O\\n诊 O\\n患 O\\n者 O\\n3 O\\n有 O\\n接 O\\n触 O\\n史 O\\n。 O\\n1 O\\n月 O\\n2 O\\n5 O\\n日 O\\n出 O\\n现 O\\n症 O\\n状 O\\n， O\\n3 O\\n1 O\\n日 O\\n到 O\\n未 O\\n央 O\\n区 O\\n辛 O\\n家 O\\n庙 O\\n社 O\\n区 O\\n卫 O\\n生 O\\n服 O\\n务 O\\n中 O\\n心 O\\n就 O\\n诊 O\\n。 O\\n2 O\\n月 O\\n3 O\\n日 O\\n被 O\\n诊 O\\n断 O\\n为 O\\n新 O\\n型 O\\n冠 O\\n状 O\\n病 O\\n毒 O\\n感 O\\n染 O\\n的 O\\n肺 O\\n炎 O\\n。 O\\n目 O\\n前 O\\n在 O\\n唐 O\\n都 O\\n医 O\\n院 O\\n隔 O\\n离 O\\n治 O\\n疗 O\\n， O\\n病 O\\n情 O\\n平 O\\n稳 O\\n。 O\\n\\n患 O\\n者 O\\n1 O\\n1 O\\n， O\\n女 O\\n， O\\n3 O\\n7 O\\n岁 O\\n， O\\n西 O\\n安 O\\n市 O\\n临 O\\n潼 O\\n区 O\\n人 O\\n， O\\n暂 O\\n未 O\\n发 O\\n现 O\\n明 O\\n确 O\\n暴 O\\n露 O\\n史 O\\n。 O\\n1 O\\n月 O\\n2 O\\n8 O\\n日 O\\n出 O\\n现 O\\n症 O\\n状 O\\n， O\\n当 O\\n天 O\\n到 O\\n临 O\\n潼 O\\n区 O\\n斜 O\\n口 O\\n街 O\\n办 O\\n窑 O\\n村 O\\n村 O\\n卫 O\\n生 O\\n室 O\\n就 O\\n诊 O\\n。 O\\n2 O\\n月 O\\n1 O\\n日 O\\n症 O\\n状 O\\n加 O\\n重 O\\n后 O\\n到 O\\n临 O\\n潼 O\\n区 O\\n人 O\\n民 O\\n医 O\\n院 O\\n就 O\\n诊 O\\n。 O\\n2 O\\n月 O\\n3 O\\n日 O\\n被 O\\n诊 O\\n断 O\\n为 O\\n新 O\\n型 O\\n冠 O\\n状 O\\n病 O\\n毒 O\\n感 O\\n染 O\\n的 O\\n肺 O\\n炎 O\\n。 O\\n目 O\\n前 O\\n在 O\\n西 O\\n安 O\\n市 O\\n胸 O\\n科 O\\n医 O\\n院 O\\n隔 O\\n离 O\\n治 O\\n疗 O\\n， O\\n病 O\\n情 O\\n平 O\\n稳 O\\n。 O\\n\\n患 O\\n者 O\\n1 O\\n2 O\\n， O\\n男 O\\n， O\\n2 O\\n4 O\\n岁 O\\n， O\\n现 O\\n居 O\\n西 O\\n安 O\\n市 O\\n雁 O\\n塔 O\\n区 O\\n， O\\n系 O\\n1 O\\n月 O\\n3 O\\n0 O\\n日 O\\n确 O\\n诊 O\\n病 O\\n例 O\\n6 O\\n的 O\\n儿 O\\n子 O\\n。 O\\n1 O\\n月 O\\n2 O\\n7 O\\n日 O\\n出 O\\n现 O\\n症 O\\n状 O\\n， O\\n当 O\\n天 O\\n到 O\\n西 O\\n安 O\\n交 O\\n通 O\\n大 O\\n学 O\\n第 O\\n一 O\\n附 O\\n属 O\\n医 O\\n院 O\\n就 O\\n诊 O\\n。 O\\n2 O\\n月 O\\n3 O\\n日 O\\n被 O\\n诊 O\\n断 O\\n为 O\\n新 O\\n型 O\\n冠 O\\n状 O\\n病 O\\n毒 O\\n感 O\\n染 O\\n的 O\\n肺 O\\n炎 O\\n。 O\\n目 O\\n前 O\\n在 O\\n西 O\\n安 O\\n交 O\\n通 O\\n大 O\\n学 O\\n第 O\\n一 O\\n附 O\\n属 O\\n医 O\\n院 O\\n隔 O\\n离 O\\n治 O\\n疗 O\\n， O\\n病 O\\n情 O\\n平 O\\n稳 O\\n。 O\\n\\n扫 O\\n一 O\\n扫 O\\n在 O\\n手 O\\n机 O\\n打 O\\n开 O\\n当 O\\n前 O\\n页 O\\n\\t O\\n省 O\\n人 O\\n民 O\\n医 O\\n院 O\\n医 O\\n生 O\\n李 O\\n某 O\\n， O\\n女 O\\n， O\\n于 O\\n4 O\\n月 O\\n1 O\\n2 O\\n日 O\\n起 O\\n在 O\\n哈 O\\n尔 O\\n滨 O\\n医 O\\n科 O\\n大 O\\n学 O\\n附 O\\n属 O\\n一 O\\n院 O\\n陪 O\\n护 O\\n家 O\\n人 O\\n， O\\n按 O\\n照 O\\n当 O\\n地 O\\n规 O\\n定 O\\n， O\\n4 O\\n月 O\\n1 O\\n6 O\\n日 O\\n、 O\\n1 O\\n7 O\\n日 O\\n医 O\\n院 O\\n分 O\\n别 O\\n对 O\\n其 O\\n进 O\\n行 O\\n新 O\\n冠 O\\n病 O\\n毒 O\\n核 O\\n酸 O\\n检 O\\n测 O\\n， O\\n两 O\\n次 O\\n结 O\\n果 O\\n均 O\\n为 O\\n阴 O\\n性 O\\n， O\\n血 O\\n清 O\\n抗 O\\n体 O\\nI O\\ng O\\nI O\\n检 O\\n测 O\\n结 O\\n果 O\\n阳 O\\n性 O\\n、 O\\nI O\\ng O\\nG O\\n检 O\\n测 O\\n结 O\\n果 O\\n阴 O\\n性 O\\n。 O\\n李 O\\n某 O\\n于 O\\n4 O\\n月 O\\n1 O\\n7 O\\n日 O\\n晚 O\\n返 O\\n回 O\\n沈 O\\n阳 O\\n至 O\\n4 O\\n月 O\\n1 O\\n9 O\\n日 O\\n居 O\\n家 O\\n未 O\\n外 O\\n出 O\\n， O\\n其 O\\n向 O\\n单 O\\n位 O\\n瞒 O\\n报 O\\n赴 O\\n哈 O\\n尔 O\\n滨 O\\n行 O\\n程 O\\n， O\\n4 O\\n月 O\\n2 O\\n0 O\\n日 O\\n返 O\\n岗 O\\n上 O\\n班 O\\n， O\\n在 O\\n医 O\\n院 O\\n门 O\\n诊 O\\n出 O\\n诊 O\\n时 O\\n本 O\\n人 O\\n及 O\\n其 O\\n接 O\\n诊 O\\n患 O\\n者 O\\n均 O\\n佩 O\\n戴 O\\n口 O\\n罩 O\\n。 O\\n\\n4 O\\n月 O\\n2 O\\n2 O\\n日 O\\n， O\\n我 O\\n省 O\\n疾 O\\n控 O\\n中 O\\n心 O\\n接 O\\n到 O\\n黑 O\\n龙 O\\n江 O\\n省 O\\n疾 O\\n控 O\\n中 O\\n心 O\\n协 O\\n查 O\\n函 O\\n， O\\n通 O\\n报 O\\n了 O\\n李 O\\n某 O\\n在 O\\n哈 O\\n尔 O\\n滨 O\\n医 O\\n科 O\\n大 O\\n学 O\\n附 O\\n属 O\\n一 O\\n院 O\\n陪 O\\n护 O\\n期 O\\n间 O\\n核 O\\n酸 O\\n和 O\\n血 O\\n清 O\\n抗 O\\n体 O\\n检 O\\n测 O\\n情 O\\n况 O\\n。 O\\n当 O\\n日 O\\n下 O\\n午 O\\n， O\\n相 O\\n关 O\\n部 O\\n门 O\\n对 O\\n李 O\\n某 O\\n进 O\\n行 O\\n隔 O\\n离 O\\n管 O\\n理 O\\n。 O\\n李 O\\n某 O\\n无 O\\n发 O\\n热 O\\n、 O\\n咳 O\\n嗽 O\\n、 O\\n咳 O\\n痰 O\\n等 O\\n临 O\\n床 O\\n表 O\\n现 O\\n， O\\n血 O\\n常 O\\n规 O\\n和 O\\n肺 O\\nC O\\nT O\\n检 O\\n查 O\\n均 O\\n无 O\\n异 O\\n常 O\\n。 O\\n沈 O\\n阳 O\\n市 O\\n疾 O\\n控 O\\n中 O\\n心 O\\n采 O\\n用 O\\n3 O\\n种 O\\n试 O\\n剂 O\\n复 O\\n核 O\\n核 O\\n酸 O\\n， O\\n检 O\\n测 O\\n结 O\\n果 O\\n均 O\\n为 O\\n阴 O\\n性 O\\n， O\\n血 O\\n清 O\\n抗 O\\n体 O\\n检 O\\n测 O\\nI O\\ng O\\nI O\\n阳 O\\n性 O\\n、 O\\nI O\\ng O\\nG O\\n阴 O\\n性 O\\n。 O\\n2 O\\n3 O\\n日 O\\n凌 O\\n晨 O\\n1 O\\n时 O\\n省 O\\n疾 O\\n控 O\\n中 O\\n心 O\\n复 O\\n核 O\\n， O\\n采 O\\n用 O\\n4 O\\n种 O\\n试 O\\n剂 O\\n进 O\\n行 O\\n检 O\\n测 O\\n， O\\n3 O\\n种 O\\n试 O\\n剂 O\\n显 O\\n示 O\\n血 O\\n清 O\\n抗 O\\n体 O\\nI O\\ng O\\nI O\\n阴 O\\n性 O\\n， O\\n1 O\\n种 O\\n试 O\\n剂 O\\n显 O\\n示 O\\n为 O\\n阳 O\\n性 O\\n。 O\\n经 O\\n省 O\\n级 O\\n专 O\\n家 O\\n组 O\\n按 O\\n照 O\\n国 O\\n家 O\\n《 O\\n新 O\\n冠 O\\n病 O\\n毒 O\\n无 O\\n症 O\\n状 O\\n感 O\\n染 O\\n者 O\\n管 O\\n理 O\\n规 O\\n范 O\\n》 O\\n标 O\\n准 O\\n会 O\\n诊 O\\n， O\\n李 O\\n某 O\\n目 O\\n前 O\\n暂 O\\n排 O\\n除 O\\n新 O\\n冠 O\\n肺 O\\n炎 O\\n确 O\\n诊 O\\n病 O\\n例 O\\n、 O\\n疑 O\\n似 O\\n病 O\\n例 O\\n及 O\\n无 O\\n症 O\\n状 O\\n感 O\\n染 O\\n者 O\\n， O\\n不 O\\n具 O\\n有 O\\n传 O\\n染 O\\n性 O\\n。 O\\n因 O\\nI O\\ng O\\nI O\\n可 O\\n疑 O\\n阳 O\\n性 O\\n， O\\n须 O\\n密 O\\n切 O\\n关 O\\n注 O\\n临 O\\n床 O\\n症 O\\n状 O\\n并 O\\n继 O\\n续 O\\n进 O\\n行 O\\n核 O\\n酸 O\\n和 O\\n血 O\\n清 O\\n抗 O\\n体 O\\n监 O\\n测 O\\n， O\\n对 O\\n其 O\\n采 O\\n取 O\\n隔 O\\n离 O\\n1 O\\n4 O\\n天 O\\n措 O\\n施 O\\n。 O\\n\\n同 O\\n时 O\\n， O\\n李 O\\n某 O\\n共 O\\n同 O\\n生 O\\n活 O\\n的 O\\n2 O\\n名 O\\n家 O\\n属 O\\n及 O\\n3 O\\n名 O\\n省 O\\n人 O\\n民 O\\n医 O\\n院 O\\n密 O\\n切 O\\n接 O\\n触 O\\n的 O\\n同 O\\n事 O\\n均 O\\n已 O\\n实 O\\n施 O\\n隔 O\\n离 O\\n医 O\\n学 O\\n观 O\\n察 O\\n1 O\\n4 O\\n天 O\\n， O\\n并 O\\n检 O\\n测 O\\n新 O\\n冠 O\\n病 O\\n毒 O\\n核 O\\n酸 O\\n结 O\\n果 O\\n均 O\\n为 O\\n阴 O\\n性 O\\n。 O\\n\\n省 O\\n人 O\\n民 O\\n医 O\\n院 O\\n目 O\\n前 O\\n门 O\\n急 O\\n诊 O\\n、 O\\n住 O\\n院 O\\n病 O\\n房 O\\n正 O\\n常 O\\n开 O\\n诊 O\\n。 O\\n已 O\\n责 O\\n成 O\\n省 O\\n人 O\\n民 O\\n医 O\\n院 O\\n按 O\\n照 O\\n有 O\\n关 O\\n规 O\\n定 O\\n对 O\\n李 O\\n某 O\\n给 O\\n予 O\\n相 O\\n应 O\\n处 O\\n理 O\\n。 O\\n\\n小 O\\n编 O\\n有 O\\n话 O\\n说 O\\n： O\\n微 O\\n信 O\\n搜 O\\n索 O\\n并 O\\n关 O\\n注 O\\n公 O\\n众 O\\n号 O\\n【 O\\n沈 O\\n阳 O\\n本 O\\n地 O\\n宝 O\\n】 O\\n， O\\n对 O\\n话 O\\n框 O\\n回 O\\n复 O\\n关 O\\n键 O\\n词 O\\n【 O\\n入 O\\n沈 O\\n】 O\\n， O\\n即 O\\n可 O\\n获 O\\n取 O\\n哈 O\\n尔 O\\n滨 O\\n市 O\\n、 O\\n牡 O\\n丹 O\\n江 O\\n市 O\\n来 O\\n沈 O\\n人 O\\n员 O\\n政 O\\n策 O\\n要 O\\n求 O\\n、 O\\n属 O\\n地 O\\n指 O\\n定 O\\n集 O\\n中 O\\n隔 O\\n离 O\\n宾 O\\n馆 O\\n名 O\\n单 O\\n、 O\\n来 O\\n自 O\\n低 O\\n风 O\\n险 O\\n地 O\\n区 O\\n人 O\\n员 O\\n入 O\\n沈 O\\n政 O\\n策 O\\n、 O\\n重 O\\n点 O\\n区 O\\n域 O\\n划 O\\n分 O\\n、 O\\n健 O\\n康 O\\n通 O\\n行 O\\n码 O\\n申 O\\n领 O\\n入 O\\n口 O\\n、 O\\n疫 O\\n情 O\\n风 O\\n险 O\\n查 O\\n询 O\\n入 O\\n口 O\\n等 O\\n实 O\\n用 O\\n信 O\\n息 O\\n。 O\\n回 O\\n复 O\\n【 O\\n核 O\\n酸 O\\n检 O\\n测 O\\n】 O\\n， O\\n还 O\\n可 O\\n获 O\\n取 O\\n沈 O\\n阳 O\\n新 O\\n冠 O\\n病 O\\n毒 O\\n核 O\\n酸 O\\n检 O\\n测 O\\n预 O\\n约 O\\n指 O\\n南 O\\n及 O\\n价 O\\n格 O\\n。 O\\nI O\\n8 O\\n: O\\n1 O\\n3 O\\n2 O\\nK O\\nB O\\ns O\\n1 O\\n2 O\\n: O\\n5 O\\n3 O\\n7 O\\n1 O\\n沈 O\\n阳 O\\n本 O\\n地 O\\n宝 O\\n入 O\\n沈 O\\n真 O\\n地 O\\n宝 O\\nP O\\n辽 O\\n宁 O\\n新 O\\n型 O\\n冠 O\\n状 O\\n病 O\\n毒 O\\n核 O\\n酸 O\\n检 O\\n测 O\\n收 O\\n沈 O\\n阳 O\\n费 O\\n标 O\\n准 O\\nP O\\n辽 O\\n宁 O\\n省 O\\n具 O\\n备 O\\n开 O\\n展 O\\n新 O\\n型 O\\n冠 O\\n状 O\\n病 O\\n毒 O\\n核 O\\n酸 O\\n检 O\\n测 O\\n资 O\\n质 O\\n的 O\\n医 O\\n疗 O\\n机 O\\n构 O\\n更 O\\n新 O\\n于 O\\n4 O\\n月 O\\n2 O\\n0 O\\n日 O\\n自 O\\n哈 O\\n尔 O\\n滨 O\\n市 O\\n、 O\\n牡 O\\n丹 O\\n江 O\\n市 O\\n来 O\\n沈 O\\n人 O\\n员 O\\n相 O\\n关 O\\n政 O\\n策 O\\n《 O\\n关 O\\n于 O\\n进 O\\n一 O\\n步 O\\n严 O\\n防 O\\n省 O\\n外 O\\n疫 O\\n情 O\\n输 O\\n入 O\\n工 O\\n作 O\\n的 O\\n通 O\\n告 O\\n( O\\n第 O\\n1 O\\n4 O\\n号 O\\n) O\\n》 O\\nP O\\n沈 O\\n阳 O\\n疫 O\\n情 O\\n防 O\\n控 O\\n属 O\\n地 O\\n指 O\\n定 O\\n集 O\\n中 O\\n隔 O\\n离 O\\n宾 O\\n馆 O\\n名 O\\n单 O\\n更 O\\n新 O\\n于 O\\n4 O\\n月 O\\n1 O\\n5 O\\n日 O\\n《 O\\n关 O\\n于 O\\n故 O\\n好 O\\n重 O\\n点 O\\n地 O\\n区 O\\n入 O\\n沈 O\\n人 O\\n员 O\\n登 O\\n记 O\\n工 O\\n作 O\\n的 O\\n通 O\\n知 O\\n》 O\\n目 O\\n前 O\\n重 O\\n点 O\\n地 O\\n区 O\\n范 O\\n围 O\\n指 O\\n湖 O\\n北 O\\n省 O\\n全 O\\n域 O\\n, O\\n和 O\\n有 O\\n调 O\\n整 O\\n, O\\n以 O\\n市 O\\n疫 O\\n情 O\\n防 O\\n控 O\\n指 O\\n挥 O\\n部 O\\n最 O\\n新 O\\n发 O\\n布 O\\n为 O\\n准 O\\n。 O\\n更 O\\n新 O\\n于 O\\n4 O\\n月 O\\n1 O\\n日 O\\n沈 O\\n阳 O\\n市 O\\n新 O\\n型 O\\n冠 O\\n状 O\\n病 O\\n毒 O\\n感 O\\n染 O\\n的 O\\n肺 O\\n炎 O\\n疫 O\\n情 O\\n防 O\\n控 O\\n指 O\\n挥 O\\n部 O\\n令 O\\n( O\\n第 O\\n1 O\\n0 O\\n号 O\\n) O\\n即 O\\n日 O\\n起 O\\n从 O\\n重 O\\n点 O\\n地 O\\n区 O\\n来 O\\n沈 O\\n的 O\\n学 O\\n生 O\\n、 O\\n返 O\\n肺 O\\n炎 O\\n专 O\\n题 O\\n微 O\\n信 O\\n办 O\\n事 O\\n三 O\\n热 O\\n门 O\\n推 O\\n荐 O\\n目 O\\n然 O\\n\\t O\\n2 O\\n0 O\\n2 O\\n0 O\\n年 O\\n2 O\\n月 O\\n2 O\\n日 O\\n0 O\\n时 O\\n至 O\\n1 O\\n2 O\\n时 O\\n， O\\n广 O\\n州 O\\n市 O\\n新 O\\n增 O\\n新 O\\n型 O\\n冠 O\\n状 O\\n病 O\\n毒 O\\n感 O\\n染 O\\n的 O\\n肺 O\\n炎 O\\n确 O\\n诊 O\\n病 O\\n例 O\\n4 O\\n例 O\\n， O\\n其 O\\n中 O\\n白 O\\n云 O\\n区 O\\n3 O\\n例 O\\n、 O\\n番 O\\n禺 O\\n区 O\\n1 O\\n例 O\\n。 O\\n\\n截 O\\n至 O\\n2 O\\n月 O\\n2 O\\n日 O\\n1 O\\n2 O\\n时 O\\n， O\\n广 O\\n州 O\\n市 O\\n累 O\\n计 O\\n报 O\\n告 O\\n新 O\\n型 O\\n冠 O\\n状 O\\n病 O\\n毒 O\\n感 O\\n染 O\\n的 O\\n肺 O\\n炎 O\\n确 O\\n诊 O\\n病 O\\n例 O\\n1 O\\n7 O\\n9 O\\n例 O\\n， O\\n其 O\\n中 O\\n白 O\\n云 O\\n区 O\\n4 O\\n8 O\\n例 O\\n、 O\\n天 O\\n河 O\\n区 O\\n3 O\\n3 O\\n例 O\\n、 O\\n海 O\\n珠 O\\n区 O\\n2 O\\n4 O\\n例 O\\n、 O\\n越 O\\n秀 O\\n区 O\\n1 O\\n7 O\\n例 O\\n、 O\\n番 O\\n禺 O\\n区 O\\n1 O\\n7 O\\n例 O\\n、 O\\n黄 O\\n埔 O\\n区 O\\n1 O\\n1 O\\n例 O\\n、 O\\n花 O\\n都 O\\n区 O\\n9 O\\n例 O\\n、 O\\n南 O\\n沙 O\\n区 O\\n7 O\\n例 O\\n、 O\\n增 O\\n城 O\\n区 O\\n7 O\\n例 O\\n、 O\\n荔 O\\n湾 O\\n区 O\\n5 O\\n例 O\\n、 O\\n从 O\\n化 O\\n区 O\\n1 O\\n例 O\\n。 O\\n累 O\\n计 O\\n核 O\\n实 O\\n密 O\\n切 O\\n接 O\\n触 O\\n者 O\\n3 O\\n4 O\\n4 O\\n人 O\\n， O\\n尚 O\\n有 O\\n2 O\\n5 O\\n5 O\\n人 O\\n正 O\\n在 O\\n接 O\\n受 O\\n医 O\\n学 O\\n观 O\\n察 O\\n。 O\\n\\n确 O\\n诊 O\\n病 O\\n例 O\\n中 O\\n， O\\n湖 O\\n北 O\\n输 O\\n入 O\\n1 O\\n2 O\\n7 O\\n例 O\\n， O\\n与 O\\n湖 O\\n北 O\\n输 O\\n入 O\\n病 O\\n例 O\\n直 O\\n接 O\\n关 O\\n联 O\\n3 O\\n7 O\\n例 O\\n， O\\n暂 O\\n未 O\\n发 O\\n现 O\\n湖 O\\n北 O\\n相 O\\n关 O\\n接 O\\n触 O\\n史 O\\n1 O\\n1 O\\n例 O\\n， O\\n尚 O\\n在 O\\n调 O\\n查 O\\n4 O\\n例 O\\n。 O\\n\\n1 O\\n7 O\\n9 O\\n例 O\\n病 O\\n例 O\\n中 O\\n， O\\n已 O\\n治 O\\n愈 O\\n出 O\\n院 O\\n3 O\\n例 O\\n， O\\n无 O\\n死 O\\n亡 O\\n病 O\\n例 O\\n。 O\\n现 O\\n有 O\\n1 O\\n7 O\\n6 O\\n例 O\\n在 O\\n定 O\\n点 O\\n医 O\\n院 O\\n隔 O\\n离 O\\n治 O\\n疗 O\\n。 O\\n其 O\\n中 O\\n重 O\\n症 O\\n1 O\\n3 O\\n例 O\\n， O\\n危 O\\n重 O\\n6 O\\n例 O\\n。 O\\n1 O\\n3 O\\n5 O\\n例 O\\n在 O\\n市 O\\n八 O\\n医 O\\n院 O\\n（ O\\n含 O\\n重 O\\n症 O\\n1 O\\n1 O\\n例 O\\n、 O\\n危 O\\n重 O\\n3 O\\n例 O\\n） O\\n、 O\\n2 O\\n1 O\\n例 O\\n在 O\\n省 O\\n二 O\\n医 O\\n院 O\\n（ O\\n含 O\\n重 O\\n症 O\\n1 O\\n例 O\\n） O\\n、 O\\n8 O\\n例 O\\n在 O\\n中 O\\n山 O\\n三 O\\n院 O\\n（ O\\n含 O\\n重 O\\n症 O\\n1 O\\n例 O\\n） O\\n、 O\\n6 O\\n例 O\\n在 O\\n市 O\\n妇 O\\n儿 O\\n中 O\\n心 O\\n、 O\\n3 O\\n例 O\\n在 O\\n广 O\\n医 O\\n附 O\\n一 O\\n医 O\\n院 O\\n（ O\\n均 O\\n为 O\\n危 O\\n重 O\\n） O\\n、 O\\n2 O\\n例 O\\n在 O\\n省 O\\n人 O\\n民 O\\n医 O\\n院 O\\n、 O\\n1 O\\n例 O\\n在 O\\n南 O\\n方 O\\n医 O\\n院 O\\n接 O\\n受 O\\n治 O\\n疗 O\\n。 O\\n\\n附 O\\n件 O\\n1 O\\n\\n病 O\\n例 O\\n的 O\\n年 O\\n龄 O\\n分 O\\n布 O\\n\\n目 O\\n前 O\\n， O\\n1 O\\n7 O\\n9 O\\n例 O\\n确 O\\n诊 O\\n病 O\\n例 O\\n年 O\\n龄 O\\n介 O\\n于 O\\n1 O\\n- O\\n8 O\\n5 O\\n岁 O\\n。 O\\n其 O\\n中 O\\n， O\\n3 O\\n岁 O\\n以 O\\n下 O\\n3 O\\n人 O\\n， O\\n4 O\\n- O\\n1 O\\n0 O\\n岁 O\\n2 O\\n人 O\\n， O\\n1 O\\n1 O\\n- O\\n2 O\\n0 O\\n岁 O\\n9 O\\n例 O\\n， O\\n2 O\\n1 O\\n- O\\n3 O\\n0 O\\n岁 O\\n1 O\\n9 O\\n例 O\\n， O\\n3 O\\n1 O\\n- O\\n4 O\\n0 O\\n岁 O\\n3 O\\n2 O\\n例 O\\n， O\\n4 O\\n1 O\\n- O\\n5 O\\n0 O\\n岁 O\\n3 O\\n0 O\\n例 O\\n， O\\n5 O\\n1 O\\n- O\\n6 O\\n0 O\\n岁 O\\n3 O\\n1 O\\n例 O\\n， O\\n6 O\\n1 O\\n- O\\n7 O\\n0 O\\n岁 O\\n4 O\\n1 O\\n例 O\\n， O\\n7 O\\n1 O\\n- O\\n8 O\\n0 O\\n岁 O\\n8 O\\n例 O\\n， O\\n8 O\\n1 O\\n岁 O\\n以 O\\n上 O\\n4 O\\n例 O\\n。 O\\n\\n附 O\\n件 O\\n2 O\\n\\n病 O\\n例 O\\n涉 O\\n及 O\\n的 O\\n小 O\\n区 O\\n或 O\\n场 O\\n所 O\\n\\n广 O\\n州 O\\n1 O\\n7 O\\n9 O\\n例 O\\n确 O\\n诊 O\\n病 O\\n例 O\\n涉 O\\n及 O\\n1 O\\n1 O\\n个 O\\n区 O\\n9 O\\n1 O\\n个 O\\n小 O\\n区 O\\n或 O\\n场 O\\n所 O\\n。 O\\n发 O\\n现 O\\n确 O\\n诊 O\\n病 O\\n例 O\\n后 O\\n， O\\n疾 O\\n控 O\\n部 O\\n门 O\\n已 O\\n立 O\\n即 O\\n对 O\\n所 O\\n涉 O\\n及 O\\n的 O\\n小 O\\n区 O\\n进 O\\n行 O\\n了 O\\n严 O\\n格 O\\n的 O\\n终 O\\n末 O\\n消 O\\n毒 O\\n， O\\n督 O\\n促 O\\n指 O\\n导 O\\n社 O\\n区 O\\n和 O\\n物 O\\n业 O\\n做 O\\n好 O\\n日 O\\n常 O\\n预 O\\n防 O\\n性 O\\n消 O\\n毒 O\\n工 O\\n作 O\\n。 O\\n与 O\\n病 O\\n例 O\\n有 O\\n关 O\\n的 O\\n密 O\\n切 O\\n接 O\\n触 O\\n者 O\\n已 O\\n送 O\\n指 O\\n定 O\\n场 O\\n所 O\\n医 O\\n学 O\\n观 O\\n察 O\\n。 O\\n\\n希 O\\n望 O\\n大 O\\n家 O\\n不 O\\n要 O\\n恐 O\\n慌 O\\n， O\\n也 O\\n不 O\\n要 O\\n太 O\\n在 O\\n意 O\\n所 O\\n在 O\\n小 O\\n区 O\\n有 O\\n没 O\\n有 O\\n病 O\\n例 O\\n。 O\\n有 O\\n病 O\\n例 O\\n和 O\\n没 O\\n有 O\\n病 O\\n例 O\\n的 O\\n小 O\\n区 O\\n都 O\\n应 O\\n该 O\\n做 O\\n好 O\\n防 O\\n控 O\\n工 O\\n作 O\\n。 O\\n即 O\\n使 O\\n没 O\\n有 O\\n病 O\\n例 O\\n的 O\\n小 O\\n区 O\\n， O\\n也 O\\n要 O\\n做 O\\n好 O\\n个 O\\n人 O\\n防 O\\n护 O\\n。 O\\n\\n越 O\\n秀 O\\n区 O\\n（ O\\n9 O\\n个 O\\n） O\\n\\n海 B-Location\\n珠 I-Location\\n广 I-Location\\n场 I-Location\\n侨 I-Location\\n光 I-Location\\n路 I-Location\\n万 I-Location\\n艺 I-Location\\n广 I-Location\\n场 I-Location\\n\\n黄 B-Location\\n花 I-Location\\n岗 I-Location\\n街 I-Location\\n东 I-Location\\n风 I-Location\\n东 I-Location\\n路 I-Location\\n\\n梅 B-Location\\n花 I-Location\\n村 I-Location\\n街 I-Location\\n杨 I-Location\\n箕 I-Location\\n村 I-Location\\n金 I-Location\\n羊 I-Location\\n花 I-Location\\n园 I-Location\\n\\n农 B-Location\\n林 I-Location\\n下 I-Location\\n路 I-Location\\n\\n水 B-Location\\n均 I-Location\\n岗 I-Location\\n\\n水 B-Location\\n荫 I-Location\\n路 I-Location\\n\\n淘 B-Location\\n金 I-Location\\n东 I-Location\\n路 I-Location\\n御 I-Location\\n龙 I-Location\\n庭 I-Location\\n\\n淘 B-Location\\n金 I-Location\\n路 I-Location\\n\\n于 B-Location\\n华 I-Location\\n乐 I-Location\\n街 I-Location\\n华 I-Location\\n侨 I-Location\\n新 I-Location\\n村 I-Location\\n光 I-Location\\n明 I-Location\\n路 I-Location\\n\\n海 O\\n珠 O\\n区 O\\n（ O\\n1 O\\n5 O\\n个 O\\n） O\\n\\n赤 B-Location\\n岗 I-Location\\n街 I-Location\\n石 I-Location\\n榴 I-Location\\n岗 I-Location\\n路 I-Location\\n\\n凤 B-Location\\n阳 I-Location\\n街 I-Location\\n道 I-Location\\n和 I-Location\\n平 I-Location\\n家 I-Location\\n园 I-Location\\n\\n赤 B-Location\\n岗 I-Location\\n街 I-Location\\n新 I-Location\\n港 I-Location\\n中 I-Location\\n路 I-Location\\n影 I-Location\\n城 I-Location\\n花 I-Location\\n园 I-Location\\n\\n凤 B-Location\\n阳 I-Location\\n街 I-Location\\n和 I-Location\\n平 I-Location\\n家 I-Location\\n园 I-Location\\n\\n华 B-Location\\n洲 I-Location\\n街 I-Location\\n土 I-Location\\n华 I-Location\\n村 I-Location\\n山 I-Location\\n北 I-Location\\n岗 I-Location\\n\\n南 B-Location\\n石 I-Location\\n头 I-Location\\n街 I-Location\\n鸡 I-Location\\n春 I-Location\\n岗 I-Location\\n新 I-Location\\n街 I-Location\\n\\n瑞 B-Location\\n宝 I-Location\\n街 I-Location\\n金 I-Location\\n恒 I-Location\\n路 I-Location\\n\\n沙 B-Location\\n园 I-Location\\n街 I-Location\\n昌 I-Location\\n岗 I-Location\\n中 I-Location\\n路 I-Location\\n\\n南 B-Location\\n华 I-Location\\n西 I-Location\\n街 I-Location\\n道 I-Location\\n同 I-Location\\n福 I-Location\\n西 I-Location\\n路 I-Location\\n\\n石 B-Location\\n榴 I-Location\\n岗 I-Location\\n路 I-Location\\n\\n小 B-Location\\n港 I-Location\\n路 I-Location\\n涌 I-Location\\n边 I-Location\\n东 I-Location\\n九 I-Location\\n巷 I-Location\\n\\n新 B-Location\\n港 I-Location\\n街 I-Location\\n国 I-Location\\n际 I-Location\\n轻 I-Location\\n纺 I-Location\\n城 I-Location\\n双 I-Location\\n子 I-Location\\n星 I-Location\\n城 I-Location\\n星 I-Location\\n辰 I-Location\\n轩 I-Location\\n\\n新 B-Location\\n港 I-Location\\n中 I-Location\\n路 I-Location\\n影 I-Location\\n城 I-Location\\n花 I-Location\\n园 I-Location\\n\\n锦 B-Location\\n江 I-Location\\n之 I-Location\\n星 I-Location\\n\\n革 B-Location\\n新 I-Location\\n路 I-Location\\n船 I-Location\\n舶 I-Location\\n太 I-Location\\n古 I-Location\\n酒 I-Location\\n店 I-Location\\n\\n荔 O\\n湾 O\\n区 O\\n（ O\\n5 O\\n个 O\\n） O\\n\\n华 B-Location\\n林 I-Location\\n街 I-Location\\n道 I-Location\\n文 I-Location\\n昌 I-Location\\n南 I-Location\\n路 I-Location\\n\\n石 B-Location\\n围 I-Location\\n塘 I-Location\\n街 I-Location\\n凯 I-Location\\n粤 I-Location\\n湾 I-Location\\n\\n荔 B-Location\\n湾 I-Location\\n区 I-Location\\n金 I-Location\\n花 I-Location\\n街 I-Location\\n道 I-Location\\n芦 I-Location\\n荻 I-Location\\n街 I-Location\\n\\n中 B-Location\\n海 I-Location\\n花 I-Location\\n湾 I-Location\\n\\n华 B-Location\\n林 I-Location\\n街 I-Location\\n道 I-Location\\n上 I-Location\\n下 I-Location\\n九 I-Location\\n丽 I-Location\\n枫 I-Location\\n酒 I-Location\\n店 I-Location\\n\\n天 O\\n河 O\\n区 O\\n（ O\\n2 O\\n2 O\\n个 O\\n） O\\n\\n车 B-Location\\n陂 I-Location\\n街 I-Location\\n美 I-Location\\n好 I-Location\\n居 I-Location\\n\\n天 B-Location\\n河 I-Location\\n新 I-Location\\n作 I-Location\\n\\n合 B-Location\\n景 I-Location\\n路 I-Location\\n\\n海 B-Location\\n景 I-Location\\n花 I-Location\\n园 I-Location\\n\\n猎 B-Location\\n德 I-Location\\n街 I-Location\\n道 I-Location\\n珠 I-Location\\n光 I-Location\\n景 I-Location\\n\\n猎 B-Location\\n德 I-Location\\n街 I-Location\\n猎 I-Location\\n德 I-Location\\n复 I-Location\\n建 I-Location\\n房 I-Location\\n\\n体 B-Location\\n育 I-Location\\n西 I-Location\\n小 I-Location\\n区 I-Location\\n\\n前 B-Location\\n进 I-Location\\n街 I-Location\\n盈 I-Location\\n彩 I-Location\\n美 I-Location\\n居 I-Location\\n街 I-Location\\n彩 I-Location\\n轩 I-Location\\n\\n沙 B-Location\\n太 I-Location\\n南 I-Location\\n路 I-Location\\n\\n石 B-Location\\n牌 I-Location\\n街 I-Location\\n暨 I-Location\\n南 I-Location\\n大 I-Location\\n学 I-Location\\n羊 I-Location\\n城 I-Location\\n苑 I-Location\\n\\n棠 B-Location\\n下 I-Location\\n街 I-Location\\n道 I-Location\\n棠 I-Location\\n石 I-Location\\n路 I-Location\\n新 I-Location\\n景 I-Location\\n苑 I-Location\\n小 I-Location\\n区 I-Location\\n\\n棠 B-Location\\n下 I-Location\\n街 I-Location\\n枫 I-Location\\n叶 I-Location\\n路 I-Location\\n棠 I-Location\\n雅 I-Location\\n苑 I-Location\\n\\n棠 B-Location\\n下 I-Location\\n街 I-Location\\n华 I-Location\\n景 I-Location\\n新 I-Location\\n城 I-Location\\n陶 I-Location\\n然 I-Location\\n庭 I-Location\\n苑 I-Location\\n\\n棠 B-Location\\n下 I-Location\\n荷 I-Location\\n光 I-Location\\n广 I-Location\\n州 I-Location\\n锦 I-Location\\n顺 I-Location\\n酒 I-Location\\n店 I-Location\\n\\n凤 B-Location\\n凰 I-Location\\n街 I-Location\\n道 I-Location\\n渔 I-Location\\n兴 I-Location\\n路 I-Location\\n\\n冼 B-Location\\n村 I-Location\\n街 I-Location\\n道 I-Location\\n马 I-Location\\n场 I-Location\\n路 I-Location\\n富 I-Location\\n力 I-Location\\n花 I-Location\\n园 I-Location\\n\\n冼 B-Location\\n村 I-Location\\n街 I-Location\\n道 I-Location\\n华 I-Location\\n明 I-Location\\n路 I-Location\\n\\n冼 B-Location\\n村 I-Location\\n街 I-Location\\n道 I-Location\\n珠 I-Location\\n光 I-Location\\n新 I-Location\\n城 I-Location\\n御 I-Location\\n景 I-Location\\n二 I-Location\\n期 I-Location\\n\\n冼 B-Location\\n村 I-Location\\n街 I-Location\\n道 I-Location\\n潭 I-Location\\n村 I-Location\\n路 I-Location\\n珠 I-Location\\n光 I-Location\\n御 I-Location\\n景 I-Location\\n\\n新 B-Location\\n塘 I-Location\\n街 I-Location\\n华 I-Location\\n观 I-Location\\n路 I-Location\\n云 I-Location\\n城 I-Location\\n米 I-Location\\n酷 I-Location\\n\\n兴 B-Location\\n华 I-Location\\n街 I-Location\\n沙 I-Location\\n太 I-Location\\n南 I-Location\\n路 I-Location\\n\\n车 B-Location\\n陂 I-Location\\n街 I-Location\\n林 I-Location\\n南 I-Location\\n文 I-Location\\n化 I-Location\\n酒 I-Location\\n店 I-Location\\n\\n白 O\\n云 O\\n区 O\\n（ O\\n2 O\\n2 O\\n\\n鹤 B-Location\\n龙 I-Location\\n街 I-Location\\n道 I-Location\\n黄 I-Location\\n边 I-Location\\n安 I-Location\\n怀 I-Location\\n里 I-Location\\n\\n鹤 B-Location\\n龙 I-Location\\n街 I-Location\\n联 I-Location\\n边 I-Location\\n彭 I-Location\\n西 I-Location\\n一 I-Location\\n街 I-Location\\n\\n黄 B-Location\\n石 I-Location\\n街 I-Location\\n白 I-Location\\n云 I-Location\\n尚 I-Location\\n城 I-Location\\n\\n黄 B-Location\\n石 I-Location\\n花 I-Location\\n园 I-Location\\n\\n元 B-Location\\n邦 I-Location\\n航 I-Location\\n空 I-Location\\n家 I-Location\\n园 I-Location\\n\\n时 B-Location\\n代 I-Location\\n玫 I-Location\\n瑰 I-Location\\n园 I-Location\\n\\n江 B-Location\\n高 I-Location\\n镇 I-Location\\n大 I-Location\\n田 I-Location\\n村 I-Location\\n海 I-Location\\n口 I-Location\\n直 I-Location\\n街 I-Location\\n\\n保 B-Location\\n利 I-Location\\n西 I-Location\\n海 I-Location\\n岸 I-Location\\n江 I-Location\\n海 I-Location\\n花 I-Location\\n园 I-Location\\n\\n金 B-Location\\n沙 I-Location\\n洲 I-Location\\n保 I-Location\\n利 I-Location\\n西 I-Location\\n子 I-Location\\n湾 I-Location\\n\\n梅 B-Location\\n滨 I-Location\\n大 I-Location\\n厦 I-Location\\n\\n南 B-Location\\n湖 I-Location\\n高 I-Location\\n尔 I-Location\\n夫 I-Location\\n公 I-Location\\n寓 I-Location\\n\\n人 B-Location\\n和 I-Location\\n镇 I-Location\\n清 I-Location\\n河 I-Location\\n渡 I-Location\\n头 I-Location\\n街 I-Location\\n\\n鹤 B-Location\\n龙 I-Location\\n街 I-Location\\n道 I-Location\\n乐 I-Location\\n得 I-Location\\n花 I-Location\\n园 I-Location\\n\\n麒 B-Location\\n麟 I-Location\\n新 I-Location\\n村 I-Location\\n三 I-Location\\n街 I-Location\\n二 I-Location\\n巷 I-Location\\n\\n人 B-Location\\n和 I-Location\\n镇 I-Location\\n人 I-Location\\n和 I-Location\\n商 I-Location\\n业 I-Location\\n街 I-Location\\n\\n石 B-Location\\n井 I-Location\\n街 I-Location\\n道 I-Location\\n石 I-Location\\n潭 I-Location\\n路 I-Location\\n\\n松 B-Location\\n洲 I-Location\\n街 I-Location\\n道 I-Location\\n西 I-Location\\n槎 I-Location\\n路 I-Location\\n同 I-Location\\n景 I-Location\\n东 I-Location\\n街 I-Location\\n\\n棠 B-Location\\n景 I-Location\\n街 I-Location\\n道 I-Location\\n岗 I-Location\\n贝 I-Location\\n路 I-Location\\n贝 I-Location\\n丽 I-Location\\n花 I-Location\\n园 I-Location\\n\\n棠 B-Location\\n景 I-Location\\n街 I-Location\\n国 I-Location\\n强 I-Location\\n北 I-Location\\n街 I-Location\\n\\n心 B-Location\\n谊 I-Location\\n路 I-Location\\n\\n南 B-Location\\n航 I-Location\\n明 I-Location\\n珠 I-Location\\n酒 I-Location\\n店 I-Location\\n\\n人 B-Location\\n和 I-Location\\n镇 I-Location\\n西 I-Location\\n成 I-Location\\n路 I-Location\\n蔚 I-Location\\n徕 I-Location\\n酒 I-Location\\n店 I-Location\\n\\n黄 B-Location\\n埔 I-Location\\n区 I-Location\\n（ I-Location\\n8 I-Location\\n个 I-Location\\n） I-Location\\n\\n大 B-Location\\n沙 I-Location\\n街 I-Location\\n丰 I-Location\\n乐 I-Location\\n北 I-Location\\n路 I-Location\\n君 I-Location\\n和 I-Location\\n名 I-Location\\n城 I-Location\\n\\n金 B-Location\\n碧 I-Location\\n世 I-Location\\n纪 I-Location\\n花 I-Location\\n园 I-Location\\n\\n联 B-Location\\n和 I-Location\\n街 I-Location\\n保 I-Location\\n利 I-Location\\n林 I-Location\\n语 I-Location\\n山 I-Location\\n庄 I-Location\\n芳 I-Location\\n林 I-Location\\n二 I-Location\\n街 I-Location\\n\\n龙 B-Location\\n湖 I-Location\\n街 I-Location\\n万 I-Location\\n科 I-Location\\n幸 I-Location\\n福 I-Location\\n誉 I-Location\\n\\n南 B-Location\\n岗 I-Location\\n街 I-Location\\n广 I-Location\\n海 I-Location\\n路 I-Location\\n亨 I-Location\\n元 I-Location\\n花 I-Location\\n园 I-Location\\n\\n云 B-Location\\n埔 I-Location\\n街 I-Location\\n道 I-Location\\n中 I-Location\\n海 I-Location\\n誉 I-Location\\n城 I-Location\\n\\n夏 B-Location\\n港 I-Location\\n街 I-Location\\n蓝 I-Location\\n玉 I-Location\\n五 I-Location\\n街 I-Location\\n\\n云 B-Location\\n埔 I-Location\\n街 I-Location\\n万 I-Location\\n科 I-Location\\n金 I-Location\\n色 I-Location\\n梦 I-Location\\n想 I-Location\\n\\n花 O\\n都 O\\n区 O\\n（ O\\n8 O\\n个 O\\n） O\\n\\n花 B-Location\\n城 I-Location\\n街 I-Location\\n道 I-Location\\n南 I-Location\\n航 I-Location\\n花 I-Location\\n园 I-Location\\n\\n花 B-Location\\n城 I-Location\\n街 I-Location\\n道 I-Location\\n长 I-Location\\n岗 I-Location\\n村 I-Location\\n\\n狮 O\\n岭 O\\n镇 O\\n合 B-Location\\n成 I-Location\\n村 I-Location\\n\\n新 B-Location\\n华 I-Location\\n街 I-Location\\n宾 I-Location\\n馆 I-Location\\n新 I-Location\\n村 I-Location\\n\\n新 B-Location\\n华 I-Location\\n街 I-Location\\n锦 I-Location\\n尚 I-Location\\n蓬 I-Location\\n莱 I-Location\\n\\n新 B-Location\\n雅 I-Location\\n街 I-Location\\n道 I-Location\\n合 I-Location\\n和 I-Location\\n新 I-Location\\n城 I-Location\\n锦 I-Location\\n华 I-Location\\n\\n秀 B-Location\\n全 I-Location\\n街 I-Location\\n雅 I-Location\\n宝 I-Location\\n新 I-Location\\n城 I-Location\\n英 I-Location\\n伦 I-Location\\n世 I-Location\\n家 I-Location\\n\\n自 B-Location\\n由 I-Location\\n人 I-Location\\n花 I-Location\\n园 I-Location\\n2 I-Location\\n期 I-Location\\n\\n番 O\\n禺 O\\n区 O\\n（ O\\n1 O\\n1 O\\n个 O\\n） O\\n\\n大 B-Location\\n龙 I-Location\\n街 I-Location\\n尚 I-Location\\n东 I-Location\\n尚 I-Location\\n筑 I-Location\\n\\n名 B-Location\\n伦 I-Location\\n花 I-Location\\n园 I-Location\\n\\n金 B-Location\\n山 I-Location\\n谷 I-Location\\n花 I-Location\\n园 I-Location\\n\\n东 B-Location\\n环 I-Location\\n街 I-Location\\n甘 I-Location\\n棠 I-Location\\n村 I-Location\\n大 I-Location\\n社 I-Location\\n坊 I-Location\\n中 I-Location\\n心 I-Location\\n街 I-Location\\n\\n南 O\\n村 O\\n镇 O\\n雅 B-Location\\n居 I-Location\\n乐 I-Location\\n\\n碧 B-Location\\n桂 I-Location\\n园 I-Location\\n东 I-Location\\n苑 I-Location\\n倚 I-Location\\n翠 I-Location\\n路 I-Location\\n\\n星 B-Location\\n河 I-Location\\n湾 I-Location\\n半 I-Location\\n岛 I-Location\\n\\n钟 B-Location\\n村 I-Location\\n街 I-Location\\n晋 I-Location\\n富 I-Location\\n路 I-Location\\n\\n祈 B-Location\\n福 I-Location\\n新 I-Location\\n村 I-Location\\n祈 I-Location\\n福 I-Location\\n名 I-Location\\n都 I-Location\\n\\n石 O\\n楼 O\\n镇 O\\n亚 B-Location\\n运 I-Location\\n城 I-Location\\n媒 I-Location\\n体 I-Location\\n村 I-Location\\n\\n市 B-Location\\n桥 I-Location\\n街 I-Location\\n丽 I-Location\\n柏 I-Location\\n酒 I-Location\\n店 I-Location\\n\\n南 O\\n沙 O\\n区 O\\n（ O\\n4 O\\n个 O\\n） O\\n\\n叠 B-Location\\n翠 I-Location\\n峰 I-Location\\n\\n黄 B-Location\\n阁 I-Location\\n镇 I-Location\\n万 I-Location\\n科 I-Location\\n南 I-Location\\n方 I-Location\\n公 I-Location\\n元 I-Location\\n\\n榄 B-Location\\n核 I-Location\\n镇 I-Location\\n蔡 I-Location\\n源 I-Location\\n东 I-Location\\n街 I-Location\\n\\n南 B-Location\\n沙 I-Location\\n街 I-Location\\n坦 I-Location\\n头 I-Location\\n村 I-Location\\n槽 I-Location\\n船 I-Location\\n一 I-Location\\n街 I-Location\\n\\n从 O\\n化 O\\n区 O\\n（ O\\n1 O\\n个 O\\n） O\\n\\n城 B-Location\\n郊 I-Location\\n街 I-Location\\n新 I-Location\\n雍 I-Location\\n丽 I-Location\\n酒 I-Location\\n店 I-Location\\n\\n增 O\\n城 O\\n区 O\\n（ O\\n6 O\\n个 O\\n） O\\n\\n荔 B-Location\\n城 I-Location\\n街 I-Location\\n中 I-Location\\n海 I-Location\\n城 I-Location\\n市 I-Location\\n广 I-Location\\n场 I-Location\\n\\n新 O\\n塘 O\\n镇 O\\n尚 B-Location\\n东 I-Location\\n阳 I-Location\\n光 I-Location\\n\\n新 O\\n塘 O\\n镇 O\\n太 B-Location\\n平 I-Location\\n洋 I-Location\\n花 I-Location\\n园 I-Location\\n\\n新 O\\n塘 O\\n镇 O\\n翡 B-Location\\n翠 I-Location\\n绿 I-Location\\n洲 I-Location\\n\\n新 O\\n塘 O\\n镇 O\\n西 B-Location\\n洲 I-Location\\n村 I-Location\\n豪 I-Location\\n门 I-Location\\n公 I-Location\\n寓 I-Location\\n\\n新 O\\n塘 O\\n镇 O\\n西 B-Location\\n洲 I-Location\\n村 I-Location\\n\\n4 O\\n0 O\\n3 O\\n5 O\\n3 O\\n0 O\\n3 O\\n1 O\\n3 O\\n0 O\\n1 O\\n9 O\\n2 O\\n0 O\\n'"
      ]
     },
     "execution_count": 41,
     "metadata": {},
     "output_type": "execute_result"
    }
   ],
   "source": [
    "s"
   ]
  }
 ],
 "metadata": {
  "kernelspec": {
   "display_name": "Python 3",
   "language": "python",
   "name": "python3"
  },
  "language_info": {
   "codemirror_mode": {
    "name": "ipython",
    "version": 3
   },
   "file_extension": ".py",
   "mimetype": "text/x-python",
   "name": "python",
   "nbconvert_exporter": "python",
   "pygments_lexer": "ipython3",
   "version": "3.7.4"
  }
 },
 "nbformat": 4,
 "nbformat_minor": 2
}
