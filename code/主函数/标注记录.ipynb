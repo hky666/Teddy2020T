{
 "cells": [
  {
   "cell_type": "code",
   "execution_count": 21,
   "metadata": {},
   "outputs": [],
   "source": [
    "import re"
   ]
  },
  {
   "cell_type": "code",
   "execution_count": 8,
   "metadata": {},
   "outputs": [],
   "source": [
    "f = open('./Alltext.txt')"
   ]
  },
  {
   "cell_type": "code",
   "execution_count": 9,
   "metadata": {},
   "outputs": [],
   "source": [
    "s = f.read()"
   ]
  },
  {
   "cell_type": "code",
   "execution_count": 17,
   "metadata": {},
   "outputs": [
    {
     "data": {
      "text/plain": [
       "468.227"
      ]
     },
     "execution_count": 17,
     "metadata": {},
     "output_type": "execute_result"
    }
   ],
   "source": [
    "len(s)/1000"
   ]
  },
  {
   "cell_type": "code",
   "execution_count": 15,
   "metadata": {},
   "outputs": [],
   "source": [
    "def print_jindu(i):\n",
    "    p  = i*1000\n",
    "    print (s[p:p+1000])\n",
    "    return s[p:p+1000]"
   ]
  },
  {
   "cell_type": "code",
   "execution_count": 19,
   "metadata": {},
   "outputs": [
    {
     "name": "stdout",
     "output_type": "stream",
     "text": [
      "12属于新冠肺炎家庭聚集性病例。病例6谭某（男、26岁、武汉人），在武汉居住工作，1月22日自驾车离开武汉，1月23日到广宁旅游，1月23日到当地医院检查，结果显示未见异常，1月24日开始进行为期14天集中隔离的医学观察，1月28日出现头痛、腹泻症状，1月29日住院隔离治疗，1月30日确诊。目前，正在定点医院规范治疗，病人病情稳定，生命体征良好。病例5郭某（女、27岁、高要人），近半年在武汉居住工作，1月22日自驾车离开武汉回肇，1月23日到肇后无不适症状并纳入医学观察，1月25日出现发热症状，1月26日住院隔离治疗，1月28日确诊。目前，正在定点医院规范治疗，病人病情稳定，生命体征良好。经治疗，2020年2月10日已出院。病例4李某（女、43岁、高要人），近半年在高要居住工作，无明显疫情发生地接触史，1月9日参加自组团到泰国旅游，乘坐泰国亚航FD537航班从广州白云机场抵达廊曼机场，1月13日出现感冒、乏力症状，1月14日乘坐泰国亚航FD530航班抵达广州白云机场，1月17日入院就诊，1月25日确诊。目前，正在定点医院规范治疗，病人病情稳定，生命体征良好。经治疗，2020年2月11日已出院。病例3廖某（男、26岁、高要人），近半年在武汉居住工作，1月19日从武汉乘坐飞机到广州白云机场，随后由同事接载回端州，1月21日出现发热症状并入院就诊，1月25日确诊。经治疗，2020年2月8日已出院。病例2林某（男、37岁、端州人），近半年在武汉居住工作，1月22日乘坐武广高铁G95班次列车回到广州南，在广州南站客运站乘坐前往端州的大巴，再乘坐滴滴车回端州。在武汉归家途中开始发热，但自己除乏力外无感觉到其他不适，在进家门前妻子发现其体温异常，其妻子自驾车送患者到医院就诊，1月24日确诊。经治疗，2020年2月8日已出院。病例1黎某（女、25岁、四会人），近半年在武汉居住工作。1月11日出现鼻塞、流涕、间歇性咳嗽等症状，1月13日和16日在武汉医院就诊，1月17日乘坐G1015次列车（座位号3车厢）回广州南站，在广州南站客运站乘坐前往四会的大巴，再乘坐滴滴车回四会，1月18日入院就诊，1月22日确诊。经治疗，2020年1月31日已出院。全市累计确诊病例涉及的小区或场所1端州区：睦岗街道锦绣山河小区、城东街道帝和豪庭小区鼎湖区：坑口街道一米阳光小区高要区：南岸街道珀丽湾小区、南岸\n"
     ]
    }
   ],
   "source": [
    "print_jindu(3)"
   ]
  },
  {
   "cell_type": "code",
   "execution_count": 36,
   "metadata": {},
   "outputs": [],
   "source": [
    "r = re.search('端州人','ws端州人').span()[0]"
   ]
  },
  {
   "cell_type": "code",
   "execution_count": 59,
   "metadata": {},
   "outputs": [],
   "source": [
    "def get_jindu(s,ms):\n",
    "    r = re.search(ms,s).span()[0]\n",
    "    print (\"%s/%s! \\n 已经标注了百分之%f  \"%(r,len(s),float(r)/len(s)*100))"
   ]
  },
  {
   "cell_type": "code",
   "execution_count": 60,
   "metadata": {},
   "outputs": [
    {
     "name": "stdout",
     "output_type": "stream",
     "text": [
      "2074/468227! \n",
      " 已经标注了百分之0.442948  \n"
     ]
    }
   ],
   "source": [
    "get_jindu(s,'端州人')"
   ]
  },
  {
   "cell_type": "code",
   "execution_count": 61,
   "metadata": {},
   "outputs": [
    {
     "name": "stdout",
     "output_type": "stream",
     "text": [
      "27112/468227! \n",
      " 已经标注了百分之5.790354  \n"
     ]
    }
   ],
   "source": [
    "get_jindu(s,'惠城区小金口')"
   ]
  },
  {
   "cell_type": "code",
   "execution_count": 62,
   "metadata": {},
   "outputs": [
    {
     "name": "stdout",
     "output_type": "stream",
     "text": [
      "52536/468227! \n",
      " 已经标注了百分之11.220199  \n"
     ]
    }
   ],
   "source": [
    "get_jindu(s,'宿迁之声')"
   ]
  },
  {
   "cell_type": "code",
   "execution_count": 64,
   "metadata": {},
   "outputs": [],
   "source": [
    "fs = open('./Alltext.txt.ann')"
   ]
  },
  {
   "cell_type": "code",
   "execution_count": 65,
   "metadata": {},
   "outputs": [],
   "source": [
    "asf = fs.read()"
   ]
  },
  {
   "cell_type": "code",
   "execution_count": 66,
   "metadata": {},
   "outputs": [
    {
     "data": {
      "text/plain": [
       "57315"
      ]
     },
     "execution_count": 66,
     "metadata": {},
     "output_type": "execute_result"
    }
   ],
   "source": [
    "len(asf)"
   ]
  }
 ],
 "metadata": {
  "kernelspec": {
   "display_name": "Python 3",
   "language": "python",
   "name": "python3"
  },
  "language_info": {
   "codemirror_mode": {
    "name": "ipython",
    "version": 3
   },
   "file_extension": ".py",
   "mimetype": "text/x-python",
   "name": "python",
   "nbconvert_exporter": "python",
   "pygments_lexer": "ipython3",
   "version": "3.7.6"
  }
 },
 "nbformat": 4,
 "nbformat_minor": 4
}
