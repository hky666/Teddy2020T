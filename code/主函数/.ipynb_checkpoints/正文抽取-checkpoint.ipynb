{
 "cells": [
  {
   "cell_type": "markdown",
   "metadata": {},
   "source": [
    "# 包"
   ]
  },
  {
   "cell_type": "code",
   "execution_count": 364,
   "metadata": {},
   "outputs": [],
   "source": [
    "import requests\n",
    "from bs4 import BeautifulSoup\n",
    "import re\n",
    "import matplotlib.pyplot as plt\n",
    "import numpy as np\n",
    "import matplotlib as mpl\n",
    "mpl.rcParams[\"font.sans-serif\"]=[\"SimHei\"]\n",
    "mpl.rcParams[\"axes.unicode_minus\"]=False\n",
    "from selenium import webdriver\n",
    "from  time import sleep\n",
    "import pandas as pd\n",
    "import json\n",
    "from  random import random\n",
    "import re\n",
    "from lxml import etree\n",
    "from gne import GeneralNewsExtractor\n",
    "token = '63ce8433d23e1f4d8cbd8bf14390fcc7'"
   ]
  },
  {
   "cell_type": "markdown",
   "metadata": {},
   "source": [
    "# 导入数据"
   ]
  },
  {
   "cell_type": "code",
   "execution_count": 2,
   "metadata": {},
   "outputs": [],
   "source": [
    "good_url = pd.read_csv('../good_url.csv')"
   ]
  },
  {
   "cell_type": "code",
   "execution_count": 3,
   "metadata": {},
   "outputs": [],
   "source": [
    "del good_url['Unnamed: 0']"
   ]
  },
  {
   "cell_type": "code",
   "execution_count": 4,
   "metadata": {},
   "outputs": [],
   "source": [
    "good_url.rename(columns={'0':'url'},inplace=True) "
   ]
  },
  {
   "cell_type": "code",
   "execution_count": 543,
   "metadata": {},
   "outputs": [],
   "source": [
    "driver = webdriver.Chrome()\n",
    "driver.get('https://weibo.com')\n",
    "\n",
    "driver.implicitly_wait(20) # 操作、获取元素时的隐式等待时间\n",
    "driver.set_page_load_timeout(20) # 页面加载超时等待时间"
   ]
  },
  {
   "cell_type": "code",
   "execution_count": 363,
   "metadata": {},
   "outputs": [],
   "source": [
    "extractor = GeneralNewsExtractor()"
   ]
  },
  {
   "cell_type": "markdown",
   "metadata": {},
   "source": [
    "# 基于规则"
   ]
  },
  {
   "cell_type": "code",
   "execution_count": 1,
   "metadata": {},
   "outputs": [],
   "source": [
    "# weixin,weibo,toutiao,baijiahao,nanfangdushibao"
   ]
  },
  {
   "cell_type": "code",
   "execution_count": null,
   "metadata": {},
   "outputs": [],
   "source": [
    "# rule = {\n",
    "#     'mp.weixin.qq.com':['//*[@id=\"js_name\"]','//*[@id=\"js_content\"]']\n",
    "# }"
   ]
  },
  {
   "cell_type": "code",
   "execution_count": 16,
   "metadata": {},
   "outputs": [
    {
     "data": {
      "text/plain": [
       "'https://mp.weixin.qq.com/s/HTsNM1zxEAx3IqoF1uYnYA'"
      ]
     },
     "execution_count": 16,
     "metadata": {},
     "output_type": "execute_result"
    }
   ],
   "source": [
    "good_url['url'][0]"
   ]
  },
  {
   "cell_type": "code",
   "execution_count": null,
   "metadata": {},
   "outputs": [],
   "source": [
    "# def get_resource_content(url,driver,rule):\n",
    "#     ''' \n",
    "#         input:url,driver,rule  \n",
    "#         output:GETHTML\n",
    "#     '''\n",
    "# #     site = re.search(r'(https*://)(.+?)(/)',url).group(2)\n",
    "# #     html =  ''\n",
    "#     # 用引擎\n",
    "#     driver.get(url)\n",
    "#     sleep(0.2)\n",
    "#     try:\n",
    "#         html =  driver.page_source\n",
    "#     except Expection as e:\n",
    "#         return '',''\n",
    "#     soup = etree.HTML(html)\n",
    "#     soup.xpath\n",
    "#     if site in rule:\n",
    "#         # 基于规则xpath\n",
    "#         xr,xc = rule[site]\n",
    "        \n",
    "#     else:\n",
    "#         # 基于启发信息\n",
    "    \n",
    "#     return html"
   ]
  },
  {
   "cell_type": "code",
   "execution_count": 15,
   "metadata": {},
   "outputs": [],
   "source": [
    "url = good_url['url'][0]\n",
    "site = re.search(r'(https*://)(.+?)(/)',url).group(2)\n",
    "# 用引擎\n",
    "driver.get(url)\n",
    "# sleep(0.2)\n",
    "# try:\n",
    "html =  driver.page_source\n",
    "# except Expection as e:\n",
    "#     return '',''\n",
    "soup = etree.HTML(html)\n",
    "name = soup.xpath('//*[@id=\"js_name\"]')\n",
    "content = soup.xpath('//*[@id=\"js_content\"]')\n",
    "\n",
    "# if site in rule:\n",
    "#     # 基于规则xpath\n",
    "#     xr,xc = rule[site]\n",
    "\n",
    "# else:\n",
    "#     # 基于启发信息"
   ]
  },
  {
   "cell_type": "code",
   "execution_count": 12,
   "metadata": {},
   "outputs": [
    {
     "data": {
      "text/plain": [
       "'\\n                        健康肇庆                      '"
      ]
     },
     "execution_count": 12,
     "metadata": {},
     "output_type": "execute_result"
    }
   ],
   "source": [
    "name[0].text"
   ]
  },
  {
   "cell_type": "code",
   "execution_count": 13,
   "metadata": {},
   "outputs": [],
   "source": [
    "res = re.sub(r'[^\\u4e00-\\u9fa5]','',name[0].text)"
   ]
  },
  {
   "cell_type": "code",
   "execution_count": 14,
   "metadata": {},
   "outputs": [
    {
     "data": {
      "text/plain": [
       "'健康肇庆'"
      ]
     },
     "execution_count": 14,
     "metadata": {},
     "output_type": "execute_result"
    }
   ],
   "source": [
    "res"
   ]
  },
  {
   "cell_type": "code",
   "execution_count": 27,
   "metadata": {},
   "outputs": [],
   "source": [
    "content[0][1].text"
   ]
  },
  {
   "cell_type": "code",
   "execution_count": 30,
   "metadata": {},
   "outputs": [],
   "source": [
    "soup = BeautifulSoup(html, 'html.parser')"
   ]
  },
  {
   "cell_type": "code",
   "execution_count": 37,
   "metadata": {},
   "outputs": [],
   "source": [
    "slec = soup.select('#js_content')"
   ]
  },
  {
   "cell_type": "code",
   "execution_count": 42,
   "metadata": {},
   "outputs": [
    {
     "data": {
      "text/plain": [
       "'\\n最新消息2月14日上午，省卫健委公布2月13日0－24时肇庆市新增1例新冠肺炎确诊病例。截至2月13日24时，肇庆市累计报告新冠肺炎确诊病例17例。13日0-24时全市新增确诊病例1例，分布在封开县。累计报告的17例确诊病例中，端州区5例，鼎湖区2例、高要区3例、四会市1例、广宁县1例、封开县5例。其中男性10例，女性7例，年龄介于3岁到65岁之间。截至2020年2月13日24时，在院的9例确诊病例中，普通型4例，轻型4例，重型1例。死亡1例。无医务人员感染。在院的9例病例，有1例病例病情加重，其余确诊病例病情稳定。全市共追踪到507名密切接触者，正接受集中医学观察277人，累计230人解除医学观察。17例确诊病例感染原因为湖北输入病例6例、旅游输入病例4例、由旅游输入引起的家庭病例3例、有武汉返肇人员接触史4例。目前，累计已有7例确诊病例治愈出院。\\xa0肇庆市新增一例确诊病例情况如下：11病例17何某（女、65岁、封开人），现住封开县江口镇河堤二路22号。近期无湖北省居住、旅游史，感染原因是与新型冠状病毒感染肺炎病例有接触。1月19日下午3：00与何某、吴某（病例16、15）等人一起在封开县曲艺社排练。1月23日到何某（病例16）家中（水上居民安置楼），1月24日、1月31日、2月7日分别送丈夫到封开县人民医院进行透析治疗， 2月7日上午9时到好又多超市买菜。其余时间在家照顾丈夫。2月9日采集咽拭子送市疾控中心核酸检测为阴性，2月12日采集咽拭子送市疾控中心检测。2月12日下午到封开县人民医院进行胸部CT筛查，结果显示双肺多发磨玻璃影，胸膜下明显，考虑是病毒性肺炎，13日核酸检测报告为阳性，送至肇庆市第一人民医院隔离治疗，病人病情稳定。目前已对密切接触者集中隔离医学观察。新增确诊病例涉及的小区或场所封开县江口镇河堤二路22号、江口镇蝴蝶塘路封开县曲艺社、好又多超市、水上居民安置楼此前确诊病例情况如下:病例16何某（女、62岁、封开人），常住封开县江口镇水上居民安置楼。近期无武汉居住旅游史，是新冠肺炎确诊病例吴某（病例15）的密切接触者。平时主要娱乐活动是到江口镇星辉曲艺社江口社区唱粤曲，2020年1月20日，与吴某（病例15）及其工友在宾悦酒店2楼聚餐及唱歌。22日由封开曲艺社组织前往平凤镇新围村参加敬老演出活动，演出活动后出现流涕、咳嗽、咳痰症状，无发热（未测体温），自行服用药物治疗，未到医院就诊。23日开始自己居家隔离，期间无外出，直至2月10日凌晨到封开县江口镇杏花宾馆集中隔离观察。2月10日上午患者咳嗽较前加重，出现发热，胸部CT检查结果显示双肺多发磨玻璃影，胸膜下明显，考虑是病毒性肺炎，当晚送肇庆市第一人民医院隔离治疗。2月11日患者新型冠状病毒核酸检测阳性。目前病人经治疗后，有发热、咳嗽、咳痰症状，病情稳定。\\xa0病例15吴某（男、56岁、封开人），常住封开县江口镇东方二路115号。1月19日下午病例与苏某（病例14）在江口镇曲艺社一起参加粤剧排练。晚上与朋友到苏某（病例14）的店铺喝茶。20日晚与工友在江口镇宾悦酒店二楼聚餐。21－23日期间在封开县江口镇东方二路115号家中休息，曾到井根农贸市场购物。24日、26日晚上到江口镇东堤路25号亲戚家中参加家庭聚餐。1月27、29日及2月1日到杏花宾馆宿舍其朋友家中聚餐、打麻将。28日晚上再次到苏某（病例14）店铺喝茶。无武汉居住旅游史。2月3日出现咽痒不适，偶发性咳嗽，伴有低热。2月6日胸部CT检查结果显示右肺上叶炎症。2月8日送肇庆市一医院隔离治疗，采集咽拭子进行新型冠状病毒核酸检测，肇庆市一医院和肇庆市疾控中心报告均为阴性。2月9日肇庆市一医院取下呼吸道分泌物检测新型冠状病毒核酸初筛阳性，送肇庆市疾控中心复核，结果阳性。目前病人经治疗后，偶有咳嗽、咳痰，无畏寒、发热，病情稳定。\\xa0病例14苏某（男、55岁、封开人），在封开县江口镇经营乐惠士多店，常在店内聚众打牌。平常活动点为乐惠士多店和曙光路31号家中，1月24日晚到封开县广信嘉园朋友家中聚餐，1月28日晚到封开县唐八叔清补羊火锅店聚餐。有武汉返粤人员接触史，无其它外出旅游史。2月2日出现发热、轻微气喘等症状， 2月5日采集患者咽拭子及血清标本检测，2月6日检测结果显示阳性，确诊为新冠肺炎病例。患者属重症病例，有多年糖尿病史，因病情恶化，经抢救无效，于2月6日18时15分死亡。\\xa0病例13莫某（男、24岁、封开人），长期在湖北省黄冈市做生意。1月22日，乘坐19时06分T95班次火车（04车厢）从武汉返回到广州。1月23日，在广州滘口汽车站乘坐8时30分班次客车返回到封开县杏花镇新和村家中。2月1日，进行咽拭子检测，2月4日，省疾控中心新型冠状病毒核酸检测复核结果阳性。2月4日，在肇庆市第一人民医院进行肺部CT检查，显示肺部炎症，2月5日上午出现发热等临床症状，确诊为新冠肺炎患者。目前，正在定点医院规范治疗，病人病情稳定，生命体征良好。\\xa0病例12病例7江某的大儿子梁某（男、10岁、端州人），1月19日与父母梁某、江某（病例7、病例8）一起到广州南沙乘坐邮轮到越南旅游，1月24日与父母从广州南沙码头下船，自驾车返回端州，2月1日江某确诊为新冠肺炎患者，2月5日江某的大儿子出现发热等临床症状，2月5日确诊为新冠肺炎患者。目前正在定点医院规范治疗，病人病情稳定，生命体征良好。\\xa0病例11病例7江某的小儿子梁某（男、3岁、端州人），2月1日江某确诊为新冠肺炎患者，江某的小儿子为确诊病例密切接触者，2月4日江某的小儿子出现发热等临床症状，2月4日确诊为新冠肺炎患者。目前正在定点医院规范治疗，病人病情稳定，生命体征良好。经治疗，2020年2月11日已出院。\\xa0病例10病例7江某的婆婆钟某（女、62岁、鼎湖人），2月1日江某确诊为新冠肺炎患者，钟某为确诊病例密切接触者，2月2日江某的婆婆进行肺部CT检查，显示肺部炎症。2月3日江某的婆婆确诊为新冠肺炎患者。目前正在定点医院规范治疗，病人病情稳定，生命体征良好。\\xa0病例9病例7江某的公公梁某（男、64岁、鼎湖人），2月1日江某确诊为新冠肺炎患者，梁某为确诊病例密切接触者，2月2日梁某进行肺部CT检查，显示肺部炎症。2月3日梁某确诊为新冠肺炎患者。目前病人属重症病例，正在定点医院规范治疗。\\xa0病例8病例7江某的丈夫梁某（男、35岁、端州人）。1月19日与妻子、大儿子一起，自驾车到广州南沙乘坐邮轮到越南旅游，1月24日与家人从广州南沙码头下船，自驾车返回端州，1月25日梁某出现发热症状，1月31日晚上到肇庆市第一人民医院发热门诊就医。2月3日梁某确诊为新冠肺炎患者。目前正在定点医院规范治疗，病人病情稳定，生命体征良好。\\xa0病例7江某（女、33岁、端州人），近半年在端州区居住工作，无明显疫情发生地接触史，1月19日与丈夫、大儿子一起，自驾车到广州南沙乘坐邮轮到越南旅游，1月24日与家人从广州南沙码头下船，自驾车返回端州，江某1月25日出现发热症状，1月29日到高要区人民医院就医，1月31日到肇庆市第一人民医院发热门诊就医。2月1日江某确诊为新冠肺炎患者。目前正在定点医院规范治疗，病人病情稳定，生命体征良好。经治疗，2020年2月11日已出院。病例7、病例8、病例9、病例10、病例11、病例12属于新冠肺炎家庭聚集性病例。病例6谭某（男、26岁、武汉人），在武汉居住工作，1月22日自驾车离开武汉，1月23日到广宁旅游，1月23日到当地医院检查，结果显示未见异常，1月24日开始进行为期14天集中隔离的医学观察，1月28日出现头痛、腹泻症状，1月29日住院隔离治疗，1月30日确诊。目前，正在定点医院规范治疗，病人病情稳定，生命体征良好。\\xa0病例5郭某（女、27岁、高要人），近半年在武汉居住工作，1月22日自驾车离开武汉回肇，1月23日到肇后无不适症状并纳入医学观察，1月25日出现发热症状，1月26日住院隔离治疗，1月28日确诊。目前，正在定点医院规范治疗，病人病情稳定，生命体征良好。经治疗，2020年2月10日已出院。\\xa0病例4李某（女、43岁、高要人），近半年在高要居住工作，无明显疫情发生地接触史，1月9日参加自组团到泰国旅游，乘坐泰国亚航FD537航班从广州白云机场抵达廊曼机场，1月13日出现“感冒、乏力”症状，1月14日乘坐泰国亚航FD530航班抵达广州白云机场，1月17日入院就诊，1月25日确诊。目前，正在定点医院规范治疗，病人病情稳定，生命体征良好。经治疗，2020年2月11日已出院。\\xa0病例3廖某（男、26岁、高要人），近半年在武汉居住工作，1月19日从武汉乘坐飞机到广州白云机场，随后由同事接载回端州，1月21日出现发热症状并入院就诊，1月25日确诊。经治疗，2020年2月8日已出院。\\xa0病例2林某（男、37岁、端州人），近半年在武汉居住工作，1月22日乘坐武广高铁G95班次列车回到广州南，在广州南站客运站乘坐前往端州的大巴，再乘坐滴滴车回端州。在武汉归家途中开始发热，但自己除乏力外无感觉到其他不适，在进家门前妻子发现其体温异常，其妻子自驾车送患者到医院就诊，1月24日确诊。经治疗，2020年2月8日已出院。\\xa0病例1黎某（女、25岁、四会人），近半年在武汉居住工作。1月11日出现鼻塞、流涕、间歇性咳嗽等症状，1月13日和16日在武汉医院就诊，1月17日乘坐G1015次列车（座位号3车厢）回广州南站，在广州南站客运站乘坐前往四会的大巴，再乘坐滴滴车回四会，1月18日入院就诊，1月22日确诊。经治疗，2020年1月31日已出院。全市累计确诊病例涉及的小区或场所1端州区：睦岗街道锦绣山河小区、城东街道帝和豪庭小区鼎湖区：坑口街道一米阳光小区高要区：南岸街道珀丽湾小区、南岸街道帝景蓝湾小区、大湾镇禄岸村四会市：东城街道九龙湾小区广宁县：南街镇碧翠湖度假村封开县：封开县杏花镇新和村、江口镇乐惠士多店、江口镇曙光路31号、封开县广信嘉园、封开县唐八叔清补羊火锅店、封开县江口镇东方二路115号、江口镇宾悦酒店、井根农贸市场、江口镇东堤路25号、杏花宾馆宿舍、封开县江口镇水上居民安置楼、江口镇星辉曲艺社江口社区、平凤镇新围村、封开县江口镇河堤二路22号、江口镇蝴蝶塘路封开县曲艺社、好又多超市。肇庆市17例确诊病例涉及6个县（市、区）24个小区或场所，发现确诊病例后，市、县两级疾控部门已立即对所涉及的小区或场所进行了严格的终末消毒，督促指导社区和物业做好日常预防性消毒工作。与病例有关的密切接触者已送指定场所进行集中隔离医学观察。希望大家做好个人防护。1相关链接：☛@肇庆市民，轻微发热不用跑医院！这里可免费咨询专家；☛一图读懂新型冠状病毒传播途径与预防指南！编辑 健康肇庆编辑部热点回顾\\xa0◢\\xa0今天，肇庆3例确诊患者治愈出院！包括一名3岁儿童◢\\xa0今天，肇庆第二批驰援湖北医疗队出征！请平安归来点个“在看”让更多人知道！\\n'"
      ]
     },
     "execution_count": 42,
     "metadata": {},
     "output_type": "execute_result"
    }
   ],
   "source": [
    "slec[0].get_text()"
   ]
  },
  {
   "cell_type": "code",
   "execution_count": 39,
   "metadata": {},
   "outputs": [
    {
     "data": {
      "text/plain": [
       "<div class=\"rich_media_content\" id=\"js_content\" style=\"visibility: visible;\">\n",
       "<section data-label=\"powered by xmt.cn\" data-tools=\"新媒体管家\" style=\"display: none;\"><br/></section><p style=\"max-width: 100%;min-height: 1em;letter-spacing: 0.544px;white-space: normal;background-color: rgb(255, 255, 255);font-size: 16px;font-family: -apple-system-font, BlinkMacSystemFont, Arial, sans-serif;box-sizing: border-box !important;word-wrap: break-word !important;\"><img _width=\"677px\" class=\"__bg_gif\" data-ratio=\"0.2453125\" data-s=\"300,640\" data-src=\"https://mmbiz.qpic.cn/mmbiz_gif/z2KVp01hujF4z1BMroH6YSCLAicKuW2Wg1wRDico366vTveFPaan5NaZgAiaibNnauWjq37z3X8Bl6BBTOdic31r7yA/640?wx_fmt=gif\" data-type=\"gif\" data-w=\"640\" style=\"letter-spacing: 0.544px;text-align: center;font-size: 18px;box-sizing: border-box !important;word-wrap: break-word !important;visibility: visible !important;width: 677px !important;height: auto !important;\"/><br/></p><p style=\"max-width: 100%;min-height: 1em;letter-spacing: 0.544px;white-space: normal;background-color: rgb(255, 255, 255);font-size: 16px;font-family: -apple-system-font, BlinkMacSystemFont, Arial, sans-serif;box-sizing: border-box !important;word-wrap: break-word !important;\"><img _width=\"677px\" class=\"rich_pages\" data-ratio=\"0.15375\" data-s=\"300,640\" data-src=\"https://mmbiz.qpic.cn/mmbiz_jpg/z2KVp01hujFYO4sn1fXHCFHZ5FRxN1Tx252twLrEZRQAyJrlic18b4Cy8b1sIkeKQgJw3BgrqCNpRT8rwpI78sQ/640?wx_fmt=jpeg\" data-type=\"jpeg\" data-w=\"800\" style=\"text-align: center;box-sizing: border-box !important;word-wrap: break-word !important;visibility: visible !important;width: 677px !important;height: auto !important;\"/></p><section data-style-id=\"25870\" data-support=\"96编辑器\"><section><section><section><section data-width=\"20%\"><section><section data-color=\"rgb(216, 40, 33)\" data-style-id=\"25073\" data-support=\"96编辑器\"><section style=\"margin-top: 10px;margin-bottom: 10px;margin-left: 5px;\"><section><section style=\"margin-left: 10px;border-style: solid;border-width: 1px;border-color: #000000;border-radius: 50%;padding: 3px 8px;display: inline-block;background-color: #fefefe;\"><p style=\"letter-spacing: 2px;\"><strong><span style=\"color: rgb(217, 33, 66);\">最</span></strong></p></section><section style=\"margin-left: -5px;border-style: solid;border-width: 1px;border-color: #000000;border-radius: 50%;padding: 3px 8px;display: inline-block;background-color: #fefefe;\"><p style=\"letter-spacing: 2px;\"><strong><span style=\"color: rgb(217, 33, 66);\">新</span></strong></p></section><section style=\"margin-left: -5px;border-style: solid;border-width: 1px;border-color: #000000;border-radius: 50%;padding: 3px 8px;display: inline-block;background-color: #fefefe;\"><p style=\"letter-spacing: 2px;\"><strong><span style=\"color: rgb(217, 33, 66);\">消</span></strong></p></section><section style=\"margin-left: -5px;border-style: solid;border-width: 1px;border-color: #000000;border-radius: 50%;padding: 3px 8px;display: inline-block;background-color: #fefefe;\"><p style=\"letter-spacing: 2px;\"><strong><span style=\"color: rgb(217, 33, 66);\">息</span></strong></p></section></section><section style=\"margin-top: -10px;border-style: solid;border-width: 1px;border-color: #000000;background-color: #d82821;border-radius: 8px;color: #ffffff;\"><section style=\"margin: -5px 5px 5px -5px;border-style: solid;border-width: 1px;border-color: #000000;background-color: #fefefe;padding: 18px 15px 15px;border-radius: 8px;\"><p><span style=\"color: rgb(0, 0, 0);font-size: 15px;\">2月14日上午，省卫健委公布2月13日0－24时肇庆市新增1例新冠肺炎确诊病例。截至2月13日24时，肇庆市累计报告新冠肺炎确诊病例17例。</span><span style=\"color: rgb(0, 0, 0);font-size: 15px;\">13日0-24时全市新增确诊病例1例，分布在封开县。</span></p><p><br/></p><p><span style=\"color: rgb(0, 0, 0);font-size: 15px;\">累计报告的17例确诊病例中，端州区5例，鼎湖区2例、高要区3例、四会市1例、广宁县1例、封开县5例。其</span><span style=\"color: rgb(0, 0, 0);font-size: 15px;\">中男性10例，女性7例，年龄介于3岁到65岁之间。</span><br/></p><p><span style=\"color: rgb(0, 0, 0);font-size: 15px;\"></span></p><p><span style=\"color: rgb(0, 0, 0);font-size: 15px;\"><br/></span></p><p><span style=\"color: rgb(0, 0, 0);font-size: 15px;\">截至2020年2月13日24时，在院的9例确诊病例中，普通型4例，轻型4例，重型1例。死亡1例。无医务人员感染。</span></p><p><span style=\"color: rgb(0, 0, 0);font-size: 15px;\"><br/></span></p><p><span style=\"color: rgb(0, 0, 0);font-size: 15px;\">在院的9例病例，有1例病例病情加重，其余确诊病例病情稳定。全市共追踪到507名密切接触者，正接受集中医学观察277人，累计230人解除医学观察。</span></p><p><span style=\"color: rgb(0, 0, 0);font-size: 15px;\"><br/></span></p><p><span style=\"color: rgb(0, 0, 0);font-size: 15px;\">17例确诊病例感染原因为湖北输入病例6例、旅游输入病例4例、由旅游输入引起的家庭病例3例、有武汉返肇人员接触史4例。目前，累计已有7例确诊病例治愈出院。 </span></p></section></section></section></section><p><br/></p><section data-color=\"rgb(216, 40, 33)\" data-style-id=\"24908\" data-support=\"96编辑器\"><section style=\"text-align: center;margin-top: 10px;margin-bottom: 10px;\"><section style=\"display:inline-block;\"><section style=\"border-style: solid;border-width: 1px;border-color: #d82821;display: inline-block;background-color: #d82821;padding-bottom: 5px;border-radius: 8px;color: #ffffff;\"><section style=\"background-color:#fefefe;padding:2px 15px;border-radius:8px;\"><p style=\"letter-spacing: 2px;\"><strong><span style=\"font-size: 15px;color: rgb(0, 0, 0);\">肇庆市新增一例确诊病例情况如下：</span></strong></p></section></section><section style=\"height: 0px;transform: rotateZ(0deg);margin-top: -2px;margin-left: 15px;border-left: 12px solid rgb(216, 40, 33);width: 0px;border-bottom: 12px solid transparent !important;\"><br/></section><section style=\"height: 0px;margin-top: -11px;margin-left: 14px;border-left: 13px solid rgb(216, 40, 33);width: 0px;border-bottom: 13px solid transparent !important;\"><br/></section></section></section></section><section data-style-id=\"23010\" data-support=\"96编辑器\"><section><section><section><section data-style-id=\"24493\" data-support=\"96编辑器\"><p style=\"font-size: 0px;color: rgba(255, 255, 255, 0);\">1</p><section><section><section><section><section data-style-id=\"24493\" data-support=\"96编辑器\"><p style=\"font-size: 0px;color: rgba(255, 255, 255, 0);\">1</p><section style=\"margin-top: 10px;margin-bottom: 10px;\"><section style=\"margin-top: 10px;margin-bottom: 10px;box-sizing: border-box;\"><section style=\"padding-right: 6px;padding-bottom: 8px;box-sizing: border-box;\"><section style=\"border-width: 1px;border-style: solid;border-color: #c0c8d1;box-sizing: border-box;\"><section data-width=\"100%\" style=\"height: 8px;width: 100%;border-left: 1px solid rgb(192, 200, 209);transform-origin: left top 0px;margin-bottom: 5px;border-top-color: rgb(192, 200, 209);border-right-color: rgb(192, 200, 209);border-bottom-color: rgb(192, 200, 209);box-sizing: border-box;transform: rotate(-45deg);\"><br/></section><section style=\"background-color: #feffff;margin: -8px -7px -8px 5px;border-width: 1px;border-style: solid;border-color: #c0c8d1;padding: 10px;box-sizing: border-box;\"><section style=\"box-sizing: border-box;\"><section style=\"text-align: center;box-sizing: border-box;\"><section data-width=\"100%\" style=\"white-space: normal;text-align: left;\"><strong><span style=\"font-size: 15px;background-color: rgb(255, 76, 0);color: rgb(255, 255, 255);\">病例17</span></strong><br/></section><section style=\"white-space: normal;\"><section><section><p style=\"text-align: left;\"><span style=\"font-size: 15px;\">何某（女、65岁、封开人），现住封开县江口镇河堤二路22号。</span><span style=\"font-size: 15px;\">近期无湖北省居住、旅游史，感染原因是与新型冠状病毒感染肺炎病例有接触。</span><span style=\"font-size: 15px;\">1月19日下午3：</span><span style=\"font-size: 15px;\">00与何某、吴某（病例16、15）等人一起在封开县曲艺社排练。</span><span style=\"font-size: 15px;\">1月23日到何某（病例16）家中（水上居民安置楼），1月24日、1月31日、2月7日分别送丈夫到封开县人民医院进行透析治疗， 2月7日上午9时到好又多超市买菜。</span><span style=\"font-size: 15px;\">其余时间在家照顾丈夫。</span><span style=\"font-size: 15px;\">2月9日采集咽拭子送市疾控中心核酸检测为阴性，2月12日采集咽拭子送市疾控中心检测。</span><span style=\"font-size: 15px;\">2月12日下午到封开县人民医院进行胸部CT筛查，结果显示双肺多发磨玻璃影，胸膜下明显，考虑是病毒性肺炎，13日核酸检测报告为阳性，送至肇庆市第一人民医院隔离治疗，病人病情稳定。</span><span style=\"font-size: 15px;\">目前已对密切接触者集中隔离医学观察。</span></p></section></section></section></section></section></section></section></section></section></section></section></section></section></section></section></section><section data-color=\"rgb(239, 112, 96)\" data-style-id=\"24651\" data-support=\"96编辑器\"><section><section><section><section data-color=\"rgb(239, 112, 96)\" data-style-id=\"24651\" data-support=\"96编辑器\"><section style=\"margin-top: 20px;margin-bottom: 20px;\"><section style=\"text-align: left;margin-bottom: -44px;\"><section style=\"display: inline-block;\"><section style=\"height: 0px;width: 0px;border-top: 6px solid transparent;border-right: 10px solid rgb(239, 112, 96);border-bottom: 0px solid transparent;z-index: 999;\"><br/></section><section style=\"margin-top:-1px;display: flex;justify-content:center;align-items: center;\"><section style=\"display: inline-block;background: rgb(239, 112, 96);color: rgb(255, 255, 255);padding: 4px 10px 4px 14px;\"><span style=\"font-size: 15px;\">新增确诊病例涉及的小区或场所</span></section><section style=\"height: 0px;width: 0px;border-top: 35px solid transparent;border-left: 10px solid rgb(239, 112, 96);border-bottom: 0px solid transparent;z-index: 999;\"><br/></section></section></section></section><section data-width=\"94%\" style=\"width: 94%;margin-right: auto;margin-left: auto;\"><section style=\"box-shadow: #d5d5d5 0px 0px 6px 0px;\"><section><section style=\"font-size: 14px;letter-spacing: 1.5px;line-height: 1.75em;padding: 3.5em 1em 1em;\"><p><span style=\"font-size: 15px;\">封开县江口镇河堤二路22号、江口镇蝴蝶塘路封开县曲艺社、好又多超市、水上居民安置楼</span></p></section></section></section></section></section></section><section><section><section><section style=\"text-align: center;\"><br/></section></section></section></section></section></section></section></section></section></section></section></section><section data-color=\"#1e9be8\" data-custom=\"#1e9be8\" data-id=\"87733\"><section><section><section data-color=\"rgb(216, 40, 33)\" data-style-id=\"24908\" data-support=\"96编辑器\"><section style=\"text-align: center;margin-top: 10px;margin-bottom: 10px;\"><section style=\"display:inline-block;\"><section style=\"border-style: solid;border-width: 1px;border-color: #d82821;display: inline-block;background-color: #d82821;padding-bottom: 5px;border-radius: 8px;color: #ffffff;\"><section style=\"background-color:#fefefe;padding:2px 15px;border-radius:8px;\"><p style=\"letter-spacing: 2px;\"><span style=\"font-size: 15px;\"><strong><span style=\"color: rgb(0, 0, 0);\">此前确诊病例情况如下:</span></strong></span></p></section></section><section style=\"height: 0px;transform: rotateZ(0deg);margin-top: -2px;margin-left: 15px;border-left: 12px solid rgb(216, 40, 33);width: 0px;border-bottom: 12px solid transparent !important;\"><br/></section><section style=\"height: 0px;margin-top: -11px;margin-left: 14px;border-left: 13px solid rgb(216, 40, 33);width: 0px;border-bottom: 13px solid transparent !important;\"><br/></section></section></section></section></section></section></section><section data-style-id=\"24493\" data-support=\"96编辑器\"><section data-style-id=\"17212\" data-support=\"96编辑器\"><section><section><section><section><section><section><section><section><section><section><section><section><section><section><section data-role=\"paragraph\"><section><section><section><section data-style-id=\"17212\" data-support=\"96编辑器\"><section style=\"margin-top: 10px;margin-bottom: 10px;box-sizing: border-box;\"><section style=\"padding: 3px;background-color: #efefef;box-sizing: border-box;\"><section style=\"-ms-word-wrap: break-word !important;max-width: 100%;box-sizing: border-box !important;\"><section style=\"-ms-word-wrap: break-word !important;max-width: 100%;box-sizing: border-box !important;\"><section style=\"-ms-word-wrap: break-word !important;max-width: 100%;box-sizing: border-box !important;padding:8px 8px;box-sizing:border-box;\"><section style=\"margin-right: auto;margin-left: auto;padding: 1em;max-width: 100%;box-sizing: border-box;height: 10em;line-height: 1.5em;overflow: auto;word-wrap: break-word !important;\"><section style=\"letter-spacing: 1.2px;line-height: 25px;\"><p><strong style=\"letter-spacing: 1.2px;\"><span style=\"font-size: 15px;background-color: rgb(255, 76, 0);color: rgb(255, 255, 255);\">病例16</span></strong><br/></p><p><span style=\"color: rgb(0, 0, 0);font-size: 15px;\">何某（女、62岁、封开人），常住封开县江口镇水上居民安置楼。</span><span style=\"color: rgb(0, 0, 0);font-size: 15px;\">近期无武汉居住旅游史，是新冠肺炎确诊病例吴某（病例15）的密切接触者。</span><span style=\"color: rgb(0, 0, 0);font-size: 15px;\">平时主要娱乐活动是到江口镇星辉曲艺社江口社区唱粤曲，2020年1月20日，与吴某（病例15）及其工友在宾悦酒店2楼聚餐及唱歌。</span><span style=\"color: rgb(0, 0, 0);font-size: 15px;\">22日由封开曲艺社组织前往平凤镇新围村参加敬老演出活动，演出活动后出现流涕、咳嗽、咳痰症状，无发热（未测体温），自行服用药物治疗，未到医院就诊。</span><span style=\"color: rgb(0, 0, 0);font-size: 15px;\">23日开始自己居家隔离，期间无外出，直至2月10日凌晨到封开县江口镇杏花宾馆集中隔离观察。</span><span style=\"color: rgb(0, 0, 0);font-size: 15px;\">2月10日上午患者咳嗽较前加重，出现发热，胸部CT检查结果显示双肺多发磨玻璃影，胸膜下明显，考虑是病毒性肺炎，当晚送肇庆市第一人民医院隔离治疗。</span><span style=\"color: rgb(0, 0, 0);font-size: 15px;\">2月11日患者新型冠状病毒核酸检测阳性。</span><span style=\"color: rgb(0, 0, 0);font-size: 15px;\">目前病人经治疗后，有发热、咳嗽、咳痰症状，病情稳定。</span></p><p><span style=\"color: rgb(0, 0, 0);font-size: 15px;\"> </span></p><p><strong><span style=\"font-size: 15px;background-color: rgb(255, 76, 0);color: rgb(255, 255, 255);\">病例15</span></strong></p><p><span style=\"color: rgb(0, 0, 0);font-size: 15px;\">吴某（男、56岁、封开人），常住封开县江口镇东方二路115号。</span><span style=\"color: rgb(0, 0, 0);font-size: 15px;\">1月19日下午病例与苏某（病例14）在江口镇曲艺社一起参加粤剧排练。</span><span style=\"color: rgb(0, 0, 0);font-size: 15px;\">晚上与朋友到苏某（病例14）的店铺喝茶。</span><span style=\"color: rgb(0, 0, 0);font-size: 15px;\">20日晚与工友在江口镇宾悦酒店二楼聚餐。</span><span style=\"color: rgb(0, 0, 0);font-size: 15px;\">21－23日期间在封开县江口镇东方二路115号家中休息，曾到井根农贸市场购物。</span><span style=\"color: rgb(0, 0, 0);font-size: 15px;\">24日、26日晚上到江口镇东堤路25号亲戚家中参加家庭聚餐。</span><span style=\"color: rgb(0, 0, 0);font-size: 15px;\">1月27、29日及2月1日到杏花宾馆宿舍其朋友家中聚餐、打麻将。</span><span style=\"color: rgb(0, 0, 0);font-size: 15px;\">28日晚上再次到苏某（病例14）店铺喝茶。</span><span style=\"color: rgb(0, 0, 0);font-size: 15px;\">无武汉居住旅游史。</span><span style=\"color: rgb(0, 0, 0);font-size: 15px;\">2月3日出现咽痒不适，偶发性咳嗽，伴有低热。</span><span style=\"color: rgb(0, 0, 0);font-size: 15px;\">2月6日胸部CT检查结果显示右肺上叶炎症。</span><span style=\"color: rgb(0, 0, 0);font-size: 15px;\">2月8日送肇庆市一医院隔离治疗，采集咽拭子进行新型冠状病毒核酸检测，肇庆市一医院和肇庆市疾控中心报告均为阴性。</span><span style=\"color: rgb(0, 0, 0);font-size: 15px;\">2月9日肇庆市一医院取下呼吸道分泌物检测新型冠状病毒核酸初筛阳性，送肇庆市疾控中心复核，结果阳性。</span><span style=\"color: rgb(0, 0, 0);font-size: 15px;\">目前病人经治疗后，偶有咳嗽、咳痰，无畏寒、发热，病情稳定。</span></p><p><span style=\"color: rgb(0, 0, 0);font-size: 15px;\"> </span></p><p><strong><span style=\"font-size: 15px;background-color: rgb(255, 76, 0);color: rgb(255, 255, 255);\">病例14</span></strong></p><p><span style=\"color: rgb(0, 0, 0);font-size: 15px;\">苏某（男、55岁、封开人），在封开县江口镇经营乐惠士多店，常在店内聚众打牌。</span><span style=\"color: rgb(0, 0, 0);font-size: 15px;\">平常活动点为乐惠士多店和曙光路31号家中，1月24日晚到封开县广信嘉园朋友家中聚餐，1月28日晚到封开县唐八叔清补羊火锅店聚餐。</span><span style=\"color: rgb(0, 0, 0);font-size: 15px;\">有武汉返粤人员接触史，无其它外出旅游史。</span><span style=\"color: rgb(0, 0, 0);font-size: 15px;\">2月2日出现发热、轻微气喘等症状， 2月5日采集患者咽拭子及血清标本检测，2月6日检测结果显示阳性，确诊为新冠肺炎病例。</span><span style=\"color: rgb(0, 0, 0);font-size: 15px;\">患者属重症病例，有多年糖尿病史，因病情恶化，经抢救无效，于2月6日18时15分死亡。</span></p><p><span style=\"color: rgb(0, 0, 0);font-size: 15px;\"> </span></p><p><strong><span style=\"font-size: 15px;background-color: rgb(255, 76, 0);color: rgb(255, 255, 255);\">病例13</span></strong></p><p><span style=\"color: rgb(0, 0, 0);font-size: 15px;\">莫某（男、24岁、封开人），长期在湖北省黄冈市做生意。</span><span style=\"color: rgb(0, 0, 0);font-size: 15px;\">1月22日，乘坐19时06分T95班次火车（04车厢）从武汉返回到广州。</span><span style=\"color: rgb(0, 0, 0);font-size: 15px;\">1月23日，在广州滘口汽车站乘坐8时30分班次客车返回到封开县杏花镇新和村家中。</span><span style=\"color: rgb(0, 0, 0);font-size: 15px;\">2月1日，进行咽拭子检测，2月4日，省疾控中心新型冠状病毒核酸检测复核结果阳性。</span><span style=\"color: rgb(0, 0, 0);font-size: 15px;\">2月4日，在肇庆市第一人民医院进行肺部CT检查，显示肺部炎症，2月5日上午出现发热等临床症状，确诊为新冠肺炎患者。</span><span style=\"color: rgb(0, 0, 0);font-size: 15px;\">目前，正在定点医院规范治疗，病人病情稳定，生命体征良好。</span></p><p><span style=\"color: rgb(0, 0, 0);font-size: 15px;\"> </span></p><p><strong><span style=\"font-size: 15px;background-color: rgb(255, 76, 0);color: rgb(255, 255, 255);\">病例12</span></strong></p><p><span style=\"color: rgb(0, 0, 0);font-size: 15px;\">病例7江某的大儿子梁某（男、10岁、端州人），1月19日与父母梁某、江某（病例7、病例8）一起到广州南沙乘坐邮轮到越南旅游，1月24日与父母从广州南沙码头下船，自驾车返回端州，2月1日江某确诊为新冠肺炎患者，2月5日江某的大儿子出现发热等临床症状，2月5日确诊为新冠肺炎患者。</span><span style=\"color: rgb(0, 0, 0);font-size: 15px;\">目前正在定点医院规范治疗，病人病情稳定，生命体征良好。</span></p><p><span style=\"color: rgb(0, 0, 0);font-size: 15px;\"> </span></p><p><strong><span style=\"font-size: 15px;background-color: rgb(255, 76, 0);color: rgb(255, 255, 255);\">病例11</span></strong></p><p><span style=\"color: rgb(0, 0, 0);font-size: 15px;\">病例7江某的小儿子梁某（男、3岁、端州人），2月1日江某确诊为新冠肺炎患者，江某的小儿子为确诊病例密切接触者，2月4日江某的小儿子出现发热等临床症状，2月4日确诊为新冠肺炎患者。</span><span style=\"color: rgb(0, 0, 0);font-size: 15px;\">目前正在定点医院规范治疗，病人病情稳定，生命体征良好。</span><span style=\"color: rgb(0, 0, 0);font-size: 15px;\">经治疗，2020年2月11日已出院。</span></p><p><span style=\"color: rgb(0, 0, 0);font-size: 15px;\"> </span></p><p><strong><span style=\"font-size: 15px;background-color: rgb(255, 76, 0);color: rgb(255, 255, 255);\">病例10</span></strong></p><p><span style=\"color: rgb(0, 0, 0);font-size: 15px;\">病例7江某的婆婆钟某（女、62岁、鼎湖人），2月1日江某确诊为新冠肺炎患者，钟某为确诊病例密切接触者，2月2日江某的婆婆进行肺部CT检查，显示肺部炎症。</span><span style=\"color: rgb(0, 0, 0);font-size: 15px;\">2月3日江某的婆婆确诊为新冠肺炎患者。</span><span style=\"color: rgb(0, 0, 0);font-size: 15px;\">目前正在定点医院规范治疗，病人病情稳定，生命体征良好。</span></p><p><span style=\"color: rgb(0, 0, 0);font-size: 15px;\"> </span></p><p><strong><span style=\"font-size: 15px;background-color: rgb(255, 76, 0);color: rgb(255, 255, 255);\">病例9</span></strong></p><p><span style=\"color: rgb(0, 0, 0);font-size: 15px;\">病例7江某的公公梁某（男、64岁、鼎湖人），2月1日江某确诊为新冠肺炎患者，梁某为确诊病例密切接触者，2月2日梁某进行肺部CT检查，显示肺部炎症。</span><span style=\"color: rgb(0, 0, 0);font-size: 15px;\">2月3日梁某确诊为新冠肺炎患者。</span><span style=\"color: rgb(0, 0, 0);font-size: 15px;\">目前病人属重症病例，正在定点医院规范治疗。</span></p><p><span style=\"color: rgb(0, 0, 0);font-size: 15px;\"> </span></p><p><strong><span style=\"font-size: 15px;background-color: rgb(255, 76, 0);color: rgb(255, 255, 255);\">病例8</span></strong></p><p><span style=\"color: rgb(0, 0, 0);font-size: 15px;\">病例7江某的丈夫梁某（男、35岁、端州人）。</span><span style=\"color: rgb(0, 0, 0);font-size: 15px;\">1月19日与妻子、大儿子一起，自驾车到广州南沙乘坐邮轮到越南旅游，1月24日与家人从广州南沙码头下船，自驾车返回端州，1月25日梁某出现发热症状，1月31日晚上到肇庆市第一人民医院发热门诊就医。</span><span style=\"color: rgb(0, 0, 0);font-size: 15px;\">2月3日梁某确诊为新冠肺炎患者。</span><span style=\"color: rgb(0, 0, 0);font-size: 15px;\">目前正在定点医院规范治疗，病人病情稳定，生命体征良好。</span></p><p><span style=\"color: rgb(0, 0, 0);font-size: 15px;\"> </span></p><p><strong><span style=\"font-size: 15px;background-color: rgb(255, 76, 0);color: rgb(255, 255, 255);\">病例7</span></strong></p><p><span style=\"color: rgb(0, 0, 0);font-size: 15px;\">江某（女、33岁、端州人），近半年在端州区居住工作，无明显疫情发生地接触史，1月19日与丈夫、大儿子一起，自驾车到广州南沙乘坐邮轮到越南旅游，1月24日与家人从广州南沙码头下船，自驾车返回端州，江某1月25日出现发热症状，1月29日到高要区人民医院就医，1月31日到肇庆市第一人民医院发热门诊就医。</span><span style=\"color: rgb(0, 0, 0);font-size: 15px;\">2月1日江某确诊为新冠肺炎患者。</span><span style=\"color: rgb(0, 0, 0);font-size: 15px;\">目前正在定点医院规范治疗，病人病情稳定，生命体征良好。</span><span style=\"color: rgb(0, 0, 0);font-size: 15px;\">经治疗，2020年2月11日已出院。</span></p><p><span style=\"color: rgb(0, 0, 0);font-size: 15px;\">病例7、病例8、病例9、病例10、病例11、病例12属于新冠肺炎家庭聚集性病例。</span></p><p><span style=\"color: rgb(0, 0, 0);font-size: 15px;\"><br/></span></p><p><strong><span style=\"font-size: 15px;background-color: rgb(255, 76, 0);color: rgb(255, 255, 255);\">病例6</span></strong></p><p><span style=\"color: rgb(0, 0, 0);font-size: 15px;\">谭某（男、26岁、武汉人），在武汉居住工作，1月22日自驾车离开武汉，1月23日到广宁旅游，1月23日到当地医院检查，结果显示未见异常，1月24日开始进行为期14天集中隔离的医学观察，1月28日出现头痛、腹泻症状，1月29日住院隔离治疗，1月30日确诊。</span><span style=\"color: rgb(0, 0, 0);font-size: 15px;\">目前，正在定点医院规范治疗，病人病情稳定，生命体征良好。</span></p><p><span style=\"color: rgb(0, 0, 0);font-size: 15px;\"> </span></p><p><strong><span style=\"font-size: 15px;background-color: rgb(255, 76, 0);color: rgb(255, 255, 255);\">病例5</span></strong></p><p><span style=\"color: rgb(0, 0, 0);font-size: 15px;\">郭某（女、27岁、高要人），近半年在武汉居住工作，1月22日自驾车离开武汉回肇，1月23日到肇后无不适症状并纳入医学观察，1月25日出现发热症状，1月26日住院隔离治疗，1月28日确诊。</span><span style=\"color: rgb(0, 0, 0);font-size: 15px;\">目前，正在定点医院规范治疗，病人病情稳定，生命体征良好。</span><span style=\"color: rgb(0, 0, 0);font-size: 15px;\">经治疗，2020年2月10日已出院。</span></p><p><span style=\"color: rgb(0, 0, 0);font-size: 15px;\"> </span></p><p><strong><span style=\"font-size: 15px;background-color: rgb(255, 76, 0);color: rgb(255, 255, 255);\">病例4</span></strong></p><p><span style=\"color: rgb(0, 0, 0);font-size: 15px;\">李某（女、43岁、高要人），近半年在高要居住工作，无明显疫情发生地接触史，1月9日参加自组团到泰国旅游，乘坐泰国亚航FD537航班从广州白云机场抵达廊曼机场，1月13日出现“感冒、乏力”症状，1月14日乘坐泰国亚航FD530航班抵达广州白云机场，1月17日入院就诊，1月25日确诊。</span><span style=\"color: rgb(0, 0, 0);font-size: 15px;\">目前，正在定点医院规范治疗，病人病情稳定，生命体征良好。</span><span style=\"color: rgb(0, 0, 0);font-size: 15px;\">经治疗，2020年2月11日已出院。</span></p><p><span style=\"color: rgb(0, 0, 0);font-size: 15px;\"> </span></p><p><strong><span style=\"font-size: 15px;background-color: rgb(255, 76, 0);color: rgb(255, 255, 255);\">病例3</span></strong></p><p><span style=\"color: rgb(0, 0, 0);font-size: 15px;\">廖某（男、26岁、高要人），近半年在武汉居住工作，1月19日从武汉乘坐飞机到广州白云机场，随后由同事接载回端州，1月21日出现发热症状并入院就诊，1月25日确诊。</span><span style=\"color: rgb(0, 0, 0);font-size: 15px;\">经治疗，2020年2月8日已出院。</span></p><p><span style=\"color: rgb(0, 0, 0);font-size: 15px;\"> </span></p><p><strong><span style=\"font-size: 15px;background-color: rgb(255, 76, 0);color: rgb(255, 255, 255);\">病例2</span></strong></p><p><span style=\"color: rgb(0, 0, 0);font-size: 15px;\">林某（男、37岁、端州人），近半年在武汉居住工作，1月22日乘坐武广高铁G95班次列车回到广州南，在广州南站客运站乘坐前往端州的大巴，再乘坐滴滴车回端州。</span><span style=\"color: rgb(0, 0, 0);font-size: 15px;\">在武汉归家途中开始发热，但自己除乏力外无感觉到其他不适，在进家门前妻子发现其体温异常，其妻子自驾车送患者到医院就诊，1月24日确诊。</span><span style=\"color: rgb(0, 0, 0);font-size: 15px;\">经治疗，2020年2月8日已出院。</span></p><p><span style=\"color: rgb(0, 0, 0);font-size: 15px;\"> </span></p><p><strong><span style=\"font-size: 15px;background-color: rgb(255, 76, 0);color: rgb(255, 255, 255);\">病例1</span></strong></p><p><span style=\"color: rgb(0, 0, 0);font-size: 15px;\">黎某（女、25岁、四会人），近半年在武汉居住工作。</span><span style=\"color: rgb(0, 0, 0);font-size: 15px;\">1月11日出现鼻塞、流涕、间歇性咳嗽等症状，1月13日和16日在武汉医院就诊，1月17日乘坐G1015次列车（座位号3车厢）回广州南站，在广州南站客运站乘坐前往四会的大巴，再乘坐滴滴车回四会，1月18日入院就诊，1月22日确诊。</span><span style=\"color: rgb(0, 0, 0);font-size: 15px;\">经治疗，2020年1月31日已出院。</span></p></section></section></section></section></section></section></section></section></section></section></section></section></section></section></section></section></section></section></section></section></section></section></section></section></section></section></section></section><p style=\"text-align: center;\"><br/></p><section data-color=\"rgb(216, 40, 33)\" data-style-id=\"24908\" data-support=\"96编辑器\"><section style=\"margin-top: 10px;margin-bottom: 10px;text-align: center;\"><section style=\"display: inline-block;\"><section style=\"padding-bottom: 5px;border-style: solid;border-width: 1px;border-color: rgb(216, 40, 33);display: inline-block;background-color: rgb(216, 40, 33);border-radius: 8px;color: rgb(255, 255, 255);\"><section style=\"padding: 2px 15px;background-color: rgb(254, 254, 254);border-radius: 8px;\"><p style=\"letter-spacing: 2px;\"><strong><span style=\"font-size: 15px;color: rgb(0, 0, 0);\">全市累计确诊病例涉及的小区或场所</span></strong></p></section></section><section style=\"margin-top: -2px;margin-left: 15px;height: 0px;transform: rotateZ(0deg);border-left: 12px solid rgb(216, 40, 33);width: 0px;border-bottom: 12px solid transparent !important;\"><br/></section><section style=\"margin-top: -11px;margin-left: 14px;height: 0px;border-left: 13px solid rgb(216, 40, 33);width: 0px;border-bottom: 13px solid transparent !important;\"><br/></section></section></section></section><section data-style-id=\"23010\" data-support=\"96编辑器\"><section><section><section><section data-style-id=\"24493\" data-support=\"96编辑器\"><p style=\"white-space: normal;font-size: 0px;color: rgba(255, 255, 255, 0);\">1</p></section></section></section></section></section><section data-style-id=\"17212\" data-support=\"96编辑器\"><section style=\"margin-top: 10px;margin-bottom: 10px;box-sizing: border-box;\"><section style=\"padding: 3px;background-color: #efefef;box-sizing: border-box;\"><section style=\"-ms-word-wrap: break-word !important;max-width: 100%;box-sizing: border-box !important;\"><section style=\"-ms-word-wrap: break-word !important;max-width: 100%;box-sizing: border-box !important;\"><section style=\"-ms-word-wrap: break-word !important;max-width: 100%;box-sizing: border-box !important;padding:8px 8px;box-sizing:border-box;\"><section style=\"margin-right: auto;margin-left: auto;padding: 1em;max-width: 100%;box-sizing: border-box;height: 10em;font-size: 1em;line-height: 1.5em;overflow: auto;word-wrap: break-word !important;\"><section style=\"letter-spacing: 1.2px;line-height: 25px;\"><p style=\"font-family: -apple-system-font, BlinkMacSystemFont, Arial, sans-serif;font-size: 15px;letter-spacing: 0.544px;white-space: normal;text-align: left;\"><strong><span style=\"color: rgb(0, 82, 255);\">端州区</span></strong>：睦岗街道锦绣山河小区、城东街道帝和豪庭小区</p><p style=\"font-family: -apple-system-font, BlinkMacSystemFont, Arial, sans-serif;font-size: 15px;letter-spacing: 0.544px;white-space: normal;text-align: left;\"><strong><span style=\"color: rgb(0, 82, 255);\">鼎湖区</span></strong>：坑口街道一米阳光小区</p><p style=\"font-family: -apple-system-font, BlinkMacSystemFont, Arial, sans-serif;font-size: 15px;letter-spacing: 0.544px;white-space: normal;text-align: left;\"><strong><span style=\"color: rgb(0, 82, 255);\">高要</span></strong><strong><span style=\"color: rgb(0, 82, 255);\">区</span></strong>：南岸街道珀丽湾小区、南岸街道帝景蓝湾小区、大湾镇禄岸村</p><p style=\"font-family: -apple-system-font, BlinkMacSystemFont, Arial, sans-serif;font-size: 15px;letter-spacing: 0.544px;white-space: normal;text-align: left;\"><strong><span style=\"color: rgb(0, 82, 255);\">四会市</span></strong>：东城街道九龙湾小区</p><p style=\"font-family: -apple-system-font, BlinkMacSystemFont, Arial, sans-serif;font-size: 15px;letter-spacing: 0.544px;white-space: normal;text-align: left;\"><strong><span style=\"color: rgb(0, 82, 255);\">广宁县</span></strong>：南街镇碧翠湖度假村</p><p><strong><span style=\"color: rgb(0, 82, 255);\">封开县</span></strong>：<span style=\"font-size: 15px;\">封开县杏花镇新和村、江口镇乐惠士多店、江口镇曙光路31号、封开县广信嘉园、封开县唐八叔清补羊火锅店、封开县江口镇东方二路115号、江口镇宾悦酒店、井根农贸市场、江口镇东堤路25号、杏花宾馆宿舍、封开县江口镇水上居民安置楼、江口镇星辉曲艺社江口社区、平凤镇新围村、<span style=\"letter-spacing: 1.5px;\">封开县江口镇河堤二路22号、江口镇蝴蝶塘路封开县曲艺社、</span>好又多超市。</span></p><p><br/></p><p><span style=\"font-size: 15px;\">肇庆市17例确诊病例涉及6个县（市、区）24个小区或场所，<span style=\"font-size: 15px;letter-spacing: 0.544px;\">发现确诊病例后，市、县两级疾控部门已立即对所涉及的小区或场所进行了严格的终末消毒，督促指导社区和物业做好日常预防性消毒工作。与病例有关的密切接触者已送指定场所进行集中隔离医学观察。希望大家做好个人防护。</span></span></p></section></section></section></section></section></section><section data-width=\"100%\" style=\"width: 100%;margin-top: -4px;box-sizing: border-box;\"><section style=\"width: 50px;height: 4px;background-color: rgb(235, 131, 92);\"><br/></section></section></section></section><section data-style-id=\"25820\" data-support=\"96编辑器\"><section><section><section><section data-width=\"100%\"><p style=\"text-align: center;\"><img _width=\"332px\" class=\"rich_pages js_insertlocalimg\" data-ratio=\"3.9234375\" data-s=\"300,640\" data-src=\"https://mmbiz.qpic.cn/mmbiz_jpg/z2KVp01hujGsD4EhpTriaich7ZGnswpdmde0trE8utSxxfdQ8m2VFYCQJYoyDOpNrP6I3VWB4m863SMjK24D7Q6Q/640?wx_fmt=jpeg\" data-type=\"jpeg\" data-w=\"640\" style=\"width: 332px;height: 1303px;\"/></p><section data-style-id=\"24493\" data-support=\"96编辑器\"><p style=\"font-size: 0px;color: rgba(255, 255, 255, 0);\">1</p></section></section></section></section></section></section></section></section></section></section></section></section><p><span style=\"font-size: 14px;\">相关链接：</span><br/></p><p><span style=\"font-size: 14px;\">☛</span><a data-itemshowtype=\"0\" data-linktype=\"2\" hasload=\"1\" href=\"http://mp.weixin.qq.com/s?__biz=MzA4ODUyODMwOA==&amp;mid=2650688316&amp;idx=2&amp;sn=5257fdd4c3688dc3b569b125471f6d09&amp;chksm=88222fe7bf55a6f132134092fd10cadc967c9b2b3929a5e5ed84cd71071c7d8f6dc60f4ddbd0&amp;scene=21#wechat_redirect\" style=\"text-decoration: underline;\" tab=\"innerlink\" target=\"_blank\"><span style=\"font-size: 14px;\">@肇庆市民，轻微发热不用跑医院！这里可免费咨询专家</span></a><span style=\"font-size: 14px;text-decoration: underline;\">；</span></p><p><span style=\"font-size: 14px;\">☛</span><a data-itemshowtype=\"0\" data-linktype=\"2\" hasload=\"1\" href=\"http://mp.weixin.qq.com/s?__biz=MzA4ODUyODMwOA==&amp;mid=2650688293&amp;idx=7&amp;sn=78128aafa4e0fa2a072274396859328b&amp;chksm=88222ffebf55a6e8f1bc40d8ff64eac71dfb44ee5e9140cd71c9ce8d3de2d4f2b97f8deee15a&amp;scene=21#wechat_redirect\" style=\"font-size: 14px;text-decoration: underline;\" tab=\"innerlink\" target=\"_blank\">一图读懂新型冠状病毒传播途径与预防指南！</a></p><p style=\"max-width: 100%;min-height: 1em;letter-spacing: 0.544px;white-space: normal;background-color: rgb(255, 255, 255);text-align: center;font-family: -apple-system-font, BlinkMacSystemFont, Arial, sans-serif;box-sizing: border-box !important;word-wrap: break-word !important;\"><br/></p><p style=\"max-width: 100%;min-height: 1em;letter-spacing: 0.544px;white-space: normal;background-color: rgb(255, 255, 255);text-align: center;font-family: -apple-system-font, BlinkMacSystemFont, Arial, sans-serif;box-sizing: border-box !important;word-wrap: break-word !important;\"><span style=\"max-width: 100%;font-size: 14px;color: rgb(136, 136, 136);box-sizing: border-box !important;word-wrap: break-word !important;\">编辑 健康肇庆编辑部</span></p><p style=\"max-width: 100%;min-height: 1em;letter-spacing: 0.544px;white-space: normal;background-color: rgb(255, 255, 255);font-family: -apple-system-font, BlinkMacSystemFont, Arial, sans-serif;box-sizing: border-box !important;word-wrap: break-word !important;\"><img _width=\"677px\" class=\"rich_pages\" data-backh=\"33\" data-backw=\"574\" data-ratio=\"0.05776173285198556\" data-s=\"300,640\" data-src=\"https://mmbiz.qpic.cn/mmbiz_jpg/z2KVp01hujHGFpsjEVkdOJcsOPjICpapia6VXwFVx9LeZnxkiaWW6RXSO2WzFU0LTcIRlMicRwFXjH5k6UEDbMtPA/640?wx_fmt=jpeg\" data-type=\"jpeg\" data-w=\"554\" data-width=\"100%\" style=\"letter-spacing: 0.54px;font-size: 14px;overflow-wrap: break-word;box-sizing: border-box !important;word-wrap: break-word !important;outline: 0px !important;visibility: visible !important;width: 677px !important;height: auto !important;\" width=\"554\"/></p><p style=\"max-width: 100%;min-height: 1em;letter-spacing: 0.544px;white-space: normal;background-color: rgb(255, 255, 255);font-size: 16px;font-family: -apple-system-font, BlinkMacSystemFont, Arial, sans-serif;box-sizing: border-box !important;word-wrap: break-word !important;\"><br/></p><section style=\"max-width: 100%;white-space: normal;background-color: rgb(255, 255, 255);text-align: center;font-size: 15px;letter-spacing: 0.54px;font-family: -apple-system-font, BlinkMacSystemFont, Arial, sans-serif;box-sizing: border-box !important;word-wrap: break-word !important;\"><section style=\"max-width: 100%;box-sizing: border-box;border-width: 0px;color: rgb(221, 214, 214);letter-spacing: 0.54px;font-size: 14px;overflow-wrap: break-word;font-family: 微软雅黑;word-wrap: break-word !important;\"><section style=\"padding: 10px;max-width: 100%;box-sizing: border-box;overflow-wrap: break-word;word-wrap: break-word !important;\"><section style=\"max-width: 100%;letter-spacing: 0.54px;overflow-wrap: break-word;box-sizing: border-box !important;word-wrap: break-word !important;\"><section style=\"max-width: 100%;overflow-wrap: break-word;box-sizing: border-box !important;word-wrap: break-word !important;\"><section style=\"max-width: 100%;overflow-wrap: break-word;box-sizing: border-box !important;word-wrap: break-word !important;\"><section style=\"max-width: 100%;overflow-wrap: break-word;box-sizing: border-box !important;word-wrap: break-word !important;\"><section style=\"max-width: 100%;box-sizing: border-box;border-width: 0px;letter-spacing: 0.54px;overflow-wrap: break-word;word-wrap: break-word !important;\"><section style=\"padding: 10px;max-width: 100%;box-sizing: border-box;overflow-wrap: break-word;word-wrap: break-word !important;\"><section style=\"max-width: 100%;letter-spacing: 0.54px;overflow-wrap: break-word;box-sizing: border-box !important;word-wrap: break-word !important;\"><section style=\"max-width: 100%;overflow-wrap: break-word;box-sizing: border-box !important;word-wrap: break-word !important;\"><section style=\"max-width: 100%;overflow-wrap: break-word;box-sizing: border-box !important;word-wrap: break-word !important;\"><section data-color=\"#053987\" data-style-type=\"5\" style=\"max-width: 100%;overflow-wrap: break-word;box-sizing: border-box !important;word-wrap: break-word !important;\"><section style=\"max-width: 100%;letter-spacing: 0.54px;overflow-wrap: break-word;font-family: mp-quote, -apple-system-font, BlinkMacSystemFont, Arial, sans-serif;box-sizing: border-box !important;word-wrap: break-word !important;outline: 0px !important;\"><section style=\"max-width: 100%;overflow-wrap: break-word;box-sizing: border-box !important;word-wrap: break-word !important;outline: 0px !important;\"><section style=\"max-width: 100%;overflow-wrap: break-word;box-sizing: border-box !important;word-wrap: break-word !important;outline: 0px !important;\"><section style=\"max-width: 100%;overflow-wrap: break-word;box-sizing: border-box !important;word-wrap: break-word !important;outline: 0px !important;\"><section data-color=\"#d82821\" data-custom=\"#d82821\" style=\"max-width: 100%;letter-spacing: 0.54px;widows: 1;overflow-wrap: break-word;font-family: -apple-system-font, BlinkMacSystemFont, Arial, sans-serif;box-sizing: border-box !important;word-wrap: break-word !important;outline: 0px !important;\"><section data-width=\"100%\" style=\"max-width: 100%;width: 637px;overflow-wrap: break-word;box-sizing: border-box !important;word-wrap: break-word !important;outline: 0px !important;\"><section style=\"max-width: 100%;letter-spacing: 0.54px;overflow-wrap: break-word;box-sizing: border-box !important;word-wrap: break-word !important;outline: 0px !important;\"><section style=\"max-width: 100%;box-sizing: border-box;border-width: 0px;line-height: 25.6px;letter-spacing: 0.54px;overflow-wrap: break-word;font-family: 微软雅黑;word-wrap: break-word !important;outline: 0px !important;\"><section style=\"max-width: 100%;box-sizing: border-box;border-width: 0px;line-height: 25.6px;letter-spacing: 0.54px;overflow-wrap: break-word;word-wrap: break-word !important;outline: 0px !important;\"><section style=\"max-width: 100%;box-sizing: border-box;border-width: 0px;letter-spacing: 0.54px;overflow-wrap: break-word;word-wrap: break-word !important;outline: 0px !important;\"><section style=\"max-width: 100%;overflow-wrap: break-word;box-sizing: border-box !important;word-wrap: break-word !important;outline: 0px !important;\"><section style=\"max-width: 100%;overflow-wrap: break-word;box-sizing: border-box !important;word-wrap: break-word !important;outline: 0px !important;\"><section style=\"max-width: 100%;overflow-wrap: break-word;box-sizing: border-box !important;word-wrap: break-word !important;outline: 0px !important;\"><section style=\"max-width: 100%;overflow-wrap: break-word;box-sizing: border-box !important;word-wrap: break-word !important;outline: 0px !important;\"><section style=\"max-width: 100%;overflow-wrap: break-word;box-sizing: border-box !important;word-wrap: break-word !important;outline: 0px !important;\"><section style=\"max-width: 100%;box-sizing: border-box;border-width: 0px;overflow-wrap: break-word;word-wrap: break-word !important;outline: 0px !important;\"><section style=\"max-width: 100%;overflow-wrap: break-word;box-sizing: border-box !important;word-wrap: break-word !important;outline: 0px !important;\"><section data-width=\"100%\" style=\"max-width: 100%;width: 637px;overflow-wrap: break-word;box-sizing: border-box !important;word-wrap: break-word !important;outline: 0px !important;\"><section style=\"max-width: 100%;overflow-wrap: break-word;box-sizing: border-box !important;word-wrap: break-word !important;outline: 0px !important;\"><section style=\"max-width: 100%;box-sizing: border-box;border-width: 0px;overflow-wrap: break-word;word-wrap: break-word !important;outline: 0px !important;\"><article style=\"max-width: 100%;line-height: 25.6px;overflow-wrap: break-word;box-sizing: border-box !important;word-wrap: break-word !important;outline: 0px !important;\"><section style=\"max-width: 100%;overflow-wrap: break-word;box-sizing: border-box !important;word-wrap: break-word !important;outline: 0px !important;\"><section style=\"max-width: 100%;overflow-wrap: break-word;box-sizing: border-box !important;word-wrap: break-word !important;outline: 0px !important;\"><section style=\"padding-right: 0.5em;padding-left: 0.5em;max-width: 100%;box-sizing: border-box;letter-spacing: 0.7px;font-size: 20px;overflow-wrap: break-word;word-wrap: break-word !important;outline: 0px !important;\"><section style=\"max-width: 100%;overflow-wrap: break-word;box-sizing: border-box !important;word-wrap: break-word !important;outline: 0px !important;\"><section style=\"max-width: 100%;overflow-wrap: break-word;box-sizing: border-box !important;word-wrap: break-word !important;outline: 0px !important;\"><section style=\"max-width: 100%;box-sizing: border-box;border-width: 0px;overflow-wrap: break-word;word-wrap: break-word !important;outline: 0px !important;\"><section style=\"max-width: 100%;overflow-wrap: break-word;box-sizing: border-box !important;word-wrap: break-word !important;outline: 0px !important;\"><section style=\"max-width: 100%;overflow-wrap: break-word;box-sizing: border-box !important;word-wrap: break-word !important;outline: 0px !important;\"><section style=\"max-width: 100%;overflow-wrap: break-word;box-sizing: border-box !important;word-wrap: break-word !important;outline: 0px !important;\"><section style=\"max-width: 100%;overflow-wrap: break-word;box-sizing: border-box !important;word-wrap: break-word !important;outline: 0px !important;\"><section data-style-type=\"1\" style=\"max-width: 100%;box-sizing: border-box;border-width: 0px;overflow-wrap: break-word;word-wrap: break-word !important;outline: 0px !important;\"><section style=\"max-width: 100%;overflow-wrap: break-word;box-sizing: border-box !important;word-wrap: break-word !important;outline: 0px !important;\"><section style=\"max-width: 100%;overflow-wrap: break-word;box-sizing: border-box !important;word-wrap: break-word !important;outline: 0px !important;\"><section style=\"max-width: 100%;overflow-wrap: break-word;box-sizing: border-box !important;word-wrap: break-word !important;outline: 0px !important;\"><section style=\"max-width: 100%;overflow-wrap: break-word;box-sizing: border-box !important;word-wrap: break-word !important;outline: 0px !important;\"><section style=\"max-width: 100%;overflow-wrap: break-word;box-sizing: border-box !important;word-wrap: break-word !important;outline: 0px !important;\"><section style=\"max-width: 100%;overflow-wrap: break-word;box-sizing: border-box !important;word-wrap: break-word !important;outline: 0px !important;\"><article style=\"max-width: 100%;overflow-wrap: break-word;box-sizing: border-box !important;word-wrap: break-word !important;outline: 0px !important;\"><section style=\"max-width: 100%;overflow-wrap: break-word;box-sizing: border-box !important;word-wrap: break-word !important;outline: 0px !important;\"><section style=\"max-width: 100%;text-align: justify;letter-spacing: 0.54px;font-size: 16px;overflow-wrap: break-word;box-sizing: border-box !important;word-wrap: break-word !important;outline: 0px !important;\"><section style=\"max-width: 100%;overflow-wrap: break-word;box-sizing: border-box !important;word-wrap: break-word !important;outline: 0px !important;\"><article style=\"max-width: 100%;overflow-wrap: break-word;box-sizing: border-box !important;word-wrap: break-word !important;outline: 0px !important;\"><section style=\"max-width: 100%;overflow-wrap: break-word;box-sizing: border-box !important;word-wrap: break-word !important;outline: 0px !important;\"><section style=\"max-width: 100%;overflow-wrap: break-word;box-sizing: border-box !important;word-wrap: break-word !important;outline: 0px !important;\"><section data-color=\"#b6e4fd\" data-custom=\"#b6e4fd\" style=\"max-width: 100%;box-sizing: border-box;border-width: 0px;letter-spacing: 0.47px;overflow-wrap: break-word;word-wrap: break-word !important;outline: 0px !important;\"><section style=\"margin-left: 10px;max-width: 100%;box-sizing: border-box;border-radius: 0px 5px 5px 0px;text-align: inherit;text-decoration: inherit;background-color: rgb(244, 244, 244);overflow-wrap: break-word;word-wrap: break-word !important;outline: 0px !important;\"><section style=\"margin-top: 10px;margin-right: 8px;margin-left: -8px;max-width: 100%;color: rgb(254, 254, 254);font-style: inherit;text-decoration: inherit;float: left;background-color: transparent;overflow-wrap: break-word;box-sizing: border-box !important;word-wrap: break-word !important;outline: 0px !important;\"><p style=\"max-width: 100%;min-height: 1em;letter-spacing: 0.5px;overflow-wrap: break-word;box-sizing: border-box !important;word-wrap: break-word !important;outline: 0px !important;\"><span style=\"padding: 0.3em 0.5em;max-width: 100%;border-radius: 0px 0.5em 0.5em 0px;color: rgb(5, 115, 175);font-size: 15px;display: inline-block;background-color: rgb(182, 228, 253);overflow-wrap: break-word;box-sizing: border-box !important;word-wrap: break-word !important;outline: 0px !important;\"><strong data-brushtype=\"text\" style=\"max-width: 100%;overflow-wrap: break-word;box-sizing: border-box !important;word-wrap: break-word !important;outline: 0px !important;\">热点回顾</strong> </span></p></section><section data-style=\"box-sizing: border-box;line-height: 25.6000003814697px; background-color: rgb(244, 244, 244);\" style=\"padding: 15px 20px;max-width: 100%;box-sizing: border-box;overflow-wrap: break-word;word-wrap: break-word !important;outline: 0px !important;\"><p style=\"max-width: 100%;min-height: 1em;overflow-wrap: break-word;box-sizing: border-box !important;word-wrap: break-word !important;outline: 0px !important;\"><a data-linktype=\"2\" href=\"http://mp.weixin.qq.com/s?__biz=MzA4ODUyODMwOA==&amp;mid=2650678628&amp;idx=1&amp;sn=417ad1c8575bd91fbcd33a70f35f11ca&amp;chksm=882241bfbf55c8a94f01838e298083b790b2ecff6d4aa17e000492299872186e442e15166266&amp;scene=21#wechat_redirect\" style=\"color: rgb(51, 51, 51);-webkit-tap-highlight-color: rgba(0, 0, 0, 0);cursor: pointer;text-align: inherit;letter-spacing: 0.47px;overflow-wrap: break-word;max-width: 100%;font-size: 14px;outline: 0px !important;box-sizing: border-box !important;word-wrap: break-word !important;\" target=\"_blank\"><span style=\"max-width: 100%;font-size: 14px;box-sizing: border-box !important;word-wrap: break-word !important;\">◢</span></a><span style=\"max-width: 100%;font-size: 14px;box-sizing: border-box !important;word-wrap: break-word !important;\"> <a data-itemshowtype=\"0\" data-linktype=\"2\" href=\"http://mp.weixin.qq.com/s?__biz=MzA4ODUyODMwOA==&amp;mid=2650688928&amp;idx=1&amp;sn=307323eacccdd5f432dab5ce58a87fdf&amp;chksm=8822297bbf55a06d2ecbf63a226ca09d3540e60219d5fe67eb728c573efe4a0b43b084941797&amp;scene=21#wechat_redirect\" tab=\"innerlink\" target=\"_blank\">今天，肇庆3例确诊患者治愈出院！包括一名3岁儿童</a></span><br style=\"max-width: 100%;box-sizing: border-box !important;word-wrap: break-word !important;\"/></p><p style=\"max-width: 100%;min-height: 1em;letter-spacing: 0.47px;overflow-wrap: break-word;box-sizing: border-box !important;word-wrap: break-word !important;outline: 0px !important;\"><a data-linktype=\"2\" href=\"http://mp.weixin.qq.com/s?__biz=MzA4ODUyODMwOA==&amp;mid=2650678628&amp;idx=1&amp;sn=417ad1c8575bd91fbcd33a70f35f11ca&amp;chksm=882241bfbf55c8a94f01838e298083b790b2ecff6d4aa17e000492299872186e442e15166266&amp;scene=21#wechat_redirect\" style=\"color: rgb(51, 51, 51);-webkit-tap-highlight-color: rgba(0, 0, 0, 0);cursor: pointer;text-align: inherit;letter-spacing: 0.47px;overflow-wrap: break-word;max-width: 100%;font-size: 14px;outline: 0px !important;box-sizing: border-box !important;word-wrap: break-word !important;\" target=\"_blank\"><span style=\"max-width: 100%;font-size: 14px;box-sizing: border-box !important;word-wrap: break-word !important;\">◢</span></a><span style=\"max-width: 100%;font-size: 14px;box-sizing: border-box !important;word-wrap: break-word !important;\"> <a data-itemshowtype=\"0\" data-linktype=\"2\" href=\"http://mp.weixin.qq.com/s?__biz=MzA4ODUyODMwOA==&amp;mid=2650688914&amp;idx=1&amp;sn=dae59d6ebab1029d3fbdd062edca6fb4&amp;chksm=88222949bf55a05f22196cad556dcd0dca57bc8cb9b5653f2c1f50508257ef754b072687452d&amp;scene=21#wechat_redirect\" tab=\"innerlink\" target=\"_blank\">今天，肇庆第二批驰援湖北医疗队出征！请平安归来</a></span><br style=\"max-width: 100%;box-sizing: border-box !important;word-wrap: break-word !important;\"/></p></section></section></section></section></section></article></section></section></section></article></section></section></section></section></section></section></section></section></section></section></section></section></section></section></section></section></section></article></section></section></section></section></section><section data-color=\"#59c3f9\" data-custom=\"#59c3f9\" style=\"max-width: 100%;box-sizing: border-box;border-width: 0px;overflow-wrap: break-word;word-wrap: break-word !important;outline: 0px !important;\"><section style=\"max-width: 100%;overflow-wrap: break-word;box-sizing: border-box !important;word-wrap: break-word !important;outline: 0px !important;\"><section style=\"max-width: 100%;overflow-wrap: break-word;box-sizing: border-box !important;word-wrap: break-word !important;outline: 0px !important;\"><section style=\"max-width: 100%;overflow-wrap: break-word;box-sizing: border-box !important;word-wrap: break-word !important;outline: 0px !important;\"><section data-style=\"font-size:14px;\" style=\"max-width: 100%;overflow-wrap: break-word;box-sizing: border-box !important;word-wrap: break-word !important;outline: 0px !important;\"><section style=\"max-width: 100%;line-height: normal;min-height: 1em;overflow-wrap: break-word;box-sizing: border-box !important;word-wrap: break-word !important;outline: 0px !important;\"><br style=\"max-width: 100%;overflow-wrap: break-word;box-sizing: border-box !important;word-wrap: break-word !important;\"/></section><p style=\"max-width: 100%;min-height: 1em;box-sizing: border-box !important;word-wrap: break-word !important;\"><img _width=\"637px\" class=\"rich_pages\" data-croporisrc=\"https://mmbiz.qpic.cn/mmbiz_jpg/e1gtbF9EWpia0jKibtCXQ474PcmtwumuNwDtFTbn2AEV6tyDp1Q7wlO1ntp4wkYnmNwcPpavs0YxO2JJf0FHUTww/?wx_fmt=jpeg\" data-cropx1=\"0\" data-cropx2=\"1280\" data-cropy1=\"0\" data-cropy2=\"3151.7872968980796\" data-ratio=\"2.4625\" data-s=\"300,640\" data-src=\"https://mmbiz.qpic.cn/mmbiz_jpg/z2KVp01hujFD7H9mTMbOLIFRa64qiaibKbWYXSslKrdzavXJtHfLIjIaKx5Mml4n9kohicJTUTgylSenVyLNTic2sw/640?wx_fmt=jpeg\" data-type=\"jpeg\" data-w=\"1280\" style=\"letter-spacing: 0.544px;color: rgb(62, 62, 62);font-family: -apple-system-font, BlinkMacSystemFont, Arial, sans-serif;box-sizing: border-box !important;word-wrap: break-word !important;overflow-wrap: break-word !important;visibility: visible !important;width: 637px !important;height: auto !important;\"/></p><p style=\"max-width: 100%;min-height: 1em;box-sizing: border-box !important;word-wrap: break-word !important;\"><img _width=\"637px\" class=\"rich_pages __bg_gif\" data-ratio=\"0.5\" data-s=\"300,640\" data-src=\"https://mmbiz.qpic.cn/mmbiz_gif/z2KVp01hujGz139R2uDgDB8ySjZicCzbq3ouGCuTicrRVwMkkOcFjUVAxCzaRBos5hdFjzibfLOMSnKCkRfAOoSrg/640?wx_fmt=gif\" data-type=\"gif\" data-w=\"600\" style=\"box-sizing: border-box !important;word-wrap: break-word !important;visibility: visible !important;width: 637px !important;height: auto !important;\"/></p></section></section></section></section></section></section></section></section></section></section></section></section></section></section></section></section></section></section></section></section></section><section data-color=\"#053987\" data-style-type=\"5\" style=\"max-width: 100%;text-align: right;letter-spacing: 0.54px;overflow-wrap: break-word;font-family: -apple-system-font, BlinkMacSystemFont, Arial, sans-serif;box-sizing: border-box !important;word-wrap: break-word !important;\"><strong style=\"max-width: 100%;letter-spacing: 0.54px;font-size: 18px;overflow-wrap: break-word;box-sizing: border-box !important;word-wrap: break-word !important;\"><span style=\"max-width: 100%;color: rgb(217, 33, 66);overflow-wrap: break-word;box-sizing: border-box !important;word-wrap: break-word !important;\">点个“在看”让更多人知</span></strong><strong style=\"max-width: 100%;letter-spacing: 0.54px;font-size: 18px;overflow-wrap: break-word;box-sizing: border-box !important;word-wrap: break-word !important;\"><span style=\"max-width: 100%;color: rgb(217, 33, 66);overflow-wrap: break-word;box-sizing: border-box !important;word-wrap: break-word !important;\">道！<strong style=\"max-width: 100%;color: rgb(221, 214, 214);letter-spacing: 0.544px;box-sizing: border-box !important;word-wrap: break-word !important;\"><span style=\"max-width: 100%;color: rgb(217, 33, 66);box-sizing: border-box !important;word-wrap: break-word !important;\"><img _width=\"30px\" class=\"__bg_gif\" data-copyright=\"0\" data-ratio=\"0.6197183098591549\" data-src=\"https://mmbiz.qpic.cn/mmbiz_gif/N9vLx3iaECqMRzOficLJVia0W5xwyksDkuYvySU9wV70PavtAKrAKzZW2CnSCpVNcqACAqTPZApLhpw2XbSCY3QYg/640?wx_fmt=gif\" data-type=\"gif\" data-w=\"71\" style=\"letter-spacing: 0.544px;line-height: 31.5px;color: rgb(62, 62, 62);overflow-wrap: break-word;white-space: pre-wrap;min-height: 0px;background-clip: border-box;background-size: auto;border-width: 0px;border-style: none;border-color: rgb(62, 62, 62);bottom: auto;display: inline;left: auto;max-height: none;min-width: 0px;text-align: center;top: auto;z-index: auto;clear: none;font-family: 微软雅黑;background-position: 0% 0%;background-repeat: repeat;box-sizing: border-box !important;word-wrap: break-word !important;visibility: visible !important;width: 30px !important;height: auto !important;\" width=\"30px\"/></span></strong></span></strong></section></section></section></section></section></section></section></section></section></section></section></section></section>\n",
       "</div>"
      ]
     },
     "execution_count": 39,
     "metadata": {},
     "output_type": "execute_result"
    }
   ],
   "source": [
    "slec[0]"
   ]
  },
  {
   "cell_type": "code",
   "execution_count": 43,
   "metadata": {},
   "outputs": [],
   "source": [
    "img = slec[0].find_all('img')"
   ]
  },
  {
   "cell_type": "code",
   "execution_count": 45,
   "metadata": {},
   "outputs": [
    {
     "data": {
      "text/plain": [
       "7"
      ]
     },
     "execution_count": 45,
     "metadata": {},
     "output_type": "execute_result"
    }
   ],
   "source": [
    "len(img)"
   ]
  },
  {
   "cell_type": "code",
   "execution_count": 61,
   "metadata": {},
   "outputs": [
    {
     "data": {
      "text/plain": [
       "'jpeg'"
      ]
     },
     "execution_count": 61,
     "metadata": {},
     "output_type": "execute_result"
    }
   ],
   "source": [
    "img[2]['data-type']"
   ]
  },
  {
   "cell_type": "code",
   "execution_count": 50,
   "metadata": {},
   "outputs": [],
   "source": [
    "resource_name = soup.select('#js_name')"
   ]
  },
  {
   "cell_type": "code",
   "execution_count": 53,
   "metadata": {},
   "outputs": [],
   "source": [
    "resource_name = resource_name[0].get_text()"
   ]
  },
  {
   "cell_type": "code",
   "execution_count": 54,
   "metadata": {},
   "outputs": [],
   "source": [
    "resource_name = re.sub(r'[^\\u4e00-\\u9fa5]','',resource_name)"
   ]
  },
  {
   "cell_type": "code",
   "execution_count": 55,
   "metadata": {},
   "outputs": [
    {
     "data": {
      "text/plain": [
       "'健康肇庆'"
      ]
     },
     "execution_count": 55,
     "metadata": {},
     "output_type": "execute_result"
    }
   ],
   "source": [
    "resource_name"
   ]
  },
  {
   "cell_type": "code",
   "execution_count": 62,
   "metadata": {},
   "outputs": [],
   "source": [
    "url = good_url['url'][0]\n",
    "site = re.search(r'(https*://)(.+?)(/)',url).group(2)\n",
    "# 用引擎\n",
    "driver.get(url)\n",
    "# sleep(0.2)\n",
    "# try:\n",
    "html =  driver.page_source\n",
    "# except Expection as e:\n",
    "#     return '',''\n",
    "# soup = etree.HTML(html)\n",
    "# name = soup.xpath('//*[@id=\"js_name\"]')\n",
    "# content = soup.xpath('//*[@id=\"js_content\"]')\n",
    "soup = BeautifulSoup(html, 'html.parser')\n",
    "sn,sc = ['#js_name','#js_content']\n",
    "resource_name = soup.select(sn)\n",
    "content = soup.select(sc)[0].get_text()\n",
    "resource_name = resource_name[0].get_text()\n",
    "resource_name = re.sub(r'[^\\u4e00-\\u9fa5]','',resource_name)\n",
    "\n",
    "img_list = []\n",
    "imgs = soup.select(sc)[0].find_all('img')\n",
    "if len(img)>=1:\n",
    "    for img in imgs:\n",
    "        if img['data-type']!='gif':\n",
    "            img_list.append(img['data-src']) \n",
    "        "
   ]
  },
  {
   "cell_type": "code",
   "execution_count": 63,
   "metadata": {},
   "outputs": [
    {
     "data": {
      "text/plain": [
       "'健康肇庆'"
      ]
     },
     "execution_count": 63,
     "metadata": {},
     "output_type": "execute_result"
    }
   ],
   "source": [
    "resource_name"
   ]
  },
  {
   "cell_type": "code",
   "execution_count": 64,
   "metadata": {},
   "outputs": [
    {
     "data": {
      "text/plain": [
       "'\\n最新消息2月14日上午，省卫健委公布2月13日0－24时肇庆市新增1例新冠肺炎确诊病例。截至2月13日24时，肇庆市累计报告新冠肺炎确诊病例17例。13日0-24时全市新增确诊病例1例，分布在封开县。累计报告的17例确诊病例中，端州区5例，鼎湖区2例、高要区3例、四会市1例、广宁县1例、封开县5例。其中男性10例，女性7例，年龄介于3岁到65岁之间。截至2020年2月13日24时，在院的9例确诊病例中，普通型4例，轻型4例，重型1例。死亡1例。无医务人员感染。在院的9例病例，有1例病例病情加重，其余确诊病例病情稳定。全市共追踪到507名密切接触者，正接受集中医学观察277人，累计230人解除医学观察。17例确诊病例感染原因为湖北输入病例6例、旅游输入病例4例、由旅游输入引起的家庭病例3例、有武汉返肇人员接触史4例。目前，累计已有7例确诊病例治愈出院。\\xa0肇庆市新增一例确诊病例情况如下：11病例17何某（女、65岁、封开人），现住封开县江口镇河堤二路22号。近期无湖北省居住、旅游史，感染原因是与新型冠状病毒感染肺炎病例有接触。1月19日下午3：00与何某、吴某（病例16、15）等人一起在封开县曲艺社排练。1月23日到何某（病例16）家中（水上居民安置楼），1月24日、1月31日、2月7日分别送丈夫到封开县人民医院进行透析治疗， 2月7日上午9时到好又多超市买菜。其余时间在家照顾丈夫。2月9日采集咽拭子送市疾控中心核酸检测为阴性，2月12日采集咽拭子送市疾控中心检测。2月12日下午到封开县人民医院进行胸部CT筛查，结果显示双肺多发磨玻璃影，胸膜下明显，考虑是病毒性肺炎，13日核酸检测报告为阳性，送至肇庆市第一人民医院隔离治疗，病人病情稳定。目前已对密切接触者集中隔离医学观察。新增确诊病例涉及的小区或场所封开县江口镇河堤二路22号、江口镇蝴蝶塘路封开县曲艺社、好又多超市、水上居民安置楼此前确诊病例情况如下:病例16何某（女、62岁、封开人），常住封开县江口镇水上居民安置楼。近期无武汉居住旅游史，是新冠肺炎确诊病例吴某（病例15）的密切接触者。平时主要娱乐活动是到江口镇星辉曲艺社江口社区唱粤曲，2020年1月20日，与吴某（病例15）及其工友在宾悦酒店2楼聚餐及唱歌。22日由封开曲艺社组织前往平凤镇新围村参加敬老演出活动，演出活动后出现流涕、咳嗽、咳痰症状，无发热（未测体温），自行服用药物治疗，未到医院就诊。23日开始自己居家隔离，期间无外出，直至2月10日凌晨到封开县江口镇杏花宾馆集中隔离观察。2月10日上午患者咳嗽较前加重，出现发热，胸部CT检查结果显示双肺多发磨玻璃影，胸膜下明显，考虑是病毒性肺炎，当晚送肇庆市第一人民医院隔离治疗。2月11日患者新型冠状病毒核酸检测阳性。目前病人经治疗后，有发热、咳嗽、咳痰症状，病情稳定。\\xa0病例15吴某（男、56岁、封开人），常住封开县江口镇东方二路115号。1月19日下午病例与苏某（病例14）在江口镇曲艺社一起参加粤剧排练。晚上与朋友到苏某（病例14）的店铺喝茶。20日晚与工友在江口镇宾悦酒店二楼聚餐。21－23日期间在封开县江口镇东方二路115号家中休息，曾到井根农贸市场购物。24日、26日晚上到江口镇东堤路25号亲戚家中参加家庭聚餐。1月27、29日及2月1日到杏花宾馆宿舍其朋友家中聚餐、打麻将。28日晚上再次到苏某（病例14）店铺喝茶。无武汉居住旅游史。2月3日出现咽痒不适，偶发性咳嗽，伴有低热。2月6日胸部CT检查结果显示右肺上叶炎症。2月8日送肇庆市一医院隔离治疗，采集咽拭子进行新型冠状病毒核酸检测，肇庆市一医院和肇庆市疾控中心报告均为阴性。2月9日肇庆市一医院取下呼吸道分泌物检测新型冠状病毒核酸初筛阳性，送肇庆市疾控中心复核，结果阳性。目前病人经治疗后，偶有咳嗽、咳痰，无畏寒、发热，病情稳定。\\xa0病例14苏某（男、55岁、封开人），在封开县江口镇经营乐惠士多店，常在店内聚众打牌。平常活动点为乐惠士多店和曙光路31号家中，1月24日晚到封开县广信嘉园朋友家中聚餐，1月28日晚到封开县唐八叔清补羊火锅店聚餐。有武汉返粤人员接触史，无其它外出旅游史。2月2日出现发热、轻微气喘等症状， 2月5日采集患者咽拭子及血清标本检测，2月6日检测结果显示阳性，确诊为新冠肺炎病例。患者属重症病例，有多年糖尿病史，因病情恶化，经抢救无效，于2月6日18时15分死亡。\\xa0病例13莫某（男、24岁、封开人），长期在湖北省黄冈市做生意。1月22日，乘坐19时06分T95班次火车（04车厢）从武汉返回到广州。1月23日，在广州滘口汽车站乘坐8时30分班次客车返回到封开县杏花镇新和村家中。2月1日，进行咽拭子检测，2月4日，省疾控中心新型冠状病毒核酸检测复核结果阳性。2月4日，在肇庆市第一人民医院进行肺部CT检查，显示肺部炎症，2月5日上午出现发热等临床症状，确诊为新冠肺炎患者。目前，正在定点医院规范治疗，病人病情稳定，生命体征良好。\\xa0病例12病例7江某的大儿子梁某（男、10岁、端州人），1月19日与父母梁某、江某（病例7、病例8）一起到广州南沙乘坐邮轮到越南旅游，1月24日与父母从广州南沙码头下船，自驾车返回端州，2月1日江某确诊为新冠肺炎患者，2月5日江某的大儿子出现发热等临床症状，2月5日确诊为新冠肺炎患者。目前正在定点医院规范治疗，病人病情稳定，生命体征良好。\\xa0病例11病例7江某的小儿子梁某（男、3岁、端州人），2月1日江某确诊为新冠肺炎患者，江某的小儿子为确诊病例密切接触者，2月4日江某的小儿子出现发热等临床症状，2月4日确诊为新冠肺炎患者。目前正在定点医院规范治疗，病人病情稳定，生命体征良好。经治疗，2020年2月11日已出院。\\xa0病例10病例7江某的婆婆钟某（女、62岁、鼎湖人），2月1日江某确诊为新冠肺炎患者，钟某为确诊病例密切接触者，2月2日江某的婆婆进行肺部CT检查，显示肺部炎症。2月3日江某的婆婆确诊为新冠肺炎患者。目前正在定点医院规范治疗，病人病情稳定，生命体征良好。\\xa0病例9病例7江某的公公梁某（男、64岁、鼎湖人），2月1日江某确诊为新冠肺炎患者，梁某为确诊病例密切接触者，2月2日梁某进行肺部CT检查，显示肺部炎症。2月3日梁某确诊为新冠肺炎患者。目前病人属重症病例，正在定点医院规范治疗。\\xa0病例8病例7江某的丈夫梁某（男、35岁、端州人）。1月19日与妻子、大儿子一起，自驾车到广州南沙乘坐邮轮到越南旅游，1月24日与家人从广州南沙码头下船，自驾车返回端州，1月25日梁某出现发热症状，1月31日晚上到肇庆市第一人民医院发热门诊就医。2月3日梁某确诊为新冠肺炎患者。目前正在定点医院规范治疗，病人病情稳定，生命体征良好。\\xa0病例7江某（女、33岁、端州人），近半年在端州区居住工作，无明显疫情发生地接触史，1月19日与丈夫、大儿子一起，自驾车到广州南沙乘坐邮轮到越南旅游，1月24日与家人从广州南沙码头下船，自驾车返回端州，江某1月25日出现发热症状，1月29日到高要区人民医院就医，1月31日到肇庆市第一人民医院发热门诊就医。2月1日江某确诊为新冠肺炎患者。目前正在定点医院规范治疗，病人病情稳定，生命体征良好。经治疗，2020年2月11日已出院。病例7、病例8、病例9、病例10、病例11、病例12属于新冠肺炎家庭聚集性病例。病例6谭某（男、26岁、武汉人），在武汉居住工作，1月22日自驾车离开武汉，1月23日到广宁旅游，1月23日到当地医院检查，结果显示未见异常，1月24日开始进行为期14天集中隔离的医学观察，1月28日出现头痛、腹泻症状，1月29日住院隔离治疗，1月30日确诊。目前，正在定点医院规范治疗，病人病情稳定，生命体征良好。\\xa0病例5郭某（女、27岁、高要人），近半年在武汉居住工作，1月22日自驾车离开武汉回肇，1月23日到肇后无不适症状并纳入医学观察，1月25日出现发热症状，1月26日住院隔离治疗，1月28日确诊。目前，正在定点医院规范治疗，病人病情稳定，生命体征良好。经治疗，2020年2月10日已出院。\\xa0病例4李某（女、43岁、高要人），近半年在高要居住工作，无明显疫情发生地接触史，1月9日参加自组团到泰国旅游，乘坐泰国亚航FD537航班从广州白云机场抵达廊曼机场，1月13日出现“感冒、乏力”症状，1月14日乘坐泰国亚航FD530航班抵达广州白云机场，1月17日入院就诊，1月25日确诊。目前，正在定点医院规范治疗，病人病情稳定，生命体征良好。经治疗，2020年2月11日已出院。\\xa0病例3廖某（男、26岁、高要人），近半年在武汉居住工作，1月19日从武汉乘坐飞机到广州白云机场，随后由同事接载回端州，1月21日出现发热症状并入院就诊，1月25日确诊。经治疗，2020年2月8日已出院。\\xa0病例2林某（男、37岁、端州人），近半年在武汉居住工作，1月22日乘坐武广高铁G95班次列车回到广州南，在广州南站客运站乘坐前往端州的大巴，再乘坐滴滴车回端州。在武汉归家途中开始发热，但自己除乏力外无感觉到其他不适，在进家门前妻子发现其体温异常，其妻子自驾车送患者到医院就诊，1月24日确诊。经治疗，2020年2月8日已出院。\\xa0病例1黎某（女、25岁、四会人），近半年在武汉居住工作。1月11日出现鼻塞、流涕、间歇性咳嗽等症状，1月13日和16日在武汉医院就诊，1月17日乘坐G1015次列车（座位号3车厢）回广州南站，在广州南站客运站乘坐前往四会的大巴，再乘坐滴滴车回四会，1月18日入院就诊，1月22日确诊。经治疗，2020年1月31日已出院。全市累计确诊病例涉及的小区或场所1端州区：睦岗街道锦绣山河小区、城东街道帝和豪庭小区鼎湖区：坑口街道一米阳光小区高要区：南岸街道珀丽湾小区、南岸街道帝景蓝湾小区、大湾镇禄岸村四会市：东城街道九龙湾小区广宁县：南街镇碧翠湖度假村封开县：封开县杏花镇新和村、江口镇乐惠士多店、江口镇曙光路31号、封开县广信嘉园、封开县唐八叔清补羊火锅店、封开县江口镇东方二路115号、江口镇宾悦酒店、井根农贸市场、江口镇东堤路25号、杏花宾馆宿舍、封开县江口镇水上居民安置楼、江口镇星辉曲艺社江口社区、平凤镇新围村、封开县江口镇河堤二路22号、江口镇蝴蝶塘路封开县曲艺社、好又多超市。肇庆市17例确诊病例涉及6个县（市、区）24个小区或场所，发现确诊病例后，市、县两级疾控部门已立即对所涉及的小区或场所进行了严格的终末消毒，督促指导社区和物业做好日常预防性消毒工作。与病例有关的密切接触者已送指定场所进行集中隔离医学观察。希望大家做好个人防护。1相关链接：☛@肇庆市民，轻微发热不用跑医院！这里可免费咨询专家；☛一图读懂新型冠状病毒传播途径与预防指南！编辑 健康肇庆编辑部热点回顾\\xa0◢\\xa0今天，肇庆3例确诊患者治愈出院！包括一名3岁儿童◢\\xa0今天，肇庆第二批驰援湖北医疗队出征！请平安归来点个“在看”让更多人知道！\\n'"
      ]
     },
     "execution_count": 64,
     "metadata": {},
     "output_type": "execute_result"
    }
   ],
   "source": [
    "content"
   ]
  },
  {
   "cell_type": "code",
   "execution_count": 65,
   "metadata": {},
   "outputs": [
    {
     "data": {
      "text/plain": [
       "['https://mmbiz.qpic.cn/mmbiz_jpg/z2KVp01hujFYO4sn1fXHCFHZ5FRxN1Tx252twLrEZRQAyJrlic18b4Cy8b1sIkeKQgJw3BgrqCNpRT8rwpI78sQ/640?wx_fmt=jpeg',\n",
       " 'https://mmbiz.qpic.cn/mmbiz_jpg/z2KVp01hujGsD4EhpTriaich7ZGnswpdmde0trE8utSxxfdQ8m2VFYCQJYoyDOpNrP6I3VWB4m863SMjK24D7Q6Q/640?wx_fmt=jpeg',\n",
       " 'https://mmbiz.qpic.cn/mmbiz_jpg/z2KVp01hujHGFpsjEVkdOJcsOPjICpapia6VXwFVx9LeZnxkiaWW6RXSO2WzFU0LTcIRlMicRwFXjH5k6UEDbMtPA/640?wx_fmt=jpeg',\n",
       " 'https://mmbiz.qpic.cn/mmbiz_jpg/z2KVp01hujFD7H9mTMbOLIFRa64qiaibKbWYXSslKrdzavXJtHfLIjIaKx5Mml4n9kohicJTUTgylSenVyLNTic2sw/640?wx_fmt=jpeg']"
      ]
     },
     "execution_count": 65,
     "metadata": {},
     "output_type": "execute_result"
    }
   ],
   "source": [
    "img_list"
   ]
  },
  {
   "cell_type": "code",
   "execution_count": 87,
   "metadata": {},
   "outputs": [],
   "source": [
    "url = 'https://mp.weixin.qq.com/s/0xihh12dgBBxbfozR6fnNg'\n",
    "site = re.search(r'(https*://)(.+?)(/)',url).group(2)\n",
    "# 用引擎\n",
    "driver.get(url)\n",
    "# sleep(0.2)\n",
    "# try:\n",
    "html =  driver.page_source\n",
    "# except Expection as e:\n",
    "#     return '',''\n",
    "# soup = etree.HTML(html)\n",
    "# name = soup.xpath('//*[@id=\"js_name\"]')\n",
    "# content = soup.xpath('//*[@id=\"js_content\"]')\n",
    "soup = BeautifulSoup(html, 'html.parser')\n",
    "sn,sc = ['#js_name','#js_content']\n",
    "resource_name = soup.select(sn)\n",
    "content_selector = soup.select(sc)[0]\n",
    "content = content_selector.get_text()\n",
    "resource_name = resource_name[0].get_text()\n",
    "resource_name = re.sub(r'[^\\u4e00-\\u9fa5]','',resource_name)\n",
    "\n",
    "# img_list = []\n",
    "# imgs = soup.select(sc)[0].find_all('img')\n",
    "# if len(img)>=1:\n",
    "#     for img in imgs:\n",
    "#         if img['data-type']!='gif':\n",
    "# #             print('add.')\n",
    "#             img_list.append(img['data-src']) \n",
    "    \n",
    "    \n",
    "imglist = []\n",
    "imgs = content_selector.find_all('img')\n",
    "for img in imgs:\n",
    "    if img['data-type'] !='gif':\n",
    "        imglist.append(img['data-src'])\n",
    "        "
   ]
  },
  {
   "cell_type": "code",
   "execution_count": 88,
   "metadata": {},
   "outputs": [
    {
     "data": {
      "text/plain": [
       "'中山发布'"
      ]
     },
     "execution_count": 88,
     "metadata": {},
     "output_type": "execute_result"
    }
   ],
   "source": [
    "resource_name"
   ]
  },
  {
   "cell_type": "code",
   "execution_count": 89,
   "metadata": {},
   "outputs": [
    {
     "data": {
      "text/plain": [
       "'\\n今天上午，中山市人民政府新闻办公室组织召开市疫情防控工作第23场新闻发布会。市卫生健康局应急指挥领导小组副组长陈光卫介绍我市新增确诊病例相关情况和患者收治最新情况。截至2月16日24时，我市共有累计确诊病例66例，新增1例。累计治愈出院病例39例，新增治愈出院5例。目前留院治疗的27例确诊病例，全部在我市定点医院市第二人民医院集中隔离治疗，其中，危重型1例，重症1例，轻型1例，其余为普通型。所有留院治疗病例情况稳定，无死亡病例，无医护人员受感染。新增的病例情况如下：病例66梁某，女，27岁，现住中山市三角镇沙栏西路，在江苏常州工作。有疫情流行重点地区暴露史，一直没有症状。通过对疫情流行地区来粤人员排查发现，2月15日咽拭子标本检测结果为新型冠状病毒阳性，立即转入市第二人民医院隔离。病例到中山以来未出现发热、咳嗽、咽痛、乏力等新冠肺炎典型症状，入院后经临床检查发现肺部感染，目前确诊隔离治疗。//此前确诊病例情况如下//__向上滑动阅览病例1，邓某，男，36岁，住火炬开发区，1月16日至17日赴武汉市出差，1月20日上午发病，1月20日下午就诊被发现。病例2，王某，男，34岁，住火炬开发区，1月17日到武汉公干，1月21日回到中山，1月22日发病。病例3，温某，男性，36岁， 1月10—12日到武汉市出差，17日发病，21日来中山，住石岐区，23日收入定点医疗机构隔离治疗。病例4，梁某，女性，39岁，长住黄圃镇， 1月16—21日到武汉市探亲，23日发病，当日即被收入定点医疗机构隔离治疗。病例5，温某，女，年龄11个月，常住地石岐区，患者父亲是病例3。病例6，张某，男，55岁 ，住石岐区，曾到过武汉，1月20日发病，1月24日入院隔离治疗。病例7，欧阳某，女，37岁，住三乡镇，1月20日，从武汉来中山探亲，1月25日下午就诊被发现。病例8，赵某，男，55岁\\xa0，暂住火炬开发区，1月18日来中山探亲，1月26日就诊被发现。病例9，赵某，女，38岁，住东升镇，是其他地市确诊病例的密切接触者。病例10，赵某，男，9岁，住东升镇，是病例9的儿子，是其他地市确诊病例的密切接触者。病例11，赵某，女，12岁，住东升镇，是病例9的女儿，是其他地市确诊病例的密切接触者。病例12，冯某，女，42岁，住石岐区，是病例3的妻子和病例5的母亲。病例13，陈某，男，35岁，住火炬开发区，1月19日回武汉过年，1月24日自驾车返回中山市，1月25日发病，1月27日收入中山市第二人民医院隔离治疗。病例14，胡某，男，65岁，住东区，1月18日与妻子郑某、儿子胡某自驾车回疫情发生地， 1月25日与妻子（病例15）、儿子（病例16）自驾车回中山。28日发病并于当天收入中山市第二人民医院隔离治疗。病例15，郑某（病例14的妻子），女，58岁，住东区， 28日发病并于当天收入中山市第二人民医院隔离治疗。病例16，胡某（病例14的儿子），男，28岁，住火炬开发区，1月27日发病，1月28日收入中山市第二人民医院隔离治疗。病例17，杨某某，男，30岁。湖北武汉籍人，长居湖北省荆州石首市，1月21日于湖北武汉乘高铁至中山市东凤镇探亲，1月25日发病，1月25日隔离，1月30日确诊。病例18，杨某某，男，51岁，住黄圃镇。1月20日至25日自驾车回湖北襄阳市探亲，1月25日返回中山市黄圃镇。1月27日发病，1月29日隔离，1月30日确诊。病例19，刘某，男，49岁，住黄圃镇。1月26日与家人自驾车从湖北孝感市返回中山，自述配合当地村委会疫情防控要求，前往黄圃人民医院进行排查，排查发现发热，当即收入市第二人民医院隔离治疗，2月1日确诊。病例20，王某，男，79岁，武汉人，住沙溪镇。有心脑血管疾病病史。1月23日与家人从武汉市驾车回中山市沙溪镇，2月1日确诊。病例21，周某，女，31岁，住东区，是1月29日确诊的一起家庭聚集性病例的密切接触者。1月25日与家人从武汉市探亲返回中山，3名同行家人（其中两人住东区，一人住火炬开发区）1月29日被确诊，周某2月1日确诊。病例22，彭某，女，31岁，孕妇，住横栏镇。1月16日至24日与家人自驾去湖北孝感探亲。1月30日发病，起病时症状轻微以咽痛为主，偶有咳嗽，2月1日病情明显加重，已在市二院隔离治疗，是重症病例。发病前主要活动场所为阳光花园。病例23，胡某，女，3岁8个月，住东区。1月22日至25日曾随家人自驾去湖北黄石探亲，与其同行的4名家人已报告为确诊病例。1月31日发病。发病前主要活动场所为星光礼寓。病例24，唐某，女，35岁，住西区。1月18—26日与家人自驾去湖北武汉、孝感探亲，1月26日在返回中山途中发病。发病前主要活动场所为广浩华庭。病例25，舒某，男，41岁，长住湖北孝感，暂住中山市黄圃镇。1月22日与家人从湖北到云南旅游，1月26日在云南发病，1月28日从云南来中山。发病前主要活动场所为奥城花园。病例26，胡某，男，32岁，为儿童确诊病例22的父亲，现住东区。1月22日至25日曾随家人自驾去湖北黄石探亲，与其同行的5名家人已报告为确诊病例。发病前主要活动场所是星光礼寓。病例27，刘某，女，23岁，现住三角镇，1月18日-21日自驾回湖北探亲。发病前主要活动区域是三角镇乌沙村。病例28，陈某，女，29岁，现住中山市板芙镇。既往长住惠州市，1月19日从惠州回湖北探亲，探亲期间曾与湖北报告的确诊病例接触，1月22日与家人经武汉来中山。发病前主要活动场所是板芙镇雅芙花园。病例29，李某，女，55岁，长住湖北武汉，暂住中山市坦洲镇。1月22日与家人自驾离开武汉，当晚在湖南长沙暂住，23日到达中山坦洲。发病前主要活动场所是锦绣阳光花园。病例30，南某，女，55岁，长住湖北武汉，暂住中山市坦洲镇。1月22日与家人自驾到中山坦洲，暂住坦洲海伦堡。发病前主要活动场所是坦洲镇海伦堡。病例31，邵某，男，32岁，住火炬开发区，1月21日与朋友自驾前往浙江、广西旅游，1月25日在广西境内发病，1月27日自驾回中山。发病前主要活动场所主要活动区域是开发区联富社区。病例32，柯某，男，48岁，现住东升镇。1月20日至23日与家人自驾到湖北武汉探亲。1月31日发病发病前主要活动场所为东升镇丽景名筑。病例33，汪某，女，57岁，现住阜沙镇。12月31日出发回湖北孝感探亲， 1月15日在湖北孝感出现不适，1月23日从湖北返回中山，发病前主要活动场所为阜沙镇阜港西路赢天阁。病例34，周某，女，85岁，长住湖北武汉，暂住中山市坦洲镇，1月20日在武汉发病。1月22日与家人自驾离开武汉，当晚在湖南长沙暂住，23日到达中山市坦洲镇。其同行家人中已有1人于2月3日报告为确诊病例，发病前主要活动场所为坦洲镇锦绣阳光花园。病例35，魏某，男，59岁，现住石岐区。12月18日至1月23日在湖北荆州和武汉逗留，1月24日与家人自驾回到中山。2月2日发病，发病前主要活动场所为石岐区利和豪庭。病例36，王某，男，78岁，住三乡镇鹤泉山庄。为其他城市确诊病例的密切接触者（家人）。1月26日发病。病例37，邹某，男，48岁，住东凤镇东御世家。1月16日与家人前往湖北武汉和随州探亲，1月20日在湖北发病，25日与家人自驾回中山。病例38，王某，男，65岁，长住湖北荆门，暂住中山市火炬开发区铂爵山，1月14日在湖北发病，19日与家人离开湖北，20日抵达中山。病例39，李某，女，31岁，住火炬开发区濠泗下街。为此前报告确诊病例邵某同行者，二人于1月21日至27日自驾前往浙江、广西旅游。通过对密切接触者医学观察发现其于2月5日发病。病例40，袁某，女，67岁，长住湖北应城，1月7日由湖北来中山，暂住黄圃镇御品泰景。1月22日有9名亲戚从武汉来中山到其家。其中一人于1月31日在其他城市被报告为疑似病例，随后我市通过对密切接触者医学观察，发现袁某于2月4日发病。病例41，程某，女，65岁，长住湖北武汉，暂住中山市沙溪镇水岸花都，1月23日与丈夫（此前报告的确诊病例王某）自驾车离开武汉，24日抵达沙溪镇。通过对密切接触者医学观察发现，程某于2月5日发病。病例42，徐某，男，51岁，住中山市沙溪镇水岸花都。1月24日与2名家人（确诊病例）从武汉来访。通过对密切接触者医学观察发现，徐某于2月4日发病。病例43，陈某，男，36岁，住坦洲镇汇翠山庄。1月22日有亲戚从湖北黄石来访，住其家中。来访亲戚中1人在其他城市被确诊。通过对密切接触者医学观察发现，陈某于2月1日发病。病例44，余某，男，57岁，住黄圃镇大岑村雪莱路外工村。1月18日至25日与家人自驾车前往湖北探亲，其中1人于2月2日在其他城市被确诊。通过对密切接触者医学观察发现，余某于2月4日发病。病例45，余某，男，33岁，住东凤镇西罟村。1月18日至25日与家人自驾车前往湖北孝感探亲。其同行家人已有2人分别被我市和外地城市确诊。通过对密切接触者医学观察发现，余某于2月6日发病。病例46，刘某，女，49岁，住民众镇多宝村。1月18日前往湖北襄阳探亲，1月27日与家人、朋友自驾车返回中山。2月2日发病。病例47，吴某，女，60岁，住石岐区利和豪庭。2019年12月18日至2020年1月23日在湖北荆州和武汉探亲，1月24日与家人自驾车回中山。其同行人员中1人已于2月4日确诊。吴某作为密切接触者被隔离进行医学观察，2月8日发病。病例48，宋某，女，35岁，住黄圃镇半山豪苑。1月20日至1月26日与家人自驾到湖北襄阳、孝感探亲。其同行人员中1人已于1月30日确诊，宋某作为密切接触者被隔离进行医学观察，2月4日发病。病例49，瞿某，女，29岁，长住湖北，暂住黄圃镇御品泰景。1月22日与9名家人来中山探亲，暂住黄圃镇亲戚家中。其同行1人于1月31日在其他城市被报告为疑似病例，瞿某作为密切接触者开始被隔离医学观察，2月4日发病。病例50，袁某（病例49的母亲），女，53岁，长住湖北，暂住黄圃镇御品泰景。1月22日与9名家人来中山探亲，暂住黄圃镇亲戚家中。其同行1人于1月31日在其他城市被报告为疑似病例，袁某作为密切接触者被隔离医学观察，2月2日发病。病例51，罗某，男，56岁，住石岐区民安街。1月18日至23日与家人自驾车前往湖北荆州、武汉探亲、旅游。1月30日发病。目前确诊在市二院隔离治疗。病例52，古某，女，45岁，住阜沙镇丰联村祥和街。古某为石岐区3例确诊病例的亲戚，发病前曾与确诊病例聚餐。古某自1月24日起居家隔离观察，2月2日被转隔离医学观察，2月7日发病。病例53，余某，女，9岁，住黄圃镇大岑村外工村。1月18日余某随家人自驾车前往湖北省孝感市探亲， 1月25日返回。其同行6人中已有1人在外地城市确诊，2人在中山确诊。余某自1月31日起开始居家隔离观察，2月1日被转隔离医学观察，2月7日发病。病例54，黄某，男，68岁，常住湖北省武汉市，暂住中山市石岐区上海城。1月12日与家人来中山探亲，暂住石岐区亲戚家中，1月22日又有其他亲人自武汉市来同住。黄某1月28日发病，2月7日在市博爱医院就诊后转到市第二人民医院隔离治疗。病例55，梁某，男，43岁，常住西区广浩华庭，暂住石岐区中海锦城。1月22日至26日与家人参加旅行团前往新加坡、马来西亚旅游，1月27日回到家中，1月28日发病。目前确诊在市二院隔离治疗。病例56，李某，女，57岁，常住广州市，暂住中山市石岐区民安街，为2月8日报告确诊病例罗某的妻子。1月18日至23日与家人自驾车前往湖北省荆州市和武汉市探亲、旅游。返回中山后一直在石岐区家中居家隔离。2月7日通过密切接触者医学观察发现其发病。病例57，张某，男，52岁，住中山市石岐区上海城。1月12日和22日家中分别有来自湖北武汉的亲人到访，其中包括2月9日确诊病例黄某。1月28日黄某发病后两人有共同生活接触。张某于2月4日发病。目前确诊在市二院隔离治疗。病例58，梁某，男，18岁，常住西区广浩华庭，为2月9日确诊病例梁某的儿子。父子二人于1月22日至27日参加旅行团前往新加坡、马来西亚旅游。2月1日发病，目前确诊在市二院隔离治疗。病例59，廖某, 女，25岁，住南区越秀星汇云锦，1月22日与家人自驾车前往湖北随州探亲，1月24日自驾车返回广州市，在亲属家中暂住时发病，27日自驾车返回中山。2月8日出现高热后就诊。目前确诊在市二院隔离治疗。病例60，王某，女，53岁，住沙溪镇水岸花都。2019年11月29日与家人前往湖北武汉探亲，2020年1月23日与长住武汉的家人一起自驾车回中山，24日抵达中山市沙溪镇家中。同行家人中有3人先后于2月1日和2月5日确诊。通过对密切接触者医学观察，发现王某于2月5日发病。目前确诊在市二院隔离治疗。病例61，冯某，男，72岁，住沙溪镇世纪新城。发病前曾与1月30日发病的疑似病例家属一起生活。冯某于2月2日发病，2月9日就诊后被转至市二院，目前确诊隔离治疗。病例62，方某，女，73岁，住沙溪镇世纪新城。为上述病例3的妻子。发病前曾与1月30日发病的疑似病例家属一起生活。2月7日发病，2月9日就诊后被转至市二院，目前确诊隔离治疗。病例63，梁某，女，44岁，住西区广浩华庭。梁某与3名亲属于1月22日至27日参加旅行团前往新加坡、马来西亚旅游。其中2人已分别于2月9日和10日报告为确诊病例。梁某2月7日被转隔离医学观察， 2月11日发病，目前确诊在市二院隔离治疗。病例64，冯某，女，45岁，常住沙溪镇世纪新城。1月22日至26日与亲属前往云南旅游。1月30日发病，2月9日就诊后转至市二院，目前确诊隔离治疗。病例65，严某，男，40岁，住三角镇乌沙村。1月17日至28日在江西省上饶市探亲，期间曾与来自疫情发生地的朋友聚餐。1月26日发病，1月29日自驾车回中山。初起病症较轻，仅有咳嗽。2月9日症状加重到医疗机构就诊被转至市二院，隔离治疗后确诊。点击这里，了解更多防控信息■直击 | 走进中山企业的复工现场■最新！防控期间，这些人不能乘坐交通工具外出旅行工作 | 早安，中山■每日疫情通报｜中山新增1例，累计确诊66例■每日疫情通报｜昨日中山零新增，广东新增确诊22例■因疫情影响未及时还款，怎么办？市民关心的这些问题，有回应了！中山发布编辑部编辑：叶倩儿美编：钟美君海报设计：林琳责编：建伟执行总编辑：高明国总编辑：李华炎\\n'"
      ]
     },
     "execution_count": 89,
     "metadata": {},
     "output_type": "execute_result"
    }
   ],
   "source": [
    "content"
   ]
  },
  {
   "cell_type": "code",
   "execution_count": 91,
   "metadata": {},
   "outputs": [
    {
     "data": {
      "text/plain": [
       "['https://mmbiz.qpic.cn/mmbiz_png/jL1hNwBkicA290LT2kBRcc6MqLBNz07NZO2S3F4TsfDvDb7GZsNtORcMzptic65PrdEBtkMpRcp69SbxXFrFpKKg/640?wx_fmt=png',\n",
       " 'https://mmbiz.qpic.cn/mmbiz_png/jL1hNwBkicA290LT2kBRcc6MqLBNz07NZtClntDRHK68pepwfrKngXNVthbUibWlENVjkicVb0WC928CfJgfqj57Q/640?wx_fmt=png',\n",
       " 'https://mmbiz.qpic.cn/mmbiz_jpg/jL1hNwBkicA0fdprrb9HWW0MwuGzxnpoxCWLbEanQmbImtjChlBMPI2bk76ichauHWPB2PpAvd6ibaCmjPeLLhIrw/640?wx_fmt=jpeg']"
      ]
     },
     "execution_count": 91,
     "metadata": {},
     "output_type": "execute_result"
    }
   ],
   "source": [
    "imglist"
   ]
  },
  {
   "cell_type": "code",
   "execution_count": 115,
   "metadata": {
    "scrolled": true
   },
   "outputs": [],
   "source": [
    "url = 'https://mp.weixin.qq.com/s/AuuQN67_9XRnT3v-YQ-6Kg'\n",
    "site = re.search(r'(https*://)(.+?)(/)',url).group(2)\n",
    "# 用引擎\n",
    "driver.get(url)\n",
    "# sleep(0.2)\n",
    "# try:\n",
    "html =  driver.page_source\n",
    "# except Expection as e:\n",
    "#     return '',''\n",
    "# soup = etree.HTML(html)\n",
    "# name = soup.xpath('//*[@id=\"js_name\"]')\n",
    "# content = soup.xpath('//*[@id=\"js_content\"]')\n",
    "soup = BeautifulSoup(html, 'html.parser')\n",
    "sn,sc = ['#js_name','#js_content']\n",
    "resource_name = soup.select(sn)\n",
    "content_selector = soup.select(sc)[0]\n",
    "content = content_selector.get_text()\n",
    "resource_name = resource_name[0].get_text()\n",
    "resource_name = re.sub(r'[^\\u4e00-\\u9fa5]','',resource_name)\n",
    "\n",
    "# img_list = []\n",
    "# imgs = soup.select(sc)[0].find_all('img')\n",
    "# if len(img)>=1:\n",
    "#     for img in imgs:\n",
    "#         if img['data-type']!='gif':\n",
    "# #             print('add.')\n",
    "#             img_list.append(img['data-src']) \n",
    "    \n",
    "    \n",
    "imglist = []\n",
    "imgs = content_selector.find_all('img')\n",
    "if len(imgs)>=1:\n",
    "    for img in imgs:\n",
    "#         if img['data-type'] !='gif':\n",
    "        imglist.append(img['data-src'])"
   ]
  },
  {
   "cell_type": "code",
   "execution_count": 116,
   "metadata": {},
   "outputs": [
    {
     "data": {
      "text/plain": [
       "['https://mmbiz.qpic.cn/mmbiz_gif/ldFaBNSkvHjdIlmWrpGeTwTIBfKLnVwODb2rcD60OH0GrDfgS1grU4azvLhLyGmQwA4CUGprEVo2TUk2yMZvDA/640?',\n",
       " 'https://mmbiz.qpic.cn/mmbiz_jpg/a72MSgFI1qJ7TTAS6ZlOEJB2wVW3AwAWKboiatQQW9eIRz0wfSP9MIIFopjjJxa5QGlfsp8oOxicalfdQNIsciawg/640?wx_fmt=jpeg']"
      ]
     },
     "execution_count": 116,
     "metadata": {},
     "output_type": "execute_result"
    }
   ],
   "source": [
    "imglist"
   ]
  },
  {
   "cell_type": "code",
   "execution_count": 117,
   "metadata": {},
   "outputs": [
    {
     "data": {
      "text/plain": [
       "'\\n关于寻找确诊病例密切接触者的公告广大市民朋友：武汉新型冠状病毒感染的肺炎疫情爆发以来，我市截止目前累计确诊10名病例，经疾控机构专业人员进行流行病学调查后，大部分病例的密切接触者已经追踪到位并纳入医学观察范围。但因技术条件限制，现仍有部分确诊病例的密切接触者尚未寻找到位。现将有关线索公布如下：1.患者杨某某：女，2月2日确诊。1月27日12：33乘坐28路空调车从宝鸡南站出发，于13：20到达终点宝鸡火车站；13：40乘坐普通37路从宝鸡火车站到群众路同心小区；29日18：40左右到宝钛新区门口百汇超市购物。需寻找28路、37路同车人员与超市购物人员。2.患者段某某：男，2月3日确诊。1月18日-23日在越南芽庄旅行，乘坐旅游大巴车同行人员包括3名襄阳人、7名武汉人；1月24日3：20乘坐 GJ8800次航班由越南芽庄（金兰机场T2）飞往西安（咸阳机场T3）。需寻找越南旅游同行人员与返回航班同机人员。有上述与确诊的新型冠状病毒感染的肺炎患者同乘、同行或其他接触经历的人员，鉴于您属于病例密切接触者，存在被感染的风险，为了您和他人健康，请第一时间主动拨打您目前居住地的县区卫生健康部门咨询电话（宝鸡市及各县区具体号码后附），配合当地卫生健康部门做好隔离医学观察。若有发热、咳嗽等症状，请及时拨打各卫生健康部门电话，会有专车及医护人员接您，前往定点医院发热门诊就诊，以便进一步诊治。同时请以上密切接触者的家人都暂时不要外出，自觉居家隔离，如有发热等不适症状，亦请立即与辖区卫生健康部门联系。宝鸡市 0917—3263585\\xa0 12345（市民热线）金台区 0917--3512044渭滨区 0917--3323931陈仓区 0917--6222900高新区 0917--3780000岐山县 0917--8214577凤翔县 0917--7282515扶风县 0917--5216383眉\\xa0 \\xa0县 0917--5548671陇\\xa0 \\xa0县 0917--4609178千阳县 0917--4245911麟游县 0917--7962039太白县 0917--4951132凤\\xa0 \\xa0县 0917--4762711宝鸡市应对新型冠状病毒感染肺炎疫情工作领导小组（指挥部）办公室2020年2月4日寻找杨凌人来扶风的密切接触者！2月4日，杨凌示范区郭某某确诊为新型冠状病毒感染的肺炎，为示范区首例确诊病例。该患者家住杨凌松园小区，根据本人初步回忆和调查，现将近期该患者活动轨迹公布如下：1月29日下午3点左右，开车去扶风县绛帐镇牛仓村吊唁，5点左右返回家中。杨陵区疾控中心电话：029—87018815、87012254来源：宝鸡新闻网编辑：高飞赶快来分享关注吖\\n'"
      ]
     },
     "execution_count": 117,
     "metadata": {},
     "output_type": "execute_result"
    }
   ],
   "source": [
    "content"
   ]
  },
  {
   "cell_type": "code",
   "execution_count": 118,
   "metadata": {},
   "outputs": [
    {
     "data": {
      "text/plain": [
       "'宝鸡发布'"
      ]
     },
     "execution_count": 118,
     "metadata": {},
     "output_type": "execute_result"
    }
   ],
   "source": [
    "resource_name"
   ]
  },
  {
   "cell_type": "code",
   "execution_count": null,
   "metadata": {},
   "outputs": [],
   "source": [
    "url = 'https://mp.weixin.qq.com/s/BowMr0k90t8psMKEWMmshQ'\n",
    "site = re.search(r'(https*://)(.+?)(/)',url).group(2)\n",
    "# 用引擎\n",
    "driver.get(url)\n",
    "# sleep(0.2)\n",
    "# try:\n",
    "html =  driver.page_source\n",
    "# except Expection as e:\n",
    "#     return '',''\n",
    "# soup = etree.HTML(html)\n",
    "# name = soup.xpath('//*[@id=\"js_name\"]')\n",
    "# content = soup.xpath('//*[@id=\"js_content\"]')\n",
    "soup = BeautifulSoup(html, 'html.parser')\n",
    "sn,sc = ['#js_name','#js_content']\n",
    "resource_name = soup.select(sn)\n",
    "content_selector = soup.select(sc)[0]\n",
    "content = content_selector.get_text()\n",
    "resource_name = resource_name[0].get_text()\n",
    "resource_name = re.sub(r'[^\\u4e00-\\u9fa5]','',resource_name)\n",
    "\n",
    "# img_list = []\n",
    "# imgs = soup.select(sc)[0].find_all('img')\n",
    "# if len(img)>=1:\n",
    "#     for img in imgs:\n",
    "#         if img['data-type']!='gif':\n",
    "# #             print('add.')\n",
    "#             img_list.append(img['data-src']) \n",
    "    \n",
    "    \n",
    "imglist = []\n",
    "imgs = content_selector.find_all('img')\n",
    "if len(imgs)>=1:\n",
    "    for img in imgs:\n",
    "#         if img['data-type'] !='gif':\n",
    "        imglist.append(img['data-src'])"
   ]
  },
  {
   "cell_type": "code",
   "execution_count": 120,
   "metadata": {},
   "outputs": [
    {
     "data": {
      "text/plain": [
       "['https://mmbiz.qpic.cn/mmbiz/RicPMLX2HvIpU9Bs5S5JWrWCSficvm75xuaia1zPC36XXlJ9LibalZ1mdmqwjDgJOyXkBQPKc6rB9n7G4TDGhiaxOEw/640?wx_fmt=gif']"
      ]
     },
     "execution_count": 120,
     "metadata": {},
     "output_type": "execute_result"
    }
   ],
   "source": [
    "imglist"
   ]
  },
  {
   "cell_type": "code",
   "execution_count": 121,
   "metadata": {},
   "outputs": [
    {
     "data": {
      "text/plain": [
       "'\\n齐鲁晚报官方微信根据各地市卫健委官网信息整理，每天实时更新，敬请关注齐鲁晚报官方微信实时查看。备注：各地市确诊病例详情，可在后台回复“地市名＋确诊”查看，例如：“济南确诊”、“青岛确诊”、“日照确诊”）临沂确诊病例详情如下：2月19日2020年2月19日12—24时，临沂市新增新型冠状病毒肺炎确诊病例1例，治愈出院4例。新增确诊病例为：病例49号：患者彭某某，女，60岁，临沂市沂水县人，家居沂水县院东头镇姚店子村，有疑似病例密切接触史，无武汉旅居史。在隔离观察期间经实验室检测新型冠状病毒核酸为阳性，立即被定点医疗机构隔离治疗，2月19日由疑似病例确诊为新冠肺炎病例，临床普通型，无基础性疾病。正在隔离治疗。截至2月19日24时，临沂市累计确诊病例49例，治愈出院41例。各县区累计确诊病例为兰山区18例、郯城县5例、莒南县6例、平邑县4例、沂南县4例、沂水县4例、费县3例、河东区2例、临沭县2例、兰陵县1例。（省卫生健康委按病例确诊时医院所在县区公布的河东区12例确诊病例，为兰山区6例、河东区2例、郯城县2例、莒南县1例、沂水县1例）。目前累计追踪到密切接触者1433人，共解除医学观察1312人。2月18日2020年2月17日12—24时，临沂市新增新型冠状病毒肺炎确诊病例1例，治愈出院3例。新增确诊病例为：病例48号：患者赵某某，男，38岁，临沂市莒南县人，工作所在地湖北省武汉市洪山区，家居莒南县十字路镇东赤石沟村，有武汉旅居史。在隔离观察期间经实验室检测新型冠状病毒核酸为阳性（无症状），立即被定点医疗机构隔离治疗，2月17日由疑似病例确诊为新冠肺炎病例，临床轻型，无基础性疾病。正在隔离治疗。\\xa0截至2月17日24时，我市累计确诊病例48例，治愈出院35例，现有疑似病例2例。各县区累计确诊病例为兰山区18例、郯城县5例、莒南县6例、平邑县4例、沂南县4例、沂水县3例、费县3例、河东区2例、临沭县2例、兰陵县1例。疑似病例费县1例、沂水1例。（省卫生健康委按病例确诊时医院所在县区公布的河东区11例确诊病例，为兰山区6例、河东区2例、郯城县2例、莒南县1例）。目前累计追踪到密切接触者1413人，共解除医学观察1245人。2月14日2020年2月13日12—24时，临沂市新增新型冠状病毒肺炎确诊病例2例，疑似病例1例，治愈出院1例。新增确诊病例为——病例46号：患者管某某，女，30岁，临沂市平邑县人，工作所在地湖北省武汉市，家居平邑县柏林镇柏林村，有武汉旅居史。在集中隔离观察期间经实验室检测新型冠状病毒核酸为阳性（无症状感染者），立即被定点医疗机构隔离治疗，2月13日由阳性检测（无症状感染者）确诊为新冠肺炎病例，临床普通型，无基础性疾病。正在隔离治疗。病例47号：患者管某某，男，49岁，临沂市人平邑县人，家居平邑县柏林镇柏林村，与确诊病例有密切接触史，无外地旅居史。在集中隔离观察期间经实验室检测新型冠状病毒核酸为阳性（无症状感染者），立即被定点医疗机构隔离治疗，2月13日由阳性检测（无症状感染者）确诊为新冠肺炎病例，临床普通型。正在隔离治疗。截至2月13日24时，我市累计确诊病例47例，治愈出院13例，现有疑似病例1例。各县区累计确诊病例为兰山区18例、郯城县5例、莒南县5例、平邑县4例、沂南县4例、沂水县3例、费县3例、河东区2例、临沭县2例、兰陵县1例。疑似病例莒南县1例（省卫生健康委按病例确诊时医院所在县区公布的河东区10例确诊病例，为兰山区6例、河东区2例、郯城县2例）。目前累计追踪到密切接触者1374人，共解除医学观察1129人。2月11日2020年2月11日12—24时，临沂市新增新型冠状病毒肺炎确诊病例1例，治愈出院1例。新增确诊病例为——病例45：患者柴某某，男，11岁，山东省临沂市人，在武汉市上小学，系之前确诊病例柴某某之子。1月22日随父母从武汉返回郯城县，现居住于郯城县郯城街道龙域中央小区，1月27日安排到集中隔离点进行医学隔离观察，期间新型冠状病毒核酸检测为阳性，随即被定点医疗机构以疑似病例隔离治疗，2月10日由疑似病例确诊为新冠肺炎病例，临床轻型，无基础性疾病，病情稳定。截至2月11日24时，我市累计确诊病例45例，治愈出院10例。各县区累计确诊病例为兰山区18例、郯城县5例、沂南县4例、莒南县5例、沂水县3例、费县3例、河东区2例、平邑县2例、临沭县2例、兰陵县1例。（省卫生健康委按病例确诊时医院所在县区公布的河东区10例确诊病例，为兰山区6例、河东区2例、郯城县2例）。目前累计追踪到密切接触者1336人，共解除医学观察966人。2月10日2020年2月10日12—24时，我市新增新型冠状病毒肺炎确诊病例2例，治愈出院3例。新增2例确诊病例为：病例43：患者林某某，男，54岁，山东省临沂市人，工作所在地山东省临沂市，家居兰山区柳青街道润园小区，与确诊病例有密切接触，无武汉旅居史。2月10日由疑似病例确诊为新冠肺炎病例，临床普通型，无基础性疾病。正在隔离治疗。病例44：患者陈某，女，34岁，山东省临沂市人，居家无职业，现居住于莒南县坪上镇坪上一村，有武汉旅居史。2月10日由疑似病例确诊为新冠肺炎病例，临床轻型，无基础性疾病。正在隔离治疗。截至2月10日24时，我市累计确诊病例44例，治愈出院9例，现有疑似病例1例。各县区累计确诊病例为兰山区18例、郯城县4例、沂南县4例、莒南县5例、沂水县3例、费县3例、河东区2例、平邑县2例、临沭县2例、兰陵县1例。疑似病例郯城1例。（省卫生健康委按病例确诊时医院所在县区公布的河东区10例确诊病例，为兰山区6例、河东区2例、郯城县2例）。目前累计追踪到密切接触者1324人，共解除医学观察892人2月9日2020年2月9日12—24时，临沂新增2例。病例41：患者孟某某，女，40岁，山东省临沂市人，家居临沂市兰山区市水利局家属院，有武汉人员密切接触史，2月9日确定为新冠肺炎确诊病例，临床分型为轻型，正在隔离治疗。病例42：患者孟某某，女，38岁，山东省临沂市人，家居临沂市兰山区五大道住宅区，与确诊病例有密切接触史，2月9日确定为新冠肺炎确诊病例，临床分型为轻型，正在隔离治疗。2月8日2020年2月8日0—12时，临沂新增新型冠状病毒肺炎确诊病例2例，累计确诊病例40例，现有疑似病例5例。各县区累计确诊病例为兰山区15例、郯城县4例、沂南县4例、莒南县4例、沂水县3例、费县3例、河东区2例、临沭县2例、兰陵县1例、平邑县2例。疑似病例兰山区3例、莒南县1例、郯城县1例。（省卫生健康委按病例确诊时医院所在县区公布的河东区10例确诊病例，为兰山区6例、河东区2例、郯城县2例）。新增2例确诊病例为：病例39：患者李某某，男，72岁，居住于兰山区银雀山街道，有外地市确诊病例密切接触史。反复出现发烧、胸闷憋喘等症状，到定点医疗机构就诊随即被隔离治疗。经实验室检测，新型冠状病毒核酸为阳性，目前病情稳定。病例40：患者陈某某，男，56岁，居住于莒南县坪上镇，有武汉返乡确诊病例密切接触史。在隔离观察期间出现发热等症状，随即被120专车接至定点医疗机构隔离治疗。经实验室检测，新型冠状病毒核酸为阳性，目前病情稳定。目前累计追踪到密切接触者1177人，共解除医学观察431人，治愈出院3例。2月7日2020年2月7日12—24时，临沂新增新型冠状病毒感染的肺炎确诊病例3例，累计确诊病例38例，疑似病例7例。各县区累计确诊病例为兰山区14例、郯城县4例、沂水县3例、费县3例、河东区2例、莒南县3例、临沭县2例、沂南县4例、兰陵县1例、平邑县2例。疑似病例兰山区4例、莒南县2例、郯城县1例。（省卫生健康委按病例确诊时医院所在县区公布的河东区9例确诊病例，为兰山区5例、河东区2例、郯城县2例）。新增3例确诊病例为——病例36：患者李某某，男，6岁，居住于沂南县铜井镇。与父母从武汉返回沂南，在隔离观察期间出现发热、咽痛等症状，随即被定点医疗机构隔离治疗。经实验室检测，新型冠状病毒核酸为阳性，目前病情稳定。病例37：患者胡某某，男，40岁，居住于兰山区金雀山街道。为密切接触者发病。在隔离观察期间出现发热、咽痛等症状，随即被定点医疗机构隔离治疗。经实验室检测，新型冠状病毒核酸为阳性，目前病情稳定。病例38：患者王某某，男，32岁，籍贯莒南县板泉镇，有武汉居住史。自武汉返回莒南，在隔离观察期间出现发热等症状，随即被定点医疗机构隔离治疗。经实验室检测，新型冠状病毒核酸为阳性，目前病情稳定。目前累计追踪到密切接触者1177人，共解除医学观察 431人，治愈出院3例。2月6日2020年2月6日12—24时，临沂市新增新型冠状病毒感染的肺炎确诊病例3例，累计确诊病例35例，疑似病例7例。各县区累计确诊病例为兰山区13例、郯城县4例、沂水县3例、费县3例、河东区2例、莒南县2例、临沭县2例、沂南县3例、兰陵县1例、平邑县2例。疑似病例沂南县1例、兰山区3例、莒南县2例、河东区1例。（省卫生健康委按病例确诊时医院所在县区公布的河东区8例确诊病例，为兰山区4例、河东区2例、郯城县2例）。新增3例确诊病例为：病例33:患者庞某，男，33岁，居住于郯城县泉源乡。1月19日从武汉返回郯城，在隔离观察期间出现发烧等症状，随即被定点医疗机构隔离治疗。经实验室检测，新型冠状病毒核酸为阳性，目前病情稳定。病例34：患者周某某，女，33岁，居住于沂南县铜井镇，为确诊病例李某妻子。1月21日从武汉返回沂南，在隔离观察期间出现咳嗽等症状，随即被定点医疗机构隔离治疗。经实验室检测，新型冠状病毒核酸为阳性，目前病情稳定。病例35：患者陈某某，女，75岁，为确诊病例管某某妻子。居住于平邑县柏林镇。在隔离观察期间出现咳嗽等症状，随即被定点医疗机构隔离治疗。经实验室检测，新型冠状病毒核酸为阳性，目前状况稳定。目前累计追踪到密切接触者1078人，共解除医学观察315人，治愈出院3例。2月5日2020年2月5日12—24时，我市新增新型冠状病毒感染的肺炎确诊病例2例，累计确诊病例32例，疑似病例5例。各县区累计确诊病例为兰山区13例、郯城县3例、沂水县3例、费县3例、河东区2例、莒南县2例、临沭县2例、沂南县2例、兰陵县1例、平邑县1例。疑似病例沂南县2例、兰山区1例、郯城县1例、莒南县1例。（省卫生健康委按病例确诊时医院所在县区公布的河东区8例确诊病例，为兰山区4例、河东区2例、郯城县2例）。新增2例确诊病例为：病例31：患者王某某，男，63岁，居住于兰山区兰山街道，为傅某某的密切接触者。在隔离观察期间出现发热等症状，随即被定点医疗机构隔离治疗。经实验室检测，新型冠状病毒核酸为阳性，目前病情稳定。病例32：患者李某，男，32岁，居住于沂南县铜井镇。1月21日从武汉返回沂南，在隔离观察期间出现干咳等症状，随即被定点医疗机构隔离治疗。经实验室检测，新型冠状病毒核酸为阳性，目前病情稳定。目前累计追踪到密切接触者985人，共解除医学观察 183人，治愈出院1例。2月4日2020年2月4日0—12时，我市新增新型冠状病毒感染的肺炎确诊病例1例，累计确诊病例28例，疑似病例6例。各县区累计确诊病例为兰山区11例、郯城县3例、费县3例、河东区2例、沂水县2例、莒南县2例、临沭县2例、沂南县1例、兰陵县1例、平邑县1例。疑似病例沂南县3例、兰山区1例、郯城县1例、沂水县1例。（省卫生健康委按病例确诊时医院所在县区公布的河东区7例确诊病例，为兰山区3例、河东区2例、郯城县2例）。新增1例确诊病例为：病例28：患者管某某，男，79岁，居住于平邑县柏林镇，有与武汉返乡人员密切接触史。2月2日出现发热症状，到医疗机构就诊后随即被隔离治疗。经实验室检测，新型冠状病毒核酸为阳性，目前病情稳定。目前累计追踪到密切接触者715人，共解除医学观察 79人，治愈出院1例。2020年2月4日12—24时，临沂市新增新型冠状病毒感染的肺炎确诊病例2例，累计确诊病例30例，疑似病例6例。各县区累计确诊病例为兰山区12例、郯城县3例、费县3例、河东区2例、沂水县3例、莒南县2例、临沭县2例、沂南县1例、兰陵县1例、平邑县1例。疑似病例沂南县3例、兰山区1例、郯城县1例、莒南县1例。（省卫生健康委按病例确诊时医院所在县区公布的河东区8例确诊病例，为兰山区4例、河东区2例、郯城县2例）。新增确诊病例为：病例29：患者王某，女，23岁，为傅某某的密切接触者。在隔离观察期间出现发热等症状，随即被定点医疗机构隔离治疗。经实验室检测，新型冠状病毒核酸为阳性，目前病情稳定。病例30：患者武某某，男，24岁，居住于沂水县道托镇。1月20日从武汉返回沂水，在隔离观察期间出现发热、干咳等症状，随即被定点医疗机构隔离治疗。经实验室检测，新型冠状病毒核酸为阳性，目前病情稳定。目前累计追踪到密切接触者853人，共解除医学观察93人，治愈出院1例。2月3日2020年2月3日12—24时，临沂市新增新型冠状病毒感染的肺炎确诊病例2例，累计确诊病例27例，疑似病例6例。各县区累计确诊病例为兰山区11例、郯城县3例、费县3例、河东区2例、沂水县2例、莒南县2例、临沭县2例、沂南县1例、兰陵县1例。疑似病例沂南县3例、兰山区1例、郯城县1例、沂水县1例。（省卫生健康委按病例确诊时医院所在县区公布的河东区7例确诊病例，为兰山区3例、河东区2例、郯城县2例）。新增2例确诊病例为：病例26：患者李某某，男，40岁，居住于临沭县临沭街道，有武汉工作史。1月21日从武汉返回临沭，在隔离观察期间出现发热、头痛等症状，随即被定点医疗机构隔离治疗。经实验室检测，新型冠状病毒核酸为阳性，目前病情稳定。病例27：患者朱某某，男，50岁，居住于兰陵县卞庄街道，有武汉出差史。1月23日从武汉返回兰陵，在隔离观察期间出现发热等症状，随即被定点医疗机构隔离治疗。经实验室检测，新型冠状病毒核酸为阳性，目前病情稳定。目前累计追踪到密切接触者715人，共解除医学观察79人，治愈出院1例。截至2020年2月3日12时，临沂新增新型冠状病毒感染的肺炎确诊病例1例，累计确诊病例25例，疑似病例5例。各县区累计确诊病例为兰山区11例、郯城县3例、费县3例、河东区2例、沂水县2例、莒南县2例、沂南县1例、临沭县1例。疑似病例兰山区1例、郯城县1例、兰陵县1例、沂水县1例、临沭1例。（省卫生健康委按病例确诊时医院所在县区公布的河东区7例确诊病例，为兰山区3例、河东区2例、郯城县2例）。新增1例确诊病例为：病例25：患者王某某，男，2岁9个月，居住于费县探沂镇，1月21日随父母从武汉返回费县。在隔离观察期间出现发热症状，经实验室检测，新型冠状病毒核酸为阳性，目前在定点医疗机构隔离治疗，病情稳定。2月1日截至2020年2月1日24时，我市新增新型冠状病毒感染的肺炎确诊病例1例，累计确诊病例24例，疑似病例7例。各县区累计病例为兰山区11例、郯城县3例、河东区2例、费县2例、沂水县2例、莒南县2例、沂南县1例、临沭县1例。疑似病例兰山区2例、兰陵县1例、沂水县1例、平邑县1例、费县1例、临沭1例。（省卫生健康委按病例确诊时医院所在县区公布的河东区7例确诊病例，为兰山区3例、河东区2例、郯城县2例）。新增1例确诊病例为：病例24：患者林某某，女，47岁，居住于兰山区柳青街道，为1月31日确诊的林某某、郑某某的密切接触者。1月24日出现干咳等症状，2月1日经实验室检测，新型冠状病毒核酸为阳性，目前在定点医疗机构隔离治疗，病情稳定。目前累计追踪到密切接触者675人，当日解除医学观察7人。1月31日截至2020年1月31日12时，临沂市新增新型冠状病毒感染的肺炎确诊病例3例。累计确诊病例23例，疑似病例2例。各县区累计病例为兰山区10例、郯城县3例、河东区2例、费县2例、沂水县2例、莒南县2例、沂南县1例、临沭县1例。疑似病例兰山区1例、平邑县1例。（省卫生健康委按病例确诊时医院所在县区公布的河东区5例确诊病例，现收治于市人民医院东医疗区，其中兰山区3例、郯城县2例）。新增3例确诊病例为：病例23：患者刘某某，男，57岁，籍贯莒南县板泉镇，在武汉工作。1月21日自武汉自驾返回莒南，1月29日出现腹泻等症状，由定点医疗机构120救护车转运收治隔离治疗。经实验室检测，新型冠状病毒核酸为阳性，目前病情稳定。病例22：患者林某某，男，51岁，居住于河东区九曲街道，为1月29日确诊的傅某某的密切接触者。经实验室检测，新型冠状病毒核酸为阳性，目前病情稳定。病例21：患者郑某某，女，49岁，居住于河东区九曲街道，与患者林某某为夫妻关系，为1月29日确诊的傅某某的密切接触者。经实验室检测，新型冠状病毒核酸为阳性，目前病情稳定。目前全市累计追踪到的507名密切接触者，正在接受医学观察。1月30日截至2020年1月30日24时，临沂市新增新型冠状病毒感染的肺炎确诊病例4例。累计确诊病例20例，疑似病例2例。各县区累计病例为兰山区10例、郯城县3例、费县2例、沂水县2例、沂南县1例、莒南县1例、临沭县1例。疑似病例兰山区1例、平邑县1例。（省卫生健康委按病例确诊时医院所在县区公布的河东区5例确诊病例，现收治于市人民医院东医疗区，其中兰山区3例、郯城县2例）。新增4例确诊病例为：病例20：患者沈某某，男，39岁，籍贯江苏省连云港市海州区，在武汉工作。1月20日由武汉自驾到临沭探亲，1月28日出现呕吐、发烧等症状，到定点医疗机构发热门诊就诊随即被隔离。经实验室检测，新型冠状病毒核酸为阳性，目前在定点医疗机构隔离治疗，病情稳定。病例19：患者徐某，男，33岁，现居住于沂水县许家湖镇，1月16-19日在北京、泰安等地参加公司年会，1月20日出现发热、干咳等症状，自行到定点医疗机构发热门诊就诊。经实验室检测，新型冠状病毒核酸为阳性，目前在定点医疗机构隔离治疗，病情稳定。病例18：患者王某某，男，34岁，现居住于兰山区兰山街道，有武汉居住史，1月22日由湖北宜昌返回临沂，1月26日出现发热、干咳等症状，到定点医疗机构就诊。经实验室检测，新型冠状病毒核酸为阳性，目前在定点医疗机构隔离治疗，病情稳定。病例17：患者傅某某，为1月29日确诊的傅某某之子，1月29日，疾控机构到其家开展流调、采样事宜时，发现其有发烧等症状，随即联系定点医疗机构接走隔离。经实验室检测，新型冠状病毒核酸为阳性，目前在定点医疗机构隔离治疗，病情稳定。目前全市累计追踪到的474名密切接触者，正在接受医学观察。1月29日2020年1月29日0时—12时，临沂市新增新型冠状病毒感染的肺炎确诊病例1例。新增1例确诊病例为：病例16：患者傅某某，男，51岁，1月21日出现干咳、发烧症状，1月28日独自到临沂市人民医院东医疗区（河东）发热门诊就诊。经实验室检测，新型冠状病毒核酸为阳性，目前在定点医疗机构隔离治疗，病情稳定。目前全市累计追踪到的316名密切接触者，正在接受医学观察。截至2020年1月28日24时：病例15：患者孙某某，男，41岁，现居住于兰山区银雀山街道，1月19日自驾从武汉回临沂途中出现干咳、发烧症状，1月23日下午到临沂市人民医院东医疗区（河东）发热门诊就诊。经实验室检测，新型冠状病毒核酸为阳性，目前在定点医疗机构隔离治疗，病情稳定。病例14：患者徐某，女，38岁，现居住于兰山区银雀山街道，为患者孙某某的密切接触者，隔离期间1月25日出现咽部不适症状，1月26日出现发烧症状。经实验室检测，新型冠状病毒核酸为阳性，目前在定点医疗机构隔离治疗，病情稳定。病例13：患者王某某，男，34岁，现居住于郯城县马头镇，在武汉市打工，1月20日出现干咳症状，1月22日从武汉返乡，1月26日村委会通知其到定点医疗机构查体随即被隔离。经实验室检测，新型冠状病毒核酸为阳性，目前在定点医疗机构隔离治疗，病情稳定。病例12：患者武某某，女，47岁，现居住于武汉市武昌区，1月23日自驾到沂水探亲，1月26日出现发热、乏力等症状，1月27日到医疗机构发热门诊就诊随即被隔离。经实验室检测，新型冠状病毒核酸为阳性，目前在定点医疗机构隔离治疗，病情稳定。病例11：患者王某某，男，33岁，籍贯费县探沂镇，在武汉工作，1月21日从武汉返乡，1月27日出现发烧症状，由定点医疗机构120救护车转运收治隔离治疗。经实验室检测，新型冠状病毒核酸为阳性，目前病情稳定。病例10：患者邵某，女，32岁，籍贯费县探沂镇，在武汉工作，1月21日从武汉返乡，1月27日出现发烧症状，由定点医疗机构120救护车转运收治隔离治疗。经实验室检测，新型冠状病毒核酸为阳性，目前病情稳定。病例9：患者顾某，男，56岁，籍贯沂南县，在武汉工作，1月18日从武汉返乡，24日出现发烧症状，26日出现咳嗽症状，由定点医疗机构120救护车转运收治隔离治疗。经实验室检测，新型冠状病毒核酸为阳性，目前病情稳定。目前全市累计追踪到的292名密切接触者，正在接受医学观察。1月28日截至2020年1月27日24时，临沂市新增新型冠状病毒感染的肺炎确诊病例1例，疑似病例1例，累计确诊病例8例。其中确诊病例按居住地为兰山区5例、郯城县2例、莒南县1例，平邑县疑似病例1例。病例8：柴某某，男，48岁，现居住于郯城县郯城街道，在武汉经商，1月22日自驾回郯城县家中，1月25日出现发热、干咳、胸闷等症状，后到市人民医院东医疗区（河东）发热门诊就诊，经实验室检测，新型冠状病毒核酸为阳性，目前在定点医疗机构隔离治疗。现已对25名密切接触者开展隔离医学观察。1月26日截至2020年1月26日9时，临沂市新增4例新型冠状病毒感染的肺炎确诊病例，累计确诊病例7例，涉及到兰山区、莒南县、郯城县，其中兰山区5例、莒南县1例、郯城县1例。病例7：患者杜某某，男，34岁，居住于郯城县，有武汉出差史，1月20日出现发热、干咳症状，23日到定点医疗机构发热门诊就诊，经实验室检测，新型冠状病毒核酸为阳性，目前在定点医疗机构隔离治疗。现已对20名密切接触者开展隔离医学观察。病例6：患者刘某某，女，67岁，居住于莒南县，1月14日从湖北省武汉市返回莒南县，出现发烧、嗓子嘶哑等症状，23日到定点医疗机构发热门诊就诊，经实验室检测，新型冠状病毒核酸为阳性，目前在定点医疗机构隔离治疗。现已对7名密切接触者开展隔离医学观察。病例5：患者孙某，男，28岁，籍贯湖北省襄樊市，居住于兰山区柳青街道，经过流行病学调查，患者被判定为第4例患者的病例密切接触者，在隔离观察期间，对其采样筛查，经过实验室检测，新型冠状病毒核酸为阳性，目前在定点医疗机构隔离治疗。现已对2名密切接触者开展隔离医学观察。病例4：患者王某某，女，53岁，籍贯湖北省襄樊市，居住于兰山区柳青街道，经过流行病学调查，患者被判定与24日确诊的第3例患者为病例密切接触者，在隔离观察期间，对其采样筛查，经过实验室检测，新型冠状病毒核酸为阳性，目前在定点医疗机构隔离治疗。现已对36名密切接触者开展隔离医学观察。1月25日病例3：临沂市37岁男性患者，湖北省孝感人，与2020年1月23日我市首次报告的两例患者为亲子关系，经过流行病学调查，患者被判定为病例密切接触者，在隔离观察期间，对其采样筛查，经过实验室检测，新型冠状病毒核酸为阳性，目前在定点医疗机构隔离治疗。现已对其密切接触者开展隔离医学观察。1月23日1月22日0—24时，临沂市首次报告2例确诊病例。病例1、2：两位患者为夫妻关系，女性62岁，男性65岁，均为湖北省孝感市人，退休后到临沂市兰山区柳青街道其儿子家中居住，2019年12月29日，夫妻二人返回湖北老家探亲，2020年1月15日返回临沂。2020年1月21日，夫妻二人因发烧到临沂市人民医院就诊，就诊后被收入院隔离治疗。经省、市疾控机构检测，2名患者新型冠状病毒核酸检测结果为阳性。经专家评估确认，该两病例为新型冠状病毒感染的肺炎确诊病例。目前患者生命体征平稳，6名密切接触者正在接受医学隔离观察，无发热等症状。来源：临沂市卫健委官网\\n'"
      ]
     },
     "execution_count": 121,
     "metadata": {},
     "output_type": "execute_result"
    }
   ],
   "source": [
    "content"
   ]
  },
  {
   "cell_type": "code",
   "execution_count": 122,
   "metadata": {},
   "outputs": [
    {
     "data": {
      "text/plain": [
       "'齐鲁晚报'"
      ]
     },
     "execution_count": 122,
     "metadata": {},
     "output_type": "execute_result"
    }
   ],
   "source": [
    "resource_name"
   ]
  },
  {
   "cell_type": "code",
   "execution_count": 125,
   "metadata": {},
   "outputs": [],
   "source": [
    "wx_rules = {\n",
    "    'type':'selector',\n",
    "    'resource':'#js_name',\n",
    "    'content':'#js_content'\n",
    "}"
   ]
  },
  {
   "cell_type": "code",
   "execution_count": 381,
   "metadata": {},
   "outputs": [],
   "source": [
    "def get_resource_content_for_wx(url,driver,rule,img_debug=False):\n",
    "    ''' \n",
    "        input:url,driver,rule  \n",
    "        output:GETHTML\n",
    "    '''\n",
    "#     site = re.search(r'(https*://)(.+?)(/)',url).group(2)\n",
    "#     html =  ''\n",
    "    # 用引擎\n",
    "    driver.get(url)\n",
    "    sleep(0.5)\n",
    "    try:\n",
    "        html =  driver.page_source\n",
    "    except Expection as e:\n",
    "        return '','',[]\n",
    "#     url = 'https://mp.weixin.qq.com/s/BowMr0k90t8psMKEWMmshQ'\n",
    "#     site = re.search(r'(https*://)(.+?)(/)',url).group(2)\n",
    "    # 用引擎\n",
    "#     driver.get(url)\n",
    "    # sleep(0.2)\n",
    "    # try:\n",
    "#     html =  driver.page_source\n",
    "    # except Expection as e:\n",
    "    #     return '',''\n",
    "    # soup = etree.HTML(html)\n",
    "    # name = soup.xpath('//*[@id=\"js_name\"]')\n",
    "    # content = soup.xpath('//*[@id=\"js_content\"]')\n",
    "    soup = BeautifulSoup(html, 'html.parser')\n",
    "    sn,sc = ['#js_name','#js_content']\n",
    "    resource_name = soup.select(sn)\n",
    "    content_selector = soup.select(sc)[0]\n",
    "    content = content_selector.get_text()\n",
    "    resource_name = resource_name[0].get_text()\n",
    "    resource_name = re.sub(r'[^\\u4e00-\\u9fa5]','',resource_name)\n",
    "    imglist = []\n",
    "    imgs = content_selector.find_all('img')\n",
    "    \n",
    "    \n",
    "    if len(imgs)>=1:\n",
    "        for img in imgs:\n",
    "            img_dict = img.attrs\n",
    "            if 'data-type' in img_dict:\n",
    "                if 'gif' in img_dict['data-type']:\n",
    "                    continue\n",
    "                else:\n",
    "                    if 'data-src' in img_dict:\n",
    "                        imglist.append(img_dict['data-src'])\n",
    "                    elif 'src' in img_dict:\n",
    "                        imglist.append(img_dict['src'])\n",
    "    return resource_name,content,imglist"
   ]
  },
  {
   "cell_type": "code",
   "execution_count": 152,
   "metadata": {},
   "outputs": [],
   "source": [
    "r,c,i = get_resource_content_for_wx('https://mp.weixin.qq.com/s/BowMr0k90t8psMKEWMmshQ',driver,wx_rules)"
   ]
  },
  {
   "cell_type": "code",
   "execution_count": 153,
   "metadata": {},
   "outputs": [
    {
     "data": {
      "text/plain": [
       "'齐鲁晚报'"
      ]
     },
     "execution_count": 153,
     "metadata": {},
     "output_type": "execute_result"
    }
   ],
   "source": [
    "r"
   ]
  },
  {
   "cell_type": "code",
   "execution_count": 154,
   "metadata": {},
   "outputs": [
    {
     "data": {
      "text/plain": [
       "'\\n齐鲁晚报官方微信根据各地市卫健委官网信息整理，每天实时更新，敬请关注齐鲁晚报官方微信实时查看。备注：各地市确诊病例详情，可在后台回复“地市名＋确诊”查看，例如：“济南确诊”、“青岛确诊”、“日照确诊”）临沂确诊病例详情如下：2月19日2020年2月19日12—24时，临沂市新增新型冠状病毒肺炎确诊病例1例，治愈出院4例。新增确诊病例为：病例49号：患者彭某某，女，60岁，临沂市沂水县人，家居沂水县院东头镇姚店子村，有疑似病例密切接触史，无武汉旅居史。在隔离观察期间经实验室检测新型冠状病毒核酸为阳性，立即被定点医疗机构隔离治疗，2月19日由疑似病例确诊为新冠肺炎病例，临床普通型，无基础性疾病。正在隔离治疗。截至2月19日24时，临沂市累计确诊病例49例，治愈出院41例。各县区累计确诊病例为兰山区18例、郯城县5例、莒南县6例、平邑县4例、沂南县4例、沂水县4例、费县3例、河东区2例、临沭县2例、兰陵县1例。（省卫生健康委按病例确诊时医院所在县区公布的河东区12例确诊病例，为兰山区6例、河东区2例、郯城县2例、莒南县1例、沂水县1例）。目前累计追踪到密切接触者1433人，共解除医学观察1312人。2月18日2020年2月17日12—24时，临沂市新增新型冠状病毒肺炎确诊病例1例，治愈出院3例。新增确诊病例为：病例48号：患者赵某某，男，38岁，临沂市莒南县人，工作所在地湖北省武汉市洪山区，家居莒南县十字路镇东赤石沟村，有武汉旅居史。在隔离观察期间经实验室检测新型冠状病毒核酸为阳性（无症状），立即被定点医疗机构隔离治疗，2月17日由疑似病例确诊为新冠肺炎病例，临床轻型，无基础性疾病。正在隔离治疗。\\xa0截至2月17日24时，我市累计确诊病例48例，治愈出院35例，现有疑似病例2例。各县区累计确诊病例为兰山区18例、郯城县5例、莒南县6例、平邑县4例、沂南县4例、沂水县3例、费县3例、河东区2例、临沭县2例、兰陵县1例。疑似病例费县1例、沂水1例。（省卫生健康委按病例确诊时医院所在县区公布的河东区11例确诊病例，为兰山区6例、河东区2例、郯城县2例、莒南县1例）。目前累计追踪到密切接触者1413人，共解除医学观察1245人。2月14日2020年2月13日12—24时，临沂市新增新型冠状病毒肺炎确诊病例2例，疑似病例1例，治愈出院1例。新增确诊病例为——病例46号：患者管某某，女，30岁，临沂市平邑县人，工作所在地湖北省武汉市，家居平邑县柏林镇柏林村，有武汉旅居史。在集中隔离观察期间经实验室检测新型冠状病毒核酸为阳性（无症状感染者），立即被定点医疗机构隔离治疗，2月13日由阳性检测（无症状感染者）确诊为新冠肺炎病例，临床普通型，无基础性疾病。正在隔离治疗。病例47号：患者管某某，男，49岁，临沂市人平邑县人，家居平邑县柏林镇柏林村，与确诊病例有密切接触史，无外地旅居史。在集中隔离观察期间经实验室检测新型冠状病毒核酸为阳性（无症状感染者），立即被定点医疗机构隔离治疗，2月13日由阳性检测（无症状感染者）确诊为新冠肺炎病例，临床普通型。正在隔离治疗。截至2月13日24时，我市累计确诊病例47例，治愈出院13例，现有疑似病例1例。各县区累计确诊病例为兰山区18例、郯城县5例、莒南县5例、平邑县4例、沂南县4例、沂水县3例、费县3例、河东区2例、临沭县2例、兰陵县1例。疑似病例莒南县1例（省卫生健康委按病例确诊时医院所在县区公布的河东区10例确诊病例，为兰山区6例、河东区2例、郯城县2例）。目前累计追踪到密切接触者1374人，共解除医学观察1129人。2月11日2020年2月11日12—24时，临沂市新增新型冠状病毒肺炎确诊病例1例，治愈出院1例。新增确诊病例为——病例45：患者柴某某，男，11岁，山东省临沂市人，在武汉市上小学，系之前确诊病例柴某某之子。1月22日随父母从武汉返回郯城县，现居住于郯城县郯城街道龙域中央小区，1月27日安排到集中隔离点进行医学隔离观察，期间新型冠状病毒核酸检测为阳性，随即被定点医疗机构以疑似病例隔离治疗，2月10日由疑似病例确诊为新冠肺炎病例，临床轻型，无基础性疾病，病情稳定。截至2月11日24时，我市累计确诊病例45例，治愈出院10例。各县区累计确诊病例为兰山区18例、郯城县5例、沂南县4例、莒南县5例、沂水县3例、费县3例、河东区2例、平邑县2例、临沭县2例、兰陵县1例。（省卫生健康委按病例确诊时医院所在县区公布的河东区10例确诊病例，为兰山区6例、河东区2例、郯城县2例）。目前累计追踪到密切接触者1336人，共解除医学观察966人。2月10日2020年2月10日12—24时，我市新增新型冠状病毒肺炎确诊病例2例，治愈出院3例。新增2例确诊病例为：病例43：患者林某某，男，54岁，山东省临沂市人，工作所在地山东省临沂市，家居兰山区柳青街道润园小区，与确诊病例有密切接触，无武汉旅居史。2月10日由疑似病例确诊为新冠肺炎病例，临床普通型，无基础性疾病。正在隔离治疗。病例44：患者陈某，女，34岁，山东省临沂市人，居家无职业，现居住于莒南县坪上镇坪上一村，有武汉旅居史。2月10日由疑似病例确诊为新冠肺炎病例，临床轻型，无基础性疾病。正在隔离治疗。截至2月10日24时，我市累计确诊病例44例，治愈出院9例，现有疑似病例1例。各县区累计确诊病例为兰山区18例、郯城县4例、沂南县4例、莒南县5例、沂水县3例、费县3例、河东区2例、平邑县2例、临沭县2例、兰陵县1例。疑似病例郯城1例。（省卫生健康委按病例确诊时医院所在县区公布的河东区10例确诊病例，为兰山区6例、河东区2例、郯城县2例）。目前累计追踪到密切接触者1324人，共解除医学观察892人2月9日2020年2月9日12—24时，临沂新增2例。病例41：患者孟某某，女，40岁，山东省临沂市人，家居临沂市兰山区市水利局家属院，有武汉人员密切接触史，2月9日确定为新冠肺炎确诊病例，临床分型为轻型，正在隔离治疗。病例42：患者孟某某，女，38岁，山东省临沂市人，家居临沂市兰山区五大道住宅区，与确诊病例有密切接触史，2月9日确定为新冠肺炎确诊病例，临床分型为轻型，正在隔离治疗。2月8日2020年2月8日0—12时，临沂新增新型冠状病毒肺炎确诊病例2例，累计确诊病例40例，现有疑似病例5例。各县区累计确诊病例为兰山区15例、郯城县4例、沂南县4例、莒南县4例、沂水县3例、费县3例、河东区2例、临沭县2例、兰陵县1例、平邑县2例。疑似病例兰山区3例、莒南县1例、郯城县1例。（省卫生健康委按病例确诊时医院所在县区公布的河东区10例确诊病例，为兰山区6例、河东区2例、郯城县2例）。新增2例确诊病例为：病例39：患者李某某，男，72岁，居住于兰山区银雀山街道，有外地市确诊病例密切接触史。反复出现发烧、胸闷憋喘等症状，到定点医疗机构就诊随即被隔离治疗。经实验室检测，新型冠状病毒核酸为阳性，目前病情稳定。病例40：患者陈某某，男，56岁，居住于莒南县坪上镇，有武汉返乡确诊病例密切接触史。在隔离观察期间出现发热等症状，随即被120专车接至定点医疗机构隔离治疗。经实验室检测，新型冠状病毒核酸为阳性，目前病情稳定。目前累计追踪到密切接触者1177人，共解除医学观察431人，治愈出院3例。2月7日2020年2月7日12—24时，临沂新增新型冠状病毒感染的肺炎确诊病例3例，累计确诊病例38例，疑似病例7例。各县区累计确诊病例为兰山区14例、郯城县4例、沂水县3例、费县3例、河东区2例、莒南县3例、临沭县2例、沂南县4例、兰陵县1例、平邑县2例。疑似病例兰山区4例、莒南县2例、郯城县1例。（省卫生健康委按病例确诊时医院所在县区公布的河东区9例确诊病例，为兰山区5例、河东区2例、郯城县2例）。新增3例确诊病例为——病例36：患者李某某，男，6岁，居住于沂南县铜井镇。与父母从武汉返回沂南，在隔离观察期间出现发热、咽痛等症状，随即被定点医疗机构隔离治疗。经实验室检测，新型冠状病毒核酸为阳性，目前病情稳定。病例37：患者胡某某，男，40岁，居住于兰山区金雀山街道。为密切接触者发病。在隔离观察期间出现发热、咽痛等症状，随即被定点医疗机构隔离治疗。经实验室检测，新型冠状病毒核酸为阳性，目前病情稳定。病例38：患者王某某，男，32岁，籍贯莒南县板泉镇，有武汉居住史。自武汉返回莒南，在隔离观察期间出现发热等症状，随即被定点医疗机构隔离治疗。经实验室检测，新型冠状病毒核酸为阳性，目前病情稳定。目前累计追踪到密切接触者1177人，共解除医学观察 431人，治愈出院3例。2月6日2020年2月6日12—24时，临沂市新增新型冠状病毒感染的肺炎确诊病例3例，累计确诊病例35例，疑似病例7例。各县区累计确诊病例为兰山区13例、郯城县4例、沂水县3例、费县3例、河东区2例、莒南县2例、临沭县2例、沂南县3例、兰陵县1例、平邑县2例。疑似病例沂南县1例、兰山区3例、莒南县2例、河东区1例。（省卫生健康委按病例确诊时医院所在县区公布的河东区8例确诊病例，为兰山区4例、河东区2例、郯城县2例）。新增3例确诊病例为：病例33:患者庞某，男，33岁，居住于郯城县泉源乡。1月19日从武汉返回郯城，在隔离观察期间出现发烧等症状，随即被定点医疗机构隔离治疗。经实验室检测，新型冠状病毒核酸为阳性，目前病情稳定。病例34：患者周某某，女，33岁，居住于沂南县铜井镇，为确诊病例李某妻子。1月21日从武汉返回沂南，在隔离观察期间出现咳嗽等症状，随即被定点医疗机构隔离治疗。经实验室检测，新型冠状病毒核酸为阳性，目前病情稳定。病例35：患者陈某某，女，75岁，为确诊病例管某某妻子。居住于平邑县柏林镇。在隔离观察期间出现咳嗽等症状，随即被定点医疗机构隔离治疗。经实验室检测，新型冠状病毒核酸为阳性，目前状况稳定。目前累计追踪到密切接触者1078人，共解除医学观察315人，治愈出院3例。2月5日2020年2月5日12—24时，我市新增新型冠状病毒感染的肺炎确诊病例2例，累计确诊病例32例，疑似病例5例。各县区累计确诊病例为兰山区13例、郯城县3例、沂水县3例、费县3例、河东区2例、莒南县2例、临沭县2例、沂南县2例、兰陵县1例、平邑县1例。疑似病例沂南县2例、兰山区1例、郯城县1例、莒南县1例。（省卫生健康委按病例确诊时医院所在县区公布的河东区8例确诊病例，为兰山区4例、河东区2例、郯城县2例）。新增2例确诊病例为：病例31：患者王某某，男，63岁，居住于兰山区兰山街道，为傅某某的密切接触者。在隔离观察期间出现发热等症状，随即被定点医疗机构隔离治疗。经实验室检测，新型冠状病毒核酸为阳性，目前病情稳定。病例32：患者李某，男，32岁，居住于沂南县铜井镇。1月21日从武汉返回沂南，在隔离观察期间出现干咳等症状，随即被定点医疗机构隔离治疗。经实验室检测，新型冠状病毒核酸为阳性，目前病情稳定。目前累计追踪到密切接触者985人，共解除医学观察 183人，治愈出院1例。2月4日2020年2月4日0—12时，我市新增新型冠状病毒感染的肺炎确诊病例1例，累计确诊病例28例，疑似病例6例。各县区累计确诊病例为兰山区11例、郯城县3例、费县3例、河东区2例、沂水县2例、莒南县2例、临沭县2例、沂南县1例、兰陵县1例、平邑县1例。疑似病例沂南县3例、兰山区1例、郯城县1例、沂水县1例。（省卫生健康委按病例确诊时医院所在县区公布的河东区7例确诊病例，为兰山区3例、河东区2例、郯城县2例）。新增1例确诊病例为：病例28：患者管某某，男，79岁，居住于平邑县柏林镇，有与武汉返乡人员密切接触史。2月2日出现发热症状，到医疗机构就诊后随即被隔离治疗。经实验室检测，新型冠状病毒核酸为阳性，目前病情稳定。目前累计追踪到密切接触者715人，共解除医学观察 79人，治愈出院1例。2020年2月4日12—24时，临沂市新增新型冠状病毒感染的肺炎确诊病例2例，累计确诊病例30例，疑似病例6例。各县区累计确诊病例为兰山区12例、郯城县3例、费县3例、河东区2例、沂水县3例、莒南县2例、临沭县2例、沂南县1例、兰陵县1例、平邑县1例。疑似病例沂南县3例、兰山区1例、郯城县1例、莒南县1例。（省卫生健康委按病例确诊时医院所在县区公布的河东区8例确诊病例，为兰山区4例、河东区2例、郯城县2例）。新增确诊病例为：病例29：患者王某，女，23岁，为傅某某的密切接触者。在隔离观察期间出现发热等症状，随即被定点医疗机构隔离治疗。经实验室检测，新型冠状病毒核酸为阳性，目前病情稳定。病例30：患者武某某，男，24岁，居住于沂水县道托镇。1月20日从武汉返回沂水，在隔离观察期间出现发热、干咳等症状，随即被定点医疗机构隔离治疗。经实验室检测，新型冠状病毒核酸为阳性，目前病情稳定。目前累计追踪到密切接触者853人，共解除医学观察93人，治愈出院1例。2月3日2020年2月3日12—24时，临沂市新增新型冠状病毒感染的肺炎确诊病例2例，累计确诊病例27例，疑似病例6例。各县区累计确诊病例为兰山区11例、郯城县3例、费县3例、河东区2例、沂水县2例、莒南县2例、临沭县2例、沂南县1例、兰陵县1例。疑似病例沂南县3例、兰山区1例、郯城县1例、沂水县1例。（省卫生健康委按病例确诊时医院所在县区公布的河东区7例确诊病例，为兰山区3例、河东区2例、郯城县2例）。新增2例确诊病例为：病例26：患者李某某，男，40岁，居住于临沭县临沭街道，有武汉工作史。1月21日从武汉返回临沭，在隔离观察期间出现发热、头痛等症状，随即被定点医疗机构隔离治疗。经实验室检测，新型冠状病毒核酸为阳性，目前病情稳定。病例27：患者朱某某，男，50岁，居住于兰陵县卞庄街道，有武汉出差史。1月23日从武汉返回兰陵，在隔离观察期间出现发热等症状，随即被定点医疗机构隔离治疗。经实验室检测，新型冠状病毒核酸为阳性，目前病情稳定。目前累计追踪到密切接触者715人，共解除医学观察79人，治愈出院1例。截至2020年2月3日12时，临沂新增新型冠状病毒感染的肺炎确诊病例1例，累计确诊病例25例，疑似病例5例。各县区累计确诊病例为兰山区11例、郯城县3例、费县3例、河东区2例、沂水县2例、莒南县2例、沂南县1例、临沭县1例。疑似病例兰山区1例、郯城县1例、兰陵县1例、沂水县1例、临沭1例。（省卫生健康委按病例确诊时医院所在县区公布的河东区7例确诊病例，为兰山区3例、河东区2例、郯城县2例）。新增1例确诊病例为：病例25：患者王某某，男，2岁9个月，居住于费县探沂镇，1月21日随父母从武汉返回费县。在隔离观察期间出现发热症状，经实验室检测，新型冠状病毒核酸为阳性，目前在定点医疗机构隔离治疗，病情稳定。2月1日截至2020年2月1日24时，我市新增新型冠状病毒感染的肺炎确诊病例1例，累计确诊病例24例，疑似病例7例。各县区累计病例为兰山区11例、郯城县3例、河东区2例、费县2例、沂水县2例、莒南县2例、沂南县1例、临沭县1例。疑似病例兰山区2例、兰陵县1例、沂水县1例、平邑县1例、费县1例、临沭1例。（省卫生健康委按病例确诊时医院所在县区公布的河东区7例确诊病例，为兰山区3例、河东区2例、郯城县2例）。新增1例确诊病例为：病例24：患者林某某，女，47岁，居住于兰山区柳青街道，为1月31日确诊的林某某、郑某某的密切接触者。1月24日出现干咳等症状，2月1日经实验室检测，新型冠状病毒核酸为阳性，目前在定点医疗机构隔离治疗，病情稳定。目前累计追踪到密切接触者675人，当日解除医学观察7人。1月31日截至2020年1月31日12时，临沂市新增新型冠状病毒感染的肺炎确诊病例3例。累计确诊病例23例，疑似病例2例。各县区累计病例为兰山区10例、郯城县3例、河东区2例、费县2例、沂水县2例、莒南县2例、沂南县1例、临沭县1例。疑似病例兰山区1例、平邑县1例。（省卫生健康委按病例确诊时医院所在县区公布的河东区5例确诊病例，现收治于市人民医院东医疗区，其中兰山区3例、郯城县2例）。新增3例确诊病例为：病例23：患者刘某某，男，57岁，籍贯莒南县板泉镇，在武汉工作。1月21日自武汉自驾返回莒南，1月29日出现腹泻等症状，由定点医疗机构120救护车转运收治隔离治疗。经实验室检测，新型冠状病毒核酸为阳性，目前病情稳定。病例22：患者林某某，男，51岁，居住于河东区九曲街道，为1月29日确诊的傅某某的密切接触者。经实验室检测，新型冠状病毒核酸为阳性，目前病情稳定。病例21：患者郑某某，女，49岁，居住于河东区九曲街道，与患者林某某为夫妻关系，为1月29日确诊的傅某某的密切接触者。经实验室检测，新型冠状病毒核酸为阳性，目前病情稳定。目前全市累计追踪到的507名密切接触者，正在接受医学观察。1月30日截至2020年1月30日24时，临沂市新增新型冠状病毒感染的肺炎确诊病例4例。累计确诊病例20例，疑似病例2例。各县区累计病例为兰山区10例、郯城县3例、费县2例、沂水县2例、沂南县1例、莒南县1例、临沭县1例。疑似病例兰山区1例、平邑县1例。（省卫生健康委按病例确诊时医院所在县区公布的河东区5例确诊病例，现收治于市人民医院东医疗区，其中兰山区3例、郯城县2例）。新增4例确诊病例为：病例20：患者沈某某，男，39岁，籍贯江苏省连云港市海州区，在武汉工作。1月20日由武汉自驾到临沭探亲，1月28日出现呕吐、发烧等症状，到定点医疗机构发热门诊就诊随即被隔离。经实验室检测，新型冠状病毒核酸为阳性，目前在定点医疗机构隔离治疗，病情稳定。病例19：患者徐某，男，33岁，现居住于沂水县许家湖镇，1月16-19日在北京、泰安等地参加公司年会，1月20日出现发热、干咳等症状，自行到定点医疗机构发热门诊就诊。经实验室检测，新型冠状病毒核酸为阳性，目前在定点医疗机构隔离治疗，病情稳定。病例18：患者王某某，男，34岁，现居住于兰山区兰山街道，有武汉居住史，1月22日由湖北宜昌返回临沂，1月26日出现发热、干咳等症状，到定点医疗机构就诊。经实验室检测，新型冠状病毒核酸为阳性，目前在定点医疗机构隔离治疗，病情稳定。病例17：患者傅某某，为1月29日确诊的傅某某之子，1月29日，疾控机构到其家开展流调、采样事宜时，发现其有发烧等症状，随即联系定点医疗机构接走隔离。经实验室检测，新型冠状病毒核酸为阳性，目前在定点医疗机构隔离治疗，病情稳定。目前全市累计追踪到的474名密切接触者，正在接受医学观察。1月29日2020年1月29日0时—12时，临沂市新增新型冠状病毒感染的肺炎确诊病例1例。新增1例确诊病例为：病例16：患者傅某某，男，51岁，1月21日出现干咳、发烧症状，1月28日独自到临沂市人民医院东医疗区（河东）发热门诊就诊。经实验室检测，新型冠状病毒核酸为阳性，目前在定点医疗机构隔离治疗，病情稳定。目前全市累计追踪到的316名密切接触者，正在接受医学观察。截至2020年1月28日24时：病例15：患者孙某某，男，41岁，现居住于兰山区银雀山街道，1月19日自驾从武汉回临沂途中出现干咳、发烧症状，1月23日下午到临沂市人民医院东医疗区（河东）发热门诊就诊。经实验室检测，新型冠状病毒核酸为阳性，目前在定点医疗机构隔离治疗，病情稳定。病例14：患者徐某，女，38岁，现居住于兰山区银雀山街道，为患者孙某某的密切接触者，隔离期间1月25日出现咽部不适症状，1月26日出现发烧症状。经实验室检测，新型冠状病毒核酸为阳性，目前在定点医疗机构隔离治疗，病情稳定。病例13：患者王某某，男，34岁，现居住于郯城县马头镇，在武汉市打工，1月20日出现干咳症状，1月22日从武汉返乡，1月26日村委会通知其到定点医疗机构查体随即被隔离。经实验室检测，新型冠状病毒核酸为阳性，目前在定点医疗机构隔离治疗，病情稳定。病例12：患者武某某，女，47岁，现居住于武汉市武昌区，1月23日自驾到沂水探亲，1月26日出现发热、乏力等症状，1月27日到医疗机构发热门诊就诊随即被隔离。经实验室检测，新型冠状病毒核酸为阳性，目前在定点医疗机构隔离治疗，病情稳定。病例11：患者王某某，男，33岁，籍贯费县探沂镇，在武汉工作，1月21日从武汉返乡，1月27日出现发烧症状，由定点医疗机构120救护车转运收治隔离治疗。经实验室检测，新型冠状病毒核酸为阳性，目前病情稳定。病例10：患者邵某，女，32岁，籍贯费县探沂镇，在武汉工作，1月21日从武汉返乡，1月27日出现发烧症状，由定点医疗机构120救护车转运收治隔离治疗。经实验室检测，新型冠状病毒核酸为阳性，目前病情稳定。病例9：患者顾某，男，56岁，籍贯沂南县，在武汉工作，1月18日从武汉返乡，24日出现发烧症状，26日出现咳嗽症状，由定点医疗机构120救护车转运收治隔离治疗。经实验室检测，新型冠状病毒核酸为阳性，目前病情稳定。目前全市累计追踪到的292名密切接触者，正在接受医学观察。1月28日截至2020年1月27日24时，临沂市新增新型冠状病毒感染的肺炎确诊病例1例，疑似病例1例，累计确诊病例8例。其中确诊病例按居住地为兰山区5例、郯城县2例、莒南县1例，平邑县疑似病例1例。病例8：柴某某，男，48岁，现居住于郯城县郯城街道，在武汉经商，1月22日自驾回郯城县家中，1月25日出现发热、干咳、胸闷等症状，后到市人民医院东医疗区（河东）发热门诊就诊，经实验室检测，新型冠状病毒核酸为阳性，目前在定点医疗机构隔离治疗。现已对25名密切接触者开展隔离医学观察。1月26日截至2020年1月26日9时，临沂市新增4例新型冠状病毒感染的肺炎确诊病例，累计确诊病例7例，涉及到兰山区、莒南县、郯城县，其中兰山区5例、莒南县1例、郯城县1例。病例7：患者杜某某，男，34岁，居住于郯城县，有武汉出差史，1月20日出现发热、干咳症状，23日到定点医疗机构发热门诊就诊，经实验室检测，新型冠状病毒核酸为阳性，目前在定点医疗机构隔离治疗。现已对20名密切接触者开展隔离医学观察。病例6：患者刘某某，女，67岁，居住于莒南县，1月14日从湖北省武汉市返回莒南县，出现发烧、嗓子嘶哑等症状，23日到定点医疗机构发热门诊就诊，经实验室检测，新型冠状病毒核酸为阳性，目前在定点医疗机构隔离治疗。现已对7名密切接触者开展隔离医学观察。病例5：患者孙某，男，28岁，籍贯湖北省襄樊市，居住于兰山区柳青街道，经过流行病学调查，患者被判定为第4例患者的病例密切接触者，在隔离观察期间，对其采样筛查，经过实验室检测，新型冠状病毒核酸为阳性，目前在定点医疗机构隔离治疗。现已对2名密切接触者开展隔离医学观察。病例4：患者王某某，女，53岁，籍贯湖北省襄樊市，居住于兰山区柳青街道，经过流行病学调查，患者被判定与24日确诊的第3例患者为病例密切接触者，在隔离观察期间，对其采样筛查，经过实验室检测，新型冠状病毒核酸为阳性，目前在定点医疗机构隔离治疗。现已对36名密切接触者开展隔离医学观察。1月25日病例3：临沂市37岁男性患者，湖北省孝感人，与2020年1月23日我市首次报告的两例患者为亲子关系，经过流行病学调查，患者被判定为病例密切接触者，在隔离观察期间，对其采样筛查，经过实验室检测，新型冠状病毒核酸为阳性，目前在定点医疗机构隔离治疗。现已对其密切接触者开展隔离医学观察。1月23日1月22日0—24时，临沂市首次报告2例确诊病例。病例1、2：两位患者为夫妻关系，女性62岁，男性65岁，均为湖北省孝感市人，退休后到临沂市兰山区柳青街道其儿子家中居住，2019年12月29日，夫妻二人返回湖北老家探亲，2020年1月15日返回临沂。2020年1月21日，夫妻二人因发烧到临沂市人民医院就诊，就诊后被收入院隔离治疗。经省、市疾控机构检测，2名患者新型冠状病毒核酸检测结果为阳性。经专家评估确认，该两病例为新型冠状病毒感染的肺炎确诊病例。目前患者生命体征平稳，6名密切接触者正在接受医学隔离观察，无发热等症状。来源：临沂市卫健委官网\\n'"
      ]
     },
     "execution_count": 154,
     "metadata": {},
     "output_type": "execute_result"
    }
   ],
   "source": [
    "c"
   ]
  },
  {
   "cell_type": "code",
   "execution_count": 248,
   "metadata": {},
   "outputs": [
    {
     "data": {
      "text/html": [
       "<div>\n",
       "<style scoped>\n",
       "    .dataframe tbody tr th:only-of-type {\n",
       "        vertical-align: middle;\n",
       "    }\n",
       "\n",
       "    .dataframe tbody tr th {\n",
       "        vertical-align: top;\n",
       "    }\n",
       "\n",
       "    .dataframe thead th {\n",
       "        text-align: right;\n",
       "    }\n",
       "</style>\n",
       "<table border=\"1\" class=\"dataframe\">\n",
       "  <thead>\n",
       "    <tr style=\"text-align: right;\">\n",
       "      <th></th>\n",
       "      <th>url</th>\n",
       "    </tr>\n",
       "  </thead>\n",
       "  <tbody>\n",
       "    <tr>\n",
       "      <th>0</th>\n",
       "      <td>https://mp.weixin.qq.com/s/HTsNM1zxEAx3IqoF1uYnYA</td>\n",
       "    </tr>\n",
       "    <tr>\n",
       "      <th>1</th>\n",
       "      <td>http://hc.nc.gov.cn/ncwjw/gzdt/202002/b5cf8972...</td>\n",
       "    </tr>\n",
       "    <tr>\n",
       "      <th>2</th>\n",
       "      <td>http://m.ha.bendibao.com/mip/1636.shtm</td>\n",
       "    </tr>\n",
       "    <tr>\n",
       "      <th>3</th>\n",
       "      <td>http://news.gxnews.com.cn/staticpages/20200209...</td>\n",
       "    </tr>\n",
       "    <tr>\n",
       "      <th>4</th>\n",
       "      <td>http://o.xiancity.cn/system/2020/02/09/0307133...</td>\n",
       "    </tr>\n",
       "    <tr>\n",
       "      <th>...</th>\n",
       "      <td>...</td>\n",
       "    </tr>\n",
       "    <tr>\n",
       "      <th>181</th>\n",
       "      <td>https://mp.weixin.qq.com/s/zOGzJVviegMaLRE8tuiLRw</td>\n",
       "    </tr>\n",
       "    <tr>\n",
       "      <th>182</th>\n",
       "      <td>https://weibo.com/7129811001/IrH6peQ3d?from=pa...</td>\n",
       "    </tr>\n",
       "    <tr>\n",
       "      <th>183</th>\n",
       "      <td>https://weibo.com/7129811001/IssWHlJzw?from=pa...</td>\n",
       "    </tr>\n",
       "    <tr>\n",
       "      <th>184</th>\n",
       "      <td>https://weibo.com/7129811001/ItKAzr93p?from=pa...</td>\n",
       "    </tr>\n",
       "    <tr>\n",
       "      <th>185</th>\n",
       "      <td>https://mp.weixin.qq.com/s/URJDtNlB8jOnsmdH17VjXA</td>\n",
       "    </tr>\n",
       "  </tbody>\n",
       "</table>\n",
       "<p>186 rows × 1 columns</p>\n",
       "</div>"
      ],
      "text/plain": [
       "                                                   url\n",
       "0    https://mp.weixin.qq.com/s/HTsNM1zxEAx3IqoF1uYnYA\n",
       "1    http://hc.nc.gov.cn/ncwjw/gzdt/202002/b5cf8972...\n",
       "2               http://m.ha.bendibao.com/mip/1636.shtm\n",
       "3    http://news.gxnews.com.cn/staticpages/20200209...\n",
       "4    http://o.xiancity.cn/system/2020/02/09/0307133...\n",
       "..                                                 ...\n",
       "181  https://mp.weixin.qq.com/s/zOGzJVviegMaLRE8tuiLRw\n",
       "182  https://weibo.com/7129811001/IrH6peQ3d?from=pa...\n",
       "183  https://weibo.com/7129811001/IssWHlJzw?from=pa...\n",
       "184  https://weibo.com/7129811001/ItKAzr93p?from=pa...\n",
       "185  https://mp.weixin.qq.com/s/URJDtNlB8jOnsmdH17VjXA\n",
       "\n",
       "[186 rows x 1 columns]"
      ]
     },
     "execution_count": 248,
     "metadata": {},
     "output_type": "execute_result"
    }
   ],
   "source": [
    "good_url"
   ]
  },
  {
   "cell_type": "code",
   "execution_count": 258,
   "metadata": {},
   "outputs": [],
   "source": [
    "wx_host = 'mp.weixin.qq.com'\n",
    "wx_extract = {\n",
    "    'url':[],\n",
    "    'content':[],\n",
    "    'resource':[],\n",
    "    'imgs_url':[]\n",
    "}\n",
    "# weixin_url = good_url['url'][wx_host in good_url['url']]\n",
    "# weixin_url = good_url['url'][wx_host in good_url['url']]\n",
    "for url in good_url['url']:\n",
    "    if wx_host in url:\n",
    "        wx_extract['url'].append(url)\n",
    "        r,c,i = get_resource_content_for_wx(url,driver,wx_rules)\n",
    "        wx_extract['resource'].append(r)\n",
    "        wx_extract['content'].append(c)\n",
    "        wx_extract['imgs_url'].append(i)\n",
    "        \n",
    "wx_extract = pd.DataFrame(wx_extract)\n",
    "# good_url\n",
    "wx_extract.to_csv('./wx_extract.csv')"
   ]
  },
  {
   "cell_type": "code",
   "execution_count": 259,
   "metadata": {},
   "outputs": [
    {
     "data": {
      "text/html": [
       "<div>\n",
       "<style scoped>\n",
       "    .dataframe tbody tr th:only-of-type {\n",
       "        vertical-align: middle;\n",
       "    }\n",
       "\n",
       "    .dataframe tbody tr th {\n",
       "        vertical-align: top;\n",
       "    }\n",
       "\n",
       "    .dataframe thead th {\n",
       "        text-align: right;\n",
       "    }\n",
       "</style>\n",
       "<table border=\"1\" class=\"dataframe\">\n",
       "  <thead>\n",
       "    <tr style=\"text-align: right;\">\n",
       "      <th></th>\n",
       "      <th>url</th>\n",
       "      <th>content</th>\n",
       "      <th>resource</th>\n",
       "      <th>imgs_url</th>\n",
       "    </tr>\n",
       "  </thead>\n",
       "  <tbody>\n",
       "    <tr>\n",
       "      <th>0</th>\n",
       "      <td>https://mp.weixin.qq.com/s/HTsNM1zxEAx3IqoF1uYnYA</td>\n",
       "      <td>\\n最新消息2月14日上午，省卫健委公布2月13日0－24时肇庆市新增1例新冠肺炎确诊病例。...</td>\n",
       "      <td>健康肇庆</td>\n",
       "      <td>[https://mmbiz.qpic.cn/mmbiz_jpg/z2KVp01hujFYO...</td>\n",
       "    </tr>\n",
       "    <tr>\n",
       "      <th>1</th>\n",
       "      <td>https://mp.weixin.qq.com/s/03w_HdZGypbtAG33jikquw</td>\n",
       "      <td>\\n今天上午，中山市人民政府新闻办公室组织召开市疫情防控工作第14场新闻发布会。市卫生健康局...</td>\n",
       "      <td>中山发布</td>\n",
       "      <td>[https://mmbiz.qpic.cn/mmbiz_jpg/jL1hNwBkicA21...</td>\n",
       "    </tr>\n",
       "    <tr>\n",
       "      <th>2</th>\n",
       "      <td>https://mp.weixin.qq.com/s/0xihh12dgBBxbfozR6fnNg</td>\n",
       "      <td>\\n今天上午，中山市人民政府新闻办公室组织召开市疫情防控工作第23场新闻发布会。市卫生健康局...</td>\n",
       "      <td>中山发布</td>\n",
       "      <td>[https://mmbiz.qpic.cn/mmbiz_png/jL1hNwBkicA29...</td>\n",
       "    </tr>\n",
       "    <tr>\n",
       "      <th>3</th>\n",
       "      <td>https://mp.weixin.qq.com/s/0zzx4G3oUPQmzNk6JTTUzQ</td>\n",
       "      <td>\\n导读2020年1月29日10时至13时30分，辽宁省沈阳市新增1例新型冠状病毒感染的肺炎...</td>\n",
       "      <td>辽沈晚报</td>\n",
       "      <td>[https://mmbiz.qpic.cn/mmbiz_jpg/CJdX9kBRCzBFZ...</td>\n",
       "    </tr>\n",
       "    <tr>\n",
       "      <th>4</th>\n",
       "      <td>https://mp.weixin.qq.com/s/15bQoiHzj8ABrnySvnEtQA</td>\n",
       "      <td>\\n沣西新城一患者被确定为新型冠状病毒感染的肺炎疑似病例。该患者于2020年1月20日在世纪...</td>\n",
       "      <td>咸阳发布</td>\n",
       "      <td>[https://mmbiz.qpic.cn/mmbiz_jpg/MpR6g4hrh5bCP...</td>\n",
       "    </tr>\n",
       "    <tr>\n",
       "      <th>...</th>\n",
       "      <td>...</td>\n",
       "      <td>...</td>\n",
       "      <td>...</td>\n",
       "      <td>...</td>\n",
       "    </tr>\n",
       "    <tr>\n",
       "      <th>150</th>\n",
       "      <td>https://mp.weixin.qq.com/s/yT_I4r6Sc2K3O7-3iAl-mA</td>\n",
       "      <td>\\n广大居民群众：2020年2月4日，临河区确诊1例新型冠状病毒感染的肺炎病例。患者吴某某，...</td>\n",
       "      <td>巴彦淖尔日报</td>\n",
       "      <td>[https://mmbiz.qpic.cn/mmbiz_jpg/NRe6lcV3rlkPg...</td>\n",
       "    </tr>\n",
       "    <tr>\n",
       "      <th>151</th>\n",
       "      <td>https://mp.weixin.qq.com/s/yyeefgne4StL6ZH9mRh80Q</td>\n",
       "      <td>\\n2020年2月8日，江西省卫生健康委发布疫情通报，2020年2月7日0-24时，江西省报...</td>\n",
       "      <td>江西日报</td>\n",
       "      <td>[https://mmbiz.qpic.cn/mmbiz_png/7QRTvkK2qC5or...</td>\n",
       "    </tr>\n",
       "    <tr>\n",
       "      <th>152</th>\n",
       "      <td>https://mp.weixin.qq.com/s/z1mVzAvyEoNiS2s0jsIgQw</td>\n",
       "      <td>\\n广东省新增确诊22例累计确诊1241例据广东省卫健委今日（13日）最新消息：截至2月12...</td>\n",
       "      <td>江门发布</td>\n",
       "      <td>[https://mmbiz.qpic.cn/mmbiz_jpg/ia7E3qMRicX83...</td>\n",
       "    </tr>\n",
       "    <tr>\n",
       "      <th>153</th>\n",
       "      <td>https://mp.weixin.qq.com/s/zOGzJVviegMaLRE8tuiLRw</td>\n",
       "      <td>\\n2020年1月31日，我市确认1例输入性新型冠状病毒感染的肺炎确诊病例。姜某，男，满族，...</td>\n",
       "      <td>辽沈晚报</td>\n",
       "      <td>[https://mmbiz.qpic.cn/mmbiz_jpg/X3BpEU6jNLrdx...</td>\n",
       "    </tr>\n",
       "    <tr>\n",
       "      <th>154</th>\n",
       "      <td>https://mp.weixin.qq.com/s/URJDtNlB8jOnsmdH17VjXA</td>\n",
       "      <td>\\n我省确诊的8例新型冠状病毒感染的肺炎患者与密切接触者医疗救治情况——青海省新型冠状病毒感...</td>\n",
       "      <td>青海日报</td>\n",
       "      <td>[https://mmbiz.qpic.cn/mmbiz_jpg/h6aWoq3mmtubl...</td>\n",
       "    </tr>\n",
       "  </tbody>\n",
       "</table>\n",
       "<p>155 rows × 4 columns</p>\n",
       "</div>"
      ],
      "text/plain": [
       "                                                   url  \\\n",
       "0    https://mp.weixin.qq.com/s/HTsNM1zxEAx3IqoF1uYnYA   \n",
       "1    https://mp.weixin.qq.com/s/03w_HdZGypbtAG33jikquw   \n",
       "2    https://mp.weixin.qq.com/s/0xihh12dgBBxbfozR6fnNg   \n",
       "3    https://mp.weixin.qq.com/s/0zzx4G3oUPQmzNk6JTTUzQ   \n",
       "4    https://mp.weixin.qq.com/s/15bQoiHzj8ABrnySvnEtQA   \n",
       "..                                                 ...   \n",
       "150  https://mp.weixin.qq.com/s/yT_I4r6Sc2K3O7-3iAl-mA   \n",
       "151  https://mp.weixin.qq.com/s/yyeefgne4StL6ZH9mRh80Q   \n",
       "152  https://mp.weixin.qq.com/s/z1mVzAvyEoNiS2s0jsIgQw   \n",
       "153  https://mp.weixin.qq.com/s/zOGzJVviegMaLRE8tuiLRw   \n",
       "154  https://mp.weixin.qq.com/s/URJDtNlB8jOnsmdH17VjXA   \n",
       "\n",
       "                                               content resource  \\\n",
       "0    \\n最新消息2月14日上午，省卫健委公布2月13日0－24时肇庆市新增1例新冠肺炎确诊病例。...     健康肇庆   \n",
       "1    \\n今天上午，中山市人民政府新闻办公室组织召开市疫情防控工作第14场新闻发布会。市卫生健康局...     中山发布   \n",
       "2    \\n今天上午，中山市人民政府新闻办公室组织召开市疫情防控工作第23场新闻发布会。市卫生健康局...     中山发布   \n",
       "3    \\n导读2020年1月29日10时至13时30分，辽宁省沈阳市新增1例新型冠状病毒感染的肺炎...     辽沈晚报   \n",
       "4    \\n沣西新城一患者被确定为新型冠状病毒感染的肺炎疑似病例。该患者于2020年1月20日在世纪...     咸阳发布   \n",
       "..                                                 ...      ...   \n",
       "150  \\n广大居民群众：2020年2月4日，临河区确诊1例新型冠状病毒感染的肺炎病例。患者吴某某，...   巴彦淖尔日报   \n",
       "151  \\n2020年2月8日，江西省卫生健康委发布疫情通报，2020年2月7日0-24时，江西省报...     江西日报   \n",
       "152  \\n广东省新增确诊22例累计确诊1241例据广东省卫健委今日（13日）最新消息：截至2月12...     江门发布   \n",
       "153  \\n2020年1月31日，我市确认1例输入性新型冠状病毒感染的肺炎确诊病例。姜某，男，满族，...     辽沈晚报   \n",
       "154  \\n我省确诊的8例新型冠状病毒感染的肺炎患者与密切接触者医疗救治情况——青海省新型冠状病毒感...     青海日报   \n",
       "\n",
       "                                              imgs_url  \n",
       "0    [https://mmbiz.qpic.cn/mmbiz_jpg/z2KVp01hujFYO...  \n",
       "1    [https://mmbiz.qpic.cn/mmbiz_jpg/jL1hNwBkicA21...  \n",
       "2    [https://mmbiz.qpic.cn/mmbiz_png/jL1hNwBkicA29...  \n",
       "3    [https://mmbiz.qpic.cn/mmbiz_jpg/CJdX9kBRCzBFZ...  \n",
       "4    [https://mmbiz.qpic.cn/mmbiz_jpg/MpR6g4hrh5bCP...  \n",
       "..                                                 ...  \n",
       "150  [https://mmbiz.qpic.cn/mmbiz_jpg/NRe6lcV3rlkPg...  \n",
       "151  [https://mmbiz.qpic.cn/mmbiz_png/7QRTvkK2qC5or...  \n",
       "152  [https://mmbiz.qpic.cn/mmbiz_jpg/ia7E3qMRicX83...  \n",
       "153  [https://mmbiz.qpic.cn/mmbiz_jpg/X3BpEU6jNLrdx...  \n",
       "154  [https://mmbiz.qpic.cn/mmbiz_jpg/h6aWoq3mmtubl...  \n",
       "\n",
       "[155 rows x 4 columns]"
      ]
     },
     "execution_count": 259,
     "metadata": {},
     "output_type": "execute_result"
    }
   ],
   "source": [
    "wx_extract"
   ]
  },
  {
   "cell_type": "code",
   "execution_count": 222,
   "metadata": {},
   "outputs": [
    {
     "data": {
      "text/plain": [
       "'https://mp.weixin.qq.com/s/hywpRGEm_OJepGkhPbqYOQ'"
      ]
     },
     "execution_count": 222,
     "metadata": {},
     "output_type": "execute_result"
    }
   ],
   "source": [
    "wx_extract['url'][-1]"
   ]
  },
  {
   "cell_type": "code",
   "execution_count": 215,
   "metadata": {},
   "outputs": [
    {
     "data": {
      "text/plain": [
       "'https://mp.weixin.qq.com/s/0xihh12dgBBxbfozR6fnNg'"
      ]
     },
     "execution_count": 215,
     "metadata": {},
     "output_type": "execute_result"
    }
   ],
   "source": [
    "wx_extract['url'][-1]"
   ]
  },
  {
   "cell_type": "code",
   "execution_count": 216,
   "metadata": {},
   "outputs": [],
   "source": [
    "r,c,i = get_resource_content_for_wx('https://mp.weixin.qq.com/s/0xihh12dgBBxbfozR6fnNg',driver,wx_rules,img_debug=True)"
   ]
  },
  {
   "cell_type": "code",
   "execution_count": 208,
   "metadata": {},
   "outputs": [
    {
     "data": {
      "text/plain": [
       "['__class__',\n",
       " '__contains__',\n",
       " '__delattr__',\n",
       " '__delitem__',\n",
       " '__dir__',\n",
       " '__doc__',\n",
       " '__eq__',\n",
       " '__format__',\n",
       " '__ge__',\n",
       " '__getattribute__',\n",
       " '__getitem__',\n",
       " '__gt__',\n",
       " '__hash__',\n",
       " '__init__',\n",
       " '__init_subclass__',\n",
       " '__iter__',\n",
       " '__le__',\n",
       " '__len__',\n",
       " '__lt__',\n",
       " '__ne__',\n",
       " '__new__',\n",
       " '__reduce__',\n",
       " '__reduce_ex__',\n",
       " '__repr__',\n",
       " '__setattr__',\n",
       " '__setitem__',\n",
       " '__sizeof__',\n",
       " '__str__',\n",
       " '__subclasshook__',\n",
       " 'clear',\n",
       " 'copy',\n",
       " 'fromkeys',\n",
       " 'get',\n",
       " 'items',\n",
       " 'keys',\n",
       " 'pop',\n",
       " 'popitem',\n",
       " 'setdefault',\n",
       " 'update',\n",
       " 'values']"
      ]
     },
     "execution_count": 208,
     "metadata": {},
     "output_type": "execute_result"
    }
   ],
   "source": [
    "dir(i[0])"
   ]
  },
  {
   "cell_type": "code",
   "execution_count": 218,
   "metadata": {},
   "outputs": [
    {
     "data": {
      "text/plain": [
       "<img _width=\"677px\" class=\"rich_pages\" data-ratio=\"0.7479061976549414\" data-s=\"300,640\" data-src=\"https://mmbiz.qpic.cn/mmbiz_png/jL1hNwBkicA290LT2kBRcc6MqLBNz07NZO2S3F4TsfDvDb7GZsNtORcMzptic65PrdEBtkMpRcp69SbxXFrFpKKg/640?wx_fmt=png\" data-type=\"png\" data-w=\"1194\" style=\"\"/>"
      ]
     },
     "execution_count": 218,
     "metadata": {},
     "output_type": "execute_result"
    }
   ],
   "source": [
    "i[0]"
   ]
  },
  {
   "cell_type": "markdown",
   "metadata": {},
   "source": [
    "# 补充预处理－公众号文章迁移替换"
   ]
  },
  {
   "cell_type": "code",
   "execution_count": 243,
   "metadata": {
    "scrolled": true
   },
   "outputs": [],
   "source": [
    "url = 'https://mp.weixin.qq.com/s/hywpRGEm_OJepGkhPbqYOQ'\n",
    "driver.get(url)\n",
    "sleep(0.5)\n",
    "html =  driver.page_source\n",
    "soup = BeautifulSoup(html, 'lxml')\n",
    "r = soup.find_all(attrs={'id': 'js_access_msg'})"
   ]
  },
  {
   "cell_type": "code",
   "execution_count": 246,
   "metadata": {},
   "outputs": [
    {
     "data": {
      "text/plain": [
       "'http://mp.weixin.qq.com/s?__biz=MzI3NDE1NTQ2NQ==&mid=2247484445&amp;idx=1&amp;sn=ebf7bd5008d7749ed6eed1ab839df87d&source=41#wechat_redirect'"
      ]
     },
     "execution_count": 246,
     "metadata": {},
     "output_type": "execute_result"
    }
   ],
   "source": [
    "r[0]['href']"
   ]
  },
  {
   "cell_type": "code",
   "execution_count": 252,
   "metadata": {},
   "outputs": [],
   "source": [
    "olds = []\n",
    "news = []\n",
    "n = len(good_url['url'])\n",
    "for i in range(n):\n",
    "    url = good_url['url'][i]\n",
    "    old = url\n",
    "    new_url = ''\n",
    "    if wx_host in url:\n",
    "        driver.get(url)\n",
    "        try:\n",
    "            html =  driver.page_source\n",
    "        except Expection as e:\n",
    "            pass\n",
    "        soup = BeautifulSoup(html, 'lxml')\n",
    "        r = soup.find_all(attrs={'id': 'js_access_msg'})\n",
    "        if r != []:\n",
    "            good_url['url'][i] = r[0]['href']\n",
    "            olds.append(old)\n",
    "            news.append(new)"
   ]
  },
  {
   "cell_type": "code",
   "execution_count": null,
   "metadata": {},
   "outputs": [],
   "source": [
    "# 2条迁徙了！"
   ]
  },
  {
   "cell_type": "code",
   "execution_count": 257,
   "metadata": {},
   "outputs": [],
   "source": [
    "good_url.to_csv('good_url_5.1.csv')"
   ]
  },
  {
   "cell_type": "code",
   "execution_count": 263,
   "metadata": {},
   "outputs": [
    {
     "data": {
      "text/html": [
       "<div>\n",
       "<style scoped>\n",
       "    .dataframe tbody tr th:only-of-type {\n",
       "        vertical-align: middle;\n",
       "    }\n",
       "\n",
       "    .dataframe tbody tr th {\n",
       "        vertical-align: top;\n",
       "    }\n",
       "\n",
       "    .dataframe thead th {\n",
       "        text-align: right;\n",
       "    }\n",
       "</style>\n",
       "<table border=\"1\" class=\"dataframe\">\n",
       "  <thead>\n",
       "    <tr style=\"text-align: right;\">\n",
       "      <th></th>\n",
       "      <th>url</th>\n",
       "      <th>content</th>\n",
       "      <th>resource</th>\n",
       "      <th>imgs_url</th>\n",
       "    </tr>\n",
       "  </thead>\n",
       "  <tbody>\n",
       "    <tr>\n",
       "      <th>0</th>\n",
       "      <td>https://mp.weixin.qq.com/s/HTsNM1zxEAx3IqoF1uYnYA</td>\n",
       "      <td>\\n最新消息2月14日上午，省卫健委公布2月13日0－24时肇庆市新增1例新冠肺炎确诊病例。...</td>\n",
       "      <td>健康肇庆</td>\n",
       "      <td>[https://mmbiz.qpic.cn/mmbiz_jpg/z2KVp01hujFYO...</td>\n",
       "    </tr>\n",
       "    <tr>\n",
       "      <th>1</th>\n",
       "      <td>https://mp.weixin.qq.com/s/03w_HdZGypbtAG33jikquw</td>\n",
       "      <td>\\n今天上午，中山市人民政府新闻办公室组织召开市疫情防控工作第14场新闻发布会。市卫生健康局...</td>\n",
       "      <td>中山发布</td>\n",
       "      <td>[https://mmbiz.qpic.cn/mmbiz_jpg/jL1hNwBkicA21...</td>\n",
       "    </tr>\n",
       "    <tr>\n",
       "      <th>2</th>\n",
       "      <td>https://mp.weixin.qq.com/s/0xihh12dgBBxbfozR6fnNg</td>\n",
       "      <td>\\n今天上午，中山市人民政府新闻办公室组织召开市疫情防控工作第23场新闻发布会。市卫生健康局...</td>\n",
       "      <td>中山发布</td>\n",
       "      <td>[https://mmbiz.qpic.cn/mmbiz_png/jL1hNwBkicA29...</td>\n",
       "    </tr>\n",
       "    <tr>\n",
       "      <th>3</th>\n",
       "      <td>https://mp.weixin.qq.com/s/0zzx4G3oUPQmzNk6JTTUzQ</td>\n",
       "      <td>\\n导读2020年1月29日10时至13时30分，辽宁省沈阳市新增1例新型冠状病毒感染的肺炎...</td>\n",
       "      <td>辽沈晚报</td>\n",
       "      <td>[https://mmbiz.qpic.cn/mmbiz_jpg/CJdX9kBRCzBFZ...</td>\n",
       "    </tr>\n",
       "    <tr>\n",
       "      <th>4</th>\n",
       "      <td>https://mp.weixin.qq.com/s/15bQoiHzj8ABrnySvnEtQA</td>\n",
       "      <td>\\n沣西新城一患者被确定为新型冠状病毒感染的肺炎疑似病例。该患者于2020年1月20日在世纪...</td>\n",
       "      <td>咸阳发布</td>\n",
       "      <td>[https://mmbiz.qpic.cn/mmbiz_jpg/MpR6g4hrh5bCP...</td>\n",
       "    </tr>\n",
       "    <tr>\n",
       "      <th>...</th>\n",
       "      <td>...</td>\n",
       "      <td>...</td>\n",
       "      <td>...</td>\n",
       "      <td>...</td>\n",
       "    </tr>\n",
       "    <tr>\n",
       "      <th>150</th>\n",
       "      <td>https://mp.weixin.qq.com/s/yT_I4r6Sc2K3O7-3iAl-mA</td>\n",
       "      <td>\\n广大居民群众：2020年2月4日，临河区确诊1例新型冠状病毒感染的肺炎病例。患者吴某某，...</td>\n",
       "      <td>巴彦淖尔日报</td>\n",
       "      <td>[https://mmbiz.qpic.cn/mmbiz_jpg/NRe6lcV3rlkPg...</td>\n",
       "    </tr>\n",
       "    <tr>\n",
       "      <th>151</th>\n",
       "      <td>https://mp.weixin.qq.com/s/yyeefgne4StL6ZH9mRh80Q</td>\n",
       "      <td>\\n2020年2月8日，江西省卫生健康委发布疫情通报，2020年2月7日0-24时，江西省报...</td>\n",
       "      <td>江西日报</td>\n",
       "      <td>[https://mmbiz.qpic.cn/mmbiz_png/7QRTvkK2qC5or...</td>\n",
       "    </tr>\n",
       "    <tr>\n",
       "      <th>152</th>\n",
       "      <td>https://mp.weixin.qq.com/s/z1mVzAvyEoNiS2s0jsIgQw</td>\n",
       "      <td>\\n广东省新增确诊22例累计确诊1241例据广东省卫健委今日（13日）最新消息：截至2月12...</td>\n",
       "      <td>江门发布</td>\n",
       "      <td>[https://mmbiz.qpic.cn/mmbiz_jpg/ia7E3qMRicX83...</td>\n",
       "    </tr>\n",
       "    <tr>\n",
       "      <th>153</th>\n",
       "      <td>https://mp.weixin.qq.com/s/zOGzJVviegMaLRE8tuiLRw</td>\n",
       "      <td>\\n2020年1月31日，我市确认1例输入性新型冠状病毒感染的肺炎确诊病例。姜某，男，满族，...</td>\n",
       "      <td>辽沈晚报</td>\n",
       "      <td>[https://mmbiz.qpic.cn/mmbiz_jpg/X3BpEU6jNLrdx...</td>\n",
       "    </tr>\n",
       "    <tr>\n",
       "      <th>154</th>\n",
       "      <td>https://mp.weixin.qq.com/s/URJDtNlB8jOnsmdH17VjXA</td>\n",
       "      <td>\\n我省确诊的8例新型冠状病毒感染的肺炎患者与密切接触者医疗救治情况——青海省新型冠状病毒感...</td>\n",
       "      <td>青海日报</td>\n",
       "      <td>[https://mmbiz.qpic.cn/mmbiz_jpg/h6aWoq3mmtubl...</td>\n",
       "    </tr>\n",
       "  </tbody>\n",
       "</table>\n",
       "<p>155 rows × 4 columns</p>\n",
       "</div>"
      ],
      "text/plain": [
       "                                                   url  \\\n",
       "0    https://mp.weixin.qq.com/s/HTsNM1zxEAx3IqoF1uYnYA   \n",
       "1    https://mp.weixin.qq.com/s/03w_HdZGypbtAG33jikquw   \n",
       "2    https://mp.weixin.qq.com/s/0xihh12dgBBxbfozR6fnNg   \n",
       "3    https://mp.weixin.qq.com/s/0zzx4G3oUPQmzNk6JTTUzQ   \n",
       "4    https://mp.weixin.qq.com/s/15bQoiHzj8ABrnySvnEtQA   \n",
       "..                                                 ...   \n",
       "150  https://mp.weixin.qq.com/s/yT_I4r6Sc2K3O7-3iAl-mA   \n",
       "151  https://mp.weixin.qq.com/s/yyeefgne4StL6ZH9mRh80Q   \n",
       "152  https://mp.weixin.qq.com/s/z1mVzAvyEoNiS2s0jsIgQw   \n",
       "153  https://mp.weixin.qq.com/s/zOGzJVviegMaLRE8tuiLRw   \n",
       "154  https://mp.weixin.qq.com/s/URJDtNlB8jOnsmdH17VjXA   \n",
       "\n",
       "                                               content resource  \\\n",
       "0    \\n最新消息2月14日上午，省卫健委公布2月13日0－24时肇庆市新增1例新冠肺炎确诊病例。...     健康肇庆   \n",
       "1    \\n今天上午，中山市人民政府新闻办公室组织召开市疫情防控工作第14场新闻发布会。市卫生健康局...     中山发布   \n",
       "2    \\n今天上午，中山市人民政府新闻办公室组织召开市疫情防控工作第23场新闻发布会。市卫生健康局...     中山发布   \n",
       "3    \\n导读2020年1月29日10时至13时30分，辽宁省沈阳市新增1例新型冠状病毒感染的肺炎...     辽沈晚报   \n",
       "4    \\n沣西新城一患者被确定为新型冠状病毒感染的肺炎疑似病例。该患者于2020年1月20日在世纪...     咸阳发布   \n",
       "..                                                 ...      ...   \n",
       "150  \\n广大居民群众：2020年2月4日，临河区确诊1例新型冠状病毒感染的肺炎病例。患者吴某某，...   巴彦淖尔日报   \n",
       "151  \\n2020年2月8日，江西省卫生健康委发布疫情通报，2020年2月7日0-24时，江西省报...     江西日报   \n",
       "152  \\n广东省新增确诊22例累计确诊1241例据广东省卫健委今日（13日）最新消息：截至2月12...     江门发布   \n",
       "153  \\n2020年1月31日，我市确认1例输入性新型冠状病毒感染的肺炎确诊病例。姜某，男，满族，...     辽沈晚报   \n",
       "154  \\n我省确诊的8例新型冠状病毒感染的肺炎患者与密切接触者医疗救治情况——青海省新型冠状病毒感...     青海日报   \n",
       "\n",
       "                                              imgs_url  \n",
       "0    [https://mmbiz.qpic.cn/mmbiz_jpg/z2KVp01hujFYO...  \n",
       "1    [https://mmbiz.qpic.cn/mmbiz_jpg/jL1hNwBkicA21...  \n",
       "2    [https://mmbiz.qpic.cn/mmbiz_png/jL1hNwBkicA29...  \n",
       "3    [https://mmbiz.qpic.cn/mmbiz_jpg/CJdX9kBRCzBFZ...  \n",
       "4    [https://mmbiz.qpic.cn/mmbiz_jpg/MpR6g4hrh5bCP...  \n",
       "..                                                 ...  \n",
       "150  [https://mmbiz.qpic.cn/mmbiz_jpg/NRe6lcV3rlkPg...  \n",
       "151  [https://mmbiz.qpic.cn/mmbiz_png/7QRTvkK2qC5or...  \n",
       "152  [https://mmbiz.qpic.cn/mmbiz_jpg/ia7E3qMRicX83...  \n",
       "153  [https://mmbiz.qpic.cn/mmbiz_jpg/X3BpEU6jNLrdx...  \n",
       "154  [https://mmbiz.qpic.cn/mmbiz_jpg/h6aWoq3mmtubl...  \n",
       "\n",
       "[155 rows x 4 columns]"
      ]
     },
     "execution_count": 263,
     "metadata": {},
     "output_type": "execute_result"
    }
   ],
   "source": [
    "wx_extract"
   ]
  },
  {
   "cell_type": "code",
   "execution_count": 262,
   "metadata": {},
   "outputs": [
    {
     "data": {
      "text/plain": [
       "False"
      ]
     },
     "execution_count": 262,
     "metadata": {},
     "output_type": "execute_result"
    }
   ],
   "source": [
    "wx_extract['content'].isnull().any()"
   ]
  },
  {
   "cell_type": "markdown",
   "metadata": {},
   "source": [
    "# 微博模板"
   ]
  },
  {
   "cell_type": "code",
   "execution_count": 299,
   "metadata": {},
   "outputs": [],
   "source": [
    "# 探索-电脑端\n",
    "url = 'https://weibo.com/7129811001/ItKAzr93p?from=page_1002067129811001_profile&wvr=6&mod=weibotime&type=comment#_rnd1581676145115'\n",
    "# site = re.search(r'(https*://)(.+?)(/)',url).group(2)\n",
    "# 用引擎\n",
    "driver.get(url)\n",
    "# sleep(0.2)\n",
    "# try:\n",
    "html =  driver.page_source\n",
    "# except Expection as e:\n",
    "#     return '',''\n",
    "# soup = etree.HTML(html)\n",
    "# name = soup.xpath('//*[@id=\"js_name\"]')\n",
    "# content = soup.xpath('//*[@id=\"js_content\"]')\n",
    "# soup = BeautifulSoup(html, 'html.parser')\n",
    "# sn,sc = ['#Pl_Official_WeiboDetail__59 > div > div > div > div.WB_feed_detail.clearfix > div.WB_detail > div.WB_info > a.W_f14.W_fb.S_txt1','#js_content']\n",
    "# resource_name = soup.select(sn)\n",
    "# content_selector = soup.select(sc)[0]\n",
    "# content = content_selector.get_text()\n",
    "# resource_name = resource_name[0].get_text()\n",
    "soup = BeautifulSoup(html, 'lxml')\n",
    "# r = soup.find_all(attrs={'class': 'WB_info'})\n",
    "# resource_name = r[0].find_all(attrs={'class': 'W_f14 W_fb S_txt1'})[0].text\n",
    "# resource_name = re.sub(r'[^\\u4e00-\\u9fa5]','',resource_name)\n",
    "c = soup.find_all(attrs={'class': 'WB_text W_f14'})\n",
    "content = c[0].text\n",
    "sname = c[0].attrs['nick-name']\n",
    "# img_list = []\n",
    "# imgs = soup.select(sc)[0].find_all('img')\n",
    "# if len(img)>=1:\n",
    "#     for img in imgs:\n",
    "#         if img['data-type']!='gif':\n",
    "# #             print('add.')\n",
    "#             img_list.append(img['data-src']) \n",
    "    \n",
    "    \n",
    "# imglist = []\n",
    "# imgs = content_selector.find_all('img')\n",
    "# if len(imgs)>=1:\n",
    "#     for img in imgs:\n",
    "# #         if img['data-type'] !='gif':\n",
    "#         imglist.append(img['data-src'])"
   ]
  },
  {
   "cell_type": "code",
   "execution_count": 300,
   "metadata": {},
   "outputs": [
    {
     "data": {
      "text/plain": [
       "'\\n#联防联控 高陵在行动# 紧急扩散【通 告】西安市高陵区新型冠状病毒感染的肺炎疫情防控指挥部对一名新冠肺炎患者进行流行病学调查追踪时发现,该患者2020年1月16日11:00左右，从高陵区高交路口乘坐109路公交车前往龙发时代广场购物，期间在三楼童装区和四楼购买衣服，停留2个多小时；于13:00从五号公馆西门乘坐109路公交车到高交路口。1月23日18:00左右，该患者到高陵区北环城路好家浴池淋浴，约1小时。现提醒有以上共同出行史及生活轨迹的人员，请您第一时间主动与所在地街办卫生院或社区卫生服务中心联系，配合做好医学观察。若有发热、干咳、乏力等症状，请佩戴口罩及时到就近的定点发热门诊就诊。请在就诊时，不要乘坐公共交通工具，不要进入人群密集场所。咨询电话：029-86093017\\xa0\\xa0\\xa0\\xa0\\xa0\\xa0\\xa0\\xa0\\xa0\\xa0\\xa0西安市高陵区新型冠状病毒感染的\\xa0\\xa0\\xa0\\xa0\\xa0\\xa0\\xa0\\xa0\\xa0\\xa0\\xa0\\xa0\\xa0\\xa0\\xa0\\xa0\\xa0\\xa0\\xa0\\xa0\\xa0\\xa0\\xa0\\xa0肺炎疫情防控指挥部\\xa0\\xa0\\xa0\\xa0\\xa0\\xa0\\xa0\\xa0\\xa0\\xa0\\xa0\\xa0\\xa0\\xa0\\xa0\\xa0\\xa0\\xa0\\xa0\\xa0\\xa0\\xa0\\xa0\\xa0\\xa0\\xa0\\xa0\\xa0\\xa02020年2月10日                                            '"
      ]
     },
     "execution_count": 300,
     "metadata": {},
     "output_type": "execute_result"
    }
   ],
   "source": [
    "content"
   ]
  },
  {
   "cell_type": "code",
   "execution_count": 303,
   "metadata": {},
   "outputs": [],
   "source": [
    "# 探索-电脑端\n",
    "url = 'https://weibo.com/7129811001/IrH6peQ3d?from=page_1002067129811001_profile&wvr=6&mod=weibotime&type=comment#_rnd1581676880432'\n",
    "# site = re.search(r'(https*://)(.+?)(/)',url).group(2)\n",
    "# 用引擎\n",
    "driver.get(url)\n",
    "# sleep(0.2)\n",
    "# try:\n",
    "html =  driver.page_source\n",
    "# except Expection as e:\n",
    "#     return '',''\n",
    "# soup = etree.HTML(html)\n",
    "# name = soup.xpath('//*[@id=\"js_name\"]')\n",
    "# content = soup.xpath('//*[@id=\"js_content\"]')\n",
    "# soup = BeautifulSoup(html, 'html.parser')\n",
    "# sn,sc = ['#Pl_Official_WeiboDetail__59 > div > div > div > div.WB_feed_detail.clearfix > div.WB_detail > div.WB_info > a.W_f14.W_fb.S_txt1','#js_content']\n",
    "# resource_name = soup.select(sn)\n",
    "# content_selector = soup.select(sc)[0]\n",
    "# content = content_selector.get_text()\n",
    "# resource_name = resource_name[0].get_text()\n",
    "soup = BeautifulSoup(html, 'lxml')\n",
    "# r = soup.find_all(attrs={'class': 'WB_info'})\n",
    "# resource_name = r[0].find_all(attrs={'class': 'W_f14 W_fb S_txt1'})[0].text\n",
    "# resource_name = re.sub(r'[^\\u4e00-\\u9fa5]','',resource_name)\n",
    "c = soup.find_all(attrs={'class': 'WB_text'})\n",
    "content = c[0].text\n",
    "sname = c[0].attrs['nick-name']\n",
    "# img_list = []\n",
    "# imgs = soup.select(sc)[0].find_all('img')\n",
    "# if len(img)>=1:\n",
    "#     for img in imgs:\n",
    "#         if img['data-type']!='gif':\n",
    "# #             print('add.')\n",
    "#             img_list.append(img['data-src']) \n",
    "    \n",
    "    \n",
    "# imglist = []\n",
    "# imgs = content_selector.find_all('img')\n",
    "# if len(imgs)>=1:\n",
    "#     for img in imgs:\n",
    "# #         if img['data-type'] !='gif':\n",
    "#         imglist.append(img['data-src'])"
   ]
  },
  {
   "cell_type": "code",
   "execution_count": 305,
   "metadata": {},
   "outputs": [
    {
     "data": {
      "text/plain": [
       "'\\n#联防联控\\xa0\\xa0\\xa0高陵在行动# 【紧急扩散！关于急寻高陵区飘雪理发店顾客的通告】我区日前已确诊的首例新型冠状病毒感染的肺炎女性患者(即前期通告的1月24日109路公交车乘客)，经进一步核查，其曾于1月23日11时至13时，在高陵区鹿鸣西路飘雪理发店理发。请该时段在飘雪理发店出入的人员，第一时间拨打驻地街道卫生院电话或者区卫生健康部门电话（具体号码后附），会有医护人员接您就诊。同时请以上时段理发的顾客家人都暂时不要外出，自觉居家隔离，如有发热等不适症状，亦请立即与区卫生健康部门或驻地街道卫生院联系。联系电话：高陵区医院：86912158高陵区中医医院 ：86913419高陵区疾病预防控制中心：86913369高陵区鹿苑卫生院：15332359498高陵区榆楚卫生院：86090258高陵区崇皇中心卫生院：86040726高陵区姬家卫生院：86068897高陵区泾渭卫生院：86031301高陵区药惠卫生院：86011225高陵区通远卫生院：86083306高陵区湾子中心卫生院：15191842340高陵区张卜中心卫生院：86070623高陵区耿镇卫生院：86060030\\xa0\\xa0\\xa0\\xa0\\xa0\\xa0\\xa0\\xa0\\xa0\\xa0\\xa0\\xa0\\xa0\\xa0\\xa0\\xa0西安市高陵区新型冠状病毒感染的\\xa0\\xa0\\xa0\\xa0\\xa0\\xa0\\xa0\\xa0\\xa0\\xa0\\xa0\\xa0\\xa0\\xa0\\xa0\\xa0\\xa0\\xa0\\xa0\\xa0\\xa0\\xa0\\xa0\\xa0\\xa0\\xa0\\xa0\\xa0\\xa0肺炎疫情防控指挥部\\xa0\\xa0\\xa0\\xa0\\xa0\\xa0\\xa0\\xa0\\xa0\\xa0\\xa0\\xa0\\xa0\\xa0\\xa0\\xa0\\xa0\\xa0\\xa0\\xa0\\xa0\\xa0\\xa0二〇二〇年一月二十八日                                            '"
      ]
     },
     "execution_count": 305,
     "metadata": {},
     "output_type": "execute_result"
    }
   ],
   "source": [
    "content"
   ]
  },
  {
   "cell_type": "code",
   "execution_count": 304,
   "metadata": {},
   "outputs": [
    {
     "data": {
      "text/plain": [
       "'高陵融媒'"
      ]
     },
     "execution_count": 304,
     "metadata": {},
     "output_type": "execute_result"
    }
   ],
   "source": [
    "sname"
   ]
  },
  {
   "cell_type": "code",
   "execution_count": null,
   "metadata": {},
   "outputs": [],
   "source": [
    "# 探索-电脑端\n",
    "url = 'https://weibo.com/7129811001/IrH6peQ3d?from=page_1002067129811001_profile&wvr=6&mod=weibotime&type=comment#_rnd1581676880432'\n",
    "# site = re.search(r'(https*://)(.+?)(/)',url).group(2)\n",
    "# 用引擎\n",
    "driver.get(url)\n",
    "# sleep(0.2)\n",
    "# try:\n",
    "html =  driver.page_source\n",
    "# except Expection as e:\n",
    "#     return '',''\n",
    "# soup = etree.HTML(html)\n",
    "# name = soup.xpath('//*[@id=\"js_name\"]')\n",
    "# content = soup.xpath('//*[@id=\"js_content\"]')\n",
    "# soup = BeautifulSoup(html, 'html.parser')\n",
    "# sn,sc = ['#Pl_Official_WeiboDetail__59 > div > div > div > div.WB_feed_detail.clearfix > div.WB_detail > div.WB_info > a.W_f14.W_fb.S_txt1','#js_content']\n",
    "# resource_name = soup.select(sn)\n",
    "# content_selector = soup.select(sc)[0]\n",
    "# content = content_selector.get_text()\n",
    "# resource_name = resource_name[0].get_text()\n",
    "soup = BeautifulSoup(html, 'lxml')\n",
    "# r = soup.find_all(attrs={'class': 'WB_info'})\n",
    "# resource_name = r[0].find_all(attrs={'class': 'W_f14 W_fb S_txt1'})[0].text\n",
    "# resource_name = re.sub(r'[^\\u4e00-\\u9fa5]','',resource_name)\n",
    "c = soup.find_all(attrs={'class': 'WB_text'})\n",
    "content = c[0].text\n",
    "sname = c[0].attrs['nick-name']\n",
    "# img_list = []\n",
    "# imgs = soup.select(sc)[0].find_all('img')\n",
    "# if len(img)>=1:\n",
    "#     for img in imgs:\n",
    "#         if img['data-type']!='gif':\n",
    "# #             print('add.')\n",
    "#             img_list.append(img['data-src']) \n",
    "    \n",
    "    \n",
    "# imglist = []\n",
    "# imgs = content_selector.find_all('img')\n",
    "# if len(imgs)>=1:\n",
    "#     for img in imgs:\n",
    "# #         if img['data-type'] !='gif':\n",
    "#         imglist.append(img['data-src'])"
   ]
  },
  {
   "cell_type": "code",
   "execution_count": 273,
   "metadata": {
    "scrolled": true
   },
   "outputs": [
    {
     "data": {
      "text/plain": [
       "['__bool__',\n",
       " '__call__',\n",
       " '__class__',\n",
       " '__contains__',\n",
       " '__copy__',\n",
       " '__delattr__',\n",
       " '__delitem__',\n",
       " '__dict__',\n",
       " '__dir__',\n",
       " '__doc__',\n",
       " '__eq__',\n",
       " '__format__',\n",
       " '__ge__',\n",
       " '__getattr__',\n",
       " '__getattribute__',\n",
       " '__getitem__',\n",
       " '__gt__',\n",
       " '__hash__',\n",
       " '__init__',\n",
       " '__init_subclass__',\n",
       " '__iter__',\n",
       " '__le__',\n",
       " '__len__',\n",
       " '__lt__',\n",
       " '__module__',\n",
       " '__ne__',\n",
       " '__new__',\n",
       " '__reduce__',\n",
       " '__reduce_ex__',\n",
       " '__repr__',\n",
       " '__setattr__',\n",
       " '__setitem__',\n",
       " '__sizeof__',\n",
       " '__str__',\n",
       " '__subclasshook__',\n",
       " '__unicode__',\n",
       " '__weakref__',\n",
       " '_all_strings',\n",
       " '_find_all',\n",
       " '_find_one',\n",
       " '_is_xml',\n",
       " '_lastRecursiveChild',\n",
       " '_last_descendant',\n",
       " '_should_pretty_print',\n",
       " 'append',\n",
       " 'attrs',\n",
       " 'can_be_empty_element',\n",
       " 'cdata_list_attributes',\n",
       " 'childGenerator',\n",
       " 'children',\n",
       " 'clear',\n",
       " 'contents',\n",
       " 'decode',\n",
       " 'decode_contents',\n",
       " 'decompose',\n",
       " 'descendants',\n",
       " 'encode',\n",
       " 'encode_contents',\n",
       " 'extend',\n",
       " 'extract',\n",
       " 'fetchNextSiblings',\n",
       " 'fetchParents',\n",
       " 'fetchPrevious',\n",
       " 'fetchPreviousSiblings',\n",
       " 'find',\n",
       " 'findAll',\n",
       " 'findAllNext',\n",
       " 'findAllPrevious',\n",
       " 'findChild',\n",
       " 'findChildren',\n",
       " 'findNext',\n",
       " 'findNextSibling',\n",
       " 'findNextSiblings',\n",
       " 'findParent',\n",
       " 'findParents',\n",
       " 'findPrevious',\n",
       " 'findPreviousSibling',\n",
       " 'findPreviousSiblings',\n",
       " 'find_all',\n",
       " 'find_all_next',\n",
       " 'find_all_previous',\n",
       " 'find_next',\n",
       " 'find_next_sibling',\n",
       " 'find_next_siblings',\n",
       " 'find_parent',\n",
       " 'find_parents',\n",
       " 'find_previous',\n",
       " 'find_previous_sibling',\n",
       " 'find_previous_siblings',\n",
       " 'format_string',\n",
       " 'formatter_for_name',\n",
       " 'get',\n",
       " 'getText',\n",
       " 'get_attribute_list',\n",
       " 'get_text',\n",
       " 'has_attr',\n",
       " 'has_key',\n",
       " 'hidden',\n",
       " 'index',\n",
       " 'insert',\n",
       " 'insert_after',\n",
       " 'insert_before',\n",
       " 'isSelfClosing',\n",
       " 'is_empty_element',\n",
       " 'known_xml',\n",
       " 'name',\n",
       " 'namespace',\n",
       " 'next',\n",
       " 'nextGenerator',\n",
       " 'nextSibling',\n",
       " 'nextSiblingGenerator',\n",
       " 'next_element',\n",
       " 'next_elements',\n",
       " 'next_sibling',\n",
       " 'next_siblings',\n",
       " 'parent',\n",
       " 'parentGenerator',\n",
       " 'parents',\n",
       " 'parserClass',\n",
       " 'parser_class',\n",
       " 'prefix',\n",
       " 'preserve_whitespace_tags',\n",
       " 'prettify',\n",
       " 'previous',\n",
       " 'previousGenerator',\n",
       " 'previousSibling',\n",
       " 'previousSiblingGenerator',\n",
       " 'previous_element',\n",
       " 'previous_elements',\n",
       " 'previous_sibling',\n",
       " 'previous_siblings',\n",
       " 'recursiveChildGenerator',\n",
       " 'renderContents',\n",
       " 'replaceWith',\n",
       " 'replaceWithChildren',\n",
       " 'replace_with',\n",
       " 'replace_with_children',\n",
       " 'select',\n",
       " 'select_one',\n",
       " 'setup',\n",
       " 'smooth',\n",
       " 'string',\n",
       " 'strings',\n",
       " 'stripped_strings',\n",
       " 'text',\n",
       " 'unwrap',\n",
       " 'wrap']"
      ]
     },
     "execution_count": 273,
     "metadata": {},
     "output_type": "execute_result"
    }
   ],
   "source": [
    "dir(r[0])"
   ]
  },
  {
   "cell_type": "code",
   "execution_count": 317,
   "metadata": {},
   "outputs": [],
   "source": [
    "# 探索-手机端\n",
    "url = 'https://m.weibo.cn/status/4469831778965414?'\n",
    "# site = re.search(r'(https*://)(.+?)(/)',url).group(2)\n",
    "# 用引擎\n",
    "driver.get(url)\n",
    "# sleep(0.2)\n",
    "# try:\n",
    "html =  driver.page_source\n",
    "# except Expection as e:\n",
    "#     return '',''\n",
    "# soup = etree.HTML(html)\n",
    "# name = soup.xpath('//*[@id=\"js_name\"]')\n",
    "# content = soup.xpath('//*[@id=\"js_content\"]')\n",
    "soup = BeautifulSoup(html, 'html.parser')\n",
    "# sn,sc = ['#Pl_Official_WeiboDetail__59 > div > div > div > div.WB_feed_detail.clearfix > div.WB_detail > div.WB_info > a.W_f14.W_fb.S_txt1','#js_content']\n",
    "r = soup.select('#app > div.lite-page-wrap > div > div.main > div > div > header > div.m-box-dir.m-box-col.m-box-center > div > a > h3')\n",
    "ren = re.sub(r'[^\\u4e00-\\u9fa5]','',r[0].text)\n",
    "\n",
    "# content_selector = soup.select(sc)[0]\n",
    "# content = content_selector.get_text()\n",
    "# resource_name = resource_name[0].get_text()\n",
    "# soup = BeautifulSoup(html, 'lxml')\n",
    "# r = soup.find_all(attrs={'class': 'WB_info'})\n",
    "# resource_name = r[0].find_all(attrs={'class': 'W_f14 W_fb S_txt1'})[0].text\n",
    "# resource_name = re.sub(r'[^\\u4e00-\\u9fa5]','',resource_name)\n",
    "c = soup.find_all(attrs={'class': 'weibo-text'})\n",
    "content = c[0].text\n",
    "# content = c[0].text\n",
    "# sname = c[0].attrs['nick-name']\n",
    "# img_list = []\n",
    "# imgs = soup.select(sc)[0].find_all('img')\n",
    "# if len(img)>=1:\n",
    "#     for img in imgs:\n",
    "#         if img['data-type']!='gif':\n",
    "# #             print('add.')\n",
    "#             img_list.append(img['data-src']) \n",
    "    \n",
    "    \n",
    "# imglist = []\n",
    "# imgs = content_selector.find_all('img')\n",
    "# if len(imgs)>=1:\n",
    "#     for img in imgs:\n",
    "# #         if img['data-type'] !='gif':\n",
    "#         imglist.append(img['data-src'])"
   ]
  },
  {
   "cell_type": "code",
   "execution_count": 319,
   "metadata": {},
   "outputs": [
    {
     "data": {
      "text/plain": [
       "[<h3 class=\"m-text-cut\">\n",
       "               新浪陕西\n",
       "               <!-- --><i class=\"m-icon m-icon-vipl6\"></i></h3>]"
      ]
     },
     "execution_count": 319,
     "metadata": {},
     "output_type": "execute_result"
    }
   ],
   "source": [
    "r"
   ]
  },
  {
   "cell_type": "code",
   "execution_count": 318,
   "metadata": {},
   "outputs": [
    {
     "data": {
      "text/plain": [
       "'#陕西防控新型肺炎#  【西安小寨银泰城一KFC前台确诊新冠肺炎 活动轨迹公布，急寻相关接触者】雁塔区新型冠状病毒感染的肺炎疫情防控指挥部办公室对一名新型冠状病毒感染的肺炎患者进行流行病学调查追踪时发现，该患者于2020年1月12日乘坐K1131次（4号车厢108座位）从郑州到西安，到西安火车站后于16:00—17:00之间乘坐5路公交车到达西北水电家属院5-2-612。1月13日下午，前往东仪路职工活动中心，来回乘坐204/709路车,电子正街站到电子二路口站，其余时间未外出。1月14日22:00—23:00之间乘坐5路从子午路站至紫薇城市花园站。1月17—25日在KFC朱雀店（小寨银泰城店）前台打工，主要工作为备餐，工作时间为10:00—22:00，每天9:00—10:00乘坐214/709路（电子正街至子午路站），22:00—23:00之间乘坐5路车（子午路至紫薇花园站）返回家中。目前该乘客被确诊为新型冠状病毒感染的肺炎确诊患者。现提醒有以上共同出行史及活动轨迹的人员请注意：1、第一时间主动联系所在街道办（社区）做好报备工作，配合做好居家医学观察14天（自同乘之日算起）。2、居家医学观察期内，实行每日早晚两次体温测试记录，并上报所在街道办及辖区社区卫生服务机构。3、同乘（司机、乘客）及相同轨迹人员如有发热、咳嗽等症状，请及时到发热门诊就诊，就诊过程请全程佩戴口罩，不要乘坐公共交通工具，不要进入人群密集场所。咨询电话：029-89353633雁塔区新型冠状病毒感染的肺炎疫情防控指挥部办公室2020年2月8日 西安 西安'"
      ]
     },
     "execution_count": 318,
     "metadata": {},
     "output_type": "execute_result"
    }
   ],
   "source": [
    "content"
   ]
  },
  {
   "cell_type": "markdown",
   "metadata": {},
   "source": [
    "# weibo_template_sumary"
   ]
  },
  {
   "cell_type": "code",
   "execution_count": 390,
   "metadata": {},
   "outputs": [],
   "source": [
    "def get_resource_content_for_wb(url,driver,img_debug=False):\n",
    "    ''' \n",
    "        input:url,driver  \n",
    "        output:resourceName,text\n",
    "    '''\n",
    "    \n",
    "#     driver.get(url)\n",
    "#     sleep(0.5)\n",
    "#     try:\n",
    "#         html =  driver.page_source\n",
    "#     except Expection as e:\n",
    "#         return '',''\n",
    "    \n",
    "\n",
    "    sname = ''\n",
    "    content = ''\n",
    "    m = 'm.weibo.cn'\n",
    "    p = 'weibo.com'\n",
    "    \n",
    "    # moblie\n",
    "    if m in url:\n",
    "        # 探索-手机端\n",
    "#         url = 'https://m.weibo.cn/status/4469831778965414?'\n",
    "        driver.get(url)\n",
    "        html =  driver.page_source\n",
    "        soup = BeautifulSoup(html, 'html.parser')\n",
    "        r = soup.select('#app > div.lite-page-wrap > div > div.main > div > div > header > div.m-box-dir.m-box-col.m-box-center > div > a > h3')\n",
    "        sname = re.sub(r'[^\\u4e00-\\u9fa5]','',r[0].text)\n",
    "        c = soup.find_all(attrs={'class': 'weibo-text'})\n",
    "        content = c[0].text\n",
    "        \n",
    "    \n",
    "    \n",
    "    # pc\n",
    "    if p in url:\n",
    "       # 探索-电脑端\n",
    "        driver.get(url)\n",
    "        html =  driver.page_source\n",
    "        soup = BeautifulSoup(html, 'lxml')\n",
    "        c = soup.find_all(attrs={'class': 'WB_text'})\n",
    "        content = c[0].text\n",
    "        sname = c[0].attrs['nick-name']\n",
    "        \n",
    "    return sname,content"
   ]
  },
  {
   "cell_type": "code",
   "execution_count": 332,
   "metadata": {},
   "outputs": [],
   "source": [
    "wb_host = 'weibo'\n",
    "\n",
    "wb_extract = {\n",
    "    'url':[],\n",
    "    'content':[],\n",
    "    'resource':[]\n",
    "}\n",
    "\n",
    "\n",
    "for url in good_url['url']:\n",
    "    if wb_host in url:\n",
    "        wb_extract['url'].append(url)\n",
    "        r,c= get_resource_content_for_wb(url,driver)\n",
    "        wb_extract['resource'].append(r)\n",
    "        wb_extract['content'].append(c)\n",
    "#         wx_extract['imgs_url'].append(i)\n",
    "\n",
    "wb_extract = pd.DataFrame(wb_extract)\n",
    "# good_url\n",
    "wb_extract.to_csv('./wb_extract.csv')"
   ]
  },
  {
   "cell_type": "code",
   "execution_count": 341,
   "metadata": {},
   "outputs": [
    {
     "data": {
      "text/html": [
       "<div>\n",
       "<style scoped>\n",
       "    .dataframe tbody tr th:only-of-type {\n",
       "        vertical-align: middle;\n",
       "    }\n",
       "\n",
       "    .dataframe tbody tr th {\n",
       "        vertical-align: top;\n",
       "    }\n",
       "\n",
       "    .dataframe thead th {\n",
       "        text-align: right;\n",
       "    }\n",
       "</style>\n",
       "<table border=\"1\" class=\"dataframe\">\n",
       "  <thead>\n",
       "    <tr style=\"text-align: right;\">\n",
       "      <th></th>\n",
       "      <th>url</th>\n",
       "      <th>content</th>\n",
       "      <th>resource</th>\n",
       "    </tr>\n",
       "  </thead>\n",
       "  <tbody>\n",
       "    <tr>\n",
       "      <th>0</th>\n",
       "      <td>https://m.weibo.cn/2162541102/4469831778965414</td>\n",
       "      <td>#陕西防控新型肺炎#  【西安小寨银泰城一KFC前台确诊新冠肺炎 活动轨迹公布，急寻相关接触...</td>\n",
       "      <td>新浪陕西</td>\n",
       "    </tr>\n",
       "    <tr>\n",
       "      <th>1</th>\n",
       "      <td>https://m.weibo.cn/3757167087/4469821893163355</td>\n",
       "      <td>#联防联控 西安在行动# 【西安一快餐店前台确诊新冠肺炎 活动轨迹公布】雁塔区新型冠状病毒感...</td>\n",
       "      <td>西安发布</td>\n",
       "    </tr>\n",
       "    <tr>\n",
       "      <th>2</th>\n",
       "      <td>https://m.weibo.cn/3757167087/4471457452715962</td>\n",
       "      <td>#联防联控 西安在行动#【速看 | 西安市灞桥区紧急寻人】西安市灞桥区疾病控制中心对一名新冠...</td>\n",
       "      <td>西安发布</td>\n",
       "    </tr>\n",
       "    <tr>\n",
       "      <th>3</th>\n",
       "      <td>https://m.weibo.cn/3757167087/4471458430201395</td>\n",
       "      <td>#联防联控 西安在行动#【紧急扩散！雁塔区2名确诊病例曾在朱雀市场、曲江国际会展中心年货节购...</td>\n",
       "      <td>西安发布</td>\n",
       "    </tr>\n",
       "    <tr>\n",
       "      <th>4</th>\n",
       "      <td>https://m.weibo.cn/detail/4468614512282405</td>\n",
       "      <td>【提醒！运城市稷山县首例确诊患者活动路线公布】2月5日，稷山县新型冠状病毒感染的肺炎疫情防控...</td>\n",
       "      <td>山西青年报</td>\n",
       "    </tr>\n",
       "    <tr>\n",
       "      <th>5</th>\n",
       "      <td>https://weibo.com/7129811001/IrH6peQ3d?from=pa...</td>\n",
       "      <td>\\n#联防联控   高陵在行动# 【紧急扩散！关于急寻高陵区飘雪理发店顾客的通告】我区日前已...</td>\n",
       "      <td>高陵融媒</td>\n",
       "    </tr>\n",
       "    <tr>\n",
       "      <th>6</th>\n",
       "      <td>https://weibo.com/7129811001/IssWHlJzw?from=pa...</td>\n",
       "      <td>\\n                                            ...</td>\n",
       "      <td>高陵融媒</td>\n",
       "    </tr>\n",
       "    <tr>\n",
       "      <th>7</th>\n",
       "      <td>https://weibo.com/7129811001/ItKAzr93p?from=pa...</td>\n",
       "      <td>\\n#联防联控 高陵在行动# 紧急扩散【通 告】西安市高陵区新型冠状病毒感染的肺炎疫情防控指...</td>\n",
       "      <td>高陵融媒</td>\n",
       "    </tr>\n",
       "  </tbody>\n",
       "</table>\n",
       "</div>"
      ],
      "text/plain": [
       "                                                 url  \\\n",
       "0     https://m.weibo.cn/2162541102/4469831778965414   \n",
       "1     https://m.weibo.cn/3757167087/4469821893163355   \n",
       "2     https://m.weibo.cn/3757167087/4471457452715962   \n",
       "3     https://m.weibo.cn/3757167087/4471458430201395   \n",
       "4         https://m.weibo.cn/detail/4468614512282405   \n",
       "5  https://weibo.com/7129811001/IrH6peQ3d?from=pa...   \n",
       "6  https://weibo.com/7129811001/IssWHlJzw?from=pa...   \n",
       "7  https://weibo.com/7129811001/ItKAzr93p?from=pa...   \n",
       "\n",
       "                                             content resource  \n",
       "0  #陕西防控新型肺炎#  【西安小寨银泰城一KFC前台确诊新冠肺炎 活动轨迹公布，急寻相关接触...     新浪陕西  \n",
       "1  #联防联控 西安在行动# 【西安一快餐店前台确诊新冠肺炎 活动轨迹公布】雁塔区新型冠状病毒感...     西安发布  \n",
       "2  #联防联控 西安在行动#【速看 | 西安市灞桥区紧急寻人】西安市灞桥区疾病控制中心对一名新冠...     西安发布  \n",
       "3  #联防联控 西安在行动#【紧急扩散！雁塔区2名确诊病例曾在朱雀市场、曲江国际会展中心年货节购...     西安发布  \n",
       "4  【提醒！运城市稷山县首例确诊患者活动路线公布】2月5日，稷山县新型冠状病毒感染的肺炎疫情防控...    山西青年报  \n",
       "5  \\n#联防联控   高陵在行动# 【紧急扩散！关于急寻高陵区飘雪理发店顾客的通告】我区日前已...     高陵融媒  \n",
       "6  \\n                                            ...     高陵融媒  \n",
       "7  \\n#联防联控 高陵在行动# 紧急扩散【通 告】西安市高陵区新型冠状病毒感染的肺炎疫情防控指...     高陵融媒  "
      ]
     },
     "execution_count": 341,
     "metadata": {},
     "output_type": "execute_result"
    }
   ],
   "source": [
    "wb_extract"
   ]
  },
  {
   "cell_type": "markdown",
   "metadata": {},
   "source": [
    "# 南方都市报"
   ]
  },
  {
   "cell_type": "code",
   "execution_count": 358,
   "metadata": {},
   "outputs": [],
   "source": [
    "\n",
    "url = 'https://m.mp.oeeee.com/a/BAAFRD000020200203257514.html?layer=4&share=chat&isndappinstalled=12'\n",
    "driver.get(url)\n",
    "html =  driver.page_source\n",
    "soup = BeautifulSoup(html, 'lxml')\n",
    "s = soup.find_all(attrs={'class': 'name avatar_click'})\n",
    "sname = s[0].text\n",
    "c = soup.find_all(attrs={'id': 'docContent'})\n",
    "content = c[0].text"
   ]
  },
  {
   "cell_type": "code",
   "execution_count": 360,
   "metadata": {},
   "outputs": [
    {
     "data": {
      "text/plain": [
       "'南都讯\\xa0 2月3日上午，省卫生健康委公布江门市新增1例新型冠状病毒感染的肺炎确诊病例。这是江门市第4例确诊病例，也是开平首例确诊病例。江门市新型冠状病毒感染的肺炎防控指挥部周密部署，经过反复走访，对该例确诊病例密切接触人员进行了细致排查，现将有关情况公布如下。1月21日从武汉回到江门第4例确诊病例姓李，男性，19岁，家住开平市金鸡镇，之前在武汉市江岸区当厨工，1月20日，他与同事、老乡邓某一起驾车，从武汉出发，于1月21日凌晨2时42分到达开平。经过多方走访，了解到李某在开平活动情况：到达开平后，李某与邓某在祥龙中路澳味餐馆吃饭，随后到位于祥龙三区45号的邓某家中短暂休息。6时45分，李某出门搭乘摩托车（车牌JA9G42，车主司徒某）到宝庭园附近下车，于7时18分许坐客车（车牌J42955，司机梁某，当时车上已满座），8时4分到达开平市金鸡镇，9时40分许与母亲等亲人汇合，坐母亲摩托车到金鸡镇圩，李某与3名亲人一起登上台山那扶总站开往长沙车站的客车（车牌J42739，司机关某），10时40分许在长沙车站下车。下车后，李某等4人打滴滴快车（车牌J6M255，车主李某）到长兴路威尼斯沐足店附近下车，步行至步行街龙尾的翠园餐馆，与表伯、表母聚餐。饭后，李某四人步行至益华广场后面的日兴药店约上堂嫂，5人在益华广场的酷宝贝童装店买衣服、在梦幻成真游乐园坐碰碰车。13时45分许，5人离开。李某堂嫂回去上班，李某等四人步行至祥苑路海清甜甜品店吃糖水。15时8分，李某等四人打滴滴快车（车牌J322K1，车主邓某）至长沙车站附近，15时41分许在碧丽宫酒店附近搭乘面包车（车牌JBS418，车主敖某）回金鸡镇。16时28分到达金鸡镇圩后各自回家，李某回家休息。1月22日下午4时，李某到开平市金鸡镇游东田心村，参加同学关某的入伙喜宴，李某坐靠近水塘第二席，同席人员共10人（除李某母亲、妹妹外，还有村民7人）。当晚8时21分许，李某和同学李某至金鸡镇圩搭乘面包车（车牌J78A01，车主池某）到开平市区宝庭园附近下车，在周边闲逛后，于10时2分坐一辆小汽车（车牌J97N89，车主劳某）到花园酒店附近的I DO酒吧饮酒，1月23日凌晨4时25分独自步行到附近的美宜佳超市买烟，3分钟后返回酒吧，于凌晨5时2分与另外两名男子坐出租车（车牌J01B61），到祥和路鱼生粥宵夜档吃宵夜，5时44分许坐出租车（车牌J73K93）至长沙车站，5时59分由长沙车站搭乘往台山市那扶总站的客车（车牌J42739，司机关某）回金鸡镇。期间，李某因睡过头，7时28分许抵达台山市那扶总站后，再于7时31分搭乘同一辆客车回金鸡镇，并于8时15分许抵达金鸡镇下车。随后，李某父亲驾摩托车载李某回家。李某在家休息后，当晚6时到村路边小卖部玩乐至当晚9时30分许回家。1月24日上午李某在家，14时许，李某和其伯父、六叔到自家鱼塘捉鱼，随后回家吃团年饭。当晚9时45分，李某驾摩托车至金鸡镇圩三品三贡奶茶店买奶茶，随后载其堂弟回家。1月25日，李某上午、中午一直在家，14时许到村路边小卖部玩乐，期间回家吃晚饭后继续到小卖部玩乐至1月26日凌晨1时30分许回家。1月26日13时30分许，李某到村路边小卖部玩乐。16时26分，村干部联系李某做好登记和要求戴口罩。随后李某回家，一直居家隔离，每天登记体温和症状，无发热，但少咳。2月1日晚上，经江门市疾病预防控制中心复核结果为新型冠状病毒核酸检测阳性。2月2日，江门市中心医院报告该例新型冠状病毒感染的肺炎病例。目前，患者正在江门市中心医院接受隔离治疗，病情稳定。密切接触者共有10人经过走访、排查，确定患者的密切接触者共有10人。包括李某的父亲、母亲、妹妹、祖母四人；叔叔一家四口；其同事邓某、朋友李某。目前1人在江门市中心医院隔离治疗，其余9人已被送往定点隔离场所进行集中隔离，并进行医学和健康观察，有关信息将第一时间公布。李某的表伯夫妇和堂嫂等其他接触者已实施居家隔离。相关司机、乘客、餐饮、商场等接触人员排查已全面展开，部分人员已找到，严格落实居家隔离。村小组31个村民在村集中隔离有关方面已对李某所居住的村小组共31个村民在村集中隔离，并多次对李某住所及周边、明确前往过的处所等，开展卫生消毒处理。2月1日上午，疾控部门已对患者居住地村小组进行了终末消毒（传染源出院、转移、死亡而离开疫点或终止传染状态后，对疫点进行的一次彻底消毒），以消灭病人所播散的、遗留在居室和各种物体上的存活的病原体，使疫点无害化。按照医疗垃圾处理标准，对李某家庭生活垃圾进行专门处理。江门市新型冠状病毒感染的肺炎防控指挥部再次呼吁，同时段的接触人员，要第一时间报所在社区、村居登记，由各社区、村居向市卫健部门报告并持续跟踪登记人员的身体情况，或致电开平市防疫专线电话（0750-2215899）登记和咨询检测就诊方法，并请自行居家隔离观察14天，坚持每天2次（上下午各1次）测量体温。监测过程中，如发现自己或周边人有异常情况，请立即戴口罩到就近指定的发热门诊检测就诊，尽量不要乘坐公共交通工具。如自1月21日起14天后无发热、干咳、呼吸困难等症状的，根据有关防控工作指引，可以不用向社区、村居或有关部门登记。江门市新型冠状病毒感染的肺炎防控指挥部一定全力以赴严防病毒的传播、阻止疫情的蔓延，最大限度保护广大市民的生命健康，也恳请全市人民群众近期尽量不要出门，避免到人员密集场所，若必须外出一定要佩戴口罩，有异常一定要及时就医。请广大市民提高警惕，一旦发现疫情，请第一时间联系卫生健康部门跟进处理。\\xa0编辑：罗忠明\\n                    更多报道请看专题：滚动更新：防控新型冠状病毒肺炎，江门在行动！社会台山江门44对这篇文章有想法？跟我聊聊吧罗忠明1.2亿南方都市报记者\\n        南都新闻，未经授权不得转载。授权联系方式：banquan@nandu.cc，020-87006626。\\n    阅读 '"
      ]
     },
     "execution_count": 360,
     "metadata": {},
     "output_type": "execute_result"
    }
   ],
   "source": [
    "content"
   ]
  },
  {
   "cell_type": "markdown",
   "metadata": {},
   "source": [
    "# DIFFBOTAPI"
   ]
  },
  {
   "cell_type": "code",
   "execution_count": null,
   "metadata": {},
   "outputs": [],
   "source": [
    "token = '63ce8433d23e1f4d8cbd8bf14390fcc7'\n",
    "url = 'https://baijiahao.baidu.com/s?id=1658403541897422656&wfr=spider&for=pc'\n",
    "api = 'https://api.diffbot.com/v3/article'\n",
    "\n",
    "params = {\n",
    "    'token': token,\n",
    "    'url': url,\n",
    "    'fields': {'images','videos'} \n",
    "}\n",
    "\n",
    "response = requests.get(api, params=params)\n",
    "print(json.dumps(response.json(), indent=2, ensure_ascii=False))"
   ]
  },
  {
   "cell_type": "markdown",
   "metadata": {},
   "source": [
    "# GNE"
   ]
  },
  {
   "cell_type": "code",
   "execution_count": null,
   "metadata": {},
   "outputs": [],
   "source": [
    "def GETHTML(url,driver):\n",
    "    ''' \n",
    "        input:url,driver\n",
    "    \n",
    "        output:GETHTML\n",
    "    '''\n",
    "    html =  ''\n",
    "    # 用引擎\n",
    "    driver.get(url)\n",
    "    sleep(0.2)\n",
    "    try:\n",
    "        html =  driver.page_source\n",
    "    except Expection as e:\n",
    "        pass\n",
    "    return html"
   ]
  },
  {
   "cell_type": "code",
   "execution_count": null,
   "metadata": {},
   "outputs": [],
   "source": [
    "from gne import GeneralNewsExtractor\n",
    "url = 'http://wjw.sz.gov.cn/yqxx/202002/t20200209_19006168.htm'\n",
    "html= GETHTML(url,driver)\n",
    "extractor = GeneralNewsExtractor()\n",
    "result = extractor.extract(html)\n",
    "print(result)"
   ]
  },
  {
   "cell_type": "markdown",
   "metadata": {},
   "source": [
    "# 汇总："
   ]
  },
  {
   "cell_type": "markdown",
   "metadata": {},
   "source": [
    "# 正文抽取：分类模板-DIFFBOTAPI-GNE"
   ]
  },
  {
   "cell_type": "code",
   "execution_count": 478,
   "metadata": {},
   "outputs": [],
   "source": [
    "def get_content(url,driver):\n",
    "    ''' \n",
    "        input:url,driver  \n",
    "        output:sname,text,images\n",
    "    '''\n",
    "    \n",
    "    content = ''\n",
    "    sname = ''\n",
    "    methods=''\n",
    "    images= []\n",
    "    \n",
    "    \n",
    "    templates = ['weibo.com','mp.weixin.qq.com','m.weibo.cn','m.mp.oeeee.com']\n",
    "    # 判断是否在模板库中\n",
    "    in_ = False\n",
    "    for t in templates:\n",
    "        if t in url:\n",
    "            in_ = True\n",
    "            break\n",
    "    if in_:\n",
    "        methods = 'template'\n",
    "        if 'mp.weixin.qq.com' in url:\n",
    "            # 微信公众号\n",
    "            print(url,'wx')\n",
    "            driver.get(url)\n",
    "            sleep(0.5)\n",
    "            html =  driver.page_source\n",
    "            soup = BeautifulSoup(html, 'html.parser')\n",
    "            sn,sc = ['#js_name','#js_content']\n",
    "            resource_name = soup.select(sn)\n",
    "            content_selector = soup.select(sc)[0]\n",
    "            content = content_selector.get_text()\n",
    "            resource_name = resource_name[0].get_text()\n",
    "            sname = re.sub(r'[^\\u4e00-\\u9fa5]','',resource_name)\n",
    "            imglist = []\n",
    "            imgs = content_selector.find_all('img')\n",
    "    \n",
    "            if len(imgs)>=1:\n",
    "                for img in imgs:\n",
    "                    img_dict = img.attrs\n",
    "                    if 'data-type' in img_dict:\n",
    "                        if 'gif' in img_dict['data-type']:\n",
    "                            continue\n",
    "                        else:\n",
    "                            if 'data-src' in img_dict:\n",
    "                                images.append(img_dict['data-src'])\n",
    "                            elif 'src' in img_dict:\n",
    "                                images.append(img_dict['src'])\n",
    "            \n",
    "        elif 'm.weibo.cn' in url:\n",
    "            # 微博手机端\n",
    "            print(url,'mwb')\n",
    "            driver.get(url)\n",
    "            html =  driver.page_source\n",
    "            soup = BeautifulSoup(html, 'html.parser')\n",
    "            r = soup.select('#app > div.lite-page-wrap > div > div.main > div > div > header > div.m-box-dir.m-box-col.m-box-center > div > a > h3')\n",
    "            sname = re.sub(r'[^\\u4e00-\\u9fa5]','',r[0].text)\n",
    "            c = soup.find_all(attrs={'class': 'weibo-text'})\n",
    "            content = c[0].text\n",
    "        \n",
    "        elif 'weibo.com' in url:\n",
    "            # 微博pc端 \n",
    "            print(url,'pcwb')\n",
    "            driver.get(url)\n",
    "            html =  driver.page_source\n",
    "            soup = BeautifulSoup(html, 'lxml')\n",
    "            c = soup.find_all(attrs={'class': 'WB_text'})\n",
    "            if c != []:\n",
    "                content = c[0].text\n",
    "                sname = c[0].attrs['nick-name']\n",
    "            \n",
    "        elif 'm.mp.oeeee.com' in url:\n",
    "            # 南方都市报\n",
    "            print(url,'nd')\n",
    "#             url = 'https://m.mp.oeeee.com/a/BAAFRD000020200203257514.html?layer=4&share=chat&isndappinstalled=12'\n",
    "            driver.get(url)\n",
    "            sleep(0.5)\n",
    "            html =  driver.page_source\n",
    "            soup = BeautifulSoup(html, 'lxml')\n",
    "            s = soup.find_all(attrs={'class': 'name avatar_click'})\n",
    "            if s != []:\n",
    "                sname = s[0].text\n",
    "            c = soup.find_all(attrs={'id': 'docContent'})\n",
    "            if c != []:\n",
    "                content = c[0].text\n",
    "        \n",
    "    else:\n",
    "        diffbot_invaild = False\n",
    "        # 不在模板库里，调用diffbot的api进行视觉分割+机器学习的正文抽取\n",
    "#         url = 'https://mp.weixin.qq.com/s/HTsNM1zxEAx3IqoF1uYnYA'\n",
    "        api = 'https://api.diffbot.com/v3/article'\n",
    "        params = {\n",
    "            'token': token,\n",
    "            'url': url,\n",
    "            'fields': 'images' \n",
    "        }\n",
    "        response = requests.get(api, params=params)\n",
    "#         print(json.dumps(response.json(), indent=2, ensure_ascii=False))\n",
    "        result = response.json()\n",
    "        if 'error' not in result and 'text' in result and result['text'] != '':\n",
    "            methods = 'diffbot'\n",
    "            print(url,'diffbot')\n",
    "            sname = result['objects'][0]['siteName']\n",
    "            content = result['objects'][0]['text']\n",
    "            if 'images' in result['objects'][0]:\n",
    "                imgs = result['objects'][0]['images']\n",
    "                for img in imgs:\n",
    "                    images.append(img['url'])\n",
    "        else:\n",
    "            methods = 'GNE'\n",
    "            print(url,'gne')\n",
    "            # 无法用api,iffbot失效，转用基于文本密度和符号密度的GNE工具包抽取正文\n",
    "            print(response.text,url)\n",
    "            driver.get(url)\n",
    "            sleep(0.5)\n",
    "            html =  driver.page_source\n",
    "            host = re.search(r'(https{0,1}://)(.+?)(/)',url).group(2)\n",
    "            result = extractor.extract(html,host=host)\n",
    "            content = result['content']\n",
    "            sname = result['title']\n",
    "            images = result['images']\n",
    "            \n",
    "        \n",
    "    return sname,content,images,methods"
   ]
  },
  {
   "cell_type": "code",
   "execution_count": 462,
   "metadata": {},
   "outputs": [],
   "source": [
    "goodURL = pd.read_csv(\"./good_url_5.1.csv\")"
   ]
  },
  {
   "cell_type": "code",
   "execution_count": 463,
   "metadata": {},
   "outputs": [],
   "source": [
    "del goodURL['Unnamed: 0']"
   ]
  },
  {
   "cell_type": "code",
   "execution_count": 464,
   "metadata": {},
   "outputs": [
    {
     "data": {
      "text/html": [
       "<div>\n",
       "<style scoped>\n",
       "    .dataframe tbody tr th:only-of-type {\n",
       "        vertical-align: middle;\n",
       "    }\n",
       "\n",
       "    .dataframe tbody tr th {\n",
       "        vertical-align: top;\n",
       "    }\n",
       "\n",
       "    .dataframe thead th {\n",
       "        text-align: right;\n",
       "    }\n",
       "</style>\n",
       "<table border=\"1\" class=\"dataframe\">\n",
       "  <thead>\n",
       "    <tr style=\"text-align: right;\">\n",
       "      <th></th>\n",
       "      <th>url</th>\n",
       "    </tr>\n",
       "  </thead>\n",
       "  <tbody>\n",
       "    <tr>\n",
       "      <th>0</th>\n",
       "      <td>https://mp.weixin.qq.com/s/HTsNM1zxEAx3IqoF1uYnYA</td>\n",
       "    </tr>\n",
       "    <tr>\n",
       "      <th>1</th>\n",
       "      <td>http://hc.nc.gov.cn/ncwjw/gzdt/202002/b5cf8972...</td>\n",
       "    </tr>\n",
       "    <tr>\n",
       "      <th>2</th>\n",
       "      <td>http://m.ha.bendibao.com/mip/1636.shtm</td>\n",
       "    </tr>\n",
       "    <tr>\n",
       "      <th>3</th>\n",
       "      <td>http://news.gxnews.com.cn/staticpages/20200209...</td>\n",
       "    </tr>\n",
       "    <tr>\n",
       "      <th>4</th>\n",
       "      <td>http://o.xiancity.cn/system/2020/02/09/0307133...</td>\n",
       "    </tr>\n",
       "    <tr>\n",
       "      <th>...</th>\n",
       "      <td>...</td>\n",
       "    </tr>\n",
       "    <tr>\n",
       "      <th>181</th>\n",
       "      <td>https://mp.weixin.qq.com/s/zOGzJVviegMaLRE8tuiLRw</td>\n",
       "    </tr>\n",
       "    <tr>\n",
       "      <th>182</th>\n",
       "      <td>https://weibo.com/7129811001/IrH6peQ3d?from=pa...</td>\n",
       "    </tr>\n",
       "    <tr>\n",
       "      <th>183</th>\n",
       "      <td>https://weibo.com/7129811001/IssWHlJzw?from=pa...</td>\n",
       "    </tr>\n",
       "    <tr>\n",
       "      <th>184</th>\n",
       "      <td>https://weibo.com/7129811001/ItKAzr93p?from=pa...</td>\n",
       "    </tr>\n",
       "    <tr>\n",
       "      <th>185</th>\n",
       "      <td>https://mp.weixin.qq.com/s/URJDtNlB8jOnsmdH17VjXA</td>\n",
       "    </tr>\n",
       "  </tbody>\n",
       "</table>\n",
       "<p>186 rows × 1 columns</p>\n",
       "</div>"
      ],
      "text/plain": [
       "                                                   url\n",
       "0    https://mp.weixin.qq.com/s/HTsNM1zxEAx3IqoF1uYnYA\n",
       "1    http://hc.nc.gov.cn/ncwjw/gzdt/202002/b5cf8972...\n",
       "2               http://m.ha.bendibao.com/mip/1636.shtm\n",
       "3    http://news.gxnews.com.cn/staticpages/20200209...\n",
       "4    http://o.xiancity.cn/system/2020/02/09/0307133...\n",
       "..                                                 ...\n",
       "181  https://mp.weixin.qq.com/s/zOGzJVviegMaLRE8tuiLRw\n",
       "182  https://weibo.com/7129811001/IrH6peQ3d?from=pa...\n",
       "183  https://weibo.com/7129811001/IssWHlJzw?from=pa...\n",
       "184  https://weibo.com/7129811001/ItKAzr93p?from=pa...\n",
       "185  https://mp.weixin.qq.com/s/URJDtNlB8jOnsmdH17VjXA\n",
       "\n",
       "[186 rows x 1 columns]"
      ]
     },
     "execution_count": 464,
     "metadata": {},
     "output_type": "execute_result"
    }
   ],
   "source": [
    "goodURL"
   ]
  },
  {
   "cell_type": "code",
   "execution_count": 465,
   "metadata": {},
   "outputs": [],
   "source": [
    "Content = goodURL[:]"
   ]
  },
  {
   "cell_type": "code",
   "execution_count": 466,
   "metadata": {},
   "outputs": [
    {
     "data": {
      "text/html": [
       "<div>\n",
       "<style scoped>\n",
       "    .dataframe tbody tr th:only-of-type {\n",
       "        vertical-align: middle;\n",
       "    }\n",
       "\n",
       "    .dataframe tbody tr th {\n",
       "        vertical-align: top;\n",
       "    }\n",
       "\n",
       "    .dataframe thead th {\n",
       "        text-align: right;\n",
       "    }\n",
       "</style>\n",
       "<table border=\"1\" class=\"dataframe\">\n",
       "  <thead>\n",
       "    <tr style=\"text-align: right;\">\n",
       "      <th></th>\n",
       "      <th>url</th>\n",
       "    </tr>\n",
       "  </thead>\n",
       "  <tbody>\n",
       "    <tr>\n",
       "      <th>0</th>\n",
       "      <td>https://mp.weixin.qq.com/s/HTsNM1zxEAx3IqoF1uYnYA</td>\n",
       "    </tr>\n",
       "    <tr>\n",
       "      <th>1</th>\n",
       "      <td>http://hc.nc.gov.cn/ncwjw/gzdt/202002/b5cf8972...</td>\n",
       "    </tr>\n",
       "    <tr>\n",
       "      <th>2</th>\n",
       "      <td>http://m.ha.bendibao.com/mip/1636.shtm</td>\n",
       "    </tr>\n",
       "    <tr>\n",
       "      <th>3</th>\n",
       "      <td>http://news.gxnews.com.cn/staticpages/20200209...</td>\n",
       "    </tr>\n",
       "    <tr>\n",
       "      <th>4</th>\n",
       "      <td>http://o.xiancity.cn/system/2020/02/09/0307133...</td>\n",
       "    </tr>\n",
       "    <tr>\n",
       "      <th>...</th>\n",
       "      <td>...</td>\n",
       "    </tr>\n",
       "    <tr>\n",
       "      <th>181</th>\n",
       "      <td>https://mp.weixin.qq.com/s/zOGzJVviegMaLRE8tuiLRw</td>\n",
       "    </tr>\n",
       "    <tr>\n",
       "      <th>182</th>\n",
       "      <td>https://weibo.com/7129811001/IrH6peQ3d?from=pa...</td>\n",
       "    </tr>\n",
       "    <tr>\n",
       "      <th>183</th>\n",
       "      <td>https://weibo.com/7129811001/IssWHlJzw?from=pa...</td>\n",
       "    </tr>\n",
       "    <tr>\n",
       "      <th>184</th>\n",
       "      <td>https://weibo.com/7129811001/ItKAzr93p?from=pa...</td>\n",
       "    </tr>\n",
       "    <tr>\n",
       "      <th>185</th>\n",
       "      <td>https://mp.weixin.qq.com/s/URJDtNlB8jOnsmdH17VjXA</td>\n",
       "    </tr>\n",
       "  </tbody>\n",
       "</table>\n",
       "<p>186 rows × 1 columns</p>\n",
       "</div>"
      ],
      "text/plain": [
       "                                                   url\n",
       "0    https://mp.weixin.qq.com/s/HTsNM1zxEAx3IqoF1uYnYA\n",
       "1    http://hc.nc.gov.cn/ncwjw/gzdt/202002/b5cf8972...\n",
       "2               http://m.ha.bendibao.com/mip/1636.shtm\n",
       "3    http://news.gxnews.com.cn/staticpages/20200209...\n",
       "4    http://o.xiancity.cn/system/2020/02/09/0307133...\n",
       "..                                                 ...\n",
       "181  https://mp.weixin.qq.com/s/zOGzJVviegMaLRE8tuiLRw\n",
       "182  https://weibo.com/7129811001/IrH6peQ3d?from=pa...\n",
       "183  https://weibo.com/7129811001/IssWHlJzw?from=pa...\n",
       "184  https://weibo.com/7129811001/ItKAzr93p?from=pa...\n",
       "185  https://mp.weixin.qq.com/s/URJDtNlB8jOnsmdH17VjXA\n",
       "\n",
       "[186 rows x 1 columns]"
      ]
     },
     "execution_count": 466,
     "metadata": {},
     "output_type": "execute_result"
    }
   ],
   "source": [
    "Content"
   ]
  },
  {
   "cell_type": "code",
   "execution_count": 470,
   "metadata": {},
   "outputs": [
    {
     "name": "stdout",
     "output_type": "stream",
     "text": [
      "https://mp.weixin.qq.com/s/HTsNM1zxEAx3IqoF1uYnYA wx\n",
      "http://hc.nc.gov.cn/ncwjw/gzdt/202002/b5cf89720dbf4968850892328059db4c.shtml gne\n",
      "{\"errorCode\":404,\"error\":\"Could not download page (404)\"} http://hc.nc.gov.cn/ncwjw/gzdt/202002/b5cf89720dbf4968850892328059db4c.shtml\n",
      "http://m.ha.bendibao.com/mip/1636.shtm diffbot\n",
      "http://news.gxnews.com.cn/staticpages/20200209/newgx5e3f4bbc-19247534-3.shtml diffbot\n",
      "http://o.xiancity.cn/system/2020/02/09/030713354.shtml diffbot\n",
      "http://sn.ifeng.com/a/20200209/8181674_0.shtml diffbot\n",
      "http://sxwjw.shaanxi.gov.cn/art/2020/2/13/art_9_67993.html diffbot\n",
      "http://sxwjw.shaanxi.gov.cn/art/2020/2/3/art_9_67666.html diffbot\n",
      "http://sy.bendibao.com/news/202023/55857.shtm diffbot\n",
      "http://wjw.gz.gov.cn/ztzl/xxfyyqfk/yqtb/content/post_5648584.html diffbot\n",
      "http://wjw.gz.gov.cn/ztzl/xxfyyqfk/yqtb/content/post_5662091.html diffbot\n",
      "http://wjw.nmg.gov.cn/doc/2020/02/01/286091.shtml diffbot\n",
      "http://wjw.nmg.gov.cn/doc/2020/02/02/286191.shtml diffbot\n",
      "http://wjw.nmg.gov.cn/doc/2020/02/09/291226.shtml diffbot\n",
      "http://wjw.sz.gov.cn/yqxx/202002/t20200209_19006168.htm diffbot\n",
      "http://wjw.taiyuan.gov.cn/doc/2020/02/07/955867.shtml gne\n",
      "{\"errorCode\":408,\"error\":\"Request of third-party content timed out. The \\\"timeout\\\" querystring argument can be used to increase wait time (in milliseconds). For example, \\\"...?timeout=50000&url=...\\\"\"} http://wjw.taiyuan.gov.cn/doc/2020/02/07/955867.shtml\n",
      "http://wjw.taiyuan.gov.cn/doc/2020/02/08/955916.shtml gne\n",
      "{\"errorCode\":408,\"error\":\"Request of third-party content timed out. The \\\"timeout\\\" querystring argument can be used to increase wait time (in milliseconds). For example, \\\"...?timeout=50000&url=...\\\"\"} http://wjw.taiyuan.gov.cn/doc/2020/02/08/955916.shtml\n",
      "http://wsjkw.sh.gov.cn/xwfb/20200208/f3882592b1144b558a13a5a9c4ac4a9f.html diffbot\n",
      "http://www.wuzhong.gov.cn/ztzl/ztlb/kjyq/202001/t20200130_1936123.html diffbot\n",
      "http://wx.hznews.com/data/hzby_2019-nCoV/index_bl.php diffbot\n",
      "https://baijiahao.baidu.com/s?id=1657795127584927321&wfr=spider&for=pc diffbot\n",
      "https://baijiahao.baidu.com/s?id=1658403541897422656&wfr=spider&for=pc diffbot\n",
      "https://m.mp.oeeee.com/a/BAAFRD000020200203257514.html?layer=4&share=chat&isndappinstalled=12 nd\n",
      "https://m.mp.oeeee.com/a/BAAFRD000020200212262511.html nd\n",
      "https://m.weibo.cn/2162541102/4469831778965414 mwb\n",
      "https://m.weibo.cn/3757167087/4469821893163355 mwb\n",
      "https://m.weibo.cn/3757167087/4471457452715962 mwb\n",
      "https://m.weibo.cn/3757167087/4471458430201395 mwb\n",
      "https://m.weibo.cn/detail/4468614512282405 mwb\n",
      "https://mp.weixin.qq.com/s/03w_HdZGypbtAG33jikquw wx\n",
      "https://mp.weixin.qq.com/s/0xihh12dgBBxbfozR6fnNg wx\n",
      "https://mp.weixin.qq.com/s/0zzx4G3oUPQmzNk6JTTUzQ wx\n",
      "https://mp.weixin.qq.com/s/15bQoiHzj8ABrnySvnEtQA wx\n",
      "https://mp.weixin.qq.com/s/16ICfUi-Z2UMbbckkm0Xpw wx\n",
      "https://mp.weixin.qq.com/s/1gv6bdr4kVBq4nUYOMqJHg wx\n",
      "https://mp.weixin.qq.com/s/1l-RCQ_OfAMhOZZSmo2sDw wx\n",
      "https://mp.weixin.qq.com/s/21pwvOkvunpCGf0F8UGsKQ wx\n",
      "https://mp.weixin.qq.com/s/22zfhtcc5aqqWpt0anCVOQ wx\n",
      "https://mp.weixin.qq.com/s/23fOSN0X3dT99e22m34Few wx\n",
      "https://mp.weixin.qq.com/s/2COYPOACgINLbVZGLJ20pw wx\n",
      "https://mp.weixin.qq.com/s/2HRalKs46VxIkbLMBBGbCA wx\n",
      "https://mp.weixin.qq.com/s/2J9_3bKsljNLeVmFqY4rxQ wx\n",
      "https://mp.weixin.qq.com/s/2ri05eGgAq5QHorGkz07sw wx\n",
      "https://mp.weixin.qq.com/s/3_ru000m-BsCB3uAjbohAg wx\n",
      "https://mp.weixin.qq.com/s/39apxV_xQLEu0MJ5ToE__g wx\n",
      "https://mp.weixin.qq.com/s/3GBAMxcOz-brFl_7_soiXg wx\n",
      "https://mp.weixin.qq.com/s/40KCQ1yZszq1b5OMNsRctg wx\n",
      "https://mp.weixin.qq.com/s/4JrjMJc7lPDCFHXY3LFSeQ wx\n",
      "https://mp.weixin.qq.com/s/4ofIalWCUGmYPNTPhiuiTg wx\n",
      "https://mp.weixin.qq.com/s/53yB1QgwVerWm6riIRUV6A wx\n",
      "https://mp.weixin.qq.com/s/6j-iL-tu6pxdC8q8srFvdA wx\n",
      "https://mp.weixin.qq.com/s/6QQRQ2p1q9OSHHa85dJvpA wx\n",
      "https://mp.weixin.qq.com/s/704BrIOuTkxkpuXdek9sXw wx\n",
      "https://mp.weixin.qq.com/s/7aB-WIhbkljfsaO6in6cIw wx\n",
      "https://mp.weixin.qq.com/s/7Odzuq-I-eqrHPwU9vEujQ wx\n",
      "https://mp.weixin.qq.com/s/8g-ggBSz1IbIZJZOFVxn0A wx\n",
      "https://mp.weixin.qq.com/s/92XTQRGQ4PLLM0yz9dgZHA wx\n",
      "https://mp.weixin.qq.com/s/99IBrH7yBT2bi_k6CXWk1A wx\n",
      "https://mp.weixin.qq.com/s/A1M0SLD-CJUegw0GAIlvEQ wx\n",
      "https://mp.weixin.qq.com/s/A4_l39IRa-METFqXyLUaKw wx\n",
      "https://mp.weixin.qq.com/s/AL2WfgREI1kR0MaUaP3yVA wx\n",
      "https://mp.weixin.qq.com/s/ANsFtyEh-ThyG6bYF23Mdw wx\n",
      "https://mp.weixin.qq.com/s/AtGvqHMpPj--woNeOVHqJg wx\n",
      "https://mp.weixin.qq.com/s/aupP3RkGcLcJ3kcRTWIQSw wx\n",
      "https://mp.weixin.qq.com/s/AuuQN67_9XRnT3v-YQ-6Kg wx\n",
      "https://mp.weixin.qq.com/s/BbpXFJ_S_I2aHe8_BCqA3w wx\n",
      "https://mp.weixin.qq.com/s/BEf8kNgXeQhxvmMjylOmgQ wx\n",
      "https://mp.weixin.qq.com/s/bFw2DNyZr50uzgb7lYg2iw wx\n",
      "https://mp.weixin.qq.com/s/BowMr0k90t8psMKEWMmshQ wx\n",
      "https://mp.weixin.qq.com/s/BQk8wSVC6V4SLRp5A0BSDQ wx\n",
      "https://mp.weixin.qq.com/s/brhYtrHRMv5rb_SYHoX3fA wx\n",
      "https://mp.weixin.qq.com/s/BTBVokDLUFUBisFVrreTIg wx\n",
      "https://mp.weixin.qq.com/s/byOBjYcuIE-ozN5-5j2NjQ wx\n",
      "https://mp.weixin.qq.com/s/BzRmrot5EL4FRlANN3jPog wx\n",
      "https://mp.weixin.qq.com/s/CCv9mOu-azDpGCngDnutWw wx\n",
      "https://mp.weixin.qq.com/s/D_O9alCJ9kQNF9HzQovfpw wx\n",
      "https://mp.weixin.qq.com/s/d0ChVGAE859JSuSQ4-yuwg wx\n",
      "https://mp.weixin.qq.com/s/d9aurz1S2epuqAQy3ZL_hw wx\n",
      "https://mp.weixin.qq.com/s/DclHoJStly7-_Uz_uk2LmA wx\n",
      "https://mp.weixin.qq.com/s/DGeAhP_Mks4hJputXQK4_w wx\n",
      "https://mp.weixin.qq.com/s/DNtuRvc9NM88eBEX61IpAQ wx\n",
      "https://mp.weixin.qq.com/s/DWFNXijNXN0pQLZr2icG5A wx\n",
      "https://mp.weixin.qq.com/s/eECI1S8obg-Vx11xTjggoA wx\n",
      "https://mp.weixin.qq.com/s/EiKDu4VTdr4k8o2Uq5Fvcw wx\n",
      "https://mp.weixin.qq.com/s/en5XMsElXu6JIs0UHd_lmA wx\n",
      "https://mp.weixin.qq.com/s/F2RiiyzIE87ilYzlAZ0OOw wx\n",
      "https://mp.weixin.qq.com/s/FEf_w5LyNb8-xXKA_T3e5g wx\n",
      "https://mp.weixin.qq.com/s/feTfJCSFxyoufeEAks228w wx\n",
      "https://mp.weixin.qq.com/s/fTiCuXTR8iCNPE0zX3gOrw wx\n",
      "https://mp.weixin.qq.com/s/ftLPQ6l4nOIX7aRnrRSLCA wx\n",
      "https://mp.weixin.qq.com/s/FYb03z5wslK1Wzzp1FiA5A wx\n",
      "https://mp.weixin.qq.com/s/g5khDHYw8DsVIIlz9KlByg wx\n",
      "https://mp.weixin.qq.com/s/g89sB9SZS0FSyD1B-bnwag wx\n",
      "https://mp.weixin.qq.com/s/GA_mH8SwviTGaxiSdeHO2A wx\n",
      "https://mp.weixin.qq.com/s/gd2P77m_DseuaCvzmHLwbg wx\n",
      "https://mp.weixin.qq.com/s/GGeiv9zLDVP9t5CXddQAvw wx\n",
      "https://mp.weixin.qq.com/s/gJ2GE_ihEoPaeQmY143dhA wx\n",
      "https://mp.weixin.qq.com/s/gOIBYl1Hm1R7cQTlkVjyyw wx\n",
      "https://mp.weixin.qq.com/s/gX82KJTHdwAbVgK6hADT9A wx\n",
      "https://mp.weixin.qq.com/s/Hdz-Q-3Eig8VGsZJwzTNow wx\n",
      "https://mp.weixin.qq.com/s/HTsNM1zxEAx3IqoF1uYnYA wx\n",
      "http://mp.weixin.qq.com/s?__biz=MzI3NDE1NTQ2NQ==&mid=2247484445&amp;idx=1&amp;sn=ebf7bd5008d7749ed6eed1ab839df87d&source=41#wechat_redirect wx\n",
      "https://mp.weixin.qq.com/s/i5Qja8vQ7wmL65JhuRxS-g wx\n",
      "https://mp.weixin.qq.com/s/I8W5RhgaVZE5pV9gf010Ew wx\n",
      "https://mp.weixin.qq.com/s/IGaJ4Sz0Uc7ncxnG1lrtGg wx\n",
      "https://mp.weixin.qq.com/s/Ilcw8gqTBS1mj2sL9y8BBw wx\n",
      "https://mp.weixin.qq.com/s/i-OHNjnnHgRfODKlpUSYFg wx\n",
      "https://mp.weixin.qq.com/s/iWJ6omQpWP3YwGkjPANq-Q wx\n",
      "https://mp.weixin.qq.com/s/J8zMLEAWqq7PLh-y0yO7Tg wx\n",
      "https://mp.weixin.qq.com/s/JaEaBvbW6dpw3M2LVmA-jw wx\n",
      "https://mp.weixin.qq.com/s/JEGFaPaXbJCyg4L2Y5f2cA wx\n",
      "https://mp.weixin.qq.com/s/JEGFaPaXbJCyg4L2Y5f2cA wx\n",
      "https://mp.weixin.qq.com/s/jjFdgGdM_qILo5mLaZhylg wx\n",
      "https://mp.weixin.qq.com/s/k6QZ28KFo3_9-Jvp2td2HA wx\n",
      "https://mp.weixin.qq.com/s/KK1b85TfZg3OKob_s8ju0Q wx\n",
      "https://mp.weixin.qq.com/s/L6UmSE1h35jGNX9nII7W1w wx\n",
      "https://mp.weixin.qq.com/s/l7-4X1mqf191u1sKbwpwtg wx\n",
      "https://mp.weixin.qq.com/s/LBJ9bWwWH3dIDgHbX3JrMA wx\n",
      "https://mp.weixin.qq.com/s/ljO-jnuFaLY7dlay04vnQQ wx\n",
      "https://mp.weixin.qq.com/s/L-kxyVWz2388nVMrHpNwSQ wx\n",
      "https://mp.weixin.qq.com/s/LLeJqI0C3wg_XMJxptr6hA wx\n",
      "https://mp.weixin.qq.com/s/MaIhftMbVTrBaslpSPNkuA wx\n",
      "https://mp.weixin.qq.com/s/MJayWWtfMetX7uypjW34jA wx\n",
      "https://mp.weixin.qq.com/s/MPkzfHNESrN7F8ZKCYob7Q wx\n",
      "https://mp.weixin.qq.com/s/MpL6gwVXTxFjfOsBr2SqQg wx\n",
      "https://mp.weixin.qq.com/s/nqSkq_C1SWyXwSoWH8Tl_Q wx\n",
      "https://mp.weixin.qq.com/s/o8htUb-Eq0jI-18koz4JSA wx\n",
      "https://mp.weixin.qq.com/s/oAp7a7J7b8ueznBiy6UfHw wx\n",
      "https://mp.weixin.qq.com/s/O-d8n6f_AygAgNedh-sOoQ wx\n",
      "https://mp.weixin.qq.com/s/oSfryyVX7e2CaDTyVRBR1A wx\n",
      "https://mp.weixin.qq.com/s/p8FwAyaWqBQPQ9ExZNRunA wx\n",
      "https://mp.weixin.qq.com/s/pAaXlR0Rc7IjTkrJ_nmOHw wx\n",
      "https://mp.weixin.qq.com/s/pathagzfYVfG7rgn4fsehw wx\n",
      "https://mp.weixin.qq.com/s/pCknNhnIW75e0cHBe54iyg wx\n",
      "https://mp.weixin.qq.com/s/PxlQtWded0LAEHEEjPPQjQ wx\n"
     ]
    },
    {
     "name": "stdout",
     "output_type": "stream",
     "text": [
      "https://mp.weixin.qq.com/s/qMb78wvftwMT0Fx-fbgkVA wx\n",
      "https://mp.weixin.qq.com/s/qnN8WIp6bdivLrcxn3kw8A wx\n",
      "https://mp.weixin.qq.com/s/qQZ6QvNts9rpSWcPgDXZUA wx\n",
      "https://mp.weixin.qq.com/s/qVcPv1s491KY6BfXb7BGDg wx\n",
      "https://mp.weixin.qq.com/s/QVO-ku5SAFS5lGfrJ3tqvw wx\n",
      "https://mp.weixin.qq.com/s/Rbni3MycgbIuiz5YgD2DCg wx\n",
      "https://mp.weixin.qq.com/s/rfJiJIU49y8MmMJOXttxBw wx\n",
      "https://mp.weixin.qq.com/s/S5JyC2E2Vn5XL0jcKkmBPg wx\n",
      "https://mp.weixin.qq.com/s/sHZtvU0GD-sUbKT8lexYZA wx\n",
      "https://mp.weixin.qq.com/s/SRElAd3cHRF5Z1yIJOeMYQ wx\n",
      "https://mp.weixin.qq.com/s/T7W4z1YpykNltgM4Els3cw wx\n",
      "https://mp.weixin.qq.com/s/tHvCXVKoe13lU2_EP935QQ wx\n",
      "https://mp.weixin.qq.com/s/TndLruxymZlVFM7oT-tbmQ wx\n",
      "https://mp.weixin.qq.com/s/tnX6pWa1ag-aA4zvjQh2Qg wx\n",
      "https://mp.weixin.qq.com/s/TTppjI31ZGHP4nDiAueQZw wx\n",
      "https://mp.weixin.qq.com/s/U019DW4SJCxW7RTcd9I1Iw wx\n",
      "https://mp.weixin.qq.com/s/uaNlrAc-0-i_rMvYaAYVJA wx\n",
      "https://mp.weixin.qq.com/s/UD8VFba4oRx4LLJm3cX7zw wx\n",
      "https://mp.weixin.qq.com/s/uiBhG5cbibkaO3D2wSMrzA wx\n",
      "https://mp.weixin.qq.com/s/UK7n7JRT9q4Qmmq0nVa7Yw wx\n",
      "https://mp.weixin.qq.com/s/URJDtNlB8jOnsmdH17VjXA wx\n",
      "https://mp.weixin.qq.com/s/v8_qO9NA0OZlohlo0sbCZg wx\n",
      "https://mp.weixin.qq.com/s/VCPYIcswFYrXKMT_iAo4sQ wx\n",
      "https://mp.weixin.qq.com/s/VHyCUTBLdswJUs4v94gCGg wx\n",
      "https://mp.weixin.qq.com/s/VlmSYauI8yaDuegXGATg1A wx\n",
      "https://mp.weixin.qq.com/s/VlptYBqxOilNbokYmgAq3w wx\n",
      "https://mp.weixin.qq.com/s/vyMK9XAfBREa6c7KkQZE_g wx\n",
      "https://mp.weixin.qq.com/s/W9Iqq_rF4D9qHfI91nC0MQ wx\n",
      "https://mp.weixin.qq.com/s/WBkYAkadMMy8qkjvZeTbyQ wx\n",
      "https://mp.weixin.qq.com/s/wpsNrPfHKhGECppcmODvAA wx\n",
      "https://mp.weixin.qq.com/s/X4CKfM-zAvmJTCi_4I-bVg wx\n",
      "https://mp.weixin.qq.com/s/XLC_oAGCkfZ-9QZiN7dyFw wx\n",
      "https://mp.weixin.qq.com/s/xPkUySDb9RVh1fWlcQLwGQ wx\n",
      "https://mp.weixin.qq.com/s/xSgycy4VCvOdSGZl_lWrrw wx\n",
      "https://mp.weixin.qq.com/s/xYVXdohY_4acdQTniOGWUA wx\n",
      "https://mp.weixin.qq.com/s/Y43irqUbONn5cePk8zDMVA wx\n",
      "https://mp.weixin.qq.com/s/y9lpITTKuZivPJB9l55ORg wx\n",
      "https://mp.weixin.qq.com/s/yB_kxKjAEYVn9MR8PyRCZg wx\n",
      "http://mp.weixin.qq.com/s?__biz=MzI3NDE1NTQ2NQ==&mid=2247484446&amp;idx=1&amp;sn=5f25018ebb33ed447c1f15635b3c06da&source=41#wechat_redirect wx\n",
      "https://mp.weixin.qq.com/s/YfzMmv1vUZyiphWUgzOLlA wx\n",
      "https://mp.weixin.qq.com/s/YgLkGhE1VlX6oQWl9nqyMg wx\n",
      "https://mp.weixin.qq.com/s/YLSR_0NXJ5LUg6LWGW_aDg wx\n",
      "https://mp.weixin.qq.com/s/yq4IcgXi4vxQxO3UBYOZ-A wx\n",
      "https://mp.weixin.qq.com/s/yT_I4r6Sc2K3O7-3iAl-mA wx\n",
      "https://mp.weixin.qq.com/s/yyeefgne4StL6ZH9mRh80Q wx\n",
      "https://mp.weixin.qq.com/s/z1mVzAvyEoNiS2s0jsIgQw wx\n",
      "https://mp.weixin.qq.com/s/zOGzJVviegMaLRE8tuiLRw wx\n",
      "https://weibo.com/7129811001/IrH6peQ3d?from=page_1002067129811001_profile&wvr=6&mod=weibotime&type=comment#_rnd1581676880432 pcwb\n",
      "https://weibo.com/7129811001/IssWHlJzw?from=page_1002067129811001_profile&wvr=6&mod=weibotime&type=comment pcwb\n",
      "https://weibo.com/7129811001/ItKAzr93p?from=page_1002067129811001_profile&wvr=6&mod=weibotime&type=comment#_rnd1581676145115 pcwb\n",
      "https://mp.weixin.qq.com/s/URJDtNlB8jOnsmdH17VjXA wx\n"
     ]
    },
    {
     "name": "stderr",
     "output_type": "stream",
     "text": [
      "/home/louis/anaconda3/lib/python3.7/site-packages/ipykernel_launcher.py:15: SettingWithCopyWarning: \n",
      "A value is trying to be set on a copy of a slice from a DataFrame.\n",
      "Try using .loc[row_indexer,col_indexer] = value instead\n",
      "\n",
      "See the caveats in the documentation: https://pandas.pydata.org/pandas-docs/stable/user_guide/indexing.html#returning-a-view-versus-a-copy\n",
      "  from ipykernel import kernelapp as app\n",
      "/home/louis/anaconda3/lib/python3.7/site-packages/ipykernel_launcher.py:16: SettingWithCopyWarning: \n",
      "A value is trying to be set on a copy of a slice from a DataFrame.\n",
      "Try using .loc[row_indexer,col_indexer] = value instead\n",
      "\n",
      "See the caveats in the documentation: https://pandas.pydata.org/pandas-docs/stable/user_guide/indexing.html#returning-a-view-versus-a-copy\n",
      "  app.launch_new_instance()\n",
      "/home/louis/anaconda3/lib/python3.7/site-packages/ipykernel_launcher.py:17: SettingWithCopyWarning: \n",
      "A value is trying to be set on a copy of a slice from a DataFrame.\n",
      "Try using .loc[row_indexer,col_indexer] = value instead\n",
      "\n",
      "See the caveats in the documentation: https://pandas.pydata.org/pandas-docs/stable/user_guide/indexing.html#returning-a-view-versus-a-copy\n",
      "/home/louis/anaconda3/lib/python3.7/site-packages/ipykernel_launcher.py:18: SettingWithCopyWarning: \n",
      "A value is trying to be set on a copy of a slice from a DataFrame.\n",
      "Try using .loc[row_indexer,col_indexer] = value instead\n",
      "\n",
      "See the caveats in the documentation: https://pandas.pydata.org/pandas-docs/stable/user_guide/indexing.html#returning-a-view-versus-a-copy\n"
     ]
    },
    {
     "data": {
      "text/html": [
       "<div>\n",
       "<style scoped>\n",
       "    .dataframe tbody tr th:only-of-type {\n",
       "        vertical-align: middle;\n",
       "    }\n",
       "\n",
       "    .dataframe tbody tr th {\n",
       "        vertical-align: top;\n",
       "    }\n",
       "\n",
       "    .dataframe thead th {\n",
       "        text-align: right;\n",
       "    }\n",
       "</style>\n",
       "<table border=\"1\" class=\"dataframe\">\n",
       "  <thead>\n",
       "    <tr style=\"text-align: right;\">\n",
       "      <th></th>\n",
       "      <th>url</th>\n",
       "      <th>content</th>\n",
       "      <th>sname</th>\n",
       "      <th>images</th>\n",
       "      <th>methods</th>\n",
       "    </tr>\n",
       "  </thead>\n",
       "  <tbody>\n",
       "    <tr>\n",
       "      <th>0</th>\n",
       "      <td>https://mp.weixin.qq.com/s/HTsNM1zxEAx3IqoF1uYnYA</td>\n",
       "      <td>\\n最新消息2月14日上午，省卫健委公布2月13日0－24时肇庆市新增1例新冠肺炎确诊病例。...</td>\n",
       "      <td>健康肇庆</td>\n",
       "      <td>[https://mmbiz.qpic.cn/mmbiz_jpg/z2KVp01hujFYO...</td>\n",
       "      <td>template</td>\n",
       "    </tr>\n",
       "    <tr>\n",
       "      <th>1</th>\n",
       "      <td>http://hc.nc.gov.cn/ncwjw/gzdt/202002/b5cf8972...</td>\n",
       "      <td>2020年\\n2\\n月\\n1日，江西省卫生健康委发布疫情通报，2020年1月31日0-24时...</td>\n",
       "      <td>南昌市卫生健康委员会</td>\n",
       "      <td>[/default/images/icon16/xls.gif]</td>\n",
       "      <td>GNE</td>\n",
       "    </tr>\n",
       "    <tr>\n",
       "      <th>2</th>\n",
       "      <td>http://m.ha.bendibao.com/mip/1636.shtm</td>\n",
       "      <td>更新时间：2020年2月11日24时\\n1、男，49岁，现住淮安经济技术开发区大湖城邦小区，...</td>\n",
       "      <td>bendibao.com</td>\n",
       "      <td>[http://imgbdb3.bendibao.com/habdb/news/20202/...</td>\n",
       "      <td>diffbot</td>\n",
       "    </tr>\n",
       "    <tr>\n",
       "      <th>3</th>\n",
       "      <td>http://news.gxnews.com.cn/staticpages/20200209...</td>\n",
       "      <td></td>\n",
       "      <td>GX News</td>\n",
       "      <td>[]</td>\n",
       "      <td>diffbot</td>\n",
       "    </tr>\n",
       "    <tr>\n",
       "      <th>4</th>\n",
       "      <td>http://o.xiancity.cn/system/2020/02/09/0307133...</td>\n",
       "      <td>西安网讯：周至县疫情防控指挥部今日发布寻人通告：\\n一、西安市周至县的一名新型冠状病毒感染的...</td>\n",
       "      <td>xiancity.cn</td>\n",
       "      <td>[]</td>\n",
       "      <td>diffbot</td>\n",
       "    </tr>\n",
       "    <tr>\n",
       "      <th>...</th>\n",
       "      <td>...</td>\n",
       "      <td>...</td>\n",
       "      <td>...</td>\n",
       "      <td>...</td>\n",
       "      <td>...</td>\n",
       "    </tr>\n",
       "    <tr>\n",
       "      <th>181</th>\n",
       "      <td>https://mp.weixin.qq.com/s/zOGzJVviegMaLRE8tuiLRw</td>\n",
       "      <td>\\n2020年1月31日，我市确认1例输入性新型冠状病毒感染的肺炎确诊病例。姜某，男，满族，...</td>\n",
       "      <td>辽沈晚报</td>\n",
       "      <td>[https://mmbiz.qpic.cn/mmbiz_jpg/X3BpEU6jNLrdx...</td>\n",
       "      <td>template</td>\n",
       "    </tr>\n",
       "    <tr>\n",
       "      <th>182</th>\n",
       "      <td>https://weibo.com/7129811001/IrH6peQ3d?from=pa...</td>\n",
       "      <td>\\n#联防联控   高陵在行动# 【紧急扩散！关于急寻高陵区飘雪理发店顾客的通告】我区日前已...</td>\n",
       "      <td>高陵融媒</td>\n",
       "      <td>[]</td>\n",
       "      <td>template</td>\n",
       "    </tr>\n",
       "    <tr>\n",
       "      <th>183</th>\n",
       "      <td>https://weibo.com/7129811001/IssWHlJzw?from=pa...</td>\n",
       "      <td>\\n                                            ...</td>\n",
       "      <td>高陵融媒</td>\n",
       "      <td>[]</td>\n",
       "      <td>template</td>\n",
       "    </tr>\n",
       "    <tr>\n",
       "      <th>184</th>\n",
       "      <td>https://weibo.com/7129811001/ItKAzr93p?from=pa...</td>\n",
       "      <td>\\n#联防联控 高陵在行动# 紧急扩散【通 告】西安市高陵区新型冠状病毒感染的肺炎疫情防控指...</td>\n",
       "      <td>高陵融媒</td>\n",
       "      <td>[]</td>\n",
       "      <td>template</td>\n",
       "    </tr>\n",
       "    <tr>\n",
       "      <th>185</th>\n",
       "      <td>https://mp.weixin.qq.com/s/URJDtNlB8jOnsmdH17VjXA</td>\n",
       "      <td>\\n我省确诊的8例新型冠状病毒感染的肺炎患者与密切接触者医疗救治情况——青海省新型冠状病毒感...</td>\n",
       "      <td>青海日报</td>\n",
       "      <td>[https://mmbiz.qpic.cn/mmbiz_jpg/h6aWoq3mmtubl...</td>\n",
       "      <td>template</td>\n",
       "    </tr>\n",
       "  </tbody>\n",
       "</table>\n",
       "<p>186 rows × 5 columns</p>\n",
       "</div>"
      ],
      "text/plain": [
       "                                                   url  \\\n",
       "0    https://mp.weixin.qq.com/s/HTsNM1zxEAx3IqoF1uYnYA   \n",
       "1    http://hc.nc.gov.cn/ncwjw/gzdt/202002/b5cf8972...   \n",
       "2               http://m.ha.bendibao.com/mip/1636.shtm   \n",
       "3    http://news.gxnews.com.cn/staticpages/20200209...   \n",
       "4    http://o.xiancity.cn/system/2020/02/09/0307133...   \n",
       "..                                                 ...   \n",
       "181  https://mp.weixin.qq.com/s/zOGzJVviegMaLRE8tuiLRw   \n",
       "182  https://weibo.com/7129811001/IrH6peQ3d?from=pa...   \n",
       "183  https://weibo.com/7129811001/IssWHlJzw?from=pa...   \n",
       "184  https://weibo.com/7129811001/ItKAzr93p?from=pa...   \n",
       "185  https://mp.weixin.qq.com/s/URJDtNlB8jOnsmdH17VjXA   \n",
       "\n",
       "                                               content         sname  \\\n",
       "0    \\n最新消息2月14日上午，省卫健委公布2月13日0－24时肇庆市新增1例新冠肺炎确诊病例。...          健康肇庆   \n",
       "1    2020年\\n2\\n月\\n1日，江西省卫生健康委发布疫情通报，2020年1月31日0-24时...    南昌市卫生健康委员会   \n",
       "2    更新时间：2020年2月11日24时\\n1、男，49岁，现住淮安经济技术开发区大湖城邦小区，...  bendibao.com   \n",
       "3                                                            GX News   \n",
       "4    西安网讯：周至县疫情防控指挥部今日发布寻人通告：\\n一、西安市周至县的一名新型冠状病毒感染的...   xiancity.cn   \n",
       "..                                                 ...           ...   \n",
       "181  \\n2020年1月31日，我市确认1例输入性新型冠状病毒感染的肺炎确诊病例。姜某，男，满族，...          辽沈晚报   \n",
       "182  \\n#联防联控   高陵在行动# 【紧急扩散！关于急寻高陵区飘雪理发店顾客的通告】我区日前已...          高陵融媒   \n",
       "183  \\n                                            ...          高陵融媒   \n",
       "184  \\n#联防联控 高陵在行动# 紧急扩散【通 告】西安市高陵区新型冠状病毒感染的肺炎疫情防控指...          高陵融媒   \n",
       "185  \\n我省确诊的8例新型冠状病毒感染的肺炎患者与密切接触者医疗救治情况——青海省新型冠状病毒感...          青海日报   \n",
       "\n",
       "                                                images   methods  \n",
       "0    [https://mmbiz.qpic.cn/mmbiz_jpg/z2KVp01hujFYO...  template  \n",
       "1                     [/default/images/icon16/xls.gif]       GNE  \n",
       "2    [http://imgbdb3.bendibao.com/habdb/news/20202/...   diffbot  \n",
       "3                                                   []   diffbot  \n",
       "4                                                   []   diffbot  \n",
       "..                                                 ...       ...  \n",
       "181  [https://mmbiz.qpic.cn/mmbiz_jpg/X3BpEU6jNLrdx...  template  \n",
       "182                                                 []  template  \n",
       "183                                                 []  template  \n",
       "184                                                 []  template  \n",
       "185  [https://mmbiz.qpic.cn/mmbiz_jpg/h6aWoq3mmtubl...  template  \n",
       "\n",
       "[186 rows x 5 columns]"
      ]
     },
     "execution_count": 470,
     "metadata": {},
     "output_type": "execute_result"
    }
   ],
   "source": [
    "s,c,ims,mes = [],[],[],[]\n",
    "url_good = goodURL['url']\n",
    "Content = goodURL[:]\n",
    "n = len(url_good)\n",
    "for i in range(n):\n",
    "    url = url_good[i]\n",
    "#     print (url)\n",
    "    sname,content,images,me = get_content(url,driver)\n",
    "    s.append(sname)\n",
    "    c.append(content)\n",
    "    ims.append(images)\n",
    "    mes.append(me)\n",
    "#     if i == 7:\n",
    "#         break\n",
    "Content['content'] = c\n",
    "Content['sname'] = s\n",
    "Content['images'] = ims\n",
    "Content['methods'] = mes\n",
    "Content"
   ]
  },
  {
   "cell_type": "code",
   "execution_count": 472,
   "metadata": {},
   "outputs": [],
   "source": [
    "Content.to_csv('./content_5.1_1.csv')"
   ]
  },
  {
   "cell_type": "code",
   "execution_count": 473,
   "metadata": {},
   "outputs": [
    {
     "data": {
      "text/plain": [
       "2"
      ]
     },
     "execution_count": 473,
     "metadata": {},
     "output_type": "execute_result"
    }
   ],
   "source": [
    "Content['content'][Content['content']==''].count()"
   ]
  },
  {
   "cell_type": "code",
   "execution_count": 474,
   "metadata": {
    "scrolled": true
   },
   "outputs": [
    {
     "data": {
      "text/plain": [
       "3     \n",
       "14    \n",
       "Name: content, dtype: object"
      ]
     },
     "execution_count": 474,
     "metadata": {},
     "output_type": "execute_result"
    }
   ],
   "source": [
    "Content['content'][Content['content']=='']"
   ]
  },
  {
   "cell_type": "code",
   "execution_count": 484,
   "metadata": {},
   "outputs": [
    {
     "name": "stderr",
     "output_type": "stream",
     "text": [
      "/home/louis/anaconda3/lib/python3.7/site-packages/IPython/core/interactiveshell.py:3331: SettingWithCopyWarning: \n",
      "A value is trying to be set on a copy of a slice from a DataFrame\n",
      "\n",
      "See the caveats in the documentation: https://pandas.pydata.org/pandas-docs/stable/user_guide/indexing.html#returning-a-view-versus-a-copy\n",
      "  exec(code_obj, self.user_global_ns, self.user_ns)\n"
     ]
    }
   ],
   "source": [
    "Content['content'][3] = '2020年2月8日河池市新冠肺炎疫情情况\\n2020年2月9日上午，广西壮族自治区卫生健康委发布通报，2月8日0-24时，河池市新增4例新冠肺炎确诊病例。报告死亡病例1例（都安县病例）。\\n病例一：韦某桥，男，41岁，现居住都安县创业园第二期9排，常住都安县，系新冠肺炎确诊病例莫某某之五儿子。2020年1月29日开始出现发热，到都安县苏某某诊所就诊，未见好转。1月31日到都安县人民医院行CT检查提示“疑似肺炎”，2月2日收住都安县人民医院隔离治疗。2月3日、2月6日分别采集标本进行新冠肺炎核酸检测阴性。患者否认到过武汉疫区及武汉类似病人接触史，曾多次与其父亲莫某某聚餐。2月8日经河池市疾控中心检测，新冠病毒核酸阳性。目前病情稳定。\\n病例二：黄某良，男，48岁，系2月7日新冠肺炎确诊病例蓝某参儿子，确诊病例黄某玲哥哥。常住都安县，现居住都安县高岭镇正玄村巴文队。其母亲蓝某参、妹妹黄某玲确诊后，因与母亲及妹妹同处一屋（天地楼），属密切接触者。2月7日，医学观察过程中发现其体温升高，无咳嗽、乏力、胸闷，收住都安县人民医院住院隔离治疗。2月8日经河池市疾控中心检测，新冠病毒核酸阳性。目前病情稳定。\\n病例三：黄某娟，女，35岁，系2月7日新冠肺炎确诊病例蓝某参女儿，确诊病例黄某玲妹妹，现居住都安县下坳镇下坳社区塘边屯，系都安县下坳镇卫生院护士。2020年1月19日下午2点10分乘坐火车C7006至广州南站，约4时到站，入住广州巨大国际公寓。1月20日9点12分乘坐动车（D3710）从广州南到南宁东站，乘坐地铁到其姐黄某玲家（南宁市青秀区长湖路埌东2组A区47栋），当天与其姐黄某玲共乘私家车（车内还有吴某钧）回高岭镇正玄村巴文屯老家，与母亲蓝某参、姐姐黄某玲等同处一屋（天地楼）至1月30日，属密切接触者。2月7日医学观察过程中发现其体温升高，收住都安县人民医院住院隔离治疗。2月8日经河池市疾控中心检测，新冠病毒核酸阳性。目前病情稳定。\\n病例四：黄某等，男，22岁，系2月7日新冠肺炎确诊病例蓝某参孙子、确诊病例黄某玲侄子、黄某良儿子，现居住都安县高岭镇正玄村巴文队。蓝某参、黄某玲确诊后，因其与蓝某参、黄某玲同处一屋（天地楼），属密切接触者。2月7日，医学观察过程中发现其体温升高，无咳嗽、乏力、胸闷，收住都安县人民医院住院隔离治疗。2月8日经河池市疾控中心检测，新型冠状病毒核酸阳性。目前病情稳定。\\n截至2020年2月8日24时，河池市累计报告确诊病例19例，其中：金城江区3例，宜州区1例，环江县2例，都安县13例。重症病例2例，危重病例2例，死亡病例1例。所有患者均在定点医院隔离治疗。\\n（河池市卫生健康委员会）\\n上一页\\n下一页\\n第\\n[1]\\n[2]\\n[3]\\n[4]\\n[5]\\n页'"
   ]
  },
  {
   "cell_type": "code",
   "execution_count": 488,
   "metadata": {},
   "outputs": [],
   "source": [
    "Content['sname'][3] = '李香莹'"
   ]
  },
  {
   "cell_type": "code",
   "execution_count": 489,
   "metadata": {},
   "outputs": [],
   "source": [
    "Content['methods'][3] = 'NEG'"
   ]
  },
  {
   "cell_type": "code",
   "execution_count": 493,
   "metadata": {},
   "outputs": [],
   "source": [
    "Content['content'][14] = '截至2月9日12时，深圳的“新型肺炎”病例累计达366例。\\n2月9日，疾控专业人员通过最新的流行病学调查确认，深圳新增10个小区（场所），有新确诊的病人在出现病征期间曾经逗留。\\n这些新确诊病人已经全部转到深圳市第三人民医院治疗。\\n密切接触者已找到，正接受社区基层防控工作小组“三位一体”的隔离医学观察和管理。\\n疾控部门已组织专门的消杀队伍，对病人停留过的场所进行彻底的综合消毒，对小区外围的公共场所、休息场所、小区垃圾的回收场所等，也开展了预防性消毒，并指导物业部门做好日常消毒。\\n大家不用恐慌，只需跟足政府指引，做好日常防护，尤其是少出门、戴口罩、勤洗手。\\n已经公布过的小区，如果出现了新的确诊病例，该小区不会再次公布。\\n福田区（3个）\\n海田路1008号雅颂居\\n下沙花好园\\n金地名津\\n*以上病例均已转医院治疗\\n龙岗区（2个\\n）\\n万科麓城\\n金德丰雅居\\n*以上病例均已转医院治疗\\n宝安区（2个）\\n松岗街道红星村温屋\\n丽枫酒店（深圳海雅缤纷城店）\\n*以上病例均已转医院治疗\\n南山区（1个）\\n艺华花园\\n*以上病例均已转医院治疗\\n罗湖区（1个）\\n嘉宝田花园\\n*以上病例均已转医院治疗\\n盐田区（1个）\\n京基洲际度假酒店\\n*以上病例均已转医院治疗\\n你对公布“涉病”小区满意吗？\\n欢迎进来提意见\\n深圳市疾控中心正在联合深圳大学传播学院进行一项关于“新冠肺炎”的在线问卷调查。\\n你认为——\\n公布病人逗留过的小区（场所）有必要吗？\\n公布病人信息（但不暴露隐私）有必要吗？\\n信息公开透明对疫情防控重要吗？\\n你还希望深圳官方公布、传播哪类信息？\\n你觉得——\\n现在做一次“新冠肺炎”知识测试（选择题），你能拿多少分？\\n赶紧进来看一看\\n资料来源：深圳市疾控中心、深圳市卫健委'\n",
    "Content['sname'][14] = '深圳市疾控中心'\n",
    "Content['methods'][14] = 'NEG'\n",
    "Content['url'][14] = 'http://wjw.sz.gov.cn/yqxx/202002/t20200209_19006168.htm'"
   ]
  },
  {
   "cell_type": "code",
   "execution_count": 494,
   "metadata": {},
   "outputs": [
    {
     "data": {
      "text/plain": [
       "Series([], Name: content, dtype: object)"
      ]
     },
     "execution_count": 494,
     "metadata": {},
     "output_type": "execute_result"
    }
   ],
   "source": [
    "Content['content'][Content['content']=='']"
   ]
  },
  {
   "cell_type": "code",
   "execution_count": 496,
   "metadata": {},
   "outputs": [
    {
     "name": "stderr",
     "output_type": "stream",
     "text": [
      "/home/louis/anaconda3/lib/python3.7/site-packages/ipykernel_launcher.py:1: SettingWithCopyWarning: \n",
      "A value is trying to be set on a copy of a slice from a DataFrame.\n",
      "Try using .loc[row_indexer,col_indexer] = value instead\n",
      "\n",
      "See the caveats in the documentation: https://pandas.pydata.org/pandas-docs/stable/user_guide/indexing.html#returning-a-view-versus-a-copy\n",
      "  \"\"\"Entry point for launching an IPython kernel.\n"
     ]
    }
   ],
   "source": [
    "Content['content_count'] = Content['content'].apply(lambda x: len(x))"
   ]
  },
  {
   "cell_type": "code",
   "execution_count": 498,
   "metadata": {},
   "outputs": [
    {
     "data": {
      "text/plain": [
       "0      4495\n",
       "1       369\n",
       "2       628\n",
       "3      1147\n",
       "4       747\n",
       "       ... \n",
       "181    1156\n",
       "182     636\n",
       "183     713\n",
       "184     486\n",
       "185    4707\n",
       "Name: content_count, Length: 186, dtype: int64"
      ]
     },
     "execution_count": 498,
     "metadata": {},
     "output_type": "execute_result"
    }
   ],
   "source": [
    "Content['content_count']"
   ]
  },
  {
   "cell_type": "code",
   "execution_count": 503,
   "metadata": {},
   "outputs": [
    {
     "data": {
      "text/plain": [
       "[<matplotlib.lines.Line2D at 0x7f10f0781b90>]"
      ]
     },
     "execution_count": 503,
     "metadata": {},
     "output_type": "execute_result"
    },
    {
     "data": {
      "image/png": "[encoded data removed]",
      "text/plain": [
       "<Figure size 432x288 with 1 Axes>"
      ]
     },
     "metadata": {
      "needs_background": "light"
     },
     "output_type": "display_data"
    }
   ],
   "source": [
    "plt.plot(Content['content_count'])"
   ]
  },
  {
   "cell_type": "code",
   "execution_count": 507,
   "metadata": {},
   "outputs": [
    {
     "data": {
      "text/plain": [
       "82     \\n来源/活力海勃湾编辑/杨梦珂校审/刘之爽大家都在看■ 暖城 | 明天他们要给乌海市民免费...\n",
       "107    \\n在今天举行的市疫情防控工作领导小组新闻发布会上，市卫健委通报：昨天，2月9日0—24时，...\n",
       "Name: content, dtype: object"
      ]
     },
     "execution_count": 507,
     "metadata": {},
     "output_type": "execute_result"
    }
   ],
   "source": [
    "Content['content'][Content['content_count']<=200]"
   ]
  },
  {
   "cell_type": "code",
   "execution_count": 508,
   "metadata": {},
   "outputs": [
    {
     "data": {
      "text/plain": [
       "82     https://mp.weixin.qq.com/s/eECI1S8obg-Vx11xTjggoA\n",
       "107    https://mp.weixin.qq.com/s/iWJ6omQpWP3YwGkjPANq-Q\n",
       "Name: url, dtype: object"
      ]
     },
     "execution_count": 508,
     "metadata": {},
     "output_type": "execute_result"
    }
   ],
   "source": [
    "Content['url'][Content['content_count']<=200]"
   ]
  },
  {
   "cell_type": "code",
   "execution_count": 509,
   "metadata": {},
   "outputs": [
    {
     "data": {
      "text/plain": [
       "82     [https://mmbiz.qpic.cn/mmbiz_png/BYrdA1oTajvhU...\n",
       "107                                                   []\n",
       "Name: images, dtype: object"
      ]
     },
     "execution_count": 509,
     "metadata": {},
     "output_type": "execute_result"
    }
   ],
   "source": [
    "Content['images'][Content['content_count']<=200]"
   ]
  },
  {
   "cell_type": "code",
   "execution_count": 511,
   "metadata": {},
   "outputs": [
    {
     "data": {
      "text/plain": [
       "['https://mmbiz.qpic.cn/mmbiz_png/BYrdA1oTajvhUpibBYmN6f1iaOk23p2u6lJqbDnfOeS5Qz5hQk2dHzy6xlH5rXcQe2DD2x5xOOEBU0sWrZPw46eQ/640?wx_fmt=png',\n",
       " 'https://mmbiz.qpic.cn/mmbiz_png/7QRTvkK2qC7H2bowpqCQLXiczqD2rfB49Avt1ucibvLB4q9MAuuhkvWv8hKVicVV1LEWTpLjIPm2yK65AmQiaX2OnA/640?wx_fmt=png',\n",
       " 'https://mmbiz.qpic.cn/mmbiz_png/Fiaow3ib2DfKvjEjp6VAyylN1lUx4TwCibibvvYJKwNwwvztZXXL0oEGIqXhgAYGLtrcNHxY15xoWV1b6dBXh1gNCg/640?wx_fmt=png',\n",
       " 'https://mmbiz.qpic.cn/mmbiz_png/Fiaow3ib2DfKvjEjp6VAyylN1lUx4TwCibib4Ie2tAOFtQ37YiaiaqUpXZsjFRXCiaIZ7Ab4h3eTb2ibick7D2PRbo5E9Ww/640?wx_fmt=png',\n",
       " 'https://mmbiz.qpic.cn/mmbiz_png/Fiaow3ib2DfKvjEjp6VAyylN1lUx4TwCibibCDF92jPial4zmWT2ksIStJyicRnohMc2IhVpf7TAVpFVt8wwq8gBIENA/640?wx_fmt=png',\n",
       " 'https://mmbiz.qpic.cn/mmbiz_png/7QRTvkK2qC7H2bowpqCQLXiczqD2rfB49Avt1ucibvLB4q9MAuuhkvWv8hKVicVV1LEWTpLjIPm2yK65AmQiaX2OnA/640?wx_fmt=png',\n",
       " 'https://mmbiz.qpic.cn/mmbiz_png/7QRTvkK2qC7H2bowpqCQLXiczqD2rfB49bSNhOf9PA60W96RTC7krIFR6Euia8W6U7d4CWuiaG0DQ22ibS0gd4LTaQ/640?wx_fmt=png',\n",
       " 'https://mmbiz.qpic.cn/mmbiz_jpg/BYrdA1oTajuBqsXFS6XX0kLP9CXhFZA0nh8n7XdDKkgamM1xeNwpXhqqPlmHaGq2fbYibWBsoUVn7wHYvLnibFiaQ/640?wx_fmt=jpeg',\n",
       " 'https://mmbiz.qpic.cn/mmbiz_jpg/BYrdA1oTajuxd8ibSgsXiaBXRtLv0gZkhjx3zuhC1icpMXgGPPib7PChVNmOQVXVLjxRjMp2T0QyTEjwStmqEMnkXw/640?wx_fmt=jpeg']"
      ]
     },
     "execution_count": 511,
     "metadata": {},
     "output_type": "execute_result"
    }
   ],
   "source": [
    "Content['images'][82]"
   ]
  },
  {
   "cell_type": "code",
   "execution_count": 512,
   "metadata": {},
   "outputs": [],
   "source": [
    "Content.to_csv('./content_5.1_2.csv')"
   ]
  },
  {
   "cell_type": "code",
   "execution_count": 516,
   "metadata": {},
   "outputs": [],
   "source": [
    "raw_html = pd.read_csv('~/Desktop/tiger01/url_raw_html.csv')"
   ]
  },
  {
   "cell_type": "code",
   "execution_count": 520,
   "metadata": {},
   "outputs": [],
   "source": [
    "del raw_html['Unnamed: 0']"
   ]
  },
  {
   "cell_type": "code",
   "execution_count": 552,
   "metadata": {},
   "outputs": [
    {
     "data": {
      "text/plain": [
       "0      <html class=\"\\n\\n\"><head>\\n                   ...\n",
       "1      <html lang=\"en\"><head>\\n  <meta charset=\"UTF-8...\n",
       "2      <html mip=\"\" class=\"mip-i-android-scroll\"><hea...\n",
       "3      <html><head><script charset=\"utf-8\" src=\"https...\n",
       "4      <html xmlns=\"http://www.w3.org/1999/xhtml\"><he...\n",
       "                             ...                        \n",
       "181    <html class=\"\\n\\n\"><head>\\n                   ...\n",
       "182                                                  NaN\n",
       "183    <html><head>\\n<meta charset=\"utf-8\">\\n<meta co...\n",
       "184    <html><head>\\n<meta charset=\"utf-8\">\\n<meta co...\n",
       "185    <html class=\"\\n\\n\"><head>\\n                   ...\n",
       "Name: html, Length: 186, dtype: object"
      ]
     },
     "execution_count": 552,
     "metadata": {},
     "output_type": "execute_result"
    }
   ],
   "source": [
    "raw_html['html']"
   ]
  },
  {
   "cell_type": "code",
   "execution_count": 553,
   "metadata": {},
   "outputs": [],
   "source": [
    "fixed_html =  raw_html['url'][raw_html['html'].isnull()]"
   ]
  },
  {
   "cell_type": "code",
   "execution_count": 554,
   "metadata": {},
   "outputs": [
    {
     "data": {
      "text/plain": [
       "144    <html class=\"\\n\\n\"><head>\\n                   ...\n",
       "157    <html class=\"\\n\\n\"><head>\\n                   ...\n",
       "158    <html class=\"\\n\\n\"><head>\\n                   ...\n",
       "182    <html><head>\\n    <meta http-equiv=\"Content-ty...\n",
       "Name: url, dtype: object"
      ]
     },
     "execution_count": 554,
     "metadata": {},
     "output_type": "execute_result"
    }
   ],
   "source": [
    "fixed_html"
   ]
  },
  {
   "cell_type": "code",
   "execution_count": 556,
   "metadata": {},
   "outputs": [
    {
     "ename": "InvalidArgumentException",
     "evalue": "Message: invalid argument\n  (Session info: chrome=78.0.3904.97)\n",
     "output_type": "error",
     "traceback": [
      "\u001b[0;31m---------------------------------------------------------------------------\u001b[0m",
      "\u001b[0;31mInvalidArgumentException\u001b[0m                  Traceback (most recent call last)",
      "\u001b[0;32m<ipython-input-556-eedc506519b9>\u001b[0m in \u001b[0;36m<module>\u001b[0;34m\u001b[0m\n\u001b[1;32m      3\u001b[0m \u001b[0;31m# mydriver.implicitly_wait(20) # 操作、获取元素时的隐式等待时间\u001b[0m\u001b[0;34m\u001b[0m\u001b[0;34m\u001b[0m\u001b[0;34m\u001b[0m\u001b[0m\n\u001b[1;32m      4\u001b[0m \u001b[0;31m# mydriver.set_page_load_timeout(20) # 页面加载超时等待时间\u001b[0m\u001b[0;34m\u001b[0m\u001b[0;34m\u001b[0m\u001b[0;34m\u001b[0m\u001b[0m\n\u001b[0;32m----> 5\u001b[0;31m \u001b[0mmydriver\u001b[0m\u001b[0;34m.\u001b[0m\u001b[0mget\u001b[0m\u001b[0;34m(\u001b[0m\u001b[0;34m'www.baidu.com'\u001b[0m\u001b[0;34m)\u001b[0m\u001b[0;34m\u001b[0m\u001b[0;34m\u001b[0m\u001b[0m\n\u001b[0m",
      "\u001b[0;32m~/anaconda3/lib/python3.7/site-packages/selenium/webdriver/remote/webdriver.py\u001b[0m in \u001b[0;36mget\u001b[0;34m(self, url)\u001b[0m\n\u001b[1;32m    331\u001b[0m         \u001b[0mLoads\u001b[0m \u001b[0ma\u001b[0m \u001b[0mweb\u001b[0m \u001b[0mpage\u001b[0m \u001b[0;32min\u001b[0m \u001b[0mthe\u001b[0m \u001b[0mcurrent\u001b[0m \u001b[0mbrowser\u001b[0m \u001b[0msession\u001b[0m\u001b[0;34m.\u001b[0m\u001b[0;34m\u001b[0m\u001b[0;34m\u001b[0m\u001b[0m\n\u001b[1;32m    332\u001b[0m         \"\"\"\n\u001b[0;32m--> 333\u001b[0;31m         \u001b[0mself\u001b[0m\u001b[0;34m.\u001b[0m\u001b[0mexecute\u001b[0m\u001b[0;34m(\u001b[0m\u001b[0mCommand\u001b[0m\u001b[0;34m.\u001b[0m\u001b[0mGET\u001b[0m\u001b[0;34m,\u001b[0m \u001b[0;34m{\u001b[0m\u001b[0;34m'url'\u001b[0m\u001b[0;34m:\u001b[0m \u001b[0murl\u001b[0m\u001b[0;34m}\u001b[0m\u001b[0;34m)\u001b[0m\u001b[0;34m\u001b[0m\u001b[0;34m\u001b[0m\u001b[0m\n\u001b[0m\u001b[1;32m    334\u001b[0m \u001b[0;34m\u001b[0m\u001b[0m\n\u001b[1;32m    335\u001b[0m     \u001b[0;34m@\u001b[0m\u001b[0mproperty\u001b[0m\u001b[0;34m\u001b[0m\u001b[0;34m\u001b[0m\u001b[0m\n",
      "\u001b[0;32m~/anaconda3/lib/python3.7/site-packages/selenium/webdriver/remote/webdriver.py\u001b[0m in \u001b[0;36mexecute\u001b[0;34m(self, driver_command, params)\u001b[0m\n\u001b[1;32m    319\u001b[0m         \u001b[0mresponse\u001b[0m \u001b[0;34m=\u001b[0m \u001b[0mself\u001b[0m\u001b[0;34m.\u001b[0m\u001b[0mcommand_executor\u001b[0m\u001b[0;34m.\u001b[0m\u001b[0mexecute\u001b[0m\u001b[0;34m(\u001b[0m\u001b[0mdriver_command\u001b[0m\u001b[0;34m,\u001b[0m \u001b[0mparams\u001b[0m\u001b[0;34m)\u001b[0m\u001b[0;34m\u001b[0m\u001b[0;34m\u001b[0m\u001b[0m\n\u001b[1;32m    320\u001b[0m         \u001b[0;32mif\u001b[0m \u001b[0mresponse\u001b[0m\u001b[0;34m:\u001b[0m\u001b[0;34m\u001b[0m\u001b[0;34m\u001b[0m\u001b[0m\n\u001b[0;32m--> 321\u001b[0;31m             \u001b[0mself\u001b[0m\u001b[0;34m.\u001b[0m\u001b[0merror_handler\u001b[0m\u001b[0;34m.\u001b[0m\u001b[0mcheck_response\u001b[0m\u001b[0;34m(\u001b[0m\u001b[0mresponse\u001b[0m\u001b[0;34m)\u001b[0m\u001b[0;34m\u001b[0m\u001b[0;34m\u001b[0m\u001b[0m\n\u001b[0m\u001b[1;32m    322\u001b[0m             response['value'] = self._unwrap_value(\n\u001b[1;32m    323\u001b[0m                 response.get('value', None))\n",
      "\u001b[0;32m~/anaconda3/lib/python3.7/site-packages/selenium/webdriver/remote/errorhandler.py\u001b[0m in \u001b[0;36mcheck_response\u001b[0;34m(self, response)\u001b[0m\n\u001b[1;32m    240\u001b[0m                 \u001b[0malert_text\u001b[0m \u001b[0;34m=\u001b[0m \u001b[0mvalue\u001b[0m\u001b[0;34m[\u001b[0m\u001b[0;34m'alert'\u001b[0m\u001b[0;34m]\u001b[0m\u001b[0;34m.\u001b[0m\u001b[0mget\u001b[0m\u001b[0;34m(\u001b[0m\u001b[0;34m'text'\u001b[0m\u001b[0;34m)\u001b[0m\u001b[0;34m\u001b[0m\u001b[0;34m\u001b[0m\u001b[0m\n\u001b[1;32m    241\u001b[0m             \u001b[0;32mraise\u001b[0m \u001b[0mexception_class\u001b[0m\u001b[0;34m(\u001b[0m\u001b[0mmessage\u001b[0m\u001b[0;34m,\u001b[0m \u001b[0mscreen\u001b[0m\u001b[0;34m,\u001b[0m \u001b[0mstacktrace\u001b[0m\u001b[0;34m,\u001b[0m \u001b[0malert_text\u001b[0m\u001b[0;34m)\u001b[0m\u001b[0;34m\u001b[0m\u001b[0;34m\u001b[0m\u001b[0m\n\u001b[0;32m--> 242\u001b[0;31m         \u001b[0;32mraise\u001b[0m \u001b[0mexception_class\u001b[0m\u001b[0;34m(\u001b[0m\u001b[0mmessage\u001b[0m\u001b[0;34m,\u001b[0m \u001b[0mscreen\u001b[0m\u001b[0;34m,\u001b[0m \u001b[0mstacktrace\u001b[0m\u001b[0;34m)\u001b[0m\u001b[0;34m\u001b[0m\u001b[0;34m\u001b[0m\u001b[0m\n\u001b[0m\u001b[1;32m    243\u001b[0m \u001b[0;34m\u001b[0m\u001b[0m\n\u001b[1;32m    244\u001b[0m     \u001b[0;32mdef\u001b[0m \u001b[0m_value_or_default\u001b[0m\u001b[0;34m(\u001b[0m\u001b[0mself\u001b[0m\u001b[0;34m,\u001b[0m \u001b[0mobj\u001b[0m\u001b[0;34m,\u001b[0m \u001b[0mkey\u001b[0m\u001b[0;34m,\u001b[0m \u001b[0mdefault\u001b[0m\u001b[0;34m)\u001b[0m\u001b[0;34m:\u001b[0m\u001b[0;34m\u001b[0m\u001b[0;34m\u001b[0m\u001b[0m\n",
      "\u001b[0;31mInvalidArgumentException\u001b[0m: Message: invalid argument\n  (Session info: chrome=78.0.3904.97)\n"
     ]
    }
   ],
   "source": [
    "mydriver = webdriver.Chrome()\n",
    "mydriver.get('https://weibo.com')\n",
    "# mydriver.implicitly_wait(20) # 操作、获取元素时的隐式等待时间\n",
    "# mydriver.set_page_load_timeout(20) # 页面加载超时等待时间\n",
    "mydriver.get('www.baidu.com')"
   ]
  },
  {
   "cell_type": "code",
   "execution_count": 548,
   "metadata": {
    "scrolled": true
   },
   "outputs": [
    {
     "ename": "InvalidArgumentException",
     "evalue": "Message: invalid argument\n  (Session info: chrome=78.0.3904.97)\n",
     "output_type": "error",
     "traceback": [
      "\u001b[0;31m---------------------------------------------------------------------------\u001b[0m",
      "\u001b[0;31mInvalidArgumentException\u001b[0m                  Traceback (most recent call last)",
      "\u001b[0;32m<ipython-input-548-f51bb5f836d9>\u001b[0m in \u001b[0;36m<module>\u001b[0;34m\u001b[0m\n\u001b[1;32m      1\u001b[0m \u001b[0;32mfor\u001b[0m \u001b[0mi\u001b[0m \u001b[0;32min\u001b[0m \u001b[0mfixed_html\u001b[0m\u001b[0;34m.\u001b[0m\u001b[0mindex\u001b[0m\u001b[0;34m:\u001b[0m\u001b[0;34m\u001b[0m\u001b[0;34m\u001b[0m\u001b[0m\n\u001b[1;32m      2\u001b[0m     \u001b[0murl\u001b[0m \u001b[0;34m=\u001b[0m \u001b[0mraw_html\u001b[0m\u001b[0;34m[\u001b[0m\u001b[0;34m'url'\u001b[0m\u001b[0;34m]\u001b[0m\u001b[0;34m[\u001b[0m\u001b[0mi\u001b[0m\u001b[0;34m]\u001b[0m\u001b[0;34m\u001b[0m\u001b[0;34m\u001b[0m\u001b[0m\n\u001b[0;32m----> 3\u001b[0;31m     \u001b[0mdriver\u001b[0m\u001b[0;34m.\u001b[0m\u001b[0mget\u001b[0m\u001b[0;34m(\u001b[0m\u001b[0murl\u001b[0m\u001b[0;34m)\u001b[0m\u001b[0;34m\u001b[0m\u001b[0;34m\u001b[0m\u001b[0m\n\u001b[0m\u001b[1;32m      4\u001b[0m     \u001b[0msleep\u001b[0m\u001b[0;34m(\u001b[0m\u001b[0;36m0.5\u001b[0m\u001b[0;34m)\u001b[0m\u001b[0;34m\u001b[0m\u001b[0;34m\u001b[0m\u001b[0m\n\u001b[1;32m      5\u001b[0m     \u001b[0mhtml\u001b[0m \u001b[0;34m=\u001b[0m \u001b[0mdriver\u001b[0m\u001b[0;34m.\u001b[0m\u001b[0mpage_source\u001b[0m\u001b[0;34m\u001b[0m\u001b[0;34m\u001b[0m\u001b[0m\n",
      "\u001b[0;32m~/anaconda3/lib/python3.7/site-packages/selenium/webdriver/remote/webdriver.py\u001b[0m in \u001b[0;36mget\u001b[0;34m(self, url)\u001b[0m\n\u001b[1;32m    331\u001b[0m         \u001b[0mLoads\u001b[0m \u001b[0ma\u001b[0m \u001b[0mweb\u001b[0m \u001b[0mpage\u001b[0m \u001b[0;32min\u001b[0m \u001b[0mthe\u001b[0m \u001b[0mcurrent\u001b[0m \u001b[0mbrowser\u001b[0m \u001b[0msession\u001b[0m\u001b[0;34m.\u001b[0m\u001b[0;34m\u001b[0m\u001b[0;34m\u001b[0m\u001b[0m\n\u001b[1;32m    332\u001b[0m         \"\"\"\n\u001b[0;32m--> 333\u001b[0;31m         \u001b[0mself\u001b[0m\u001b[0;34m.\u001b[0m\u001b[0mexecute\u001b[0m\u001b[0;34m(\u001b[0m\u001b[0mCommand\u001b[0m\u001b[0;34m.\u001b[0m\u001b[0mGET\u001b[0m\u001b[0;34m,\u001b[0m \u001b[0;34m{\u001b[0m\u001b[0;34m'url'\u001b[0m\u001b[0;34m:\u001b[0m \u001b[0murl\u001b[0m\u001b[0;34m}\u001b[0m\u001b[0;34m)\u001b[0m\u001b[0;34m\u001b[0m\u001b[0;34m\u001b[0m\u001b[0m\n\u001b[0m\u001b[1;32m    334\u001b[0m \u001b[0;34m\u001b[0m\u001b[0m\n\u001b[1;32m    335\u001b[0m     \u001b[0;34m@\u001b[0m\u001b[0mproperty\u001b[0m\u001b[0;34m\u001b[0m\u001b[0;34m\u001b[0m\u001b[0m\n",
      "\u001b[0;32m~/anaconda3/lib/python3.7/site-packages/selenium/webdriver/remote/webdriver.py\u001b[0m in \u001b[0;36mexecute\u001b[0;34m(self, driver_command, params)\u001b[0m\n\u001b[1;32m    319\u001b[0m         \u001b[0mresponse\u001b[0m \u001b[0;34m=\u001b[0m \u001b[0mself\u001b[0m\u001b[0;34m.\u001b[0m\u001b[0mcommand_executor\u001b[0m\u001b[0;34m.\u001b[0m\u001b[0mexecute\u001b[0m\u001b[0;34m(\u001b[0m\u001b[0mdriver_command\u001b[0m\u001b[0;34m,\u001b[0m \u001b[0mparams\u001b[0m\u001b[0;34m)\u001b[0m\u001b[0;34m\u001b[0m\u001b[0;34m\u001b[0m\u001b[0m\n\u001b[1;32m    320\u001b[0m         \u001b[0;32mif\u001b[0m \u001b[0mresponse\u001b[0m\u001b[0;34m:\u001b[0m\u001b[0;34m\u001b[0m\u001b[0;34m\u001b[0m\u001b[0m\n\u001b[0;32m--> 321\u001b[0;31m             \u001b[0mself\u001b[0m\u001b[0;34m.\u001b[0m\u001b[0merror_handler\u001b[0m\u001b[0;34m.\u001b[0m\u001b[0mcheck_response\u001b[0m\u001b[0;34m(\u001b[0m\u001b[0mresponse\u001b[0m\u001b[0;34m)\u001b[0m\u001b[0;34m\u001b[0m\u001b[0;34m\u001b[0m\u001b[0m\n\u001b[0m\u001b[1;32m    322\u001b[0m             response['value'] = self._unwrap_value(\n\u001b[1;32m    323\u001b[0m                 response.get('value', None))\n",
      "\u001b[0;32m~/anaconda3/lib/python3.7/site-packages/selenium/webdriver/remote/errorhandler.py\u001b[0m in \u001b[0;36mcheck_response\u001b[0;34m(self, response)\u001b[0m\n\u001b[1;32m    240\u001b[0m                 \u001b[0malert_text\u001b[0m \u001b[0;34m=\u001b[0m \u001b[0mvalue\u001b[0m\u001b[0;34m[\u001b[0m\u001b[0;34m'alert'\u001b[0m\u001b[0;34m]\u001b[0m\u001b[0;34m.\u001b[0m\u001b[0mget\u001b[0m\u001b[0;34m(\u001b[0m\u001b[0;34m'text'\u001b[0m\u001b[0;34m)\u001b[0m\u001b[0;34m\u001b[0m\u001b[0;34m\u001b[0m\u001b[0m\n\u001b[1;32m    241\u001b[0m             \u001b[0;32mraise\u001b[0m \u001b[0mexception_class\u001b[0m\u001b[0;34m(\u001b[0m\u001b[0mmessage\u001b[0m\u001b[0;34m,\u001b[0m \u001b[0mscreen\u001b[0m\u001b[0;34m,\u001b[0m \u001b[0mstacktrace\u001b[0m\u001b[0;34m,\u001b[0m \u001b[0malert_text\u001b[0m\u001b[0;34m)\u001b[0m\u001b[0;34m\u001b[0m\u001b[0;34m\u001b[0m\u001b[0m\n\u001b[0;32m--> 242\u001b[0;31m         \u001b[0;32mraise\u001b[0m \u001b[0mexception_class\u001b[0m\u001b[0;34m(\u001b[0m\u001b[0mmessage\u001b[0m\u001b[0;34m,\u001b[0m \u001b[0mscreen\u001b[0m\u001b[0;34m,\u001b[0m \u001b[0mstacktrace\u001b[0m\u001b[0;34m)\u001b[0m\u001b[0;34m\u001b[0m\u001b[0;34m\u001b[0m\u001b[0m\n\u001b[0m\u001b[1;32m    243\u001b[0m \u001b[0;34m\u001b[0m\u001b[0m\n\u001b[1;32m    244\u001b[0m     \u001b[0;32mdef\u001b[0m \u001b[0m_value_or_default\u001b[0m\u001b[0;34m(\u001b[0m\u001b[0mself\u001b[0m\u001b[0;34m,\u001b[0m \u001b[0mobj\u001b[0m\u001b[0;34m,\u001b[0m \u001b[0mkey\u001b[0m\u001b[0;34m,\u001b[0m \u001b[0mdefault\u001b[0m\u001b[0;34m)\u001b[0m\u001b[0;34m:\u001b[0m\u001b[0;34m\u001b[0m\u001b[0;34m\u001b[0m\u001b[0m\n",
      "\u001b[0;31mInvalidArgumentException\u001b[0m: Message: invalid argument\n  (Session info: chrome=78.0.3904.97)\n"
     ]
    }
   ],
   "source": [
    "for i in fixed_html.index:\n",
    "    url = raw_html['url'][i]\n",
    "    driver.get(url)\n",
    "    sleep(0.5)\n",
    "    html = driver.page_source\n",
    "    raw_html['url'][i] = html"
   ]
  },
  {
   "cell_type": "code",
   "execution_count": 547,
   "metadata": {},
   "outputs": [
    {
     "data": {
      "text/plain": [
       "144    NaN\n",
       "157    NaN\n",
       "158    NaN\n",
       "182    NaN\n",
       "Name: html, dtype: object"
      ]
     },
     "execution_count": 547,
     "metadata": {},
     "output_type": "execute_result"
    }
   ],
   "source": [
    "raw_html['html'][fixed_html.index]"
   ]
  },
  {
   "cell_type": "code",
   "execution_count": null,
   "metadata": {},
   "outputs": [],
   "source": [
    "Content[]"
   ]
  },
  {
   "cell_type": "code",
   "execution_count": null,
   "metadata": {},
   "outputs": [],
   "source": []
  }
 ],
 "metadata": {
  "kernelspec": {
   "display_name": "Python 3",
   "language": "python",
   "name": "python3"
  },
  "language_info": {
   "codemirror_mode": {
    "name": "ipython",
    "version": 3
   },
   "file_extension": ".py",
   "mimetype": "text/x-python",
   "name": "python",
   "nbconvert_exporter": "python",
   "pygments_lexer": "ipython3",
   "version": "3.7.6"
  }
 },
 "nbformat": 4,
 "nbformat_minor": 4
}
