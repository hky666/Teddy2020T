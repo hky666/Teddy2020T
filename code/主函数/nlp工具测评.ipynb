{
 "cells": [
  {
   "cell_type": "markdown",
   "metadata": {},
   "source": [
    "# jiagu"
   ]
  },
  {
   "cell_type": "code",
   "execution_count": 3,
   "metadata": {},
   "outputs": [
    {
     "name": "stdout",
     "output_type": "stream",
     "text": [
      "Looking in indexes: https://pypi.tuna.tsinghua.edu.cn/simple\n",
      "Collecting jiagu\n",
      "  Downloading https://pypi.tuna.tsinghua.edu.cn/packages/f3/86/e9473a45fdfdfef23c0ba049ddcb94a062f3e86ec5f2b8732e567afa30f9/jiagu-0.2.3.tar.gz (53.8MB)\n",
      "Building wheels for collected packages: jiagu\n",
      "  Building wheel for jiagu (setup.py): started\n",
      "  Building wheel for jiagu (setup.py): finished with status 'done'\n",
      "  Stored in directory: C:\\Users\\Administrator\\AppData\\Local\\pip\\Cache\\wheels\\33\\28\\03\\deb6805380e79ba334e6c51301742088e2abe6711cb42190eb\n",
      "Successfully built jiagu\n",
      "Installing collected packages: jiagu\n",
      "Successfully installed jiagu-0.2.3\n"
     ]
    }
   ],
   "source": [
    "!pip install -U jiagu -i https://pypi.tuna.tsinghua.edu.cn/simple"
   ]
  },
  {
   "cell_type": "code",
   "execution_count": 8,
   "metadata": {},
   "outputs": [
    {
     "name": "stdout",
     "output_type": "stream",
     "text": [
      "['厦门', '明天', '会不会', '下雨']\n",
      "['B-LOC', 'O', 'O', 'O']\n"
     ]
    }
   ],
   "source": [
    "import jiagu\n",
    "\n",
    "#jiagu.init() # 可手动初始化，也可以动态初始化\n",
    "\n",
    "text = '厦门明天会不会下雨'\n",
    "\n",
    "words = jiagu.seg(text) # 分词\n",
    "print(words)\n",
    "\n",
    "# pos = jiagu.pos(words) # 词性标注\n",
    "# print(pos)\n",
    "\n",
    "ner = jiagu.ner(words) # 命名实体识别\n",
    "print(ner)"
   ]
  },
  {
   "cell_type": "code",
   "execution_count": 13,
   "metadata": {},
   "outputs": [],
   "source": [
    "fh =open('./Alltext.txt','r',encoding = 'utf-8')\n",
    "s = fh.read()"
   ]
  },
  {
   "cell_type": "code",
   "execution_count": 19,
   "metadata": {},
   "outputs": [],
   "source": [
    "sn = s.replace('\\n','。')"
   ]
  },
  {
   "cell_type": "code",
   "execution_count": 20,
   "metadata": {},
   "outputs": [
    {
     "data": {
      "text/plain": [
       "'。最新消息2月14日上午，省卫健委公布2月13日024时肇庆市新增1例新冠肺炎确诊病例。截至2月13日24时，肇庆市累计报告新冠肺炎确诊病例17例。13日0-24时全市新增确诊病例1例，分布在封开县。累计报告的17例确诊病例中，端州区5例，鼎湖区2例、高要区3例、四会市1例、广宁县1例、封开县5例。其中男性10例，女性7例，年龄介于3岁到65岁之间。截至2020年2月13日24时，在院的9例确诊病例中，普通型4例，轻型4例，重型1例。死亡1例。无医务人员感染。在院的9例病例，有1例病例病情加重，其余确诊病例病情稳定。全市共追踪到507名密切接触者，正接受集中医学观察277人，累计230人解除医学观察。17例确诊病例感染原因为湖北输入病例6例、旅游输入病例4例、由旅游输入引起的家庭病例3例、有武汉返肇人员接触史4例。目前，累计已有7例确诊病例治愈出院。肇庆市新增一例确诊病例情况如下：11病例17何某（女、65岁、封开人），现住封开县江口镇河堤二路22号。近期无湖北省居住、旅游史，感染原因是与新型冠状病毒感染肺炎病例有接触。1月19日下午3：00与何某、吴某（病例16、15）等人一起在封开县曲艺社排练。1月23日到何某（病例16）家中（水上居民安置楼），1月24日、1月31日、2月7日分别送丈夫到封开县人民医院进行透析治疗，2月7日上午9时到好又多超市买菜。其余时间在家照顾丈夫。2月9日采集咽拭子送市疾控中心核酸检测为阴性，2月12日采集咽拭子送市疾控中心检测。2月12日下午到封开县人民医院进行胸部CT筛查，结果显示双肺多发磨玻璃影，胸膜下明显，考虑是病毒性肺炎，13日核酸检测报告为阳性，送至肇庆市第一人民医院隔离治疗，病人病情稳定。目前已对密切接触者集中隔离医学观察。新增确诊病例涉及的小区或场所封开县江口镇河堤二路22号、江口镇蝴蝶塘路封开县曲艺社、好又多超市、水上居民安置楼此前确诊病例情况如下:病例16何某（女、62岁、封开人），常住封开县江口镇水上居民安置楼。近期无武汉居住旅游史，是新冠肺炎确诊病例吴某（病例15）的密切接触者。平时主要娱乐活动是到江口镇星辉曲艺社江口社区唱粤曲，2020年1月20日，与吴某（病例15）及其工友在宾悦酒店2楼聚餐及唱歌。22日由封开曲艺社组织前往平凤镇新围村参加敬老演出活动，演出活动后出现流涕、咳嗽、咳痰症状，无发热（未测体温），自'"
      ]
     },
     "execution_count": 20,
     "metadata": {},
     "output_type": "execute_result"
    }
   ],
   "source": [
    "sn[:1000]"
   ]
  },
  {
   "cell_type": "code",
   "execution_count": 21,
   "metadata": {},
   "outputs": [],
   "source": [
    "words = jiagu.seg(sn) # 分词\n",
    "ner = jiagu.ner(words) # 命名实体识别"
   ]
  },
  {
   "cell_type": "code",
   "execution_count": 22,
   "metadata": {},
   "outputs": [
    {
     "data": {
      "text/plain": [
       "list"
      ]
     },
     "execution_count": 22,
     "metadata": {},
     "output_type": "execute_result"
    }
   ],
   "source": [
    "type(ner)"
   ]
  },
  {
   "cell_type": "code",
   "execution_count": 23,
   "metadata": {
    "collapsed": true
   },
   "outputs": [
    {
     "name": "stdout",
     "output_type": "stream",
     "text": [
      "['、', '封', '开县', '5', '例', '。', '其中', '男性', '10', '例', '，', '女性', '7', '例', '，', '年龄', '介于', '3', '岁', '到', '65', '岁', '之间', '。', '截至', '2020', '年', '2', '月', '13', '日', '24', '时', '，', '在', '院', '的', '9', '例', '确诊', '病例', '中', '，', '普通型', '4', '例', '，', '轻型', '4', '例', '，', '重型', '1', '例', '。', '死亡', '1', '例', '。', '无', '医务', '人员', '感染', '。', '在', '院', '的', '9', '例', '病例', '，', '有', '1', '例', '病例', '病情', '加重', '，', '其余', '确诊', '病例', '病情', '稳定', '。', '全市', '共', '追踪到', '507', '名', '密切', '接触', '者', '，', '正', '接受', '集中', '医学', '观察', '277', '人'] ['O', 'O', 'O', 'O', 'O', 'O', 'O', 'O', 'O', 'O', 'O', 'O', 'O', 'O', 'O', 'O', 'O', 'O', 'O', 'O', 'O', 'O', 'O', 'O', 'O', 'O', 'O', 'O', 'O', 'O', 'O', 'O', 'O', 'O', 'O', 'O', 'O', 'O', 'O', 'O', 'O', 'O', 'O', 'O', 'O', 'O', 'O', 'O', 'O', 'O', 'O', 'O', 'O', 'O', 'O', 'O', 'O', 'O', 'O', 'O', 'O', 'O', 'O', 'O', 'O', 'O', 'O', 'O', 'O', 'O', 'O', 'O', 'O', 'O', 'O', 'O', 'O', 'O', 'O', 'O', 'O', 'O', 'O', 'O', 'O', 'O', 'O', 'O', 'O', 'O', 'O', 'O', 'O', 'O', 'O', 'O', 'O', 'O', 'O', 'O']\n"
     ]
    }
   ],
   "source": [
    "print(words[100:200],ner[100:200])"
   ]
  },
  {
   "cell_type": "code",
   "execution_count": 38,
   "metadata": {
    "scrolled": true
   },
   "outputs": [],
   "source": [
    "def get_loc(xi,yi):\n",
    "    loc = []\n",
    "    flag = False\n",
    "    for xi,yi in zip(words,ner):\n",
    "        if 'LOC' in yi:\n",
    "            if flag == False:\n",
    "                loc.append(xi)\n",
    "                flag = True\n",
    "            else:\n",
    "                loc[-1 ]= loc[-1]+xi\n",
    "        else:\n",
    "            flag = False\n",
    "    return loc"
   ]
  },
  {
   "cell_type": "code",
   "execution_count": 34,
   "metadata": {
    "scrolled": true
   },
   "outputs": [
    {
     "data": {
      "text/plain": [
       "['湖北',\n",
       " '武汉',\n",
       " '湖北省',\n",
       " '江口镇',\n",
       " '武汉',\n",
       " '江口镇',\n",
       " '平',\n",
       " '苏',\n",
       " '苏',\n",
       " '江口镇',\n",
       " '东堤路25号亲戚家',\n",
       " '苏',\n",
       " '武汉',\n",
       " '苏',\n",
       " '武汉',\n",
       " '粤',\n",
       " '湖北省黄冈市',\n",
       " '武汉',\n",
       " '广州',\n",
       " '广州',\n",
       " '广州南沙',\n",
       " '邮轮',\n",
       " '越南',\n",
       " '广州南沙',\n",
       " '江某',\n",
       " '江某',\n",
       " '江某',\n",
       " '江某',\n",
       " '江某',\n",
       " '日',\n",
       " '江某',\n",
       " '江某',\n",
       " '江某',\n",
       " '江某',\n",
       " '广州南沙',\n",
       " '邮轮',\n",
       " '越南',\n",
       " '广州南沙',\n",
       " '广州南沙',\n",
       " '邮轮',\n",
       " '越南',\n",
       " '广州南沙',\n",
       " '江某',\n",
       " '江某',\n",
       " '日',\n",
       " '武汉',\n",
       " '武汉',\n",
       " '武汉',\n",
       " '广宁',\n",
       " '武汉',\n",
       " '武汉',\n",
       " '日',\n",
       " '泰国',\n",
       " '泰国',\n",
       " '广州',\n",
       " '曼机场',\n",
       " '泰国',\n",
       " '广州',\n",
       " '日',\n",
       " '武汉',\n",
       " '武汉',\n",
       " '广州',\n",
       " '日',\n",
       " '武汉',\n",
       " '广州',\n",
       " '广州南站客运站',\n",
       " '武汉',\n",
       " '日',\n",
       " '黎',\n",
       " '武汉',\n",
       " '武汉',\n",
       " '广州',\n",
       " '广州南站客运站',\n",
       " '日',\n",
       " '丽湾小区',\n",
       " '南街',\n",
       " '曙光路31号',\n",
       " '东堤路25号',\n",
       " '江口镇',\n",
       " '江口镇',\n",
       " '湖北',\n",
       " '平安',\n",
       " '德庆县',\n",
       " '意',\n",
       " '德庆县',\n",
       " '江西省',\n",
       " '江西省',\n",
       " '南昌市',\n",
       " '青云谱区',\n",
       " '东湖',\n",
       " '青云谱区',\n",
       " '南昌市',\n",
       " '淮安',\n",
       " '湖北',\n",
       " '淮安',\n",
       " '淮阴',\n",
       " '淮阴',\n",
       " '淮安',\n",
       " '凯旋',\n",
       " '湖北']"
      ]
     },
     "execution_count": 34,
     "metadata": {},
     "output_type": "execute_result"
    }
   ],
   "source": [
    "loc[:100]"
   ]
  },
  {
   "cell_type": "code",
   "execution_count": 35,
   "metadata": {},
   "outputs": [
    {
     "name": "stdout",
     "output_type": "stream",
     "text": [
      "['疫情', '通报', '：', '番禺区', '：', '王某', '，', '居住', '于', '广东省', '深圳市', '宝安区', '西乡', '街道', '，', '活动', '于', '西安', '市场', '，', '好', '又', '多', '超市']\n",
      "['O', 'O', 'O', 'O', 'O', 'B-PER', 'O', 'O', 'O', 'B-LOC', 'B-LOC', 'B-LOC', 'B-ORG', 'O', 'O', 'O', 'O', 'B-LOC', 'O', 'O', 'O', 'O', 'O', 'O']\n"
     ]
    }
   ],
   "source": [
    "import jiagu\n",
    "\n",
    "#jiagu.init() # 可手动初始化，也可以动态初始化\n",
    "\n",
    "text = '疫情通报：番禺区：王某，居住于广东省深圳市宝安区西乡街道，活动于西安市场，好又多超市'\n",
    "\n",
    "words = jiagu.seg(text) # 分词\n",
    "print(words)\n",
    "\n",
    "# pos = jiagu.pos(words) # 词性标注\n",
    "# print(pos)\n",
    "\n",
    "ner = jiagu.ner(words) # 命名实体识别\n",
    "print(ner)\n"
   ]
  },
  {
   "cell_type": "code",
   "execution_count": 39,
   "metadata": {},
   "outputs": [
    {
     "data": {
      "text/plain": [
       "['广东省深圳市宝安区', '西安']"
      ]
     },
     "execution_count": 39,
     "metadata": {},
     "output_type": "execute_result"
    }
   ],
   "source": [
    "get_loc(words,ner)"
   ]
  },
  {
   "cell_type": "markdown",
   "metadata": {},
   "source": [
    "地址识别很差"
   ]
  },
  {
   "cell_type": "markdown",
   "metadata": {},
   "source": [
    "# tudou"
   ]
  },
  {
   "cell_type": "code",
   "execution_count": 47,
   "metadata": {},
   "outputs": [
    {
     "name": "stdout",
     "output_type": "stream",
     "text": [
      "^C\n"
     ]
    }
   ],
   "source": [
    "!pip install tudou -i https://pypi.tuna.tsinghua.edu.cn/simple"
   ]
  },
  {
   "cell_type": "markdown",
   "metadata": {},
   "source": [
    "# COCONLP"
   ]
  },
  {
   "cell_type": "code",
   "execution_count": 46,
   "metadata": {
    "collapsed": true
   },
   "outputs": [
    {
     "name": "stdout",
     "output_type": "stream",
     "text": [
      "Collecting cocoNLP\n",
      "  Using cached https://files.pythonhosted.org/packages/8f/c3/59aaa0fcaf7afb0853f0ce21570452f40048628f6b3cd68423ee3e798d05/cocoNLP-0.0.13.tar.gz\n",
      "Collecting jieba (from cocoNLP)\n",
      "  Using cached https://files.pythonhosted.org/packages/c6/cb/18eeb235f833b726522d7ebed54f2278ce28ba9438e3135ab0278d9792a2/jieba-0.42.1.tar.gz\n",
      "Collecting pyhanlp (from cocoNLP)\n"
     ]
    },
    {
     "name": "stderr",
     "output_type": "stream",
     "text": [
      "  Retrying (Retry(total=4, connect=None, read=None, redirect=None, status=None)) after connection broken by 'ReadTimeoutError(\"HTTPSConnectionPool(host='pypi.org', port=443): Read timed out. (read timeout=15)\")': /simple/pyhanlp/\n",
      "  Retrying (Retry(total=3, connect=None, read=None, redirect=None, status=None)) after connection broken by 'ProxyError('Cannot connect to proxy.', OSError('Tunnel connection failed: 503 Not Connected'))': /simple/pyhanlp/\n",
      "  Retrying (Retry(total=2, connect=None, read=None, redirect=None, status=None)) after connection broken by 'ProxyError('Cannot connect to proxy.', OSError('Tunnel connection failed: 503 Not Connected'))': /simple/pyhanlp/\n",
      "  Retrying (Retry(total=1, connect=None, read=None, redirect=None, status=None)) after connection broken by 'ProxyError('Cannot connect to proxy.', OSError('Tunnel connection failed: 503 Not Connected'))': /simple/pyhanlp/\n",
      "  Retrying (Retry(total=0, connect=None, read=None, redirect=None, status=None)) after connection broken by 'ProxyError('Cannot connect to proxy.', OSError('Tunnel connection failed: 503 Not Connected'))': /simple/pyhanlp/\n",
      "  Could not find a version that satisfies the requirement pyhanlp (from cocoNLP) (from versions: )\n",
      "No matching distribution found for pyhanlp (from cocoNLP)\n"
     ]
    }
   ],
   "source": [
    "!pip install cocoNLP"
   ]
  },
  {
   "cell_type": "code",
   "execution_count": 44,
   "metadata": {},
   "outputs": [],
   "source": [
    "text = '急寻特朗普，男孩，于2018年11月27号11时在陕西省安康市汉滨区走失。丢失发型短发，...如有线索，请迅速与警方联系：18100065143，132-6156-2938，baizhantang@sina.com.cn 和yangyangfuture at gmail dot com'"
   ]
  },
  {
   "cell_type": "code",
   "execution_count": null,
   "metadata": {},
   "outputs": [],
   "source": [
    "# 抽取地址信息\n",
    "locations = ex.extract_locations(text)\n",
    "print(locations)\n",
    "['陕西省安康市汉滨区', '安康市汉滨区', '汉滨区']"
   ]
  }
 ],
 "metadata": {
  "kernelspec": {
   "display_name": "Python 3",
   "language": "python",
   "name": "python3"
  },
  "language_info": {
   "codemirror_mode": {
    "name": "ipython",
    "version": 3
   },
   "file_extension": ".py",
   "mimetype": "text/x-python",
   "name": "python",
   "nbconvert_exporter": "python",
   "pygments_lexer": "ipython3",
   "version": "3.7.4"
  }
 },
 "nbformat": 4,
 "nbformat_minor": 2
}
