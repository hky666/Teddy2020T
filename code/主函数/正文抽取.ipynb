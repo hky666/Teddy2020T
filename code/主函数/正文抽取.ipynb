<<<<<<< HEAD
{
 "cells": [
  {
   "cell_type": "markdown",
   "metadata": {},
   "source": [
    "# 包"
   ]
  },
  {
   "cell_type": "code",
   "execution_count": 1,
   "metadata": {},
   "outputs": [],
   "source": [
    "import requests\n",
    "from bs4 import BeautifulSoup\n",
    "import re\n",
    "import matplotlib.pyplot as plt\n",
    "import numpy as np\n",
    "import matplotlib as mpl\n",
    "mpl.rcParams[\"font.sans-serif\"]=[\"SimHei\"]\n",
    "mpl.rcParams[\"axes.unicode_minus\"]=False\n",
    "from selenium import webdriver\n",
    "from  time import sleep\n",
    "import pandas as pd\n",
    "import json\n",
    "from  random import random\n",
    "import re\n",
    "from lxml import etree\n",
    "from gne import GeneralNewsExtractor\n",
    "token = '63ce8433d23e1f4d8cbd8bf14390fcc7'"
   ]
  },
  {
   "cell_type": "markdown",
   "metadata": {},
   "source": [
    "# 导入数据"
   ]
  },
  {
   "cell_type": "code",
   "execution_count": 2,
   "metadata": {},
   "outputs": [],
   "source": [
    "good_url = pd.read_csv('../good_url.csv')"
   ]
  },
  {
   "cell_type": "code",
   "execution_count": 3,
   "metadata": {},
   "outputs": [],
   "source": [
    "del good_url['Unnamed: 0']"
   ]
  },
  {
   "cell_type": "code",
   "execution_count": 4,
   "metadata": {},
   "outputs": [],
   "source": [
    "good_url.rename(columns={'0':'url'},inplace=True) "
   ]
  },
  {
   "cell_type": "code",
   "execution_count": 5,
   "metadata": {},
   "outputs": [],
   "source": [
    "driver = webdriver.Chrome()\n",
    "driver.get('https://weibo.com')\n",
    "\n",
    "driver.implicitly_wait(20) # 操作、获取元素时的隐式等待时间\n",
    "driver.set_page_load_timeout(20) # 页面加载超时等待时间"
   ]
  },
  {
   "cell_type": "code",
   "execution_count": 363,
   "metadata": {},
   "outputs": [],
   "source": [
    "extractor = GeneralNewsExtractor()"
   ]
  },
  {
   "cell_type": "markdown",
   "metadata": {},
   "source": [
    "# 基于规则"
   ]
  },
  {
   "cell_type": "code",
   "execution_count": 1,
   "metadata": {},
   "outputs": [],
   "source": [
    "# weixin,weibo,toutiao,baijiahao,nanfangdushibao"
   ]
  },
  {
   "cell_type": "code",
   "execution_count": null,
   "metadata": {},
   "outputs": [],
   "source": [
    "# rule = {\n",
    "#     'mp.weixin.qq.com':['//*[@id=\"js_name\"]','//*[@id=\"js_content\"]']\n",
    "# }"
   ]
  },
  {
   "cell_type": "code",
   "execution_count": 16,
   "metadata": {},
   "outputs": [
    {
     "data": {
      "text/plain": [
       "'https://mp.weixin.qq.com/s/HTsNM1zxEAx3IqoF1uYnYA'"
      ]
     },
     "execution_count": 16,
     "metadata": {},
     "output_type": "execute_result"
    }
   ],
   "source": [
    "good_url['url'][0]"
   ]
  },
  {
   "cell_type": "code",
   "execution_count": null,
   "metadata": {},
   "outputs": [],
   "source": [
    "# def get_resource_content(url,driver,rule):\n",
    "#     ''' \n",
    "#         input:url,driver,rule  \n",
    "#         output:GETHTML\n",
    "#     '''\n",
    "# #     site = re.search(r'(https*://)(.+?)(/)',url).group(2)\n",
    "# #     html =  ''\n",
    "#     # 用引擎\n",
    "#     driver.get(url)\n",
    "#     sleep(0.2)\n",
    "#     try:\n",
    "#         html =  driver.page_source\n",
    "#     except Expection as e:\n",
    "#         return '',''\n",
    "#     soup = etree.HTML(html)\n",
    "#     soup.xpath\n",
    "#     if site in rule:\n",
    "#         # 基于规则xpath\n",
    "#         xr,xc = rule[site]\n",
    "        \n",
    "#     else:\n",
    "#         # 基于启发信息\n",
    "    \n",
    "#     return html"
   ]
  },
  {
   "cell_type": "code",
   "execution_count": 15,
   "metadata": {},
   "outputs": [],
   "source": [
    "url = good_url['url'][0]\n",
    "site = re.search(r'(https*://)(.+?)(/)',url).group(2)\n",
    "# 用引擎\n",
    "driver.get(url)\n",
    "# sleep(0.2)\n",
    "# try:\n",
    "html =  driver.page_source\n",
    "# except Expection as e:\n",
    "#     return '',''\n",
    "soup = etree.HTML(html)\n",
    "name = soup.xpath('//*[@id=\"js_name\"]')\n",
    "content = soup.xpath('//*[@id=\"js_content\"]')\n",
    "\n",
    "# if site in rule:\n",
    "#     # 基于规则xpath\n",
    "#     xr,xc = rule[site]\n",
    "\n",
    "# else:\n",
    "#     # 基于启发信息"
   ]
  },
  {
   "cell_type": "code",
   "execution_count": 12,
   "metadata": {},
   "outputs": [
    {
     "data": {
      "text/plain": [
       "'\\n                        健康肇庆                      '"
      ]
     },
     "execution_count": 12,
     "metadata": {},
     "output_type": "execute_result"
    }
   ],
   "source": [
    "name[0].text"
   ]
  },
  {
   "cell_type": "code",
   "execution_count": 13,
   "metadata": {},
   "outputs": [],
   "source": [
    "res = re.sub(r'[^\\u4e00-\\u9fa5]','',name[0].text)"
   ]
  },
  {
   "cell_type": "code",
   "execution_count": 14,
   "metadata": {},
   "outputs": [
    {
     "data": {
      "text/plain": [
       "'健康肇庆'"
      ]
     },
     "execution_count": 14,
     "metadata": {},
     "output_type": "execute_result"
    }
   ],
   "source": [
    "res"
   ]
  },
  {
   "cell_type": "code",
   "execution_count": 27,
   "metadata": {},
   "outputs": [],
   "source": [
    "content[0][1].text"
   ]
  },
  {
   "cell_type": "code",
   "execution_count": 30,
   "metadata": {},
   "outputs": [],
   "source": [
    "soup = BeautifulSoup(html, 'html.parser')"
   ]
  },
  {
   "cell_type": "code",
   "execution_count": 37,
   "metadata": {},
   "outputs": [],
   "source": [
    "slec = soup.select('#js_content')"
   ]
  },
  {
   "cell_type": "code",
   "execution_count": 42,
   "metadata": {},
   "outputs": [
    {
     "data": {
      "text/plain": [
       "'\\n最新消息2月14日上午，省卫健委公布2月13日0－24时肇庆市新增1例新冠肺炎确诊病例。截至2月13日24时，肇庆市累计报告新冠肺炎确诊病例17例。13日0-24时全市新增确诊病例1例，分布在封开县。累计报告的17例确诊病例中，端州区5例，鼎湖区2例、高要区3例、四会市1例、广宁县1例、封开县5例。其中男性10例，女性7例，年龄介于3岁到65岁之间。截至2020年2月13日24时，在院的9例确诊病例中，普通型4例，轻型4例，重型1例。死亡1例。无医务人员感染。在院的9例病例，有1例病例病情加重，其余确诊病例病情稳定。全市共追踪到507名密切接触者，正接受集中医学观察277人，累计230人解除医学观察。17例确诊病例感染原因为湖北输入病例6例、旅游输入病例4例、由旅游输入引起的家庭病例3例、有武汉返肇人员接触史4例。目前，累计已有7例确诊病例治愈出院。\\xa0肇庆市新增一例确诊病例情况如下：11病例17何某（女、65岁、封开人），现住封开县江口镇河堤二路22号。近期无湖北省居住、旅游史，感染原因是与新型冠状病毒感染肺炎病例有接触。1月19日下午3：00与何某、吴某（病例16、15）等人一起在封开县曲艺社排练。1月23日到何某（病例16）家中（水上居民安置楼），1月24日、1月31日、2月7日分别送丈夫到封开县人民医院进行透析治疗， 2月7日上午9时到好又多超市买菜。其余时间在家照顾丈夫。2月9日采集咽拭子送市疾控中心核酸检测为阴性，2月12日采集咽拭子送市疾控中心检测。2月12日下午到封开县人民医院进行胸部CT筛查，结果显示双肺多发磨玻璃影，胸膜下明显，考虑是病毒性肺炎，13日核酸检测报告为阳性，送至肇庆市第一人民医院隔离治疗，病人病情稳定。目前已对密切接触者集中隔离医学观察。新增确诊病例涉及的小区或场所封开县江口镇河堤二路22号、江口镇蝴蝶塘路封开县曲艺社、好又多超市、水上居民安置楼此前确诊病例情况如下:病例16何某（女、62岁、封开人），常住封开县江口镇水上居民安置楼。近期无武汉居住旅游史，是新冠肺炎确诊病例吴某（病例15）的密切接触者。平时主要娱乐活动是到江口镇星辉曲艺社江口社区唱粤曲，2020年1月20日，与吴某（病例15）及其工友在宾悦酒店2楼聚餐及唱歌。22日由封开曲艺社组织前往平凤镇新围村参加敬老演出活动，演出活动后出现流涕、咳嗽、咳痰症状，无发热（未测体温），自行服用药物治疗，未到医院就诊。23日开始自己居家隔离，期间无外出，直至2月10日凌晨到封开县江口镇杏花宾馆集中隔离观察。2月10日上午患者咳嗽较前加重，出现发热，胸部CT检查结果显示双肺多发磨玻璃影，胸膜下明显，考虑是病毒性肺炎，当晚送肇庆市第一人民医院隔离治疗。2月11日患者新型冠状病毒核酸检测阳性。目前病人经治疗后，有发热、咳嗽、咳痰症状，病情稳定。\\xa0病例15吴某（男、56岁、封开人），常住封开县江口镇东方二路115号。1月19日下午病例与苏某（病例14）在江口镇曲艺社一起参加粤剧排练。晚上与朋友到苏某（病例14）的店铺喝茶。20日晚与工友在江口镇宾悦酒店二楼聚餐。21－23日期间在封开县江口镇东方二路115号家中休息，曾到井根农贸市场购物。24日、26日晚上到江口镇东堤路25号亲戚家中参加家庭聚餐。1月27、29日及2月1日到杏花宾馆宿舍其朋友家中聚餐、打麻将。28日晚上再次到苏某（病例14）店铺喝茶。无武汉居住旅游史。2月3日出现咽痒不适，偶发性咳嗽，伴有低热。2月6日胸部CT检查结果显示右肺上叶炎症。2月8日送肇庆市一医院隔离治疗，采集咽拭子进行新型冠状病毒核酸检测，肇庆市一医院和肇庆市疾控中心报告均为阴性。2月9日肇庆市一医院取下呼吸道分泌物检测新型冠状病毒核酸初筛阳性，送肇庆市疾控中心复核，结果阳性。目前病人经治疗后，偶有咳嗽、咳痰，无畏寒、发热，病情稳定。\\xa0病例14苏某（男、55岁、封开人），在封开县江口镇经营乐惠士多店，常在店内聚众打牌。平常活动点为乐惠士多店和曙光路31号家中，1月24日晚到封开县广信嘉园朋友家中聚餐，1月28日晚到封开县唐八叔清补羊火锅店聚餐。有武汉返粤人员接触史，无其它外出旅游史。2月2日出现发热、轻微气喘等症状， 2月5日采集患者咽拭子及血清标本检测，2月6日检测结果显示阳性，确诊为新冠肺炎病例。患者属重症病例，有多年糖尿病史，因病情恶化，经抢救无效，于2月6日18时15分死亡。\\xa0病例13莫某（男、24岁、封开人），长期在湖北省黄冈市做生意。1月22日，乘坐19时06分T95班次火车（04车厢）从武汉返回到广州。1月23日，在广州滘口汽车站乘坐8时30分班次客车返回到封开县杏花镇新和村家中。2月1日，进行咽拭子检测，2月4日，省疾控中心新型冠状病毒核酸检测复核结果阳性。2月4日，在肇庆市第一人民医院进行肺部CT检查，显示肺部炎症，2月5日上午出现发热等临床症状，确诊为新冠肺炎患者。目前，正在定点医院规范治疗，病人病情稳定，生命体征良好。\\xa0病例12病例7江某的大儿子梁某（男、10岁、端州人），1月19日与父母梁某、江某（病例7、病例8）一起到广州南沙乘坐邮轮到越南旅游，1月24日与父母从广州南沙码头下船，自驾车返回端州，2月1日江某确诊为新冠肺炎患者，2月5日江某的大儿子出现发热等临床症状，2月5日确诊为新冠肺炎患者。目前正在定点医院规范治疗，病人病情稳定，生命体征良好。\\xa0病例11病例7江某的小儿子梁某（男、3岁、端州人），2月1日江某确诊为新冠肺炎患者，江某的小儿子为确诊病例密切接触者，2月4日江某的小儿子出现发热等临床症状，2月4日确诊为新冠肺炎患者。目前正在定点医院规范治疗，病人病情稳定，生命体征良好。经治疗，2020年2月11日已出院。\\xa0病例10病例7江某的婆婆钟某（女、62岁、鼎湖人），2月1日江某确诊为新冠肺炎患者，钟某为确诊病例密切接触者，2月2日江某的婆婆进行肺部CT检查，显示肺部炎症。2月3日江某的婆婆确诊为新冠肺炎患者。目前正在定点医院规范治疗，病人病情稳定，生命体征良好。\\xa0病例9病例7江某的公公梁某（男、64岁、鼎湖人），2月1日江某确诊为新冠肺炎患者，梁某为确诊病例密切接触者，2月2日梁某进行肺部CT检查，显示肺部炎症。2月3日梁某确诊为新冠肺炎患者。目前病人属重症病例，正在定点医院规范治疗。\\xa0病例8病例7江某的丈夫梁某（男、35岁、端州人）。1月19日与妻子、大儿子一起，自驾车到广州南沙乘坐邮轮到越南旅游，1月24日与家人从广州南沙码头下船，自驾车返回端州，1月25日梁某出现发热症状，1月31日晚上到肇庆市第一人民医院发热门诊就医。2月3日梁某确诊为新冠肺炎患者。目前正在定点医院规范治疗，病人病情稳定，生命体征良好。\\xa0病例7江某（女、33岁、端州人），近半年在端州区居住工作，无明显疫情发生地接触史，1月19日与丈夫、大儿子一起，自驾车到广州南沙乘坐邮轮到越南旅游，1月24日与家人从广州南沙码头下船，自驾车返回端州，江某1月25日出现发热症状，1月29日到高要区人民医院就医，1月31日到肇庆市第一人民医院发热门诊就医。2月1日江某确诊为新冠肺炎患者。目前正在定点医院规范治疗，病人病情稳定，生命体征良好。经治疗，2020年2月11日已出院。病例7、病例8、病例9、病例10、病例11、病例12属于新冠肺炎家庭聚集性病例。病例6谭某（男、26岁、武汉人），在武汉居住工作，1月22日自驾车离开武汉，1月23日到广宁旅游，1月23日到当地医院检查，结果显示未见异常，1月24日开始进行为期14天集中隔离的医学观察，1月28日出现头痛、腹泻症状，1月29日住院隔离治疗，1月30日确诊。目前，正在定点医院规范治疗，病人病情稳定，生命体征良好。\\xa0病例5郭某（女、27岁、高要人），近半年在武汉居住工作，1月22日自驾车离开武汉回肇，1月23日到肇后无不适症状并纳入医学观察，1月25日出现发热症状，1月26日住院隔离治疗，1月28日确诊。目前，正在定点医院规范治疗，病人病情稳定，生命体征良好。经治疗，2020年2月10日已出院。\\xa0病例4李某（女、43岁、高要人），近半年在高要居住工作，无明显疫情发生地接触史，1月9日参加自组团到泰国旅游，乘坐泰国亚航FD537航班从广州白云机场抵达廊曼机场，1月13日出现“感冒、乏力”症状，1月14日乘坐泰国亚航FD530航班抵达广州白云机场，1月17日入院就诊，1月25日确诊。目前，正在定点医院规范治疗，病人病情稳定，生命体征良好。经治疗，2020年2月11日已出院。\\xa0病例3廖某（男、26岁、高要人），近半年在武汉居住工作，1月19日从武汉乘坐飞机到广州白云机场，随后由同事接载回端州，1月21日出现发热症状并入院就诊，1月25日确诊。经治疗，2020年2月8日已出院。\\xa0病例2林某（男、37岁、端州人），近半年在武汉居住工作，1月22日乘坐武广高铁G95班次列车回到广州南，在广州南站客运站乘坐前往端州的大巴，再乘坐滴滴车回端州。在武汉归家途中开始发热，但自己除乏力外无感觉到其他不适，在进家门前妻子发现其体温异常，其妻子自驾车送患者到医院就诊，1月24日确诊。经治疗，2020年2月8日已出院。\\xa0病例1黎某（女、25岁、四会人），近半年在武汉居住工作。1月11日出现鼻塞、流涕、间歇性咳嗽等症状，1月13日和16日在武汉医院就诊，1月17日乘坐G1015次列车（座位号3车厢）回广州南站，在广州南站客运站乘坐前往四会的大巴，再乘坐滴滴车回四会，1月18日入院就诊，1月22日确诊。经治疗，2020年1月31日已出院。全市累计确诊病例涉及的小区或场所1端州区：睦岗街道锦绣山河小区、城东街道帝和豪庭小区鼎湖区：坑口街道一米阳光小区高要区：南岸街道珀丽湾小区、南岸街道帝景蓝湾小区、大湾镇禄岸村四会市：东城街道九龙湾小区广宁县：南街镇碧翠湖度假村封开县：封开县杏花镇新和村、江口镇乐惠士多店、江口镇曙光路31号、封开县广信嘉园、封开县唐八叔清补羊火锅店、封开县江口镇东方二路115号、江口镇宾悦酒店、井根农贸市场、江口镇东堤路25号、杏花宾馆宿舍、封开县江口镇水上居民安置楼、江口镇星辉曲艺社江口社区、平凤镇新围村、封开县江口镇河堤二路22号、江口镇蝴蝶塘路封开县曲艺社、好又多超市。肇庆市17例确诊病例涉及6个县（市、区）24个小区或场所，发现确诊病例后，市、县两级疾控部门已立即对所涉及的小区或场所进行了严格的终末消毒，督促指导社区和物业做好日常预防性消毒工作。与病例有关的密切接触者已送指定场所进行集中隔离医学观察。希望大家做好个人防护。1相关链接：☛@肇庆市民，轻微发热不用跑医院！这里可免费咨询专家；☛一图读懂新型冠状病毒传播途径与预防指南！编辑 健康肇庆编辑部热点回顾\\xa0◢\\xa0今天，肇庆3例确诊患者治愈出院！包括一名3岁儿童◢\\xa0今天，肇庆第二批驰援湖北医疗队出征！请平安归来点个“在看”让更多人知道！\\n'"
      ]
     },
     "execution_count": 42,
     "metadata": {},
     "output_type": "execute_result"
    }
   ],
   "source": [
    "slec[0].get_text()"
   ]
  },
  {
   "cell_type": "code",
   "execution_count": 39,
   "metadata": {},
   "outputs": [
    {
     "data": {
      "text/plain": [
       "<div class=\"rich_media_content\" id=\"js_content\" style=\"visibility: visible;\">\n",
       "<section data-label=\"powered by xmt.cn\" data-tools=\"新媒体管家\" style=\"display: none;\"><br/></section><p style=\"max-width: 100%;min-height: 1em;letter-spacing: 0.544px;white-space: normal;background-color: rgb(255, 255, 255);font-size: 16px;font-family: -apple-system-font, BlinkMacSystemFont, Arial, sans-serif;box-sizing: border-box !important;word-wrap: break-word !important;\"><img _width=\"677px\" class=\"__bg_gif\" data-ratio=\"0.2453125\" data-s=\"300,640\" data-src=\"https://mmbiz.qpic.cn/mmbiz_gif/z2KVp01hujF4z1BMroH6YSCLAicKuW2Wg1wRDico366vTveFPaan5NaZgAiaibNnauWjq37z3X8Bl6BBTOdic31r7yA/640?wx_fmt=gif\" data-type=\"gif\" data-w=\"640\" style=\"letter-spacing: 0.544px;text-align: center;font-size: 18px;box-sizing: border-box !important;word-wrap: break-word !important;visibility: visible !important;width: 677px !important;height: auto !important;\"/><br/></p><p style=\"max-width: 100%;min-height: 1em;letter-spacing: 0.544px;white-space: normal;background-color: rgb(255, 255, 255);font-size: 16px;font-family: -apple-system-font, BlinkMacSystemFont, Arial, sans-serif;box-sizing: border-box !important;word-wrap: break-word !important;\"><img _width=\"677px\" class=\"rich_pages\" data-ratio=\"0.15375\" data-s=\"300,640\" data-src=\"https://mmbiz.qpic.cn/mmbiz_jpg/z2KVp01hujFYO4sn1fXHCFHZ5FRxN1Tx252twLrEZRQAyJrlic18b4Cy8b1sIkeKQgJw3BgrqCNpRT8rwpI78sQ/640?wx_fmt=jpeg\" data-type=\"jpeg\" data-w=\"800\" style=\"text-align: center;box-sizing: border-box !important;word-wrap: break-word !important;visibility: visible !important;width: 677px !important;height: auto !important;\"/></p><section data-style-id=\"25870\" data-support=\"96编辑器\"><section><section><section><section data-width=\"20%\"><section><section data-color=\"rgb(216, 40, 33)\" data-style-id=\"25073\" data-support=\"96编辑器\"><section style=\"margin-top: 10px;margin-bottom: 10px;margin-left: 5px;\"><section><section style=\"margin-left: 10px;border-style: solid;border-width: 1px;border-color: #000000;border-radius: 50%;padding: 3px 8px;display: inline-block;background-color: #fefefe;\"><p style=\"letter-spacing: 2px;\"><strong><span style=\"color: rgb(217, 33, 66);\">最</span></strong></p></section><section style=\"margin-left: -5px;border-style: solid;border-width: 1px;border-color: #000000;border-radius: 50%;padding: 3px 8px;display: inline-block;background-color: #fefefe;\"><p style=\"letter-spacing: 2px;\"><strong><span style=\"color: rgb(217, 33, 66);\">新</span></strong></p></section><section style=\"margin-left: -5px;border-style: solid;border-width: 1px;border-color: #000000;border-radius: 50%;padding: 3px 8px;display: inline-block;background-color: #fefefe;\"><p style=\"letter-spacing: 2px;\"><strong><span style=\"color: rgb(217, 33, 66);\">消</span></strong></p></section><section style=\"margin-left: -5px;border-style: solid;border-width: 1px;border-color: #000000;border-radius: 50%;padding: 3px 8px;display: inline-block;background-color: #fefefe;\"><p style=\"letter-spacing: 2px;\"><strong><span style=\"color: rgb(217, 33, 66);\">息</span></strong></p></section></section><section style=\"margin-top: -10px;border-style: solid;border-width: 1px;border-color: #000000;background-color: #d82821;border-radius: 8px;color: #ffffff;\"><section style=\"margin: -5px 5px 5px -5px;border-style: solid;border-width: 1px;border-color: #000000;background-color: #fefefe;padding: 18px 15px 15px;border-radius: 8px;\"><p><span style=\"color: rgb(0, 0, 0);font-size: 15px;\">2月14日上午，省卫健委公布2月13日0－24时肇庆市新增1例新冠肺炎确诊病例。截至2月13日24时，肇庆市累计报告新冠肺炎确诊病例17例。</span><span style=\"color: rgb(0, 0, 0);font-size: 15px;\">13日0-24时全市新增确诊病例1例，分布在封开县。</span></p><p><br/></p><p><span style=\"color: rgb(0, 0, 0);font-size: 15px;\">累计报告的17例确诊病例中，端州区5例，鼎湖区2例、高要区3例、四会市1例、广宁县1例、封开县5例。其</span><span style=\"color: rgb(0, 0, 0);font-size: 15px;\">中男性10例，女性7例，年龄介于3岁到65岁之间。</span><br/></p><p><span style=\"color: rgb(0, 0, 0);font-size: 15px;\"></span></p><p><span style=\"color: rgb(0, 0, 0);font-size: 15px;\"><br/></span></p><p><span style=\"color: rgb(0, 0, 0);font-size: 15px;\">截至2020年2月13日24时，在院的9例确诊病例中，普通型4例，轻型4例，重型1例。死亡1例。无医务人员感染。</span></p><p><span style=\"color: rgb(0, 0, 0);font-size: 15px;\"><br/></span></p><p><span style=\"color: rgb(0, 0, 0);font-size: 15px;\">在院的9例病例，有1例病例病情加重，其余确诊病例病情稳定。全市共追踪到507名密切接触者，正接受集中医学观察277人，累计230人解除医学观察。</span></p><p><span style=\"color: rgb(0, 0, 0);font-size: 15px;\"><br/></span></p><p><span style=\"color: rgb(0, 0, 0);font-size: 15px;\">17例确诊病例感染原因为湖北输入病例6例、旅游输入病例4例、由旅游输入引起的家庭病例3例、有武汉返肇人员接触史4例。目前，累计已有7例确诊病例治愈出院。 </span></p></section></section></section></section><p><br/></p><section data-color=\"rgb(216, 40, 33)\" data-style-id=\"24908\" data-support=\"96编辑器\"><section style=\"text-align: center;margin-top: 10px;margin-bottom: 10px;\"><section style=\"display:inline-block;\"><section style=\"border-style: solid;border-width: 1px;border-color: #d82821;display: inline-block;background-color: #d82821;padding-bottom: 5px;border-radius: 8px;color: #ffffff;\"><section style=\"background-color:#fefefe;padding:2px 15px;border-radius:8px;\"><p style=\"letter-spacing: 2px;\"><strong><span style=\"font-size: 15px;color: rgb(0, 0, 0);\">肇庆市新增一例确诊病例情况如下：</span></strong></p></section></section><section style=\"height: 0px;transform: rotateZ(0deg);margin-top: -2px;margin-left: 15px;border-left: 12px solid rgb(216, 40, 33);width: 0px;border-bottom: 12px solid transparent !important;\"><br/></section><section style=\"height: 0px;margin-top: -11px;margin-left: 14px;border-left: 13px solid rgb(216, 40, 33);width: 0px;border-bottom: 13px solid transparent !important;\"><br/></section></section></section></section><section data-style-id=\"23010\" data-support=\"96编辑器\"><section><section><section><section data-style-id=\"24493\" data-support=\"96编辑器\"><p style=\"font-size: 0px;color: rgba(255, 255, 255, 0);\">1</p><section><section><section><section><section data-style-id=\"24493\" data-support=\"96编辑器\"><p style=\"font-size: 0px;color: rgba(255, 255, 255, 0);\">1</p><section style=\"margin-top: 10px;margin-bottom: 10px;\"><section style=\"margin-top: 10px;margin-bottom: 10px;box-sizing: border-box;\"><section style=\"padding-right: 6px;padding-bottom: 8px;box-sizing: border-box;\"><section style=\"border-width: 1px;border-style: solid;border-color: #c0c8d1;box-sizing: border-box;\"><section data-width=\"100%\" style=\"height: 8px;width: 100%;border-left: 1px solid rgb(192, 200, 209);transform-origin: left top 0px;margin-bottom: 5px;border-top-color: rgb(192, 200, 209);border-right-color: rgb(192, 200, 209);border-bottom-color: rgb(192, 200, 209);box-sizing: border-box;transform: rotate(-45deg);\"><br/></section><section style=\"background-color: #feffff;margin: -8px -7px -8px 5px;border-width: 1px;border-style: solid;border-color: #c0c8d1;padding: 10px;box-sizing: border-box;\"><section style=\"box-sizing: border-box;\"><section style=\"text-align: center;box-sizing: border-box;\"><section data-width=\"100%\" style=\"white-space: normal;text-align: left;\"><strong><span style=\"font-size: 15px;background-color: rgb(255, 76, 0);color: rgb(255, 255, 255);\">病例17</span></strong><br/></section><section style=\"white-space: normal;\"><section><section><p style=\"text-align: left;\"><span style=\"font-size: 15px;\">何某（女、65岁、封开人），现住封开县江口镇河堤二路22号。</span><span style=\"font-size: 15px;\">近期无湖北省居住、旅游史，感染原因是与新型冠状病毒感染肺炎病例有接触。</span><span style=\"font-size: 15px;\">1月19日下午3：</span><span style=\"font-size: 15px;\">00与何某、吴某（病例16、15）等人一起在封开县曲艺社排练。</span><span style=\"font-size: 15px;\">1月23日到何某（病例16）家中（水上居民安置楼），1月24日、1月31日、2月7日分别送丈夫到封开县人民医院进行透析治疗， 2月7日上午9时到好又多超市买菜。</span><span style=\"font-size: 15px;\">其余时间在家照顾丈夫。</span><span style=\"font-size: 15px;\">2月9日采集咽拭子送市疾控中心核酸检测为阴性，2月12日采集咽拭子送市疾控中心检测。</span><span style=\"font-size: 15px;\">2月12日下午到封开县人民医院进行胸部CT筛查，结果显示双肺多发磨玻璃影，胸膜下明显，考虑是病毒性肺炎，13日核酸检测报告为阳性，送至肇庆市第一人民医院隔离治疗，病人病情稳定。</span><span style=\"font-size: 15px;\">目前已对密切接触者集中隔离医学观察。</span></p></section></section></section></section></section></section></section></section></section></section></section></section></section></section></section></section><section data-color=\"rgb(239, 112, 96)\" data-style-id=\"24651\" data-support=\"96编辑器\"><section><section><section><section data-color=\"rgb(239, 112, 96)\" data-style-id=\"24651\" data-support=\"96编辑器\"><section style=\"margin-top: 20px;margin-bottom: 20px;\"><section style=\"text-align: left;margin-bottom: -44px;\"><section style=\"display: inline-block;\"><section style=\"height: 0px;width: 0px;border-top: 6px solid transparent;border-right: 10px solid rgb(239, 112, 96);border-bottom: 0px solid transparent;z-index: 999;\"><br/></section><section style=\"margin-top:-1px;display: flex;justify-content:center;align-items: center;\"><section style=\"display: inline-block;background: rgb(239, 112, 96);color: rgb(255, 255, 255);padding: 4px 10px 4px 14px;\"><span style=\"font-size: 15px;\">新增确诊病例涉及的小区或场所</span></section><section style=\"height: 0px;width: 0px;border-top: 35px solid transparent;border-left: 10px solid rgb(239, 112, 96);border-bottom: 0px solid transparent;z-index: 999;\"><br/></section></section></section></section><section data-width=\"94%\" style=\"width: 94%;margin-right: auto;margin-left: auto;\"><section style=\"box-shadow: #d5d5d5 0px 0px 6px 0px;\"><section><section style=\"font-size: 14px;letter-spacing: 1.5px;line-height: 1.75em;padding: 3.5em 1em 1em;\"><p><span style=\"font-size: 15px;\">封开县江口镇河堤二路22号、江口镇蝴蝶塘路封开县曲艺社、好又多超市、水上居民安置楼</span></p></section></section></section></section></section></section><section><section><section><section style=\"text-align: center;\"><br/></section></section></section></section></section></section></section></section></section></section></section></section><section data-color=\"#1e9be8\" data-custom=\"#1e9be8\" data-id=\"87733\"><section><section><section data-color=\"rgb(216, 40, 33)\" data-style-id=\"24908\" data-support=\"96编辑器\"><section style=\"text-align: center;margin-top: 10px;margin-bottom: 10px;\"><section style=\"display:inline-block;\"><section style=\"border-style: solid;border-width: 1px;border-color: #d82821;display: inline-block;background-color: #d82821;padding-bottom: 5px;border-radius: 8px;color: #ffffff;\"><section style=\"background-color:#fefefe;padding:2px 15px;border-radius:8px;\"><p style=\"letter-spacing: 2px;\"><span style=\"font-size: 15px;\"><strong><span style=\"color: rgb(0, 0, 0);\">此前确诊病例情况如下:</span></strong></span></p></section></section><section style=\"height: 0px;transform: rotateZ(0deg);margin-top: -2px;margin-left: 15px;border-left: 12px solid rgb(216, 40, 33);width: 0px;border-bottom: 12px solid transparent !important;\"><br/></section><section style=\"height: 0px;margin-top: -11px;margin-left: 14px;border-left: 13px solid rgb(216, 40, 33);width: 0px;border-bottom: 13px solid transparent !important;\"><br/></section></section></section></section></section></section></section><section data-style-id=\"24493\" data-support=\"96编辑器\"><section data-style-id=\"17212\" data-support=\"96编辑器\"><section><section><section><section><section><section><section><section><section><section><section><section><section><section><section data-role=\"paragraph\"><section><section><section><section data-style-id=\"17212\" data-support=\"96编辑器\"><section style=\"margin-top: 10px;margin-bottom: 10px;box-sizing: border-box;\"><section style=\"padding: 3px;background-color: #efefef;box-sizing: border-box;\"><section style=\"-ms-word-wrap: break-word !important;max-width: 100%;box-sizing: border-box !important;\"><section style=\"-ms-word-wrap: break-word !important;max-width: 100%;box-sizing: border-box !important;\"><section style=\"-ms-word-wrap: break-word !important;max-width: 100%;box-sizing: border-box !important;padding:8px 8px;box-sizing:border-box;\"><section style=\"margin-right: auto;margin-left: auto;padding: 1em;max-width: 100%;box-sizing: border-box;height: 10em;line-height: 1.5em;overflow: auto;word-wrap: break-word !important;\"><section style=\"letter-spacing: 1.2px;line-height: 25px;\"><p><strong style=\"letter-spacing: 1.2px;\"><span style=\"font-size: 15px;background-color: rgb(255, 76, 0);color: rgb(255, 255, 255);\">病例16</span></strong><br/></p><p><span style=\"color: rgb(0, 0, 0);font-size: 15px;\">何某（女、62岁、封开人），常住封开县江口镇水上居民安置楼。</span><span style=\"color: rgb(0, 0, 0);font-size: 15px;\">近期无武汉居住旅游史，是新冠肺炎确诊病例吴某（病例15）的密切接触者。</span><span style=\"color: rgb(0, 0, 0);font-size: 15px;\">平时主要娱乐活动是到江口镇星辉曲艺社江口社区唱粤曲，2020年1月20日，与吴某（病例15）及其工友在宾悦酒店2楼聚餐及唱歌。</span><span style=\"color: rgb(0, 0, 0);font-size: 15px;\">22日由封开曲艺社组织前往平凤镇新围村参加敬老演出活动，演出活动后出现流涕、咳嗽、咳痰症状，无发热（未测体温），自行服用药物治疗，未到医院就诊。</span><span style=\"color: rgb(0, 0, 0);font-size: 15px;\">23日开始自己居家隔离，期间无外出，直至2月10日凌晨到封开县江口镇杏花宾馆集中隔离观察。</span><span style=\"color: rgb(0, 0, 0);font-size: 15px;\">2月10日上午患者咳嗽较前加重，出现发热，胸部CT检查结果显示双肺多发磨玻璃影，胸膜下明显，考虑是病毒性肺炎，当晚送肇庆市第一人民医院隔离治疗。</span><span style=\"color: rgb(0, 0, 0);font-size: 15px;\">2月11日患者新型冠状病毒核酸检测阳性。</span><span style=\"color: rgb(0, 0, 0);font-size: 15px;\">目前病人经治疗后，有发热、咳嗽、咳痰症状，病情稳定。</span></p><p><span style=\"color: rgb(0, 0, 0);font-size: 15px;\"> </span></p><p><strong><span style=\"font-size: 15px;background-color: rgb(255, 76, 0);color: rgb(255, 255, 255);\">病例15</span></strong></p><p><span style=\"color: rgb(0, 0, 0);font-size: 15px;\">吴某（男、56岁、封开人），常住封开县江口镇东方二路115号。</span><span style=\"color: rgb(0, 0, 0);font-size: 15px;\">1月19日下午病例与苏某（病例14）在江口镇曲艺社一起参加粤剧排练。</span><span style=\"color: rgb(0, 0, 0);font-size: 15px;\">晚上与朋友到苏某（病例14）的店铺喝茶。</span><span style=\"color: rgb(0, 0, 0);font-size: 15px;\">20日晚与工友在江口镇宾悦酒店二楼聚餐。</span><span style=\"color: rgb(0, 0, 0);font-size: 15px;\">21－23日期间在封开县江口镇东方二路115号家中休息，曾到井根农贸市场购物。</span><span style=\"color: rgb(0, 0, 0);font-size: 15px;\">24日、26日晚上到江口镇东堤路25号亲戚家中参加家庭聚餐。</span><span style=\"color: rgb(0, 0, 0);font-size: 15px;\">1月27、29日及2月1日到杏花宾馆宿舍其朋友家中聚餐、打麻将。</span><span style=\"color: rgb(0, 0, 0);font-size: 15px;\">28日晚上再次到苏某（病例14）店铺喝茶。</span><span style=\"color: rgb(0, 0, 0);font-size: 15px;\">无武汉居住旅游史。</span><span style=\"color: rgb(0, 0, 0);font-size: 15px;\">2月3日出现咽痒不适，偶发性咳嗽，伴有低热。</span><span style=\"color: rgb(0, 0, 0);font-size: 15px;\">2月6日胸部CT检查结果显示右肺上叶炎症。</span><span style=\"color: rgb(0, 0, 0);font-size: 15px;\">2月8日送肇庆市一医院隔离治疗，采集咽拭子进行新型冠状病毒核酸检测，肇庆市一医院和肇庆市疾控中心报告均为阴性。</span><span style=\"color: rgb(0, 0, 0);font-size: 15px;\">2月9日肇庆市一医院取下呼吸道分泌物检测新型冠状病毒核酸初筛阳性，送肇庆市疾控中心复核，结果阳性。</span><span style=\"color: rgb(0, 0, 0);font-size: 15px;\">目前病人经治疗后，偶有咳嗽、咳痰，无畏寒、发热，病情稳定。</span></p><p><span style=\"color: rgb(0, 0, 0);font-size: 15px;\"> </span></p><p><strong><span style=\"font-size: 15px;background-color: rgb(255, 76, 0);color: rgb(255, 255, 255);\">病例14</span></strong></p><p><span style=\"color: rgb(0, 0, 0);font-size: 15px;\">苏某（男、55岁、封开人），在封开县江口镇经营乐惠士多店，常在店内聚众打牌。</span><span style=\"color: rgb(0, 0, 0);font-size: 15px;\">平常活动点为乐惠士多店和曙光路31号家中，1月24日晚到封开县广信嘉园朋友家中聚餐，1月28日晚到封开县唐八叔清补羊火锅店聚餐。</span><span style=\"color: rgb(0, 0, 0);font-size: 15px;\">有武汉返粤人员接触史，无其它外出旅游史。</span><span style=\"color: rgb(0, 0, 0);font-size: 15px;\">2月2日出现发热、轻微气喘等症状， 2月5日采集患者咽拭子及血清标本检测，2月6日检测结果显示阳性，确诊为新冠肺炎病例。</span><span style=\"color: rgb(0, 0, 0);font-size: 15px;\">患者属重症病例，有多年糖尿病史，因病情恶化，经抢救无效，于2月6日18时15分死亡。</span></p><p><span style=\"color: rgb(0, 0, 0);font-size: 15px;\"> </span></p><p><strong><span style=\"font-size: 15px;background-color: rgb(255, 76, 0);color: rgb(255, 255, 255);\">病例13</span></strong></p><p><span style=\"color: rgb(0, 0, 0);font-size: 15px;\">莫某（男、24岁、封开人），长期在湖北省黄冈市做生意。</span><span style=\"color: rgb(0, 0, 0);font-size: 15px;\">1月22日，乘坐19时06分T95班次火车（04车厢）从武汉返回到广州。</span><span style=\"color: rgb(0, 0, 0);font-size: 15px;\">1月23日，在广州滘口汽车站乘坐8时30分班次客车返回到封开县杏花镇新和村家中。</span><span style=\"color: rgb(0, 0, 0);font-size: 15px;\">2月1日，进行咽拭子检测，2月4日，省疾控中心新型冠状病毒核酸检测复核结果阳性。</span><span style=\"color: rgb(0, 0, 0);font-size: 15px;\">2月4日，在肇庆市第一人民医院进行肺部CT检查，显示肺部炎症，2月5日上午出现发热等临床症状，确诊为新冠肺炎患者。</span><span style=\"color: rgb(0, 0, 0);font-size: 15px;\">目前，正在定点医院规范治疗，病人病情稳定，生命体征良好。</span></p><p><span style=\"color: rgb(0, 0, 0);font-size: 15px;\"> </span></p><p><strong><span style=\"font-size: 15px;background-color: rgb(255, 76, 0);color: rgb(255, 255, 255);\">病例12</span></strong></p><p><span style=\"color: rgb(0, 0, 0);font-size: 15px;\">病例7江某的大儿子梁某（男、10岁、端州人），1月19日与父母梁某、江某（病例7、病例8）一起到广州南沙乘坐邮轮到越南旅游，1月24日与父母从广州南沙码头下船，自驾车返回端州，2月1日江某确诊为新冠肺炎患者，2月5日江某的大儿子出现发热等临床症状，2月5日确诊为新冠肺炎患者。</span><span style=\"color: rgb(0, 0, 0);font-size: 15px;\">目前正在定点医院规范治疗，病人病情稳定，生命体征良好。</span></p><p><span style=\"color: rgb(0, 0, 0);font-size: 15px;\"> </span></p><p><strong><span style=\"font-size: 15px;background-color: rgb(255, 76, 0);color: rgb(255, 255, 255);\">病例11</span></strong></p><p><span style=\"color: rgb(0, 0, 0);font-size: 15px;\">病例7江某的小儿子梁某（男、3岁、端州人），2月1日江某确诊为新冠肺炎患者，江某的小儿子为确诊病例密切接触者，2月4日江某的小儿子出现发热等临床症状，2月4日确诊为新冠肺炎患者。</span><span style=\"color: rgb(0, 0, 0);font-size: 15px;\">目前正在定点医院规范治疗，病人病情稳定，生命体征良好。</span><span style=\"color: rgb(0, 0, 0);font-size: 15px;\">经治疗，2020年2月11日已出院。</span></p><p><span style=\"color: rgb(0, 0, 0);font-size: 15px;\"> </span></p><p><strong><span style=\"font-size: 15px;background-color: rgb(255, 76, 0);color: rgb(255, 255, 255);\">病例10</span></strong></p><p><span style=\"color: rgb(0, 0, 0);font-size: 15px;\">病例7江某的婆婆钟某（女、62岁、鼎湖人），2月1日江某确诊为新冠肺炎患者，钟某为确诊病例密切接触者，2月2日江某的婆婆进行肺部CT检查，显示肺部炎症。</span><span style=\"color: rgb(0, 0, 0);font-size: 15px;\">2月3日江某的婆婆确诊为新冠肺炎患者。</span><span style=\"color: rgb(0, 0, 0);font-size: 15px;\">目前正在定点医院规范治疗，病人病情稳定，生命体征良好。</span></p><p><span style=\"color: rgb(0, 0, 0);font-size: 15px;\"> </span></p><p><strong><span style=\"font-size: 15px;background-color: rgb(255, 76, 0);color: rgb(255, 255, 255);\">病例9</span></strong></p><p><span style=\"color: rgb(0, 0, 0);font-size: 15px;\">病例7江某的公公梁某（男、64岁、鼎湖人），2月1日江某确诊为新冠肺炎患者，梁某为确诊病例密切接触者，2月2日梁某进行肺部CT检查，显示肺部炎症。</span><span style=\"color: rgb(0, 0, 0);font-size: 15px;\">2月3日梁某确诊为新冠肺炎患者。</span><span style=\"color: rgb(0, 0, 0);font-size: 15px;\">目前病人属重症病例，正在定点医院规范治疗。</span></p><p><span style=\"color: rgb(0, 0, 0);font-size: 15px;\"> </span></p><p><strong><span style=\"font-size: 15px;background-color: rgb(255, 76, 0);color: rgb(255, 255, 255);\">病例8</span></strong></p><p><span style=\"color: rgb(0, 0, 0);font-size: 15px;\">病例7江某的丈夫梁某（男、35岁、端州人）。</span><span style=\"color: rgb(0, 0, 0);font-size: 15px;\">1月19日与妻子、大儿子一起，自驾车到广州南沙乘坐邮轮到越南旅游，1月24日与家人从广州南沙码头下船，自驾车返回端州，1月25日梁某出现发热症状，1月31日晚上到肇庆市第一人民医院发热门诊就医。</span><span style=\"color: rgb(0, 0, 0);font-size: 15px;\">2月3日梁某确诊为新冠肺炎患者。</span><span style=\"color: rgb(0, 0, 0);font-size: 15px;\">目前正在定点医院规范治疗，病人病情稳定，生命体征良好。</span></p><p><span style=\"color: rgb(0, 0, 0);font-size: 15px;\"> </span></p><p><strong><span style=\"font-size: 15px;background-color: rgb(255, 76, 0);color: rgb(255, 255, 255);\">病例7</span></strong></p><p><span style=\"color: rgb(0, 0, 0);font-size: 15px;\">江某（女、33岁、端州人），近半年在端州区居住工作，无明显疫情发生地接触史，1月19日与丈夫、大儿子一起，自驾车到广州南沙乘坐邮轮到越南旅游，1月24日与家人从广州南沙码头下船，自驾车返回端州，江某1月25日出现发热症状，1月29日到高要区人民医院就医，1月31日到肇庆市第一人民医院发热门诊就医。</span><span style=\"color: rgb(0, 0, 0);font-size: 15px;\">2月1日江某确诊为新冠肺炎患者。</span><span style=\"color: rgb(0, 0, 0);font-size: 15px;\">目前正在定点医院规范治疗，病人病情稳定，生命体征良好。</span><span style=\"color: rgb(0, 0, 0);font-size: 15px;\">经治疗，2020年2月11日已出院。</span></p><p><span style=\"color: rgb(0, 0, 0);font-size: 15px;\">病例7、病例8、病例9、病例10、病例11、病例12属于新冠肺炎家庭聚集性病例。</span></p><p><span style=\"color: rgb(0, 0, 0);font-size: 15px;\"><br/></span></p><p><strong><span style=\"font-size: 15px;background-color: rgb(255, 76, 0);color: rgb(255, 255, 255);\">病例6</span></strong></p><p><span style=\"color: rgb(0, 0, 0);font-size: 15px;\">谭某（男、26岁、武汉人），在武汉居住工作，1月22日自驾车离开武汉，1月23日到广宁旅游，1月23日到当地医院检查，结果显示未见异常，1月24日开始进行为期14天集中隔离的医学观察，1月28日出现头痛、腹泻症状，1月29日住院隔离治疗，1月30日确诊。</span><span style=\"color: rgb(0, 0, 0);font-size: 15px;\">目前，正在定点医院规范治疗，病人病情稳定，生命体征良好。</span></p><p><span style=\"color: rgb(0, 0, 0);font-size: 15px;\"> </span></p><p><strong><span style=\"font-size: 15px;background-color: rgb(255, 76, 0);color: rgb(255, 255, 255);\">病例5</span></strong></p><p><span style=\"color: rgb(0, 0, 0);font-size: 15px;\">郭某（女、27岁、高要人），近半年在武汉居住工作，1月22日自驾车离开武汉回肇，1月23日到肇后无不适症状并纳入医学观察，1月25日出现发热症状，1月26日住院隔离治疗，1月28日确诊。</span><span style=\"color: rgb(0, 0, 0);font-size: 15px;\">目前，正在定点医院规范治疗，病人病情稳定，生命体征良好。</span><span style=\"color: rgb(0, 0, 0);font-size: 15px;\">经治疗，2020年2月10日已出院。</span></p><p><span style=\"color: rgb(0, 0, 0);font-size: 15px;\"> </span></p><p><strong><span style=\"font-size: 15px;background-color: rgb(255, 76, 0);color: rgb(255, 255, 255);\">病例4</span></strong></p><p><span style=\"color: rgb(0, 0, 0);font-size: 15px;\">李某（女、43岁、高要人），近半年在高要居住工作，无明显疫情发生地接触史，1月9日参加自组团到泰国旅游，乘坐泰国亚航FD537航班从广州白云机场抵达廊曼机场，1月13日出现“感冒、乏力”症状，1月14日乘坐泰国亚航FD530航班抵达广州白云机场，1月17日入院就诊，1月25日确诊。</span><span style=\"color: rgb(0, 0, 0);font-size: 15px;\">目前，正在定点医院规范治疗，病人病情稳定，生命体征良好。</span><span style=\"color: rgb(0, 0, 0);font-size: 15px;\">经治疗，2020年2月11日已出院。</span></p><p><span style=\"color: rgb(0, 0, 0);font-size: 15px;\"> </span></p><p><strong><span style=\"font-size: 15px;background-color: rgb(255, 76, 0);color: rgb(255, 255, 255);\">病例3</span></strong></p><p><span style=\"color: rgb(0, 0, 0);font-size: 15px;\">廖某（男、26岁、高要人），近半年在武汉居住工作，1月19日从武汉乘坐飞机到广州白云机场，随后由同事接载回端州，1月21日出现发热症状并入院就诊，1月25日确诊。</span><span style=\"color: rgb(0, 0, 0);font-size: 15px;\">经治疗，2020年2月8日已出院。</span></p><p><span style=\"color: rgb(0, 0, 0);font-size: 15px;\"> </span></p><p><strong><span style=\"font-size: 15px;background-color: rgb(255, 76, 0);color: rgb(255, 255, 255);\">病例2</span></strong></p><p><span style=\"color: rgb(0, 0, 0);font-size: 15px;\">林某（男、37岁、端州人），近半年在武汉居住工作，1月22日乘坐武广高铁G95班次列车回到广州南，在广州南站客运站乘坐前往端州的大巴，再乘坐滴滴车回端州。</span><span style=\"color: rgb(0, 0, 0);font-size: 15px;\">在武汉归家途中开始发热，但自己除乏力外无感觉到其他不适，在进家门前妻子发现其体温异常，其妻子自驾车送患者到医院就诊，1月24日确诊。</span><span style=\"color: rgb(0, 0, 0);font-size: 15px;\">经治疗，2020年2月8日已出院。</span></p><p><span style=\"color: rgb(0, 0, 0);font-size: 15px;\"> </span></p><p><strong><span style=\"font-size: 15px;background-color: rgb(255, 76, 0);color: rgb(255, 255, 255);\">病例1</span></strong></p><p><span style=\"color: rgb(0, 0, 0);font-size: 15px;\">黎某（女、25岁、四会人），近半年在武汉居住工作。</span><span style=\"color: rgb(0, 0, 0);font-size: 15px;\">1月11日出现鼻塞、流涕、间歇性咳嗽等症状，1月13日和16日在武汉医院就诊，1月17日乘坐G1015次列车（座位号3车厢）回广州南站，在广州南站客运站乘坐前往四会的大巴，再乘坐滴滴车回四会，1月18日入院就诊，1月22日确诊。</span><span style=\"color: rgb(0, 0, 0);font-size: 15px;\">经治疗，2020年1月31日已出院。</span></p></section></section></section></section></section></section></section></section></section></section></section></section></section></section></section></section></section></section></section></section></section></section></section></section></section></section></section></section><p style=\"text-align: center;\"><br/></p><section data-color=\"rgb(216, 40, 33)\" data-style-id=\"24908\" data-support=\"96编辑器\"><section style=\"margin-top: 10px;margin-bottom: 10px;text-align: center;\"><section style=\"display: inline-block;\"><section style=\"padding-bottom: 5px;border-style: solid;border-width: 1px;border-color: rgb(216, 40, 33);display: inline-block;background-color: rgb(216, 40, 33);border-radius: 8px;color: rgb(255, 255, 255);\"><section style=\"padding: 2px 15px;background-color: rgb(254, 254, 254);border-radius: 8px;\"><p style=\"letter-spacing: 2px;\"><strong><span style=\"font-size: 15px;color: rgb(0, 0, 0);\">全市累计确诊病例涉及的小区或场所</span></strong></p></section></section><section style=\"margin-top: -2px;margin-left: 15px;height: 0px;transform: rotateZ(0deg);border-left: 12px solid rgb(216, 40, 33);width: 0px;border-bottom: 12px solid transparent !important;\"><br/></section><section style=\"margin-top: -11px;margin-left: 14px;height: 0px;border-left: 13px solid rgb(216, 40, 33);width: 0px;border-bottom: 13px solid transparent !important;\"><br/></section></section></section></section><section data-style-id=\"23010\" data-support=\"96编辑器\"><section><section><section><section data-style-id=\"24493\" data-support=\"96编辑器\"><p style=\"white-space: normal;font-size: 0px;color: rgba(255, 255, 255, 0);\">1</p></section></section></section></section></section><section data-style-id=\"17212\" data-support=\"96编辑器\"><section style=\"margin-top: 10px;margin-bottom: 10px;box-sizing: border-box;\"><section style=\"padding: 3px;background-color: #efefef;box-sizing: border-box;\"><section style=\"-ms-word-wrap: break-word !important;max-width: 100%;box-sizing: border-box !important;\"><section style=\"-ms-word-wrap: break-word !important;max-width: 100%;box-sizing: border-box !important;\"><section style=\"-ms-word-wrap: break-word !important;max-width: 100%;box-sizing: border-box !important;padding:8px 8px;box-sizing:border-box;\"><section style=\"margin-right: auto;margin-left: auto;padding: 1em;max-width: 100%;box-sizing: border-box;height: 10em;font-size: 1em;line-height: 1.5em;overflow: auto;word-wrap: break-word !important;\"><section style=\"letter-spacing: 1.2px;line-height: 25px;\"><p style=\"font-family: -apple-system-font, BlinkMacSystemFont, Arial, sans-serif;font-size: 15px;letter-spacing: 0.544px;white-space: normal;text-align: left;\"><strong><span style=\"color: rgb(0, 82, 255);\">端州区</span></strong>：睦岗街道锦绣山河小区、城东街道帝和豪庭小区</p><p style=\"font-family: -apple-system-font, BlinkMacSystemFont, Arial, sans-serif;font-size: 15px;letter-spacing: 0.544px;white-space: normal;text-align: left;\"><strong><span style=\"color: rgb(0, 82, 255);\">鼎湖区</span></strong>：坑口街道一米阳光小区</p><p style=\"font-family: -apple-system-font, BlinkMacSystemFont, Arial, sans-serif;font-size: 15px;letter-spacing: 0.544px;white-space: normal;text-align: left;\"><strong><span style=\"color: rgb(0, 82, 255);\">高要</span></strong><strong><span style=\"color: rgb(0, 82, 255);\">区</span></strong>：南岸街道珀丽湾小区、南岸街道帝景蓝湾小区、大湾镇禄岸村</p><p style=\"font-family: -apple-system-font, BlinkMacSystemFont, Arial, sans-serif;font-size: 15px;letter-spacing: 0.544px;white-space: normal;text-align: left;\"><strong><span style=\"color: rgb(0, 82, 255);\">四会市</span></strong>：东城街道九龙湾小区</p><p style=\"font-family: -apple-system-font, BlinkMacSystemFont, Arial, sans-serif;font-size: 15px;letter-spacing: 0.544px;white-space: normal;text-align: left;\"><strong><span style=\"color: rgb(0, 82, 255);\">广宁县</span></strong>：南街镇碧翠湖度假村</p><p><strong><span style=\"color: rgb(0, 82, 255);\">封开县</span></strong>：<span style=\"font-size: 15px;\">封开县杏花镇新和村、江口镇乐惠士多店、江口镇曙光路31号、封开县广信嘉园、封开县唐八叔清补羊火锅店、封开县江口镇东方二路115号、江口镇宾悦酒店、井根农贸市场、江口镇东堤路25号、杏花宾馆宿舍、封开县江口镇水上居民安置楼、江口镇星辉曲艺社江口社区、平凤镇新围村、<span style=\"letter-spacing: 1.5px;\">封开县江口镇河堤二路22号、江口镇蝴蝶塘路封开县曲艺社、</span>好又多超市。</span></p><p><br/></p><p><span style=\"font-size: 15px;\">肇庆市17例确诊病例涉及6个县（市、区）24个小区或场所，<span style=\"font-size: 15px;letter-spacing: 0.544px;\">发现确诊病例后，市、县两级疾控部门已立即对所涉及的小区或场所进行了严格的终末消毒，督促指导社区和物业做好日常预防性消毒工作。与病例有关的密切接触者已送指定场所进行集中隔离医学观察。希望大家做好个人防护。</span></span></p></section></section></section></section></section></section><section data-width=\"100%\" style=\"width: 100%;margin-top: -4px;box-sizing: border-box;\"><section style=\"width: 50px;height: 4px;background-color: rgb(235, 131, 92);\"><br/></section></section></section></section><section data-style-id=\"25820\" data-support=\"96编辑器\"><section><section><section><section data-width=\"100%\"><p style=\"text-align: center;\"><img _width=\"332px\" class=\"rich_pages js_insertlocalimg\" data-ratio=\"3.9234375\" data-s=\"300,640\" data-src=\"https://mmbiz.qpic.cn/mmbiz_jpg/z2KVp01hujGsD4EhpTriaich7ZGnswpdmde0trE8utSxxfdQ8m2VFYCQJYoyDOpNrP6I3VWB4m863SMjK24D7Q6Q/640?wx_fmt=jpeg\" data-type=\"jpeg\" data-w=\"640\" style=\"width: 332px;height: 1303px;\"/></p><section data-style-id=\"24493\" data-support=\"96编辑器\"><p style=\"font-size: 0px;color: rgba(255, 255, 255, 0);\">1</p></section></section></section></section></section></section></section></section></section></section></section></section><p><span style=\"font-size: 14px;\">相关链接：</span><br/></p><p><span style=\"font-size: 14px;\">☛</span><a data-itemshowtype=\"0\" data-linktype=\"2\" hasload=\"1\" href=\"http://mp.weixin.qq.com/s?__biz=MzA4ODUyODMwOA==&amp;mid=2650688316&amp;idx=2&amp;sn=5257fdd4c3688dc3b569b125471f6d09&amp;chksm=88222fe7bf55a6f132134092fd10cadc967c9b2b3929a5e5ed84cd71071c7d8f6dc60f4ddbd0&amp;scene=21#wechat_redirect\" style=\"text-decoration: underline;\" tab=\"innerlink\" target=\"_blank\"><span style=\"font-size: 14px;\">@肇庆市民，轻微发热不用跑医院！这里可免费咨询专家</span></a><span style=\"font-size: 14px;text-decoration: underline;\">；</span></p><p><span style=\"font-size: 14px;\">☛</span><a data-itemshowtype=\"0\" data-linktype=\"2\" hasload=\"1\" href=\"http://mp.weixin.qq.com/s?__biz=MzA4ODUyODMwOA==&amp;mid=2650688293&amp;idx=7&amp;sn=78128aafa4e0fa2a072274396859328b&amp;chksm=88222ffebf55a6e8f1bc40d8ff64eac71dfb44ee5e9140cd71c9ce8d3de2d4f2b97f8deee15a&amp;scene=21#wechat_redirect\" style=\"font-size: 14px;text-decoration: underline;\" tab=\"innerlink\" target=\"_blank\">一图读懂新型冠状病毒传播途径与预防指南！</a></p><p style=\"max-width: 100%;min-height: 1em;letter-spacing: 0.544px;white-space: normal;background-color: rgb(255, 255, 255);text-align: center;font-family: -apple-system-font, BlinkMacSystemFont, Arial, sans-serif;box-sizing: border-box !important;word-wrap: break-word !important;\"><br/></p><p style=\"max-width: 100%;min-height: 1em;letter-spacing: 0.544px;white-space: normal;background-color: rgb(255, 255, 255);text-align: center;font-family: -apple-system-font, BlinkMacSystemFont, Arial, sans-serif;box-sizing: border-box !important;word-wrap: break-word !important;\"><span style=\"max-width: 100%;font-size: 14px;color: rgb(136, 136, 136);box-sizing: border-box !important;word-wrap: break-word !important;\">编辑 健康肇庆编辑部</span></p><p style=\"max-width: 100%;min-height: 1em;letter-spacing: 0.544px;white-space: normal;background-color: rgb(255, 255, 255);font-family: -apple-system-font, BlinkMacSystemFont, Arial, sans-serif;box-sizing: border-box !important;word-wrap: break-word !important;\"><img _width=\"677px\" class=\"rich_pages\" data-backh=\"33\" data-backw=\"574\" data-ratio=\"0.05776173285198556\" data-s=\"300,640\" data-src=\"https://mmbiz.qpic.cn/mmbiz_jpg/z2KVp01hujHGFpsjEVkdOJcsOPjICpapia6VXwFVx9LeZnxkiaWW6RXSO2WzFU0LTcIRlMicRwFXjH5k6UEDbMtPA/640?wx_fmt=jpeg\" data-type=\"jpeg\" data-w=\"554\" data-width=\"100%\" style=\"letter-spacing: 0.54px;font-size: 14px;overflow-wrap: break-word;box-sizing: border-box !important;word-wrap: break-word !important;outline: 0px !important;visibility: visible !important;width: 677px !important;height: auto !important;\" width=\"554\"/></p><p style=\"max-width: 100%;min-height: 1em;letter-spacing: 0.544px;white-space: normal;background-color: rgb(255, 255, 255);font-size: 16px;font-family: -apple-system-font, BlinkMacSystemFont, Arial, sans-serif;box-sizing: border-box !important;word-wrap: break-word !important;\"><br/></p><section style=\"max-width: 100%;white-space: normal;background-color: rgb(255, 255, 255);text-align: center;font-size: 15px;letter-spacing: 0.54px;font-family: -apple-system-font, BlinkMacSystemFont, Arial, sans-serif;box-sizing: border-box !important;word-wrap: break-word !important;\"><section style=\"max-width: 100%;box-sizing: border-box;border-width: 0px;color: rgb(221, 214, 214);letter-spacing: 0.54px;font-size: 14px;overflow-wrap: break-word;font-family: 微软雅黑;word-wrap: break-word !important;\"><section style=\"padding: 10px;max-width: 100%;box-sizing: border-box;overflow-wrap: break-word;word-wrap: break-word !important;\"><section style=\"max-width: 100%;letter-spacing: 0.54px;overflow-wrap: break-word;box-sizing: border-box !important;word-wrap: break-word !important;\"><section style=\"max-width: 100%;overflow-wrap: break-word;box-sizing: border-box !important;word-wrap: break-word !important;\"><section style=\"max-width: 100%;overflow-wrap: break-word;box-sizing: border-box !important;word-wrap: break-word !important;\"><section style=\"max-width: 100%;overflow-wrap: break-word;box-sizing: border-box !important;word-wrap: break-word !important;\"><section style=\"max-width: 100%;box-sizing: border-box;border-width: 0px;letter-spacing: 0.54px;overflow-wrap: break-word;word-wrap: break-word !important;\"><section style=\"padding: 10px;max-width: 100%;box-sizing: border-box;overflow-wrap: break-word;word-wrap: break-word !important;\"><section style=\"max-width: 100%;letter-spacing: 0.54px;overflow-wrap: break-word;box-sizing: border-box !important;word-wrap: break-word !important;\"><section style=\"max-width: 100%;overflow-wrap: break-word;box-sizing: border-box !important;word-wrap: break-word !important;\"><section style=\"max-width: 100%;overflow-wrap: break-word;box-sizing: border-box !important;word-wrap: break-word !important;\"><section data-color=\"#053987\" data-style-type=\"5\" style=\"max-width: 100%;overflow-wrap: break-word;box-sizing: border-box !important;word-wrap: break-word !important;\"><section style=\"max-width: 100%;letter-spacing: 0.54px;overflow-wrap: break-word;font-family: mp-quote, -apple-system-font, BlinkMacSystemFont, Arial, sans-serif;box-sizing: border-box !important;word-wrap: break-word !important;outline: 0px !important;\"><section style=\"max-width: 100%;overflow-wrap: break-word;box-sizing: border-box !important;word-wrap: break-word !important;outline: 0px !important;\"><section style=\"max-width: 100%;overflow-wrap: break-word;box-sizing: border-box !important;word-wrap: break-word !important;outline: 0px !important;\"><section style=\"max-width: 100%;overflow-wrap: break-word;box-sizing: border-box !important;word-wrap: break-word !important;outline: 0px !important;\"><section data-color=\"#d82821\" data-custom=\"#d82821\" style=\"max-width: 100%;letter-spacing: 0.54px;widows: 1;overflow-wrap: break-word;font-family: -apple-system-font, BlinkMacSystemFont, Arial, sans-serif;box-sizing: border-box !important;word-wrap: break-word !important;outline: 0px !important;\"><section data-width=\"100%\" style=\"max-width: 100%;width: 637px;overflow-wrap: break-word;box-sizing: border-box !important;word-wrap: break-word !important;outline: 0px !important;\"><section style=\"max-width: 100%;letter-spacing: 0.54px;overflow-wrap: break-word;box-sizing: border-box !important;word-wrap: break-word !important;outline: 0px !important;\"><section style=\"max-width: 100%;box-sizing: border-box;border-width: 0px;line-height: 25.6px;letter-spacing: 0.54px;overflow-wrap: break-word;font-family: 微软雅黑;word-wrap: break-word !important;outline: 0px !important;\"><section style=\"max-width: 100%;box-sizing: border-box;border-width: 0px;line-height: 25.6px;letter-spacing: 0.54px;overflow-wrap: break-word;word-wrap: break-word !important;outline: 0px !important;\"><section style=\"max-width: 100%;box-sizing: border-box;border-width: 0px;letter-spacing: 0.54px;overflow-wrap: break-word;word-wrap: break-word !important;outline: 0px !important;\"><section style=\"max-width: 100%;overflow-wrap: break-word;box-sizing: border-box !important;word-wrap: break-word !important;outline: 0px !important;\"><section style=\"max-width: 100%;overflow-wrap: break-word;box-sizing: border-box !important;word-wrap: break-word !important;outline: 0px !important;\"><section style=\"max-width: 100%;overflow-wrap: break-word;box-sizing: border-box !important;word-wrap: break-word !important;outline: 0px !important;\"><section style=\"max-width: 100%;overflow-wrap: break-word;box-sizing: border-box !important;word-wrap: break-word !important;outline: 0px !important;\"><section style=\"max-width: 100%;overflow-wrap: break-word;box-sizing: border-box !important;word-wrap: break-word !important;outline: 0px !important;\"><section style=\"max-width: 100%;box-sizing: border-box;border-width: 0px;overflow-wrap: break-word;word-wrap: break-word !important;outline: 0px !important;\"><section style=\"max-width: 100%;overflow-wrap: break-word;box-sizing: border-box !important;word-wrap: break-word !important;outline: 0px !important;\"><section data-width=\"100%\" style=\"max-width: 100%;width: 637px;overflow-wrap: break-word;box-sizing: border-box !important;word-wrap: break-word !important;outline: 0px !important;\"><section style=\"max-width: 100%;overflow-wrap: break-word;box-sizing: border-box !important;word-wrap: break-word !important;outline: 0px !important;\"><section style=\"max-width: 100%;box-sizing: border-box;border-width: 0px;overflow-wrap: break-word;word-wrap: break-word !important;outline: 0px !important;\"><article style=\"max-width: 100%;line-height: 25.6px;overflow-wrap: break-word;box-sizing: border-box !important;word-wrap: break-word !important;outline: 0px !important;\"><section style=\"max-width: 100%;overflow-wrap: break-word;box-sizing: border-box !important;word-wrap: break-word !important;outline: 0px !important;\"><section style=\"max-width: 100%;overflow-wrap: break-word;box-sizing: border-box !important;word-wrap: break-word !important;outline: 0px !important;\"><section style=\"padding-right: 0.5em;padding-left: 0.5em;max-width: 100%;box-sizing: border-box;letter-spacing: 0.7px;font-size: 20px;overflow-wrap: break-word;word-wrap: break-word !important;outline: 0px !important;\"><section style=\"max-width: 100%;overflow-wrap: break-word;box-sizing: border-box !important;word-wrap: break-word !important;outline: 0px !important;\"><section style=\"max-width: 100%;overflow-wrap: break-word;box-sizing: border-box !important;word-wrap: break-word !important;outline: 0px !important;\"><section style=\"max-width: 100%;box-sizing: border-box;border-width: 0px;overflow-wrap: break-word;word-wrap: break-word !important;outline: 0px !important;\"><section style=\"max-width: 100%;overflow-wrap: break-word;box-sizing: border-box !important;word-wrap: break-word !important;outline: 0px !important;\"><section style=\"max-width: 100%;overflow-wrap: break-word;box-sizing: border-box !important;word-wrap: break-word !important;outline: 0px !important;\"><section style=\"max-width: 100%;overflow-wrap: break-word;box-sizing: border-box !important;word-wrap: break-word !important;outline: 0px !important;\"><section style=\"max-width: 100%;overflow-wrap: break-word;box-sizing: border-box !important;word-wrap: break-word !important;outline: 0px !important;\"><section data-style-type=\"1\" style=\"max-width: 100%;box-sizing: border-box;border-width: 0px;overflow-wrap: break-word;word-wrap: break-word !important;outline: 0px !important;\"><section style=\"max-width: 100%;overflow-wrap: break-word;box-sizing: border-box !important;word-wrap: break-word !important;outline: 0px !important;\"><section style=\"max-width: 100%;overflow-wrap: break-word;box-sizing: border-box !important;word-wrap: break-word !important;outline: 0px !important;\"><section style=\"max-width: 100%;overflow-wrap: break-word;box-sizing: border-box !important;word-wrap: break-word !important;outline: 0px !important;\"><section style=\"max-width: 100%;overflow-wrap: break-word;box-sizing: border-box !important;word-wrap: break-word !important;outline: 0px !important;\"><section style=\"max-width: 100%;overflow-wrap: break-word;box-sizing: border-box !important;word-wrap: break-word !important;outline: 0px !important;\"><section style=\"max-width: 100%;overflow-wrap: break-word;box-sizing: border-box !important;word-wrap: break-word !important;outline: 0px !important;\"><article style=\"max-width: 100%;overflow-wrap: break-word;box-sizing: border-box !important;word-wrap: break-word !important;outline: 0px !important;\"><section style=\"max-width: 100%;overflow-wrap: break-word;box-sizing: border-box !important;word-wrap: break-word !important;outline: 0px !important;\"><section style=\"max-width: 100%;text-align: justify;letter-spacing: 0.54px;font-size: 16px;overflow-wrap: break-word;box-sizing: border-box !important;word-wrap: break-word !important;outline: 0px !important;\"><section style=\"max-width: 100%;overflow-wrap: break-word;box-sizing: border-box !important;word-wrap: break-word !important;outline: 0px !important;\"><article style=\"max-width: 100%;overflow-wrap: break-word;box-sizing: border-box !important;word-wrap: break-word !important;outline: 0px !important;\"><section style=\"max-width: 100%;overflow-wrap: break-word;box-sizing: border-box !important;word-wrap: break-word !important;outline: 0px !important;\"><section style=\"max-width: 100%;overflow-wrap: break-word;box-sizing: border-box !important;word-wrap: break-word !important;outline: 0px !important;\"><section data-color=\"#b6e4fd\" data-custom=\"#b6e4fd\" style=\"max-width: 100%;box-sizing: border-box;border-width: 0px;letter-spacing: 0.47px;overflow-wrap: break-word;word-wrap: break-word !important;outline: 0px !important;\"><section style=\"margin-left: 10px;max-width: 100%;box-sizing: border-box;border-radius: 0px 5px 5px 0px;text-align: inherit;text-decoration: inherit;background-color: rgb(244, 244, 244);overflow-wrap: break-word;word-wrap: break-word !important;outline: 0px !important;\"><section style=\"margin-top: 10px;margin-right: 8px;margin-left: -8px;max-width: 100%;color: rgb(254, 254, 254);font-style: inherit;text-decoration: inherit;float: left;background-color: transparent;overflow-wrap: break-word;box-sizing: border-box !important;word-wrap: break-word !important;outline: 0px !important;\"><p style=\"max-width: 100%;min-height: 1em;letter-spacing: 0.5px;overflow-wrap: break-word;box-sizing: border-box !important;word-wrap: break-word !important;outline: 0px !important;\"><span style=\"padding: 0.3em 0.5em;max-width: 100%;border-radius: 0px 0.5em 0.5em 0px;color: rgb(5, 115, 175);font-size: 15px;display: inline-block;background-color: rgb(182, 228, 253);overflow-wrap: break-word;box-sizing: border-box !important;word-wrap: break-word !important;outline: 0px !important;\"><strong data-brushtype=\"text\" style=\"max-width: 100%;overflow-wrap: break-word;box-sizing: border-box !important;word-wrap: break-word !important;outline: 0px !important;\">热点回顾</strong> </span></p></section><section data-style=\"box-sizing: border-box;line-height: 25.6000003814697px; background-color: rgb(244, 244, 244);\" style=\"padding: 15px 20px;max-width: 100%;box-sizing: border-box;overflow-wrap: break-word;word-wrap: break-word !important;outline: 0px !important;\"><p style=\"max-width: 100%;min-height: 1em;overflow-wrap: break-word;box-sizing: border-box !important;word-wrap: break-word !important;outline: 0px !important;\"><a data-linktype=\"2\" href=\"http://mp.weixin.qq.com/s?__biz=MzA4ODUyODMwOA==&amp;mid=2650678628&amp;idx=1&amp;sn=417ad1c8575bd91fbcd33a70f35f11ca&amp;chksm=882241bfbf55c8a94f01838e298083b790b2ecff6d4aa17e000492299872186e442e15166266&amp;scene=21#wechat_redirect\" style=\"color: rgb(51, 51, 51);-webkit-tap-highlight-color: rgba(0, 0, 0, 0);cursor: pointer;text-align: inherit;letter-spacing: 0.47px;overflow-wrap: break-word;max-width: 100%;font-size: 14px;outline: 0px !important;box-sizing: border-box !important;word-wrap: break-word !important;\" target=\"_blank\"><span style=\"max-width: 100%;font-size: 14px;box-sizing: border-box !important;word-wrap: break-word !important;\">◢</span></a><span style=\"max-width: 100%;font-size: 14px;box-sizing: border-box !important;word-wrap: break-word !important;\"> <a data-itemshowtype=\"0\" data-linktype=\"2\" href=\"http://mp.weixin.qq.com/s?__biz=MzA4ODUyODMwOA==&amp;mid=2650688928&amp;idx=1&amp;sn=307323eacccdd5f432dab5ce58a87fdf&amp;chksm=8822297bbf55a06d2ecbf63a226ca09d3540e60219d5fe67eb728c573efe4a0b43b084941797&amp;scene=21#wechat_redirect\" tab=\"innerlink\" target=\"_blank\">今天，肇庆3例确诊患者治愈出院！包括一名3岁儿童</a></span><br style=\"max-width: 100%;box-sizing: border-box !important;word-wrap: break-word !important;\"/></p><p style=\"max-width: 100%;min-height: 1em;letter-spacing: 0.47px;overflow-wrap: break-word;box-sizing: border-box !important;word-wrap: break-word !important;outline: 0px !important;\"><a data-linktype=\"2\" href=\"http://mp.weixin.qq.com/s?__biz=MzA4ODUyODMwOA==&amp;mid=2650678628&amp;idx=1&amp;sn=417ad1c8575bd91fbcd33a70f35f11ca&amp;chksm=882241bfbf55c8a94f01838e298083b790b2ecff6d4aa17e000492299872186e442e15166266&amp;scene=21#wechat_redirect\" style=\"color: rgb(51, 51, 51);-webkit-tap-highlight-color: rgba(0, 0, 0, 0);cursor: pointer;text-align: inherit;letter-spacing: 0.47px;overflow-wrap: break-word;max-width: 100%;font-size: 14px;outline: 0px !important;box-sizing: border-box !important;word-wrap: break-word !important;\" target=\"_blank\"><span style=\"max-width: 100%;font-size: 14px;box-sizing: border-box !important;word-wrap: break-word !important;\">◢</span></a><span style=\"max-width: 100%;font-size: 14px;box-sizing: border-box !important;word-wrap: break-word !important;\"> <a data-itemshowtype=\"0\" data-linktype=\"2\" href=\"http://mp.weixin.qq.com/s?__biz=MzA4ODUyODMwOA==&amp;mid=2650688914&amp;idx=1&amp;sn=dae59d6ebab1029d3fbdd062edca6fb4&amp;chksm=88222949bf55a05f22196cad556dcd0dca57bc8cb9b5653f2c1f50508257ef754b072687452d&amp;scene=21#wechat_redirect\" tab=\"innerlink\" target=\"_blank\">今天，肇庆第二批驰援湖北医疗队出征！请平安归来</a></span><br style=\"max-width: 100%;box-sizing: border-box !important;word-wrap: break-word !important;\"/></p></section></section></section></section></section></article></section></section></section></article></section></section></section></section></section></section></section></section></section></section></section></section></section></section></section></section></section></article></section></section></section></section></section><section data-color=\"#59c3f9\" data-custom=\"#59c3f9\" style=\"max-width: 100%;box-sizing: border-box;border-width: 0px;overflow-wrap: break-word;word-wrap: break-word !important;outline: 0px !important;\"><section style=\"max-width: 100%;overflow-wrap: break-word;box-sizing: border-box !important;word-wrap: break-word !important;outline: 0px !important;\"><section style=\"max-width: 100%;overflow-wrap: break-word;box-sizing: border-box !important;word-wrap: break-word !important;outline: 0px !important;\"><section style=\"max-width: 100%;overflow-wrap: break-word;box-sizing: border-box !important;word-wrap: break-word !important;outline: 0px !important;\"><section data-style=\"font-size:14px;\" style=\"max-width: 100%;overflow-wrap: break-word;box-sizing: border-box !important;word-wrap: break-word !important;outline: 0px !important;\"><section style=\"max-width: 100%;line-height: normal;min-height: 1em;overflow-wrap: break-word;box-sizing: border-box !important;word-wrap: break-word !important;outline: 0px !important;\"><br style=\"max-width: 100%;overflow-wrap: break-word;box-sizing: border-box !important;word-wrap: break-word !important;\"/></section><p style=\"max-width: 100%;min-height: 1em;box-sizing: border-box !important;word-wrap: break-word !important;\"><img _width=\"637px\" class=\"rich_pages\" data-croporisrc=\"https://mmbiz.qpic.cn/mmbiz_jpg/e1gtbF9EWpia0jKibtCXQ474PcmtwumuNwDtFTbn2AEV6tyDp1Q7wlO1ntp4wkYnmNwcPpavs0YxO2JJf0FHUTww/?wx_fmt=jpeg\" data-cropx1=\"0\" data-cropx2=\"1280\" data-cropy1=\"0\" data-cropy2=\"3151.7872968980796\" data-ratio=\"2.4625\" data-s=\"300,640\" data-src=\"https://mmbiz.qpic.cn/mmbiz_jpg/z2KVp01hujFD7H9mTMbOLIFRa64qiaibKbWYXSslKrdzavXJtHfLIjIaKx5Mml4n9kohicJTUTgylSenVyLNTic2sw/640?wx_fmt=jpeg\" data-type=\"jpeg\" data-w=\"1280\" style=\"letter-spacing: 0.544px;color: rgb(62, 62, 62);font-family: -apple-system-font, BlinkMacSystemFont, Arial, sans-serif;box-sizing: border-box !important;word-wrap: break-word !important;overflow-wrap: break-word !important;visibility: visible !important;width: 637px !important;height: auto !important;\"/></p><p style=\"max-width: 100%;min-height: 1em;box-sizing: border-box !important;word-wrap: break-word !important;\"><img _width=\"637px\" class=\"rich_pages __bg_gif\" data-ratio=\"0.5\" data-s=\"300,640\" data-src=\"https://mmbiz.qpic.cn/mmbiz_gif/z2KVp01hujGz139R2uDgDB8ySjZicCzbq3ouGCuTicrRVwMkkOcFjUVAxCzaRBos5hdFjzibfLOMSnKCkRfAOoSrg/640?wx_fmt=gif\" data-type=\"gif\" data-w=\"600\" style=\"box-sizing: border-box !important;word-wrap: break-word !important;visibility: visible !important;width: 637px !important;height: auto !important;\"/></p></section></section></section></section></section></section></section></section></section></section></section></section></section></section></section></section></section></section></section></section></section><section data-color=\"#053987\" data-style-type=\"5\" style=\"max-width: 100%;text-align: right;letter-spacing: 0.54px;overflow-wrap: break-word;font-family: -apple-system-font, BlinkMacSystemFont, Arial, sans-serif;box-sizing: border-box !important;word-wrap: break-word !important;\"><strong style=\"max-width: 100%;letter-spacing: 0.54px;font-size: 18px;overflow-wrap: break-word;box-sizing: border-box !important;word-wrap: break-word !important;\"><span style=\"max-width: 100%;color: rgb(217, 33, 66);overflow-wrap: break-word;box-sizing: border-box !important;word-wrap: break-word !important;\">点个“在看”让更多人知</span></strong><strong style=\"max-width: 100%;letter-spacing: 0.54px;font-size: 18px;overflow-wrap: break-word;box-sizing: border-box !important;word-wrap: break-word !important;\"><span style=\"max-width: 100%;color: rgb(217, 33, 66);overflow-wrap: break-word;box-sizing: border-box !important;word-wrap: break-word !important;\">道！<strong style=\"max-width: 100%;color: rgb(221, 214, 214);letter-spacing: 0.544px;box-sizing: border-box !important;word-wrap: break-word !important;\"><span style=\"max-width: 100%;color: rgb(217, 33, 66);box-sizing: border-box !important;word-wrap: break-word !important;\"><img _width=\"30px\" class=\"__bg_gif\" data-copyright=\"0\" data-ratio=\"0.6197183098591549\" data-src=\"https://mmbiz.qpic.cn/mmbiz_gif/N9vLx3iaECqMRzOficLJVia0W5xwyksDkuYvySU9wV70PavtAKrAKzZW2CnSCpVNcqACAqTPZApLhpw2XbSCY3QYg/640?wx_fmt=gif\" data-type=\"gif\" data-w=\"71\" style=\"letter-spacing: 0.544px;line-height: 31.5px;color: rgb(62, 62, 62);overflow-wrap: break-word;white-space: pre-wrap;min-height: 0px;background-clip: border-box;background-size: auto;border-width: 0px;border-style: none;border-color: rgb(62, 62, 62);bottom: auto;display: inline;left: auto;max-height: none;min-width: 0px;text-align: center;top: auto;z-index: auto;clear: none;font-family: 微软雅黑;background-position: 0% 0%;background-repeat: repeat;box-sizing: border-box !important;word-wrap: break-word !important;visibility: visible !important;width: 30px !important;height: auto !important;\" width=\"30px\"/></span></strong></span></strong></section></section></section></section></section></section></section></section></section></section></section></section></section>\n",
       "</div>"
      ]
     },
     "execution_count": 39,
     "metadata": {},
     "output_type": "execute_result"
    }
   ],
   "source": [
    "slec[0]"
   ]
  },
  {
   "cell_type": "code",
   "execution_count": 43,
   "metadata": {},
   "outputs": [],
   "source": [
    "img = slec[0].find_all('img')"
   ]
  },
  {
   "cell_type": "code",
   "execution_count": 45,
   "metadata": {},
   "outputs": [
    {
     "data": {
      "text/plain": [
       "7"
      ]
     },
     "execution_count": 45,
     "metadata": {},
     "output_type": "execute_result"
    }
   ],
   "source": [
    "len(img)"
   ]
  },
  {
   "cell_type": "code",
   "execution_count": 61,
   "metadata": {},
   "outputs": [
    {
     "data": {
      "text/plain": [
       "'jpeg'"
      ]
     },
     "execution_count": 61,
     "metadata": {},
     "output_type": "execute_result"
    }
   ],
   "source": [
    "img[2]['data-type']"
   ]
  },
  {
   "cell_type": "code",
   "execution_count": 50,
   "metadata": {},
   "outputs": [],
   "source": [
    "resource_name = soup.select('#js_name')"
   ]
  },
  {
   "cell_type": "code",
   "execution_count": 53,
   "metadata": {},
   "outputs": [],
   "source": [
    "resource_name = resource_name[0].get_text()"
   ]
  },
  {
   "cell_type": "code",
   "execution_count": 54,
   "metadata": {},
   "outputs": [],
   "source": [
    "resource_name = re.sub(r'[^\\u4e00-\\u9fa5]','',resource_name)"
   ]
  },
  {
   "cell_type": "code",
   "execution_count": 55,
   "metadata": {},
   "outputs": [
    {
     "data": {
      "text/plain": [
       "'健康肇庆'"
      ]
     },
     "execution_count": 55,
     "metadata": {},
     "output_type": "execute_result"
    }
   ],
   "source": [
    "resource_name"
   ]
  },
  {
   "cell_type": "code",
   "execution_count": 62,
   "metadata": {},
   "outputs": [],
   "source": [
    "url = good_url['url'][0]\n",
    "site = re.search(r'(https*://)(.+?)(/)',url).group(2)\n",
    "# 用引擎\n",
    "driver.get(url)\n",
    "# sleep(0.2)\n",
    "# try:\n",
    "html =  driver.page_source\n",
    "# except Expection as e:\n",
    "#     return '',''\n",
    "# soup = etree.HTML(html)\n",
    "# name = soup.xpath('//*[@id=\"js_name\"]')\n",
    "# content = soup.xpath('//*[@id=\"js_content\"]')\n",
    "soup = BeautifulSoup(html, 'html.parser')\n",
    "sn,sc = ['#js_name','#js_content']\n",
    "resource_name = soup.select(sn)\n",
    "content = soup.select(sc)[0].get_text()\n",
    "resource_name = resource_name[0].get_text()\n",
    "resource_name = re.sub(r'[^\\u4e00-\\u9fa5]','',resource_name)\n",
    "\n",
    "img_list = []\n",
    "imgs = soup.select(sc)[0].find_all('img')\n",
    "if len(img)>=1:\n",
    "    for img in imgs:\n",
    "        if img['data-type']!='gif':\n",
    "            img_list.append(img['data-src']) \n",
    "        "
   ]
  },
  {
   "cell_type": "code",
   "execution_count": 63,
   "metadata": {},
   "outputs": [
    {
     "data": {
      "text/plain": [
       "'健康肇庆'"
      ]
     },
     "execution_count": 63,
     "metadata": {},
     "output_type": "execute_result"
    }
   ],
   "source": [
    "resource_name"
   ]
  },
  {
   "cell_type": "code",
   "execution_count": 64,
   "metadata": {},
   "outputs": [
    {
     "data": {
      "text/plain": [
       "'\\n最新消息2月14日上午，省卫健委公布2月13日0－24时肇庆市新增1例新冠肺炎确诊病例。截至2月13日24时，肇庆市累计报告新冠肺炎确诊病例17例。13日0-24时全市新增确诊病例1例，分布在封开县。累计报告的17例确诊病例中，端州区5例，鼎湖区2例、高要区3例、四会市1例、广宁县1例、封开县5例。其中男性10例，女性7例，年龄介于3岁到65岁之间。截至2020年2月13日24时，在院的9例确诊病例中，普通型4例，轻型4例，重型1例。死亡1例。无医务人员感染。在院的9例病例，有1例病例病情加重，其余确诊病例病情稳定。全市共追踪到507名密切接触者，正接受集中医学观察277人，累计230人解除医学观察。17例确诊病例感染原因为湖北输入病例6例、旅游输入病例4例、由旅游输入引起的家庭病例3例、有武汉返肇人员接触史4例。目前，累计已有7例确诊病例治愈出院。\\xa0肇庆市新增一例确诊病例情况如下：11病例17何某（女、65岁、封开人），现住封开县江口镇河堤二路22号。近期无湖北省居住、旅游史，感染原因是与新型冠状病毒感染肺炎病例有接触。1月19日下午3：00与何某、吴某（病例16、15）等人一起在封开县曲艺社排练。1月23日到何某（病例16）家中（水上居民安置楼），1月24日、1月31日、2月7日分别送丈夫到封开县人民医院进行透析治疗， 2月7日上午9时到好又多超市买菜。其余时间在家照顾丈夫。2月9日采集咽拭子送市疾控中心核酸检测为阴性，2月12日采集咽拭子送市疾控中心检测。2月12日下午到封开县人民医院进行胸部CT筛查，结果显示双肺多发磨玻璃影，胸膜下明显，考虑是病毒性肺炎，13日核酸检测报告为阳性，送至肇庆市第一人民医院隔离治疗，病人病情稳定。目前已对密切接触者集中隔离医学观察。新增确诊病例涉及的小区或场所封开县江口镇河堤二路22号、江口镇蝴蝶塘路封开县曲艺社、好又多超市、水上居民安置楼此前确诊病例情况如下:病例16何某（女、62岁、封开人），常住封开县江口镇水上居民安置楼。近期无武汉居住旅游史，是新冠肺炎确诊病例吴某（病例15）的密切接触者。平时主要娱乐活动是到江口镇星辉曲艺社江口社区唱粤曲，2020年1月20日，与吴某（病例15）及其工友在宾悦酒店2楼聚餐及唱歌。22日由封开曲艺社组织前往平凤镇新围村参加敬老演出活动，演出活动后出现流涕、咳嗽、咳痰症状，无发热（未测体温），自行服用药物治疗，未到医院就诊。23日开始自己居家隔离，期间无外出，直至2月10日凌晨到封开县江口镇杏花宾馆集中隔离观察。2月10日上午患者咳嗽较前加重，出现发热，胸部CT检查结果显示双肺多发磨玻璃影，胸膜下明显，考虑是病毒性肺炎，当晚送肇庆市第一人民医院隔离治疗。2月11日患者新型冠状病毒核酸检测阳性。目前病人经治疗后，有发热、咳嗽、咳痰症状，病情稳定。\\xa0病例15吴某（男、56岁、封开人），常住封开县江口镇东方二路115号。1月19日下午病例与苏某（病例14）在江口镇曲艺社一起参加粤剧排练。晚上与朋友到苏某（病例14）的店铺喝茶。20日晚与工友在江口镇宾悦酒店二楼聚餐。21－23日期间在封开县江口镇东方二路115号家中休息，曾到井根农贸市场购物。24日、26日晚上到江口镇东堤路25号亲戚家中参加家庭聚餐。1月27、29日及2月1日到杏花宾馆宿舍其朋友家中聚餐、打麻将。28日晚上再次到苏某（病例14）店铺喝茶。无武汉居住旅游史。2月3日出现咽痒不适，偶发性咳嗽，伴有低热。2月6日胸部CT检查结果显示右肺上叶炎症。2月8日送肇庆市一医院隔离治疗，采集咽拭子进行新型冠状病毒核酸检测，肇庆市一医院和肇庆市疾控中心报告均为阴性。2月9日肇庆市一医院取下呼吸道分泌物检测新型冠状病毒核酸初筛阳性，送肇庆市疾控中心复核，结果阳性。目前病人经治疗后，偶有咳嗽、咳痰，无畏寒、发热，病情稳定。\\xa0病例14苏某（男、55岁、封开人），在封开县江口镇经营乐惠士多店，常在店内聚众打牌。平常活动点为乐惠士多店和曙光路31号家中，1月24日晚到封开县广信嘉园朋友家中聚餐，1月28日晚到封开县唐八叔清补羊火锅店聚餐。有武汉返粤人员接触史，无其它外出旅游史。2月2日出现发热、轻微气喘等症状， 2月5日采集患者咽拭子及血清标本检测，2月6日检测结果显示阳性，确诊为新冠肺炎病例。患者属重症病例，有多年糖尿病史，因病情恶化，经抢救无效，于2月6日18时15分死亡。\\xa0病例13莫某（男、24岁、封开人），长期在湖北省黄冈市做生意。1月22日，乘坐19时06分T95班次火车（04车厢）从武汉返回到广州。1月23日，在广州滘口汽车站乘坐8时30分班次客车返回到封开县杏花镇新和村家中。2月1日，进行咽拭子检测，2月4日，省疾控中心新型冠状病毒核酸检测复核结果阳性。2月4日，在肇庆市第一人民医院进行肺部CT检查，显示肺部炎症，2月5日上午出现发热等临床症状，确诊为新冠肺炎患者。目前，正在定点医院规范治疗，病人病情稳定，生命体征良好。\\xa0病例12病例7江某的大儿子梁某（男、10岁、端州人），1月19日与父母梁某、江某（病例7、病例8）一起到广州南沙乘坐邮轮到越南旅游，1月24日与父母从广州南沙码头下船，自驾车返回端州，2月1日江某确诊为新冠肺炎患者，2月5日江某的大儿子出现发热等临床症状，2月5日确诊为新冠肺炎患者。目前正在定点医院规范治疗，病人病情稳定，生命体征良好。\\xa0病例11病例7江某的小儿子梁某（男、3岁、端州人），2月1日江某确诊为新冠肺炎患者，江某的小儿子为确诊病例密切接触者，2月4日江某的小儿子出现发热等临床症状，2月4日确诊为新冠肺炎患者。目前正在定点医院规范治疗，病人病情稳定，生命体征良好。经治疗，2020年2月11日已出院。\\xa0病例10病例7江某的婆婆钟某（女、62岁、鼎湖人），2月1日江某确诊为新冠肺炎患者，钟某为确诊病例密切接触者，2月2日江某的婆婆进行肺部CT检查，显示肺部炎症。2月3日江某的婆婆确诊为新冠肺炎患者。目前正在定点医院规范治疗，病人病情稳定，生命体征良好。\\xa0病例9病例7江某的公公梁某（男、64岁、鼎湖人），2月1日江某确诊为新冠肺炎患者，梁某为确诊病例密切接触者，2月2日梁某进行肺部CT检查，显示肺部炎症。2月3日梁某确诊为新冠肺炎患者。目前病人属重症病例，正在定点医院规范治疗。\\xa0病例8病例7江某的丈夫梁某（男、35岁、端州人）。1月19日与妻子、大儿子一起，自驾车到广州南沙乘坐邮轮到越南旅游，1月24日与家人从广州南沙码头下船，自驾车返回端州，1月25日梁某出现发热症状，1月31日晚上到肇庆市第一人民医院发热门诊就医。2月3日梁某确诊为新冠肺炎患者。目前正在定点医院规范治疗，病人病情稳定，生命体征良好。\\xa0病例7江某（女、33岁、端州人），近半年在端州区居住工作，无明显疫情发生地接触史，1月19日与丈夫、大儿子一起，自驾车到广州南沙乘坐邮轮到越南旅游，1月24日与家人从广州南沙码头下船，自驾车返回端州，江某1月25日出现发热症状，1月29日到高要区人民医院就医，1月31日到肇庆市第一人民医院发热门诊就医。2月1日江某确诊为新冠肺炎患者。目前正在定点医院规范治疗，病人病情稳定，生命体征良好。经治疗，2020年2月11日已出院。病例7、病例8、病例9、病例10、病例11、病例12属于新冠肺炎家庭聚集性病例。病例6谭某（男、26岁、武汉人），在武汉居住工作，1月22日自驾车离开武汉，1月23日到广宁旅游，1月23日到当地医院检查，结果显示未见异常，1月24日开始进行为期14天集中隔离的医学观察，1月28日出现头痛、腹泻症状，1月29日住院隔离治疗，1月30日确诊。目前，正在定点医院规范治疗，病人病情稳定，生命体征良好。\\xa0病例5郭某（女、27岁、高要人），近半年在武汉居住工作，1月22日自驾车离开武汉回肇，1月23日到肇后无不适症状并纳入医学观察，1月25日出现发热症状，1月26日住院隔离治疗，1月28日确诊。目前，正在定点医院规范治疗，病人病情稳定，生命体征良好。经治疗，2020年2月10日已出院。\\xa0病例4李某（女、43岁、高要人），近半年在高要居住工作，无明显疫情发生地接触史，1月9日参加自组团到泰国旅游，乘坐泰国亚航FD537航班从广州白云机场抵达廊曼机场，1月13日出现“感冒、乏力”症状，1月14日乘坐泰国亚航FD530航班抵达广州白云机场，1月17日入院就诊，1月25日确诊。目前，正在定点医院规范治疗，病人病情稳定，生命体征良好。经治疗，2020年2月11日已出院。\\xa0病例3廖某（男、26岁、高要人），近半年在武汉居住工作，1月19日从武汉乘坐飞机到广州白云机场，随后由同事接载回端州，1月21日出现发热症状并入院就诊，1月25日确诊。经治疗，2020年2月8日已出院。\\xa0病例2林某（男、37岁、端州人），近半年在武汉居住工作，1月22日乘坐武广高铁G95班次列车回到广州南，在广州南站客运站乘坐前往端州的大巴，再乘坐滴滴车回端州。在武汉归家途中开始发热，但自己除乏力外无感觉到其他不适，在进家门前妻子发现其体温异常，其妻子自驾车送患者到医院就诊，1月24日确诊。经治疗，2020年2月8日已出院。\\xa0病例1黎某（女、25岁、四会人），近半年在武汉居住工作。1月11日出现鼻塞、流涕、间歇性咳嗽等症状，1月13日和16日在武汉医院就诊，1月17日乘坐G1015次列车（座位号3车厢）回广州南站，在广州南站客运站乘坐前往四会的大巴，再乘坐滴滴车回四会，1月18日入院就诊，1月22日确诊。经治疗，2020年1月31日已出院。全市累计确诊病例涉及的小区或场所1端州区：睦岗街道锦绣山河小区、城东街道帝和豪庭小区鼎湖区：坑口街道一米阳光小区高要区：南岸街道珀丽湾小区、南岸街道帝景蓝湾小区、大湾镇禄岸村四会市：东城街道九龙湾小区广宁县：南街镇碧翠湖度假村封开县：封开县杏花镇新和村、江口镇乐惠士多店、江口镇曙光路31号、封开县广信嘉园、封开县唐八叔清补羊火锅店、封开县江口镇东方二路115号、江口镇宾悦酒店、井根农贸市场、江口镇东堤路25号、杏花宾馆宿舍、封开县江口镇水上居民安置楼、江口镇星辉曲艺社江口社区、平凤镇新围村、封开县江口镇河堤二路22号、江口镇蝴蝶塘路封开县曲艺社、好又多超市。肇庆市17例确诊病例涉及6个县（市、区）24个小区或场所，发现确诊病例后，市、县两级疾控部门已立即对所涉及的小区或场所进行了严格的终末消毒，督促指导社区和物业做好日常预防性消毒工作。与病例有关的密切接触者已送指定场所进行集中隔离医学观察。希望大家做好个人防护。1相关链接：☛@肇庆市民，轻微发热不用跑医院！这里可免费咨询专家；☛一图读懂新型冠状病毒传播途径与预防指南！编辑 健康肇庆编辑部热点回顾\\xa0◢\\xa0今天，肇庆3例确诊患者治愈出院！包括一名3岁儿童◢\\xa0今天，肇庆第二批驰援湖北医疗队出征！请平安归来点个“在看”让更多人知道！\\n'"
      ]
     },
     "execution_count": 64,
     "metadata": {},
     "output_type": "execute_result"
    }
   ],
   "source": [
    "content"
   ]
  },
  {
   "cell_type": "code",
   "execution_count": 65,
   "metadata": {},
   "outputs": [
    {
     "data": {
      "text/plain": [
       "['https://mmbiz.qpic.cn/mmbiz_jpg/z2KVp01hujFYO4sn1fXHCFHZ5FRxN1Tx252twLrEZRQAyJrlic18b4Cy8b1sIkeKQgJw3BgrqCNpRT8rwpI78sQ/640?wx_fmt=jpeg',\n",
       " 'https://mmbiz.qpic.cn/mmbiz_jpg/z2KVp01hujGsD4EhpTriaich7ZGnswpdmde0trE8utSxxfdQ8m2VFYCQJYoyDOpNrP6I3VWB4m863SMjK24D7Q6Q/640?wx_fmt=jpeg',\n",
       " 'https://mmbiz.qpic.cn/mmbiz_jpg/z2KVp01hujHGFpsjEVkdOJcsOPjICpapia6VXwFVx9LeZnxkiaWW6RXSO2WzFU0LTcIRlMicRwFXjH5k6UEDbMtPA/640?wx_fmt=jpeg',\n",
       " 'https://mmbiz.qpic.cn/mmbiz_jpg/z2KVp01hujFD7H9mTMbOLIFRa64qiaibKbWYXSslKrdzavXJtHfLIjIaKx5Mml4n9kohicJTUTgylSenVyLNTic2sw/640?wx_fmt=jpeg']"
      ]
     },
     "execution_count": 65,
     "metadata": {},
     "output_type": "execute_result"
    }
   ],
   "source": [
    "img_list"
   ]
  },
  {
   "cell_type": "code",
   "execution_count": 87,
   "metadata": {},
   "outputs": [],
   "source": [
    "url = 'https://mp.weixin.qq.com/s/0xihh12dgBBxbfozR6fnNg'\n",
    "site = re.search(r'(https*://)(.+?)(/)',url).group(2)\n",
    "# 用引擎\n",
    "driver.get(url)\n",
    "# sleep(0.2)\n",
    "# try:\n",
    "html =  driver.page_source\n",
    "# except Expection as e:\n",
    "#     return '',''\n",
    "# soup = etree.HTML(html)\n",
    "# name = soup.xpath('//*[@id=\"js_name\"]')\n",
    "# content = soup.xpath('//*[@id=\"js_content\"]')\n",
    "soup = BeautifulSoup(html, 'html.parser')\n",
    "sn,sc = ['#js_name','#js_content']\n",
    "resource_name = soup.select(sn)\n",
    "content_selector = soup.select(sc)[0]\n",
    "content = content_selector.get_text()\n",
    "resource_name = resource_name[0].get_text()\n",
    "resource_name = re.sub(r'[^\\u4e00-\\u9fa5]','',resource_name)\n",
    "\n",
    "# img_list = []\n",
    "# imgs = soup.select(sc)[0].find_all('img')\n",
    "# if len(img)>=1:\n",
    "#     for img in imgs:\n",
    "#         if img['data-type']!='gif':\n",
    "# #             print('add.')\n",
    "#             img_list.append(img['data-src']) \n",
    "    \n",
    "    \n",
    "imglist = []\n",
    "imgs = content_selector.find_all('img')\n",
    "for img in imgs:\n",
    "    if img['data-type'] !='gif':\n",
    "        imglist.append(img['data-src'])\n",
    "        "
   ]
  },
  {
   "cell_type": "code",
   "execution_count": 88,
   "metadata": {},
   "outputs": [
    {
     "data": {
      "text/plain": [
       "'中山发布'"
      ]
     },
     "execution_count": 88,
     "metadata": {},
     "output_type": "execute_result"
    }
   ],
   "source": [
    "resource_name"
   ]
  },
  {
   "cell_type": "code",
   "execution_count": 89,
   "metadata": {},
   "outputs": [
    {
     "data": {
      "text/plain": [
       "'\\n今天上午，中山市人民政府新闻办公室组织召开市疫情防控工作第23场新闻发布会。市卫生健康局应急指挥领导小组副组长陈光卫介绍我市新增确诊病例相关情况和患者收治最新情况。截至2月16日24时，我市共有累计确诊病例66例，新增1例。累计治愈出院病例39例，新增治愈出院5例。目前留院治疗的27例确诊病例，全部在我市定点医院市第二人民医院集中隔离治疗，其中，危重型1例，重症1例，轻型1例，其余为普通型。所有留院治疗病例情况稳定，无死亡病例，无医护人员受感染。新增的病例情况如下：病例66梁某，女，27岁，现住中山市三角镇沙栏西路，在江苏常州工作。有疫情流行重点地区暴露史，一直没有症状。通过对疫情流行地区来粤人员排查发现，2月15日咽拭子标本检测结果为新型冠状病毒阳性，立即转入市第二人民医院隔离。病例到中山以来未出现发热、咳嗽、咽痛、乏力等新冠肺炎典型症状，入院后经临床检查发现肺部感染，目前确诊隔离治疗。//此前确诊病例情况如下//__向上滑动阅览病例1，邓某，男，36岁，住火炬开发区，1月16日至17日赴武汉市出差，1月20日上午发病，1月20日下午就诊被发现。病例2，王某，男，34岁，住火炬开发区，1月17日到武汉公干，1月21日回到中山，1月22日发病。病例3，温某，男性，36岁， 1月10—12日到武汉市出差，17日发病，21日来中山，住石岐区，23日收入定点医疗机构隔离治疗。病例4，梁某，女性，39岁，长住黄圃镇， 1月16—21日到武汉市探亲，23日发病，当日即被收入定点医疗机构隔离治疗。病例5，温某，女，年龄11个月，常住地石岐区，患者父亲是病例3。病例6，张某，男，55岁 ，住石岐区，曾到过武汉，1月20日发病，1月24日入院隔离治疗。病例7，欧阳某，女，37岁，住三乡镇，1月20日，从武汉来中山探亲，1月25日下午就诊被发现。病例8，赵某，男，55岁\\xa0，暂住火炬开发区，1月18日来中山探亲，1月26日就诊被发现。病例9，赵某，女，38岁，住东升镇，是其他地市确诊病例的密切接触者。病例10，赵某，男，9岁，住东升镇，是病例9的儿子，是其他地市确诊病例的密切接触者。病例11，赵某，女，12岁，住东升镇，是病例9的女儿，是其他地市确诊病例的密切接触者。病例12，冯某，女，42岁，住石岐区，是病例3的妻子和病例5的母亲。病例13，陈某，男，35岁，住火炬开发区，1月19日回武汉过年，1月24日自驾车返回中山市，1月25日发病，1月27日收入中山市第二人民医院隔离治疗。病例14，胡某，男，65岁，住东区，1月18日与妻子郑某、儿子胡某自驾车回疫情发生地， 1月25日与妻子（病例15）、儿子（病例16）自驾车回中山。28日发病并于当天收入中山市第二人民医院隔离治疗。病例15，郑某（病例14的妻子），女，58岁，住东区， 28日发病并于当天收入中山市第二人民医院隔离治疗。病例16，胡某（病例14的儿子），男，28岁，住火炬开发区，1月27日发病，1月28日收入中山市第二人民医院隔离治疗。病例17，杨某某，男，30岁。湖北武汉籍人，长居湖北省荆州石首市，1月21日于湖北武汉乘高铁至中山市东凤镇探亲，1月25日发病，1月25日隔离，1月30日确诊。病例18，杨某某，男，51岁，住黄圃镇。1月20日至25日自驾车回湖北襄阳市探亲，1月25日返回中山市黄圃镇。1月27日发病，1月29日隔离，1月30日确诊。病例19，刘某，男，49岁，住黄圃镇。1月26日与家人自驾车从湖北孝感市返回中山，自述配合当地村委会疫情防控要求，前往黄圃人民医院进行排查，排查发现发热，当即收入市第二人民医院隔离治疗，2月1日确诊。病例20，王某，男，79岁，武汉人，住沙溪镇。有心脑血管疾病病史。1月23日与家人从武汉市驾车回中山市沙溪镇，2月1日确诊。病例21，周某，女，31岁，住东区，是1月29日确诊的一起家庭聚集性病例的密切接触者。1月25日与家人从武汉市探亲返回中山，3名同行家人（其中两人住东区，一人住火炬开发区）1月29日被确诊，周某2月1日确诊。病例22，彭某，女，31岁，孕妇，住横栏镇。1月16日至24日与家人自驾去湖北孝感探亲。1月30日发病，起病时症状轻微以咽痛为主，偶有咳嗽，2月1日病情明显加重，已在市二院隔离治疗，是重症病例。发病前主要活动场所为阳光花园。病例23，胡某，女，3岁8个月，住东区。1月22日至25日曾随家人自驾去湖北黄石探亲，与其同行的4名家人已报告为确诊病例。1月31日发病。发病前主要活动场所为星光礼寓。病例24，唐某，女，35岁，住西区。1月18—26日与家人自驾去湖北武汉、孝感探亲，1月26日在返回中山途中发病。发病前主要活动场所为广浩华庭。病例25，舒某，男，41岁，长住湖北孝感，暂住中山市黄圃镇。1月22日与家人从湖北到云南旅游，1月26日在云南发病，1月28日从云南来中山。发病前主要活动场所为奥城花园。病例26，胡某，男，32岁，为儿童确诊病例22的父亲，现住东区。1月22日至25日曾随家人自驾去湖北黄石探亲，与其同行的5名家人已报告为确诊病例。发病前主要活动场所是星光礼寓。病例27，刘某，女，23岁，现住三角镇，1月18日-21日自驾回湖北探亲。发病前主要活动区域是三角镇乌沙村。病例28，陈某，女，29岁，现住中山市板芙镇。既往长住惠州市，1月19日从惠州回湖北探亲，探亲期间曾与湖北报告的确诊病例接触，1月22日与家人经武汉来中山。发病前主要活动场所是板芙镇雅芙花园。病例29，李某，女，55岁，长住湖北武汉，暂住中山市坦洲镇。1月22日与家人自驾离开武汉，当晚在湖南长沙暂住，23日到达中山坦洲。发病前主要活动场所是锦绣阳光花园。病例30，南某，女，55岁，长住湖北武汉，暂住中山市坦洲镇。1月22日与家人自驾到中山坦洲，暂住坦洲海伦堡。发病前主要活动场所是坦洲镇海伦堡。病例31，邵某，男，32岁，住火炬开发区，1月21日与朋友自驾前往浙江、广西旅游，1月25日在广西境内发病，1月27日自驾回中山。发病前主要活动场所主要活动区域是开发区联富社区。病例32，柯某，男，48岁，现住东升镇。1月20日至23日与家人自驾到湖北武汉探亲。1月31日发病发病前主要活动场所为东升镇丽景名筑。病例33，汪某，女，57岁，现住阜沙镇。12月31日出发回湖北孝感探亲， 1月15日在湖北孝感出现不适，1月23日从湖北返回中山，发病前主要活动场所为阜沙镇阜港西路赢天阁。病例34，周某，女，85岁，长住湖北武汉，暂住中山市坦洲镇，1月20日在武汉发病。1月22日与家人自驾离开武汉，当晚在湖南长沙暂住，23日到达中山市坦洲镇。其同行家人中已有1人于2月3日报告为确诊病例，发病前主要活动场所为坦洲镇锦绣阳光花园。病例35，魏某，男，59岁，现住石岐区。12月18日至1月23日在湖北荆州和武汉逗留，1月24日与家人自驾回到中山。2月2日发病，发病前主要活动场所为石岐区利和豪庭。病例36，王某，男，78岁，住三乡镇鹤泉山庄。为其他城市确诊病例的密切接触者（家人）。1月26日发病。病例37，邹某，男，48岁，住东凤镇东御世家。1月16日与家人前往湖北武汉和随州探亲，1月20日在湖北发病，25日与家人自驾回中山。病例38，王某，男，65岁，长住湖北荆门，暂住中山市火炬开发区铂爵山，1月14日在湖北发病，19日与家人离开湖北，20日抵达中山。病例39，李某，女，31岁，住火炬开发区濠泗下街。为此前报告确诊病例邵某同行者，二人于1月21日至27日自驾前往浙江、广西旅游。通过对密切接触者医学观察发现其于2月5日发病。病例40，袁某，女，67岁，长住湖北应城，1月7日由湖北来中山，暂住黄圃镇御品泰景。1月22日有9名亲戚从武汉来中山到其家。其中一人于1月31日在其他城市被报告为疑似病例，随后我市通过对密切接触者医学观察，发现袁某于2月4日发病。病例41，程某，女，65岁，长住湖北武汉，暂住中山市沙溪镇水岸花都，1月23日与丈夫（此前报告的确诊病例王某）自驾车离开武汉，24日抵达沙溪镇。通过对密切接触者医学观察发现，程某于2月5日发病。病例42，徐某，男，51岁，住中山市沙溪镇水岸花都。1月24日与2名家人（确诊病例）从武汉来访。通过对密切接触者医学观察发现，徐某于2月4日发病。病例43，陈某，男，36岁，住坦洲镇汇翠山庄。1月22日有亲戚从湖北黄石来访，住其家中。来访亲戚中1人在其他城市被确诊。通过对密切接触者医学观察发现，陈某于2月1日发病。病例44，余某，男，57岁，住黄圃镇大岑村雪莱路外工村。1月18日至25日与家人自驾车前往湖北探亲，其中1人于2月2日在其他城市被确诊。通过对密切接触者医学观察发现，余某于2月4日发病。病例45，余某，男，33岁，住东凤镇西罟村。1月18日至25日与家人自驾车前往湖北孝感探亲。其同行家人已有2人分别被我市和外地城市确诊。通过对密切接触者医学观察发现，余某于2月6日发病。病例46，刘某，女，49岁，住民众镇多宝村。1月18日前往湖北襄阳探亲，1月27日与家人、朋友自驾车返回中山。2月2日发病。病例47，吴某，女，60岁，住石岐区利和豪庭。2019年12月18日至2020年1月23日在湖北荆州和武汉探亲，1月24日与家人自驾车回中山。其同行人员中1人已于2月4日确诊。吴某作为密切接触者被隔离进行医学观察，2月8日发病。病例48，宋某，女，35岁，住黄圃镇半山豪苑。1月20日至1月26日与家人自驾到湖北襄阳、孝感探亲。其同行人员中1人已于1月30日确诊，宋某作为密切接触者被隔离进行医学观察，2月4日发病。病例49，瞿某，女，29岁，长住湖北，暂住黄圃镇御品泰景。1月22日与9名家人来中山探亲，暂住黄圃镇亲戚家中。其同行1人于1月31日在其他城市被报告为疑似病例，瞿某作为密切接触者开始被隔离医学观察，2月4日发病。病例50，袁某（病例49的母亲），女，53岁，长住湖北，暂住黄圃镇御品泰景。1月22日与9名家人来中山探亲，暂住黄圃镇亲戚家中。其同行1人于1月31日在其他城市被报告为疑似病例，袁某作为密切接触者被隔离医学观察，2月2日发病。病例51，罗某，男，56岁，住石岐区民安街。1月18日至23日与家人自驾车前往湖北荆州、武汉探亲、旅游。1月30日发病。目前确诊在市二院隔离治疗。病例52，古某，女，45岁，住阜沙镇丰联村祥和街。古某为石岐区3例确诊病例的亲戚，发病前曾与确诊病例聚餐。古某自1月24日起居家隔离观察，2月2日被转隔离医学观察，2月7日发病。病例53，余某，女，9岁，住黄圃镇大岑村外工村。1月18日余某随家人自驾车前往湖北省孝感市探亲， 1月25日返回。其同行6人中已有1人在外地城市确诊，2人在中山确诊。余某自1月31日起开始居家隔离观察，2月1日被转隔离医学观察，2月7日发病。病例54，黄某，男，68岁，常住湖北省武汉市，暂住中山市石岐区上海城。1月12日与家人来中山探亲，暂住石岐区亲戚家中，1月22日又有其他亲人自武汉市来同住。黄某1月28日发病，2月7日在市博爱医院就诊后转到市第二人民医院隔离治疗。病例55，梁某，男，43岁，常住西区广浩华庭，暂住石岐区中海锦城。1月22日至26日与家人参加旅行团前往新加坡、马来西亚旅游，1月27日回到家中，1月28日发病。目前确诊在市二院隔离治疗。病例56，李某，女，57岁，常住广州市，暂住中山市石岐区民安街，为2月8日报告确诊病例罗某的妻子。1月18日至23日与家人自驾车前往湖北省荆州市和武汉市探亲、旅游。返回中山后一直在石岐区家中居家隔离。2月7日通过密切接触者医学观察发现其发病。病例57，张某，男，52岁，住中山市石岐区上海城。1月12日和22日家中分别有来自湖北武汉的亲人到访，其中包括2月9日确诊病例黄某。1月28日黄某发病后两人有共同生活接触。张某于2月4日发病。目前确诊在市二院隔离治疗。病例58，梁某，男，18岁，常住西区广浩华庭，为2月9日确诊病例梁某的儿子。父子二人于1月22日至27日参加旅行团前往新加坡、马来西亚旅游。2月1日发病，目前确诊在市二院隔离治疗。病例59，廖某, 女，25岁，住南区越秀星汇云锦，1月22日与家人自驾车前往湖北随州探亲，1月24日自驾车返回广州市，在亲属家中暂住时发病，27日自驾车返回中山。2月8日出现高热后就诊。目前确诊在市二院隔离治疗。病例60，王某，女，53岁，住沙溪镇水岸花都。2019年11月29日与家人前往湖北武汉探亲，2020年1月23日与长住武汉的家人一起自驾车回中山，24日抵达中山市沙溪镇家中。同行家人中有3人先后于2月1日和2月5日确诊。通过对密切接触者医学观察，发现王某于2月5日发病。目前确诊在市二院隔离治疗。病例61，冯某，男，72岁，住沙溪镇世纪新城。发病前曾与1月30日发病的疑似病例家属一起生活。冯某于2月2日发病，2月9日就诊后被转至市二院，目前确诊隔离治疗。病例62，方某，女，73岁，住沙溪镇世纪新城。为上述病例3的妻子。发病前曾与1月30日发病的疑似病例家属一起生活。2月7日发病，2月9日就诊后被转至市二院，目前确诊隔离治疗。病例63，梁某，女，44岁，住西区广浩华庭。梁某与3名亲属于1月22日至27日参加旅行团前往新加坡、马来西亚旅游。其中2人已分别于2月9日和10日报告为确诊病例。梁某2月7日被转隔离医学观察， 2月11日发病，目前确诊在市二院隔离治疗。病例64，冯某，女，45岁，常住沙溪镇世纪新城。1月22日至26日与亲属前往云南旅游。1月30日发病，2月9日就诊后转至市二院，目前确诊隔离治疗。病例65，严某，男，40岁，住三角镇乌沙村。1月17日至28日在江西省上饶市探亲，期间曾与来自疫情发生地的朋友聚餐。1月26日发病，1月29日自驾车回中山。初起病症较轻，仅有咳嗽。2月9日症状加重到医疗机构就诊被转至市二院，隔离治疗后确诊。点击这里，了解更多防控信息■直击 | 走进中山企业的复工现场■最新！防控期间，这些人不能乘坐交通工具外出旅行工作 | 早安，中山■每日疫情通报｜中山新增1例，累计确诊66例■每日疫情通报｜昨日中山零新增，广东新增确诊22例■因疫情影响未及时还款，怎么办？市民关心的这些问题，有回应了！中山发布编辑部编辑：叶倩儿美编：钟美君海报设计：林琳责编：建伟执行总编辑：高明国总编辑：李华炎\\n'"
      ]
     },
     "execution_count": 89,
     "metadata": {},
     "output_type": "execute_result"
    }
   ],
   "source": [
    "content"
   ]
  },
  {
   "cell_type": "code",
   "execution_count": 91,
   "metadata": {},
   "outputs": [
    {
     "data": {
      "text/plain": [
       "['https://mmbiz.qpic.cn/mmbiz_png/jL1hNwBkicA290LT2kBRcc6MqLBNz07NZO2S3F4TsfDvDb7GZsNtORcMzptic65PrdEBtkMpRcp69SbxXFrFpKKg/640?wx_fmt=png',\n",
       " 'https://mmbiz.qpic.cn/mmbiz_png/jL1hNwBkicA290LT2kBRcc6MqLBNz07NZtClntDRHK68pepwfrKngXNVthbUibWlENVjkicVb0WC928CfJgfqj57Q/640?wx_fmt=png',\n",
       " 'https://mmbiz.qpic.cn/mmbiz_jpg/jL1hNwBkicA0fdprrb9HWW0MwuGzxnpoxCWLbEanQmbImtjChlBMPI2bk76ichauHWPB2PpAvd6ibaCmjPeLLhIrw/640?wx_fmt=jpeg']"
      ]
     },
     "execution_count": 91,
     "metadata": {},
     "output_type": "execute_result"
    }
   ],
   "source": [
    "imglist"
   ]
  },
  {
   "cell_type": "code",
   "execution_count": 115,
   "metadata": {
    "scrolled": true
   },
   "outputs": [],
   "source": [
    "url = 'https://mp.weixin.qq.com/s/AuuQN67_9XRnT3v-YQ-6Kg'\n",
    "site = re.search(r'(https*://)(.+?)(/)',url).group(2)\n",
    "# 用引擎\n",
    "driver.get(url)\n",
    "# sleep(0.2)\n",
    "# try:\n",
    "html =  driver.page_source\n",
    "# except Expection as e:\n",
    "#     return '',''\n",
    "# soup = etree.HTML(html)\n",
    "# name = soup.xpath('//*[@id=\"js_name\"]')\n",
    "# content = soup.xpath('//*[@id=\"js_content\"]')\n",
    "soup = BeautifulSoup(html, 'html.parser')\n",
    "sn,sc = ['#js_name','#js_content']\n",
    "resource_name = soup.select(sn)\n",
    "content_selector = soup.select(sc)[0]\n",
    "content = content_selector.get_text()\n",
    "resource_name = resource_name[0].get_text()\n",
    "resource_name = re.sub(r'[^\\u4e00-\\u9fa5]','',resource_name)\n",
    "\n",
    "# img_list = []\n",
    "# imgs = soup.select(sc)[0].find_all('img')\n",
    "# if len(img)>=1:\n",
    "#     for img in imgs:\n",
    "#         if img['data-type']!='gif':\n",
    "# #             print('add.')\n",
    "#             img_list.append(img['data-src']) \n",
    "    \n",
    "    \n",
    "imglist = []\n",
    "imgs = content_selector.find_all('img')\n",
    "if len(imgs)>=1:\n",
    "    for img in imgs:\n",
    "#         if img['data-type'] !='gif':\n",
    "        imglist.append(img['data-src'])"
   ]
  },
  {
   "cell_type": "code",
   "execution_count": 116,
   "metadata": {},
   "outputs": [
    {
     "data": {
      "text/plain": [
       "['https://mmbiz.qpic.cn/mmbiz_gif/ldFaBNSkvHjdIlmWrpGeTwTIBfKLnVwODb2rcD60OH0GrDfgS1grU4azvLhLyGmQwA4CUGprEVo2TUk2yMZvDA/640?',\n",
       " 'https://mmbiz.qpic.cn/mmbiz_jpg/a72MSgFI1qJ7TTAS6ZlOEJB2wVW3AwAWKboiatQQW9eIRz0wfSP9MIIFopjjJxa5QGlfsp8oOxicalfdQNIsciawg/640?wx_fmt=jpeg']"
      ]
     },
     "execution_count": 116,
     "metadata": {},
     "output_type": "execute_result"
    }
   ],
   "source": [
    "imglist"
   ]
  },
  {
   "cell_type": "code",
   "execution_count": 117,
   "metadata": {},
   "outputs": [
    {
     "data": {
      "text/plain": [
       "'\\n关于寻找确诊病例密切接触者的公告广大市民朋友：武汉新型冠状病毒感染的肺炎疫情爆发以来，我市截止目前累计确诊10名病例，经疾控机构专业人员进行流行病学调查后，大部分病例的密切接触者已经追踪到位并纳入医学观察范围。但因技术条件限制，现仍有部分确诊病例的密切接触者尚未寻找到位。现将有关线索公布如下：1.患者杨某某：女，2月2日确诊。1月27日12：33乘坐28路空调车从宝鸡南站出发，于13：20到达终点宝鸡火车站；13：40乘坐普通37路从宝鸡火车站到群众路同心小区；29日18：40左右到宝钛新区门口百汇超市购物。需寻找28路、37路同车人员与超市购物人员。2.患者段某某：男，2月3日确诊。1月18日-23日在越南芽庄旅行，乘坐旅游大巴车同行人员包括3名襄阳人、7名武汉人；1月24日3：20乘坐 GJ8800次航班由越南芽庄（金兰机场T2）飞往西安（咸阳机场T3）。需寻找越南旅游同行人员与返回航班同机人员。有上述与确诊的新型冠状病毒感染的肺炎患者同乘、同行或其他接触经历的人员，鉴于您属于病例密切接触者，存在被感染的风险，为了您和他人健康，请第一时间主动拨打您目前居住地的县区卫生健康部门咨询电话（宝鸡市及各县区具体号码后附），配合当地卫生健康部门做好隔离医学观察。若有发热、咳嗽等症状，请及时拨打各卫生健康部门电话，会有专车及医护人员接您，前往定点医院发热门诊就诊，以便进一步诊治。同时请以上密切接触者的家人都暂时不要外出，自觉居家隔离，如有发热等不适症状，亦请立即与辖区卫生健康部门联系。宝鸡市 0917—3263585\\xa0 12345（市民热线）金台区 0917--3512044渭滨区 0917--3323931陈仓区 0917--6222900高新区 0917--3780000岐山县 0917--8214577凤翔县 0917--7282515扶风县 0917--5216383眉\\xa0 \\xa0县 0917--5548671陇\\xa0 \\xa0县 0917--4609178千阳县 0917--4245911麟游县 0917--7962039太白县 0917--4951132凤\\xa0 \\xa0县 0917--4762711宝鸡市应对新型冠状病毒感染肺炎疫情工作领导小组（指挥部）办公室2020年2月4日寻找杨凌人来扶风的密切接触者！2月4日，杨凌示范区郭某某确诊为新型冠状病毒感染的肺炎，为示范区首例确诊病例。该患者家住杨凌松园小区，根据本人初步回忆和调查，现将近期该患者活动轨迹公布如下：1月29日下午3点左右，开车去扶风县绛帐镇牛仓村吊唁，5点左右返回家中。杨陵区疾控中心电话：029—87018815、87012254来源：宝鸡新闻网编辑：高飞赶快来分享关注吖\\n'"
      ]
     },
     "execution_count": 117,
     "metadata": {},
     "output_type": "execute_result"
    }
   ],
   "source": [
    "content"
   ]
  },
  {
   "cell_type": "code",
   "execution_count": 118,
   "metadata": {},
   "outputs": [
    {
     "data": {
      "text/plain": [
       "'宝鸡发布'"
      ]
     },
     "execution_count": 118,
     "metadata": {},
     "output_type": "execute_result"
    }
   ],
   "source": [
    "resource_name"
   ]
  },
  {
   "cell_type": "code",
   "execution_count": null,
   "metadata": {},
   "outputs": [],
   "source": [
    "url = 'https://mp.weixin.qq.com/s/BowMr0k90t8psMKEWMmshQ'\n",
    "site = re.search(r'(https*://)(.+?)(/)',url).group(2)\n",
    "# 用引擎\n",
    "driver.get(url)\n",
    "# sleep(0.2)\n",
    "# try:\n",
    "html =  driver.page_source\n",
    "# except Expection as e:\n",
    "#     return '',''\n",
    "# soup = etree.HTML(html)\n",
    "# name = soup.xpath('//*[@id=\"js_name\"]')\n",
    "# content = soup.xpath('//*[@id=\"js_content\"]')\n",
    "soup = BeautifulSoup(html, 'html.parser')\n",
    "sn,sc = ['#js_name','#js_content']\n",
    "resource_name = soup.select(sn)\n",
    "content_selector = soup.select(sc)[0]\n",
    "content = content_selector.get_text()\n",
    "resource_name = resource_name[0].get_text()\n",
    "resource_name = re.sub(r'[^\\u4e00-\\u9fa5]','',resource_name)\n",
    "\n",
    "# img_list = []\n",
    "# imgs = soup.select(sc)[0].find_all('img')\n",
    "# if len(img)>=1:\n",
    "#     for img in imgs:\n",
    "#         if img['data-type']!='gif':\n",
    "# #             print('add.')\n",
    "#             img_list.append(img['data-src']) \n",
    "    \n",
    "    \n",
    "imglist = []\n",
    "imgs = content_selector.find_all('img')\n",
    "if len(imgs)>=1:\n",
    "    for img in imgs:\n",
    "#         if img['data-type'] !='gif':\n",
    "        imglist.append(img['data-src'])"
   ]
  },
  {
   "cell_type": "code",
   "execution_count": 120,
   "metadata": {},
   "outputs": [
    {
     "data": {
      "text/plain": [
       "['https://mmbiz.qpic.cn/mmbiz/RicPMLX2HvIpU9Bs5S5JWrWCSficvm75xuaia1zPC36XXlJ9LibalZ1mdmqwjDgJOyXkBQPKc6rB9n7G4TDGhiaxOEw/640?wx_fmt=gif']"
      ]
     },
     "execution_count": 120,
     "metadata": {},
     "output_type": "execute_result"
    }
   ],
   "source": [
    "imglist"
   ]
  },
  {
   "cell_type": "code",
   "execution_count": 121,
   "metadata": {},
   "outputs": [
    {
     "data": {
      "text/plain": [
       "'\\n齐鲁晚报官方微信根据各地市卫健委官网信息整理，每天实时更新，敬请关注齐鲁晚报官方微信实时查看。备注：各地市确诊病例详情，可在后台回复“地市名＋确诊”查看，例如：“济南确诊”、“青岛确诊”、“日照确诊”）临沂确诊病例详情如下：2月19日2020年2月19日12—24时，临沂市新增新型冠状病毒肺炎确诊病例1例，治愈出院4例。新增确诊病例为：病例49号：患者彭某某，女，60岁，临沂市沂水县人，家居沂水县院东头镇姚店子村，有疑似病例密切接触史，无武汉旅居史。在隔离观察期间经实验室检测新型冠状病毒核酸为阳性，立即被定点医疗机构隔离治疗，2月19日由疑似病例确诊为新冠肺炎病例，临床普通型，无基础性疾病。正在隔离治疗。截至2月19日24时，临沂市累计确诊病例49例，治愈出院41例。各县区累计确诊病例为兰山区18例、郯城县5例、莒南县6例、平邑县4例、沂南县4例、沂水县4例、费县3例、河东区2例、临沭县2例、兰陵县1例。（省卫生健康委按病例确诊时医院所在县区公布的河东区12例确诊病例，为兰山区6例、河东区2例、郯城县2例、莒南县1例、沂水县1例）。目前累计追踪到密切接触者1433人，共解除医学观察1312人。2月18日2020年2月17日12—24时，临沂市新增新型冠状病毒肺炎确诊病例1例，治愈出院3例。新增确诊病例为：病例48号：患者赵某某，男，38岁，临沂市莒南县人，工作所在地湖北省武汉市洪山区，家居莒南县十字路镇东赤石沟村，有武汉旅居史。在隔离观察期间经实验室检测新型冠状病毒核酸为阳性（无症状），立即被定点医疗机构隔离治疗，2月17日由疑似病例确诊为新冠肺炎病例，临床轻型，无基础性疾病。正在隔离治疗。\\xa0截至2月17日24时，我市累计确诊病例48例，治愈出院35例，现有疑似病例2例。各县区累计确诊病例为兰山区18例、郯城县5例、莒南县6例、平邑县4例、沂南县4例、沂水县3例、费县3例、河东区2例、临沭县2例、兰陵县1例。疑似病例费县1例、沂水1例。（省卫生健康委按病例确诊时医院所在县区公布的河东区11例确诊病例，为兰山区6例、河东区2例、郯城县2例、莒南县1例）。目前累计追踪到密切接触者1413人，共解除医学观察1245人。2月14日2020年2月13日12—24时，临沂市新增新型冠状病毒肺炎确诊病例2例，疑似病例1例，治愈出院1例。新增确诊病例为——病例46号：患者管某某，女，30岁，临沂市平邑县人，工作所在地湖北省武汉市，家居平邑县柏林镇柏林村，有武汉旅居史。在集中隔离观察期间经实验室检测新型冠状病毒核酸为阳性（无症状感染者），立即被定点医疗机构隔离治疗，2月13日由阳性检测（无症状感染者）确诊为新冠肺炎病例，临床普通型，无基础性疾病。正在隔离治疗。病例47号：患者管某某，男，49岁，临沂市人平邑县人，家居平邑县柏林镇柏林村，与确诊病例有密切接触史，无外地旅居史。在集中隔离观察期间经实验室检测新型冠状病毒核酸为阳性（无症状感染者），立即被定点医疗机构隔离治疗，2月13日由阳性检测（无症状感染者）确诊为新冠肺炎病例，临床普通型。正在隔离治疗。截至2月13日24时，我市累计确诊病例47例，治愈出院13例，现有疑似病例1例。各县区累计确诊病例为兰山区18例、郯城县5例、莒南县5例、平邑县4例、沂南县4例、沂水县3例、费县3例、河东区2例、临沭县2例、兰陵县1例。疑似病例莒南县1例（省卫生健康委按病例确诊时医院所在县区公布的河东区10例确诊病例，为兰山区6例、河东区2例、郯城县2例）。目前累计追踪到密切接触者1374人，共解除医学观察1129人。2月11日2020年2月11日12—24时，临沂市新增新型冠状病毒肺炎确诊病例1例，治愈出院1例。新增确诊病例为——病例45：患者柴某某，男，11岁，山东省临沂市人，在武汉市上小学，系之前确诊病例柴某某之子。1月22日随父母从武汉返回郯城县，现居住于郯城县郯城街道龙域中央小区，1月27日安排到集中隔离点进行医学隔离观察，期间新型冠状病毒核酸检测为阳性，随即被定点医疗机构以疑似病例隔离治疗，2月10日由疑似病例确诊为新冠肺炎病例，临床轻型，无基础性疾病，病情稳定。截至2月11日24时，我市累计确诊病例45例，治愈出院10例。各县区累计确诊病例为兰山区18例、郯城县5例、沂南县4例、莒南县5例、沂水县3例、费县3例、河东区2例、平邑县2例、临沭县2例、兰陵县1例。（省卫生健康委按病例确诊时医院所在县区公布的河东区10例确诊病例，为兰山区6例、河东区2例、郯城县2例）。目前累计追踪到密切接触者1336人，共解除医学观察966人。2月10日2020年2月10日12—24时，我市新增新型冠状病毒肺炎确诊病例2例，治愈出院3例。新增2例确诊病例为：病例43：患者林某某，男，54岁，山东省临沂市人，工作所在地山东省临沂市，家居兰山区柳青街道润园小区，与确诊病例有密切接触，无武汉旅居史。2月10日由疑似病例确诊为新冠肺炎病例，临床普通型，无基础性疾病。正在隔离治疗。病例44：患者陈某，女，34岁，山东省临沂市人，居家无职业，现居住于莒南县坪上镇坪上一村，有武汉旅居史。2月10日由疑似病例确诊为新冠肺炎病例，临床轻型，无基础性疾病。正在隔离治疗。截至2月10日24时，我市累计确诊病例44例，治愈出院9例，现有疑似病例1例。各县区累计确诊病例为兰山区18例、郯城县4例、沂南县4例、莒南县5例、沂水县3例、费县3例、河东区2例、平邑县2例、临沭县2例、兰陵县1例。疑似病例郯城1例。（省卫生健康委按病例确诊时医院所在县区公布的河东区10例确诊病例，为兰山区6例、河东区2例、郯城县2例）。目前累计追踪到密切接触者1324人，共解除医学观察892人2月9日2020年2月9日12—24时，临沂新增2例。病例41：患者孟某某，女，40岁，山东省临沂市人，家居临沂市兰山区市水利局家属院，有武汉人员密切接触史，2月9日确定为新冠肺炎确诊病例，临床分型为轻型，正在隔离治疗。病例42：患者孟某某，女，38岁，山东省临沂市人，家居临沂市兰山区五大道住宅区，与确诊病例有密切接触史，2月9日确定为新冠肺炎确诊病例，临床分型为轻型，正在隔离治疗。2月8日2020年2月8日0—12时，临沂新增新型冠状病毒肺炎确诊病例2例，累计确诊病例40例，现有疑似病例5例。各县区累计确诊病例为兰山区15例、郯城县4例、沂南县4例、莒南县4例、沂水县3例、费县3例、河东区2例、临沭县2例、兰陵县1例、平邑县2例。疑似病例兰山区3例、莒南县1例、郯城县1例。（省卫生健康委按病例确诊时医院所在县区公布的河东区10例确诊病例，为兰山区6例、河东区2例、郯城县2例）。新增2例确诊病例为：病例39：患者李某某，男，72岁，居住于兰山区银雀山街道，有外地市确诊病例密切接触史。反复出现发烧、胸闷憋喘等症状，到定点医疗机构就诊随即被隔离治疗。经实验室检测，新型冠状病毒核酸为阳性，目前病情稳定。病例40：患者陈某某，男，56岁，居住于莒南县坪上镇，有武汉返乡确诊病例密切接触史。在隔离观察期间出现发热等症状，随即被120专车接至定点医疗机构隔离治疗。经实验室检测，新型冠状病毒核酸为阳性，目前病情稳定。目前累计追踪到密切接触者1177人，共解除医学观察431人，治愈出院3例。2月7日2020年2月7日12—24时，临沂新增新型冠状病毒感染的肺炎确诊病例3例，累计确诊病例38例，疑似病例7例。各县区累计确诊病例为兰山区14例、郯城县4例、沂水县3例、费县3例、河东区2例、莒南县3例、临沭县2例、沂南县4例、兰陵县1例、平邑县2例。疑似病例兰山区4例、莒南县2例、郯城县1例。（省卫生健康委按病例确诊时医院所在县区公布的河东区9例确诊病例，为兰山区5例、河东区2例、郯城县2例）。新增3例确诊病例为——病例36：患者李某某，男，6岁，居住于沂南县铜井镇。与父母从武汉返回沂南，在隔离观察期间出现发热、咽痛等症状，随即被定点医疗机构隔离治疗。经实验室检测，新型冠状病毒核酸为阳性，目前病情稳定。病例37：患者胡某某，男，40岁，居住于兰山区金雀山街道。为密切接触者发病。在隔离观察期间出现发热、咽痛等症状，随即被定点医疗机构隔离治疗。经实验室检测，新型冠状病毒核酸为阳性，目前病情稳定。病例38：患者王某某，男，32岁，籍贯莒南县板泉镇，有武汉居住史。自武汉返回莒南，在隔离观察期间出现发热等症状，随即被定点医疗机构隔离治疗。经实验室检测，新型冠状病毒核酸为阳性，目前病情稳定。目前累计追踪到密切接触者1177人，共解除医学观察 431人，治愈出院3例。2月6日2020年2月6日12—24时，临沂市新增新型冠状病毒感染的肺炎确诊病例3例，累计确诊病例35例，疑似病例7例。各县区累计确诊病例为兰山区13例、郯城县4例、沂水县3例、费县3例、河东区2例、莒南县2例、临沭县2例、沂南县3例、兰陵县1例、平邑县2例。疑似病例沂南县1例、兰山区3例、莒南县2例、河东区1例。（省卫生健康委按病例确诊时医院所在县区公布的河东区8例确诊病例，为兰山区4例、河东区2例、郯城县2例）。新增3例确诊病例为：病例33:患者庞某，男，33岁，居住于郯城县泉源乡。1月19日从武汉返回郯城，在隔离观察期间出现发烧等症状，随即被定点医疗机构隔离治疗。经实验室检测，新型冠状病毒核酸为阳性，目前病情稳定。病例34：患者周某某，女，33岁，居住于沂南县铜井镇，为确诊病例李某妻子。1月21日从武汉返回沂南，在隔离观察期间出现咳嗽等症状，随即被定点医疗机构隔离治疗。经实验室检测，新型冠状病毒核酸为阳性，目前病情稳定。病例35：患者陈某某，女，75岁，为确诊病例管某某妻子。居住于平邑县柏林镇。在隔离观察期间出现咳嗽等症状，随即被定点医疗机构隔离治疗。经实验室检测，新型冠状病毒核酸为阳性，目前状况稳定。目前累计追踪到密切接触者1078人，共解除医学观察315人，治愈出院3例。2月5日2020年2月5日12—24时，我市新增新型冠状病毒感染的肺炎确诊病例2例，累计确诊病例32例，疑似病例5例。各县区累计确诊病例为兰山区13例、郯城县3例、沂水县3例、费县3例、河东区2例、莒南县2例、临沭县2例、沂南县2例、兰陵县1例、平邑县1例。疑似病例沂南县2例、兰山区1例、郯城县1例、莒南县1例。（省卫生健康委按病例确诊时医院所在县区公布的河东区8例确诊病例，为兰山区4例、河东区2例、郯城县2例）。新增2例确诊病例为：病例31：患者王某某，男，63岁，居住于兰山区兰山街道，为傅某某的密切接触者。在隔离观察期间出现发热等症状，随即被定点医疗机构隔离治疗。经实验室检测，新型冠状病毒核酸为阳性，目前病情稳定。病例32：患者李某，男，32岁，居住于沂南县铜井镇。1月21日从武汉返回沂南，在隔离观察期间出现干咳等症状，随即被定点医疗机构隔离治疗。经实验室检测，新型冠状病毒核酸为阳性，目前病情稳定。目前累计追踪到密切接触者985人，共解除医学观察 183人，治愈出院1例。2月4日2020年2月4日0—12时，我市新增新型冠状病毒感染的肺炎确诊病例1例，累计确诊病例28例，疑似病例6例。各县区累计确诊病例为兰山区11例、郯城县3例、费县3例、河东区2例、沂水县2例、莒南县2例、临沭县2例、沂南县1例、兰陵县1例、平邑县1例。疑似病例沂南县3例、兰山区1例、郯城县1例、沂水县1例。（省卫生健康委按病例确诊时医院所在县区公布的河东区7例确诊病例，为兰山区3例、河东区2例、郯城县2例）。新增1例确诊病例为：病例28：患者管某某，男，79岁，居住于平邑县柏林镇，有与武汉返乡人员密切接触史。2月2日出现发热症状，到医疗机构就诊后随即被隔离治疗。经实验室检测，新型冠状病毒核酸为阳性，目前病情稳定。目前累计追踪到密切接触者715人，共解除医学观察 79人，治愈出院1例。2020年2月4日12—24时，临沂市新增新型冠状病毒感染的肺炎确诊病例2例，累计确诊病例30例，疑似病例6例。各县区累计确诊病例为兰山区12例、郯城县3例、费县3例、河东区2例、沂水县3例、莒南县2例、临沭县2例、沂南县1例、兰陵县1例、平邑县1例。疑似病例沂南县3例、兰山区1例、郯城县1例、莒南县1例。（省卫生健康委按病例确诊时医院所在县区公布的河东区8例确诊病例，为兰山区4例、河东区2例、郯城县2例）。新增确诊病例为：病例29：患者王某，女，23岁，为傅某某的密切接触者。在隔离观察期间出现发热等症状，随即被定点医疗机构隔离治疗。经实验室检测，新型冠状病毒核酸为阳性，目前病情稳定。病例30：患者武某某，男，24岁，居住于沂水县道托镇。1月20日从武汉返回沂水，在隔离观察期间出现发热、干咳等症状，随即被定点医疗机构隔离治疗。经实验室检测，新型冠状病毒核酸为阳性，目前病情稳定。目前累计追踪到密切接触者853人，共解除医学观察93人，治愈出院1例。2月3日2020年2月3日12—24时，临沂市新增新型冠状病毒感染的肺炎确诊病例2例，累计确诊病例27例，疑似病例6例。各县区累计确诊病例为兰山区11例、郯城县3例、费县3例、河东区2例、沂水县2例、莒南县2例、临沭县2例、沂南县1例、兰陵县1例。疑似病例沂南县3例、兰山区1例、郯城县1例、沂水县1例。（省卫生健康委按病例确诊时医院所在县区公布的河东区7例确诊病例，为兰山区3例、河东区2例、郯城县2例）。新增2例确诊病例为：病例26：患者李某某，男，40岁，居住于临沭县临沭街道，有武汉工作史。1月21日从武汉返回临沭，在隔离观察期间出现发热、头痛等症状，随即被定点医疗机构隔离治疗。经实验室检测，新型冠状病毒核酸为阳性，目前病情稳定。病例27：患者朱某某，男，50岁，居住于兰陵县卞庄街道，有武汉出差史。1月23日从武汉返回兰陵，在隔离观察期间出现发热等症状，随即被定点医疗机构隔离治疗。经实验室检测，新型冠状病毒核酸为阳性，目前病情稳定。目前累计追踪到密切接触者715人，共解除医学观察79人，治愈出院1例。截至2020年2月3日12时，临沂新增新型冠状病毒感染的肺炎确诊病例1例，累计确诊病例25例，疑似病例5例。各县区累计确诊病例为兰山区11例、郯城县3例、费县3例、河东区2例、沂水县2例、莒南县2例、沂南县1例、临沭县1例。疑似病例兰山区1例、郯城县1例、兰陵县1例、沂水县1例、临沭1例。（省卫生健康委按病例确诊时医院所在县区公布的河东区7例确诊病例，为兰山区3例、河东区2例、郯城县2例）。新增1例确诊病例为：病例25：患者王某某，男，2岁9个月，居住于费县探沂镇，1月21日随父母从武汉返回费县。在隔离观察期间出现发热症状，经实验室检测，新型冠状病毒核酸为阳性，目前在定点医疗机构隔离治疗，病情稳定。2月1日截至2020年2月1日24时，我市新增新型冠状病毒感染的肺炎确诊病例1例，累计确诊病例24例，疑似病例7例。各县区累计病例为兰山区11例、郯城县3例、河东区2例、费县2例、沂水县2例、莒南县2例、沂南县1例、临沭县1例。疑似病例兰山区2例、兰陵县1例、沂水县1例、平邑县1例、费县1例、临沭1例。（省卫生健康委按病例确诊时医院所在县区公布的河东区7例确诊病例，为兰山区3例、河东区2例、郯城县2例）。新增1例确诊病例为：病例24：患者林某某，女，47岁，居住于兰山区柳青街道，为1月31日确诊的林某某、郑某某的密切接触者。1月24日出现干咳等症状，2月1日经实验室检测，新型冠状病毒核酸为阳性，目前在定点医疗机构隔离治疗，病情稳定。目前累计追踪到密切接触者675人，当日解除医学观察7人。1月31日截至2020年1月31日12时，临沂市新增新型冠状病毒感染的肺炎确诊病例3例。累计确诊病例23例，疑似病例2例。各县区累计病例为兰山区10例、郯城县3例、河东区2例、费县2例、沂水县2例、莒南县2例、沂南县1例、临沭县1例。疑似病例兰山区1例、平邑县1例。（省卫生健康委按病例确诊时医院所在县区公布的河东区5例确诊病例，现收治于市人民医院东医疗区，其中兰山区3例、郯城县2例）。新增3例确诊病例为：病例23：患者刘某某，男，57岁，籍贯莒南县板泉镇，在武汉工作。1月21日自武汉自驾返回莒南，1月29日出现腹泻等症状，由定点医疗机构120救护车转运收治隔离治疗。经实验室检测，新型冠状病毒核酸为阳性，目前病情稳定。病例22：患者林某某，男，51岁，居住于河东区九曲街道，为1月29日确诊的傅某某的密切接触者。经实验室检测，新型冠状病毒核酸为阳性，目前病情稳定。病例21：患者郑某某，女，49岁，居住于河东区九曲街道，与患者林某某为夫妻关系，为1月29日确诊的傅某某的密切接触者。经实验室检测，新型冠状病毒核酸为阳性，目前病情稳定。目前全市累计追踪到的507名密切接触者，正在接受医学观察。1月30日截至2020年1月30日24时，临沂市新增新型冠状病毒感染的肺炎确诊病例4例。累计确诊病例20例，疑似病例2例。各县区累计病例为兰山区10例、郯城县3例、费县2例、沂水县2例、沂南县1例、莒南县1例、临沭县1例。疑似病例兰山区1例、平邑县1例。（省卫生健康委按病例确诊时医院所在县区公布的河东区5例确诊病例，现收治于市人民医院东医疗区，其中兰山区3例、郯城县2例）。新增4例确诊病例为：病例20：患者沈某某，男，39岁，籍贯江苏省连云港市海州区，在武汉工作。1月20日由武汉自驾到临沭探亲，1月28日出现呕吐、发烧等症状，到定点医疗机构发热门诊就诊随即被隔离。经实验室检测，新型冠状病毒核酸为阳性，目前在定点医疗机构隔离治疗，病情稳定。病例19：患者徐某，男，33岁，现居住于沂水县许家湖镇，1月16-19日在北京、泰安等地参加公司年会，1月20日出现发热、干咳等症状，自行到定点医疗机构发热门诊就诊。经实验室检测，新型冠状病毒核酸为阳性，目前在定点医疗机构隔离治疗，病情稳定。病例18：患者王某某，男，34岁，现居住于兰山区兰山街道，有武汉居住史，1月22日由湖北宜昌返回临沂，1月26日出现发热、干咳等症状，到定点医疗机构就诊。经实验室检测，新型冠状病毒核酸为阳性，目前在定点医疗机构隔离治疗，病情稳定。病例17：患者傅某某，为1月29日确诊的傅某某之子，1月29日，疾控机构到其家开展流调、采样事宜时，发现其有发烧等症状，随即联系定点医疗机构接走隔离。经实验室检测，新型冠状病毒核酸为阳性，目前在定点医疗机构隔离治疗，病情稳定。目前全市累计追踪到的474名密切接触者，正在接受医学观察。1月29日2020年1月29日0时—12时，临沂市新增新型冠状病毒感染的肺炎确诊病例1例。新增1例确诊病例为：病例16：患者傅某某，男，51岁，1月21日出现干咳、发烧症状，1月28日独自到临沂市人民医院东医疗区（河东）发热门诊就诊。经实验室检测，新型冠状病毒核酸为阳性，目前在定点医疗机构隔离治疗，病情稳定。目前全市累计追踪到的316名密切接触者，正在接受医学观察。截至2020年1月28日24时：病例15：患者孙某某，男，41岁，现居住于兰山区银雀山街道，1月19日自驾从武汉回临沂途中出现干咳、发烧症状，1月23日下午到临沂市人民医院东医疗区（河东）发热门诊就诊。经实验室检测，新型冠状病毒核酸为阳性，目前在定点医疗机构隔离治疗，病情稳定。病例14：患者徐某，女，38岁，现居住于兰山区银雀山街道，为患者孙某某的密切接触者，隔离期间1月25日出现咽部不适症状，1月26日出现发烧症状。经实验室检测，新型冠状病毒核酸为阳性，目前在定点医疗机构隔离治疗，病情稳定。病例13：患者王某某，男，34岁，现居住于郯城县马头镇，在武汉市打工，1月20日出现干咳症状，1月22日从武汉返乡，1月26日村委会通知其到定点医疗机构查体随即被隔离。经实验室检测，新型冠状病毒核酸为阳性，目前在定点医疗机构隔离治疗，病情稳定。病例12：患者武某某，女，47岁，现居住于武汉市武昌区，1月23日自驾到沂水探亲，1月26日出现发热、乏力等症状，1月27日到医疗机构发热门诊就诊随即被隔离。经实验室检测，新型冠状病毒核酸为阳性，目前在定点医疗机构隔离治疗，病情稳定。病例11：患者王某某，男，33岁，籍贯费县探沂镇，在武汉工作，1月21日从武汉返乡，1月27日出现发烧症状，由定点医疗机构120救护车转运收治隔离治疗。经实验室检测，新型冠状病毒核酸为阳性，目前病情稳定。病例10：患者邵某，女，32岁，籍贯费县探沂镇，在武汉工作，1月21日从武汉返乡，1月27日出现发烧症状，由定点医疗机构120救护车转运收治隔离治疗。经实验室检测，新型冠状病毒核酸为阳性，目前病情稳定。病例9：患者顾某，男，56岁，籍贯沂南县，在武汉工作，1月18日从武汉返乡，24日出现发烧症状，26日出现咳嗽症状，由定点医疗机构120救护车转运收治隔离治疗。经实验室检测，新型冠状病毒核酸为阳性，目前病情稳定。目前全市累计追踪到的292名密切接触者，正在接受医学观察。1月28日截至2020年1月27日24时，临沂市新增新型冠状病毒感染的肺炎确诊病例1例，疑似病例1例，累计确诊病例8例。其中确诊病例按居住地为兰山区5例、郯城县2例、莒南县1例，平邑县疑似病例1例。病例8：柴某某，男，48岁，现居住于郯城县郯城街道，在武汉经商，1月22日自驾回郯城县家中，1月25日出现发热、干咳、胸闷等症状，后到市人民医院东医疗区（河东）发热门诊就诊，经实验室检测，新型冠状病毒核酸为阳性，目前在定点医疗机构隔离治疗。现已对25名密切接触者开展隔离医学观察。1月26日截至2020年1月26日9时，临沂市新增4例新型冠状病毒感染的肺炎确诊病例，累计确诊病例7例，涉及到兰山区、莒南县、郯城县，其中兰山区5例、莒南县1例、郯城县1例。病例7：患者杜某某，男，34岁，居住于郯城县，有武汉出差史，1月20日出现发热、干咳症状，23日到定点医疗机构发热门诊就诊，经实验室检测，新型冠状病毒核酸为阳性，目前在定点医疗机构隔离治疗。现已对20名密切接触者开展隔离医学观察。病例6：患者刘某某，女，67岁，居住于莒南县，1月14日从湖北省武汉市返回莒南县，出现发烧、嗓子嘶哑等症状，23日到定点医疗机构发热门诊就诊，经实验室检测，新型冠状病毒核酸为阳性，目前在定点医疗机构隔离治疗。现已对7名密切接触者开展隔离医学观察。病例5：患者孙某，男，28岁，籍贯湖北省襄樊市，居住于兰山区柳青街道，经过流行病学调查，患者被判定为第4例患者的病例密切接触者，在隔离观察期间，对其采样筛查，经过实验室检测，新型冠状病毒核酸为阳性，目前在定点医疗机构隔离治疗。现已对2名密切接触者开展隔离医学观察。病例4：患者王某某，女，53岁，籍贯湖北省襄樊市，居住于兰山区柳青街道，经过流行病学调查，患者被判定与24日确诊的第3例患者为病例密切接触者，在隔离观察期间，对其采样筛查，经过实验室检测，新型冠状病毒核酸为阳性，目前在定点医疗机构隔离治疗。现已对36名密切接触者开展隔离医学观察。1月25日病例3：临沂市37岁男性患者，湖北省孝感人，与2020年1月23日我市首次报告的两例患者为亲子关系，经过流行病学调查，患者被判定为病例密切接触者，在隔离观察期间，对其采样筛查，经过实验室检测，新型冠状病毒核酸为阳性，目前在定点医疗机构隔离治疗。现已对其密切接触者开展隔离医学观察。1月23日1月22日0—24时，临沂市首次报告2例确诊病例。病例1、2：两位患者为夫妻关系，女性62岁，男性65岁，均为湖北省孝感市人，退休后到临沂市兰山区柳青街道其儿子家中居住，2019年12月29日，夫妻二人返回湖北老家探亲，2020年1月15日返回临沂。2020年1月21日，夫妻二人因发烧到临沂市人民医院就诊，就诊后被收入院隔离治疗。经省、市疾控机构检测，2名患者新型冠状病毒核酸检测结果为阳性。经专家评估确认，该两病例为新型冠状病毒感染的肺炎确诊病例。目前患者生命体征平稳，6名密切接触者正在接受医学隔离观察，无发热等症状。来源：临沂市卫健委官网\\n'"
      ]
     },
     "execution_count": 121,
     "metadata": {},
     "output_type": "execute_result"
    }
   ],
   "source": [
    "content"
   ]
  },
  {
   "cell_type": "code",
   "execution_count": 122,
   "metadata": {},
   "outputs": [
    {
     "data": {
      "text/plain": [
       "'齐鲁晚报'"
      ]
     },
     "execution_count": 122,
     "metadata": {},
     "output_type": "execute_result"
    }
   ],
   "source": [
    "resource_name"
   ]
  },
  {
   "cell_type": "code",
   "execution_count": 125,
   "metadata": {},
   "outputs": [],
   "source": [
    "wx_rules = {\n",
    "    'type':'selector',\n",
    "    'resource':'#js_name',\n",
    "    'content':'#js_content'\n",
    "}"
   ]
  },
  {
   "cell_type": "code",
   "execution_count": 381,
   "metadata": {},
   "outputs": [],
   "source": [
    "def get_resource_content_for_wx(url,driver,rule,img_debug=False):\n",
    "    ''' \n",
    "        input:url,driver,rule  \n",
    "        output:GETHTML\n",
    "    '''\n",
    "#     site = re.search(r'(https*://)(.+?)(/)',url).group(2)\n",
    "#     html =  ''\n",
    "    # 用引擎\n",
    "    driver.get(url)\n",
    "    sleep(0.5)\n",
    "    try:\n",
    "        html =  driver.page_source\n",
    "    except Expection as e:\n",
    "        return '','',[]\n",
    "#     url = 'https://mp.weixin.qq.com/s/BowMr0k90t8psMKEWMmshQ'\n",
    "#     site = re.search(r'(https*://)(.+?)(/)',url).group(2)\n",
    "    # 用引擎\n",
    "#     driver.get(url)\n",
    "    # sleep(0.2)\n",
    "    # try:\n",
    "#     html =  driver.page_source\n",
    "    # except Expection as e:\n",
    "    #     return '',''\n",
    "    # soup = etree.HTML(html)\n",
    "    # name = soup.xpath('//*[@id=\"js_name\"]')\n",
    "    # content = soup.xpath('//*[@id=\"js_content\"]')\n",
    "    soup = BeautifulSoup(html, 'html.parser')\n",
    "    sn,sc = ['#js_name','#js_content']\n",
    "    resource_name = soup.select(sn)\n",
    "    content_selector = soup.select(sc)[0]\n",
    "    content = content_selector.get_text()\n",
    "    resource_name = resource_name[0].get_text()\n",
    "    resource_name = re.sub(r'[^\\u4e00-\\u9fa5]','',resource_name)\n",
    "    imglist = []\n",
    "    imgs = content_selector.find_all('img')\n",
    "    \n",
    "    \n",
    "    if len(imgs)>=1:\n",
    "        for img in imgs:\n",
    "            img_dict = img.attrs\n",
    "            if 'data-type' in img_dict:\n",
    "                if 'gif' in img_dict['data-type']:\n",
    "                    continue\n",
    "                else:\n",
    "                    if 'data-src' in img_dict:\n",
    "                        imglist.append(img_dict['data-src'])\n",
    "                    elif 'src' in img_dict:\n",
    "                        imglist.append(img_dict['src'])\n",
    "    return resource_name,content,imglist"
   ]
  },
  {
   "cell_type": "code",
   "execution_count": 152,
   "metadata": {},
   "outputs": [],
   "source": [
    "r,c,i = get_resource_content_for_wx('https://mp.weixin.qq.com/s/BowMr0k90t8psMKEWMmshQ',driver,wx_rules)"
   ]
  },
  {
   "cell_type": "code",
   "execution_count": 153,
   "metadata": {},
   "outputs": [
    {
     "data": {
      "text/plain": [
       "'齐鲁晚报'"
      ]
     },
     "execution_count": 153,
     "metadata": {},
     "output_type": "execute_result"
    }
   ],
   "source": [
    "r"
   ]
  },
  {
   "cell_type": "code",
   "execution_count": 154,
   "metadata": {},
   "outputs": [
    {
     "data": {
      "text/plain": [
       "'\\n齐鲁晚报官方微信根据各地市卫健委官网信息整理，每天实时更新，敬请关注齐鲁晚报官方微信实时查看。备注：各地市确诊病例详情，可在后台回复“地市名＋确诊”查看，例如：“济南确诊”、“青岛确诊”、“日照确诊”）临沂确诊病例详情如下：2月19日2020年2月19日12—24时，临沂市新增新型冠状病毒肺炎确诊病例1例，治愈出院4例。新增确诊病例为：病例49号：患者彭某某，女，60岁，临沂市沂水县人，家居沂水县院东头镇姚店子村，有疑似病例密切接触史，无武汉旅居史。在隔离观察期间经实验室检测新型冠状病毒核酸为阳性，立即被定点医疗机构隔离治疗，2月19日由疑似病例确诊为新冠肺炎病例，临床普通型，无基础性疾病。正在隔离治疗。截至2月19日24时，临沂市累计确诊病例49例，治愈出院41例。各县区累计确诊病例为兰山区18例、郯城县5例、莒南县6例、平邑县4例、沂南县4例、沂水县4例、费县3例、河东区2例、临沭县2例、兰陵县1例。（省卫生健康委按病例确诊时医院所在县区公布的河东区12例确诊病例，为兰山区6例、河东区2例、郯城县2例、莒南县1例、沂水县1例）。目前累计追踪到密切接触者1433人，共解除医学观察1312人。2月18日2020年2月17日12—24时，临沂市新增新型冠状病毒肺炎确诊病例1例，治愈出院3例。新增确诊病例为：病例48号：患者赵某某，男，38岁，临沂市莒南县人，工作所在地湖北省武汉市洪山区，家居莒南县十字路镇东赤石沟村，有武汉旅居史。在隔离观察期间经实验室检测新型冠状病毒核酸为阳性（无症状），立即被定点医疗机构隔离治疗，2月17日由疑似病例确诊为新冠肺炎病例，临床轻型，无基础性疾病。正在隔离治疗。\\xa0截至2月17日24时，我市累计确诊病例48例，治愈出院35例，现有疑似病例2例。各县区累计确诊病例为兰山区18例、郯城县5例、莒南县6例、平邑县4例、沂南县4例、沂水县3例、费县3例、河东区2例、临沭县2例、兰陵县1例。疑似病例费县1例、沂水1例。（省卫生健康委按病例确诊时医院所在县区公布的河东区11例确诊病例，为兰山区6例、河东区2例、郯城县2例、莒南县1例）。目前累计追踪到密切接触者1413人，共解除医学观察1245人。2月14日2020年2月13日12—24时，临沂市新增新型冠状病毒肺炎确诊病例2例，疑似病例1例，治愈出院1例。新增确诊病例为——病例46号：患者管某某，女，30岁，临沂市平邑县人，工作所在地湖北省武汉市，家居平邑县柏林镇柏林村，有武汉旅居史。在集中隔离观察期间经实验室检测新型冠状病毒核酸为阳性（无症状感染者），立即被定点医疗机构隔离治疗，2月13日由阳性检测（无症状感染者）确诊为新冠肺炎病例，临床普通型，无基础性疾病。正在隔离治疗。病例47号：患者管某某，男，49岁，临沂市人平邑县人，家居平邑县柏林镇柏林村，与确诊病例有密切接触史，无外地旅居史。在集中隔离观察期间经实验室检测新型冠状病毒核酸为阳性（无症状感染者），立即被定点医疗机构隔离治疗，2月13日由阳性检测（无症状感染者）确诊为新冠肺炎病例，临床普通型。正在隔离治疗。截至2月13日24时，我市累计确诊病例47例，治愈出院13例，现有疑似病例1例。各县区累计确诊病例为兰山区18例、郯城县5例、莒南县5例、平邑县4例、沂南县4例、沂水县3例、费县3例、河东区2例、临沭县2例、兰陵县1例。疑似病例莒南县1例（省卫生健康委按病例确诊时医院所在县区公布的河东区10例确诊病例，为兰山区6例、河东区2例、郯城县2例）。目前累计追踪到密切接触者1374人，共解除医学观察1129人。2月11日2020年2月11日12—24时，临沂市新增新型冠状病毒肺炎确诊病例1例，治愈出院1例。新增确诊病例为——病例45：患者柴某某，男，11岁，山东省临沂市人，在武汉市上小学，系之前确诊病例柴某某之子。1月22日随父母从武汉返回郯城县，现居住于郯城县郯城街道龙域中央小区，1月27日安排到集中隔离点进行医学隔离观察，期间新型冠状病毒核酸检测为阳性，随即被定点医疗机构以疑似病例隔离治疗，2月10日由疑似病例确诊为新冠肺炎病例，临床轻型，无基础性疾病，病情稳定。截至2月11日24时，我市累计确诊病例45例，治愈出院10例。各县区累计确诊病例为兰山区18例、郯城县5例、沂南县4例、莒南县5例、沂水县3例、费县3例、河东区2例、平邑县2例、临沭县2例、兰陵县1例。（省卫生健康委按病例确诊时医院所在县区公布的河东区10例确诊病例，为兰山区6例、河东区2例、郯城县2例）。目前累计追踪到密切接触者1336人，共解除医学观察966人。2月10日2020年2月10日12—24时，我市新增新型冠状病毒肺炎确诊病例2例，治愈出院3例。新增2例确诊病例为：病例43：患者林某某，男，54岁，山东省临沂市人，工作所在地山东省临沂市，家居兰山区柳青街道润园小区，与确诊病例有密切接触，无武汉旅居史。2月10日由疑似病例确诊为新冠肺炎病例，临床普通型，无基础性疾病。正在隔离治疗。病例44：患者陈某，女，34岁，山东省临沂市人，居家无职业，现居住于莒南县坪上镇坪上一村，有武汉旅居史。2月10日由疑似病例确诊为新冠肺炎病例，临床轻型，无基础性疾病。正在隔离治疗。截至2月10日24时，我市累计确诊病例44例，治愈出院9例，现有疑似病例1例。各县区累计确诊病例为兰山区18例、郯城县4例、沂南县4例、莒南县5例、沂水县3例、费县3例、河东区2例、平邑县2例、临沭县2例、兰陵县1例。疑似病例郯城1例。（省卫生健康委按病例确诊时医院所在县区公布的河东区10例确诊病例，为兰山区6例、河东区2例、郯城县2例）。目前累计追踪到密切接触者1324人，共解除医学观察892人2月9日2020年2月9日12—24时，临沂新增2例。病例41：患者孟某某，女，40岁，山东省临沂市人，家居临沂市兰山区市水利局家属院，有武汉人员密切接触史，2月9日确定为新冠肺炎确诊病例，临床分型为轻型，正在隔离治疗。病例42：患者孟某某，女，38岁，山东省临沂市人，家居临沂市兰山区五大道住宅区，与确诊病例有密切接触史，2月9日确定为新冠肺炎确诊病例，临床分型为轻型，正在隔离治疗。2月8日2020年2月8日0—12时，临沂新增新型冠状病毒肺炎确诊病例2例，累计确诊病例40例，现有疑似病例5例。各县区累计确诊病例为兰山区15例、郯城县4例、沂南县4例、莒南县4例、沂水县3例、费县3例、河东区2例、临沭县2例、兰陵县1例、平邑县2例。疑似病例兰山区3例、莒南县1例、郯城县1例。（省卫生健康委按病例确诊时医院所在县区公布的河东区10例确诊病例，为兰山区6例、河东区2例、郯城县2例）。新增2例确诊病例为：病例39：患者李某某，男，72岁，居住于兰山区银雀山街道，有外地市确诊病例密切接触史。反复出现发烧、胸闷憋喘等症状，到定点医疗机构就诊随即被隔离治疗。经实验室检测，新型冠状病毒核酸为阳性，目前病情稳定。病例40：患者陈某某，男，56岁，居住于莒南县坪上镇，有武汉返乡确诊病例密切接触史。在隔离观察期间出现发热等症状，随即被120专车接至定点医疗机构隔离治疗。经实验室检测，新型冠状病毒核酸为阳性，目前病情稳定。目前累计追踪到密切接触者1177人，共解除医学观察431人，治愈出院3例。2月7日2020年2月7日12—24时，临沂新增新型冠状病毒感染的肺炎确诊病例3例，累计确诊病例38例，疑似病例7例。各县区累计确诊病例为兰山区14例、郯城县4例、沂水县3例、费县3例、河东区2例、莒南县3例、临沭县2例、沂南县4例、兰陵县1例、平邑县2例。疑似病例兰山区4例、莒南县2例、郯城县1例。（省卫生健康委按病例确诊时医院所在县区公布的河东区9例确诊病例，为兰山区5例、河东区2例、郯城县2例）。新增3例确诊病例为——病例36：患者李某某，男，6岁，居住于沂南县铜井镇。与父母从武汉返回沂南，在隔离观察期间出现发热、咽痛等症状，随即被定点医疗机构隔离治疗。经实验室检测，新型冠状病毒核酸为阳性，目前病情稳定。病例37：患者胡某某，男，40岁，居住于兰山区金雀山街道。为密切接触者发病。在隔离观察期间出现发热、咽痛等症状，随即被定点医疗机构隔离治疗。经实验室检测，新型冠状病毒核酸为阳性，目前病情稳定。病例38：患者王某某，男，32岁，籍贯莒南县板泉镇，有武汉居住史。自武汉返回莒南，在隔离观察期间出现发热等症状，随即被定点医疗机构隔离治疗。经实验室检测，新型冠状病毒核酸为阳性，目前病情稳定。目前累计追踪到密切接触者1177人，共解除医学观察 431人，治愈出院3例。2月6日2020年2月6日12—24时，临沂市新增新型冠状病毒感染的肺炎确诊病例3例，累计确诊病例35例，疑似病例7例。各县区累计确诊病例为兰山区13例、郯城县4例、沂水县3例、费县3例、河东区2例、莒南县2例、临沭县2例、沂南县3例、兰陵县1例、平邑县2例。疑似病例沂南县1例、兰山区3例、莒南县2例、河东区1例。（省卫生健康委按病例确诊时医院所在县区公布的河东区8例确诊病例，为兰山区4例、河东区2例、郯城县2例）。新增3例确诊病例为：病例33:患者庞某，男，33岁，居住于郯城县泉源乡。1月19日从武汉返回郯城，在隔离观察期间出现发烧等症状，随即被定点医疗机构隔离治疗。经实验室检测，新型冠状病毒核酸为阳性，目前病情稳定。病例34：患者周某某，女，33岁，居住于沂南县铜井镇，为确诊病例李某妻子。1月21日从武汉返回沂南，在隔离观察期间出现咳嗽等症状，随即被定点医疗机构隔离治疗。经实验室检测，新型冠状病毒核酸为阳性，目前病情稳定。病例35：患者陈某某，女，75岁，为确诊病例管某某妻子。居住于平邑县柏林镇。在隔离观察期间出现咳嗽等症状，随即被定点医疗机构隔离治疗。经实验室检测，新型冠状病毒核酸为阳性，目前状况稳定。目前累计追踪到密切接触者1078人，共解除医学观察315人，治愈出院3例。2月5日2020年2月5日12—24时，我市新增新型冠状病毒感染的肺炎确诊病例2例，累计确诊病例32例，疑似病例5例。各县区累计确诊病例为兰山区13例、郯城县3例、沂水县3例、费县3例、河东区2例、莒南县2例、临沭县2例、沂南县2例、兰陵县1例、平邑县1例。疑似病例沂南县2例、兰山区1例、郯城县1例、莒南县1例。（省卫生健康委按病例确诊时医院所在县区公布的河东区8例确诊病例，为兰山区4例、河东区2例、郯城县2例）。新增2例确诊病例为：病例31：患者王某某，男，63岁，居住于兰山区兰山街道，为傅某某的密切接触者。在隔离观察期间出现发热等症状，随即被定点医疗机构隔离治疗。经实验室检测，新型冠状病毒核酸为阳性，目前病情稳定。病例32：患者李某，男，32岁，居住于沂南县铜井镇。1月21日从武汉返回沂南，在隔离观察期间出现干咳等症状，随即被定点医疗机构隔离治疗。经实验室检测，新型冠状病毒核酸为阳性，目前病情稳定。目前累计追踪到密切接触者985人，共解除医学观察 183人，治愈出院1例。2月4日2020年2月4日0—12时，我市新增新型冠状病毒感染的肺炎确诊病例1例，累计确诊病例28例，疑似病例6例。各县区累计确诊病例为兰山区11例、郯城县3例、费县3例、河东区2例、沂水县2例、莒南县2例、临沭县2例、沂南县1例、兰陵县1例、平邑县1例。疑似病例沂南县3例、兰山区1例、郯城县1例、沂水县1例。（省卫生健康委按病例确诊时医院所在县区公布的河东区7例确诊病例，为兰山区3例、河东区2例、郯城县2例）。新增1例确诊病例为：病例28：患者管某某，男，79岁，居住于平邑县柏林镇，有与武汉返乡人员密切接触史。2月2日出现发热症状，到医疗机构就诊后随即被隔离治疗。经实验室检测，新型冠状病毒核酸为阳性，目前病情稳定。目前累计追踪到密切接触者715人，共解除医学观察 79人，治愈出院1例。2020年2月4日12—24时，临沂市新增新型冠状病毒感染的肺炎确诊病例2例，累计确诊病例30例，疑似病例6例。各县区累计确诊病例为兰山区12例、郯城县3例、费县3例、河东区2例、沂水县3例、莒南县2例、临沭县2例、沂南县1例、兰陵县1例、平邑县1例。疑似病例沂南县3例、兰山区1例、郯城县1例、莒南县1例。（省卫生健康委按病例确诊时医院所在县区公布的河东区8例确诊病例，为兰山区4例、河东区2例、郯城县2例）。新增确诊病例为：病例29：患者王某，女，23岁，为傅某某的密切接触者。在隔离观察期间出现发热等症状，随即被定点医疗机构隔离治疗。经实验室检测，新型冠状病毒核酸为阳性，目前病情稳定。病例30：患者武某某，男，24岁，居住于沂水县道托镇。1月20日从武汉返回沂水，在隔离观察期间出现发热、干咳等症状，随即被定点医疗机构隔离治疗。经实验室检测，新型冠状病毒核酸为阳性，目前病情稳定。目前累计追踪到密切接触者853人，共解除医学观察93人，治愈出院1例。2月3日2020年2月3日12—24时，临沂市新增新型冠状病毒感染的肺炎确诊病例2例，累计确诊病例27例，疑似病例6例。各县区累计确诊病例为兰山区11例、郯城县3例、费县3例、河东区2例、沂水县2例、莒南县2例、临沭县2例、沂南县1例、兰陵县1例。疑似病例沂南县3例、兰山区1例、郯城县1例、沂水县1例。（省卫生健康委按病例确诊时医院所在县区公布的河东区7例确诊病例，为兰山区3例、河东区2例、郯城县2例）。新增2例确诊病例为：病例26：患者李某某，男，40岁，居住于临沭县临沭街道，有武汉工作史。1月21日从武汉返回临沭，在隔离观察期间出现发热、头痛等症状，随即被定点医疗机构隔离治疗。经实验室检测，新型冠状病毒核酸为阳性，目前病情稳定。病例27：患者朱某某，男，50岁，居住于兰陵县卞庄街道，有武汉出差史。1月23日从武汉返回兰陵，在隔离观察期间出现发热等症状，随即被定点医疗机构隔离治疗。经实验室检测，新型冠状病毒核酸为阳性，目前病情稳定。目前累计追踪到密切接触者715人，共解除医学观察79人，治愈出院1例。截至2020年2月3日12时，临沂新增新型冠状病毒感染的肺炎确诊病例1例，累计确诊病例25例，疑似病例5例。各县区累计确诊病例为兰山区11例、郯城县3例、费县3例、河东区2例、沂水县2例、莒南县2例、沂南县1例、临沭县1例。疑似病例兰山区1例、郯城县1例、兰陵县1例、沂水县1例、临沭1例。（省卫生健康委按病例确诊时医院所在县区公布的河东区7例确诊病例，为兰山区3例、河东区2例、郯城县2例）。新增1例确诊病例为：病例25：患者王某某，男，2岁9个月，居住于费县探沂镇，1月21日随父母从武汉返回费县。在隔离观察期间出现发热症状，经实验室检测，新型冠状病毒核酸为阳性，目前在定点医疗机构隔离治疗，病情稳定。2月1日截至2020年2月1日24时，我市新增新型冠状病毒感染的肺炎确诊病例1例，累计确诊病例24例，疑似病例7例。各县区累计病例为兰山区11例、郯城县3例、河东区2例、费县2例、沂水县2例、莒南县2例、沂南县1例、临沭县1例。疑似病例兰山区2例、兰陵县1例、沂水县1例、平邑县1例、费县1例、临沭1例。（省卫生健康委按病例确诊时医院所在县区公布的河东区7例确诊病例，为兰山区3例、河东区2例、郯城县2例）。新增1例确诊病例为：病例24：患者林某某，女，47岁，居住于兰山区柳青街道，为1月31日确诊的林某某、郑某某的密切接触者。1月24日出现干咳等症状，2月1日经实验室检测，新型冠状病毒核酸为阳性，目前在定点医疗机构隔离治疗，病情稳定。目前累计追踪到密切接触者675人，当日解除医学观察7人。1月31日截至2020年1月31日12时，临沂市新增新型冠状病毒感染的肺炎确诊病例3例。累计确诊病例23例，疑似病例2例。各县区累计病例为兰山区10例、郯城县3例、河东区2例、费县2例、沂水县2例、莒南县2例、沂南县1例、临沭县1例。疑似病例兰山区1例、平邑县1例。（省卫生健康委按病例确诊时医院所在县区公布的河东区5例确诊病例，现收治于市人民医院东医疗区，其中兰山区3例、郯城县2例）。新增3例确诊病例为：病例23：患者刘某某，男，57岁，籍贯莒南县板泉镇，在武汉工作。1月21日自武汉自驾返回莒南，1月29日出现腹泻等症状，由定点医疗机构120救护车转运收治隔离治疗。经实验室检测，新型冠状病毒核酸为阳性，目前病情稳定。病例22：患者林某某，男，51岁，居住于河东区九曲街道，为1月29日确诊的傅某某的密切接触者。经实验室检测，新型冠状病毒核酸为阳性，目前病情稳定。病例21：患者郑某某，女，49岁，居住于河东区九曲街道，与患者林某某为夫妻关系，为1月29日确诊的傅某某的密切接触者。经实验室检测，新型冠状病毒核酸为阳性，目前病情稳定。目前全市累计追踪到的507名密切接触者，正在接受医学观察。1月30日截至2020年1月30日24时，临沂市新增新型冠状病毒感染的肺炎确诊病例4例。累计确诊病例20例，疑似病例2例。各县区累计病例为兰山区10例、郯城县3例、费县2例、沂水县2例、沂南县1例、莒南县1例、临沭县1例。疑似病例兰山区1例、平邑县1例。（省卫生健康委按病例确诊时医院所在县区公布的河东区5例确诊病例，现收治于市人民医院东医疗区，其中兰山区3例、郯城县2例）。新增4例确诊病例为：病例20：患者沈某某，男，39岁，籍贯江苏省连云港市海州区，在武汉工作。1月20日由武汉自驾到临沭探亲，1月28日出现呕吐、发烧等症状，到定点医疗机构发热门诊就诊随即被隔离。经实验室检测，新型冠状病毒核酸为阳性，目前在定点医疗机构隔离治疗，病情稳定。病例19：患者徐某，男，33岁，现居住于沂水县许家湖镇，1月16-19日在北京、泰安等地参加公司年会，1月20日出现发热、干咳等症状，自行到定点医疗机构发热门诊就诊。经实验室检测，新型冠状病毒核酸为阳性，目前在定点医疗机构隔离治疗，病情稳定。病例18：患者王某某，男，34岁，现居住于兰山区兰山街道，有武汉居住史，1月22日由湖北宜昌返回临沂，1月26日出现发热、干咳等症状，到定点医疗机构就诊。经实验室检测，新型冠状病毒核酸为阳性，目前在定点医疗机构隔离治疗，病情稳定。病例17：患者傅某某，为1月29日确诊的傅某某之子，1月29日，疾控机构到其家开展流调、采样事宜时，发现其有发烧等症状，随即联系定点医疗机构接走隔离。经实验室检测，新型冠状病毒核酸为阳性，目前在定点医疗机构隔离治疗，病情稳定。目前全市累计追踪到的474名密切接触者，正在接受医学观察。1月29日2020年1月29日0时—12时，临沂市新增新型冠状病毒感染的肺炎确诊病例1例。新增1例确诊病例为：病例16：患者傅某某，男，51岁，1月21日出现干咳、发烧症状，1月28日独自到临沂市人民医院东医疗区（河东）发热门诊就诊。经实验室检测，新型冠状病毒核酸为阳性，目前在定点医疗机构隔离治疗，病情稳定。目前全市累计追踪到的316名密切接触者，正在接受医学观察。截至2020年1月28日24时：病例15：患者孙某某，男，41岁，现居住于兰山区银雀山街道，1月19日自驾从武汉回临沂途中出现干咳、发烧症状，1月23日下午到临沂市人民医院东医疗区（河东）发热门诊就诊。经实验室检测，新型冠状病毒核酸为阳性，目前在定点医疗机构隔离治疗，病情稳定。病例14：患者徐某，女，38岁，现居住于兰山区银雀山街道，为患者孙某某的密切接触者，隔离期间1月25日出现咽部不适症状，1月26日出现发烧症状。经实验室检测，新型冠状病毒核酸为阳性，目前在定点医疗机构隔离治疗，病情稳定。病例13：患者王某某，男，34岁，现居住于郯城县马头镇，在武汉市打工，1月20日出现干咳症状，1月22日从武汉返乡，1月26日村委会通知其到定点医疗机构查体随即被隔离。经实验室检测，新型冠状病毒核酸为阳性，目前在定点医疗机构隔离治疗，病情稳定。病例12：患者武某某，女，47岁，现居住于武汉市武昌区，1月23日自驾到沂水探亲，1月26日出现发热、乏力等症状，1月27日到医疗机构发热门诊就诊随即被隔离。经实验室检测，新型冠状病毒核酸为阳性，目前在定点医疗机构隔离治疗，病情稳定。病例11：患者王某某，男，33岁，籍贯费县探沂镇，在武汉工作，1月21日从武汉返乡，1月27日出现发烧症状，由定点医疗机构120救护车转运收治隔离治疗。经实验室检测，新型冠状病毒核酸为阳性，目前病情稳定。病例10：患者邵某，女，32岁，籍贯费县探沂镇，在武汉工作，1月21日从武汉返乡，1月27日出现发烧症状，由定点医疗机构120救护车转运收治隔离治疗。经实验室检测，新型冠状病毒核酸为阳性，目前病情稳定。病例9：患者顾某，男，56岁，籍贯沂南县，在武汉工作，1月18日从武汉返乡，24日出现发烧症状，26日出现咳嗽症状，由定点医疗机构120救护车转运收治隔离治疗。经实验室检测，新型冠状病毒核酸为阳性，目前病情稳定。目前全市累计追踪到的292名密切接触者，正在接受医学观察。1月28日截至2020年1月27日24时，临沂市新增新型冠状病毒感染的肺炎确诊病例1例，疑似病例1例，累计确诊病例8例。其中确诊病例按居住地为兰山区5例、郯城县2例、莒南县1例，平邑县疑似病例1例。病例8：柴某某，男，48岁，现居住于郯城县郯城街道，在武汉经商，1月22日自驾回郯城县家中，1月25日出现发热、干咳、胸闷等症状，后到市人民医院东医疗区（河东）发热门诊就诊，经实验室检测，新型冠状病毒核酸为阳性，目前在定点医疗机构隔离治疗。现已对25名密切接触者开展隔离医学观察。1月26日截至2020年1月26日9时，临沂市新增4例新型冠状病毒感染的肺炎确诊病例，累计确诊病例7例，涉及到兰山区、莒南县、郯城县，其中兰山区5例、莒南县1例、郯城县1例。病例7：患者杜某某，男，34岁，居住于郯城县，有武汉出差史，1月20日出现发热、干咳症状，23日到定点医疗机构发热门诊就诊，经实验室检测，新型冠状病毒核酸为阳性，目前在定点医疗机构隔离治疗。现已对20名密切接触者开展隔离医学观察。病例6：患者刘某某，女，67岁，居住于莒南县，1月14日从湖北省武汉市返回莒南县，出现发烧、嗓子嘶哑等症状，23日到定点医疗机构发热门诊就诊，经实验室检测，新型冠状病毒核酸为阳性，目前在定点医疗机构隔离治疗。现已对7名密切接触者开展隔离医学观察。病例5：患者孙某，男，28岁，籍贯湖北省襄樊市，居住于兰山区柳青街道，经过流行病学调查，患者被判定为第4例患者的病例密切接触者，在隔离观察期间，对其采样筛查，经过实验室检测，新型冠状病毒核酸为阳性，目前在定点医疗机构隔离治疗。现已对2名密切接触者开展隔离医学观察。病例4：患者王某某，女，53岁，籍贯湖北省襄樊市，居住于兰山区柳青街道，经过流行病学调查，患者被判定与24日确诊的第3例患者为病例密切接触者，在隔离观察期间，对其采样筛查，经过实验室检测，新型冠状病毒核酸为阳性，目前在定点医疗机构隔离治疗。现已对36名密切接触者开展隔离医学观察。1月25日病例3：临沂市37岁男性患者，湖北省孝感人，与2020年1月23日我市首次报告的两例患者为亲子关系，经过流行病学调查，患者被判定为病例密切接触者，在隔离观察期间，对其采样筛查，经过实验室检测，新型冠状病毒核酸为阳性，目前在定点医疗机构隔离治疗。现已对其密切接触者开展隔离医学观察。1月23日1月22日0—24时，临沂市首次报告2例确诊病例。病例1、2：两位患者为夫妻关系，女性62岁，男性65岁，均为湖北省孝感市人，退休后到临沂市兰山区柳青街道其儿子家中居住，2019年12月29日，夫妻二人返回湖北老家探亲，2020年1月15日返回临沂。2020年1月21日，夫妻二人因发烧到临沂市人民医院就诊，就诊后被收入院隔离治疗。经省、市疾控机构检测，2名患者新型冠状病毒核酸检测结果为阳性。经专家评估确认，该两病例为新型冠状病毒感染的肺炎确诊病例。目前患者生命体征平稳，6名密切接触者正在接受医学隔离观察，无发热等症状。来源：临沂市卫健委官网\\n'"
      ]
     },
     "execution_count": 154,
     "metadata": {},
     "output_type": "execute_result"
    }
   ],
   "source": [
    "c"
   ]
  },
  {
   "cell_type": "code",
   "execution_count": 248,
   "metadata": {},
   "outputs": [
    {
     "data": {
      "text/html": [
       "<div>\n",
       "<style scoped>\n",
       "    .dataframe tbody tr th:only-of-type {\n",
       "        vertical-align: middle;\n",
       "    }\n",
       "\n",
       "    .dataframe tbody tr th {\n",
       "        vertical-align: top;\n",
       "    }\n",
       "\n",
       "    .dataframe thead th {\n",
       "        text-align: right;\n",
       "    }\n",
       "</style>\n",
       "<table border=\"1\" class=\"dataframe\">\n",
       "  <thead>\n",
       "    <tr style=\"text-align: right;\">\n",
       "      <th></th>\n",
       "      <th>url</th>\n",
       "    </tr>\n",
       "  </thead>\n",
       "  <tbody>\n",
       "    <tr>\n",
       "      <th>0</th>\n",
       "      <td>https://mp.weixin.qq.com/s/HTsNM1zxEAx3IqoF1uYnYA</td>\n",
       "    </tr>\n",
       "    <tr>\n",
       "      <th>1</th>\n",
       "      <td>http://hc.nc.gov.cn/ncwjw/gzdt/202002/b5cf8972...</td>\n",
       "    </tr>\n",
       "    <tr>\n",
       "      <th>2</th>\n",
       "      <td>http://m.ha.bendibao.com/mip/1636.shtm</td>\n",
       "    </tr>\n",
       "    <tr>\n",
       "      <th>3</th>\n",
       "      <td>http://news.gxnews.com.cn/staticpages/20200209...</td>\n",
       "    </tr>\n",
       "    <tr>\n",
       "      <th>4</th>\n",
       "      <td>http://o.xiancity.cn/system/2020/02/09/0307133...</td>\n",
       "    </tr>\n",
       "    <tr>\n",
       "      <th>...</th>\n",
       "      <td>...</td>\n",
       "    </tr>\n",
       "    <tr>\n",
       "      <th>181</th>\n",
       "      <td>https://mp.weixin.qq.com/s/zOGzJVviegMaLRE8tuiLRw</td>\n",
       "    </tr>\n",
       "    <tr>\n",
       "      <th>182</th>\n",
       "      <td>https://weibo.com/7129811001/IrH6peQ3d?from=pa...</td>\n",
       "    </tr>\n",
       "    <tr>\n",
       "      <th>183</th>\n",
       "      <td>https://weibo.com/7129811001/IssWHlJzw?from=pa...</td>\n",
       "    </tr>\n",
       "    <tr>\n",
       "      <th>184</th>\n",
       "      <td>https://weibo.com/7129811001/ItKAzr93p?from=pa...</td>\n",
       "    </tr>\n",
       "    <tr>\n",
       "      <th>185</th>\n",
       "      <td>https://mp.weixin.qq.com/s/URJDtNlB8jOnsmdH17VjXA</td>\n",
       "    </tr>\n",
       "  </tbody>\n",
       "</table>\n",
       "<p>186 rows × 1 columns</p>\n",
       "</div>"
      ],
      "text/plain": [
       "                                                   url\n",
       "0    https://mp.weixin.qq.com/s/HTsNM1zxEAx3IqoF1uYnYA\n",
       "1    http://hc.nc.gov.cn/ncwjw/gzdt/202002/b5cf8972...\n",
       "2               http://m.ha.bendibao.com/mip/1636.shtm\n",
       "3    http://news.gxnews.com.cn/staticpages/20200209...\n",
       "4    http://o.xiancity.cn/system/2020/02/09/0307133...\n",
       "..                                                 ...\n",
       "181  https://mp.weixin.qq.com/s/zOGzJVviegMaLRE8tuiLRw\n",
       "182  https://weibo.com/7129811001/IrH6peQ3d?from=pa...\n",
       "183  https://weibo.com/7129811001/IssWHlJzw?from=pa...\n",
       "184  https://weibo.com/7129811001/ItKAzr93p?from=pa...\n",
       "185  https://mp.weixin.qq.com/s/URJDtNlB8jOnsmdH17VjXA\n",
       "\n",
       "[186 rows x 1 columns]"
      ]
     },
     "execution_count": 248,
     "metadata": {},
     "output_type": "execute_result"
    }
   ],
   "source": [
    "good_url"
   ]
  },
  {
   "cell_type": "code",
   "execution_count": 258,
   "metadata": {},
   "outputs": [],
   "source": [
    "wx_host = 'mp.weixin.qq.com'\n",
    "wx_extract = {\n",
    "    'url':[],\n",
    "    'content':[],\n",
    "    'resource':[],\n",
    "    'imgs_url':[]\n",
    "}\n",
    "# weixin_url = good_url['url'][wx_host in good_url['url']]\n",
    "# weixin_url = good_url['url'][wx_host in good_url['url']]\n",
    "for url in good_url['url']:\n",
    "    if wx_host in url:\n",
    "        wx_extract['url'].append(url)\n",
    "        r,c,i = get_resource_content_for_wx(url,driver,wx_rules)\n",
    "        wx_extract['resource'].append(r)\n",
    "        wx_extract['content'].append(c)\n",
    "        wx_extract['imgs_url'].append(i)\n",
    "        \n",
    "wx_extract = pd.DataFrame(wx_extract)\n",
    "# good_url\n",
    "wx_extract.to_csv('./wx_extract.csv')"
   ]
  },
  {
   "cell_type": "code",
   "execution_count": 259,
   "metadata": {},
   "outputs": [
    {
     "data": {
      "text/html": [
       "<div>\n",
       "<style scoped>\n",
       "    .dataframe tbody tr th:only-of-type {\n",
       "        vertical-align: middle;\n",
       "    }\n",
       "\n",
       "    .dataframe tbody tr th {\n",
       "        vertical-align: top;\n",
       "    }\n",
       "\n",
       "    .dataframe thead th {\n",
       "        text-align: right;\n",
       "    }\n",
       "</style>\n",
       "<table border=\"1\" class=\"dataframe\">\n",
       "  <thead>\n",
       "    <tr style=\"text-align: right;\">\n",
       "      <th></th>\n",
       "      <th>url</th>\n",
       "      <th>content</th>\n",
       "      <th>resource</th>\n",
       "      <th>imgs_url</th>\n",
       "    </tr>\n",
       "  </thead>\n",
       "  <tbody>\n",
       "    <tr>\n",
       "      <th>0</th>\n",
       "      <td>https://mp.weixin.qq.com/s/HTsNM1zxEAx3IqoF1uYnYA</td>\n",
       "      <td>\\n最新消息2月14日上午，省卫健委公布2月13日0－24时肇庆市新增1例新冠肺炎确诊病例。...</td>\n",
       "      <td>健康肇庆</td>\n",
       "      <td>[https://mmbiz.qpic.cn/mmbiz_jpg/z2KVp01hujFYO...</td>\n",
       "    </tr>\n",
       "    <tr>\n",
       "      <th>1</th>\n",
       "      <td>https://mp.weixin.qq.com/s/03w_HdZGypbtAG33jikquw</td>\n",
       "      <td>\\n今天上午，中山市人民政府新闻办公室组织召开市疫情防控工作第14场新闻发布会。市卫生健康局...</td>\n",
       "      <td>中山发布</td>\n",
       "      <td>[https://mmbiz.qpic.cn/mmbiz_jpg/jL1hNwBkicA21...</td>\n",
       "    </tr>\n",
       "    <tr>\n",
       "      <th>2</th>\n",
       "      <td>https://mp.weixin.qq.com/s/0xihh12dgBBxbfozR6fnNg</td>\n",
       "      <td>\\n今天上午，中山市人民政府新闻办公室组织召开市疫情防控工作第23场新闻发布会。市卫生健康局...</td>\n",
       "      <td>中山发布</td>\n",
       "      <td>[https://mmbiz.qpic.cn/mmbiz_png/jL1hNwBkicA29...</td>\n",
       "    </tr>\n",
       "    <tr>\n",
       "      <th>3</th>\n",
       "      <td>https://mp.weixin.qq.com/s/0zzx4G3oUPQmzNk6JTTUzQ</td>\n",
       "      <td>\\n导读2020年1月29日10时至13时30分，辽宁省沈阳市新增1例新型冠状病毒感染的肺炎...</td>\n",
       "      <td>辽沈晚报</td>\n",
       "      <td>[https://mmbiz.qpic.cn/mmbiz_jpg/CJdX9kBRCzBFZ...</td>\n",
       "    </tr>\n",
       "    <tr>\n",
       "      <th>4</th>\n",
       "      <td>https://mp.weixin.qq.com/s/15bQoiHzj8ABrnySvnEtQA</td>\n",
       "      <td>\\n沣西新城一患者被确定为新型冠状病毒感染的肺炎疑似病例。该患者于2020年1月20日在世纪...</td>\n",
       "      <td>咸阳发布</td>\n",
       "      <td>[https://mmbiz.qpic.cn/mmbiz_jpg/MpR6g4hrh5bCP...</td>\n",
       "    </tr>\n",
       "    <tr>\n",
       "      <th>...</th>\n",
       "      <td>...</td>\n",
       "      <td>...</td>\n",
       "      <td>...</td>\n",
       "      <td>...</td>\n",
       "    </tr>\n",
       "    <tr>\n",
       "      <th>150</th>\n",
       "      <td>https://mp.weixin.qq.com/s/yT_I4r6Sc2K3O7-3iAl-mA</td>\n",
       "      <td>\\n广大居民群众：2020年2月4日，临河区确诊1例新型冠状病毒感染的肺炎病例。患者吴某某，...</td>\n",
       "      <td>巴彦淖尔日报</td>\n",
       "      <td>[https://mmbiz.qpic.cn/mmbiz_jpg/NRe6lcV3rlkPg...</td>\n",
       "    </tr>\n",
       "    <tr>\n",
       "      <th>151</th>\n",
       "      <td>https://mp.weixin.qq.com/s/yyeefgne4StL6ZH9mRh80Q</td>\n",
       "      <td>\\n2020年2月8日，江西省卫生健康委发布疫情通报，2020年2月7日0-24时，江西省报...</td>\n",
       "      <td>江西日报</td>\n",
       "      <td>[https://mmbiz.qpic.cn/mmbiz_png/7QRTvkK2qC5or...</td>\n",
       "    </tr>\n",
       "    <tr>\n",
       "      <th>152</th>\n",
       "      <td>https://mp.weixin.qq.com/s/z1mVzAvyEoNiS2s0jsIgQw</td>\n",
       "      <td>\\n广东省新增确诊22例累计确诊1241例据广东省卫健委今日（13日）最新消息：截至2月12...</td>\n",
       "      <td>江门发布</td>\n",
       "      <td>[https://mmbiz.qpic.cn/mmbiz_jpg/ia7E3qMRicX83...</td>\n",
       "    </tr>\n",
       "    <tr>\n",
       "      <th>153</th>\n",
       "      <td>https://mp.weixin.qq.com/s/zOGzJVviegMaLRE8tuiLRw</td>\n",
       "      <td>\\n2020年1月31日，我市确认1例输入性新型冠状病毒感染的肺炎确诊病例。姜某，男，满族，...</td>\n",
       "      <td>辽沈晚报</td>\n",
       "      <td>[https://mmbiz.qpic.cn/mmbiz_jpg/X3BpEU6jNLrdx...</td>\n",
       "    </tr>\n",
       "    <tr>\n",
       "      <th>154</th>\n",
       "      <td>https://mp.weixin.qq.com/s/URJDtNlB8jOnsmdH17VjXA</td>\n",
       "      <td>\\n我省确诊的8例新型冠状病毒感染的肺炎患者与密切接触者医疗救治情况——青海省新型冠状病毒感...</td>\n",
       "      <td>青海日报</td>\n",
       "      <td>[https://mmbiz.qpic.cn/mmbiz_jpg/h6aWoq3mmtubl...</td>\n",
       "    </tr>\n",
       "  </tbody>\n",
       "</table>\n",
       "<p>155 rows × 4 columns</p>\n",
       "</div>"
      ],
      "text/plain": [
       "                                                   url  \\\n",
       "0    https://mp.weixin.qq.com/s/HTsNM1zxEAx3IqoF1uYnYA   \n",
       "1    https://mp.weixin.qq.com/s/03w_HdZGypbtAG33jikquw   \n",
       "2    https://mp.weixin.qq.com/s/0xihh12dgBBxbfozR6fnNg   \n",
       "3    https://mp.weixin.qq.com/s/0zzx4G3oUPQmzNk6JTTUzQ   \n",
       "4    https://mp.weixin.qq.com/s/15bQoiHzj8ABrnySvnEtQA   \n",
       "..                                                 ...   \n",
       "150  https://mp.weixin.qq.com/s/yT_I4r6Sc2K3O7-3iAl-mA   \n",
       "151  https://mp.weixin.qq.com/s/yyeefgne4StL6ZH9mRh80Q   \n",
       "152  https://mp.weixin.qq.com/s/z1mVzAvyEoNiS2s0jsIgQw   \n",
       "153  https://mp.weixin.qq.com/s/zOGzJVviegMaLRE8tuiLRw   \n",
       "154  https://mp.weixin.qq.com/s/URJDtNlB8jOnsmdH17VjXA   \n",
       "\n",
       "                                               content resource  \\\n",
       "0    \\n最新消息2月14日上午，省卫健委公布2月13日0－24时肇庆市新增1例新冠肺炎确诊病例。...     健康肇庆   \n",
       "1    \\n今天上午，中山市人民政府新闻办公室组织召开市疫情防控工作第14场新闻发布会。市卫生健康局...     中山发布   \n",
       "2    \\n今天上午，中山市人民政府新闻办公室组织召开市疫情防控工作第23场新闻发布会。市卫生健康局...     中山发布   \n",
       "3    \\n导读2020年1月29日10时至13时30分，辽宁省沈阳市新增1例新型冠状病毒感染的肺炎...     辽沈晚报   \n",
       "4    \\n沣西新城一患者被确定为新型冠状病毒感染的肺炎疑似病例。该患者于2020年1月20日在世纪...     咸阳发布   \n",
       "..                                                 ...      ...   \n",
       "150  \\n广大居民群众：2020年2月4日，临河区确诊1例新型冠状病毒感染的肺炎病例。患者吴某某，...   巴彦淖尔日报   \n",
       "151  \\n2020年2月8日，江西省卫生健康委发布疫情通报，2020年2月7日0-24时，江西省报...     江西日报   \n",
       "152  \\n广东省新增确诊22例累计确诊1241例据广东省卫健委今日（13日）最新消息：截至2月12...     江门发布   \n",
       "153  \\n2020年1月31日，我市确认1例输入性新型冠状病毒感染的肺炎确诊病例。姜某，男，满族，...     辽沈晚报   \n",
       "154  \\n我省确诊的8例新型冠状病毒感染的肺炎患者与密切接触者医疗救治情况——青海省新型冠状病毒感...     青海日报   \n",
       "\n",
       "                                              imgs_url  \n",
       "0    [https://mmbiz.qpic.cn/mmbiz_jpg/z2KVp01hujFYO...  \n",
       "1    [https://mmbiz.qpic.cn/mmbiz_jpg/jL1hNwBkicA21...  \n",
       "2    [https://mmbiz.qpic.cn/mmbiz_png/jL1hNwBkicA29...  \n",
       "3    [https://mmbiz.qpic.cn/mmbiz_jpg/CJdX9kBRCzBFZ...  \n",
       "4    [https://mmbiz.qpic.cn/mmbiz_jpg/MpR6g4hrh5bCP...  \n",
       "..                                                 ...  \n",
       "150  [https://mmbiz.qpic.cn/mmbiz_jpg/NRe6lcV3rlkPg...  \n",
       "151  [https://mmbiz.qpic.cn/mmbiz_png/7QRTvkK2qC5or...  \n",
       "152  [https://mmbiz.qpic.cn/mmbiz_jpg/ia7E3qMRicX83...  \n",
       "153  [https://mmbiz.qpic.cn/mmbiz_jpg/X3BpEU6jNLrdx...  \n",
       "154  [https://mmbiz.qpic.cn/mmbiz_jpg/h6aWoq3mmtubl...  \n",
       "\n",
       "[155 rows x 4 columns]"
      ]
     },
     "execution_count": 259,
     "metadata": {},
     "output_type": "execute_result"
    }
   ],
   "source": [
    "wx_extract"
   ]
  },
  {
   "cell_type": "code",
   "execution_count": 222,
   "metadata": {},
   "outputs": [
    {
     "data": {
      "text/plain": [
       "'https://mp.weixin.qq.com/s/hywpRGEm_OJepGkhPbqYOQ'"
      ]
     },
     "execution_count": 222,
     "metadata": {},
     "output_type": "execute_result"
    }
   ],
   "source": [
    "wx_extract['url'][-1]"
   ]
  },
  {
   "cell_type": "code",
   "execution_count": 215,
   "metadata": {},
   "outputs": [
    {
     "data": {
      "text/plain": [
       "'https://mp.weixin.qq.com/s/0xihh12dgBBxbfozR6fnNg'"
      ]
     },
     "execution_count": 215,
     "metadata": {},
     "output_type": "execute_result"
    }
   ],
   "source": [
    "wx_extract['url'][-1]"
   ]
  },
  {
   "cell_type": "code",
   "execution_count": 216,
   "metadata": {},
   "outputs": [],
   "source": [
    "r,c,i = get_resource_content_for_wx('https://mp.weixin.qq.com/s/0xihh12dgBBxbfozR6fnNg',driver,wx_rules,img_debug=True)"
   ]
  },
  {
   "cell_type": "code",
   "execution_count": 208,
   "metadata": {},
   "outputs": [
    {
     "data": {
      "text/plain": [
       "['__class__',\n",
       " '__contains__',\n",
       " '__delattr__',\n",
       " '__delitem__',\n",
       " '__dir__',\n",
       " '__doc__',\n",
       " '__eq__',\n",
       " '__format__',\n",
       " '__ge__',\n",
       " '__getattribute__',\n",
       " '__getitem__',\n",
       " '__gt__',\n",
       " '__hash__',\n",
       " '__init__',\n",
       " '__init_subclass__',\n",
       " '__iter__',\n",
       " '__le__',\n",
       " '__len__',\n",
       " '__lt__',\n",
       " '__ne__',\n",
       " '__new__',\n",
       " '__reduce__',\n",
       " '__reduce_ex__',\n",
       " '__repr__',\n",
       " '__setattr__',\n",
       " '__setitem__',\n",
       " '__sizeof__',\n",
       " '__str__',\n",
       " '__subclasshook__',\n",
       " 'clear',\n",
       " 'copy',\n",
       " 'fromkeys',\n",
       " 'get',\n",
       " 'items',\n",
       " 'keys',\n",
       " 'pop',\n",
       " 'popitem',\n",
       " 'setdefault',\n",
       " 'update',\n",
       " 'values']"
      ]
     },
     "execution_count": 208,
     "metadata": {},
     "output_type": "execute_result"
    }
   ],
   "source": [
    "dir(i[0])"
   ]
  },
  {
   "cell_type": "code",
   "execution_count": 218,
   "metadata": {},
   "outputs": [
    {
     "data": {
      "text/plain": [
       "<img _width=\"677px\" class=\"rich_pages\" data-ratio=\"0.7479061976549414\" data-s=\"300,640\" data-src=\"https://mmbiz.qpic.cn/mmbiz_png/jL1hNwBkicA290LT2kBRcc6MqLBNz07NZO2S3F4TsfDvDb7GZsNtORcMzptic65PrdEBtkMpRcp69SbxXFrFpKKg/640?wx_fmt=png\" data-type=\"png\" data-w=\"1194\" style=\"\"/>"
      ]
     },
     "execution_count": 218,
     "metadata": {},
     "output_type": "execute_result"
    }
   ],
   "source": [
    "i[0]"
   ]
  },
  {
   "cell_type": "markdown",
   "metadata": {},
   "source": [
    "# 补充预处理－公众号文章迁移替换"
   ]
  },
  {
   "cell_type": "code",
   "execution_count": 243,
   "metadata": {
    "scrolled": true
   },
   "outputs": [],
   "source": [
    "url = 'https://mp.weixin.qq.com/s/hywpRGEm_OJepGkhPbqYOQ'\n",
    "driver.get(url)\n",
    "sleep(0.5)\n",
    "html =  driver.page_source\n",
    "soup = BeautifulSoup(html, 'lxml')\n",
    "r = soup.find_all(attrs={'id': 'js_access_msg'})"
   ]
  },
  {
   "cell_type": "code",
   "execution_count": 246,
   "metadata": {},
   "outputs": [
    {
     "data": {
      "text/plain": [
       "'http://mp.weixin.qq.com/s?__biz=MzI3NDE1NTQ2NQ==&mid=2247484445&amp;idx=1&amp;sn=ebf7bd5008d7749ed6eed1ab839df87d&source=41#wechat_redirect'"
      ]
     },
     "execution_count": 246,
     "metadata": {},
     "output_type": "execute_result"
    }
   ],
   "source": [
    "r[0]['href']"
   ]
  },
  {
   "cell_type": "code",
   "execution_count": 252,
   "metadata": {},
   "outputs": [],
   "source": [
    "olds = []\n",
    "news = []\n",
    "n = len(good_url['url'])\n",
    "for i in range(n):\n",
    "    url = good_url['url'][i]\n",
    "    old = url\n",
    "    new_url = ''\n",
    "    if wx_host in url:\n",
    "        driver.get(url)\n",
    "        try:\n",
    "            html =  driver.page_source\n",
    "        except Expection as e:\n",
    "            pass\n",
    "        soup = BeautifulSoup(html, 'lxml')\n",
    "        r = soup.find_all(attrs={'id': 'js_access_msg'})\n",
    "        if r != []:\n",
    "            good_url['url'][i] = r[0]['href']\n",
    "            olds.append(old)\n",
    "            news.append(new)"
   ]
  },
  {
   "cell_type": "code",
   "execution_count": null,
   "metadata": {},
   "outputs": [],
   "source": [
    "# 2条迁徙了！"
   ]
  },
  {
   "cell_type": "code",
   "execution_count": 257,
   "metadata": {},
   "outputs": [],
   "source": [
    "good_url.to_csv('good_url_5.1.csv')"
   ]
  },
  {
   "cell_type": "code",
   "execution_count": 263,
   "metadata": {},
   "outputs": [
    {
     "data": {
      "text/html": [
       "<div>\n",
       "<style scoped>\n",
       "    .dataframe tbody tr th:only-of-type {\n",
       "        vertical-align: middle;\n",
       "    }\n",
       "\n",
       "    .dataframe tbody tr th {\n",
       "        vertical-align: top;\n",
       "    }\n",
       "\n",
       "    .dataframe thead th {\n",
       "        text-align: right;\n",
       "    }\n",
       "</style>\n",
       "<table border=\"1\" class=\"dataframe\">\n",
       "  <thead>\n",
       "    <tr style=\"text-align: right;\">\n",
       "      <th></th>\n",
       "      <th>url</th>\n",
       "      <th>content</th>\n",
       "      <th>resource</th>\n",
       "      <th>imgs_url</th>\n",
       "    </tr>\n",
       "  </thead>\n",
       "  <tbody>\n",
       "    <tr>\n",
       "      <th>0</th>\n",
       "      <td>https://mp.weixin.qq.com/s/HTsNM1zxEAx3IqoF1uYnYA</td>\n",
       "      <td>\\n最新消息2月14日上午，省卫健委公布2月13日0－24时肇庆市新增1例新冠肺炎确诊病例。...</td>\n",
       "      <td>健康肇庆</td>\n",
       "      <td>[https://mmbiz.qpic.cn/mmbiz_jpg/z2KVp01hujFYO...</td>\n",
       "    </tr>\n",
       "    <tr>\n",
       "      <th>1</th>\n",
       "      <td>https://mp.weixin.qq.com/s/03w_HdZGypbtAG33jikquw</td>\n",
       "      <td>\\n今天上午，中山市人民政府新闻办公室组织召开市疫情防控工作第14场新闻发布会。市卫生健康局...</td>\n",
       "      <td>中山发布</td>\n",
       "      <td>[https://mmbiz.qpic.cn/mmbiz_jpg/jL1hNwBkicA21...</td>\n",
       "    </tr>\n",
       "    <tr>\n",
       "      <th>2</th>\n",
       "      <td>https://mp.weixin.qq.com/s/0xihh12dgBBxbfozR6fnNg</td>\n",
       "      <td>\\n今天上午，中山市人民政府新闻办公室组织召开市疫情防控工作第23场新闻发布会。市卫生健康局...</td>\n",
       "      <td>中山发布</td>\n",
       "      <td>[https://mmbiz.qpic.cn/mmbiz_png/jL1hNwBkicA29...</td>\n",
       "    </tr>\n",
       "    <tr>\n",
       "      <th>3</th>\n",
       "      <td>https://mp.weixin.qq.com/s/0zzx4G3oUPQmzNk6JTTUzQ</td>\n",
       "      <td>\\n导读2020年1月29日10时至13时30分，辽宁省沈阳市新增1例新型冠状病毒感染的肺炎...</td>\n",
       "      <td>辽沈晚报</td>\n",
       "      <td>[https://mmbiz.qpic.cn/mmbiz_jpg/CJdX9kBRCzBFZ...</td>\n",
       "    </tr>\n",
       "    <tr>\n",
       "      <th>4</th>\n",
       "      <td>https://mp.weixin.qq.com/s/15bQoiHzj8ABrnySvnEtQA</td>\n",
       "      <td>\\n沣西新城一患者被确定为新型冠状病毒感染的肺炎疑似病例。该患者于2020年1月20日在世纪...</td>\n",
       "      <td>咸阳发布</td>\n",
       "      <td>[https://mmbiz.qpic.cn/mmbiz_jpg/MpR6g4hrh5bCP...</td>\n",
       "    </tr>\n",
       "    <tr>\n",
       "      <th>...</th>\n",
       "      <td>...</td>\n",
       "      <td>...</td>\n",
       "      <td>...</td>\n",
       "      <td>...</td>\n",
       "    </tr>\n",
       "    <tr>\n",
       "      <th>150</th>\n",
       "      <td>https://mp.weixin.qq.com/s/yT_I4r6Sc2K3O7-3iAl-mA</td>\n",
       "      <td>\\n广大居民群众：2020年2月4日，临河区确诊1例新型冠状病毒感染的肺炎病例。患者吴某某，...</td>\n",
       "      <td>巴彦淖尔日报</td>\n",
       "      <td>[https://mmbiz.qpic.cn/mmbiz_jpg/NRe6lcV3rlkPg...</td>\n",
       "    </tr>\n",
       "    <tr>\n",
       "      <th>151</th>\n",
       "      <td>https://mp.weixin.qq.com/s/yyeefgne4StL6ZH9mRh80Q</td>\n",
       "      <td>\\n2020年2月8日，江西省卫生健康委发布疫情通报，2020年2月7日0-24时，江西省报...</td>\n",
       "      <td>江西日报</td>\n",
       "      <td>[https://mmbiz.qpic.cn/mmbiz_png/7QRTvkK2qC5or...</td>\n",
       "    </tr>\n",
       "    <tr>\n",
       "      <th>152</th>\n",
       "      <td>https://mp.weixin.qq.com/s/z1mVzAvyEoNiS2s0jsIgQw</td>\n",
       "      <td>\\n广东省新增确诊22例累计确诊1241例据广东省卫健委今日（13日）最新消息：截至2月12...</td>\n",
       "      <td>江门发布</td>\n",
       "      <td>[https://mmbiz.qpic.cn/mmbiz_jpg/ia7E3qMRicX83...</td>\n",
       "    </tr>\n",
       "    <tr>\n",
       "      <th>153</th>\n",
       "      <td>https://mp.weixin.qq.com/s/zOGzJVviegMaLRE8tuiLRw</td>\n",
       "      <td>\\n2020年1月31日，我市确认1例输入性新型冠状病毒感染的肺炎确诊病例。姜某，男，满族，...</td>\n",
       "      <td>辽沈晚报</td>\n",
       "      <td>[https://mmbiz.qpic.cn/mmbiz_jpg/X3BpEU6jNLrdx...</td>\n",
       "    </tr>\n",
       "    <tr>\n",
       "      <th>154</th>\n",
       "      <td>https://mp.weixin.qq.com/s/URJDtNlB8jOnsmdH17VjXA</td>\n",
       "      <td>\\n我省确诊的8例新型冠状病毒感染的肺炎患者与密切接触者医疗救治情况——青海省新型冠状病毒感...</td>\n",
       "      <td>青海日报</td>\n",
       "      <td>[https://mmbiz.qpic.cn/mmbiz_jpg/h6aWoq3mmtubl...</td>\n",
       "    </tr>\n",
       "  </tbody>\n",
       "</table>\n",
       "<p>155 rows × 4 columns</p>\n",
       "</div>"
      ],
      "text/plain": [
       "                                                   url  \\\n",
       "0    https://mp.weixin.qq.com/s/HTsNM1zxEAx3IqoF1uYnYA   \n",
       "1    https://mp.weixin.qq.com/s/03w_HdZGypbtAG33jikquw   \n",
       "2    https://mp.weixin.qq.com/s/0xihh12dgBBxbfozR6fnNg   \n",
       "3    https://mp.weixin.qq.com/s/0zzx4G3oUPQmzNk6JTTUzQ   \n",
       "4    https://mp.weixin.qq.com/s/15bQoiHzj8ABrnySvnEtQA   \n",
       "..                                                 ...   \n",
       "150  https://mp.weixin.qq.com/s/yT_I4r6Sc2K3O7-3iAl-mA   \n",
       "151  https://mp.weixin.qq.com/s/yyeefgne4StL6ZH9mRh80Q   \n",
       "152  https://mp.weixin.qq.com/s/z1mVzAvyEoNiS2s0jsIgQw   \n",
       "153  https://mp.weixin.qq.com/s/zOGzJVviegMaLRE8tuiLRw   \n",
       "154  https://mp.weixin.qq.com/s/URJDtNlB8jOnsmdH17VjXA   \n",
       "\n",
       "                                               content resource  \\\n",
       "0    \\n最新消息2月14日上午，省卫健委公布2月13日0－24时肇庆市新增1例新冠肺炎确诊病例。...     健康肇庆   \n",
       "1    \\n今天上午，中山市人民政府新闻办公室组织召开市疫情防控工作第14场新闻发布会。市卫生健康局...     中山发布   \n",
       "2    \\n今天上午，中山市人民政府新闻办公室组织召开市疫情防控工作第23场新闻发布会。市卫生健康局...     中山发布   \n",
       "3    \\n导读2020年1月29日10时至13时30分，辽宁省沈阳市新增1例新型冠状病毒感染的肺炎...     辽沈晚报   \n",
       "4    \\n沣西新城一患者被确定为新型冠状病毒感染的肺炎疑似病例。该患者于2020年1月20日在世纪...     咸阳发布   \n",
       "..                                                 ...      ...   \n",
       "150  \\n广大居民群众：2020年2月4日，临河区确诊1例新型冠状病毒感染的肺炎病例。患者吴某某，...   巴彦淖尔日报   \n",
       "151  \\n2020年2月8日，江西省卫生健康委发布疫情通报，2020年2月7日0-24时，江西省报...     江西日报   \n",
       "152  \\n广东省新增确诊22例累计确诊1241例据广东省卫健委今日（13日）最新消息：截至2月12...     江门发布   \n",
       "153  \\n2020年1月31日，我市确认1例输入性新型冠状病毒感染的肺炎确诊病例。姜某，男，满族，...     辽沈晚报   \n",
       "154  \\n我省确诊的8例新型冠状病毒感染的肺炎患者与密切接触者医疗救治情况——青海省新型冠状病毒感...     青海日报   \n",
       "\n",
       "                                              imgs_url  \n",
       "0    [https://mmbiz.qpic.cn/mmbiz_jpg/z2KVp01hujFYO...  \n",
       "1    [https://mmbiz.qpic.cn/mmbiz_jpg/jL1hNwBkicA21...  \n",
       "2    [https://mmbiz.qpic.cn/mmbiz_png/jL1hNwBkicA29...  \n",
       "3    [https://mmbiz.qpic.cn/mmbiz_jpg/CJdX9kBRCzBFZ...  \n",
       "4    [https://mmbiz.qpic.cn/mmbiz_jpg/MpR6g4hrh5bCP...  \n",
       "..                                                 ...  \n",
       "150  [https://mmbiz.qpic.cn/mmbiz_jpg/NRe6lcV3rlkPg...  \n",
       "151  [https://mmbiz.qpic.cn/mmbiz_png/7QRTvkK2qC5or...  \n",
       "152  [https://mmbiz.qpic.cn/mmbiz_jpg/ia7E3qMRicX83...  \n",
       "153  [https://mmbiz.qpic.cn/mmbiz_jpg/X3BpEU6jNLrdx...  \n",
       "154  [https://mmbiz.qpic.cn/mmbiz_jpg/h6aWoq3mmtubl...  \n",
       "\n",
       "[155 rows x 4 columns]"
      ]
     },
     "execution_count": 263,
     "metadata": {},
     "output_type": "execute_result"
    }
   ],
   "source": [
    "wx_extract"
   ]
  },
  {
   "cell_type": "code",
   "execution_count": 262,
   "metadata": {},
   "outputs": [
    {
     "data": {
      "text/plain": [
       "False"
      ]
     },
     "execution_count": 262,
     "metadata": {},
     "output_type": "execute_result"
    }
   ],
   "source": [
    "wx_extract['content'].isnull().any()"
   ]
  },
  {
   "cell_type": "markdown",
   "metadata": {},
   "source": [
    "# 微博模板"
   ]
  },
  {
   "cell_type": "code",
   "execution_count": 299,
   "metadata": {},
   "outputs": [],
   "source": [
    "# 探索-电脑端\n",
    "url = 'https://weibo.com/7129811001/ItKAzr93p?from=page_1002067129811001_profile&wvr=6&mod=weibotime&type=comment#_rnd1581676145115'\n",
    "# site = re.search(r'(https*://)(.+?)(/)',url).group(2)\n",
    "# 用引擎\n",
    "driver.get(url)\n",
    "# sleep(0.2)\n",
    "# try:\n",
    "html =  driver.page_source\n",
    "# except Expection as e:\n",
    "#     return '',''\n",
    "# soup = etree.HTML(html)\n",
    "# name = soup.xpath('//*[@id=\"js_name\"]')\n",
    "# content = soup.xpath('//*[@id=\"js_content\"]')\n",
    "# soup = BeautifulSoup(html, 'html.parser')\n",
    "# sn,sc = ['#Pl_Official_WeiboDetail__59 > div > div > div > div.WB_feed_detail.clearfix > div.WB_detail > div.WB_info > a.W_f14.W_fb.S_txt1','#js_content']\n",
    "# resource_name = soup.select(sn)\n",
    "# content_selector = soup.select(sc)[0]\n",
    "# content = content_selector.get_text()\n",
    "# resource_name = resource_name[0].get_text()\n",
    "soup = BeautifulSoup(html, 'lxml')\n",
    "# r = soup.find_all(attrs={'class': 'WB_info'})\n",
    "# resource_name = r[0].find_all(attrs={'class': 'W_f14 W_fb S_txt1'})[0].text\n",
    "# resource_name = re.sub(r'[^\\u4e00-\\u9fa5]','',resource_name)\n",
    "c = soup.find_all(attrs={'class': 'WB_text W_f14'})\n",
    "content = c[0].text\n",
    "sname = c[0].attrs['nick-name']\n",
    "# img_list = []\n",
    "# imgs = soup.select(sc)[0].find_all('img')\n",
    "# if len(img)>=1:\n",
    "#     for img in imgs:\n",
    "#         if img['data-type']!='gif':\n",
    "# #             print('add.')\n",
    "#             img_list.append(img['data-src']) \n",
    "    \n",
    "    \n",
    "# imglist = []\n",
    "# imgs = content_selector.find_all('img')\n",
    "# if len(imgs)>=1:\n",
    "#     for img in imgs:\n",
    "# #         if img['data-type'] !='gif':\n",
    "#         imglist.append(img['data-src'])"
   ]
  },
  {
   "cell_type": "code",
   "execution_count": 300,
   "metadata": {},
   "outputs": [
    {
     "data": {
      "text/plain": [
       "'\\n#联防联控 高陵在行动# 紧急扩散【通 告】西安市高陵区新型冠状病毒感染的肺炎疫情防控指挥部对一名新冠肺炎患者进行流行病学调查追踪时发现,该患者2020年1月16日11:00左右，从高陵区高交路口乘坐109路公交车前往龙发时代广场购物，期间在三楼童装区和四楼购买衣服，停留2个多小时；于13:00从五号公馆西门乘坐109路公交车到高交路口。1月23日18:00左右，该患者到高陵区北环城路好家浴池淋浴，约1小时。现提醒有以上共同出行史及生活轨迹的人员，请您第一时间主动与所在地街办卫生院或社区卫生服务中心联系，配合做好医学观察。若有发热、干咳、乏力等症状，请佩戴口罩及时到就近的定点发热门诊就诊。请在就诊时，不要乘坐公共交通工具，不要进入人群密集场所。咨询电话：029-86093017\\xa0\\xa0\\xa0\\xa0\\xa0\\xa0\\xa0\\xa0\\xa0\\xa0\\xa0西安市高陵区新型冠状病毒感染的\\xa0\\xa0\\xa0\\xa0\\xa0\\xa0\\xa0\\xa0\\xa0\\xa0\\xa0\\xa0\\xa0\\xa0\\xa0\\xa0\\xa0\\xa0\\xa0\\xa0\\xa0\\xa0\\xa0\\xa0肺炎疫情防控指挥部\\xa0\\xa0\\xa0\\xa0\\xa0\\xa0\\xa0\\xa0\\xa0\\xa0\\xa0\\xa0\\xa0\\xa0\\xa0\\xa0\\xa0\\xa0\\xa0\\xa0\\xa0\\xa0\\xa0\\xa0\\xa0\\xa0\\xa0\\xa0\\xa02020年2月10日                                            '"
      ]
     },
     "execution_count": 300,
     "metadata": {},
     "output_type": "execute_result"
    }
   ],
   "source": [
    "content"
   ]
  },
  {
   "cell_type": "code",
   "execution_count": 303,
   "metadata": {},
   "outputs": [],
   "source": [
    "# 探索-电脑端\n",
    "url = 'https://weibo.com/7129811001/IrH6peQ3d?from=page_1002067129811001_profile&wvr=6&mod=weibotime&type=comment#_rnd1581676880432'\n",
    "# site = re.search(r'(https*://)(.+?)(/)',url).group(2)\n",
    "# 用引擎\n",
    "driver.get(url)\n",
    "# sleep(0.2)\n",
    "# try:\n",
    "html =  driver.page_source\n",
    "# except Expection as e:\n",
    "#     return '',''\n",
    "# soup = etree.HTML(html)\n",
    "# name = soup.xpath('//*[@id=\"js_name\"]')\n",
    "# content = soup.xpath('//*[@id=\"js_content\"]')\n",
    "# soup = BeautifulSoup(html, 'html.parser')\n",
    "# sn,sc = ['#Pl_Official_WeiboDetail__59 > div > div > div > div.WB_feed_detail.clearfix > div.WB_detail > div.WB_info > a.W_f14.W_fb.S_txt1','#js_content']\n",
    "# resource_name = soup.select(sn)\n",
    "# content_selector = soup.select(sc)[0]\n",
    "# content = content_selector.get_text()\n",
    "# resource_name = resource_name[0].get_text()\n",
    "soup = BeautifulSoup(html, 'lxml')\n",
    "# r = soup.find_all(attrs={'class': 'WB_info'})\n",
    "# resource_name = r[0].find_all(attrs={'class': 'W_f14 W_fb S_txt1'})[0].text\n",
    "# resource_name = re.sub(r'[^\\u4e00-\\u9fa5]','',resource_name)\n",
    "c = soup.find_all(attrs={'class': 'WB_text'})\n",
    "content = c[0].text\n",
    "sname = c[0].attrs['nick-name']\n",
    "# img_list = []\n",
    "# imgs = soup.select(sc)[0].find_all('img')\n",
    "# if len(img)>=1:\n",
    "#     for img in imgs:\n",
    "#         if img['data-type']!='gif':\n",
    "# #             print('add.')\n",
    "#             img_list.append(img['data-src']) \n",
    "    \n",
    "    \n",
    "# imglist = []\n",
    "# imgs = content_selector.find_all('img')\n",
    "# if len(imgs)>=1:\n",
    "#     for img in imgs:\n",
    "# #         if img['data-type'] !='gif':\n",
    "#         imglist.append(img['data-src'])"
   ]
  },
  {
   "cell_type": "code",
   "execution_count": 305,
   "metadata": {},
   "outputs": [
    {
     "data": {
      "text/plain": [
       "'\\n#联防联控\\xa0\\xa0\\xa0高陵在行动# 【紧急扩散！关于急寻高陵区飘雪理发店顾客的通告】我区日前已确诊的首例新型冠状病毒感染的肺炎女性患者(即前期通告的1月24日109路公交车乘客)，经进一步核查，其曾于1月23日11时至13时，在高陵区鹿鸣西路飘雪理发店理发。请该时段在飘雪理发店出入的人员，第一时间拨打驻地街道卫生院电话或者区卫生健康部门电话（具体号码后附），会有医护人员接您就诊。同时请以上时段理发的顾客家人都暂时不要外出，自觉居家隔离，如有发热等不适症状，亦请立即与区卫生健康部门或驻地街道卫生院联系。联系电话：高陵区医院：86912158高陵区中医医院 ：86913419高陵区疾病预防控制中心：86913369高陵区鹿苑卫生院：15332359498高陵区榆楚卫生院：86090258高陵区崇皇中心卫生院：86040726高陵区姬家卫生院：86068897高陵区泾渭卫生院：86031301高陵区药惠卫生院：86011225高陵区通远卫生院：86083306高陵区湾子中心卫生院：15191842340高陵区张卜中心卫生院：86070623高陵区耿镇卫生院：86060030\\xa0\\xa0\\xa0\\xa0\\xa0\\xa0\\xa0\\xa0\\xa0\\xa0\\xa0\\xa0\\xa0\\xa0\\xa0\\xa0西安市高陵区新型冠状病毒感染的\\xa0\\xa0\\xa0\\xa0\\xa0\\xa0\\xa0\\xa0\\xa0\\xa0\\xa0\\xa0\\xa0\\xa0\\xa0\\xa0\\xa0\\xa0\\xa0\\xa0\\xa0\\xa0\\xa0\\xa0\\xa0\\xa0\\xa0\\xa0\\xa0肺炎疫情防控指挥部\\xa0\\xa0\\xa0\\xa0\\xa0\\xa0\\xa0\\xa0\\xa0\\xa0\\xa0\\xa0\\xa0\\xa0\\xa0\\xa0\\xa0\\xa0\\xa0\\xa0\\xa0\\xa0\\xa0二〇二〇年一月二十八日                                            '"
      ]
     },
     "execution_count": 305,
     "metadata": {},
     "output_type": "execute_result"
    }
   ],
   "source": [
    "content"
   ]
  },
  {
   "cell_type": "code",
   "execution_count": 304,
   "metadata": {},
   "outputs": [
    {
     "data": {
      "text/plain": [
       "'高陵融媒'"
      ]
     },
     "execution_count": 304,
     "metadata": {},
     "output_type": "execute_result"
    }
   ],
   "source": [
    "sname"
   ]
  },
  {
   "cell_type": "code",
   "execution_count": null,
   "metadata": {},
   "outputs": [],
   "source": [
    "# 探索-电脑端\n",
    "url = 'https://weibo.com/7129811001/IrH6peQ3d?from=page_1002067129811001_profile&wvr=6&mod=weibotime&type=comment#_rnd1581676880432'\n",
    "# site = re.search(r'(https*://)(.+?)(/)',url).group(2)\n",
    "# 用引擎\n",
    "driver.get(url)\n",
    "# sleep(0.2)\n",
    "# try:\n",
    "html =  driver.page_source\n",
    "# except Expection as e:\n",
    "#     return '',''\n",
    "# soup = etree.HTML(html)\n",
    "# name = soup.xpath('//*[@id=\"js_name\"]')\n",
    "# content = soup.xpath('//*[@id=\"js_content\"]')\n",
    "# soup = BeautifulSoup(html, 'html.parser')\n",
    "# sn,sc = ['#Pl_Official_WeiboDetail__59 > div > div > div > div.WB_feed_detail.clearfix > div.WB_detail > div.WB_info > a.W_f14.W_fb.S_txt1','#js_content']\n",
    "# resource_name = soup.select(sn)\n",
    "# content_selector = soup.select(sc)[0]\n",
    "# content = content_selector.get_text()\n",
    "# resource_name = resource_name[0].get_text()\n",
    "soup = BeautifulSoup(html, 'lxml')\n",
    "# r = soup.find_all(attrs={'class': 'WB_info'})\n",
    "# resource_name = r[0].find_all(attrs={'class': 'W_f14 W_fb S_txt1'})[0].text\n",
    "# resource_name = re.sub(r'[^\\u4e00-\\u9fa5]','',resource_name)\n",
    "c = soup.find_all(attrs={'class': 'WB_text'})\n",
    "content = c[0].text\n",
    "sname = c[0].attrs['nick-name']\n",
    "# img_list = []\n",
    "# imgs = soup.select(sc)[0].find_all('img')\n",
    "# if len(img)>=1:\n",
    "#     for img in imgs:\n",
    "#         if img['data-type']!='gif':\n",
    "# #             print('add.')\n",
    "#             img_list.append(img['data-src']) \n",
    "    \n",
    "    \n",
    "# imglist = []\n",
    "# imgs = content_selector.find_all('img')\n",
    "# if len(imgs)>=1:\n",
    "#     for img in imgs:\n",
    "# #         if img['data-type'] !='gif':\n",
    "#         imglist.append(img['data-src'])"
   ]
  },
  {
   "cell_type": "code",
   "execution_count": 273,
   "metadata": {
    "scrolled": true
   },
   "outputs": [
    {
     "data": {
      "text/plain": [
       "['__bool__',\n",
       " '__call__',\n",
       " '__class__',\n",
       " '__contains__',\n",
       " '__copy__',\n",
       " '__delattr__',\n",
       " '__delitem__',\n",
       " '__dict__',\n",
       " '__dir__',\n",
       " '__doc__',\n",
       " '__eq__',\n",
       " '__format__',\n",
       " '__ge__',\n",
       " '__getattr__',\n",
       " '__getattribute__',\n",
       " '__getitem__',\n",
       " '__gt__',\n",
       " '__hash__',\n",
       " '__init__',\n",
       " '__init_subclass__',\n",
       " '__iter__',\n",
       " '__le__',\n",
       " '__len__',\n",
       " '__lt__',\n",
       " '__module__',\n",
       " '__ne__',\n",
       " '__new__',\n",
       " '__reduce__',\n",
       " '__reduce_ex__',\n",
       " '__repr__',\n",
       " '__setattr__',\n",
       " '__setitem__',\n",
       " '__sizeof__',\n",
       " '__str__',\n",
       " '__subclasshook__',\n",
       " '__unicode__',\n",
       " '__weakref__',\n",
       " '_all_strings',\n",
       " '_find_all',\n",
       " '_find_one',\n",
       " '_is_xml',\n",
       " '_lastRecursiveChild',\n",
       " '_last_descendant',\n",
       " '_should_pretty_print',\n",
       " 'append',\n",
       " 'attrs',\n",
       " 'can_be_empty_element',\n",
       " 'cdata_list_attributes',\n",
       " 'childGenerator',\n",
       " 'children',\n",
       " 'clear',\n",
       " 'contents',\n",
       " 'decode',\n",
       " 'decode_contents',\n",
       " 'decompose',\n",
       " 'descendants',\n",
       " 'encode',\n",
       " 'encode_contents',\n",
       " 'extend',\n",
       " 'extract',\n",
       " 'fetchNextSiblings',\n",
       " 'fetchParents',\n",
       " 'fetchPrevious',\n",
       " 'fetchPreviousSiblings',\n",
       " 'find',\n",
       " 'findAll',\n",
       " 'findAllNext',\n",
       " 'findAllPrevious',\n",
       " 'findChild',\n",
       " 'findChildren',\n",
       " 'findNext',\n",
       " 'findNextSibling',\n",
       " 'findNextSiblings',\n",
       " 'findParent',\n",
       " 'findParents',\n",
       " 'findPrevious',\n",
       " 'findPreviousSibling',\n",
       " 'findPreviousSiblings',\n",
       " 'find_all',\n",
       " 'find_all_next',\n",
       " 'find_all_previous',\n",
       " 'find_next',\n",
       " 'find_next_sibling',\n",
       " 'find_next_siblings',\n",
       " 'find_parent',\n",
       " 'find_parents',\n",
       " 'find_previous',\n",
       " 'find_previous_sibling',\n",
       " 'find_previous_siblings',\n",
       " 'format_string',\n",
       " 'formatter_for_name',\n",
       " 'get',\n",
       " 'getText',\n",
       " 'get_attribute_list',\n",
       " 'get_text',\n",
       " 'has_attr',\n",
       " 'has_key',\n",
       " 'hidden',\n",
       " 'index',\n",
       " 'insert',\n",
       " 'insert_after',\n",
       " 'insert_before',\n",
       " 'isSelfClosing',\n",
       " 'is_empty_element',\n",
       " 'known_xml',\n",
       " 'name',\n",
       " 'namespace',\n",
       " 'next',\n",
       " 'nextGenerator',\n",
       " 'nextSibling',\n",
       " 'nextSiblingGenerator',\n",
       " 'next_element',\n",
       " 'next_elements',\n",
       " 'next_sibling',\n",
       " 'next_siblings',\n",
       " 'parent',\n",
       " 'parentGenerator',\n",
       " 'parents',\n",
       " 'parserClass',\n",
       " 'parser_class',\n",
       " 'prefix',\n",
       " 'preserve_whitespace_tags',\n",
       " 'prettify',\n",
       " 'previous',\n",
       " 'previousGenerator',\n",
       " 'previousSibling',\n",
       " 'previousSiblingGenerator',\n",
       " 'previous_element',\n",
       " 'previous_elements',\n",
       " 'previous_sibling',\n",
       " 'previous_siblings',\n",
       " 'recursiveChildGenerator',\n",
       " 'renderContents',\n",
       " 'replaceWith',\n",
       " 'replaceWithChildren',\n",
       " 'replace_with',\n",
       " 'replace_with_children',\n",
       " 'select',\n",
       " 'select_one',\n",
       " 'setup',\n",
       " 'smooth',\n",
       " 'string',\n",
       " 'strings',\n",
       " 'stripped_strings',\n",
       " 'text',\n",
       " 'unwrap',\n",
       " 'wrap']"
      ]
     },
     "execution_count": 273,
     "metadata": {},
     "output_type": "execute_result"
    }
   ],
   "source": [
    "dir(r[0])"
   ]
  },
  {
   "cell_type": "code",
   "execution_count": 317,
   "metadata": {},
   "outputs": [],
   "source": [
    "# 探索-手机端\n",
    "url = 'https://m.weibo.cn/status/4469831778965414?'\n",
    "# site = re.search(r'(https*://)(.+?)(/)',url).group(2)\n",
    "# 用引擎\n",
    "driver.get(url)\n",
    "# sleep(0.2)\n",
    "# try:\n",
    "html =  driver.page_source\n",
    "# except Expection as e:\n",
    "#     return '',''\n",
    "# soup = etree.HTML(html)\n",
    "# name = soup.xpath('//*[@id=\"js_name\"]')\n",
    "# content = soup.xpath('//*[@id=\"js_content\"]')\n",
    "soup = BeautifulSoup(html, 'html.parser')\n",
    "# sn,sc = ['#Pl_Official_WeiboDetail__59 > div > div > div > div.WB_feed_detail.clearfix > div.WB_detail > div.WB_info > a.W_f14.W_fb.S_txt1','#js_content']\n",
    "r = soup.select('#app > div.lite-page-wrap > div > div.main > div > div > header > div.m-box-dir.m-box-col.m-box-center > div > a > h3')\n",
    "ren = re.sub(r'[^\\u4e00-\\u9fa5]','',r[0].text)\n",
    "\n",
    "# content_selector = soup.select(sc)[0]\n",
    "# content = content_selector.get_text()\n",
    "# resource_name = resource_name[0].get_text()\n",
    "# soup = BeautifulSoup(html, 'lxml')\n",
    "# r = soup.find_all(attrs={'class': 'WB_info'})\n",
    "# resource_name = r[0].find_all(attrs={'class': 'W_f14 W_fb S_txt1'})[0].text\n",
    "# resource_name = re.sub(r'[^\\u4e00-\\u9fa5]','',resource_name)\n",
    "c = soup.find_all(attrs={'class': 'weibo-text'})\n",
    "content = c[0].text\n",
    "# content = c[0].text\n",
    "# sname = c[0].attrs['nick-name']\n",
    "# img_list = []\n",
    "# imgs = soup.select(sc)[0].find_all('img')\n",
    "# if len(img)>=1:\n",
    "#     for img in imgs:\n",
    "#         if img['data-type']!='gif':\n",
    "# #             print('add.')\n",
    "#             img_list.append(img['data-src']) \n",
    "    \n",
    "    \n",
    "# imglist = []\n",
    "# imgs = content_selector.find_all('img')\n",
    "# if len(imgs)>=1:\n",
    "#     for img in imgs:\n",
    "# #         if img['data-type'] !='gif':\n",
    "#         imglist.append(img['data-src'])"
   ]
  },
  {
   "cell_type": "code",
   "execution_count": 319,
   "metadata": {},
   "outputs": [
    {
     "data": {
      "text/plain": [
       "[<h3 class=\"m-text-cut\">\n",
       "               新浪陕西\n",
       "               <!-- --><i class=\"m-icon m-icon-vipl6\"></i></h3>]"
      ]
     },
     "execution_count": 319,
     "metadata": {},
     "output_type": "execute_result"
    }
   ],
   "source": [
    "r"
   ]
  },
  {
   "cell_type": "code",
   "execution_count": 318,
   "metadata": {},
   "outputs": [
    {
     "data": {
      "text/plain": [
       "'#陕西防控新型肺炎#  【西安小寨银泰城一KFC前台确诊新冠肺炎 活动轨迹公布，急寻相关接触者】雁塔区新型冠状病毒感染的肺炎疫情防控指挥部办公室对一名新型冠状病毒感染的肺炎患者进行流行病学调查追踪时发现，该患者于2020年1月12日乘坐K1131次（4号车厢108座位）从郑州到西安，到西安火车站后于16:00—17:00之间乘坐5路公交车到达西北水电家属院5-2-612。1月13日下午，前往东仪路职工活动中心，来回乘坐204/709路车,电子正街站到电子二路口站，其余时间未外出。1月14日22:00—23:00之间乘坐5路从子午路站至紫薇城市花园站。1月17—25日在KFC朱雀店（小寨银泰城店）前台打工，主要工作为备餐，工作时间为10:00—22:00，每天9:00—10:00乘坐214/709路（电子正街至子午路站），22:00—23:00之间乘坐5路车（子午路至紫薇花园站）返回家中。目前该乘客被确诊为新型冠状病毒感染的肺炎确诊患者。现提醒有以上共同出行史及活动轨迹的人员请注意：1、第一时间主动联系所在街道办（社区）做好报备工作，配合做好居家医学观察14天（自同乘之日算起）。2、居家医学观察期内，实行每日早晚两次体温测试记录，并上报所在街道办及辖区社区卫生服务机构。3、同乘（司机、乘客）及相同轨迹人员如有发热、咳嗽等症状，请及时到发热门诊就诊，就诊过程请全程佩戴口罩，不要乘坐公共交通工具，不要进入人群密集场所。咨询电话：029-89353633雁塔区新型冠状病毒感染的肺炎疫情防控指挥部办公室2020年2月8日 西安 西安'"
      ]
     },
     "execution_count": 318,
     "metadata": {},
     "output_type": "execute_result"
    }
   ],
   "source": [
    "content"
   ]
  },
  {
   "cell_type": "markdown",
   "metadata": {},
   "source": [
    "# weibo_template_sumary"
   ]
  },
  {
   "cell_type": "code",
   "execution_count": 390,
   "metadata": {},
   "outputs": [],
   "source": [
    "def get_resource_content_for_wb(url,driver,img_debug=False):\n",
    "    ''' \n",
    "        input:url,driver  \n",
    "        output:resourceName,text\n",
    "    '''\n",
    "    \n",
    "#     driver.get(url)\n",
    "#     sleep(0.5)\n",
    "#     try:\n",
    "#         html =  driver.page_source\n",
    "#     except Expection as e:\n",
    "#         return '',''\n",
    "    \n",
    "\n",
    "    sname = ''\n",
    "    content = ''\n",
    "    m = 'm.weibo.cn'\n",
    "    p = 'weibo.com'\n",
    "    \n",
    "    # moblie\n",
    "    if m in url:\n",
    "        # 探索-手机端\n",
    "#         url = 'https://m.weibo.cn/status/4469831778965414?'\n",
    "        driver.get(url)\n",
    "        html =  driver.page_source\n",
    "        soup = BeautifulSoup(html, 'html.parser')\n",
    "        r = soup.select('#app > div.lite-page-wrap > div > div.main > div > div > header > div.m-box-dir.m-box-col.m-box-center > div > a > h3')\n",
    "        sname = re.sub(r'[^\\u4e00-\\u9fa5]','',r[0].text)\n",
    "        c = soup.find_all(attrs={'class': 'weibo-text'})\n",
    "        content = c[0].text\n",
    "        \n",
    "    \n",
    "    \n",
    "    # pc\n",
    "    if p in url:\n",
    "       # 探索-电脑端\n",
    "        driver.get(url)\n",
    "        html =  driver.page_source\n",
    "        soup = BeautifulSoup(html, 'lxml')\n",
    "        c = soup.find_all(attrs={'class': 'WB_text'})\n",
    "        content = c[0].text\n",
    "        sname = c[0].attrs['nick-name']\n",
    "        \n",
    "    return sname,content"
   ]
  },
  {
   "cell_type": "code",
   "execution_count": 332,
   "metadata": {},
   "outputs": [],
   "source": [
    "wb_host = 'weibo'\n",
    "\n",
    "wb_extract = {\n",
    "    'url':[],\n",
    "    'content':[],\n",
    "    'resource':[]\n",
    "}\n",
    "\n",
    "\n",
    "for url in good_url['url']:\n",
    "    if wb_host in url:\n",
    "        wb_extract['url'].append(url)\n",
    "        r,c= get_resource_content_for_wb(url,driver)\n",
    "        wb_extract['resource'].append(r)\n",
    "        wb_extract['content'].append(c)\n",
    "#         wx_extract['imgs_url'].append(i)\n",
    "\n",
    "wb_extract = pd.DataFrame(wb_extract)\n",
    "# good_url\n",
    "wb_extract.to_csv('./wb_extract.csv')"
   ]
  },
  {
   "cell_type": "code",
   "execution_count": 341,
   "metadata": {},
   "outputs": [
    {
     "data": {
      "text/html": [
       "<div>\n",
       "<style scoped>\n",
       "    .dataframe tbody tr th:only-of-type {\n",
       "        vertical-align: middle;\n",
       "    }\n",
       "\n",
       "    .dataframe tbody tr th {\n",
       "        vertical-align: top;\n",
       "    }\n",
       "\n",
       "    .dataframe thead th {\n",
       "        text-align: right;\n",
       "    }\n",
       "</style>\n",
       "<table border=\"1\" class=\"dataframe\">\n",
       "  <thead>\n",
       "    <tr style=\"text-align: right;\">\n",
       "      <th></th>\n",
       "      <th>url</th>\n",
       "      <th>content</th>\n",
       "      <th>resource</th>\n",
       "    </tr>\n",
       "  </thead>\n",
       "  <tbody>\n",
       "    <tr>\n",
       "      <th>0</th>\n",
       "      <td>https://m.weibo.cn/2162541102/4469831778965414</td>\n",
       "      <td>#陕西防控新型肺炎#  【西安小寨银泰城一KFC前台确诊新冠肺炎 活动轨迹公布，急寻相关接触...</td>\n",
       "      <td>新浪陕西</td>\n",
       "    </tr>\n",
       "    <tr>\n",
       "      <th>1</th>\n",
       "      <td>https://m.weibo.cn/3757167087/4469821893163355</td>\n",
       "      <td>#联防联控 西安在行动# 【西安一快餐店前台确诊新冠肺炎 活动轨迹公布】雁塔区新型冠状病毒感...</td>\n",
       "      <td>西安发布</td>\n",
       "    </tr>\n",
       "    <tr>\n",
       "      <th>2</th>\n",
       "      <td>https://m.weibo.cn/3757167087/4471457452715962</td>\n",
       "      <td>#联防联控 西安在行动#【速看 | 西安市灞桥区紧急寻人】西安市灞桥区疾病控制中心对一名新冠...</td>\n",
       "      <td>西安发布</td>\n",
       "    </tr>\n",
       "    <tr>\n",
       "      <th>3</th>\n",
       "      <td>https://m.weibo.cn/3757167087/4471458430201395</td>\n",
       "      <td>#联防联控 西安在行动#【紧急扩散！雁塔区2名确诊病例曾在朱雀市场、曲江国际会展中心年货节购...</td>\n",
       "      <td>西安发布</td>\n",
       "    </tr>\n",
       "    <tr>\n",
       "      <th>4</th>\n",
       "      <td>https://m.weibo.cn/detail/4468614512282405</td>\n",
       "      <td>【提醒！运城市稷山县首例确诊患者活动路线公布】2月5日，稷山县新型冠状病毒感染的肺炎疫情防控...</td>\n",
       "      <td>山西青年报</td>\n",
       "    </tr>\n",
       "    <tr>\n",
       "      <th>5</th>\n",
       "      <td>https://weibo.com/7129811001/IrH6peQ3d?from=pa...</td>\n",
       "      <td>\\n#联防联控   高陵在行动# 【紧急扩散！关于急寻高陵区飘雪理发店顾客的通告】我区日前已...</td>\n",
       "      <td>高陵融媒</td>\n",
       "    </tr>\n",
       "    <tr>\n",
       "      <th>6</th>\n",
       "      <td>https://weibo.com/7129811001/IssWHlJzw?from=pa...</td>\n",
       "      <td>\\n                                            ...</td>\n",
       "      <td>高陵融媒</td>\n",
       "    </tr>\n",
       "    <tr>\n",
       "      <th>7</th>\n",
       "      <td>https://weibo.com/7129811001/ItKAzr93p?from=pa...</td>\n",
       "      <td>\\n#联防联控 高陵在行动# 紧急扩散【通 告】西安市高陵区新型冠状病毒感染的肺炎疫情防控指...</td>\n",
       "      <td>高陵融媒</td>\n",
       "    </tr>\n",
       "  </tbody>\n",
       "</table>\n",
       "</div>"
      ],
      "text/plain": [
       "                                                 url  \\\n",
       "0     https://m.weibo.cn/2162541102/4469831778965414   \n",
       "1     https://m.weibo.cn/3757167087/4469821893163355   \n",
       "2     https://m.weibo.cn/3757167087/4471457452715962   \n",
       "3     https://m.weibo.cn/3757167087/4471458430201395   \n",
       "4         https://m.weibo.cn/detail/4468614512282405   \n",
       "5  https://weibo.com/7129811001/IrH6peQ3d?from=pa...   \n",
       "6  https://weibo.com/7129811001/IssWHlJzw?from=pa...   \n",
       "7  https://weibo.com/7129811001/ItKAzr93p?from=pa...   \n",
       "\n",
       "                                             content resource  \n",
       "0  #陕西防控新型肺炎#  【西安小寨银泰城一KFC前台确诊新冠肺炎 活动轨迹公布，急寻相关接触...     新浪陕西  \n",
       "1  #联防联控 西安在行动# 【西安一快餐店前台确诊新冠肺炎 活动轨迹公布】雁塔区新型冠状病毒感...     西安发布  \n",
       "2  #联防联控 西安在行动#【速看 | 西安市灞桥区紧急寻人】西安市灞桥区疾病控制中心对一名新冠...     西安发布  \n",
       "3  #联防联控 西安在行动#【紧急扩散！雁塔区2名确诊病例曾在朱雀市场、曲江国际会展中心年货节购...     西安发布  \n",
       "4  【提醒！运城市稷山县首例确诊患者活动路线公布】2月5日，稷山县新型冠状病毒感染的肺炎疫情防控...    山西青年报  \n",
       "5  \\n#联防联控   高陵在行动# 【紧急扩散！关于急寻高陵区飘雪理发店顾客的通告】我区日前已...     高陵融媒  \n",
       "6  \\n                                            ...     高陵融媒  \n",
       "7  \\n#联防联控 高陵在行动# 紧急扩散【通 告】西安市高陵区新型冠状病毒感染的肺炎疫情防控指...     高陵融媒  "
      ]
     },
     "execution_count": 341,
     "metadata": {},
     "output_type": "execute_result"
    }
   ],
   "source": [
    "wb_extract"
   ]
  },
  {
   "cell_type": "markdown",
   "metadata": {},
   "source": [
    "# 南方都市报"
   ]
  },
  {
   "cell_type": "code",
   "execution_count": 358,
   "metadata": {},
   "outputs": [],
   "source": [
    "\n",
    "url = 'https://m.mp.oeeee.com/a/BAAFRD000020200203257514.html?layer=4&share=chat&isndappinstalled=12'\n",
    "driver.get(url)\n",
    "html =  driver.page_source\n",
    "soup = BeautifulSoup(html, 'lxml')\n",
    "s = soup.find_all(attrs={'class': 'name avatar_click'})\n",
    "sname = s[0].text\n",
    "c = soup.find_all(attrs={'id': 'docContent'})\n",
    "content = c[0].text"
   ]
  },
  {
   "cell_type": "code",
   "execution_count": 360,
   "metadata": {},
   "outputs": [
    {
     "data": {
      "text/plain": [
       "'南都讯\\xa0 2月3日上午，省卫生健康委公布江门市新增1例新型冠状病毒感染的肺炎确诊病例。这是江门市第4例确诊病例，也是开平首例确诊病例。江门市新型冠状病毒感染的肺炎防控指挥部周密部署，经过反复走访，对该例确诊病例密切接触人员进行了细致排查，现将有关情况公布如下。1月21日从武汉回到江门第4例确诊病例姓李，男性，19岁，家住开平市金鸡镇，之前在武汉市江岸区当厨工，1月20日，他与同事、老乡邓某一起驾车，从武汉出发，于1月21日凌晨2时42分到达开平。经过多方走访，了解到李某在开平活动情况：到达开平后，李某与邓某在祥龙中路澳味餐馆吃饭，随后到位于祥龙三区45号的邓某家中短暂休息。6时45分，李某出门搭乘摩托车（车牌JA9G42，车主司徒某）到宝庭园附近下车，于7时18分许坐客车（车牌J42955，司机梁某，当时车上已满座），8时4分到达开平市金鸡镇，9时40分许与母亲等亲人汇合，坐母亲摩托车到金鸡镇圩，李某与3名亲人一起登上台山那扶总站开往长沙车站的客车（车牌J42739，司机关某），10时40分许在长沙车站下车。下车后，李某等4人打滴滴快车（车牌J6M255，车主李某）到长兴路威尼斯沐足店附近下车，步行至步行街龙尾的翠园餐馆，与表伯、表母聚餐。饭后，李某四人步行至益华广场后面的日兴药店约上堂嫂，5人在益华广场的酷宝贝童装店买衣服、在梦幻成真游乐园坐碰碰车。13时45分许，5人离开。李某堂嫂回去上班，李某等四人步行至祥苑路海清甜甜品店吃糖水。15时8分，李某等四人打滴滴快车（车牌J322K1，车主邓某）至长沙车站附近，15时41分许在碧丽宫酒店附近搭乘面包车（车牌JBS418，车主敖某）回金鸡镇。16时28分到达金鸡镇圩后各自回家，李某回家休息。1月22日下午4时，李某到开平市金鸡镇游东田心村，参加同学关某的入伙喜宴，李某坐靠近水塘第二席，同席人员共10人（除李某母亲、妹妹外，还有村民7人）。当晚8时21分许，李某和同学李某至金鸡镇圩搭乘面包车（车牌J78A01，车主池某）到开平市区宝庭园附近下车，在周边闲逛后，于10时2分坐一辆小汽车（车牌J97N89，车主劳某）到花园酒店附近的I DO酒吧饮酒，1月23日凌晨4时25分独自步行到附近的美宜佳超市买烟，3分钟后返回酒吧，于凌晨5时2分与另外两名男子坐出租车（车牌J01B61），到祥和路鱼生粥宵夜档吃宵夜，5时44分许坐出租车（车牌J73K93）至长沙车站，5时59分由长沙车站搭乘往台山市那扶总站的客车（车牌J42739，司机关某）回金鸡镇。期间，李某因睡过头，7时28分许抵达台山市那扶总站后，再于7时31分搭乘同一辆客车回金鸡镇，并于8时15分许抵达金鸡镇下车。随后，李某父亲驾摩托车载李某回家。李某在家休息后，当晚6时到村路边小卖部玩乐至当晚9时30分许回家。1月24日上午李某在家，14时许，李某和其伯父、六叔到自家鱼塘捉鱼，随后回家吃团年饭。当晚9时45分，李某驾摩托车至金鸡镇圩三品三贡奶茶店买奶茶，随后载其堂弟回家。1月25日，李某上午、中午一直在家，14时许到村路边小卖部玩乐，期间回家吃晚饭后继续到小卖部玩乐至1月26日凌晨1时30分许回家。1月26日13时30分许，李某到村路边小卖部玩乐。16时26分，村干部联系李某做好登记和要求戴口罩。随后李某回家，一直居家隔离，每天登记体温和症状，无发热，但少咳。2月1日晚上，经江门市疾病预防控制中心复核结果为新型冠状病毒核酸检测阳性。2月2日，江门市中心医院报告该例新型冠状病毒感染的肺炎病例。目前，患者正在江门市中心医院接受隔离治疗，病情稳定。密切接触者共有10人经过走访、排查，确定患者的密切接触者共有10人。包括李某的父亲、母亲、妹妹、祖母四人；叔叔一家四口；其同事邓某、朋友李某。目前1人在江门市中心医院隔离治疗，其余9人已被送往定点隔离场所进行集中隔离，并进行医学和健康观察，有关信息将第一时间公布。李某的表伯夫妇和堂嫂等其他接触者已实施居家隔离。相关司机、乘客、餐饮、商场等接触人员排查已全面展开，部分人员已找到，严格落实居家隔离。村小组31个村民在村集中隔离有关方面已对李某所居住的村小组共31个村民在村集中隔离，并多次对李某住所及周边、明确前往过的处所等，开展卫生消毒处理。2月1日上午，疾控部门已对患者居住地村小组进行了终末消毒（传染源出院、转移、死亡而离开疫点或终止传染状态后，对疫点进行的一次彻底消毒），以消灭病人所播散的、遗留在居室和各种物体上的存活的病原体，使疫点无害化。按照医疗垃圾处理标准，对李某家庭生活垃圾进行专门处理。江门市新型冠状病毒感染的肺炎防控指挥部再次呼吁，同时段的接触人员，要第一时间报所在社区、村居登记，由各社区、村居向市卫健部门报告并持续跟踪登记人员的身体情况，或致电开平市防疫专线电话（0750-2215899）登记和咨询检测就诊方法，并请自行居家隔离观察14天，坚持每天2次（上下午各1次）测量体温。监测过程中，如发现自己或周边人有异常情况，请立即戴口罩到就近指定的发热门诊检测就诊，尽量不要乘坐公共交通工具。如自1月21日起14天后无发热、干咳、呼吸困难等症状的，根据有关防控工作指引，可以不用向社区、村居或有关部门登记。江门市新型冠状病毒感染的肺炎防控指挥部一定全力以赴严防病毒的传播、阻止疫情的蔓延，最大限度保护广大市民的生命健康，也恳请全市人民群众近期尽量不要出门，避免到人员密集场所，若必须外出一定要佩戴口罩，有异常一定要及时就医。请广大市民提高警惕，一旦发现疫情，请第一时间联系卫生健康部门跟进处理。\\xa0编辑：罗忠明\\n                    更多报道请看专题：滚动更新：防控新型冠状病毒肺炎，江门在行动！社会台山江门44对这篇文章有想法？跟我聊聊吧罗忠明1.2亿南方都市报记者\\n        南都新闻，未经授权不得转载。授权联系方式：banquan@nandu.cc，020-87006626。\\n    阅读 '"
      ]
     },
     "execution_count": 360,
     "metadata": {},
     "output_type": "execute_result"
    }
   ],
   "source": [
    "content"
   ]
  },
  {
   "cell_type": "markdown",
   "metadata": {},
   "source": [
    "# 正文抽取：分类模板-DIFFBOTAPI-GNE"
   ]
  },
  {
   "cell_type": "code",
   "execution_count": 6,
   "metadata": {},
   "outputs": [],
   "source": [
    "def get_content(url,driver):\n",
    "    ''' \n",
    "        input:url,driver  \n",
    "        output:sname,text,images\n",
    "    '''\n",
    "    \n",
    "    content = ''\n",
    "    sname = ''\n",
    "    images= []\n",
    "    \n",
    "    \n",
    "    templates = ['weibo.com','mp.weixin.qq.com','m.weibo.cn','m.mp.oeeee.com']\n",
    "    # 判断是否在模板库中\n",
    "    in_ = False\n",
    "    for t in templates:\n",
    "        if t in url:\n",
    "            in_ = True\n",
    "            break\n",
    "    if in_:\n",
    "        if 'mp.weixin.qq.com' in url:\n",
    "            # 微信公众号\n",
    "            print(url,'wx')\n",
    "    \n",
    "            driver.get(url)\n",
    "            sleep(0.5)\n",
    "            html =  driver.page_source\n",
    "            soup = BeautifulSoup(html, 'html.parser')\n",
    "            sn,sc = ['#js_name','#js_content']\n",
    "            resource_name = soup.select(sn)\n",
    "            content_selector = soup.select(sc)[0]\n",
    "            content = content_selector.get_text()\n",
    "            resource_name = resource_name[0].get_text()\n",
    "            sname = re.sub(r'[^\\u4e00-\\u9fa5]','',resource_name)\n",
    "            imglist = []\n",
    "            imgs = content_selector.find_all('img')\n",
    "    \n",
    "            if len(imgs)>=1:\n",
    "                for img in imgs:\n",
    "                    img_dict = img.attrs\n",
    "                    if 'data-type' in img_dict:\n",
    "                        if 'gif' in img_dict['data-type']:\n",
    "                            continue\n",
    "                        else:\n",
    "                            if 'data-src' in img_dict:\n",
    "                                images.append(img_dict['data-src'])\n",
    "                            elif 'src' in img_dict:\n",
    "                                images.append(img_dict['src'])\n",
    "            \n",
    "        elif 'm.weibo.cn' in url:\n",
    "            # 微博手机端\n",
    "            print(url,'mwb')\n",
    "            driver.get(url)\n",
    "            html =  driver.page_source\n",
    "            soup = BeautifulSoup(html, 'html.parser')\n",
    "            r = soup.select('#app > div.lite-page-wrap > div > div.main > div > div > header > div.m-box-dir.m-box-col.m-box-center > div > a > h3')\n",
    "            sname = re.sub(r'[^\\u4e00-\\u9fa5]','',r[0].text)\n",
    "            c = soup.find_all(attrs={'class': 'weibo-text'})\n",
    "            content = c[0].text\n",
    "        \n",
    "        elif 'weibo.com' in url:\n",
    "            # 微博pc端 \n",
    "            print(url,'pcwb')\n",
    "            driver.get(url)\n",
    "            html =  driver.page_source\n",
    "            soup = BeautifulSoup(html, 'lxml')\n",
    "            c = soup.find_all(attrs={'class': 'WB_text'})\n",
    "            content = c[0].text\n",
    "            sname = c[0].attrs['nick-name']\n",
    "            \n",
    "        elif 'm.mp.oeeee.com' in url:\n",
    "            # 南方都市报\n",
    "            print(url,'nd')\n",
    "#             url = 'https://m.mp.oeeee.com/a/BAAFRD000020200203257514.html?layer=4&share=chat&isndappinstalled=12'\n",
    "            driver.get(url)\n",
    "            sleep(0.5)\n",
    "            html =  driver.page_source\n",
    "            soup = BeautifulSoup(html, 'lxml')\n",
    "            s = soup.find_all(attrs={'class': 'name avatar_click'})\n",
    "            sname = s[0].text\n",
    "            c = soup.find_all(attrs={'id': 'docContent'})\n",
    "            content = c[0].text\n",
    "        \n",
    "    else:\n",
    "        diffbot_invaild = False\n",
    "        # 不在模板库里，调用diffbot的api进行视觉分割+机器学习的正文抽取\n",
    "        url = 'https://mp.weixin.qq.com/s/HTsNM1zxEAx3IqoF1uYnYA'\n",
    "        api = 'https://api.diffbot.com/v3/article'\n",
    "        params = {\n",
    "            'token': token,\n",
    "            'url': url,\n",
    "            'fields': 'images' \n",
    "        }\n",
    "        response = requests.get(api, params=params)\n",
    "#         print(json.dumps(response.json(), indent=2, ensure_ascii=False))\n",
    "        result = response.json()\n",
    "        if 'error' in result:\n",
    "            print(url,'gne')\n",
    "            # 无法用api,iffbot失效，转用基于文本密度和符号密度的GNE工具包抽取正文\n",
    "            print(response.text,url)\n",
    "            driver.get(url)\n",
    "            sleep(0.5)\n",
    "            html =  driver.page_source\n",
    "            host = re.search(r'(https{0,1}://)(.+?)(/)',url).group(2)\n",
    "            result = extractor.extract(html,host=host)\n",
    "            content = result['content']\n",
    "            sname = result['title']\n",
    "            images = result['images']\n",
    "        else:\n",
    "            print(url,'diffbot')\n",
    "            sname = result['objects'][0]['siteName']\n",
    "            text = result['objects'][0]['text']\n",
    "            if 'images' in result['objects'][0]:\n",
    "                imgs = result['objects'][0]['images']\n",
    "                for img in imgs:\n",
    "                    images.append(img['url'])\n",
    "            \n",
    "        \n",
    "    return sname,content,images"
   ]
  },
  {
   "cell_type": "code",
   "execution_count": 10,
   "metadata": {},
   "outputs": [],
   "source": [
    "goodURL = pd.read_csv(\"./good_url_5.1.csv\")"
   ]
  },
  {
   "cell_type": "code",
   "execution_count": 11,
   "metadata": {},
   "outputs": [],
   "source": [
    "del goodURL['Unnamed: 0']"
   ]
  },
  {
   "cell_type": "code",
   "execution_count": 12,
   "metadata": {},
   "outputs": [
    {
     "data": {
      "text/plain": "                                                   url\n0    https://mp.weixin.qq.com/s/HTsNM1zxEAx3IqoF1uYnYA\n1    http://hc.nc.gov.cn/ncwjw/gzdt/202002/b5cf8972...\n2               http://m.ha.bendibao.com/mip/1636.shtm\n3    http://news.gxnews.com.cn/staticpages/20200209...\n4    http://o.xiancity.cn/system/2020/02/09/0307133...\n..                                                 ...\n181  https://mp.weixin.qq.com/s/zOGzJVviegMaLRE8tuiLRw\n182  https://weibo.com/7129811001/IrH6peQ3d?from=pa...\n183  https://weibo.com/7129811001/IssWHlJzw?from=pa...\n184  https://weibo.com/7129811001/ItKAzr93p?from=pa...\n185  https://mp.weixin.qq.com/s/URJDtNlB8jOnsmdH17VjXA\n\n[186 rows x 1 columns]",
      "text/html": "<div>\n<style scoped>\n    .dataframe tbody tr th:only-of-type {\n        vertical-align: middle;\n    }\n\n    .dataframe tbody tr th {\n        vertical-align: top;\n    }\n\n    .dataframe thead th {\n        text-align: right;\n    }\n</style>\n<table border=\"1\" class=\"dataframe\">\n  <thead>\n    <tr style=\"text-align: right;\">\n      <th></th>\n      <th>url</th>\n    </tr>\n  </thead>\n  <tbody>\n    <tr>\n      <td>0</td>\n      <td>https://mp.weixin.qq.com/s/HTsNM1zxEAx3IqoF1uYnYA</td>\n    </tr>\n    <tr>\n      <td>1</td>\n      <td>http://hc.nc.gov.cn/ncwjw/gzdt/202002/b5cf8972...</td>\n    </tr>\n    <tr>\n      <td>2</td>\n      <td>http://m.ha.bendibao.com/mip/1636.shtm</td>\n    </tr>\n    <tr>\n      <td>3</td>\n      <td>http://news.gxnews.com.cn/staticpages/20200209...</td>\n    </tr>\n    <tr>\n      <td>4</td>\n      <td>http://o.xiancity.cn/system/2020/02/09/0307133...</td>\n    </tr>\n    <tr>\n      <td>...</td>\n      <td>...</td>\n    </tr>\n    <tr>\n      <td>181</td>\n      <td>https://mp.weixin.qq.com/s/zOGzJVviegMaLRE8tuiLRw</td>\n    </tr>\n    <tr>\n      <td>182</td>\n      <td>https://weibo.com/7129811001/IrH6peQ3d?from=pa...</td>\n    </tr>\n    <tr>\n      <td>183</td>\n      <td>https://weibo.com/7129811001/IssWHlJzw?from=pa...</td>\n    </tr>\n    <tr>\n      <td>184</td>\n      <td>https://weibo.com/7129811001/ItKAzr93p?from=pa...</td>\n    </tr>\n    <tr>\n      <td>185</td>\n      <td>https://mp.weixin.qq.com/s/URJDtNlB8jOnsmdH17VjXA</td>\n    </tr>\n  </tbody>\n</table>\n<p>186 rows × 1 columns</p>\n</div>"
     },
     "execution_count": 12,
     "metadata": {},
     "output_type": "execute_result"
    }
   ],
   "source": [
    "goodURL"
   ]
  },
  {
   "cell_type": "code",
   "execution_count": 14,
   "metadata": {},
   "outputs": [],
   "source": [
    "Content = goodURL[:]"
   ]
  },
  {
   "cell_type": "code",
   "execution_count": 15,
   "metadata": {},
   "outputs": [
    {
     "data": {
      "text/plain": "                                                   url\n0    https://mp.weixin.qq.com/s/HTsNM1zxEAx3IqoF1uYnYA\n1    http://hc.nc.gov.cn/ncwjw/gzdt/202002/b5cf8972...\n2               http://m.ha.bendibao.com/mip/1636.shtm\n3    http://news.gxnews.com.cn/staticpages/20200209...\n4    http://o.xiancity.cn/system/2020/02/09/0307133...\n..                                                 ...\n181  https://mp.weixin.qq.com/s/zOGzJVviegMaLRE8tuiLRw\n182  https://weibo.com/7129811001/IrH6peQ3d?from=pa...\n183  https://weibo.com/7129811001/IssWHlJzw?from=pa...\n184  https://weibo.com/7129811001/ItKAzr93p?from=pa...\n185  https://mp.weixin.qq.com/s/URJDtNlB8jOnsmdH17VjXA\n\n[186 rows x 1 columns]",
      "text/html": "<div>\n<style scoped>\n    .dataframe tbody tr th:only-of-type {\n        vertical-align: middle;\n    }\n\n    .dataframe tbody tr th {\n        vertical-align: top;\n    }\n\n    .dataframe thead th {\n        text-align: right;\n    }\n</style>\n<table border=\"1\" class=\"dataframe\">\n  <thead>\n    <tr style=\"text-align: right;\">\n      <th></th>\n      <th>url</th>\n    </tr>\n  </thead>\n  <tbody>\n    <tr>\n      <td>0</td>\n      <td>https://mp.weixin.qq.com/s/HTsNM1zxEAx3IqoF1uYnYA</td>\n    </tr>\n    <tr>\n      <td>1</td>\n      <td>http://hc.nc.gov.cn/ncwjw/gzdt/202002/b5cf8972...</td>\n    </tr>\n    <tr>\n      <td>2</td>\n      <td>http://m.ha.bendibao.com/mip/1636.shtm</td>\n    </tr>\n    <tr>\n      <td>3</td>\n      <td>http://news.gxnews.com.cn/staticpages/20200209...</td>\n    </tr>\n    <tr>\n      <td>4</td>\n      <td>http://o.xiancity.cn/system/2020/02/09/0307133...</td>\n    </tr>\n    <tr>\n      <td>...</td>\n      <td>...</td>\n    </tr>\n    <tr>\n      <td>181</td>\n      <td>https://mp.weixin.qq.com/s/zOGzJVviegMaLRE8tuiLRw</td>\n    </tr>\n    <tr>\n      <td>182</td>\n      <td>https://weibo.com/7129811001/IrH6peQ3d?from=pa...</td>\n    </tr>\n    <tr>\n      <td>183</td>\n      <td>https://weibo.com/7129811001/IssWHlJzw?from=pa...</td>\n    </tr>\n    <tr>\n      <td>184</td>\n      <td>https://weibo.com/7129811001/ItKAzr93p?from=pa...</td>\n    </tr>\n    <tr>\n      <td>185</td>\n      <td>https://mp.weixin.qq.com/s/URJDtNlB8jOnsmdH17VjXA</td>\n    </tr>\n  </tbody>\n</table>\n<p>186 rows × 1 columns</p>\n</div>"
     },
     "execution_count": 15,
     "metadata": {},
     "output_type": "execute_result"
    }
   ],
   "source": [
    "Content"
   ]
  },
  {
   "cell_type": "code",
   "execution_count": 17,
   "metadata": {},
   "outputs": [
    {
     "name": "stdout",
     "output_type": "stream",
     "text": [
      "https://mp.weixin.qq.com/s/HTsNM1zxEAx3IqoF1uYnYA\n",
      "https://mp.weixin.qq.com/s/HTsNM1zxEAx3IqoF1uYnYA wx\n",
      "http://hc.nc.gov.cn/ncwjw/gzdt/202002/b5cf89720dbf4968850892328059db4c.shtml\n",
      "https://mp.weixin.qq.com/s/HTsNM1zxEAx3IqoF1uYnYA diffbot\n",
      "http://m.ha.bendibao.com/mip/1636.shtm\n",
      "https://mp.weixin.qq.com/s/HTsNM1zxEAx3IqoF1uYnYA diffbot\n",
      "http://news.gxnews.com.cn/staticpages/20200209/newgx5e3f4bbc-19247534-3.shtml\n",
      "https://mp.weixin.qq.com/s/HTsNM1zxEAx3IqoF1uYnYA diffbot\n"
     ]
    }
   ],
   "source": [
    "s,c,ims = [],[],[]\n",
    "url_good = goodURL['url']\n",
    "Content = goodURL[:]\n",
    "n = len(url_good)\n",
    "for i in range(n):\n",
    "    url = url_good[i]\n",
    "    print (url)\n",
    "    sname,content,images = get_content(url,driver)\n",
    "    s.append(sname)\n",
    "    c.append(content)\n",
    "    ims.append(images)\n",
    "    if i==3:\n",
    "        break\n",
    "# Content['content'] = c\n",
    "# Content['sname'] = s\n",
    "# Content['images'] = ims\n",
    "# Content"
   ]
  },
  {
   "cell_type": "code",
   "execution_count": 416,
   "metadata": {},
   "outputs": [
    {
     "data": {
      "text/plain": [
       "'http://hc.nc.gov.cn/ncwjw/gzdt/202002/b5cf89720dbf4968850892328059db4c.shtml'"
      ]
     },
     "execution_count": 416,
     "metadata": {},
     "output_type": "execute_result"
    }
   ],
   "source": [
    "url_good[1]"
   ]
  },
  {
   "cell_type": "code",
   "execution_count": 415,
   "metadata": {},
   "outputs": [
    {
     "data": {
      "text/plain": [
       "''"
      ]
     },
     "execution_count": 415,
     "metadata": {},
     "output_type": "execute_result"
    }
   ],
   "source": [
    "c[1]"
   ]
  },
  {
   "cell_type": "code",
   "execution_count": 396,
   "metadata": {},
   "outputs": [
    {
     "data": {
      "text/plain": [
       "0      \\n最新消息2月14日上午，省卫健委公布2月13日0－24时肇庆市新增1例新冠肺炎确诊病例。...\n",
       "1                                                       \n",
       "2                                                       \n",
       "3                                                       \n",
       "4                                                       \n",
       "                             ...                        \n",
       "181    \\n2020年1月31日，我市确认1例输入性新型冠状病毒感染的肺炎确诊病例。姜某，男，满族，...\n",
       "182    \\n#联防联控   高陵在行动# 【紧急扩散！关于急寻高陵区飘雪理发店顾客的通告】我区日前已...\n",
       "183    \\n                                            ...\n",
       "184    \\n#联防联控 高陵在行动# 紧急扩散【通 告】西安市高陵区新型冠状病毒感染的肺炎疫情防控指...\n",
       "185    \\n我省确诊的8例新型冠状病毒感染的肺炎患者与密切接触者医疗救治情况——青海省新型冠状病毒感...\n",
       "Name: content, Length: 186, dtype: object"
      ]
     },
     "execution_count": 396,
     "metadata": {},
     "output_type": "execute_result"
    }
   ],
   "source": [
    "Content"
   ]
  },
  {
   "cell_type": "code",
   "execution_count": null,
   "metadata": {},
   "outputs": [],
   "source": []
  }
 ],
 "metadata": {
  "kernelspec": {
   "display_name": "Python 3",
   "language": "python",
   "name": "python3"
  },
  "language_info": {
   "codemirror_mode": {
    "name": "ipython",
    "version": 3
   },
   "file_extension": ".py",
   "mimetype": "text/x-python",
   "name": "python",
   "nbconvert_exporter": "python",
   "pygments_lexer": "ipython3",
   "version": "3.7.6"
  }
 },
 "nbformat": 4,
 "nbformat_minor": 4
}
=======
{
 "cells": [
  {
   "cell_type": "markdown",
   "metadata": {},
   "source": [
    "# 包"
   ]
  },
  {
   "cell_type": "code",
   "execution_count": 1,
   "metadata": {},
   "outputs": [],
   "source": [
    "import requests\n",
    "from bs4 import BeautifulSoup\n",
    "import re\n",
    "import matplotlib.pyplot as plt\n",
    "import numpy as np\n",
    "import matplotlib as mpl\n",
    "mpl.rcParams[\"font.sans-serif\"]=[\"SimHei\"]\n",
    "mpl.rcParams[\"axes.unicode_minus\"]=False\n",
    "from selenium import webdriver\n",
    "from  time import sleep\n",
    "import pandas as pd\n",
    "import json\n",
    "from  random import random\n",
    "import re\n",
    "from lxml import etree\n",
    "from gne import GeneralNewsExtractor\n",
    "token = '63ce8433d23e1f4d8cbd8bf14390fcc7'\n",
    "import time "
   ]
  },
  {
   "cell_type": "markdown",
   "metadata": {},
   "source": [
    "# 导入数据"
   ]
  },
  {
   "cell_type": "code",
   "execution_count": 20,
   "metadata": {},
   "outputs": [],
   "source": [
    "good_url = pd.read_csv('./goodURL_5.1.csv')"
   ]
  },
  {
   "cell_type": "code",
   "execution_count": 21,
   "metadata": {},
   "outputs": [],
   "source": [
    "del good_url['Unnamed: 0']"
   ]
  },
  {
   "cell_type": "code",
   "execution_count": 22,
   "metadata": {},
   "outputs": [],
   "source": [
    "good_url.rename(columns={'0':'url'},inplace=True) "
   ]
  },
  {
   "cell_type": "code",
   "execution_count": 23,
   "metadata": {},
   "outputs": [
    {
     "data": {
      "text/html": [
       "<div>\n",
       "<style scoped>\n",
       "    .dataframe tbody tr th:only-of-type {\n",
       "        vertical-align: middle;\n",
       "    }\n",
       "\n",
       "    .dataframe tbody tr th {\n",
       "        vertical-align: top;\n",
       "    }\n",
       "\n",
       "    .dataframe thead th {\n",
       "        text-align: right;\n",
       "    }\n",
       "</style>\n",
       "<table border=\"1\" class=\"dataframe\">\n",
       "  <thead>\n",
       "    <tr style=\"text-align: right;\">\n",
       "      <th></th>\n",
       "      <th>url</th>\n",
       "    </tr>\n",
       "  </thead>\n",
       "  <tbody>\n",
       "    <tr>\n",
       "      <th>0</th>\n",
       "      <td>https://mp.weixin.qq.com/s/HTsNM1zxEAx3IqoF1uYnYA</td>\n",
       "    </tr>\n",
       "    <tr>\n",
       "      <th>1</th>\n",
       "      <td>http://hc.nc.gov.cn/ncwjw/gzdt/202002/b5cf8972...</td>\n",
       "    </tr>\n",
       "    <tr>\n",
       "      <th>2</th>\n",
       "      <td>http://m.ha.bendibao.com/mip/1636.shtm</td>\n",
       "    </tr>\n",
       "    <tr>\n",
       "      <th>3</th>\n",
       "      <td>http://news.gxnews.com.cn/staticpages/20200209...</td>\n",
       "    </tr>\n",
       "    <tr>\n",
       "      <th>4</th>\n",
       "      <td>http://o.xiancity.cn/system/2020/02/09/0307133...</td>\n",
       "    </tr>\n",
       "    <tr>\n",
       "      <th>...</th>\n",
       "      <td>...</td>\n",
       "    </tr>\n",
       "    <tr>\n",
       "      <th>184</th>\n",
       "      <td>http://wjw.shanxi.gov.cn/wjywl02/24757.hrh</td>\n",
       "    </tr>\n",
       "    <tr>\n",
       "      <th>185</th>\n",
       "      <td>http://wjw.shanxi.gov.cn/wjywl02/24774.hrh</td>\n",
       "    </tr>\n",
       "    <tr>\n",
       "      <th>186</th>\n",
       "      <td>https://www.sg.gov.cn/xw/ztjj/yqfkyz/zxyq/cont...</td>\n",
       "    </tr>\n",
       "    <tr>\n",
       "      <th>187</th>\n",
       "      <td>https://www.sg.gov.cn/xw/ztjj/yqfkyz/zxyq/cont...</td>\n",
       "    </tr>\n",
       "    <tr>\n",
       "      <th>188</th>\n",
       "      <td>https://www.sg.gov.cn/xw/ztjj/yqfkyz/zxyq/cont...</td>\n",
       "    </tr>\n",
       "  </tbody>\n",
       "</table>\n",
       "<p>189 rows × 1 columns</p>\n",
       "</div>"
      ],
      "text/plain": [
       "                                                   url\n",
       "0    https://mp.weixin.qq.com/s/HTsNM1zxEAx3IqoF1uYnYA\n",
       "1    http://hc.nc.gov.cn/ncwjw/gzdt/202002/b5cf8972...\n",
       "2               http://m.ha.bendibao.com/mip/1636.shtm\n",
       "3    http://news.gxnews.com.cn/staticpages/20200209...\n",
       "4    http://o.xiancity.cn/system/2020/02/09/0307133...\n",
       "..                                                 ...\n",
       "184         http://wjw.shanxi.gov.cn/wjywl02/24757.hrh\n",
       "185         http://wjw.shanxi.gov.cn/wjywl02/24774.hrh\n",
       "186  https://www.sg.gov.cn/xw/ztjj/yqfkyz/zxyq/cont...\n",
       "187  https://www.sg.gov.cn/xw/ztjj/yqfkyz/zxyq/cont...\n",
       "188  https://www.sg.gov.cn/xw/ztjj/yqfkyz/zxyq/cont...\n",
       "\n",
       "[189 rows x 1 columns]"
      ]
     },
     "execution_count": 23,
     "metadata": {},
     "output_type": "execute_result"
    }
   ],
   "source": [
    "good_url"
   ]
  },
  {
   "cell_type": "code",
   "execution_count": 5,
   "metadata": {},
   "outputs": [],
   "source": [
    "driver = webdriver.Chrome()\n",
    "driver.get('https://weibo.com')\n",
    "\n",
    "driver.implicitly_wait(20) # 操作、获取元素时的隐式等待时间\n",
    "driver.set_page_load_timeout(20) # 页面加载超时等待时间"
   ]
  },
  {
   "cell_type": "code",
   "execution_count": 6,
   "metadata": {},
   "outputs": [],
   "source": [
    "driver.get('https://www.baidu.com')"
   ]
  },
  {
   "cell_type": "code",
   "execution_count": 6,
   "metadata": {},
   "outputs": [],
   "source": [
    "extractor = GeneralNewsExtractor()"
   ]
  },
  {
   "cell_type": "markdown",
   "metadata": {},
   "source": [
    "# 基于规则"
   ]
  },
  {
   "cell_type": "code",
   "execution_count": 1,
   "metadata": {},
   "outputs": [],
   "source": [
    "# weixin,weibo,toutiao,baijiahao,nanfangdushibao"
   ]
  },
  {
   "cell_type": "code",
   "execution_count": null,
   "metadata": {},
   "outputs": [],
   "source": [
    "# rule = {\n",
    "#     'mp.weixin.qq.com':['//*[@id=\"js_name\"]','//*[@id=\"js_content\"]']\n",
    "# }"
   ]
  },
  {
   "cell_type": "code",
   "execution_count": 16,
   "metadata": {},
   "outputs": [
    {
     "data": {
      "text/plain": [
       "'https://mp.weixin.qq.com/s/HTsNM1zxEAx3IqoF1uYnYA'"
      ]
     },
     "execution_count": 16,
     "metadata": {},
     "output_type": "execute_result"
    }
   ],
   "source": [
    "good_url['url'][0]"
   ]
  },
  {
   "cell_type": "code",
   "execution_count": null,
   "metadata": {},
   "outputs": [],
   "source": [
    "# def get_resource_content(url,driver,rule):\n",
    "#     ''' \n",
    "#         input:url,driver,rule  \n",
    "#         output:GETHTML\n",
    "#     '''\n",
    "# #     site = re.search(r'(https*://)(.+?)(/)',url).group(2)\n",
    "# #     html =  ''\n",
    "#     # 用引擎\n",
    "#     driver.get(url)\n",
    "#     sleep(0.2)\n",
    "#     try:\n",
    "#         html =  driver.page_source\n",
    "#     except Expection as e:\n",
    "#         return '',''\n",
    "#     soup = etree.HTML(html)\n",
    "#     soup.xpath\n",
    "#     if site in rule:\n",
    "#         # 基于规则xpath\n",
    "#         xr,xc = rule[site]\n",
    "        \n",
    "#     else:\n",
    "#         # 基于启发信息\n",
    "    \n",
    "#     return html"
   ]
  },
  {
   "cell_type": "code",
   "execution_count": 15,
   "metadata": {},
   "outputs": [],
   "source": [
    "url = good_url['url'][0]\n",
    "site = re.search(r'(https*://)(.+?)(/)',url).group(2)\n",
    "# 用引擎\n",
    "driver.get(url)\n",
    "# sleep(0.2)\n",
    "# try:\n",
    "html =  driver.page_source\n",
    "# except Expection as e:\n",
    "#     return '',''\n",
    "soup = etree.HTML(html)\n",
    "name = soup.xpath('//*[@id=\"js_name\"]')\n",
    "content = soup.xpath('//*[@id=\"js_content\"]')\n",
    "\n",
    "# if site in rule:\n",
    "#     # 基于规则xpath\n",
    "#     xr,xc = rule[site]\n",
    "\n",
    "# else:\n",
    "#     # 基于启发信息"
   ]
  },
  {
   "cell_type": "code",
   "execution_count": 12,
   "metadata": {},
   "outputs": [
    {
     "data": {
      "text/plain": [
       "'\\n                        健康肇庆                      '"
      ]
     },
     "execution_count": 12,
     "metadata": {},
     "output_type": "execute_result"
    }
   ],
   "source": [
    "name[0].text"
   ]
  },
  {
   "cell_type": "code",
   "execution_count": 13,
   "metadata": {},
   "outputs": [],
   "source": [
    "res = re.sub(r'[^\\u4e00-\\u9fa5]','',name[0].text)"
   ]
  },
  {
   "cell_type": "code",
   "execution_count": 14,
   "metadata": {},
   "outputs": [
    {
     "data": {
      "text/plain": [
       "'健康肇庆'"
      ]
     },
     "execution_count": 14,
     "metadata": {},
     "output_type": "execute_result"
    }
   ],
   "source": [
    "res"
   ]
  },
  {
   "cell_type": "code",
   "execution_count": 27,
   "metadata": {},
   "outputs": [],
   "source": [
    "content[0][1].text"
   ]
  },
  {
   "cell_type": "code",
   "execution_count": 30,
   "metadata": {},
   "outputs": [],
   "source": [
    "soup = BeautifulSoup(html, 'html.parser')"
   ]
  },
  {
   "cell_type": "code",
   "execution_count": 37,
   "metadata": {},
   "outputs": [],
   "source": [
    "slec = soup.select('#js_content')"
   ]
  },
  {
   "cell_type": "code",
   "execution_count": 42,
   "metadata": {},
   "outputs": [
    {
     "data": {
      "text/plain": [
       "'\\n最新消息2月14日上午，省卫健委公布2月13日0－24时肇庆市新增1例新冠肺炎确诊病例。截至2月13日24时，肇庆市累计报告新冠肺炎确诊病例17例。13日0-24时全市新增确诊病例1例，分布在封开县。累计报告的17例确诊病例中，端州区5例，鼎湖区2例、高要区3例、四会市1例、广宁县1例、封开县5例。其中男性10例，女性7例，年龄介于3岁到65岁之间。截至2020年2月13日24时，在院的9例确诊病例中，普通型4例，轻型4例，重型1例。死亡1例。无医务人员感染。在院的9例病例，有1例病例病情加重，其余确诊病例病情稳定。全市共追踪到507名密切接触者，正接受集中医学观察277人，累计230人解除医学观察。17例确诊病例感染原因为湖北输入病例6例、旅游输入病例4例、由旅游输入引起的家庭病例3例、有武汉返肇人员接触史4例。目前，累计已有7例确诊病例治愈出院。\\xa0肇庆市新增一例确诊病例情况如下：11病例17何某（女、65岁、封开人），现住封开县江口镇河堤二路22号。近期无湖北省居住、旅游史，感染原因是与新型冠状病毒感染肺炎病例有接触。1月19日下午3：00与何某、吴某（病例16、15）等人一起在封开县曲艺社排练。1月23日到何某（病例16）家中（水上居民安置楼），1月24日、1月31日、2月7日分别送丈夫到封开县人民医院进行透析治疗， 2月7日上午9时到好又多超市买菜。其余时间在家照顾丈夫。2月9日采集咽拭子送市疾控中心核酸检测为阴性，2月12日采集咽拭子送市疾控中心检测。2月12日下午到封开县人民医院进行胸部CT筛查，结果显示双肺多发磨玻璃影，胸膜下明显，考虑是病毒性肺炎，13日核酸检测报告为阳性，送至肇庆市第一人民医院隔离治疗，病人病情稳定。目前已对密切接触者集中隔离医学观察。新增确诊病例涉及的小区或场所封开县江口镇河堤二路22号、江口镇蝴蝶塘路封开县曲艺社、好又多超市、水上居民安置楼此前确诊病例情况如下:病例16何某（女、62岁、封开人），常住封开县江口镇水上居民安置楼。近期无武汉居住旅游史，是新冠肺炎确诊病例吴某（病例15）的密切接触者。平时主要娱乐活动是到江口镇星辉曲艺社江口社区唱粤曲，2020年1月20日，与吴某（病例15）及其工友在宾悦酒店2楼聚餐及唱歌。22日由封开曲艺社组织前往平凤镇新围村参加敬老演出活动，演出活动后出现流涕、咳嗽、咳痰症状，无发热（未测体温），自行服用药物治疗，未到医院就诊。23日开始自己居家隔离，期间无外出，直至2月10日凌晨到封开县江口镇杏花宾馆集中隔离观察。2月10日上午患者咳嗽较前加重，出现发热，胸部CT检查结果显示双肺多发磨玻璃影，胸膜下明显，考虑是病毒性肺炎，当晚送肇庆市第一人民医院隔离治疗。2月11日患者新型冠状病毒核酸检测阳性。目前病人经治疗后，有发热、咳嗽、咳痰症状，病情稳定。\\xa0病例15吴某（男、56岁、封开人），常住封开县江口镇东方二路115号。1月19日下午病例与苏某（病例14）在江口镇曲艺社一起参加粤剧排练。晚上与朋友到苏某（病例14）的店铺喝茶。20日晚与工友在江口镇宾悦酒店二楼聚餐。21－23日期间在封开县江口镇东方二路115号家中休息，曾到井根农贸市场购物。24日、26日晚上到江口镇东堤路25号亲戚家中参加家庭聚餐。1月27、29日及2月1日到杏花宾馆宿舍其朋友家中聚餐、打麻将。28日晚上再次到苏某（病例14）店铺喝茶。无武汉居住旅游史。2月3日出现咽痒不适，偶发性咳嗽，伴有低热。2月6日胸部CT检查结果显示右肺上叶炎症。2月8日送肇庆市一医院隔离治疗，采集咽拭子进行新型冠状病毒核酸检测，肇庆市一医院和肇庆市疾控中心报告均为阴性。2月9日肇庆市一医院取下呼吸道分泌物检测新型冠状病毒核酸初筛阳性，送肇庆市疾控中心复核，结果阳性。目前病人经治疗后，偶有咳嗽、咳痰，无畏寒、发热，病情稳定。\\xa0病例14苏某（男、55岁、封开人），在封开县江口镇经营乐惠士多店，常在店内聚众打牌。平常活动点为乐惠士多店和曙光路31号家中，1月24日晚到封开县广信嘉园朋友家中聚餐，1月28日晚到封开县唐八叔清补羊火锅店聚餐。有武汉返粤人员接触史，无其它外出旅游史。2月2日出现发热、轻微气喘等症状， 2月5日采集患者咽拭子及血清标本检测，2月6日检测结果显示阳性，确诊为新冠肺炎病例。患者属重症病例，有多年糖尿病史，因病情恶化，经抢救无效，于2月6日18时15分死亡。\\xa0病例13莫某（男、24岁、封开人），长期在湖北省黄冈市做生意。1月22日，乘坐19时06分T95班次火车（04车厢）从武汉返回到广州。1月23日，在广州滘口汽车站乘坐8时30分班次客车返回到封开县杏花镇新和村家中。2月1日，进行咽拭子检测，2月4日，省疾控中心新型冠状病毒核酸检测复核结果阳性。2月4日，在肇庆市第一人民医院进行肺部CT检查，显示肺部炎症，2月5日上午出现发热等临床症状，确诊为新冠肺炎患者。目前，正在定点医院规范治疗，病人病情稳定，生命体征良好。\\xa0病例12病例7江某的大儿子梁某（男、10岁、端州人），1月19日与父母梁某、江某（病例7、病例8）一起到广州南沙乘坐邮轮到越南旅游，1月24日与父母从广州南沙码头下船，自驾车返回端州，2月1日江某确诊为新冠肺炎患者，2月5日江某的大儿子出现发热等临床症状，2月5日确诊为新冠肺炎患者。目前正在定点医院规范治疗，病人病情稳定，生命体征良好。\\xa0病例11病例7江某的小儿子梁某（男、3岁、端州人），2月1日江某确诊为新冠肺炎患者，江某的小儿子为确诊病例密切接触者，2月4日江某的小儿子出现发热等临床症状，2月4日确诊为新冠肺炎患者。目前正在定点医院规范治疗，病人病情稳定，生命体征良好。经治疗，2020年2月11日已出院。\\xa0病例10病例7江某的婆婆钟某（女、62岁、鼎湖人），2月1日江某确诊为新冠肺炎患者，钟某为确诊病例密切接触者，2月2日江某的婆婆进行肺部CT检查，显示肺部炎症。2月3日江某的婆婆确诊为新冠肺炎患者。目前正在定点医院规范治疗，病人病情稳定，生命体征良好。\\xa0病例9病例7江某的公公梁某（男、64岁、鼎湖人），2月1日江某确诊为新冠肺炎患者，梁某为确诊病例密切接触者，2月2日梁某进行肺部CT检查，显示肺部炎症。2月3日梁某确诊为新冠肺炎患者。目前病人属重症病例，正在定点医院规范治疗。\\xa0病例8病例7江某的丈夫梁某（男、35岁、端州人）。1月19日与妻子、大儿子一起，自驾车到广州南沙乘坐邮轮到越南旅游，1月24日与家人从广州南沙码头下船，自驾车返回端州，1月25日梁某出现发热症状，1月31日晚上到肇庆市第一人民医院发热门诊就医。2月3日梁某确诊为新冠肺炎患者。目前正在定点医院规范治疗，病人病情稳定，生命体征良好。\\xa0病例7江某（女、33岁、端州人），近半年在端州区居住工作，无明显疫情发生地接触史，1月19日与丈夫、大儿子一起，自驾车到广州南沙乘坐邮轮到越南旅游，1月24日与家人从广州南沙码头下船，自驾车返回端州，江某1月25日出现发热症状，1月29日到高要区人民医院就医，1月31日到肇庆市第一人民医院发热门诊就医。2月1日江某确诊为新冠肺炎患者。目前正在定点医院规范治疗，病人病情稳定，生命体征良好。经治疗，2020年2月11日已出院。病例7、病例8、病例9、病例10、病例11、病例12属于新冠肺炎家庭聚集性病例。病例6谭某（男、26岁、武汉人），在武汉居住工作，1月22日自驾车离开武汉，1月23日到广宁旅游，1月23日到当地医院检查，结果显示未见异常，1月24日开始进行为期14天集中隔离的医学观察，1月28日出现头痛、腹泻症状，1月29日住院隔离治疗，1月30日确诊。目前，正在定点医院规范治疗，病人病情稳定，生命体征良好。\\xa0病例5郭某（女、27岁、高要人），近半年在武汉居住工作，1月22日自驾车离开武汉回肇，1月23日到肇后无不适症状并纳入医学观察，1月25日出现发热症状，1月26日住院隔离治疗，1月28日确诊。目前，正在定点医院规范治疗，病人病情稳定，生命体征良好。经治疗，2020年2月10日已出院。\\xa0病例4李某（女、43岁、高要人），近半年在高要居住工作，无明显疫情发生地接触史，1月9日参加自组团到泰国旅游，乘坐泰国亚航FD537航班从广州白云机场抵达廊曼机场，1月13日出现“感冒、乏力”症状，1月14日乘坐泰国亚航FD530航班抵达广州白云机场，1月17日入院就诊，1月25日确诊。目前，正在定点医院规范治疗，病人病情稳定，生命体征良好。经治疗，2020年2月11日已出院。\\xa0病例3廖某（男、26岁、高要人），近半年在武汉居住工作，1月19日从武汉乘坐飞机到广州白云机场，随后由同事接载回端州，1月21日出现发热症状并入院就诊，1月25日确诊。经治疗，2020年2月8日已出院。\\xa0病例2林某（男、37岁、端州人），近半年在武汉居住工作，1月22日乘坐武广高铁G95班次列车回到广州南，在广州南站客运站乘坐前往端州的大巴，再乘坐滴滴车回端州。在武汉归家途中开始发热，但自己除乏力外无感觉到其他不适，在进家门前妻子发现其体温异常，其妻子自驾车送患者到医院就诊，1月24日确诊。经治疗，2020年2月8日已出院。\\xa0病例1黎某（女、25岁、四会人），近半年在武汉居住工作。1月11日出现鼻塞、流涕、间歇性咳嗽等症状，1月13日和16日在武汉医院就诊，1月17日乘坐G1015次列车（座位号3车厢）回广州南站，在广州南站客运站乘坐前往四会的大巴，再乘坐滴滴车回四会，1月18日入院就诊，1月22日确诊。经治疗，2020年1月31日已出院。全市累计确诊病例涉及的小区或场所1端州区：睦岗街道锦绣山河小区、城东街道帝和豪庭小区鼎湖区：坑口街道一米阳光小区高要区：南岸街道珀丽湾小区、南岸街道帝景蓝湾小区、大湾镇禄岸村四会市：东城街道九龙湾小区广宁县：南街镇碧翠湖度假村封开县：封开县杏花镇新和村、江口镇乐惠士多店、江口镇曙光路31号、封开县广信嘉园、封开县唐八叔清补羊火锅店、封开县江口镇东方二路115号、江口镇宾悦酒店、井根农贸市场、江口镇东堤路25号、杏花宾馆宿舍、封开县江口镇水上居民安置楼、江口镇星辉曲艺社江口社区、平凤镇新围村、封开县江口镇河堤二路22号、江口镇蝴蝶塘路封开县曲艺社、好又多超市。肇庆市17例确诊病例涉及6个县（市、区）24个小区或场所，发现确诊病例后，市、县两级疾控部门已立即对所涉及的小区或场所进行了严格的终末消毒，督促指导社区和物业做好日常预防性消毒工作。与病例有关的密切接触者已送指定场所进行集中隔离医学观察。希望大家做好个人防护。1相关链接：☛@肇庆市民，轻微发热不用跑医院！这里可免费咨询专家；☛一图读懂新型冠状病毒传播途径与预防指南！编辑 健康肇庆编辑部热点回顾\\xa0◢\\xa0今天，肇庆3例确诊患者治愈出院！包括一名3岁儿童◢\\xa0今天，肇庆第二批驰援湖北医疗队出征！请平安归来点个“在看”让更多人知道！\\n'"
      ]
     },
     "execution_count": 42,
     "metadata": {},
     "output_type": "execute_result"
    }
   ],
   "source": [
    "slec[0].get_text()"
   ]
  },
  {
   "cell_type": "code",
   "execution_count": 39,
   "metadata": {},
   "outputs": [
    {
     "data": {
      "text/plain": [
       "<div class=\"rich_media_content\" id=\"js_content\" style=\"visibility: visible;\">\n",
       "<section data-label=\"powered by xmt.cn\" data-tools=\"新媒体管家\" style=\"display: none;\"><br/></section><p style=\"max-width: 100%;min-height: 1em;letter-spacing: 0.544px;white-space: normal;background-color: rgb(255, 255, 255);font-size: 16px;font-family: -apple-system-font, BlinkMacSystemFont, Arial, sans-serif;box-sizing: border-box !important;word-wrap: break-word !important;\"><img _width=\"677px\" class=\"__bg_gif\" data-ratio=\"0.2453125\" data-s=\"300,640\" data-src=\"https://mmbiz.qpic.cn/mmbiz_gif/z2KVp01hujF4z1BMroH6YSCLAicKuW2Wg1wRDico366vTveFPaan5NaZgAiaibNnauWjq37z3X8Bl6BBTOdic31r7yA/640?wx_fmt=gif\" data-type=\"gif\" data-w=\"640\" style=\"letter-spacing: 0.544px;text-align: center;font-size: 18px;box-sizing: border-box !important;word-wrap: break-word !important;visibility: visible !important;width: 677px !important;height: auto !important;\"/><br/></p><p style=\"max-width: 100%;min-height: 1em;letter-spacing: 0.544px;white-space: normal;background-color: rgb(255, 255, 255);font-size: 16px;font-family: -apple-system-font, BlinkMacSystemFont, Arial, sans-serif;box-sizing: border-box !important;word-wrap: break-word !important;\"><img _width=\"677px\" class=\"rich_pages\" data-ratio=\"0.15375\" data-s=\"300,640\" data-src=\"https://mmbiz.qpic.cn/mmbiz_jpg/z2KVp01hujFYO4sn1fXHCFHZ5FRxN1Tx252twLrEZRQAyJrlic18b4Cy8b1sIkeKQgJw3BgrqCNpRT8rwpI78sQ/640?wx_fmt=jpeg\" data-type=\"jpeg\" data-w=\"800\" style=\"text-align: center;box-sizing: border-box !important;word-wrap: break-word !important;visibility: visible !important;width: 677px !important;height: auto !important;\"/></p><section data-style-id=\"25870\" data-support=\"96编辑器\"><section><section><section><section data-width=\"20%\"><section><section data-color=\"rgb(216, 40, 33)\" data-style-id=\"25073\" data-support=\"96编辑器\"><section style=\"margin-top: 10px;margin-bottom: 10px;margin-left: 5px;\"><section><section style=\"margin-left: 10px;border-style: solid;border-width: 1px;border-color: #000000;border-radius: 50%;padding: 3px 8px;display: inline-block;background-color: #fefefe;\"><p style=\"letter-spacing: 2px;\"><strong><span style=\"color: rgb(217, 33, 66);\">最</span></strong></p></section><section style=\"margin-left: -5px;border-style: solid;border-width: 1px;border-color: #000000;border-radius: 50%;padding: 3px 8px;display: inline-block;background-color: #fefefe;\"><p style=\"letter-spacing: 2px;\"><strong><span style=\"color: rgb(217, 33, 66);\">新</span></strong></p></section><section style=\"margin-left: -5px;border-style: solid;border-width: 1px;border-color: #000000;border-radius: 50%;padding: 3px 8px;display: inline-block;background-color: #fefefe;\"><p style=\"letter-spacing: 2px;\"><strong><span style=\"color: rgb(217, 33, 66);\">消</span></strong></p></section><section style=\"margin-left: -5px;border-style: solid;border-width: 1px;border-color: #000000;border-radius: 50%;padding: 3px 8px;display: inline-block;background-color: #fefefe;\"><p style=\"letter-spacing: 2px;\"><strong><span style=\"color: rgb(217, 33, 66);\">息</span></strong></p></section></section><section style=\"margin-top: -10px;border-style: solid;border-width: 1px;border-color: #000000;background-color: #d82821;border-radius: 8px;color: #ffffff;\"><section style=\"margin: -5px 5px 5px -5px;border-style: solid;border-width: 1px;border-color: #000000;background-color: #fefefe;padding: 18px 15px 15px;border-radius: 8px;\"><p><span style=\"color: rgb(0, 0, 0);font-size: 15px;\">2月14日上午，省卫健委公布2月13日0－24时肇庆市新增1例新冠肺炎确诊病例。截至2月13日24时，肇庆市累计报告新冠肺炎确诊病例17例。</span><span style=\"color: rgb(0, 0, 0);font-size: 15px;\">13日0-24时全市新增确诊病例1例，分布在封开县。</span></p><p><br/></p><p><span style=\"color: rgb(0, 0, 0);font-size: 15px;\">累计报告的17例确诊病例中，端州区5例，鼎湖区2例、高要区3例、四会市1例、广宁县1例、封开县5例。其</span><span style=\"color: rgb(0, 0, 0);font-size: 15px;\">中男性10例，女性7例，年龄介于3岁到65岁之间。</span><br/></p><p><span style=\"color: rgb(0, 0, 0);font-size: 15px;\"></span></p><p><span style=\"color: rgb(0, 0, 0);font-size: 15px;\"><br/></span></p><p><span style=\"color: rgb(0, 0, 0);font-size: 15px;\">截至2020年2月13日24时，在院的9例确诊病例中，普通型4例，轻型4例，重型1例。死亡1例。无医务人员感染。</span></p><p><span style=\"color: rgb(0, 0, 0);font-size: 15px;\"><br/></span></p><p><span style=\"color: rgb(0, 0, 0);font-size: 15px;\">在院的9例病例，有1例病例病情加重，其余确诊病例病情稳定。全市共追踪到507名密切接触者，正接受集中医学观察277人，累计230人解除医学观察。</span></p><p><span style=\"color: rgb(0, 0, 0);font-size: 15px;\"><br/></span></p><p><span style=\"color: rgb(0, 0, 0);font-size: 15px;\">17例确诊病例感染原因为湖北输入病例6例、旅游输入病例4例、由旅游输入引起的家庭病例3例、有武汉返肇人员接触史4例。目前，累计已有7例确诊病例治愈出院。 </span></p></section></section></section></section><p><br/></p><section data-color=\"rgb(216, 40, 33)\" data-style-id=\"24908\" data-support=\"96编辑器\"><section style=\"text-align: center;margin-top: 10px;margin-bottom: 10px;\"><section style=\"display:inline-block;\"><section style=\"border-style: solid;border-width: 1px;border-color: #d82821;display: inline-block;background-color: #d82821;padding-bottom: 5px;border-radius: 8px;color: #ffffff;\"><section style=\"background-color:#fefefe;padding:2px 15px;border-radius:8px;\"><p style=\"letter-spacing: 2px;\"><strong><span style=\"font-size: 15px;color: rgb(0, 0, 0);\">肇庆市新增一例确诊病例情况如下：</span></strong></p></section></section><section style=\"height: 0px;transform: rotateZ(0deg);margin-top: -2px;margin-left: 15px;border-left: 12px solid rgb(216, 40, 33);width: 0px;border-bottom: 12px solid transparent !important;\"><br/></section><section style=\"height: 0px;margin-top: -11px;margin-left: 14px;border-left: 13px solid rgb(216, 40, 33);width: 0px;border-bottom: 13px solid transparent !important;\"><br/></section></section></section></section><section data-style-id=\"23010\" data-support=\"96编辑器\"><section><section><section><section data-style-id=\"24493\" data-support=\"96编辑器\"><p style=\"font-size: 0px;color: rgba(255, 255, 255, 0);\">1</p><section><section><section><section><section data-style-id=\"24493\" data-support=\"96编辑器\"><p style=\"font-size: 0px;color: rgba(255, 255, 255, 0);\">1</p><section style=\"margin-top: 10px;margin-bottom: 10px;\"><section style=\"margin-top: 10px;margin-bottom: 10px;box-sizing: border-box;\"><section style=\"padding-right: 6px;padding-bottom: 8px;box-sizing: border-box;\"><section style=\"border-width: 1px;border-style: solid;border-color: #c0c8d1;box-sizing: border-box;\"><section data-width=\"100%\" style=\"height: 8px;width: 100%;border-left: 1px solid rgb(192, 200, 209);transform-origin: left top 0px;margin-bottom: 5px;border-top-color: rgb(192, 200, 209);border-right-color: rgb(192, 200, 209);border-bottom-color: rgb(192, 200, 209);box-sizing: border-box;transform: rotate(-45deg);\"><br/></section><section style=\"background-color: #feffff;margin: -8px -7px -8px 5px;border-width: 1px;border-style: solid;border-color: #c0c8d1;padding: 10px;box-sizing: border-box;\"><section style=\"box-sizing: border-box;\"><section style=\"text-align: center;box-sizing: border-box;\"><section data-width=\"100%\" style=\"white-space: normal;text-align: left;\"><strong><span style=\"font-size: 15px;background-color: rgb(255, 76, 0);color: rgb(255, 255, 255);\">病例17</span></strong><br/></section><section style=\"white-space: normal;\"><section><section><p style=\"text-align: left;\"><span style=\"font-size: 15px;\">何某（女、65岁、封开人），现住封开县江口镇河堤二路22号。</span><span style=\"font-size: 15px;\">近期无湖北省居住、旅游史，感染原因是与新型冠状病毒感染肺炎病例有接触。</span><span style=\"font-size: 15px;\">1月19日下午3：</span><span style=\"font-size: 15px;\">00与何某、吴某（病例16、15）等人一起在封开县曲艺社排练。</span><span style=\"font-size: 15px;\">1月23日到何某（病例16）家中（水上居民安置楼），1月24日、1月31日、2月7日分别送丈夫到封开县人民医院进行透析治疗， 2月7日上午9时到好又多超市买菜。</span><span style=\"font-size: 15px;\">其余时间在家照顾丈夫。</span><span style=\"font-size: 15px;\">2月9日采集咽拭子送市疾控中心核酸检测为阴性，2月12日采集咽拭子送市疾控中心检测。</span><span style=\"font-size: 15px;\">2月12日下午到封开县人民医院进行胸部CT筛查，结果显示双肺多发磨玻璃影，胸膜下明显，考虑是病毒性肺炎，13日核酸检测报告为阳性，送至肇庆市第一人民医院隔离治疗，病人病情稳定。</span><span style=\"font-size: 15px;\">目前已对密切接触者集中隔离医学观察。</span></p></section></section></section></section></section></section></section></section></section></section></section></section></section></section></section></section><section data-color=\"rgb(239, 112, 96)\" data-style-id=\"24651\" data-support=\"96编辑器\"><section><section><section><section data-color=\"rgb(239, 112, 96)\" data-style-id=\"24651\" data-support=\"96编辑器\"><section style=\"margin-top: 20px;margin-bottom: 20px;\"><section style=\"text-align: left;margin-bottom: -44px;\"><section style=\"display: inline-block;\"><section style=\"height: 0px;width: 0px;border-top: 6px solid transparent;border-right: 10px solid rgb(239, 112, 96);border-bottom: 0px solid transparent;z-index: 999;\"><br/></section><section style=\"margin-top:-1px;display: flex;justify-content:center;align-items: center;\"><section style=\"display: inline-block;background: rgb(239, 112, 96);color: rgb(255, 255, 255);padding: 4px 10px 4px 14px;\"><span style=\"font-size: 15px;\">新增确诊病例涉及的小区或场所</span></section><section style=\"height: 0px;width: 0px;border-top: 35px solid transparent;border-left: 10px solid rgb(239, 112, 96);border-bottom: 0px solid transparent;z-index: 999;\"><br/></section></section></section></section><section data-width=\"94%\" style=\"width: 94%;margin-right: auto;margin-left: auto;\"><section style=\"box-shadow: #d5d5d5 0px 0px 6px 0px;\"><section><section style=\"font-size: 14px;letter-spacing: 1.5px;line-height: 1.75em;padding: 3.5em 1em 1em;\"><p><span style=\"font-size: 15px;\">封开县江口镇河堤二路22号、江口镇蝴蝶塘路封开县曲艺社、好又多超市、水上居民安置楼</span></p></section></section></section></section></section></section><section><section><section><section style=\"text-align: center;\"><br/></section></section></section></section></section></section></section></section></section></section></section></section><section data-color=\"#1e9be8\" data-custom=\"#1e9be8\" data-id=\"87733\"><section><section><section data-color=\"rgb(216, 40, 33)\" data-style-id=\"24908\" data-support=\"96编辑器\"><section style=\"text-align: center;margin-top: 10px;margin-bottom: 10px;\"><section style=\"display:inline-block;\"><section style=\"border-style: solid;border-width: 1px;border-color: #d82821;display: inline-block;background-color: #d82821;padding-bottom: 5px;border-radius: 8px;color: #ffffff;\"><section style=\"background-color:#fefefe;padding:2px 15px;border-radius:8px;\"><p style=\"letter-spacing: 2px;\"><span style=\"font-size: 15px;\"><strong><span style=\"color: rgb(0, 0, 0);\">此前确诊病例情况如下:</span></strong></span></p></section></section><section style=\"height: 0px;transform: rotateZ(0deg);margin-top: -2px;margin-left: 15px;border-left: 12px solid rgb(216, 40, 33);width: 0px;border-bottom: 12px solid transparent !important;\"><br/></section><section style=\"height: 0px;margin-top: -11px;margin-left: 14px;border-left: 13px solid rgb(216, 40, 33);width: 0px;border-bottom: 13px solid transparent !important;\"><br/></section></section></section></section></section></section></section><section data-style-id=\"24493\" data-support=\"96编辑器\"><section data-style-id=\"17212\" data-support=\"96编辑器\"><section><section><section><section><section><section><section><section><section><section><section><section><section><section><section data-role=\"paragraph\"><section><section><section><section data-style-id=\"17212\" data-support=\"96编辑器\"><section style=\"margin-top: 10px;margin-bottom: 10px;box-sizing: border-box;\"><section style=\"padding: 3px;background-color: #efefef;box-sizing: border-box;\"><section style=\"-ms-word-wrap: break-word !important;max-width: 100%;box-sizing: border-box !important;\"><section style=\"-ms-word-wrap: break-word !important;max-width: 100%;box-sizing: border-box !important;\"><section style=\"-ms-word-wrap: break-word !important;max-width: 100%;box-sizing: border-box !important;padding:8px 8px;box-sizing:border-box;\"><section style=\"margin-right: auto;margin-left: auto;padding: 1em;max-width: 100%;box-sizing: border-box;height: 10em;line-height: 1.5em;overflow: auto;word-wrap: break-word !important;\"><section style=\"letter-spacing: 1.2px;line-height: 25px;\"><p><strong style=\"letter-spacing: 1.2px;\"><span style=\"font-size: 15px;background-color: rgb(255, 76, 0);color: rgb(255, 255, 255);\">病例16</span></strong><br/></p><p><span style=\"color: rgb(0, 0, 0);font-size: 15px;\">何某（女、62岁、封开人），常住封开县江口镇水上居民安置楼。</span><span style=\"color: rgb(0, 0, 0);font-size: 15px;\">近期无武汉居住旅游史，是新冠肺炎确诊病例吴某（病例15）的密切接触者。</span><span style=\"color: rgb(0, 0, 0);font-size: 15px;\">平时主要娱乐活动是到江口镇星辉曲艺社江口社区唱粤曲，2020年1月20日，与吴某（病例15）及其工友在宾悦酒店2楼聚餐及唱歌。</span><span style=\"color: rgb(0, 0, 0);font-size: 15px;\">22日由封开曲艺社组织前往平凤镇新围村参加敬老演出活动，演出活动后出现流涕、咳嗽、咳痰症状，无发热（未测体温），自行服用药物治疗，未到医院就诊。</span><span style=\"color: rgb(0, 0, 0);font-size: 15px;\">23日开始自己居家隔离，期间无外出，直至2月10日凌晨到封开县江口镇杏花宾馆集中隔离观察。</span><span style=\"color: rgb(0, 0, 0);font-size: 15px;\">2月10日上午患者咳嗽较前加重，出现发热，胸部CT检查结果显示双肺多发磨玻璃影，胸膜下明显，考虑是病毒性肺炎，当晚送肇庆市第一人民医院隔离治疗。</span><span style=\"color: rgb(0, 0, 0);font-size: 15px;\">2月11日患者新型冠状病毒核酸检测阳性。</span><span style=\"color: rgb(0, 0, 0);font-size: 15px;\">目前病人经治疗后，有发热、咳嗽、咳痰症状，病情稳定。</span></p><p><span style=\"color: rgb(0, 0, 0);font-size: 15px;\"> </span></p><p><strong><span style=\"font-size: 15px;background-color: rgb(255, 76, 0);color: rgb(255, 255, 255);\">病例15</span></strong></p><p><span style=\"color: rgb(0, 0, 0);font-size: 15px;\">吴某（男、56岁、封开人），常住封开县江口镇东方二路115号。</span><span style=\"color: rgb(0, 0, 0);font-size: 15px;\">1月19日下午病例与苏某（病例14）在江口镇曲艺社一起参加粤剧排练。</span><span style=\"color: rgb(0, 0, 0);font-size: 15px;\">晚上与朋友到苏某（病例14）的店铺喝茶。</span><span style=\"color: rgb(0, 0, 0);font-size: 15px;\">20日晚与工友在江口镇宾悦酒店二楼聚餐。</span><span style=\"color: rgb(0, 0, 0);font-size: 15px;\">21－23日期间在封开县江口镇东方二路115号家中休息，曾到井根农贸市场购物。</span><span style=\"color: rgb(0, 0, 0);font-size: 15px;\">24日、26日晚上到江口镇东堤路25号亲戚家中参加家庭聚餐。</span><span style=\"color: rgb(0, 0, 0);font-size: 15px;\">1月27、29日及2月1日到杏花宾馆宿舍其朋友家中聚餐、打麻将。</span><span style=\"color: rgb(0, 0, 0);font-size: 15px;\">28日晚上再次到苏某（病例14）店铺喝茶。</span><span style=\"color: rgb(0, 0, 0);font-size: 15px;\">无武汉居住旅游史。</span><span style=\"color: rgb(0, 0, 0);font-size: 15px;\">2月3日出现咽痒不适，偶发性咳嗽，伴有低热。</span><span style=\"color: rgb(0, 0, 0);font-size: 15px;\">2月6日胸部CT检查结果显示右肺上叶炎症。</span><span style=\"color: rgb(0, 0, 0);font-size: 15px;\">2月8日送肇庆市一医院隔离治疗，采集咽拭子进行新型冠状病毒核酸检测，肇庆市一医院和肇庆市疾控中心报告均为阴性。</span><span style=\"color: rgb(0, 0, 0);font-size: 15px;\">2月9日肇庆市一医院取下呼吸道分泌物检测新型冠状病毒核酸初筛阳性，送肇庆市疾控中心复核，结果阳性。</span><span style=\"color: rgb(0, 0, 0);font-size: 15px;\">目前病人经治疗后，偶有咳嗽、咳痰，无畏寒、发热，病情稳定。</span></p><p><span style=\"color: rgb(0, 0, 0);font-size: 15px;\"> </span></p><p><strong><span style=\"font-size: 15px;background-color: rgb(255, 76, 0);color: rgb(255, 255, 255);\">病例14</span></strong></p><p><span style=\"color: rgb(0, 0, 0);font-size: 15px;\">苏某（男、55岁、封开人），在封开县江口镇经营乐惠士多店，常在店内聚众打牌。</span><span style=\"color: rgb(0, 0, 0);font-size: 15px;\">平常活动点为乐惠士多店和曙光路31号家中，1月24日晚到封开县广信嘉园朋友家中聚餐，1月28日晚到封开县唐八叔清补羊火锅店聚餐。</span><span style=\"color: rgb(0, 0, 0);font-size: 15px;\">有武汉返粤人员接触史，无其它外出旅游史。</span><span style=\"color: rgb(0, 0, 0);font-size: 15px;\">2月2日出现发热、轻微气喘等症状， 2月5日采集患者咽拭子及血清标本检测，2月6日检测结果显示阳性，确诊为新冠肺炎病例。</span><span style=\"color: rgb(0, 0, 0);font-size: 15px;\">患者属重症病例，有多年糖尿病史，因病情恶化，经抢救无效，于2月6日18时15分死亡。</span></p><p><span style=\"color: rgb(0, 0, 0);font-size: 15px;\"> </span></p><p><strong><span style=\"font-size: 15px;background-color: rgb(255, 76, 0);color: rgb(255, 255, 255);\">病例13</span></strong></p><p><span style=\"color: rgb(0, 0, 0);font-size: 15px;\">莫某（男、24岁、封开人），长期在湖北省黄冈市做生意。</span><span style=\"color: rgb(0, 0, 0);font-size: 15px;\">1月22日，乘坐19时06分T95班次火车（04车厢）从武汉返回到广州。</span><span style=\"color: rgb(0, 0, 0);font-size: 15px;\">1月23日，在广州滘口汽车站乘坐8时30分班次客车返回到封开县杏花镇新和村家中。</span><span style=\"color: rgb(0, 0, 0);font-size: 15px;\">2月1日，进行咽拭子检测，2月4日，省疾控中心新型冠状病毒核酸检测复核结果阳性。</span><span style=\"color: rgb(0, 0, 0);font-size: 15px;\">2月4日，在肇庆市第一人民医院进行肺部CT检查，显示肺部炎症，2月5日上午出现发热等临床症状，确诊为新冠肺炎患者。</span><span style=\"color: rgb(0, 0, 0);font-size: 15px;\">目前，正在定点医院规范治疗，病人病情稳定，生命体征良好。</span></p><p><span style=\"color: rgb(0, 0, 0);font-size: 15px;\"> </span></p><p><strong><span style=\"font-size: 15px;background-color: rgb(255, 76, 0);color: rgb(255, 255, 255);\">病例12</span></strong></p><p><span style=\"color: rgb(0, 0, 0);font-size: 15px;\">病例7江某的大儿子梁某（男、10岁、端州人），1月19日与父母梁某、江某（病例7、病例8）一起到广州南沙乘坐邮轮到越南旅游，1月24日与父母从广州南沙码头下船，自驾车返回端州，2月1日江某确诊为新冠肺炎患者，2月5日江某的大儿子出现发热等临床症状，2月5日确诊为新冠肺炎患者。</span><span style=\"color: rgb(0, 0, 0);font-size: 15px;\">目前正在定点医院规范治疗，病人病情稳定，生命体征良好。</span></p><p><span style=\"color: rgb(0, 0, 0);font-size: 15px;\"> </span></p><p><strong><span style=\"font-size: 15px;background-color: rgb(255, 76, 0);color: rgb(255, 255, 255);\">病例11</span></strong></p><p><span style=\"color: rgb(0, 0, 0);font-size: 15px;\">病例7江某的小儿子梁某（男、3岁、端州人），2月1日江某确诊为新冠肺炎患者，江某的小儿子为确诊病例密切接触者，2月4日江某的小儿子出现发热等临床症状，2月4日确诊为新冠肺炎患者。</span><span style=\"color: rgb(0, 0, 0);font-size: 15px;\">目前正在定点医院规范治疗，病人病情稳定，生命体征良好。</span><span style=\"color: rgb(0, 0, 0);font-size: 15px;\">经治疗，2020年2月11日已出院。</span></p><p><span style=\"color: rgb(0, 0, 0);font-size: 15px;\"> </span></p><p><strong><span style=\"font-size: 15px;background-color: rgb(255, 76, 0);color: rgb(255, 255, 255);\">病例10</span></strong></p><p><span style=\"color: rgb(0, 0, 0);font-size: 15px;\">病例7江某的婆婆钟某（女、62岁、鼎湖人），2月1日江某确诊为新冠肺炎患者，钟某为确诊病例密切接触者，2月2日江某的婆婆进行肺部CT检查，显示肺部炎症。</span><span style=\"color: rgb(0, 0, 0);font-size: 15px;\">2月3日江某的婆婆确诊为新冠肺炎患者。</span><span style=\"color: rgb(0, 0, 0);font-size: 15px;\">目前正在定点医院规范治疗，病人病情稳定，生命体征良好。</span></p><p><span style=\"color: rgb(0, 0, 0);font-size: 15px;\"> </span></p><p><strong><span style=\"font-size: 15px;background-color: rgb(255, 76, 0);color: rgb(255, 255, 255);\">病例9</span></strong></p><p><span style=\"color: rgb(0, 0, 0);font-size: 15px;\">病例7江某的公公梁某（男、64岁、鼎湖人），2月1日江某确诊为新冠肺炎患者，梁某为确诊病例密切接触者，2月2日梁某进行肺部CT检查，显示肺部炎症。</span><span style=\"color: rgb(0, 0, 0);font-size: 15px;\">2月3日梁某确诊为新冠肺炎患者。</span><span style=\"color: rgb(0, 0, 0);font-size: 15px;\">目前病人属重症病例，正在定点医院规范治疗。</span></p><p><span style=\"color: rgb(0, 0, 0);font-size: 15px;\"> </span></p><p><strong><span style=\"font-size: 15px;background-color: rgb(255, 76, 0);color: rgb(255, 255, 255);\">病例8</span></strong></p><p><span style=\"color: rgb(0, 0, 0);font-size: 15px;\">病例7江某的丈夫梁某（男、35岁、端州人）。</span><span style=\"color: rgb(0, 0, 0);font-size: 15px;\">1月19日与妻子、大儿子一起，自驾车到广州南沙乘坐邮轮到越南旅游，1月24日与家人从广州南沙码头下船，自驾车返回端州，1月25日梁某出现发热症状，1月31日晚上到肇庆市第一人民医院发热门诊就医。</span><span style=\"color: rgb(0, 0, 0);font-size: 15px;\">2月3日梁某确诊为新冠肺炎患者。</span><span style=\"color: rgb(0, 0, 0);font-size: 15px;\">目前正在定点医院规范治疗，病人病情稳定，生命体征良好。</span></p><p><span style=\"color: rgb(0, 0, 0);font-size: 15px;\"> </span></p><p><strong><span style=\"font-size: 15px;background-color: rgb(255, 76, 0);color: rgb(255, 255, 255);\">病例7</span></strong></p><p><span style=\"color: rgb(0, 0, 0);font-size: 15px;\">江某（女、33岁、端州人），近半年在端州区居住工作，无明显疫情发生地接触史，1月19日与丈夫、大儿子一起，自驾车到广州南沙乘坐邮轮到越南旅游，1月24日与家人从广州南沙码头下船，自驾车返回端州，江某1月25日出现发热症状，1月29日到高要区人民医院就医，1月31日到肇庆市第一人民医院发热门诊就医。</span><span style=\"color: rgb(0, 0, 0);font-size: 15px;\">2月1日江某确诊为新冠肺炎患者。</span><span style=\"color: rgb(0, 0, 0);font-size: 15px;\">目前正在定点医院规范治疗，病人病情稳定，生命体征良好。</span><span style=\"color: rgb(0, 0, 0);font-size: 15px;\">经治疗，2020年2月11日已出院。</span></p><p><span style=\"color: rgb(0, 0, 0);font-size: 15px;\">病例7、病例8、病例9、病例10、病例11、病例12属于新冠肺炎家庭聚集性病例。</span></p><p><span style=\"color: rgb(0, 0, 0);font-size: 15px;\"><br/></span></p><p><strong><span style=\"font-size: 15px;background-color: rgb(255, 76, 0);color: rgb(255, 255, 255);\">病例6</span></strong></p><p><span style=\"color: rgb(0, 0, 0);font-size: 15px;\">谭某（男、26岁、武汉人），在武汉居住工作，1月22日自驾车离开武汉，1月23日到广宁旅游，1月23日到当地医院检查，结果显示未见异常，1月24日开始进行为期14天集中隔离的医学观察，1月28日出现头痛、腹泻症状，1月29日住院隔离治疗，1月30日确诊。</span><span style=\"color: rgb(0, 0, 0);font-size: 15px;\">目前，正在定点医院规范治疗，病人病情稳定，生命体征良好。</span></p><p><span style=\"color: rgb(0, 0, 0);font-size: 15px;\"> </span></p><p><strong><span style=\"font-size: 15px;background-color: rgb(255, 76, 0);color: rgb(255, 255, 255);\">病例5</span></strong></p><p><span style=\"color: rgb(0, 0, 0);font-size: 15px;\">郭某（女、27岁、高要人），近半年在武汉居住工作，1月22日自驾车离开武汉回肇，1月23日到肇后无不适症状并纳入医学观察，1月25日出现发热症状，1月26日住院隔离治疗，1月28日确诊。</span><span style=\"color: rgb(0, 0, 0);font-size: 15px;\">目前，正在定点医院规范治疗，病人病情稳定，生命体征良好。</span><span style=\"color: rgb(0, 0, 0);font-size: 15px;\">经治疗，2020年2月10日已出院。</span></p><p><span style=\"color: rgb(0, 0, 0);font-size: 15px;\"> </span></p><p><strong><span style=\"font-size: 15px;background-color: rgb(255, 76, 0);color: rgb(255, 255, 255);\">病例4</span></strong></p><p><span style=\"color: rgb(0, 0, 0);font-size: 15px;\">李某（女、43岁、高要人），近半年在高要居住工作，无明显疫情发生地接触史，1月9日参加自组团到泰国旅游，乘坐泰国亚航FD537航班从广州白云机场抵达廊曼机场，1月13日出现“感冒、乏力”症状，1月14日乘坐泰国亚航FD530航班抵达广州白云机场，1月17日入院就诊，1月25日确诊。</span><span style=\"color: rgb(0, 0, 0);font-size: 15px;\">目前，正在定点医院规范治疗，病人病情稳定，生命体征良好。</span><span style=\"color: rgb(0, 0, 0);font-size: 15px;\">经治疗，2020年2月11日已出院。</span></p><p><span style=\"color: rgb(0, 0, 0);font-size: 15px;\"> </span></p><p><strong><span style=\"font-size: 15px;background-color: rgb(255, 76, 0);color: rgb(255, 255, 255);\">病例3</span></strong></p><p><span style=\"color: rgb(0, 0, 0);font-size: 15px;\">廖某（男、26岁、高要人），近半年在武汉居住工作，1月19日从武汉乘坐飞机到广州白云机场，随后由同事接载回端州，1月21日出现发热症状并入院就诊，1月25日确诊。</span><span style=\"color: rgb(0, 0, 0);font-size: 15px;\">经治疗，2020年2月8日已出院。</span></p><p><span style=\"color: rgb(0, 0, 0);font-size: 15px;\"> </span></p><p><strong><span style=\"font-size: 15px;background-color: rgb(255, 76, 0);color: rgb(255, 255, 255);\">病例2</span></strong></p><p><span style=\"color: rgb(0, 0, 0);font-size: 15px;\">林某（男、37岁、端州人），近半年在武汉居住工作，1月22日乘坐武广高铁G95班次列车回到广州南，在广州南站客运站乘坐前往端州的大巴，再乘坐滴滴车回端州。</span><span style=\"color: rgb(0, 0, 0);font-size: 15px;\">在武汉归家途中开始发热，但自己除乏力外无感觉到其他不适，在进家门前妻子发现其体温异常，其妻子自驾车送患者到医院就诊，1月24日确诊。</span><span style=\"color: rgb(0, 0, 0);font-size: 15px;\">经治疗，2020年2月8日已出院。</span></p><p><span style=\"color: rgb(0, 0, 0);font-size: 15px;\"> </span></p><p><strong><span style=\"font-size: 15px;background-color: rgb(255, 76, 0);color: rgb(255, 255, 255);\">病例1</span></strong></p><p><span style=\"color: rgb(0, 0, 0);font-size: 15px;\">黎某（女、25岁、四会人），近半年在武汉居住工作。</span><span style=\"color: rgb(0, 0, 0);font-size: 15px;\">1月11日出现鼻塞、流涕、间歇性咳嗽等症状，1月13日和16日在武汉医院就诊，1月17日乘坐G1015次列车（座位号3车厢）回广州南站，在广州南站客运站乘坐前往四会的大巴，再乘坐滴滴车回四会，1月18日入院就诊，1月22日确诊。</span><span style=\"color: rgb(0, 0, 0);font-size: 15px;\">经治疗，2020年1月31日已出院。</span></p></section></section></section></section></section></section></section></section></section></section></section></section></section></section></section></section></section></section></section></section></section></section></section></section></section></section></section></section><p style=\"text-align: center;\"><br/></p><section data-color=\"rgb(216, 40, 33)\" data-style-id=\"24908\" data-support=\"96编辑器\"><section style=\"margin-top: 10px;margin-bottom: 10px;text-align: center;\"><section style=\"display: inline-block;\"><section style=\"padding-bottom: 5px;border-style: solid;border-width: 1px;border-color: rgb(216, 40, 33);display: inline-block;background-color: rgb(216, 40, 33);border-radius: 8px;color: rgb(255, 255, 255);\"><section style=\"padding: 2px 15px;background-color: rgb(254, 254, 254);border-radius: 8px;\"><p style=\"letter-spacing: 2px;\"><strong><span style=\"font-size: 15px;color: rgb(0, 0, 0);\">全市累计确诊病例涉及的小区或场所</span></strong></p></section></section><section style=\"margin-top: -2px;margin-left: 15px;height: 0px;transform: rotateZ(0deg);border-left: 12px solid rgb(216, 40, 33);width: 0px;border-bottom: 12px solid transparent !important;\"><br/></section><section style=\"margin-top: -11px;margin-left: 14px;height: 0px;border-left: 13px solid rgb(216, 40, 33);width: 0px;border-bottom: 13px solid transparent !important;\"><br/></section></section></section></section><section data-style-id=\"23010\" data-support=\"96编辑器\"><section><section><section><section data-style-id=\"24493\" data-support=\"96编辑器\"><p style=\"white-space: normal;font-size: 0px;color: rgba(255, 255, 255, 0);\">1</p></section></section></section></section></section><section data-style-id=\"17212\" data-support=\"96编辑器\"><section style=\"margin-top: 10px;margin-bottom: 10px;box-sizing: border-box;\"><section style=\"padding: 3px;background-color: #efefef;box-sizing: border-box;\"><section style=\"-ms-word-wrap: break-word !important;max-width: 100%;box-sizing: border-box !important;\"><section style=\"-ms-word-wrap: break-word !important;max-width: 100%;box-sizing: border-box !important;\"><section style=\"-ms-word-wrap: break-word !important;max-width: 100%;box-sizing: border-box !important;padding:8px 8px;box-sizing:border-box;\"><section style=\"margin-right: auto;margin-left: auto;padding: 1em;max-width: 100%;box-sizing: border-box;height: 10em;font-size: 1em;line-height: 1.5em;overflow: auto;word-wrap: break-word !important;\"><section style=\"letter-spacing: 1.2px;line-height: 25px;\"><p style=\"font-family: -apple-system-font, BlinkMacSystemFont, Arial, sans-serif;font-size: 15px;letter-spacing: 0.544px;white-space: normal;text-align: left;\"><strong><span style=\"color: rgb(0, 82, 255);\">端州区</span></strong>：睦岗街道锦绣山河小区、城东街道帝和豪庭小区</p><p style=\"font-family: -apple-system-font, BlinkMacSystemFont, Arial, sans-serif;font-size: 15px;letter-spacing: 0.544px;white-space: normal;text-align: left;\"><strong><span style=\"color: rgb(0, 82, 255);\">鼎湖区</span></strong>：坑口街道一米阳光小区</p><p style=\"font-family: -apple-system-font, BlinkMacSystemFont, Arial, sans-serif;font-size: 15px;letter-spacing: 0.544px;white-space: normal;text-align: left;\"><strong><span style=\"color: rgb(0, 82, 255);\">高要</span></strong><strong><span style=\"color: rgb(0, 82, 255);\">区</span></strong>：南岸街道珀丽湾小区、南岸街道帝景蓝湾小区、大湾镇禄岸村</p><p style=\"font-family: -apple-system-font, BlinkMacSystemFont, Arial, sans-serif;font-size: 15px;letter-spacing: 0.544px;white-space: normal;text-align: left;\"><strong><span style=\"color: rgb(0, 82, 255);\">四会市</span></strong>：东城街道九龙湾小区</p><p style=\"font-family: -apple-system-font, BlinkMacSystemFont, Arial, sans-serif;font-size: 15px;letter-spacing: 0.544px;white-space: normal;text-align: left;\"><strong><span style=\"color: rgb(0, 82, 255);\">广宁县</span></strong>：南街镇碧翠湖度假村</p><p><strong><span style=\"color: rgb(0, 82, 255);\">封开县</span></strong>：<span style=\"font-size: 15px;\">封开县杏花镇新和村、江口镇乐惠士多店、江口镇曙光路31号、封开县广信嘉园、封开县唐八叔清补羊火锅店、封开县江口镇东方二路115号、江口镇宾悦酒店、井根农贸市场、江口镇东堤路25号、杏花宾馆宿舍、封开县江口镇水上居民安置楼、江口镇星辉曲艺社江口社区、平凤镇新围村、<span style=\"letter-spacing: 1.5px;\">封开县江口镇河堤二路22号、江口镇蝴蝶塘路封开县曲艺社、</span>好又多超市。</span></p><p><br/></p><p><span style=\"font-size: 15px;\">肇庆市17例确诊病例涉及6个县（市、区）24个小区或场所，<span style=\"font-size: 15px;letter-spacing: 0.544px;\">发现确诊病例后，市、县两级疾控部门已立即对所涉及的小区或场所进行了严格的终末消毒，督促指导社区和物业做好日常预防性消毒工作。与病例有关的密切接触者已送指定场所进行集中隔离医学观察。希望大家做好个人防护。</span></span></p></section></section></section></section></section></section><section data-width=\"100%\" style=\"width: 100%;margin-top: -4px;box-sizing: border-box;\"><section style=\"width: 50px;height: 4px;background-color: rgb(235, 131, 92);\"><br/></section></section></section></section><section data-style-id=\"25820\" data-support=\"96编辑器\"><section><section><section><section data-width=\"100%\"><p style=\"text-align: center;\"><img _width=\"332px\" class=\"rich_pages js_insertlocalimg\" data-ratio=\"3.9234375\" data-s=\"300,640\" data-src=\"https://mmbiz.qpic.cn/mmbiz_jpg/z2KVp01hujGsD4EhpTriaich7ZGnswpdmde0trE8utSxxfdQ8m2VFYCQJYoyDOpNrP6I3VWB4m863SMjK24D7Q6Q/640?wx_fmt=jpeg\" data-type=\"jpeg\" data-w=\"640\" style=\"width: 332px;height: 1303px;\"/></p><section data-style-id=\"24493\" data-support=\"96编辑器\"><p style=\"font-size: 0px;color: rgba(255, 255, 255, 0);\">1</p></section></section></section></section></section></section></section></section></section></section></section></section><p><span style=\"font-size: 14px;\">相关链接：</span><br/></p><p><span style=\"font-size: 14px;\">☛</span><a data-itemshowtype=\"0\" data-linktype=\"2\" hasload=\"1\" href=\"http://mp.weixin.qq.com/s?__biz=MzA4ODUyODMwOA==&amp;mid=2650688316&amp;idx=2&amp;sn=5257fdd4c3688dc3b569b125471f6d09&amp;chksm=88222fe7bf55a6f132134092fd10cadc967c9b2b3929a5e5ed84cd71071c7d8f6dc60f4ddbd0&amp;scene=21#wechat_redirect\" style=\"text-decoration: underline;\" tab=\"innerlink\" target=\"_blank\"><span style=\"font-size: 14px;\">@肇庆市民，轻微发热不用跑医院！这里可免费咨询专家</span></a><span style=\"font-size: 14px;text-decoration: underline;\">；</span></p><p><span style=\"font-size: 14px;\">☛</span><a data-itemshowtype=\"0\" data-linktype=\"2\" hasload=\"1\" href=\"http://mp.weixin.qq.com/s?__biz=MzA4ODUyODMwOA==&amp;mid=2650688293&amp;idx=7&amp;sn=78128aafa4e0fa2a072274396859328b&amp;chksm=88222ffebf55a6e8f1bc40d8ff64eac71dfb44ee5e9140cd71c9ce8d3de2d4f2b97f8deee15a&amp;scene=21#wechat_redirect\" style=\"font-size: 14px;text-decoration: underline;\" tab=\"innerlink\" target=\"_blank\">一图读懂新型冠状病毒传播途径与预防指南！</a></p><p style=\"max-width: 100%;min-height: 1em;letter-spacing: 0.544px;white-space: normal;background-color: rgb(255, 255, 255);text-align: center;font-family: -apple-system-font, BlinkMacSystemFont, Arial, sans-serif;box-sizing: border-box !important;word-wrap: break-word !important;\"><br/></p><p style=\"max-width: 100%;min-height: 1em;letter-spacing: 0.544px;white-space: normal;background-color: rgb(255, 255, 255);text-align: center;font-family: -apple-system-font, BlinkMacSystemFont, Arial, sans-serif;box-sizing: border-box !important;word-wrap: break-word !important;\"><span style=\"max-width: 100%;font-size: 14px;color: rgb(136, 136, 136);box-sizing: border-box !important;word-wrap: break-word !important;\">编辑 健康肇庆编辑部</span></p><p style=\"max-width: 100%;min-height: 1em;letter-spacing: 0.544px;white-space: normal;background-color: rgb(255, 255, 255);font-family: -apple-system-font, BlinkMacSystemFont, Arial, sans-serif;box-sizing: border-box !important;word-wrap: break-word !important;\"><img _width=\"677px\" class=\"rich_pages\" data-backh=\"33\" data-backw=\"574\" data-ratio=\"0.05776173285198556\" data-s=\"300,640\" data-src=\"https://mmbiz.qpic.cn/mmbiz_jpg/z2KVp01hujHGFpsjEVkdOJcsOPjICpapia6VXwFVx9LeZnxkiaWW6RXSO2WzFU0LTcIRlMicRwFXjH5k6UEDbMtPA/640?wx_fmt=jpeg\" data-type=\"jpeg\" data-w=\"554\" data-width=\"100%\" style=\"letter-spacing: 0.54px;font-size: 14px;overflow-wrap: break-word;box-sizing: border-box !important;word-wrap: break-word !important;outline: 0px !important;visibility: visible !important;width: 677px !important;height: auto !important;\" width=\"554\"/></p><p style=\"max-width: 100%;min-height: 1em;letter-spacing: 0.544px;white-space: normal;background-color: rgb(255, 255, 255);font-size: 16px;font-family: -apple-system-font, BlinkMacSystemFont, Arial, sans-serif;box-sizing: border-box !important;word-wrap: break-word !important;\"><br/></p><section style=\"max-width: 100%;white-space: normal;background-color: rgb(255, 255, 255);text-align: center;font-size: 15px;letter-spacing: 0.54px;font-family: -apple-system-font, BlinkMacSystemFont, Arial, sans-serif;box-sizing: border-box !important;word-wrap: break-word !important;\"><section style=\"max-width: 100%;box-sizing: border-box;border-width: 0px;color: rgb(221, 214, 214);letter-spacing: 0.54px;font-size: 14px;overflow-wrap: break-word;font-family: 微软雅黑;word-wrap: break-word !important;\"><section style=\"padding: 10px;max-width: 100%;box-sizing: border-box;overflow-wrap: break-word;word-wrap: break-word !important;\"><section style=\"max-width: 100%;letter-spacing: 0.54px;overflow-wrap: break-word;box-sizing: border-box !important;word-wrap: break-word !important;\"><section style=\"max-width: 100%;overflow-wrap: break-word;box-sizing: border-box !important;word-wrap: break-word !important;\"><section style=\"max-width: 100%;overflow-wrap: break-word;box-sizing: border-box !important;word-wrap: break-word !important;\"><section style=\"max-width: 100%;overflow-wrap: break-word;box-sizing: border-box !important;word-wrap: break-word !important;\"><section style=\"max-width: 100%;box-sizing: border-box;border-width: 0px;letter-spacing: 0.54px;overflow-wrap: break-word;word-wrap: break-word !important;\"><section style=\"padding: 10px;max-width: 100%;box-sizing: border-box;overflow-wrap: break-word;word-wrap: break-word !important;\"><section style=\"max-width: 100%;letter-spacing: 0.54px;overflow-wrap: break-word;box-sizing: border-box !important;word-wrap: break-word !important;\"><section style=\"max-width: 100%;overflow-wrap: break-word;box-sizing: border-box !important;word-wrap: break-word !important;\"><section style=\"max-width: 100%;overflow-wrap: break-word;box-sizing: border-box !important;word-wrap: break-word !important;\"><section data-color=\"#053987\" data-style-type=\"5\" style=\"max-width: 100%;overflow-wrap: break-word;box-sizing: border-box !important;word-wrap: break-word !important;\"><section style=\"max-width: 100%;letter-spacing: 0.54px;overflow-wrap: break-word;font-family: mp-quote, -apple-system-font, BlinkMacSystemFont, Arial, sans-serif;box-sizing: border-box !important;word-wrap: break-word !important;outline: 0px !important;\"><section style=\"max-width: 100%;overflow-wrap: break-word;box-sizing: border-box !important;word-wrap: break-word !important;outline: 0px !important;\"><section style=\"max-width: 100%;overflow-wrap: break-word;box-sizing: border-box !important;word-wrap: break-word !important;outline: 0px !important;\"><section style=\"max-width: 100%;overflow-wrap: break-word;box-sizing: border-box !important;word-wrap: break-word !important;outline: 0px !important;\"><section data-color=\"#d82821\" data-custom=\"#d82821\" style=\"max-width: 100%;letter-spacing: 0.54px;widows: 1;overflow-wrap: break-word;font-family: -apple-system-font, BlinkMacSystemFont, Arial, sans-serif;box-sizing: border-box !important;word-wrap: break-word !important;outline: 0px !important;\"><section data-width=\"100%\" style=\"max-width: 100%;width: 637px;overflow-wrap: break-word;box-sizing: border-box !important;word-wrap: break-word !important;outline: 0px !important;\"><section style=\"max-width: 100%;letter-spacing: 0.54px;overflow-wrap: break-word;box-sizing: border-box !important;word-wrap: break-word !important;outline: 0px !important;\"><section style=\"max-width: 100%;box-sizing: border-box;border-width: 0px;line-height: 25.6px;letter-spacing: 0.54px;overflow-wrap: break-word;font-family: 微软雅黑;word-wrap: break-word !important;outline: 0px !important;\"><section style=\"max-width: 100%;box-sizing: border-box;border-width: 0px;line-height: 25.6px;letter-spacing: 0.54px;overflow-wrap: break-word;word-wrap: break-word !important;outline: 0px !important;\"><section style=\"max-width: 100%;box-sizing: border-box;border-width: 0px;letter-spacing: 0.54px;overflow-wrap: break-word;word-wrap: break-word !important;outline: 0px !important;\"><section style=\"max-width: 100%;overflow-wrap: break-word;box-sizing: border-box !important;word-wrap: break-word !important;outline: 0px !important;\"><section style=\"max-width: 100%;overflow-wrap: break-word;box-sizing: border-box !important;word-wrap: break-word !important;outline: 0px !important;\"><section style=\"max-width: 100%;overflow-wrap: break-word;box-sizing: border-box !important;word-wrap: break-word !important;outline: 0px !important;\"><section style=\"max-width: 100%;overflow-wrap: break-word;box-sizing: border-box !important;word-wrap: break-word !important;outline: 0px !important;\"><section style=\"max-width: 100%;overflow-wrap: break-word;box-sizing: border-box !important;word-wrap: break-word !important;outline: 0px !important;\"><section style=\"max-width: 100%;box-sizing: border-box;border-width: 0px;overflow-wrap: break-word;word-wrap: break-word !important;outline: 0px !important;\"><section style=\"max-width: 100%;overflow-wrap: break-word;box-sizing: border-box !important;word-wrap: break-word !important;outline: 0px !important;\"><section data-width=\"100%\" style=\"max-width: 100%;width: 637px;overflow-wrap: break-word;box-sizing: border-box !important;word-wrap: break-word !important;outline: 0px !important;\"><section style=\"max-width: 100%;overflow-wrap: break-word;box-sizing: border-box !important;word-wrap: break-word !important;outline: 0px !important;\"><section style=\"max-width: 100%;box-sizing: border-box;border-width: 0px;overflow-wrap: break-word;word-wrap: break-word !important;outline: 0px !important;\"><article style=\"max-width: 100%;line-height: 25.6px;overflow-wrap: break-word;box-sizing: border-box !important;word-wrap: break-word !important;outline: 0px !important;\"><section style=\"max-width: 100%;overflow-wrap: break-word;box-sizing: border-box !important;word-wrap: break-word !important;outline: 0px !important;\"><section style=\"max-width: 100%;overflow-wrap: break-word;box-sizing: border-box !important;word-wrap: break-word !important;outline: 0px !important;\"><section style=\"padding-right: 0.5em;padding-left: 0.5em;max-width: 100%;box-sizing: border-box;letter-spacing: 0.7px;font-size: 20px;overflow-wrap: break-word;word-wrap: break-word !important;outline: 0px !important;\"><section style=\"max-width: 100%;overflow-wrap: break-word;box-sizing: border-box !important;word-wrap: break-word !important;outline: 0px !important;\"><section style=\"max-width: 100%;overflow-wrap: break-word;box-sizing: border-box !important;word-wrap: break-word !important;outline: 0px !important;\"><section style=\"max-width: 100%;box-sizing: border-box;border-width: 0px;overflow-wrap: break-word;word-wrap: break-word !important;outline: 0px !important;\"><section style=\"max-width: 100%;overflow-wrap: break-word;box-sizing: border-box !important;word-wrap: break-word !important;outline: 0px !important;\"><section style=\"max-width: 100%;overflow-wrap: break-word;box-sizing: border-box !important;word-wrap: break-word !important;outline: 0px !important;\"><section style=\"max-width: 100%;overflow-wrap: break-word;box-sizing: border-box !important;word-wrap: break-word !important;outline: 0px !important;\"><section style=\"max-width: 100%;overflow-wrap: break-word;box-sizing: border-box !important;word-wrap: break-word !important;outline: 0px !important;\"><section data-style-type=\"1\" style=\"max-width: 100%;box-sizing: border-box;border-width: 0px;overflow-wrap: break-word;word-wrap: break-word !important;outline: 0px !important;\"><section style=\"max-width: 100%;overflow-wrap: break-word;box-sizing: border-box !important;word-wrap: break-word !important;outline: 0px !important;\"><section style=\"max-width: 100%;overflow-wrap: break-word;box-sizing: border-box !important;word-wrap: break-word !important;outline: 0px !important;\"><section style=\"max-width: 100%;overflow-wrap: break-word;box-sizing: border-box !important;word-wrap: break-word !important;outline: 0px !important;\"><section style=\"max-width: 100%;overflow-wrap: break-word;box-sizing: border-box !important;word-wrap: break-word !important;outline: 0px !important;\"><section style=\"max-width: 100%;overflow-wrap: break-word;box-sizing: border-box !important;word-wrap: break-word !important;outline: 0px !important;\"><section style=\"max-width: 100%;overflow-wrap: break-word;box-sizing: border-box !important;word-wrap: break-word !important;outline: 0px !important;\"><article style=\"max-width: 100%;overflow-wrap: break-word;box-sizing: border-box !important;word-wrap: break-word !important;outline: 0px !important;\"><section style=\"max-width: 100%;overflow-wrap: break-word;box-sizing: border-box !important;word-wrap: break-word !important;outline: 0px !important;\"><section style=\"max-width: 100%;text-align: justify;letter-spacing: 0.54px;font-size: 16px;overflow-wrap: break-word;box-sizing: border-box !important;word-wrap: break-word !important;outline: 0px !important;\"><section style=\"max-width: 100%;overflow-wrap: break-word;box-sizing: border-box !important;word-wrap: break-word !important;outline: 0px !important;\"><article style=\"max-width: 100%;overflow-wrap: break-word;box-sizing: border-box !important;word-wrap: break-word !important;outline: 0px !important;\"><section style=\"max-width: 100%;overflow-wrap: break-word;box-sizing: border-box !important;word-wrap: break-word !important;outline: 0px !important;\"><section style=\"max-width: 100%;overflow-wrap: break-word;box-sizing: border-box !important;word-wrap: break-word !important;outline: 0px !important;\"><section data-color=\"#b6e4fd\" data-custom=\"#b6e4fd\" style=\"max-width: 100%;box-sizing: border-box;border-width: 0px;letter-spacing: 0.47px;overflow-wrap: break-word;word-wrap: break-word !important;outline: 0px !important;\"><section style=\"margin-left: 10px;max-width: 100%;box-sizing: border-box;border-radius: 0px 5px 5px 0px;text-align: inherit;text-decoration: inherit;background-color: rgb(244, 244, 244);overflow-wrap: break-word;word-wrap: break-word !important;outline: 0px !important;\"><section style=\"margin-top: 10px;margin-right: 8px;margin-left: -8px;max-width: 100%;color: rgb(254, 254, 254);font-style: inherit;text-decoration: inherit;float: left;background-color: transparent;overflow-wrap: break-word;box-sizing: border-box !important;word-wrap: break-word !important;outline: 0px !important;\"><p style=\"max-width: 100%;min-height: 1em;letter-spacing: 0.5px;overflow-wrap: break-word;box-sizing: border-box !important;word-wrap: break-word !important;outline: 0px !important;\"><span style=\"padding: 0.3em 0.5em;max-width: 100%;border-radius: 0px 0.5em 0.5em 0px;color: rgb(5, 115, 175);font-size: 15px;display: inline-block;background-color: rgb(182, 228, 253);overflow-wrap: break-word;box-sizing: border-box !important;word-wrap: break-word !important;outline: 0px !important;\"><strong data-brushtype=\"text\" style=\"max-width: 100%;overflow-wrap: break-word;box-sizing: border-box !important;word-wrap: break-word !important;outline: 0px !important;\">热点回顾</strong> </span></p></section><section data-style=\"box-sizing: border-box;line-height: 25.6000003814697px; background-color: rgb(244, 244, 244);\" style=\"padding: 15px 20px;max-width: 100%;box-sizing: border-box;overflow-wrap: break-word;word-wrap: break-word !important;outline: 0px !important;\"><p style=\"max-width: 100%;min-height: 1em;overflow-wrap: break-word;box-sizing: border-box !important;word-wrap: break-word !important;outline: 0px !important;\"><a data-linktype=\"2\" href=\"http://mp.weixin.qq.com/s?__biz=MzA4ODUyODMwOA==&amp;mid=2650678628&amp;idx=1&amp;sn=417ad1c8575bd91fbcd33a70f35f11ca&amp;chksm=882241bfbf55c8a94f01838e298083b790b2ecff6d4aa17e000492299872186e442e15166266&amp;scene=21#wechat_redirect\" style=\"color: rgb(51, 51, 51);-webkit-tap-highlight-color: rgba(0, 0, 0, 0);cursor: pointer;text-align: inherit;letter-spacing: 0.47px;overflow-wrap: break-word;max-width: 100%;font-size: 14px;outline: 0px !important;box-sizing: border-box !important;word-wrap: break-word !important;\" target=\"_blank\"><span style=\"max-width: 100%;font-size: 14px;box-sizing: border-box !important;word-wrap: break-word !important;\">◢</span></a><span style=\"max-width: 100%;font-size: 14px;box-sizing: border-box !important;word-wrap: break-word !important;\"> <a data-itemshowtype=\"0\" data-linktype=\"2\" href=\"http://mp.weixin.qq.com/s?__biz=MzA4ODUyODMwOA==&amp;mid=2650688928&amp;idx=1&amp;sn=307323eacccdd5f432dab5ce58a87fdf&amp;chksm=8822297bbf55a06d2ecbf63a226ca09d3540e60219d5fe67eb728c573efe4a0b43b084941797&amp;scene=21#wechat_redirect\" tab=\"innerlink\" target=\"_blank\">今天，肇庆3例确诊患者治愈出院！包括一名3岁儿童</a></span><br style=\"max-width: 100%;box-sizing: border-box !important;word-wrap: break-word !important;\"/></p><p style=\"max-width: 100%;min-height: 1em;letter-spacing: 0.47px;overflow-wrap: break-word;box-sizing: border-box !important;word-wrap: break-word !important;outline: 0px !important;\"><a data-linktype=\"2\" href=\"http://mp.weixin.qq.com/s?__biz=MzA4ODUyODMwOA==&amp;mid=2650678628&amp;idx=1&amp;sn=417ad1c8575bd91fbcd33a70f35f11ca&amp;chksm=882241bfbf55c8a94f01838e298083b790b2ecff6d4aa17e000492299872186e442e15166266&amp;scene=21#wechat_redirect\" style=\"color: rgb(51, 51, 51);-webkit-tap-highlight-color: rgba(0, 0, 0, 0);cursor: pointer;text-align: inherit;letter-spacing: 0.47px;overflow-wrap: break-word;max-width: 100%;font-size: 14px;outline: 0px !important;box-sizing: border-box !important;word-wrap: break-word !important;\" target=\"_blank\"><span style=\"max-width: 100%;font-size: 14px;box-sizing: border-box !important;word-wrap: break-word !important;\">◢</span></a><span style=\"max-width: 100%;font-size: 14px;box-sizing: border-box !important;word-wrap: break-word !important;\"> <a data-itemshowtype=\"0\" data-linktype=\"2\" href=\"http://mp.weixin.qq.com/s?__biz=MzA4ODUyODMwOA==&amp;mid=2650688914&amp;idx=1&amp;sn=dae59d6ebab1029d3fbdd062edca6fb4&amp;chksm=88222949bf55a05f22196cad556dcd0dca57bc8cb9b5653f2c1f50508257ef754b072687452d&amp;scene=21#wechat_redirect\" tab=\"innerlink\" target=\"_blank\">今天，肇庆第二批驰援湖北医疗队出征！请平安归来</a></span><br style=\"max-width: 100%;box-sizing: border-box !important;word-wrap: break-word !important;\"/></p></section></section></section></section></section></article></section></section></section></article></section></section></section></section></section></section></section></section></section></section></section></section></section></section></section></section></section></article></section></section></section></section></section><section data-color=\"#59c3f9\" data-custom=\"#59c3f9\" style=\"max-width: 100%;box-sizing: border-box;border-width: 0px;overflow-wrap: break-word;word-wrap: break-word !important;outline: 0px !important;\"><section style=\"max-width: 100%;overflow-wrap: break-word;box-sizing: border-box !important;word-wrap: break-word !important;outline: 0px !important;\"><section style=\"max-width: 100%;overflow-wrap: break-word;box-sizing: border-box !important;word-wrap: break-word !important;outline: 0px !important;\"><section style=\"max-width: 100%;overflow-wrap: break-word;box-sizing: border-box !important;word-wrap: break-word !important;outline: 0px !important;\"><section data-style=\"font-size:14px;\" style=\"max-width: 100%;overflow-wrap: break-word;box-sizing: border-box !important;word-wrap: break-word !important;outline: 0px !important;\"><section style=\"max-width: 100%;line-height: normal;min-height: 1em;overflow-wrap: break-word;box-sizing: border-box !important;word-wrap: break-word !important;outline: 0px !important;\"><br style=\"max-width: 100%;overflow-wrap: break-word;box-sizing: border-box !important;word-wrap: break-word !important;\"/></section><p style=\"max-width: 100%;min-height: 1em;box-sizing: border-box !important;word-wrap: break-word !important;\"><img _width=\"637px\" class=\"rich_pages\" data-croporisrc=\"https://mmbiz.qpic.cn/mmbiz_jpg/e1gtbF9EWpia0jKibtCXQ474PcmtwumuNwDtFTbn2AEV6tyDp1Q7wlO1ntp4wkYnmNwcPpavs0YxO2JJf0FHUTww/?wx_fmt=jpeg\" data-cropx1=\"0\" data-cropx2=\"1280\" data-cropy1=\"0\" data-cropy2=\"3151.7872968980796\" data-ratio=\"2.4625\" data-s=\"300,640\" data-src=\"https://mmbiz.qpic.cn/mmbiz_jpg/z2KVp01hujFD7H9mTMbOLIFRa64qiaibKbWYXSslKrdzavXJtHfLIjIaKx5Mml4n9kohicJTUTgylSenVyLNTic2sw/640?wx_fmt=jpeg\" data-type=\"jpeg\" data-w=\"1280\" style=\"letter-spacing: 0.544px;color: rgb(62, 62, 62);font-family: -apple-system-font, BlinkMacSystemFont, Arial, sans-serif;box-sizing: border-box !important;word-wrap: break-word !important;overflow-wrap: break-word !important;visibility: visible !important;width: 637px !important;height: auto !important;\"/></p><p style=\"max-width: 100%;min-height: 1em;box-sizing: border-box !important;word-wrap: break-word !important;\"><img _width=\"637px\" class=\"rich_pages __bg_gif\" data-ratio=\"0.5\" data-s=\"300,640\" data-src=\"https://mmbiz.qpic.cn/mmbiz_gif/z2KVp01hujGz139R2uDgDB8ySjZicCzbq3ouGCuTicrRVwMkkOcFjUVAxCzaRBos5hdFjzibfLOMSnKCkRfAOoSrg/640?wx_fmt=gif\" data-type=\"gif\" data-w=\"600\" style=\"box-sizing: border-box !important;word-wrap: break-word !important;visibility: visible !important;width: 637px !important;height: auto !important;\"/></p></section></section></section></section></section></section></section></section></section></section></section></section></section></section></section></section></section></section></section></section></section><section data-color=\"#053987\" data-style-type=\"5\" style=\"max-width: 100%;text-align: right;letter-spacing: 0.54px;overflow-wrap: break-word;font-family: -apple-system-font, BlinkMacSystemFont, Arial, sans-serif;box-sizing: border-box !important;word-wrap: break-word !important;\"><strong style=\"max-width: 100%;letter-spacing: 0.54px;font-size: 18px;overflow-wrap: break-word;box-sizing: border-box !important;word-wrap: break-word !important;\"><span style=\"max-width: 100%;color: rgb(217, 33, 66);overflow-wrap: break-word;box-sizing: border-box !important;word-wrap: break-word !important;\">点个“在看”让更多人知</span></strong><strong style=\"max-width: 100%;letter-spacing: 0.54px;font-size: 18px;overflow-wrap: break-word;box-sizing: border-box !important;word-wrap: break-word !important;\"><span style=\"max-width: 100%;color: rgb(217, 33, 66);overflow-wrap: break-word;box-sizing: border-box !important;word-wrap: break-word !important;\">道！<strong style=\"max-width: 100%;color: rgb(221, 214, 214);letter-spacing: 0.544px;box-sizing: border-box !important;word-wrap: break-word !important;\"><span style=\"max-width: 100%;color: rgb(217, 33, 66);box-sizing: border-box !important;word-wrap: break-word !important;\"><img _width=\"30px\" class=\"__bg_gif\" data-copyright=\"0\" data-ratio=\"0.6197183098591549\" data-src=\"https://mmbiz.qpic.cn/mmbiz_gif/N9vLx3iaECqMRzOficLJVia0W5xwyksDkuYvySU9wV70PavtAKrAKzZW2CnSCpVNcqACAqTPZApLhpw2XbSCY3QYg/640?wx_fmt=gif\" data-type=\"gif\" data-w=\"71\" style=\"letter-spacing: 0.544px;line-height: 31.5px;color: rgb(62, 62, 62);overflow-wrap: break-word;white-space: pre-wrap;min-height: 0px;background-clip: border-box;background-size: auto;border-width: 0px;border-style: none;border-color: rgb(62, 62, 62);bottom: auto;display: inline;left: auto;max-height: none;min-width: 0px;text-align: center;top: auto;z-index: auto;clear: none;font-family: 微软雅黑;background-position: 0% 0%;background-repeat: repeat;box-sizing: border-box !important;word-wrap: break-word !important;visibility: visible !important;width: 30px !important;height: auto !important;\" width=\"30px\"/></span></strong></span></strong></section></section></section></section></section></section></section></section></section></section></section></section></section>\n",
       "</div>"
      ]
     },
     "execution_count": 39,
     "metadata": {},
     "output_type": "execute_result"
    }
   ],
   "source": [
    "slec[0]"
   ]
  },
  {
   "cell_type": "code",
   "execution_count": 43,
   "metadata": {},
   "outputs": [],
   "source": [
    "img = slec[0].find_all('img')"
   ]
  },
  {
   "cell_type": "code",
   "execution_count": 45,
   "metadata": {},
   "outputs": [
    {
     "data": {
      "text/plain": [
       "7"
      ]
     },
     "execution_count": 45,
     "metadata": {},
     "output_type": "execute_result"
    }
   ],
   "source": [
    "len(img)"
   ]
  },
  {
   "cell_type": "code",
   "execution_count": 61,
   "metadata": {},
   "outputs": [
    {
     "data": {
      "text/plain": [
       "'jpeg'"
      ]
     },
     "execution_count": 61,
     "metadata": {},
     "output_type": "execute_result"
    }
   ],
   "source": [
    "img[2]['data-type']"
   ]
  },
  {
   "cell_type": "code",
   "execution_count": 50,
   "metadata": {},
   "outputs": [],
   "source": [
    "resource_name = soup.select('#js_name')"
   ]
  },
  {
   "cell_type": "code",
   "execution_count": 53,
   "metadata": {},
   "outputs": [],
   "source": [
    "resource_name = resource_name[0].get_text()"
   ]
  },
  {
   "cell_type": "code",
   "execution_count": 54,
   "metadata": {},
   "outputs": [],
   "source": [
    "resource_name = re.sub(r'[^\\u4e00-\\u9fa5]','',resource_name)"
   ]
  },
  {
   "cell_type": "code",
   "execution_count": 55,
   "metadata": {},
   "outputs": [
    {
     "data": {
      "text/plain": [
       "'健康肇庆'"
      ]
     },
     "execution_count": 55,
     "metadata": {},
     "output_type": "execute_result"
    }
   ],
   "source": [
    "resource_name"
   ]
  },
  {
   "cell_type": "code",
   "execution_count": 62,
   "metadata": {},
   "outputs": [],
   "source": [
    "url = good_url['url'][0]\n",
    "site = re.search(r'(https*://)(.+?)(/)',url).group(2)\n",
    "# 用引擎\n",
    "driver.get(url)\n",
    "# sleep(0.2)\n",
    "# try:\n",
    "html =  driver.page_source\n",
    "# except Expection as e:\n",
    "#     return '',''\n",
    "# soup = etree.HTML(html)\n",
    "# name = soup.xpath('//*[@id=\"js_name\"]')\n",
    "# content = soup.xpath('//*[@id=\"js_content\"]')\n",
    "soup = BeautifulSoup(html, 'html.parser')\n",
    "sn,sc = ['#js_name','#js_content']\n",
    "resource_name = soup.select(sn)\n",
    "content = soup.select(sc)[0].get_text()\n",
    "resource_name = resource_name[0].get_text()\n",
    "resource_name = re.sub(r'[^\\u4e00-\\u9fa5]','',resource_name)\n",
    "\n",
    "img_list = []\n",
    "imgs = soup.select(sc)[0].find_all('img')\n",
    "if len(img)>=1:\n",
    "    for img in imgs:\n",
    "        if img['data-type']!='gif':\n",
    "            img_list.append(img['data-src']) \n",
    "        "
   ]
  },
  {
   "cell_type": "code",
   "execution_count": 63,
   "metadata": {},
   "outputs": [
    {
     "data": {
      "text/plain": [
       "'健康肇庆'"
      ]
     },
     "execution_count": 63,
     "metadata": {},
     "output_type": "execute_result"
    }
   ],
   "source": [
    "resource_name"
   ]
  },
  {
   "cell_type": "code",
   "execution_count": 64,
   "metadata": {},
   "outputs": [
    {
     "data": {
      "text/plain": [
       "'\\n最新消息2月14日上午，省卫健委公布2月13日0－24时肇庆市新增1例新冠肺炎确诊病例。截至2月13日24时，肇庆市累计报告新冠肺炎确诊病例17例。13日0-24时全市新增确诊病例1例，分布在封开县。累计报告的17例确诊病例中，端州区5例，鼎湖区2例、高要区3例、四会市1例、广宁县1例、封开县5例。其中男性10例，女性7例，年龄介于3岁到65岁之间。截至2020年2月13日24时，在院的9例确诊病例中，普通型4例，轻型4例，重型1例。死亡1例。无医务人员感染。在院的9例病例，有1例病例病情加重，其余确诊病例病情稳定。全市共追踪到507名密切接触者，正接受集中医学观察277人，累计230人解除医学观察。17例确诊病例感染原因为湖北输入病例6例、旅游输入病例4例、由旅游输入引起的家庭病例3例、有武汉返肇人员接触史4例。目前，累计已有7例确诊病例治愈出院。\\xa0肇庆市新增一例确诊病例情况如下：11病例17何某（女、65岁、封开人），现住封开县江口镇河堤二路22号。近期无湖北省居住、旅游史，感染原因是与新型冠状病毒感染肺炎病例有接触。1月19日下午3：00与何某、吴某（病例16、15）等人一起在封开县曲艺社排练。1月23日到何某（病例16）家中（水上居民安置楼），1月24日、1月31日、2月7日分别送丈夫到封开县人民医院进行透析治疗， 2月7日上午9时到好又多超市买菜。其余时间在家照顾丈夫。2月9日采集咽拭子送市疾控中心核酸检测为阴性，2月12日采集咽拭子送市疾控中心检测。2月12日下午到封开县人民医院进行胸部CT筛查，结果显示双肺多发磨玻璃影，胸膜下明显，考虑是病毒性肺炎，13日核酸检测报告为阳性，送至肇庆市第一人民医院隔离治疗，病人病情稳定。目前已对密切接触者集中隔离医学观察。新增确诊病例涉及的小区或场所封开县江口镇河堤二路22号、江口镇蝴蝶塘路封开县曲艺社、好又多超市、水上居民安置楼此前确诊病例情况如下:病例16何某（女、62岁、封开人），常住封开县江口镇水上居民安置楼。近期无武汉居住旅游史，是新冠肺炎确诊病例吴某（病例15）的密切接触者。平时主要娱乐活动是到江口镇星辉曲艺社江口社区唱粤曲，2020年1月20日，与吴某（病例15）及其工友在宾悦酒店2楼聚餐及唱歌。22日由封开曲艺社组织前往平凤镇新围村参加敬老演出活动，演出活动后出现流涕、咳嗽、咳痰症状，无发热（未测体温），自行服用药物治疗，未到医院就诊。23日开始自己居家隔离，期间无外出，直至2月10日凌晨到封开县江口镇杏花宾馆集中隔离观察。2月10日上午患者咳嗽较前加重，出现发热，胸部CT检查结果显示双肺多发磨玻璃影，胸膜下明显，考虑是病毒性肺炎，当晚送肇庆市第一人民医院隔离治疗。2月11日患者新型冠状病毒核酸检测阳性。目前病人经治疗后，有发热、咳嗽、咳痰症状，病情稳定。\\xa0病例15吴某（男、56岁、封开人），常住封开县江口镇东方二路115号。1月19日下午病例与苏某（病例14）在江口镇曲艺社一起参加粤剧排练。晚上与朋友到苏某（病例14）的店铺喝茶。20日晚与工友在江口镇宾悦酒店二楼聚餐。21－23日期间在封开县江口镇东方二路115号家中休息，曾到井根农贸市场购物。24日、26日晚上到江口镇东堤路25号亲戚家中参加家庭聚餐。1月27、29日及2月1日到杏花宾馆宿舍其朋友家中聚餐、打麻将。28日晚上再次到苏某（病例14）店铺喝茶。无武汉居住旅游史。2月3日出现咽痒不适，偶发性咳嗽，伴有低热。2月6日胸部CT检查结果显示右肺上叶炎症。2月8日送肇庆市一医院隔离治疗，采集咽拭子进行新型冠状病毒核酸检测，肇庆市一医院和肇庆市疾控中心报告均为阴性。2月9日肇庆市一医院取下呼吸道分泌物检测新型冠状病毒核酸初筛阳性，送肇庆市疾控中心复核，结果阳性。目前病人经治疗后，偶有咳嗽、咳痰，无畏寒、发热，病情稳定。\\xa0病例14苏某（男、55岁、封开人），在封开县江口镇经营乐惠士多店，常在店内聚众打牌。平常活动点为乐惠士多店和曙光路31号家中，1月24日晚到封开县广信嘉园朋友家中聚餐，1月28日晚到封开县唐八叔清补羊火锅店聚餐。有武汉返粤人员接触史，无其它外出旅游史。2月2日出现发热、轻微气喘等症状， 2月5日采集患者咽拭子及血清标本检测，2月6日检测结果显示阳性，确诊为新冠肺炎病例。患者属重症病例，有多年糖尿病史，因病情恶化，经抢救无效，于2月6日18时15分死亡。\\xa0病例13莫某（男、24岁、封开人），长期在湖北省黄冈市做生意。1月22日，乘坐19时06分T95班次火车（04车厢）从武汉返回到广州。1月23日，在广州滘口汽车站乘坐8时30分班次客车返回到封开县杏花镇新和村家中。2月1日，进行咽拭子检测，2月4日，省疾控中心新型冠状病毒核酸检测复核结果阳性。2月4日，在肇庆市第一人民医院进行肺部CT检查，显示肺部炎症，2月5日上午出现发热等临床症状，确诊为新冠肺炎患者。目前，正在定点医院规范治疗，病人病情稳定，生命体征良好。\\xa0病例12病例7江某的大儿子梁某（男、10岁、端州人），1月19日与父母梁某、江某（病例7、病例8）一起到广州南沙乘坐邮轮到越南旅游，1月24日与父母从广州南沙码头下船，自驾车返回端州，2月1日江某确诊为新冠肺炎患者，2月5日江某的大儿子出现发热等临床症状，2月5日确诊为新冠肺炎患者。目前正在定点医院规范治疗，病人病情稳定，生命体征良好。\\xa0病例11病例7江某的小儿子梁某（男、3岁、端州人），2月1日江某确诊为新冠肺炎患者，江某的小儿子为确诊病例密切接触者，2月4日江某的小儿子出现发热等临床症状，2月4日确诊为新冠肺炎患者。目前正在定点医院规范治疗，病人病情稳定，生命体征良好。经治疗，2020年2月11日已出院。\\xa0病例10病例7江某的婆婆钟某（女、62岁、鼎湖人），2月1日江某确诊为新冠肺炎患者，钟某为确诊病例密切接触者，2月2日江某的婆婆进行肺部CT检查，显示肺部炎症。2月3日江某的婆婆确诊为新冠肺炎患者。目前正在定点医院规范治疗，病人病情稳定，生命体征良好。\\xa0病例9病例7江某的公公梁某（男、64岁、鼎湖人），2月1日江某确诊为新冠肺炎患者，梁某为确诊病例密切接触者，2月2日梁某进行肺部CT检查，显示肺部炎症。2月3日梁某确诊为新冠肺炎患者。目前病人属重症病例，正在定点医院规范治疗。\\xa0病例8病例7江某的丈夫梁某（男、35岁、端州人）。1月19日与妻子、大儿子一起，自驾车到广州南沙乘坐邮轮到越南旅游，1月24日与家人从广州南沙码头下船，自驾车返回端州，1月25日梁某出现发热症状，1月31日晚上到肇庆市第一人民医院发热门诊就医。2月3日梁某确诊为新冠肺炎患者。目前正在定点医院规范治疗，病人病情稳定，生命体征良好。\\xa0病例7江某（女、33岁、端州人），近半年在端州区居住工作，无明显疫情发生地接触史，1月19日与丈夫、大儿子一起，自驾车到广州南沙乘坐邮轮到越南旅游，1月24日与家人从广州南沙码头下船，自驾车返回端州，江某1月25日出现发热症状，1月29日到高要区人民医院就医，1月31日到肇庆市第一人民医院发热门诊就医。2月1日江某确诊为新冠肺炎患者。目前正在定点医院规范治疗，病人病情稳定，生命体征良好。经治疗，2020年2月11日已出院。病例7、病例8、病例9、病例10、病例11、病例12属于新冠肺炎家庭聚集性病例。病例6谭某（男、26岁、武汉人），在武汉居住工作，1月22日自驾车离开武汉，1月23日到广宁旅游，1月23日到当地医院检查，结果显示未见异常，1月24日开始进行为期14天集中隔离的医学观察，1月28日出现头痛、腹泻症状，1月29日住院隔离治疗，1月30日确诊。目前，正在定点医院规范治疗，病人病情稳定，生命体征良好。\\xa0病例5郭某（女、27岁、高要人），近半年在武汉居住工作，1月22日自驾车离开武汉回肇，1月23日到肇后无不适症状并纳入医学观察，1月25日出现发热症状，1月26日住院隔离治疗，1月28日确诊。目前，正在定点医院规范治疗，病人病情稳定，生命体征良好。经治疗，2020年2月10日已出院。\\xa0病例4李某（女、43岁、高要人），近半年在高要居住工作，无明显疫情发生地接触史，1月9日参加自组团到泰国旅游，乘坐泰国亚航FD537航班从广州白云机场抵达廊曼机场，1月13日出现“感冒、乏力”症状，1月14日乘坐泰国亚航FD530航班抵达广州白云机场，1月17日入院就诊，1月25日确诊。目前，正在定点医院规范治疗，病人病情稳定，生命体征良好。经治疗，2020年2月11日已出院。\\xa0病例3廖某（男、26岁、高要人），近半年在武汉居住工作，1月19日从武汉乘坐飞机到广州白云机场，随后由同事接载回端州，1月21日出现发热症状并入院就诊，1月25日确诊。经治疗，2020年2月8日已出院。\\xa0病例2林某（男、37岁、端州人），近半年在武汉居住工作，1月22日乘坐武广高铁G95班次列车回到广州南，在广州南站客运站乘坐前往端州的大巴，再乘坐滴滴车回端州。在武汉归家途中开始发热，但自己除乏力外无感觉到其他不适，在进家门前妻子发现其体温异常，其妻子自驾车送患者到医院就诊，1月24日确诊。经治疗，2020年2月8日已出院。\\xa0病例1黎某（女、25岁、四会人），近半年在武汉居住工作。1月11日出现鼻塞、流涕、间歇性咳嗽等症状，1月13日和16日在武汉医院就诊，1月17日乘坐G1015次列车（座位号3车厢）回广州南站，在广州南站客运站乘坐前往四会的大巴，再乘坐滴滴车回四会，1月18日入院就诊，1月22日确诊。经治疗，2020年1月31日已出院。全市累计确诊病例涉及的小区或场所1端州区：睦岗街道锦绣山河小区、城东街道帝和豪庭小区鼎湖区：坑口街道一米阳光小区高要区：南岸街道珀丽湾小区、南岸街道帝景蓝湾小区、大湾镇禄岸村四会市：东城街道九龙湾小区广宁县：南街镇碧翠湖度假村封开县：封开县杏花镇新和村、江口镇乐惠士多店、江口镇曙光路31号、封开县广信嘉园、封开县唐八叔清补羊火锅店、封开县江口镇东方二路115号、江口镇宾悦酒店、井根农贸市场、江口镇东堤路25号、杏花宾馆宿舍、封开县江口镇水上居民安置楼、江口镇星辉曲艺社江口社区、平凤镇新围村、封开县江口镇河堤二路22号、江口镇蝴蝶塘路封开县曲艺社、好又多超市。肇庆市17例确诊病例涉及6个县（市、区）24个小区或场所，发现确诊病例后，市、县两级疾控部门已立即对所涉及的小区或场所进行了严格的终末消毒，督促指导社区和物业做好日常预防性消毒工作。与病例有关的密切接触者已送指定场所进行集中隔离医学观察。希望大家做好个人防护。1相关链接：☛@肇庆市民，轻微发热不用跑医院！这里可免费咨询专家；☛一图读懂新型冠状病毒传播途径与预防指南！编辑 健康肇庆编辑部热点回顾\\xa0◢\\xa0今天，肇庆3例确诊患者治愈出院！包括一名3岁儿童◢\\xa0今天，肇庆第二批驰援湖北医疗队出征！请平安归来点个“在看”让更多人知道！\\n'"
      ]
     },
     "execution_count": 64,
     "metadata": {},
     "output_type": "execute_result"
    }
   ],
   "source": [
    "content"
   ]
  },
  {
   "cell_type": "code",
   "execution_count": 65,
   "metadata": {},
   "outputs": [
    {
     "data": {
      "text/plain": [
       "['https://mmbiz.qpic.cn/mmbiz_jpg/z2KVp01hujFYO4sn1fXHCFHZ5FRxN1Tx252twLrEZRQAyJrlic18b4Cy8b1sIkeKQgJw3BgrqCNpRT8rwpI78sQ/640?wx_fmt=jpeg',\n",
       " 'https://mmbiz.qpic.cn/mmbiz_jpg/z2KVp01hujGsD4EhpTriaich7ZGnswpdmde0trE8utSxxfdQ8m2VFYCQJYoyDOpNrP6I3VWB4m863SMjK24D7Q6Q/640?wx_fmt=jpeg',\n",
       " 'https://mmbiz.qpic.cn/mmbiz_jpg/z2KVp01hujHGFpsjEVkdOJcsOPjICpapia6VXwFVx9LeZnxkiaWW6RXSO2WzFU0LTcIRlMicRwFXjH5k6UEDbMtPA/640?wx_fmt=jpeg',\n",
       " 'https://mmbiz.qpic.cn/mmbiz_jpg/z2KVp01hujFD7H9mTMbOLIFRa64qiaibKbWYXSslKrdzavXJtHfLIjIaKx5Mml4n9kohicJTUTgylSenVyLNTic2sw/640?wx_fmt=jpeg']"
      ]
     },
     "execution_count": 65,
     "metadata": {},
     "output_type": "execute_result"
    }
   ],
   "source": [
    "img_list"
   ]
  },
  {
   "cell_type": "code",
   "execution_count": 87,
   "metadata": {},
   "outputs": [],
   "source": [
    "url = 'https://mp.weixin.qq.com/s/0xihh12dgBBxbfozR6fnNg'\n",
    "site = re.search(r'(https*://)(.+?)(/)',url).group(2)\n",
    "# 用引擎\n",
    "driver.get(url)\n",
    "# sleep(0.2)\n",
    "# try:\n",
    "html =  driver.page_source\n",
    "# except Expection as e:\n",
    "#     return '',''\n",
    "# soup = etree.HTML(html)\n",
    "# name = soup.xpath('//*[@id=\"js_name\"]')\n",
    "# content = soup.xpath('//*[@id=\"js_content\"]')\n",
    "soup = BeautifulSoup(html, 'html.parser')\n",
    "sn,sc = ['#js_name','#js_content']\n",
    "resource_name = soup.select(sn)\n",
    "content_selector = soup.select(sc)[0]\n",
    "content = content_selector.get_text()\n",
    "resource_name = resource_name[0].get_text()\n",
    "resource_name = re.sub(r'[^\\u4e00-\\u9fa5]','',resource_name)\n",
    "\n",
    "# img_list = []\n",
    "# imgs = soup.select(sc)[0].find_all('img')\n",
    "# if len(img)>=1:\n",
    "#     for img in imgs:\n",
    "#         if img['data-type']!='gif':\n",
    "# #             print('add.')\n",
    "#             img_list.append(img['data-src']) \n",
    "    \n",
    "    \n",
    "imglist = []\n",
    "imgs = content_selector.find_all('img')\n",
    "for img in imgs:\n",
    "    if img['data-type'] !='gif':\n",
    "        imglist.append(img['data-src'])\n",
    "        "
   ]
  },
  {
   "cell_type": "code",
   "execution_count": 88,
   "metadata": {},
   "outputs": [
    {
     "data": {
      "text/plain": [
       "'中山发布'"
      ]
     },
     "execution_count": 88,
     "metadata": {},
     "output_type": "execute_result"
    }
   ],
   "source": [
    "resource_name"
   ]
  },
  {
   "cell_type": "code",
   "execution_count": 89,
   "metadata": {},
   "outputs": [
    {
     "data": {
      "text/plain": [
       "'\\n今天上午，中山市人民政府新闻办公室组织召开市疫情防控工作第23场新闻发布会。市卫生健康局应急指挥领导小组副组长陈光卫介绍我市新增确诊病例相关情况和患者收治最新情况。截至2月16日24时，我市共有累计确诊病例66例，新增1例。累计治愈出院病例39例，新增治愈出院5例。目前留院治疗的27例确诊病例，全部在我市定点医院市第二人民医院集中隔离治疗，其中，危重型1例，重症1例，轻型1例，其余为普通型。所有留院治疗病例情况稳定，无死亡病例，无医护人员受感染。新增的病例情况如下：病例66梁某，女，27岁，现住中山市三角镇沙栏西路，在江苏常州工作。有疫情流行重点地区暴露史，一直没有症状。通过对疫情流行地区来粤人员排查发现，2月15日咽拭子标本检测结果为新型冠状病毒阳性，立即转入市第二人民医院隔离。病例到中山以来未出现发热、咳嗽、咽痛、乏力等新冠肺炎典型症状，入院后经临床检查发现肺部感染，目前确诊隔离治疗。//此前确诊病例情况如下//__向上滑动阅览病例1，邓某，男，36岁，住火炬开发区，1月16日至17日赴武汉市出差，1月20日上午发病，1月20日下午就诊被发现。病例2，王某，男，34岁，住火炬开发区，1月17日到武汉公干，1月21日回到中山，1月22日发病。病例3，温某，男性，36岁， 1月10—12日到武汉市出差，17日发病，21日来中山，住石岐区，23日收入定点医疗机构隔离治疗。病例4，梁某，女性，39岁，长住黄圃镇， 1月16—21日到武汉市探亲，23日发病，当日即被收入定点医疗机构隔离治疗。病例5，温某，女，年龄11个月，常住地石岐区，患者父亲是病例3。病例6，张某，男，55岁 ，住石岐区，曾到过武汉，1月20日发病，1月24日入院隔离治疗。病例7，欧阳某，女，37岁，住三乡镇，1月20日，从武汉来中山探亲，1月25日下午就诊被发现。病例8，赵某，男，55岁\\xa0，暂住火炬开发区，1月18日来中山探亲，1月26日就诊被发现。病例9，赵某，女，38岁，住东升镇，是其他地市确诊病例的密切接触者。病例10，赵某，男，9岁，住东升镇，是病例9的儿子，是其他地市确诊病例的密切接触者。病例11，赵某，女，12岁，住东升镇，是病例9的女儿，是其他地市确诊病例的密切接触者。病例12，冯某，女，42岁，住石岐区，是病例3的妻子和病例5的母亲。病例13，陈某，男，35岁，住火炬开发区，1月19日回武汉过年，1月24日自驾车返回中山市，1月25日发病，1月27日收入中山市第二人民医院隔离治疗。病例14，胡某，男，65岁，住东区，1月18日与妻子郑某、儿子胡某自驾车回疫情发生地， 1月25日与妻子（病例15）、儿子（病例16）自驾车回中山。28日发病并于当天收入中山市第二人民医院隔离治疗。病例15，郑某（病例14的妻子），女，58岁，住东区， 28日发病并于当天收入中山市第二人民医院隔离治疗。病例16，胡某（病例14的儿子），男，28岁，住火炬开发区，1月27日发病，1月28日收入中山市第二人民医院隔离治疗。病例17，杨某某，男，30岁。湖北武汉籍人，长居湖北省荆州石首市，1月21日于湖北武汉乘高铁至中山市东凤镇探亲，1月25日发病，1月25日隔离，1月30日确诊。病例18，杨某某，男，51岁，住黄圃镇。1月20日至25日自驾车回湖北襄阳市探亲，1月25日返回中山市黄圃镇。1月27日发病，1月29日隔离，1月30日确诊。病例19，刘某，男，49岁，住黄圃镇。1月26日与家人自驾车从湖北孝感市返回中山，自述配合当地村委会疫情防控要求，前往黄圃人民医院进行排查，排查发现发热，当即收入市第二人民医院隔离治疗，2月1日确诊。病例20，王某，男，79岁，武汉人，住沙溪镇。有心脑血管疾病病史。1月23日与家人从武汉市驾车回中山市沙溪镇，2月1日确诊。病例21，周某，女，31岁，住东区，是1月29日确诊的一起家庭聚集性病例的密切接触者。1月25日与家人从武汉市探亲返回中山，3名同行家人（其中两人住东区，一人住火炬开发区）1月29日被确诊，周某2月1日确诊。病例22，彭某，女，31岁，孕妇，住横栏镇。1月16日至24日与家人自驾去湖北孝感探亲。1月30日发病，起病时症状轻微以咽痛为主，偶有咳嗽，2月1日病情明显加重，已在市二院隔离治疗，是重症病例。发病前主要活动场所为阳光花园。病例23，胡某，女，3岁8个月，住东区。1月22日至25日曾随家人自驾去湖北黄石探亲，与其同行的4名家人已报告为确诊病例。1月31日发病。发病前主要活动场所为星光礼寓。病例24，唐某，女，35岁，住西区。1月18—26日与家人自驾去湖北武汉、孝感探亲，1月26日在返回中山途中发病。发病前主要活动场所为广浩华庭。病例25，舒某，男，41岁，长住湖北孝感，暂住中山市黄圃镇。1月22日与家人从湖北到云南旅游，1月26日在云南发病，1月28日从云南来中山。发病前主要活动场所为奥城花园。病例26，胡某，男，32岁，为儿童确诊病例22的父亲，现住东区。1月22日至25日曾随家人自驾去湖北黄石探亲，与其同行的5名家人已报告为确诊病例。发病前主要活动场所是星光礼寓。病例27，刘某，女，23岁，现住三角镇，1月18日-21日自驾回湖北探亲。发病前主要活动区域是三角镇乌沙村。病例28，陈某，女，29岁，现住中山市板芙镇。既往长住惠州市，1月19日从惠州回湖北探亲，探亲期间曾与湖北报告的确诊病例接触，1月22日与家人经武汉来中山。发病前主要活动场所是板芙镇雅芙花园。病例29，李某，女，55岁，长住湖北武汉，暂住中山市坦洲镇。1月22日与家人自驾离开武汉，当晚在湖南长沙暂住，23日到达中山坦洲。发病前主要活动场所是锦绣阳光花园。病例30，南某，女，55岁，长住湖北武汉，暂住中山市坦洲镇。1月22日与家人自驾到中山坦洲，暂住坦洲海伦堡。发病前主要活动场所是坦洲镇海伦堡。病例31，邵某，男，32岁，住火炬开发区，1月21日与朋友自驾前往浙江、广西旅游，1月25日在广西境内发病，1月27日自驾回中山。发病前主要活动场所主要活动区域是开发区联富社区。病例32，柯某，男，48岁，现住东升镇。1月20日至23日与家人自驾到湖北武汉探亲。1月31日发病发病前主要活动场所为东升镇丽景名筑。病例33，汪某，女，57岁，现住阜沙镇。12月31日出发回湖北孝感探亲， 1月15日在湖北孝感出现不适，1月23日从湖北返回中山，发病前主要活动场所为阜沙镇阜港西路赢天阁。病例34，周某，女，85岁，长住湖北武汉，暂住中山市坦洲镇，1月20日在武汉发病。1月22日与家人自驾离开武汉，当晚在湖南长沙暂住，23日到达中山市坦洲镇。其同行家人中已有1人于2月3日报告为确诊病例，发病前主要活动场所为坦洲镇锦绣阳光花园。病例35，魏某，男，59岁，现住石岐区。12月18日至1月23日在湖北荆州和武汉逗留，1月24日与家人自驾回到中山。2月2日发病，发病前主要活动场所为石岐区利和豪庭。病例36，王某，男，78岁，住三乡镇鹤泉山庄。为其他城市确诊病例的密切接触者（家人）。1月26日发病。病例37，邹某，男，48岁，住东凤镇东御世家。1月16日与家人前往湖北武汉和随州探亲，1月20日在湖北发病，25日与家人自驾回中山。病例38，王某，男，65岁，长住湖北荆门，暂住中山市火炬开发区铂爵山，1月14日在湖北发病，19日与家人离开湖北，20日抵达中山。病例39，李某，女，31岁，住火炬开发区濠泗下街。为此前报告确诊病例邵某同行者，二人于1月21日至27日自驾前往浙江、广西旅游。通过对密切接触者医学观察发现其于2月5日发病。病例40，袁某，女，67岁，长住湖北应城，1月7日由湖北来中山，暂住黄圃镇御品泰景。1月22日有9名亲戚从武汉来中山到其家。其中一人于1月31日在其他城市被报告为疑似病例，随后我市通过对密切接触者医学观察，发现袁某于2月4日发病。病例41，程某，女，65岁，长住湖北武汉，暂住中山市沙溪镇水岸花都，1月23日与丈夫（此前报告的确诊病例王某）自驾车离开武汉，24日抵达沙溪镇。通过对密切接触者医学观察发现，程某于2月5日发病。病例42，徐某，男，51岁，住中山市沙溪镇水岸花都。1月24日与2名家人（确诊病例）从武汉来访。通过对密切接触者医学观察发现，徐某于2月4日发病。病例43，陈某，男，36岁，住坦洲镇汇翠山庄。1月22日有亲戚从湖北黄石来访，住其家中。来访亲戚中1人在其他城市被确诊。通过对密切接触者医学观察发现，陈某于2月1日发病。病例44，余某，男，57岁，住黄圃镇大岑村雪莱路外工村。1月18日至25日与家人自驾车前往湖北探亲，其中1人于2月2日在其他城市被确诊。通过对密切接触者医学观察发现，余某于2月4日发病。病例45，余某，男，33岁，住东凤镇西罟村。1月18日至25日与家人自驾车前往湖北孝感探亲。其同行家人已有2人分别被我市和外地城市确诊。通过对密切接触者医学观察发现，余某于2月6日发病。病例46，刘某，女，49岁，住民众镇多宝村。1月18日前往湖北襄阳探亲，1月27日与家人、朋友自驾车返回中山。2月2日发病。病例47，吴某，女，60岁，住石岐区利和豪庭。2019年12月18日至2020年1月23日在湖北荆州和武汉探亲，1月24日与家人自驾车回中山。其同行人员中1人已于2月4日确诊。吴某作为密切接触者被隔离进行医学观察，2月8日发病。病例48，宋某，女，35岁，住黄圃镇半山豪苑。1月20日至1月26日与家人自驾到湖北襄阳、孝感探亲。其同行人员中1人已于1月30日确诊，宋某作为密切接触者被隔离进行医学观察，2月4日发病。病例49，瞿某，女，29岁，长住湖北，暂住黄圃镇御品泰景。1月22日与9名家人来中山探亲，暂住黄圃镇亲戚家中。其同行1人于1月31日在其他城市被报告为疑似病例，瞿某作为密切接触者开始被隔离医学观察，2月4日发病。病例50，袁某（病例49的母亲），女，53岁，长住湖北，暂住黄圃镇御品泰景。1月22日与9名家人来中山探亲，暂住黄圃镇亲戚家中。其同行1人于1月31日在其他城市被报告为疑似病例，袁某作为密切接触者被隔离医学观察，2月2日发病。病例51，罗某，男，56岁，住石岐区民安街。1月18日至23日与家人自驾车前往湖北荆州、武汉探亲、旅游。1月30日发病。目前确诊在市二院隔离治疗。病例52，古某，女，45岁，住阜沙镇丰联村祥和街。古某为石岐区3例确诊病例的亲戚，发病前曾与确诊病例聚餐。古某自1月24日起居家隔离观察，2月2日被转隔离医学观察，2月7日发病。病例53，余某，女，9岁，住黄圃镇大岑村外工村。1月18日余某随家人自驾车前往湖北省孝感市探亲， 1月25日返回。其同行6人中已有1人在外地城市确诊，2人在中山确诊。余某自1月31日起开始居家隔离观察，2月1日被转隔离医学观察，2月7日发病。病例54，黄某，男，68岁，常住湖北省武汉市，暂住中山市石岐区上海城。1月12日与家人来中山探亲，暂住石岐区亲戚家中，1月22日又有其他亲人自武汉市来同住。黄某1月28日发病，2月7日在市博爱医院就诊后转到市第二人民医院隔离治疗。病例55，梁某，男，43岁，常住西区广浩华庭，暂住石岐区中海锦城。1月22日至26日与家人参加旅行团前往新加坡、马来西亚旅游，1月27日回到家中，1月28日发病。目前确诊在市二院隔离治疗。病例56，李某，女，57岁，常住广州市，暂住中山市石岐区民安街，为2月8日报告确诊病例罗某的妻子。1月18日至23日与家人自驾车前往湖北省荆州市和武汉市探亲、旅游。返回中山后一直在石岐区家中居家隔离。2月7日通过密切接触者医学观察发现其发病。病例57，张某，男，52岁，住中山市石岐区上海城。1月12日和22日家中分别有来自湖北武汉的亲人到访，其中包括2月9日确诊病例黄某。1月28日黄某发病后两人有共同生活接触。张某于2月4日发病。目前确诊在市二院隔离治疗。病例58，梁某，男，18岁，常住西区广浩华庭，为2月9日确诊病例梁某的儿子。父子二人于1月22日至27日参加旅行团前往新加坡、马来西亚旅游。2月1日发病，目前确诊在市二院隔离治疗。病例59，廖某, 女，25岁，住南区越秀星汇云锦，1月22日与家人自驾车前往湖北随州探亲，1月24日自驾车返回广州市，在亲属家中暂住时发病，27日自驾车返回中山。2月8日出现高热后就诊。目前确诊在市二院隔离治疗。病例60，王某，女，53岁，住沙溪镇水岸花都。2019年11月29日与家人前往湖北武汉探亲，2020年1月23日与长住武汉的家人一起自驾车回中山，24日抵达中山市沙溪镇家中。同行家人中有3人先后于2月1日和2月5日确诊。通过对密切接触者医学观察，发现王某于2月5日发病。目前确诊在市二院隔离治疗。病例61，冯某，男，72岁，住沙溪镇世纪新城。发病前曾与1月30日发病的疑似病例家属一起生活。冯某于2月2日发病，2月9日就诊后被转至市二院，目前确诊隔离治疗。病例62，方某，女，73岁，住沙溪镇世纪新城。为上述病例3的妻子。发病前曾与1月30日发病的疑似病例家属一起生活。2月7日发病，2月9日就诊后被转至市二院，目前确诊隔离治疗。病例63，梁某，女，44岁，住西区广浩华庭。梁某与3名亲属于1月22日至27日参加旅行团前往新加坡、马来西亚旅游。其中2人已分别于2月9日和10日报告为确诊病例。梁某2月7日被转隔离医学观察， 2月11日发病，目前确诊在市二院隔离治疗。病例64，冯某，女，45岁，常住沙溪镇世纪新城。1月22日至26日与亲属前往云南旅游。1月30日发病，2月9日就诊后转至市二院，目前确诊隔离治疗。病例65，严某，男，40岁，住三角镇乌沙村。1月17日至28日在江西省上饶市探亲，期间曾与来自疫情发生地的朋友聚餐。1月26日发病，1月29日自驾车回中山。初起病症较轻，仅有咳嗽。2月9日症状加重到医疗机构就诊被转至市二院，隔离治疗后确诊。点击这里，了解更多防控信息■直击 | 走进中山企业的复工现场■最新！防控期间，这些人不能乘坐交通工具外出旅行工作 | 早安，中山■每日疫情通报｜中山新增1例，累计确诊66例■每日疫情通报｜昨日中山零新增，广东新增确诊22例■因疫情影响未及时还款，怎么办？市民关心的这些问题，有回应了！中山发布编辑部编辑：叶倩儿美编：钟美君海报设计：林琳责编：建伟执行总编辑：高明国总编辑：李华炎\\n'"
      ]
     },
     "execution_count": 89,
     "metadata": {},
     "output_type": "execute_result"
    }
   ],
   "source": [
    "content"
   ]
  },
  {
   "cell_type": "code",
   "execution_count": 91,
   "metadata": {},
   "outputs": [
    {
     "data": {
      "text/plain": [
       "['https://mmbiz.qpic.cn/mmbiz_png/jL1hNwBkicA290LT2kBRcc6MqLBNz07NZO2S3F4TsfDvDb7GZsNtORcMzptic65PrdEBtkMpRcp69SbxXFrFpKKg/640?wx_fmt=png',\n",
       " 'https://mmbiz.qpic.cn/mmbiz_png/jL1hNwBkicA290LT2kBRcc6MqLBNz07NZtClntDRHK68pepwfrKngXNVthbUibWlENVjkicVb0WC928CfJgfqj57Q/640?wx_fmt=png',\n",
       " 'https://mmbiz.qpic.cn/mmbiz_jpg/jL1hNwBkicA0fdprrb9HWW0MwuGzxnpoxCWLbEanQmbImtjChlBMPI2bk76ichauHWPB2PpAvd6ibaCmjPeLLhIrw/640?wx_fmt=jpeg']"
      ]
     },
     "execution_count": 91,
     "metadata": {},
     "output_type": "execute_result"
    }
   ],
   "source": [
    "imglist"
   ]
  },
  {
   "cell_type": "code",
   "execution_count": 115,
   "metadata": {
    "scrolled": true
   },
   "outputs": [],
   "source": [
    "url = 'https://mp.weixin.qq.com/s/AuuQN67_9XRnT3v-YQ-6Kg'\n",
    "site = re.search(r'(https*://)(.+?)(/)',url).group(2)\n",
    "# 用引擎\n",
    "driver.get(url)\n",
    "# sleep(0.2)\n",
    "# try:\n",
    "html =  driver.page_source\n",
    "# except Expection as e:\n",
    "#     return '',''\n",
    "# soup = etree.HTML(html)\n",
    "# name = soup.xpath('//*[@id=\"js_name\"]')\n",
    "# content = soup.xpath('//*[@id=\"js_content\"]')\n",
    "soup = BeautifulSoup(html, 'html.parser')\n",
    "sn,sc = ['#js_name','#js_content']\n",
    "resource_name = soup.select(sn)\n",
    "content_selector = soup.select(sc)[0]\n",
    "content = content_selector.get_text()\n",
    "resource_name = resource_name[0].get_text()\n",
    "resource_name = re.sub(r'[^\\u4e00-\\u9fa5]','',resource_name)\n",
    "\n",
    "# img_list = []\n",
    "# imgs = soup.select(sc)[0].find_all('img')\n",
    "# if len(img)>=1:\n",
    "#     for img in imgs:\n",
    "#         if img['data-type']!='gif':\n",
    "# #             print('add.')\n",
    "#             img_list.append(img['data-src']) \n",
    "    \n",
    "    \n",
    "imglist = []\n",
    "imgs = content_selector.find_all('img')\n",
    "if len(imgs)>=1:\n",
    "    for img in imgs:\n",
    "#         if img['data-type'] !='gif':\n",
    "        imglist.append(img['data-src'])"
   ]
  },
  {
   "cell_type": "code",
   "execution_count": 116,
   "metadata": {},
   "outputs": [
    {
     "data": {
      "text/plain": [
       "['https://mmbiz.qpic.cn/mmbiz_gif/ldFaBNSkvHjdIlmWrpGeTwTIBfKLnVwODb2rcD60OH0GrDfgS1grU4azvLhLyGmQwA4CUGprEVo2TUk2yMZvDA/640?',\n",
       " 'https://mmbiz.qpic.cn/mmbiz_jpg/a72MSgFI1qJ7TTAS6ZlOEJB2wVW3AwAWKboiatQQW9eIRz0wfSP9MIIFopjjJxa5QGlfsp8oOxicalfdQNIsciawg/640?wx_fmt=jpeg']"
      ]
     },
     "execution_count": 116,
     "metadata": {},
     "output_type": "execute_result"
    }
   ],
   "source": [
    "imglist"
   ]
  },
  {
   "cell_type": "code",
   "execution_count": 117,
   "metadata": {},
   "outputs": [
    {
     "data": {
      "text/plain": [
       "'\\n关于寻找确诊病例密切接触者的公告广大市民朋友：武汉新型冠状病毒感染的肺炎疫情爆发以来，我市截止目前累计确诊10名病例，经疾控机构专业人员进行流行病学调查后，大部分病例的密切接触者已经追踪到位并纳入医学观察范围。但因技术条件限制，现仍有部分确诊病例的密切接触者尚未寻找到位。现将有关线索公布如下：1.患者杨某某：女，2月2日确诊。1月27日12：33乘坐28路空调车从宝鸡南站出发，于13：20到达终点宝鸡火车站；13：40乘坐普通37路从宝鸡火车站到群众路同心小区；29日18：40左右到宝钛新区门口百汇超市购物。需寻找28路、37路同车人员与超市购物人员。2.患者段某某：男，2月3日确诊。1月18日-23日在越南芽庄旅行，乘坐旅游大巴车同行人员包括3名襄阳人、7名武汉人；1月24日3：20乘坐 GJ8800次航班由越南芽庄（金兰机场T2）飞往西安（咸阳机场T3）。需寻找越南旅游同行人员与返回航班同机人员。有上述与确诊的新型冠状病毒感染的肺炎患者同乘、同行或其他接触经历的人员，鉴于您属于病例密切接触者，存在被感染的风险，为了您和他人健康，请第一时间主动拨打您目前居住地的县区卫生健康部门咨询电话（宝鸡市及各县区具体号码后附），配合当地卫生健康部门做好隔离医学观察。若有发热、咳嗽等症状，请及时拨打各卫生健康部门电话，会有专车及医护人员接您，前往定点医院发热门诊就诊，以便进一步诊治。同时请以上密切接触者的家人都暂时不要外出，自觉居家隔离，如有发热等不适症状，亦请立即与辖区卫生健康部门联系。宝鸡市 0917—3263585\\xa0 12345（市民热线）金台区 0917--3512044渭滨区 0917--3323931陈仓区 0917--6222900高新区 0917--3780000岐山县 0917--8214577凤翔县 0917--7282515扶风县 0917--5216383眉\\xa0 \\xa0县 0917--5548671陇\\xa0 \\xa0县 0917--4609178千阳县 0917--4245911麟游县 0917--7962039太白县 0917--4951132凤\\xa0 \\xa0县 0917--4762711宝鸡市应对新型冠状病毒感染肺炎疫情工作领导小组（指挥部）办公室2020年2月4日寻找杨凌人来扶风的密切接触者！2月4日，杨凌示范区郭某某确诊为新型冠状病毒感染的肺炎，为示范区首例确诊病例。该患者家住杨凌松园小区，根据本人初步回忆和调查，现将近期该患者活动轨迹公布如下：1月29日下午3点左右，开车去扶风县绛帐镇牛仓村吊唁，5点左右返回家中。杨陵区疾控中心电话：029—87018815、87012254来源：宝鸡新闻网编辑：高飞赶快来分享关注吖\\n'"
      ]
     },
     "execution_count": 117,
     "metadata": {},
     "output_type": "execute_result"
    }
   ],
   "source": [
    "content"
   ]
  },
  {
   "cell_type": "code",
   "execution_count": 118,
   "metadata": {},
   "outputs": [
    {
     "data": {
      "text/plain": [
       "'宝鸡发布'"
      ]
     },
     "execution_count": 118,
     "metadata": {},
     "output_type": "execute_result"
    }
   ],
   "source": [
    "resource_name"
   ]
  },
  {
   "cell_type": "code",
   "execution_count": null,
   "metadata": {},
   "outputs": [],
   "source": [
    "url = 'https://mp.weixin.qq.com/s/BowMr0k90t8psMKEWMmshQ'\n",
    "site = re.search(r'(https*://)(.+?)(/)',url).group(2)\n",
    "# 用引擎\n",
    "driver.get(url)\n",
    "# sleep(0.2)\n",
    "# try:\n",
    "html =  driver.page_source\n",
    "# except Expection as e:\n",
    "#     return '',''\n",
    "# soup = etree.HTML(html)\n",
    "# name = soup.xpath('//*[@id=\"js_name\"]')\n",
    "# content = soup.xpath('//*[@id=\"js_content\"]')\n",
    "soup = BeautifulSoup(html, 'html.parser')\n",
    "sn,sc = ['#js_name','#js_content']\n",
    "resource_name = soup.select(sn)\n",
    "content_selector = soup.select(sc)[0]\n",
    "content = content_selector.get_text()\n",
    "resource_name = resource_name[0].get_text()\n",
    "resource_name = re.sub(r'[^\\u4e00-\\u9fa5]','',resource_name)\n",
    "\n",
    "# img_list = []\n",
    "# imgs = soup.select(sc)[0].find_all('img')\n",
    "# if len(img)>=1:\n",
    "#     for img in imgs:\n",
    "#         if img['data-type']!='gif':\n",
    "# #             print('add.')\n",
    "#             img_list.append(img['data-src']) \n",
    "    \n",
    "    \n",
    "imglist = []\n",
    "imgs = content_selector.find_all('img')\n",
    "if len(imgs)>=1:\n",
    "    for img in imgs:\n",
    "#         if img['data-type'] !='gif':\n",
    "        imglist.append(img['data-src'])"
   ]
  },
  {
   "cell_type": "code",
   "execution_count": 120,
   "metadata": {},
   "outputs": [
    {
     "data": {
      "text/plain": [
       "['https://mmbiz.qpic.cn/mmbiz/RicPMLX2HvIpU9Bs5S5JWrWCSficvm75xuaia1zPC36XXlJ9LibalZ1mdmqwjDgJOyXkBQPKc6rB9n7G4TDGhiaxOEw/640?wx_fmt=gif']"
      ]
     },
     "execution_count": 120,
     "metadata": {},
     "output_type": "execute_result"
    }
   ],
   "source": [
    "imglist"
   ]
  },
  {
   "cell_type": "code",
   "execution_count": 121,
   "metadata": {},
   "outputs": [
    {
     "data": {
      "text/plain": [
       "'\\n齐鲁晚报官方微信根据各地市卫健委官网信息整理，每天实时更新，敬请关注齐鲁晚报官方微信实时查看。备注：各地市确诊病例详情，可在后台回复“地市名＋确诊”查看，例如：“济南确诊”、“青岛确诊”、“日照确诊”）临沂确诊病例详情如下：2月19日2020年2月19日12—24时，临沂市新增新型冠状病毒肺炎确诊病例1例，治愈出院4例。新增确诊病例为：病例49号：患者彭某某，女，60岁，临沂市沂水县人，家居沂水县院东头镇姚店子村，有疑似病例密切接触史，无武汉旅居史。在隔离观察期间经实验室检测新型冠状病毒核酸为阳性，立即被定点医疗机构隔离治疗，2月19日由疑似病例确诊为新冠肺炎病例，临床普通型，无基础性疾病。正在隔离治疗。截至2月19日24时，临沂市累计确诊病例49例，治愈出院41例。各县区累计确诊病例为兰山区18例、郯城县5例、莒南县6例、平邑县4例、沂南县4例、沂水县4例、费县3例、河东区2例、临沭县2例、兰陵县1例。（省卫生健康委按病例确诊时医院所在县区公布的河东区12例确诊病例，为兰山区6例、河东区2例、郯城县2例、莒南县1例、沂水县1例）。目前累计追踪到密切接触者1433人，共解除医学观察1312人。2月18日2020年2月17日12—24时，临沂市新增新型冠状病毒肺炎确诊病例1例，治愈出院3例。新增确诊病例为：病例48号：患者赵某某，男，38岁，临沂市莒南县人，工作所在地湖北省武汉市洪山区，家居莒南县十字路镇东赤石沟村，有武汉旅居史。在隔离观察期间经实验室检测新型冠状病毒核酸为阳性（无症状），立即被定点医疗机构隔离治疗，2月17日由疑似病例确诊为新冠肺炎病例，临床轻型，无基础性疾病。正在隔离治疗。\\xa0截至2月17日24时，我市累计确诊病例48例，治愈出院35例，现有疑似病例2例。各县区累计确诊病例为兰山区18例、郯城县5例、莒南县6例、平邑县4例、沂南县4例、沂水县3例、费县3例、河东区2例、临沭县2例、兰陵县1例。疑似病例费县1例、沂水1例。（省卫生健康委按病例确诊时医院所在县区公布的河东区11例确诊病例，为兰山区6例、河东区2例、郯城县2例、莒南县1例）。目前累计追踪到密切接触者1413人，共解除医学观察1245人。2月14日2020年2月13日12—24时，临沂市新增新型冠状病毒肺炎确诊病例2例，疑似病例1例，治愈出院1例。新增确诊病例为——病例46号：患者管某某，女，30岁，临沂市平邑县人，工作所在地湖北省武汉市，家居平邑县柏林镇柏林村，有武汉旅居史。在集中隔离观察期间经实验室检测新型冠状病毒核酸为阳性（无症状感染者），立即被定点医疗机构隔离治疗，2月13日由阳性检测（无症状感染者）确诊为新冠肺炎病例，临床普通型，无基础性疾病。正在隔离治疗。病例47号：患者管某某，男，49岁，临沂市人平邑县人，家居平邑县柏林镇柏林村，与确诊病例有密切接触史，无外地旅居史。在集中隔离观察期间经实验室检测新型冠状病毒核酸为阳性（无症状感染者），立即被定点医疗机构隔离治疗，2月13日由阳性检测（无症状感染者）确诊为新冠肺炎病例，临床普通型。正在隔离治疗。截至2月13日24时，我市累计确诊病例47例，治愈出院13例，现有疑似病例1例。各县区累计确诊病例为兰山区18例、郯城县5例、莒南县5例、平邑县4例、沂南县4例、沂水县3例、费县3例、河东区2例、临沭县2例、兰陵县1例。疑似病例莒南县1例（省卫生健康委按病例确诊时医院所在县区公布的河东区10例确诊病例，为兰山区6例、河东区2例、郯城县2例）。目前累计追踪到密切接触者1374人，共解除医学观察1129人。2月11日2020年2月11日12—24时，临沂市新增新型冠状病毒肺炎确诊病例1例，治愈出院1例。新增确诊病例为——病例45：患者柴某某，男，11岁，山东省临沂市人，在武汉市上小学，系之前确诊病例柴某某之子。1月22日随父母从武汉返回郯城县，现居住于郯城县郯城街道龙域中央小区，1月27日安排到集中隔离点进行医学隔离观察，期间新型冠状病毒核酸检测为阳性，随即被定点医疗机构以疑似病例隔离治疗，2月10日由疑似病例确诊为新冠肺炎病例，临床轻型，无基础性疾病，病情稳定。截至2月11日24时，我市累计确诊病例45例，治愈出院10例。各县区累计确诊病例为兰山区18例、郯城县5例、沂南县4例、莒南县5例、沂水县3例、费县3例、河东区2例、平邑县2例、临沭县2例、兰陵县1例。（省卫生健康委按病例确诊时医院所在县区公布的河东区10例确诊病例，为兰山区6例、河东区2例、郯城县2例）。目前累计追踪到密切接触者1336人，共解除医学观察966人。2月10日2020年2月10日12—24时，我市新增新型冠状病毒肺炎确诊病例2例，治愈出院3例。新增2例确诊病例为：病例43：患者林某某，男，54岁，山东省临沂市人，工作所在地山东省临沂市，家居兰山区柳青街道润园小区，与确诊病例有密切接触，无武汉旅居史。2月10日由疑似病例确诊为新冠肺炎病例，临床普通型，无基础性疾病。正在隔离治疗。病例44：患者陈某，女，34岁，山东省临沂市人，居家无职业，现居住于莒南县坪上镇坪上一村，有武汉旅居史。2月10日由疑似病例确诊为新冠肺炎病例，临床轻型，无基础性疾病。正在隔离治疗。截至2月10日24时，我市累计确诊病例44例，治愈出院9例，现有疑似病例1例。各县区累计确诊病例为兰山区18例、郯城县4例、沂南县4例、莒南县5例、沂水县3例、费县3例、河东区2例、平邑县2例、临沭县2例、兰陵县1例。疑似病例郯城1例。（省卫生健康委按病例确诊时医院所在县区公布的河东区10例确诊病例，为兰山区6例、河东区2例、郯城县2例）。目前累计追踪到密切接触者1324人，共解除医学观察892人2月9日2020年2月9日12—24时，临沂新增2例。病例41：患者孟某某，女，40岁，山东省临沂市人，家居临沂市兰山区市水利局家属院，有武汉人员密切接触史，2月9日确定为新冠肺炎确诊病例，临床分型为轻型，正在隔离治疗。病例42：患者孟某某，女，38岁，山东省临沂市人，家居临沂市兰山区五大道住宅区，与确诊病例有密切接触史，2月9日确定为新冠肺炎确诊病例，临床分型为轻型，正在隔离治疗。2月8日2020年2月8日0—12时，临沂新增新型冠状病毒肺炎确诊病例2例，累计确诊病例40例，现有疑似病例5例。各县区累计确诊病例为兰山区15例、郯城县4例、沂南县4例、莒南县4例、沂水县3例、费县3例、河东区2例、临沭县2例、兰陵县1例、平邑县2例。疑似病例兰山区3例、莒南县1例、郯城县1例。（省卫生健康委按病例确诊时医院所在县区公布的河东区10例确诊病例，为兰山区6例、河东区2例、郯城县2例）。新增2例确诊病例为：病例39：患者李某某，男，72岁，居住于兰山区银雀山街道，有外地市确诊病例密切接触史。反复出现发烧、胸闷憋喘等症状，到定点医疗机构就诊随即被隔离治疗。经实验室检测，新型冠状病毒核酸为阳性，目前病情稳定。病例40：患者陈某某，男，56岁，居住于莒南县坪上镇，有武汉返乡确诊病例密切接触史。在隔离观察期间出现发热等症状，随即被120专车接至定点医疗机构隔离治疗。经实验室检测，新型冠状病毒核酸为阳性，目前病情稳定。目前累计追踪到密切接触者1177人，共解除医学观察431人，治愈出院3例。2月7日2020年2月7日12—24时，临沂新增新型冠状病毒感染的肺炎确诊病例3例，累计确诊病例38例，疑似病例7例。各县区累计确诊病例为兰山区14例、郯城县4例、沂水县3例、费县3例、河东区2例、莒南县3例、临沭县2例、沂南县4例、兰陵县1例、平邑县2例。疑似病例兰山区4例、莒南县2例、郯城县1例。（省卫生健康委按病例确诊时医院所在县区公布的河东区9例确诊病例，为兰山区5例、河东区2例、郯城县2例）。新增3例确诊病例为——病例36：患者李某某，男，6岁，居住于沂南县铜井镇。与父母从武汉返回沂南，在隔离观察期间出现发热、咽痛等症状，随即被定点医疗机构隔离治疗。经实验室检测，新型冠状病毒核酸为阳性，目前病情稳定。病例37：患者胡某某，男，40岁，居住于兰山区金雀山街道。为密切接触者发病。在隔离观察期间出现发热、咽痛等症状，随即被定点医疗机构隔离治疗。经实验室检测，新型冠状病毒核酸为阳性，目前病情稳定。病例38：患者王某某，男，32岁，籍贯莒南县板泉镇，有武汉居住史。自武汉返回莒南，在隔离观察期间出现发热等症状，随即被定点医疗机构隔离治疗。经实验室检测，新型冠状病毒核酸为阳性，目前病情稳定。目前累计追踪到密切接触者1177人，共解除医学观察 431人，治愈出院3例。2月6日2020年2月6日12—24时，临沂市新增新型冠状病毒感染的肺炎确诊病例3例，累计确诊病例35例，疑似病例7例。各县区累计确诊病例为兰山区13例、郯城县4例、沂水县3例、费县3例、河东区2例、莒南县2例、临沭县2例、沂南县3例、兰陵县1例、平邑县2例。疑似病例沂南县1例、兰山区3例、莒南县2例、河东区1例。（省卫生健康委按病例确诊时医院所在县区公布的河东区8例确诊病例，为兰山区4例、河东区2例、郯城县2例）。新增3例确诊病例为：病例33:患者庞某，男，33岁，居住于郯城县泉源乡。1月19日从武汉返回郯城，在隔离观察期间出现发烧等症状，随即被定点医疗机构隔离治疗。经实验室检测，新型冠状病毒核酸为阳性，目前病情稳定。病例34：患者周某某，女，33岁，居住于沂南县铜井镇，为确诊病例李某妻子。1月21日从武汉返回沂南，在隔离观察期间出现咳嗽等症状，随即被定点医疗机构隔离治疗。经实验室检测，新型冠状病毒核酸为阳性，目前病情稳定。病例35：患者陈某某，女，75岁，为确诊病例管某某妻子。居住于平邑县柏林镇。在隔离观察期间出现咳嗽等症状，随即被定点医疗机构隔离治疗。经实验室检测，新型冠状病毒核酸为阳性，目前状况稳定。目前累计追踪到密切接触者1078人，共解除医学观察315人，治愈出院3例。2月5日2020年2月5日12—24时，我市新增新型冠状病毒感染的肺炎确诊病例2例，累计确诊病例32例，疑似病例5例。各县区累计确诊病例为兰山区13例、郯城县3例、沂水县3例、费县3例、河东区2例、莒南县2例、临沭县2例、沂南县2例、兰陵县1例、平邑县1例。疑似病例沂南县2例、兰山区1例、郯城县1例、莒南县1例。（省卫生健康委按病例确诊时医院所在县区公布的河东区8例确诊病例，为兰山区4例、河东区2例、郯城县2例）。新增2例确诊病例为：病例31：患者王某某，男，63岁，居住于兰山区兰山街道，为傅某某的密切接触者。在隔离观察期间出现发热等症状，随即被定点医疗机构隔离治疗。经实验室检测，新型冠状病毒核酸为阳性，目前病情稳定。病例32：患者李某，男，32岁，居住于沂南县铜井镇。1月21日从武汉返回沂南，在隔离观察期间出现干咳等症状，随即被定点医疗机构隔离治疗。经实验室检测，新型冠状病毒核酸为阳性，目前病情稳定。目前累计追踪到密切接触者985人，共解除医学观察 183人，治愈出院1例。2月4日2020年2月4日0—12时，我市新增新型冠状病毒感染的肺炎确诊病例1例，累计确诊病例28例，疑似病例6例。各县区累计确诊病例为兰山区11例、郯城县3例、费县3例、河东区2例、沂水县2例、莒南县2例、临沭县2例、沂南县1例、兰陵县1例、平邑县1例。疑似病例沂南县3例、兰山区1例、郯城县1例、沂水县1例。（省卫生健康委按病例确诊时医院所在县区公布的河东区7例确诊病例，为兰山区3例、河东区2例、郯城县2例）。新增1例确诊病例为：病例28：患者管某某，男，79岁，居住于平邑县柏林镇，有与武汉返乡人员密切接触史。2月2日出现发热症状，到医疗机构就诊后随即被隔离治疗。经实验室检测，新型冠状病毒核酸为阳性，目前病情稳定。目前累计追踪到密切接触者715人，共解除医学观察 79人，治愈出院1例。2020年2月4日12—24时，临沂市新增新型冠状病毒感染的肺炎确诊病例2例，累计确诊病例30例，疑似病例6例。各县区累计确诊病例为兰山区12例、郯城县3例、费县3例、河东区2例、沂水县3例、莒南县2例、临沭县2例、沂南县1例、兰陵县1例、平邑县1例。疑似病例沂南县3例、兰山区1例、郯城县1例、莒南县1例。（省卫生健康委按病例确诊时医院所在县区公布的河东区8例确诊病例，为兰山区4例、河东区2例、郯城县2例）。新增确诊病例为：病例29：患者王某，女，23岁，为傅某某的密切接触者。在隔离观察期间出现发热等症状，随即被定点医疗机构隔离治疗。经实验室检测，新型冠状病毒核酸为阳性，目前病情稳定。病例30：患者武某某，男，24岁，居住于沂水县道托镇。1月20日从武汉返回沂水，在隔离观察期间出现发热、干咳等症状，随即被定点医疗机构隔离治疗。经实验室检测，新型冠状病毒核酸为阳性，目前病情稳定。目前累计追踪到密切接触者853人，共解除医学观察93人，治愈出院1例。2月3日2020年2月3日12—24时，临沂市新增新型冠状病毒感染的肺炎确诊病例2例，累计确诊病例27例，疑似病例6例。各县区累计确诊病例为兰山区11例、郯城县3例、费县3例、河东区2例、沂水县2例、莒南县2例、临沭县2例、沂南县1例、兰陵县1例。疑似病例沂南县3例、兰山区1例、郯城县1例、沂水县1例。（省卫生健康委按病例确诊时医院所在县区公布的河东区7例确诊病例，为兰山区3例、河东区2例、郯城县2例）。新增2例确诊病例为：病例26：患者李某某，男，40岁，居住于临沭县临沭街道，有武汉工作史。1月21日从武汉返回临沭，在隔离观察期间出现发热、头痛等症状，随即被定点医疗机构隔离治疗。经实验室检测，新型冠状病毒核酸为阳性，目前病情稳定。病例27：患者朱某某，男，50岁，居住于兰陵县卞庄街道，有武汉出差史。1月23日从武汉返回兰陵，在隔离观察期间出现发热等症状，随即被定点医疗机构隔离治疗。经实验室检测，新型冠状病毒核酸为阳性，目前病情稳定。目前累计追踪到密切接触者715人，共解除医学观察79人，治愈出院1例。截至2020年2月3日12时，临沂新增新型冠状病毒感染的肺炎确诊病例1例，累计确诊病例25例，疑似病例5例。各县区累计确诊病例为兰山区11例、郯城县3例、费县3例、河东区2例、沂水县2例、莒南县2例、沂南县1例、临沭县1例。疑似病例兰山区1例、郯城县1例、兰陵县1例、沂水县1例、临沭1例。（省卫生健康委按病例确诊时医院所在县区公布的河东区7例确诊病例，为兰山区3例、河东区2例、郯城县2例）。新增1例确诊病例为：病例25：患者王某某，男，2岁9个月，居住于费县探沂镇，1月21日随父母从武汉返回费县。在隔离观察期间出现发热症状，经实验室检测，新型冠状病毒核酸为阳性，目前在定点医疗机构隔离治疗，病情稳定。2月1日截至2020年2月1日24时，我市新增新型冠状病毒感染的肺炎确诊病例1例，累计确诊病例24例，疑似病例7例。各县区累计病例为兰山区11例、郯城县3例、河东区2例、费县2例、沂水县2例、莒南县2例、沂南县1例、临沭县1例。疑似病例兰山区2例、兰陵县1例、沂水县1例、平邑县1例、费县1例、临沭1例。（省卫生健康委按病例确诊时医院所在县区公布的河东区7例确诊病例，为兰山区3例、河东区2例、郯城县2例）。新增1例确诊病例为：病例24：患者林某某，女，47岁，居住于兰山区柳青街道，为1月31日确诊的林某某、郑某某的密切接触者。1月24日出现干咳等症状，2月1日经实验室检测，新型冠状病毒核酸为阳性，目前在定点医疗机构隔离治疗，病情稳定。目前累计追踪到密切接触者675人，当日解除医学观察7人。1月31日截至2020年1月31日12时，临沂市新增新型冠状病毒感染的肺炎确诊病例3例。累计确诊病例23例，疑似病例2例。各县区累计病例为兰山区10例、郯城县3例、河东区2例、费县2例、沂水县2例、莒南县2例、沂南县1例、临沭县1例。疑似病例兰山区1例、平邑县1例。（省卫生健康委按病例确诊时医院所在县区公布的河东区5例确诊病例，现收治于市人民医院东医疗区，其中兰山区3例、郯城县2例）。新增3例确诊病例为：病例23：患者刘某某，男，57岁，籍贯莒南县板泉镇，在武汉工作。1月21日自武汉自驾返回莒南，1月29日出现腹泻等症状，由定点医疗机构120救护车转运收治隔离治疗。经实验室检测，新型冠状病毒核酸为阳性，目前病情稳定。病例22：患者林某某，男，51岁，居住于河东区九曲街道，为1月29日确诊的傅某某的密切接触者。经实验室检测，新型冠状病毒核酸为阳性，目前病情稳定。病例21：患者郑某某，女，49岁，居住于河东区九曲街道，与患者林某某为夫妻关系，为1月29日确诊的傅某某的密切接触者。经实验室检测，新型冠状病毒核酸为阳性，目前病情稳定。目前全市累计追踪到的507名密切接触者，正在接受医学观察。1月30日截至2020年1月30日24时，临沂市新增新型冠状病毒感染的肺炎确诊病例4例。累计确诊病例20例，疑似病例2例。各县区累计病例为兰山区10例、郯城县3例、费县2例、沂水县2例、沂南县1例、莒南县1例、临沭县1例。疑似病例兰山区1例、平邑县1例。（省卫生健康委按病例确诊时医院所在县区公布的河东区5例确诊病例，现收治于市人民医院东医疗区，其中兰山区3例、郯城县2例）。新增4例确诊病例为：病例20：患者沈某某，男，39岁，籍贯江苏省连云港市海州区，在武汉工作。1月20日由武汉自驾到临沭探亲，1月28日出现呕吐、发烧等症状，到定点医疗机构发热门诊就诊随即被隔离。经实验室检测，新型冠状病毒核酸为阳性，目前在定点医疗机构隔离治疗，病情稳定。病例19：患者徐某，男，33岁，现居住于沂水县许家湖镇，1月16-19日在北京、泰安等地参加公司年会，1月20日出现发热、干咳等症状，自行到定点医疗机构发热门诊就诊。经实验室检测，新型冠状病毒核酸为阳性，目前在定点医疗机构隔离治疗，病情稳定。病例18：患者王某某，男，34岁，现居住于兰山区兰山街道，有武汉居住史，1月22日由湖北宜昌返回临沂，1月26日出现发热、干咳等症状，到定点医疗机构就诊。经实验室检测，新型冠状病毒核酸为阳性，目前在定点医疗机构隔离治疗，病情稳定。病例17：患者傅某某，为1月29日确诊的傅某某之子，1月29日，疾控机构到其家开展流调、采样事宜时，发现其有发烧等症状，随即联系定点医疗机构接走隔离。经实验室检测，新型冠状病毒核酸为阳性，目前在定点医疗机构隔离治疗，病情稳定。目前全市累计追踪到的474名密切接触者，正在接受医学观察。1月29日2020年1月29日0时—12时，临沂市新增新型冠状病毒感染的肺炎确诊病例1例。新增1例确诊病例为：病例16：患者傅某某，男，51岁，1月21日出现干咳、发烧症状，1月28日独自到临沂市人民医院东医疗区（河东）发热门诊就诊。经实验室检测，新型冠状病毒核酸为阳性，目前在定点医疗机构隔离治疗，病情稳定。目前全市累计追踪到的316名密切接触者，正在接受医学观察。截至2020年1月28日24时：病例15：患者孙某某，男，41岁，现居住于兰山区银雀山街道，1月19日自驾从武汉回临沂途中出现干咳、发烧症状，1月23日下午到临沂市人民医院东医疗区（河东）发热门诊就诊。经实验室检测，新型冠状病毒核酸为阳性，目前在定点医疗机构隔离治疗，病情稳定。病例14：患者徐某，女，38岁，现居住于兰山区银雀山街道，为患者孙某某的密切接触者，隔离期间1月25日出现咽部不适症状，1月26日出现发烧症状。经实验室检测，新型冠状病毒核酸为阳性，目前在定点医疗机构隔离治疗，病情稳定。病例13：患者王某某，男，34岁，现居住于郯城县马头镇，在武汉市打工，1月20日出现干咳症状，1月22日从武汉返乡，1月26日村委会通知其到定点医疗机构查体随即被隔离。经实验室检测，新型冠状病毒核酸为阳性，目前在定点医疗机构隔离治疗，病情稳定。病例12：患者武某某，女，47岁，现居住于武汉市武昌区，1月23日自驾到沂水探亲，1月26日出现发热、乏力等症状，1月27日到医疗机构发热门诊就诊随即被隔离。经实验室检测，新型冠状病毒核酸为阳性，目前在定点医疗机构隔离治疗，病情稳定。病例11：患者王某某，男，33岁，籍贯费县探沂镇，在武汉工作，1月21日从武汉返乡，1月27日出现发烧症状，由定点医疗机构120救护车转运收治隔离治疗。经实验室检测，新型冠状病毒核酸为阳性，目前病情稳定。病例10：患者邵某，女，32岁，籍贯费县探沂镇，在武汉工作，1月21日从武汉返乡，1月27日出现发烧症状，由定点医疗机构120救护车转运收治隔离治疗。经实验室检测，新型冠状病毒核酸为阳性，目前病情稳定。病例9：患者顾某，男，56岁，籍贯沂南县，在武汉工作，1月18日从武汉返乡，24日出现发烧症状，26日出现咳嗽症状，由定点医疗机构120救护车转运收治隔离治疗。经实验室检测，新型冠状病毒核酸为阳性，目前病情稳定。目前全市累计追踪到的292名密切接触者，正在接受医学观察。1月28日截至2020年1月27日24时，临沂市新增新型冠状病毒感染的肺炎确诊病例1例，疑似病例1例，累计确诊病例8例。其中确诊病例按居住地为兰山区5例、郯城县2例、莒南县1例，平邑县疑似病例1例。病例8：柴某某，男，48岁，现居住于郯城县郯城街道，在武汉经商，1月22日自驾回郯城县家中，1月25日出现发热、干咳、胸闷等症状，后到市人民医院东医疗区（河东）发热门诊就诊，经实验室检测，新型冠状病毒核酸为阳性，目前在定点医疗机构隔离治疗。现已对25名密切接触者开展隔离医学观察。1月26日截至2020年1月26日9时，临沂市新增4例新型冠状病毒感染的肺炎确诊病例，累计确诊病例7例，涉及到兰山区、莒南县、郯城县，其中兰山区5例、莒南县1例、郯城县1例。病例7：患者杜某某，男，34岁，居住于郯城县，有武汉出差史，1月20日出现发热、干咳症状，23日到定点医疗机构发热门诊就诊，经实验室检测，新型冠状病毒核酸为阳性，目前在定点医疗机构隔离治疗。现已对20名密切接触者开展隔离医学观察。病例6：患者刘某某，女，67岁，居住于莒南县，1月14日从湖北省武汉市返回莒南县，出现发烧、嗓子嘶哑等症状，23日到定点医疗机构发热门诊就诊，经实验室检测，新型冠状病毒核酸为阳性，目前在定点医疗机构隔离治疗。现已对7名密切接触者开展隔离医学观察。病例5：患者孙某，男，28岁，籍贯湖北省襄樊市，居住于兰山区柳青街道，经过流行病学调查，患者被判定为第4例患者的病例密切接触者，在隔离观察期间，对其采样筛查，经过实验室检测，新型冠状病毒核酸为阳性，目前在定点医疗机构隔离治疗。现已对2名密切接触者开展隔离医学观察。病例4：患者王某某，女，53岁，籍贯湖北省襄樊市，居住于兰山区柳青街道，经过流行病学调查，患者被判定与24日确诊的第3例患者为病例密切接触者，在隔离观察期间，对其采样筛查，经过实验室检测，新型冠状病毒核酸为阳性，目前在定点医疗机构隔离治疗。现已对36名密切接触者开展隔离医学观察。1月25日病例3：临沂市37岁男性患者，湖北省孝感人，与2020年1月23日我市首次报告的两例患者为亲子关系，经过流行病学调查，患者被判定为病例密切接触者，在隔离观察期间，对其采样筛查，经过实验室检测，新型冠状病毒核酸为阳性，目前在定点医疗机构隔离治疗。现已对其密切接触者开展隔离医学观察。1月23日1月22日0—24时，临沂市首次报告2例确诊病例。病例1、2：两位患者为夫妻关系，女性62岁，男性65岁，均为湖北省孝感市人，退休后到临沂市兰山区柳青街道其儿子家中居住，2019年12月29日，夫妻二人返回湖北老家探亲，2020年1月15日返回临沂。2020年1月21日，夫妻二人因发烧到临沂市人民医院就诊，就诊后被收入院隔离治疗。经省、市疾控机构检测，2名患者新型冠状病毒核酸检测结果为阳性。经专家评估确认，该两病例为新型冠状病毒感染的肺炎确诊病例。目前患者生命体征平稳，6名密切接触者正在接受医学隔离观察，无发热等症状。来源：临沂市卫健委官网\\n'"
      ]
     },
     "execution_count": 121,
     "metadata": {},
     "output_type": "execute_result"
    }
   ],
   "source": [
    "content"
   ]
  },
  {
   "cell_type": "code",
   "execution_count": 122,
   "metadata": {},
   "outputs": [
    {
     "data": {
      "text/plain": [
       "'齐鲁晚报'"
      ]
     },
     "execution_count": 122,
     "metadata": {},
     "output_type": "execute_result"
    }
   ],
   "source": [
    "resource_name"
   ]
  },
  {
   "cell_type": "code",
   "execution_count": 9,
   "metadata": {},
   "outputs": [],
   "source": [
    "wx_rules = {\n",
    "    'type':'selector',\n",
    "    'resource':'#js_name',\n",
    "    'content':'#js_content'\n",
    "}"
   ]
  },
  {
   "cell_type": "code",
   "execution_count": 10,
   "metadata": {},
   "outputs": [],
   "source": [
    "def get_resource_content_for_wx(url,driver,rule,img_debug=False):\n",
    "    ''' \n",
    "        input:url,driver,rule  \n",
    "        output:GETHTML\n",
    "    '''\n",
    "#     site = re.search(r'(https*://)(.+?)(/)',url).group(2)\n",
    "#     html =  ''\n",
    "    # 用引擎\n",
    "    driver.get(url)\n",
    "    sleep(0.5)\n",
    "    try:\n",
    "        html =  driver.page_source\n",
    "    except Expection as e:\n",
    "        return '','',[]\n",
    "#     url = 'https://mp.weixin.qq.com/s/BowMr0k90t8psMKEWMmshQ'\n",
    "#     site = re.search(r'(https*://)(.+?)(/)',url).group(2)\n",
    "    # 用引擎\n",
    "#     driver.get(url)\n",
    "    # sleep(0.2)\n",
    "    # try:\n",
    "#     html =  driver.page_source\n",
    "    # except Expection as e:\n",
    "    #     return '',''\n",
    "    # soup = etree.HTML(html)\n",
    "    # name = soup.xpath('//*[@id=\"js_name\"]')\n",
    "    # content = soup.xpath('//*[@id=\"js_content\"]')\n",
    "    soup = BeautifulSoup(html, 'html.parser')\n",
    "    sn,sc = ['#js_name','#js_content']\n",
    "    resource_name = soup.select(sn)\n",
    "    content_selector = soup.select(sc)[0]\n",
    "    content = content_selector.get_text()\n",
    "    resource_name = resource_name[0].get_text()\n",
    "    resource_name = re.sub(r'[^\\u4e00-\\u9fa5]','',resource_name)\n",
    "    imglist = []\n",
    "    imgs = content_selector.find_all('img')\n",
    "    \n",
    "    \n",
    "    if len(imgs)>=1:\n",
    "        for img in imgs:\n",
    "            img_dict = img.attrs\n",
    "            if 'data-type' in img_dict:\n",
    "                if 'gif' in img_dict['data-type']:\n",
    "                    continue\n",
    "                else:\n",
    "                    if 'data-src' in img_dict:\n",
    "                        imglist.append(img_dict['data-src'])\n",
    "                    elif 'src' in img_dict:\n",
    "                        imglist.append(img_dict['src'])\n",
    "    return resource_name,content,imglist"
   ]
  },
  {
   "cell_type": "code",
   "execution_count": 12,
   "metadata": {},
   "outputs": [],
   "source": [
    "r,c,i = get_resource_content_for_wx('https://mp.weixin.qq.com/s/BowMr0k90t8psMKEWMmshQ',driver,wx_rules)"
   ]
  },
  {
   "cell_type": "code",
   "execution_count": 13,
   "metadata": {},
   "outputs": [
    {
     "data": {
      "text/plain": [
       "'齐鲁晚报'"
      ]
     },
     "execution_count": 13,
     "metadata": {},
     "output_type": "execute_result"
    }
   ],
   "source": [
    "r"
   ]
  },
  {
   "cell_type": "code",
   "execution_count": 14,
   "metadata": {},
   "outputs": [
    {
     "data": {
      "text/plain": [
       "'\\n齐鲁晚报官方微信根据各地市卫健委官网信息整理，每天实时更新，敬请关注齐鲁晚报官方微信实时查看。备注：各地市确诊病例详情，可在后台回复“地市名＋确诊”查看，例如：“济南确诊”、“青岛确诊”、“日照确诊”）临沂确诊病例详情如下：2月19日2020年2月19日12—24时，临沂市新增新型冠状病毒肺炎确诊病例1例，治愈出院4例。新增确诊病例为：病例49号：患者彭某某，女，60岁，临沂市沂水县人，家居沂水县院东头镇姚店子村，有疑似病例密切接触史，无武汉旅居史。在隔离观察期间经实验室检测新型冠状病毒核酸为阳性，立即被定点医疗机构隔离治疗，2月19日由疑似病例确诊为新冠肺炎病例，临床普通型，无基础性疾病。正在隔离治疗。截至2月19日24时，临沂市累计确诊病例49例，治愈出院41例。各县区累计确诊病例为兰山区18例、郯城县5例、莒南县6例、平邑县4例、沂南县4例、沂水县4例、费县3例、河东区2例、临沭县2例、兰陵县1例。（省卫生健康委按病例确诊时医院所在县区公布的河东区12例确诊病例，为兰山区6例、河东区2例、郯城县2例、莒南县1例、沂水县1例）。目前累计追踪到密切接触者1433人，共解除医学观察1312人。2月18日2020年2月17日12—24时，临沂市新增新型冠状病毒肺炎确诊病例1例，治愈出院3例。新增确诊病例为：病例48号：患者赵某某，男，38岁，临沂市莒南县人，工作所在地湖北省武汉市洪山区，家居莒南县十字路镇东赤石沟村，有武汉旅居史。在隔离观察期间经实验室检测新型冠状病毒核酸为阳性（无症状），立即被定点医疗机构隔离治疗，2月17日由疑似病例确诊为新冠肺炎病例，临床轻型，无基础性疾病。正在隔离治疗。\\xa0截至2月17日24时，我市累计确诊病例48例，治愈出院35例，现有疑似病例2例。各县区累计确诊病例为兰山区18例、郯城县5例、莒南县6例、平邑县4例、沂南县4例、沂水县3例、费县3例、河东区2例、临沭县2例、兰陵县1例。疑似病例费县1例、沂水1例。（省卫生健康委按病例确诊时医院所在县区公布的河东区11例确诊病例，为兰山区6例、河东区2例、郯城县2例、莒南县1例）。目前累计追踪到密切接触者1413人，共解除医学观察1245人。2月14日2020年2月13日12—24时，临沂市新增新型冠状病毒肺炎确诊病例2例，疑似病例1例，治愈出院1例。新增确诊病例为——病例46号：患者管某某，女，30岁，临沂市平邑县人，工作所在地湖北省武汉市，家居平邑县柏林镇柏林村，有武汉旅居史。在集中隔离观察期间经实验室检测新型冠状病毒核酸为阳性（无症状感染者），立即被定点医疗机构隔离治疗，2月13日由阳性检测（无症状感染者）确诊为新冠肺炎病例，临床普通型，无基础性疾病。正在隔离治疗。病例47号：患者管某某，男，49岁，临沂市人平邑县人，家居平邑县柏林镇柏林村，与确诊病例有密切接触史，无外地旅居史。在集中隔离观察期间经实验室检测新型冠状病毒核酸为阳性（无症状感染者），立即被定点医疗机构隔离治疗，2月13日由阳性检测（无症状感染者）确诊为新冠肺炎病例，临床普通型。正在隔离治疗。截至2月13日24时，我市累计确诊病例47例，治愈出院13例，现有疑似病例1例。各县区累计确诊病例为兰山区18例、郯城县5例、莒南县5例、平邑县4例、沂南县4例、沂水县3例、费县3例、河东区2例、临沭县2例、兰陵县1例。疑似病例莒南县1例（省卫生健康委按病例确诊时医院所在县区公布的河东区10例确诊病例，为兰山区6例、河东区2例、郯城县2例）。目前累计追踪到密切接触者1374人，共解除医学观察1129人。2月11日2020年2月11日12—24时，临沂市新增新型冠状病毒肺炎确诊病例1例，治愈出院1例。新增确诊病例为——病例45：患者柴某某，男，11岁，山东省临沂市人，在武汉市上小学，系之前确诊病例柴某某之子。1月22日随父母从武汉返回郯城县，现居住于郯城县郯城街道龙域中央小区，1月27日安排到集中隔离点进行医学隔离观察，期间新型冠状病毒核酸检测为阳性，随即被定点医疗机构以疑似病例隔离治疗，2月10日由疑似病例确诊为新冠肺炎病例，临床轻型，无基础性疾病，病情稳定。截至2月11日24时，我市累计确诊病例45例，治愈出院10例。各县区累计确诊病例为兰山区18例、郯城县5例、沂南县4例、莒南县5例、沂水县3例、费县3例、河东区2例、平邑县2例、临沭县2例、兰陵县1例。（省卫生健康委按病例确诊时医院所在县区公布的河东区10例确诊病例，为兰山区6例、河东区2例、郯城县2例）。目前累计追踪到密切接触者1336人，共解除医学观察966人。2月10日2020年2月10日12—24时，我市新增新型冠状病毒肺炎确诊病例2例，治愈出院3例。新增2例确诊病例为：病例43：患者林某某，男，54岁，山东省临沂市人，工作所在地山东省临沂市，家居兰山区柳青街道润园小区，与确诊病例有密切接触，无武汉旅居史。2月10日由疑似病例确诊为新冠肺炎病例，临床普通型，无基础性疾病。正在隔离治疗。病例44：患者陈某，女，34岁，山东省临沂市人，居家无职业，现居住于莒南县坪上镇坪上一村，有武汉旅居史。2月10日由疑似病例确诊为新冠肺炎病例，临床轻型，无基础性疾病。正在隔离治疗。截至2月10日24时，我市累计确诊病例44例，治愈出院9例，现有疑似病例1例。各县区累计确诊病例为兰山区18例、郯城县4例、沂南县4例、莒南县5例、沂水县3例、费县3例、河东区2例、平邑县2例、临沭县2例、兰陵县1例。疑似病例郯城1例。（省卫生健康委按病例确诊时医院所在县区公布的河东区10例确诊病例，为兰山区6例、河东区2例、郯城县2例）。目前累计追踪到密切接触者1324人，共解除医学观察892人2月9日2020年2月9日12—24时，临沂新增2例。病例41：患者孟某某，女，40岁，山东省临沂市人，家居临沂市兰山区市水利局家属院，有武汉人员密切接触史，2月9日确定为新冠肺炎确诊病例，临床分型为轻型，正在隔离治疗。病例42：患者孟某某，女，38岁，山东省临沂市人，家居临沂市兰山区五大道住宅区，与确诊病例有密切接触史，2月9日确定为新冠肺炎确诊病例，临床分型为轻型，正在隔离治疗。2月8日2020年2月8日0—12时，临沂新增新型冠状病毒肺炎确诊病例2例，累计确诊病例40例，现有疑似病例5例。各县区累计确诊病例为兰山区15例、郯城县4例、沂南县4例、莒南县4例、沂水县3例、费县3例、河东区2例、临沭县2例、兰陵县1例、平邑县2例。疑似病例兰山区3例、莒南县1例、郯城县1例。（省卫生健康委按病例确诊时医院所在县区公布的河东区10例确诊病例，为兰山区6例、河东区2例、郯城县2例）。新增2例确诊病例为：病例39：患者李某某，男，72岁，居住于兰山区银雀山街道，有外地市确诊病例密切接触史。反复出现发烧、胸闷憋喘等症状，到定点医疗机构就诊随即被隔离治疗。经实验室检测，新型冠状病毒核酸为阳性，目前病情稳定。病例40：患者陈某某，男，56岁，居住于莒南县坪上镇，有武汉返乡确诊病例密切接触史。在隔离观察期间出现发热等症状，随即被120专车接至定点医疗机构隔离治疗。经实验室检测，新型冠状病毒核酸为阳性，目前病情稳定。目前累计追踪到密切接触者1177人，共解除医学观察431人，治愈出院3例。2月7日2020年2月7日12—24时，临沂新增新型冠状病毒感染的肺炎确诊病例3例，累计确诊病例38例，疑似病例7例。各县区累计确诊病例为兰山区14例、郯城县4例、沂水县3例、费县3例、河东区2例、莒南县3例、临沭县2例、沂南县4例、兰陵县1例、平邑县2例。疑似病例兰山区4例、莒南县2例、郯城县1例。（省卫生健康委按病例确诊时医院所在县区公布的河东区9例确诊病例，为兰山区5例、河东区2例、郯城县2例）。新增3例确诊病例为——病例36：患者李某某，男，6岁，居住于沂南县铜井镇。与父母从武汉返回沂南，在隔离观察期间出现发热、咽痛等症状，随即被定点医疗机构隔离治疗。经实验室检测，新型冠状病毒核酸为阳性，目前病情稳定。病例37：患者胡某某，男，40岁，居住于兰山区金雀山街道。为密切接触者发病。在隔离观察期间出现发热、咽痛等症状，随即被定点医疗机构隔离治疗。经实验室检测，新型冠状病毒核酸为阳性，目前病情稳定。病例38：患者王某某，男，32岁，籍贯莒南县板泉镇，有武汉居住史。自武汉返回莒南，在隔离观察期间出现发热等症状，随即被定点医疗机构隔离治疗。经实验室检测，新型冠状病毒核酸为阳性，目前病情稳定。目前累计追踪到密切接触者1177人，共解除医学观察 431人，治愈出院3例。2月6日2020年2月6日12—24时，临沂市新增新型冠状病毒感染的肺炎确诊病例3例，累计确诊病例35例，疑似病例7例。各县区累计确诊病例为兰山区13例、郯城县4例、沂水县3例、费县3例、河东区2例、莒南县2例、临沭县2例、沂南县3例、兰陵县1例、平邑县2例。疑似病例沂南县1例、兰山区3例、莒南县2例、河东区1例。（省卫生健康委按病例确诊时医院所在县区公布的河东区8例确诊病例，为兰山区4例、河东区2例、郯城县2例）。新增3例确诊病例为：病例33:患者庞某，男，33岁，居住于郯城县泉源乡。1月19日从武汉返回郯城，在隔离观察期间出现发烧等症状，随即被定点医疗机构隔离治疗。经实验室检测，新型冠状病毒核酸为阳性，目前病情稳定。病例34：患者周某某，女，33岁，居住于沂南县铜井镇，为确诊病例李某妻子。1月21日从武汉返回沂南，在隔离观察期间出现咳嗽等症状，随即被定点医疗机构隔离治疗。经实验室检测，新型冠状病毒核酸为阳性，目前病情稳定。病例35：患者陈某某，女，75岁，为确诊病例管某某妻子。居住于平邑县柏林镇。在隔离观察期间出现咳嗽等症状，随即被定点医疗机构隔离治疗。经实验室检测，新型冠状病毒核酸为阳性，目前状况稳定。目前累计追踪到密切接触者1078人，共解除医学观察315人，治愈出院3例。2月5日2020年2月5日12—24时，我市新增新型冠状病毒感染的肺炎确诊病例2例，累计确诊病例32例，疑似病例5例。各县区累计确诊病例为兰山区13例、郯城县3例、沂水县3例、费县3例、河东区2例、莒南县2例、临沭县2例、沂南县2例、兰陵县1例、平邑县1例。疑似病例沂南县2例、兰山区1例、郯城县1例、莒南县1例。（省卫生健康委按病例确诊时医院所在县区公布的河东区8例确诊病例，为兰山区4例、河东区2例、郯城县2例）。新增2例确诊病例为：病例31：患者王某某，男，63岁，居住于兰山区兰山街道，为傅某某的密切接触者。在隔离观察期间出现发热等症状，随即被定点医疗机构隔离治疗。经实验室检测，新型冠状病毒核酸为阳性，目前病情稳定。病例32：患者李某，男，32岁，居住于沂南县铜井镇。1月21日从武汉返回沂南，在隔离观察期间出现干咳等症状，随即被定点医疗机构隔离治疗。经实验室检测，新型冠状病毒核酸为阳性，目前病情稳定。目前累计追踪到密切接触者985人，共解除医学观察 183人，治愈出院1例。2月4日2020年2月4日0—12时，我市新增新型冠状病毒感染的肺炎确诊病例1例，累计确诊病例28例，疑似病例6例。各县区累计确诊病例为兰山区11例、郯城县3例、费县3例、河东区2例、沂水县2例、莒南县2例、临沭县2例、沂南县1例、兰陵县1例、平邑县1例。疑似病例沂南县3例、兰山区1例、郯城县1例、沂水县1例。（省卫生健康委按病例确诊时医院所在县区公布的河东区7例确诊病例，为兰山区3例、河东区2例、郯城县2例）。新增1例确诊病例为：病例28：患者管某某，男，79岁，居住于平邑县柏林镇，有与武汉返乡人员密切接触史。2月2日出现发热症状，到医疗机构就诊后随即被隔离治疗。经实验室检测，新型冠状病毒核酸为阳性，目前病情稳定。目前累计追踪到密切接触者715人，共解除医学观察 79人，治愈出院1例。2020年2月4日12—24时，临沂市新增新型冠状病毒感染的肺炎确诊病例2例，累计确诊病例30例，疑似病例6例。各县区累计确诊病例为兰山区12例、郯城县3例、费县3例、河东区2例、沂水县3例、莒南县2例、临沭县2例、沂南县1例、兰陵县1例、平邑县1例。疑似病例沂南县3例、兰山区1例、郯城县1例、莒南县1例。（省卫生健康委按病例确诊时医院所在县区公布的河东区8例确诊病例，为兰山区4例、河东区2例、郯城县2例）。新增确诊病例为：病例29：患者王某，女，23岁，为傅某某的密切接触者。在隔离观察期间出现发热等症状，随即被定点医疗机构隔离治疗。经实验室检测，新型冠状病毒核酸为阳性，目前病情稳定。病例30：患者武某某，男，24岁，居住于沂水县道托镇。1月20日从武汉返回沂水，在隔离观察期间出现发热、干咳等症状，随即被定点医疗机构隔离治疗。经实验室检测，新型冠状病毒核酸为阳性，目前病情稳定。目前累计追踪到密切接触者853人，共解除医学观察93人，治愈出院1例。2月3日2020年2月3日12—24时，临沂市新增新型冠状病毒感染的肺炎确诊病例2例，累计确诊病例27例，疑似病例6例。各县区累计确诊病例为兰山区11例、郯城县3例、费县3例、河东区2例、沂水县2例、莒南县2例、临沭县2例、沂南县1例、兰陵县1例。疑似病例沂南县3例、兰山区1例、郯城县1例、沂水县1例。（省卫生健康委按病例确诊时医院所在县区公布的河东区7例确诊病例，为兰山区3例、河东区2例、郯城县2例）。新增2例确诊病例为：病例26：患者李某某，男，40岁，居住于临沭县临沭街道，有武汉工作史。1月21日从武汉返回临沭，在隔离观察期间出现发热、头痛等症状，随即被定点医疗机构隔离治疗。经实验室检测，新型冠状病毒核酸为阳性，目前病情稳定。病例27：患者朱某某，男，50岁，居住于兰陵县卞庄街道，有武汉出差史。1月23日从武汉返回兰陵，在隔离观察期间出现发热等症状，随即被定点医疗机构隔离治疗。经实验室检测，新型冠状病毒核酸为阳性，目前病情稳定。目前累计追踪到密切接触者715人，共解除医学观察79人，治愈出院1例。截至2020年2月3日12时，临沂新增新型冠状病毒感染的肺炎确诊病例1例，累计确诊病例25例，疑似病例5例。各县区累计确诊病例为兰山区11例、郯城县3例、费县3例、河东区2例、沂水县2例、莒南县2例、沂南县1例、临沭县1例。疑似病例兰山区1例、郯城县1例、兰陵县1例、沂水县1例、临沭1例。（省卫生健康委按病例确诊时医院所在县区公布的河东区7例确诊病例，为兰山区3例、河东区2例、郯城县2例）。新增1例确诊病例为：病例25：患者王某某，男，2岁9个月，居住于费县探沂镇，1月21日随父母从武汉返回费县。在隔离观察期间出现发热症状，经实验室检测，新型冠状病毒核酸为阳性，目前在定点医疗机构隔离治疗，病情稳定。2月1日截至2020年2月1日24时，我市新增新型冠状病毒感染的肺炎确诊病例1例，累计确诊病例24例，疑似病例7例。各县区累计病例为兰山区11例、郯城县3例、河东区2例、费县2例、沂水县2例、莒南县2例、沂南县1例、临沭县1例。疑似病例兰山区2例、兰陵县1例、沂水县1例、平邑县1例、费县1例、临沭1例。（省卫生健康委按病例确诊时医院所在县区公布的河东区7例确诊病例，为兰山区3例、河东区2例、郯城县2例）。新增1例确诊病例为：病例24：患者林某某，女，47岁，居住于兰山区柳青街道，为1月31日确诊的林某某、郑某某的密切接触者。1月24日出现干咳等症状，2月1日经实验室检测，新型冠状病毒核酸为阳性，目前在定点医疗机构隔离治疗，病情稳定。目前累计追踪到密切接触者675人，当日解除医学观察7人。1月31日截至2020年1月31日12时，临沂市新增新型冠状病毒感染的肺炎确诊病例3例。累计确诊病例23例，疑似病例2例。各县区累计病例为兰山区10例、郯城县3例、河东区2例、费县2例、沂水县2例、莒南县2例、沂南县1例、临沭县1例。疑似病例兰山区1例、平邑县1例。（省卫生健康委按病例确诊时医院所在县区公布的河东区5例确诊病例，现收治于市人民医院东医疗区，其中兰山区3例、郯城县2例）。新增3例确诊病例为：病例23：患者刘某某，男，57岁，籍贯莒南县板泉镇，在武汉工作。1月21日自武汉自驾返回莒南，1月29日出现腹泻等症状，由定点医疗机构120救护车转运收治隔离治疗。经实验室检测，新型冠状病毒核酸为阳性，目前病情稳定。病例22：患者林某某，男，51岁，居住于河东区九曲街道，为1月29日确诊的傅某某的密切接触者。经实验室检测，新型冠状病毒核酸为阳性，目前病情稳定。病例21：患者郑某某，女，49岁，居住于河东区九曲街道，与患者林某某为夫妻关系，为1月29日确诊的傅某某的密切接触者。经实验室检测，新型冠状病毒核酸为阳性，目前病情稳定。目前全市累计追踪到的507名密切接触者，正在接受医学观察。1月30日截至2020年1月30日24时，临沂市新增新型冠状病毒感染的肺炎确诊病例4例。累计确诊病例20例，疑似病例2例。各县区累计病例为兰山区10例、郯城县3例、费县2例、沂水县2例、沂南县1例、莒南县1例、临沭县1例。疑似病例兰山区1例、平邑县1例。（省卫生健康委按病例确诊时医院所在县区公布的河东区5例确诊病例，现收治于市人民医院东医疗区，其中兰山区3例、郯城县2例）。新增4例确诊病例为：病例20：患者沈某某，男，39岁，籍贯江苏省连云港市海州区，在武汉工作。1月20日由武汉自驾到临沭探亲，1月28日出现呕吐、发烧等症状，到定点医疗机构发热门诊就诊随即被隔离。经实验室检测，新型冠状病毒核酸为阳性，目前在定点医疗机构隔离治疗，病情稳定。病例19：患者徐某，男，33岁，现居住于沂水县许家湖镇，1月16-19日在北京、泰安等地参加公司年会，1月20日出现发热、干咳等症状，自行到定点医疗机构发热门诊就诊。经实验室检测，新型冠状病毒核酸为阳性，目前在定点医疗机构隔离治疗，病情稳定。病例18：患者王某某，男，34岁，现居住于兰山区兰山街道，有武汉居住史，1月22日由湖北宜昌返回临沂，1月26日出现发热、干咳等症状，到定点医疗机构就诊。经实验室检测，新型冠状病毒核酸为阳性，目前在定点医疗机构隔离治疗，病情稳定。病例17：患者傅某某，为1月29日确诊的傅某某之子，1月29日，疾控机构到其家开展流调、采样事宜时，发现其有发烧等症状，随即联系定点医疗机构接走隔离。经实验室检测，新型冠状病毒核酸为阳性，目前在定点医疗机构隔离治疗，病情稳定。目前全市累计追踪到的474名密切接触者，正在接受医学观察。1月29日2020年1月29日0时—12时，临沂市新增新型冠状病毒感染的肺炎确诊病例1例。新增1例确诊病例为：病例16：患者傅某某，男，51岁，1月21日出现干咳、发烧症状，1月28日独自到临沂市人民医院东医疗区（河东）发热门诊就诊。经实验室检测，新型冠状病毒核酸为阳性，目前在定点医疗机构隔离治疗，病情稳定。目前全市累计追踪到的316名密切接触者，正在接受医学观察。截至2020年1月28日24时：病例15：患者孙某某，男，41岁，现居住于兰山区银雀山街道，1月19日自驾从武汉回临沂途中出现干咳、发烧症状，1月23日下午到临沂市人民医院东医疗区（河东）发热门诊就诊。经实验室检测，新型冠状病毒核酸为阳性，目前在定点医疗机构隔离治疗，病情稳定。病例14：患者徐某，女，38岁，现居住于兰山区银雀山街道，为患者孙某某的密切接触者，隔离期间1月25日出现咽部不适症状，1月26日出现发烧症状。经实验室检测，新型冠状病毒核酸为阳性，目前在定点医疗机构隔离治疗，病情稳定。病例13：患者王某某，男，34岁，现居住于郯城县马头镇，在武汉市打工，1月20日出现干咳症状，1月22日从武汉返乡，1月26日村委会通知其到定点医疗机构查体随即被隔离。经实验室检测，新型冠状病毒核酸为阳性，目前在定点医疗机构隔离治疗，病情稳定。病例12：患者武某某，女，47岁，现居住于武汉市武昌区，1月23日自驾到沂水探亲，1月26日出现发热、乏力等症状，1月27日到医疗机构发热门诊就诊随即被隔离。经实验室检测，新型冠状病毒核酸为阳性，目前在定点医疗机构隔离治疗，病情稳定。病例11：患者王某某，男，33岁，籍贯费县探沂镇，在武汉工作，1月21日从武汉返乡，1月27日出现发烧症状，由定点医疗机构120救护车转运收治隔离治疗。经实验室检测，新型冠状病毒核酸为阳性，目前病情稳定。病例10：患者邵某，女，32岁，籍贯费县探沂镇，在武汉工作，1月21日从武汉返乡，1月27日出现发烧症状，由定点医疗机构120救护车转运收治隔离治疗。经实验室检测，新型冠状病毒核酸为阳性，目前病情稳定。病例9：患者顾某，男，56岁，籍贯沂南县，在武汉工作，1月18日从武汉返乡，24日出现发烧症状，26日出现咳嗽症状，由定点医疗机构120救护车转运收治隔离治疗。经实验室检测，新型冠状病毒核酸为阳性，目前病情稳定。目前全市累计追踪到的292名密切接触者，正在接受医学观察。1月28日截至2020年1月27日24时，临沂市新增新型冠状病毒感染的肺炎确诊病例1例，疑似病例1例，累计确诊病例8例。其中确诊病例按居住地为兰山区5例、郯城县2例、莒南县1例，平邑县疑似病例1例。病例8：柴某某，男，48岁，现居住于郯城县郯城街道，在武汉经商，1月22日自驾回郯城县家中，1月25日出现发热、干咳、胸闷等症状，后到市人民医院东医疗区（河东）发热门诊就诊，经实验室检测，新型冠状病毒核酸为阳性，目前在定点医疗机构隔离治疗。现已对25名密切接触者开展隔离医学观察。1月26日截至2020年1月26日9时，临沂市新增4例新型冠状病毒感染的肺炎确诊病例，累计确诊病例7例，涉及到兰山区、莒南县、郯城县，其中兰山区5例、莒南县1例、郯城县1例。病例7：患者杜某某，男，34岁，居住于郯城县，有武汉出差史，1月20日出现发热、干咳症状，23日到定点医疗机构发热门诊就诊，经实验室检测，新型冠状病毒核酸为阳性，目前在定点医疗机构隔离治疗。现已对20名密切接触者开展隔离医学观察。病例6：患者刘某某，女，67岁，居住于莒南县，1月14日从湖北省武汉市返回莒南县，出现发烧、嗓子嘶哑等症状，23日到定点医疗机构发热门诊就诊，经实验室检测，新型冠状病毒核酸为阳性，目前在定点医疗机构隔离治疗。现已对7名密切接触者开展隔离医学观察。病例5：患者孙某，男，28岁，籍贯湖北省襄樊市，居住于兰山区柳青街道，经过流行病学调查，患者被判定为第4例患者的病例密切接触者，在隔离观察期间，对其采样筛查，经过实验室检测，新型冠状病毒核酸为阳性，目前在定点医疗机构隔离治疗。现已对2名密切接触者开展隔离医学观察。病例4：患者王某某，女，53岁，籍贯湖北省襄樊市，居住于兰山区柳青街道，经过流行病学调查，患者被判定与24日确诊的第3例患者为病例密切接触者，在隔离观察期间，对其采样筛查，经过实验室检测，新型冠状病毒核酸为阳性，目前在定点医疗机构隔离治疗。现已对36名密切接触者开展隔离医学观察。1月25日病例3：临沂市37岁男性患者，湖北省孝感人，与2020年1月23日我市首次报告的两例患者为亲子关系，经过流行病学调查，患者被判定为病例密切接触者，在隔离观察期间，对其采样筛查，经过实验室检测，新型冠状病毒核酸为阳性，目前在定点医疗机构隔离治疗。现已对其密切接触者开展隔离医学观察。1月23日1月22日0—24时，临沂市首次报告2例确诊病例。病例1、2：两位患者为夫妻关系，女性62岁，男性65岁，均为湖北省孝感市人，退休后到临沂市兰山区柳青街道其儿子家中居住，2019年12月29日，夫妻二人返回湖北老家探亲，2020年1月15日返回临沂。2020年1月21日，夫妻二人因发烧到临沂市人民医院就诊，就诊后被收入院隔离治疗。经省、市疾控机构检测，2名患者新型冠状病毒核酸检测结果为阳性。经专家评估确认，该两病例为新型冠状病毒感染的肺炎确诊病例。目前患者生命体征平稳，6名密切接触者正在接受医学隔离观察，无发热等症状。来源：临沂市卫健委官网\\n'"
      ]
     },
     "execution_count": 14,
     "metadata": {},
     "output_type": "execute_result"
    }
   ],
   "source": [
    "c"
   ]
  },
  {
   "cell_type": "code",
   "execution_count": 15,
   "metadata": {},
   "outputs": [
    {
     "data": {
      "text/html": [
       "<div>\n",
       "<style scoped>\n",
       "    .dataframe tbody tr th:only-of-type {\n",
       "        vertical-align: middle;\n",
       "    }\n",
       "\n",
       "    .dataframe tbody tr th {\n",
       "        vertical-align: top;\n",
       "    }\n",
       "\n",
       "    .dataframe thead th {\n",
       "        text-align: right;\n",
       "    }\n",
       "</style>\n",
       "<table border=\"1\" class=\"dataframe\">\n",
       "  <thead>\n",
       "    <tr style=\"text-align: right;\">\n",
       "      <th></th>\n",
       "      <th>url</th>\n",
       "    </tr>\n",
       "  </thead>\n",
       "  <tbody>\n",
       "    <tr>\n",
       "      <th>0</th>\n",
       "      <td>https://mp.weixin.qq.com/s/HTsNM1zxEAx3IqoF1uYnYA</td>\n",
       "    </tr>\n",
       "    <tr>\n",
       "      <th>1</th>\n",
       "      <td>http://hc.nc.gov.cn/ncwjw/gzdt/202002/b5cf8972...</td>\n",
       "    </tr>\n",
       "    <tr>\n",
       "      <th>2</th>\n",
       "      <td>http://m.ha.bendibao.com/mip/1636.shtm</td>\n",
       "    </tr>\n",
       "    <tr>\n",
       "      <th>3</th>\n",
       "      <td>http://news.gxnews.com.cn/staticpages/20200209...</td>\n",
       "    </tr>\n",
       "    <tr>\n",
       "      <th>4</th>\n",
       "      <td>http://o.xiancity.cn/system/2020/02/09/0307133...</td>\n",
       "    </tr>\n",
       "    <tr>\n",
       "      <th>...</th>\n",
       "      <td>...</td>\n",
       "    </tr>\n",
       "    <tr>\n",
       "      <th>181</th>\n",
       "      <td>https://mp.weixin.qq.com/s/zOGzJVviegMaLRE8tuiLRw</td>\n",
       "    </tr>\n",
       "    <tr>\n",
       "      <th>182</th>\n",
       "      <td>https://weibo.com/7129811001/IrH6peQ3d?from=pa...</td>\n",
       "    </tr>\n",
       "    <tr>\n",
       "      <th>183</th>\n",
       "      <td>https://weibo.com/7129811001/IssWHlJzw?from=pa...</td>\n",
       "    </tr>\n",
       "    <tr>\n",
       "      <th>184</th>\n",
       "      <td>https://weibo.com/7129811001/ItKAzr93p?from=pa...</td>\n",
       "    </tr>\n",
       "    <tr>\n",
       "      <th>185</th>\n",
       "      <td>https://mp.weixin.qq.com/s/URJDtNlB8jOnsmdH17VjXA</td>\n",
       "    </tr>\n",
       "  </tbody>\n",
       "</table>\n",
       "<p>186 rows × 1 columns</p>\n",
       "</div>"
      ],
      "text/plain": [
       "                                                   url\n",
       "0    https://mp.weixin.qq.com/s/HTsNM1zxEAx3IqoF1uYnYA\n",
       "1    http://hc.nc.gov.cn/ncwjw/gzdt/202002/b5cf8972...\n",
       "2               http://m.ha.bendibao.com/mip/1636.shtm\n",
       "3    http://news.gxnews.com.cn/staticpages/20200209...\n",
       "4    http://o.xiancity.cn/system/2020/02/09/0307133...\n",
       "..                                                 ...\n",
       "181  https://mp.weixin.qq.com/s/zOGzJVviegMaLRE8tuiLRw\n",
       "182  https://weibo.com/7129811001/IrH6peQ3d?from=pa...\n",
       "183  https://weibo.com/7129811001/IssWHlJzw?from=pa...\n",
       "184  https://weibo.com/7129811001/ItKAzr93p?from=pa...\n",
       "185  https://mp.weixin.qq.com/s/URJDtNlB8jOnsmdH17VjXA\n",
       "\n",
       "[186 rows x 1 columns]"
      ]
     },
     "execution_count": 15,
     "metadata": {},
     "output_type": "execute_result"
    }
   ],
   "source": [
    "good_url"
   ]
  },
  {
   "cell_type": "code",
   "execution_count": 24,
   "metadata": {},
   "outputs": [],
   "source": [
    "wx_host = 'mp.weixin.qq.com'\n",
    "wx_extract = {\n",
    "    'url':[],\n",
    "    'content':[],\n",
    "    'resource':[],\n",
    "    'imgs_url':[]\n",
    "}\n",
    "# weixin_url = good_url['url'][wx_host in good_url['url']]\n",
    "# weixin_url = good_url['url'][wx_host in good_url['url']]\n",
    "for url in good_url['url']:\n",
    "    if wx_host in url:\n",
    "        wx_extract['url'].append(url)\n",
    "        r,c,i = get_resource_content_for_wx(url,driver,wx_rules)\n",
    "        wx_extract['resource'].append(r)\n",
    "        wx_extract['content'].append(c)\n",
    "        wx_extract['imgs_url'].append(i)\n",
    "        \n",
    "wx_extract = pd.DataFrame(wx_extract)\n",
    "# good_url\n",
    "wx_extract.to_csv('./wx_extract.csv')"
   ]
  },
  {
   "cell_type": "code",
   "execution_count": 259,
   "metadata": {},
   "outputs": [
    {
     "data": {
      "text/html": [
       "<div>\n",
       "<style scoped>\n",
       "    .dataframe tbody tr th:only-of-type {\n",
       "        vertical-align: middle;\n",
       "    }\n",
       "\n",
       "    .dataframe tbody tr th {\n",
       "        vertical-align: top;\n",
       "    }\n",
       "\n",
       "    .dataframe thead th {\n",
       "        text-align: right;\n",
       "    }\n",
       "</style>\n",
       "<table border=\"1\" class=\"dataframe\">\n",
       "  <thead>\n",
       "    <tr style=\"text-align: right;\">\n",
       "      <th></th>\n",
       "      <th>url</th>\n",
       "      <th>content</th>\n",
       "      <th>resource</th>\n",
       "      <th>imgs_url</th>\n",
       "    </tr>\n",
       "  </thead>\n",
       "  <tbody>\n",
       "    <tr>\n",
       "      <th>0</th>\n",
       "      <td>https://mp.weixin.qq.com/s/HTsNM1zxEAx3IqoF1uYnYA</td>\n",
       "      <td>\\n最新消息2月14日上午，省卫健委公布2月13日0－24时肇庆市新增1例新冠肺炎确诊病例。...</td>\n",
       "      <td>健康肇庆</td>\n",
       "      <td>[https://mmbiz.qpic.cn/mmbiz_jpg/z2KVp01hujFYO...</td>\n",
       "    </tr>\n",
       "    <tr>\n",
       "      <th>1</th>\n",
       "      <td>https://mp.weixin.qq.com/s/03w_HdZGypbtAG33jikquw</td>\n",
       "      <td>\\n今天上午，中山市人民政府新闻办公室组织召开市疫情防控工作第14场新闻发布会。市卫生健康局...</td>\n",
       "      <td>中山发布</td>\n",
       "      <td>[https://mmbiz.qpic.cn/mmbiz_jpg/jL1hNwBkicA21...</td>\n",
       "    </tr>\n",
       "    <tr>\n",
       "      <th>2</th>\n",
       "      <td>https://mp.weixin.qq.com/s/0xihh12dgBBxbfozR6fnNg</td>\n",
       "      <td>\\n今天上午，中山市人民政府新闻办公室组织召开市疫情防控工作第23场新闻发布会。市卫生健康局...</td>\n",
       "      <td>中山发布</td>\n",
       "      <td>[https://mmbiz.qpic.cn/mmbiz_png/jL1hNwBkicA29...</td>\n",
       "    </tr>\n",
       "    <tr>\n",
       "      <th>3</th>\n",
       "      <td>https://mp.weixin.qq.com/s/0zzx4G3oUPQmzNk6JTTUzQ</td>\n",
       "      <td>\\n导读2020年1月29日10时至13时30分，辽宁省沈阳市新增1例新型冠状病毒感染的肺炎...</td>\n",
       "      <td>辽沈晚报</td>\n",
       "      <td>[https://mmbiz.qpic.cn/mmbiz_jpg/CJdX9kBRCzBFZ...</td>\n",
       "    </tr>\n",
       "    <tr>\n",
       "      <th>4</th>\n",
       "      <td>https://mp.weixin.qq.com/s/15bQoiHzj8ABrnySvnEtQA</td>\n",
       "      <td>\\n沣西新城一患者被确定为新型冠状病毒感染的肺炎疑似病例。该患者于2020年1月20日在世纪...</td>\n",
       "      <td>咸阳发布</td>\n",
       "      <td>[https://mmbiz.qpic.cn/mmbiz_jpg/MpR6g4hrh5bCP...</td>\n",
       "    </tr>\n",
       "    <tr>\n",
       "      <th>...</th>\n",
       "      <td>...</td>\n",
       "      <td>...</td>\n",
       "      <td>...</td>\n",
       "      <td>...</td>\n",
       "    </tr>\n",
       "    <tr>\n",
       "      <th>150</th>\n",
       "      <td>https://mp.weixin.qq.com/s/yT_I4r6Sc2K3O7-3iAl-mA</td>\n",
       "      <td>\\n广大居民群众：2020年2月4日，临河区确诊1例新型冠状病毒感染的肺炎病例。患者吴某某，...</td>\n",
       "      <td>巴彦淖尔日报</td>\n",
       "      <td>[https://mmbiz.qpic.cn/mmbiz_jpg/NRe6lcV3rlkPg...</td>\n",
       "    </tr>\n",
       "    <tr>\n",
       "      <th>151</th>\n",
       "      <td>https://mp.weixin.qq.com/s/yyeefgne4StL6ZH9mRh80Q</td>\n",
       "      <td>\\n2020年2月8日，江西省卫生健康委发布疫情通报，2020年2月7日0-24时，江西省报...</td>\n",
       "      <td>江西日报</td>\n",
       "      <td>[https://mmbiz.qpic.cn/mmbiz_png/7QRTvkK2qC5or...</td>\n",
       "    </tr>\n",
       "    <tr>\n",
       "      <th>152</th>\n",
       "      <td>https://mp.weixin.qq.com/s/z1mVzAvyEoNiS2s0jsIgQw</td>\n",
       "      <td>\\n广东省新增确诊22例累计确诊1241例据广东省卫健委今日（13日）最新消息：截至2月12...</td>\n",
       "      <td>江门发布</td>\n",
       "      <td>[https://mmbiz.qpic.cn/mmbiz_jpg/ia7E3qMRicX83...</td>\n",
       "    </tr>\n",
       "    <tr>\n",
       "      <th>153</th>\n",
       "      <td>https://mp.weixin.qq.com/s/zOGzJVviegMaLRE8tuiLRw</td>\n",
       "      <td>\\n2020年1月31日，我市确认1例输入性新型冠状病毒感染的肺炎确诊病例。姜某，男，满族，...</td>\n",
       "      <td>辽沈晚报</td>\n",
       "      <td>[https://mmbiz.qpic.cn/mmbiz_jpg/X3BpEU6jNLrdx...</td>\n",
       "    </tr>\n",
       "    <tr>\n",
       "      <th>154</th>\n",
       "      <td>https://mp.weixin.qq.com/s/URJDtNlB8jOnsmdH17VjXA</td>\n",
       "      <td>\\n我省确诊的8例新型冠状病毒感染的肺炎患者与密切接触者医疗救治情况——青海省新型冠状病毒感...</td>\n",
       "      <td>青海日报</td>\n",
       "      <td>[https://mmbiz.qpic.cn/mmbiz_jpg/h6aWoq3mmtubl...</td>\n",
       "    </tr>\n",
       "  </tbody>\n",
       "</table>\n",
       "<p>155 rows × 4 columns</p>\n",
       "</div>"
      ],
      "text/plain": [
       "                                                   url  \\\n",
       "0    https://mp.weixin.qq.com/s/HTsNM1zxEAx3IqoF1uYnYA   \n",
       "1    https://mp.weixin.qq.com/s/03w_HdZGypbtAG33jikquw   \n",
       "2    https://mp.weixin.qq.com/s/0xihh12dgBBxbfozR6fnNg   \n",
       "3    https://mp.weixin.qq.com/s/0zzx4G3oUPQmzNk6JTTUzQ   \n",
       "4    https://mp.weixin.qq.com/s/15bQoiHzj8ABrnySvnEtQA   \n",
       "..                                                 ...   \n",
       "150  https://mp.weixin.qq.com/s/yT_I4r6Sc2K3O7-3iAl-mA   \n",
       "151  https://mp.weixin.qq.com/s/yyeefgne4StL6ZH9mRh80Q   \n",
       "152  https://mp.weixin.qq.com/s/z1mVzAvyEoNiS2s0jsIgQw   \n",
       "153  https://mp.weixin.qq.com/s/zOGzJVviegMaLRE8tuiLRw   \n",
       "154  https://mp.weixin.qq.com/s/URJDtNlB8jOnsmdH17VjXA   \n",
       "\n",
       "                                               content resource  \\\n",
       "0    \\n最新消息2月14日上午，省卫健委公布2月13日0－24时肇庆市新增1例新冠肺炎确诊病例。...     健康肇庆   \n",
       "1    \\n今天上午，中山市人民政府新闻办公室组织召开市疫情防控工作第14场新闻发布会。市卫生健康局...     中山发布   \n",
       "2    \\n今天上午，中山市人民政府新闻办公室组织召开市疫情防控工作第23场新闻发布会。市卫生健康局...     中山发布   \n",
       "3    \\n导读2020年1月29日10时至13时30分，辽宁省沈阳市新增1例新型冠状病毒感染的肺炎...     辽沈晚报   \n",
       "4    \\n沣西新城一患者被确定为新型冠状病毒感染的肺炎疑似病例。该患者于2020年1月20日在世纪...     咸阳发布   \n",
       "..                                                 ...      ...   \n",
       "150  \\n广大居民群众：2020年2月4日，临河区确诊1例新型冠状病毒感染的肺炎病例。患者吴某某，...   巴彦淖尔日报   \n",
       "151  \\n2020年2月8日，江西省卫生健康委发布疫情通报，2020年2月7日0-24时，江西省报...     江西日报   \n",
       "152  \\n广东省新增确诊22例累计确诊1241例据广东省卫健委今日（13日）最新消息：截至2月12...     江门发布   \n",
       "153  \\n2020年1月31日，我市确认1例输入性新型冠状病毒感染的肺炎确诊病例。姜某，男，满族，...     辽沈晚报   \n",
       "154  \\n我省确诊的8例新型冠状病毒感染的肺炎患者与密切接触者医疗救治情况——青海省新型冠状病毒感...     青海日报   \n",
       "\n",
       "                                              imgs_url  \n",
       "0    [https://mmbiz.qpic.cn/mmbiz_jpg/z2KVp01hujFYO...  \n",
       "1    [https://mmbiz.qpic.cn/mmbiz_jpg/jL1hNwBkicA21...  \n",
       "2    [https://mmbiz.qpic.cn/mmbiz_png/jL1hNwBkicA29...  \n",
       "3    [https://mmbiz.qpic.cn/mmbiz_jpg/CJdX9kBRCzBFZ...  \n",
       "4    [https://mmbiz.qpic.cn/mmbiz_jpg/MpR6g4hrh5bCP...  \n",
       "..                                                 ...  \n",
       "150  [https://mmbiz.qpic.cn/mmbiz_jpg/NRe6lcV3rlkPg...  \n",
       "151  [https://mmbiz.qpic.cn/mmbiz_png/7QRTvkK2qC5or...  \n",
       "152  [https://mmbiz.qpic.cn/mmbiz_jpg/ia7E3qMRicX83...  \n",
       "153  [https://mmbiz.qpic.cn/mmbiz_jpg/X3BpEU6jNLrdx...  \n",
       "154  [https://mmbiz.qpic.cn/mmbiz_jpg/h6aWoq3mmtubl...  \n",
       "\n",
       "[155 rows x 4 columns]"
      ]
     },
     "execution_count": 259,
     "metadata": {},
     "output_type": "execute_result"
    }
   ],
   "source": [
    "wx_extract"
   ]
  },
  {
   "cell_type": "code",
   "execution_count": null,
   "metadata": {},
   "outputs": [],
   "source": []
  },
  {
   "cell_type": "code",
   "execution_count": 222,
   "metadata": {},
   "outputs": [
    {
     "data": {
      "text/plain": [
       "'https://mp.weixin.qq.com/s/hywpRGEm_OJepGkhPbqYOQ'"
      ]
     },
     "execution_count": 222,
     "metadata": {},
     "output_type": "execute_result"
    }
   ],
   "source": [
    "wx_extract['url'][-1]"
   ]
  },
  {
   "cell_type": "code",
   "execution_count": 215,
   "metadata": {},
   "outputs": [
    {
     "data": {
      "text/plain": [
       "'https://mp.weixin.qq.com/s/0xihh12dgBBxbfozR6fnNg'"
      ]
     },
     "execution_count": 215,
     "metadata": {},
     "output_type": "execute_result"
    }
   ],
   "source": [
    "wx_extract['url'][-1]"
   ]
  },
  {
   "cell_type": "code",
   "execution_count": 216,
   "metadata": {},
   "outputs": [],
   "source": [
    "r,c,i = get_resource_content_for_wx('https://mp.weixin.qq.com/s/0xihh12dgBBxbfozR6fnNg',driver,wx_rules,img_debug=True)"
   ]
  },
  {
   "cell_type": "code",
   "execution_count": 208,
   "metadata": {},
   "outputs": [
    {
     "data": {
      "text/plain": [
       "['__class__',\n",
       " '__contains__',\n",
       " '__delattr__',\n",
       " '__delitem__',\n",
       " '__dir__',\n",
       " '__doc__',\n",
       " '__eq__',\n",
       " '__format__',\n",
       " '__ge__',\n",
       " '__getattribute__',\n",
       " '__getitem__',\n",
       " '__gt__',\n",
       " '__hash__',\n",
       " '__init__',\n",
       " '__init_subclass__',\n",
       " '__iter__',\n",
       " '__le__',\n",
       " '__len__',\n",
       " '__lt__',\n",
       " '__ne__',\n",
       " '__new__',\n",
       " '__reduce__',\n",
       " '__reduce_ex__',\n",
       " '__repr__',\n",
       " '__setattr__',\n",
       " '__setitem__',\n",
       " '__sizeof__',\n",
       " '__str__',\n",
       " '__subclasshook__',\n",
       " 'clear',\n",
       " 'copy',\n",
       " 'fromkeys',\n",
       " 'get',\n",
       " 'items',\n",
       " 'keys',\n",
       " 'pop',\n",
       " 'popitem',\n",
       " 'setdefault',\n",
       " 'update',\n",
       " 'values']"
      ]
     },
     "execution_count": 208,
     "metadata": {},
     "output_type": "execute_result"
    }
   ],
   "source": [
    "dir(i[0])"
   ]
  },
  {
   "cell_type": "code",
   "execution_count": 218,
   "metadata": {},
   "outputs": [
    {
     "data": {
      "text/plain": [
       "<img _width=\"677px\" class=\"rich_pages\" data-ratio=\"0.7479061976549414\" data-s=\"300,640\" data-src=\"https://mmbiz.qpic.cn/mmbiz_png/jL1hNwBkicA290LT2kBRcc6MqLBNz07NZO2S3F4TsfDvDb7GZsNtORcMzptic65PrdEBtkMpRcp69SbxXFrFpKKg/640?wx_fmt=png\" data-type=\"png\" data-w=\"1194\" style=\"\"/>"
      ]
     },
     "execution_count": 218,
     "metadata": {},
     "output_type": "execute_result"
    }
   ],
   "source": [
    "i[0]"
   ]
  },
  {
   "cell_type": "markdown",
   "metadata": {},
   "source": [
    "# 补充预处理－公众号文章迁移替换"
   ]
  },
  {
   "cell_type": "code",
   "execution_count": 243,
   "metadata": {
    "scrolled": true
   },
   "outputs": [],
   "source": [
    "url = 'https://mp.weixin.qq.com/s/hywpRGEm_OJepGkhPbqYOQ'\n",
    "driver.get(url)\n",
    "sleep(0.5)\n",
    "html =  driver.page_source\n",
    "soup = BeautifulSoup(html, 'lxml')\n",
    "r = soup.find_all(attrs={'id': 'js_access_msg'})"
   ]
  },
  {
   "cell_type": "code",
   "execution_count": 246,
   "metadata": {},
   "outputs": [
    {
     "data": {
      "text/plain": [
       "'http://mp.weixin.qq.com/s?__biz=MzI3NDE1NTQ2NQ==&mid=2247484445&amp;idx=1&amp;sn=ebf7bd5008d7749ed6eed1ab839df87d&source=41#wechat_redirect'"
      ]
     },
     "execution_count": 246,
     "metadata": {},
     "output_type": "execute_result"
    }
   ],
   "source": [
    "r[0]['href']"
   ]
  },
  {
   "cell_type": "code",
   "execution_count": 252,
   "metadata": {},
   "outputs": [],
   "source": [
    "olds = []\n",
    "news = []\n",
    "n = len(good_url['url'])\n",
    "for i in range(n):\n",
    "    url = good_url['url'][i]\n",
    "    old = url\n",
    "    new_url = ''\n",
    "    if wx_host in url:\n",
    "        driver.get(url)\n",
    "        try:\n",
    "            html =  driver.page_source\n",
    "        except Expection as e:\n",
    "            pass\n",
    "        soup = BeautifulSoup(html, 'lxml')\n",
    "        r = soup.find_all(attrs={'id': 'js_access_msg'})\n",
    "        if r != []:\n",
    "            good_url['url'][i] = r[0]['href']\n",
    "            olds.append(old)\n",
    "            news.append(new)"
   ]
  },
  {
   "cell_type": "code",
   "execution_count": null,
   "metadata": {},
   "outputs": [],
   "source": [
    "# 2条迁徙了！"
   ]
  },
  {
   "cell_type": "code",
   "execution_count": 257,
   "metadata": {},
   "outputs": [],
   "source": [
    "good_url.to_csv('good_url_5.1.csv')"
   ]
  },
  {
   "cell_type": "code",
   "execution_count": 263,
   "metadata": {},
   "outputs": [
    {
     "data": {
      "text/html": [
       "<div>\n",
       "<style scoped>\n",
       "    .dataframe tbody tr th:only-of-type {\n",
       "        vertical-align: middle;\n",
       "    }\n",
       "\n",
       "    .dataframe tbody tr th {\n",
       "        vertical-align: top;\n",
       "    }\n",
       "\n",
       "    .dataframe thead th {\n",
       "        text-align: right;\n",
       "    }\n",
       "</style>\n",
       "<table border=\"1\" class=\"dataframe\">\n",
       "  <thead>\n",
       "    <tr style=\"text-align: right;\">\n",
       "      <th></th>\n",
       "      <th>url</th>\n",
       "      <th>content</th>\n",
       "      <th>resource</th>\n",
       "      <th>imgs_url</th>\n",
       "    </tr>\n",
       "  </thead>\n",
       "  <tbody>\n",
       "    <tr>\n",
       "      <th>0</th>\n",
       "      <td>https://mp.weixin.qq.com/s/HTsNM1zxEAx3IqoF1uYnYA</td>\n",
       "      <td>\\n最新消息2月14日上午，省卫健委公布2月13日0－24时肇庆市新增1例新冠肺炎确诊病例。...</td>\n",
       "      <td>健康肇庆</td>\n",
       "      <td>[https://mmbiz.qpic.cn/mmbiz_jpg/z2KVp01hujFYO...</td>\n",
       "    </tr>\n",
       "    <tr>\n",
       "      <th>1</th>\n",
       "      <td>https://mp.weixin.qq.com/s/03w_HdZGypbtAG33jikquw</td>\n",
       "      <td>\\n今天上午，中山市人民政府新闻办公室组织召开市疫情防控工作第14场新闻发布会。市卫生健康局...</td>\n",
       "      <td>中山发布</td>\n",
       "      <td>[https://mmbiz.qpic.cn/mmbiz_jpg/jL1hNwBkicA21...</td>\n",
       "    </tr>\n",
       "    <tr>\n",
       "      <th>2</th>\n",
       "      <td>https://mp.weixin.qq.com/s/0xihh12dgBBxbfozR6fnNg</td>\n",
       "      <td>\\n今天上午，中山市人民政府新闻办公室组织召开市疫情防控工作第23场新闻发布会。市卫生健康局...</td>\n",
       "      <td>中山发布</td>\n",
       "      <td>[https://mmbiz.qpic.cn/mmbiz_png/jL1hNwBkicA29...</td>\n",
       "    </tr>\n",
       "    <tr>\n",
       "      <th>3</th>\n",
       "      <td>https://mp.weixin.qq.com/s/0zzx4G3oUPQmzNk6JTTUzQ</td>\n",
       "      <td>\\n导读2020年1月29日10时至13时30分，辽宁省沈阳市新增1例新型冠状病毒感染的肺炎...</td>\n",
       "      <td>辽沈晚报</td>\n",
       "      <td>[https://mmbiz.qpic.cn/mmbiz_jpg/CJdX9kBRCzBFZ...</td>\n",
       "    </tr>\n",
       "    <tr>\n",
       "      <th>4</th>\n",
       "      <td>https://mp.weixin.qq.com/s/15bQoiHzj8ABrnySvnEtQA</td>\n",
       "      <td>\\n沣西新城一患者被确定为新型冠状病毒感染的肺炎疑似病例。该患者于2020年1月20日在世纪...</td>\n",
       "      <td>咸阳发布</td>\n",
       "      <td>[https://mmbiz.qpic.cn/mmbiz_jpg/MpR6g4hrh5bCP...</td>\n",
       "    </tr>\n",
       "    <tr>\n",
       "      <th>...</th>\n",
       "      <td>...</td>\n",
       "      <td>...</td>\n",
       "      <td>...</td>\n",
       "      <td>...</td>\n",
       "    </tr>\n",
       "    <tr>\n",
       "      <th>150</th>\n",
       "      <td>https://mp.weixin.qq.com/s/yT_I4r6Sc2K3O7-3iAl-mA</td>\n",
       "      <td>\\n广大居民群众：2020年2月4日，临河区确诊1例新型冠状病毒感染的肺炎病例。患者吴某某，...</td>\n",
       "      <td>巴彦淖尔日报</td>\n",
       "      <td>[https://mmbiz.qpic.cn/mmbiz_jpg/NRe6lcV3rlkPg...</td>\n",
       "    </tr>\n",
       "    <tr>\n",
       "      <th>151</th>\n",
       "      <td>https://mp.weixin.qq.com/s/yyeefgne4StL6ZH9mRh80Q</td>\n",
       "      <td>\\n2020年2月8日，江西省卫生健康委发布疫情通报，2020年2月7日0-24时，江西省报...</td>\n",
       "      <td>江西日报</td>\n",
       "      <td>[https://mmbiz.qpic.cn/mmbiz_png/7QRTvkK2qC5or...</td>\n",
       "    </tr>\n",
       "    <tr>\n",
       "      <th>152</th>\n",
       "      <td>https://mp.weixin.qq.com/s/z1mVzAvyEoNiS2s0jsIgQw</td>\n",
       "      <td>\\n广东省新增确诊22例累计确诊1241例据广东省卫健委今日（13日）最新消息：截至2月12...</td>\n",
       "      <td>江门发布</td>\n",
       "      <td>[https://mmbiz.qpic.cn/mmbiz_jpg/ia7E3qMRicX83...</td>\n",
       "    </tr>\n",
       "    <tr>\n",
       "      <th>153</th>\n",
       "      <td>https://mp.weixin.qq.com/s/zOGzJVviegMaLRE8tuiLRw</td>\n",
       "      <td>\\n2020年1月31日，我市确认1例输入性新型冠状病毒感染的肺炎确诊病例。姜某，男，满族，...</td>\n",
       "      <td>辽沈晚报</td>\n",
       "      <td>[https://mmbiz.qpic.cn/mmbiz_jpg/X3BpEU6jNLrdx...</td>\n",
       "    </tr>\n",
       "    <tr>\n",
       "      <th>154</th>\n",
       "      <td>https://mp.weixin.qq.com/s/URJDtNlB8jOnsmdH17VjXA</td>\n",
       "      <td>\\n我省确诊的8例新型冠状病毒感染的肺炎患者与密切接触者医疗救治情况——青海省新型冠状病毒感...</td>\n",
       "      <td>青海日报</td>\n",
       "      <td>[https://mmbiz.qpic.cn/mmbiz_jpg/h6aWoq3mmtubl...</td>\n",
       "    </tr>\n",
       "  </tbody>\n",
       "</table>\n",
       "<p>155 rows × 4 columns</p>\n",
       "</div>"
      ],
      "text/plain": [
       "                                                   url  \\\n",
       "0    https://mp.weixin.qq.com/s/HTsNM1zxEAx3IqoF1uYnYA   \n",
       "1    https://mp.weixin.qq.com/s/03w_HdZGypbtAG33jikquw   \n",
       "2    https://mp.weixin.qq.com/s/0xihh12dgBBxbfozR6fnNg   \n",
       "3    https://mp.weixin.qq.com/s/0zzx4G3oUPQmzNk6JTTUzQ   \n",
       "4    https://mp.weixin.qq.com/s/15bQoiHzj8ABrnySvnEtQA   \n",
       "..                                                 ...   \n",
       "150  https://mp.weixin.qq.com/s/yT_I4r6Sc2K3O7-3iAl-mA   \n",
       "151  https://mp.weixin.qq.com/s/yyeefgne4StL6ZH9mRh80Q   \n",
       "152  https://mp.weixin.qq.com/s/z1mVzAvyEoNiS2s0jsIgQw   \n",
       "153  https://mp.weixin.qq.com/s/zOGzJVviegMaLRE8tuiLRw   \n",
       "154  https://mp.weixin.qq.com/s/URJDtNlB8jOnsmdH17VjXA   \n",
       "\n",
       "                                               content resource  \\\n",
       "0    \\n最新消息2月14日上午，省卫健委公布2月13日0－24时肇庆市新增1例新冠肺炎确诊病例。...     健康肇庆   \n",
       "1    \\n今天上午，中山市人民政府新闻办公室组织召开市疫情防控工作第14场新闻发布会。市卫生健康局...     中山发布   \n",
       "2    \\n今天上午，中山市人民政府新闻办公室组织召开市疫情防控工作第23场新闻发布会。市卫生健康局...     中山发布   \n",
       "3    \\n导读2020年1月29日10时至13时30分，辽宁省沈阳市新增1例新型冠状病毒感染的肺炎...     辽沈晚报   \n",
       "4    \\n沣西新城一患者被确定为新型冠状病毒感染的肺炎疑似病例。该患者于2020年1月20日在世纪...     咸阳发布   \n",
       "..                                                 ...      ...   \n",
       "150  \\n广大居民群众：2020年2月4日，临河区确诊1例新型冠状病毒感染的肺炎病例。患者吴某某，...   巴彦淖尔日报   \n",
       "151  \\n2020年2月8日，江西省卫生健康委发布疫情通报，2020年2月7日0-24时，江西省报...     江西日报   \n",
       "152  \\n广东省新增确诊22例累计确诊1241例据广东省卫健委今日（13日）最新消息：截至2月12...     江门发布   \n",
       "153  \\n2020年1月31日，我市确认1例输入性新型冠状病毒感染的肺炎确诊病例。姜某，男，满族，...     辽沈晚报   \n",
       "154  \\n我省确诊的8例新型冠状病毒感染的肺炎患者与密切接触者医疗救治情况——青海省新型冠状病毒感...     青海日报   \n",
       "\n",
       "                                              imgs_url  \n",
       "0    [https://mmbiz.qpic.cn/mmbiz_jpg/z2KVp01hujFYO...  \n",
       "1    [https://mmbiz.qpic.cn/mmbiz_jpg/jL1hNwBkicA21...  \n",
       "2    [https://mmbiz.qpic.cn/mmbiz_png/jL1hNwBkicA29...  \n",
       "3    [https://mmbiz.qpic.cn/mmbiz_jpg/CJdX9kBRCzBFZ...  \n",
       "4    [https://mmbiz.qpic.cn/mmbiz_jpg/MpR6g4hrh5bCP...  \n",
       "..                                                 ...  \n",
       "150  [https://mmbiz.qpic.cn/mmbiz_jpg/NRe6lcV3rlkPg...  \n",
       "151  [https://mmbiz.qpic.cn/mmbiz_png/7QRTvkK2qC5or...  \n",
       "152  [https://mmbiz.qpic.cn/mmbiz_jpg/ia7E3qMRicX83...  \n",
       "153  [https://mmbiz.qpic.cn/mmbiz_jpg/X3BpEU6jNLrdx...  \n",
       "154  [https://mmbiz.qpic.cn/mmbiz_jpg/h6aWoq3mmtubl...  \n",
       "\n",
       "[155 rows x 4 columns]"
      ]
     },
     "execution_count": 263,
     "metadata": {},
     "output_type": "execute_result"
    }
   ],
   "source": [
    "wx_extract"
   ]
  },
  {
   "cell_type": "code",
   "execution_count": 262,
   "metadata": {},
   "outputs": [
    {
     "data": {
      "text/plain": [
       "False"
      ]
     },
     "execution_count": 262,
     "metadata": {},
     "output_type": "execute_result"
    }
   ],
   "source": [
    "wx_extract['content'].isnull().any()"
   ]
  },
  {
   "cell_type": "markdown",
   "metadata": {},
   "source": [
    "# 微博模板"
   ]
  },
  {
   "cell_type": "code",
   "execution_count": 299,
   "metadata": {},
   "outputs": [],
   "source": [
    "# 探索-电脑端\n",
    "url = 'https://weibo.com/7129811001/ItKAzr93p?from=page_1002067129811001_profile&wvr=6&mod=weibotime&type=comment#_rnd1581676145115'\n",
    "# site = re.search(r'(https*://)(.+?)(/)',url).group(2)\n",
    "# 用引擎\n",
    "driver.get(url)\n",
    "# sleep(0.2)\n",
    "# try:\n",
    "html =  driver.page_source\n",
    "# except Expection as e:\n",
    "#     return '',''\n",
    "# soup = etree.HTML(html)\n",
    "# name = soup.xpath('//*[@id=\"js_name\"]')\n",
    "# content = soup.xpath('//*[@id=\"js_content\"]')\n",
    "# soup = BeautifulSoup(html, 'html.parser')\n",
    "# sn,sc = ['#Pl_Official_WeiboDetail__59 > div > div > div > div.WB_feed_detail.clearfix > div.WB_detail > div.WB_info > a.W_f14.W_fb.S_txt1','#js_content']\n",
    "# resource_name = soup.select(sn)\n",
    "# content_selector = soup.select(sc)[0]\n",
    "# content = content_selector.get_text()\n",
    "# resource_name = resource_name[0].get_text()\n",
    "soup = BeautifulSoup(html, 'lxml')\n",
    "# r = soup.find_all(attrs={'class': 'WB_info'})\n",
    "# resource_name = r[0].find_all(attrs={'class': 'W_f14 W_fb S_txt1'})[0].text\n",
    "# resource_name = re.sub(r'[^\\u4e00-\\u9fa5]','',resource_name)\n",
    "c = soup.find_all(attrs={'class': 'WB_text W_f14'})\n",
    "content = c[0].text\n",
    "sname = c[0].attrs['nick-name']\n",
    "# img_list = []\n",
    "# imgs = soup.select(sc)[0].find_all('img')\n",
    "# if len(img)>=1:\n",
    "#     for img in imgs:\n",
    "#         if img['data-type']!='gif':\n",
    "# #             print('add.')\n",
    "#             img_list.append(img['data-src']) \n",
    "    \n",
    "    \n",
    "# imglist = []\n",
    "# imgs = content_selector.find_all('img')\n",
    "# if len(imgs)>=1:\n",
    "#     for img in imgs:\n",
    "# #         if img['data-type'] !='gif':\n",
    "#         imglist.append(img['data-src'])"
   ]
  },
  {
   "cell_type": "code",
   "execution_count": 300,
   "metadata": {},
   "outputs": [
    {
     "data": {
      "text/plain": [
       "'\\n#联防联控 高陵在行动# 紧急扩散【通 告】西安市高陵区新型冠状病毒感染的肺炎疫情防控指挥部对一名新冠肺炎患者进行流行病学调查追踪时发现,该患者2020年1月16日11:00左右，从高陵区高交路口乘坐109路公交车前往龙发时代广场购物，期间在三楼童装区和四楼购买衣服，停留2个多小时；于13:00从五号公馆西门乘坐109路公交车到高交路口。1月23日18:00左右，该患者到高陵区北环城路好家浴池淋浴，约1小时。现提醒有以上共同出行史及生活轨迹的人员，请您第一时间主动与所在地街办卫生院或社区卫生服务中心联系，配合做好医学观察。若有发热、干咳、乏力等症状，请佩戴口罩及时到就近的定点发热门诊就诊。请在就诊时，不要乘坐公共交通工具，不要进入人群密集场所。咨询电话：029-86093017\\xa0\\xa0\\xa0\\xa0\\xa0\\xa0\\xa0\\xa0\\xa0\\xa0\\xa0西安市高陵区新型冠状病毒感染的\\xa0\\xa0\\xa0\\xa0\\xa0\\xa0\\xa0\\xa0\\xa0\\xa0\\xa0\\xa0\\xa0\\xa0\\xa0\\xa0\\xa0\\xa0\\xa0\\xa0\\xa0\\xa0\\xa0\\xa0肺炎疫情防控指挥部\\xa0\\xa0\\xa0\\xa0\\xa0\\xa0\\xa0\\xa0\\xa0\\xa0\\xa0\\xa0\\xa0\\xa0\\xa0\\xa0\\xa0\\xa0\\xa0\\xa0\\xa0\\xa0\\xa0\\xa0\\xa0\\xa0\\xa0\\xa0\\xa02020年2月10日                                            '"
      ]
     },
     "execution_count": 300,
     "metadata": {},
     "output_type": "execute_result"
    }
   ],
   "source": [
    "content"
   ]
  },
  {
   "cell_type": "code",
   "execution_count": 303,
   "metadata": {},
   "outputs": [],
   "source": [
    "# 探索-电脑端\n",
    "url = 'https://weibo.com/7129811001/IrH6peQ3d?from=page_1002067129811001_profile&wvr=6&mod=weibotime&type=comment#_rnd1581676880432'\n",
    "# site = re.search(r'(https*://)(.+?)(/)',url).group(2)\n",
    "# 用引擎\n",
    "driver.get(url)\n",
    "# sleep(0.2)\n",
    "# try:\n",
    "html =  driver.page_source\n",
    "# except Expection as e:\n",
    "#     return '',''\n",
    "# soup = etree.HTML(html)\n",
    "# name = soup.xpath('//*[@id=\"js_name\"]')\n",
    "# content = soup.xpath('//*[@id=\"js_content\"]')\n",
    "# soup = BeautifulSoup(html, 'html.parser')\n",
    "# sn,sc = ['#Pl_Official_WeiboDetail__59 > div > div > div > div.WB_feed_detail.clearfix > div.WB_detail > div.WB_info > a.W_f14.W_fb.S_txt1','#js_content']\n",
    "# resource_name = soup.select(sn)\n",
    "# content_selector = soup.select(sc)[0]\n",
    "# content = content_selector.get_text()\n",
    "# resource_name = resource_name[0].get_text()\n",
    "soup = BeautifulSoup(html, 'lxml')\n",
    "# r = soup.find_all(attrs={'class': 'WB_info'})\n",
    "# resource_name = r[0].find_all(attrs={'class': 'W_f14 W_fb S_txt1'})[0].text\n",
    "# resource_name = re.sub(r'[^\\u4e00-\\u9fa5]','',resource_name)\n",
    "c = soup.find_all(attrs={'class': 'WB_text'})\n",
    "content = c[0].text\n",
    "sname = c[0].attrs['nick-name']\n",
    "# img_list = []\n",
    "# imgs = soup.select(sc)[0].find_all('img')\n",
    "# if len(img)>=1:\n",
    "#     for img in imgs:\n",
    "#         if img['data-type']!='gif':\n",
    "# #             print('add.')\n",
    "#             img_list.append(img['data-src']) \n",
    "    \n",
    "    \n",
    "# imglist = []\n",
    "# imgs = content_selector.find_all('img')\n",
    "# if len(imgs)>=1:\n",
    "#     for img in imgs:\n",
    "# #         if img['data-type'] !='gif':\n",
    "#         imglist.append(img['data-src'])"
   ]
  },
  {
   "cell_type": "code",
   "execution_count": 305,
   "metadata": {},
   "outputs": [
    {
     "data": {
      "text/plain": [
       "'\\n#联防联控\\xa0\\xa0\\xa0高陵在行动# 【紧急扩散！关于急寻高陵区飘雪理发店顾客的通告】我区日前已确诊的首例新型冠状病毒感染的肺炎女性患者(即前期通告的1月24日109路公交车乘客)，经进一步核查，其曾于1月23日11时至13时，在高陵区鹿鸣西路飘雪理发店理发。请该时段在飘雪理发店出入的人员，第一时间拨打驻地街道卫生院电话或者区卫生健康部门电话（具体号码后附），会有医护人员接您就诊。同时请以上时段理发的顾客家人都暂时不要外出，自觉居家隔离，如有发热等不适症状，亦请立即与区卫生健康部门或驻地街道卫生院联系。联系电话：高陵区医院：86912158高陵区中医医院 ：86913419高陵区疾病预防控制中心：86913369高陵区鹿苑卫生院：15332359498高陵区榆楚卫生院：86090258高陵区崇皇中心卫生院：86040726高陵区姬家卫生院：86068897高陵区泾渭卫生院：86031301高陵区药惠卫生院：86011225高陵区通远卫生院：86083306高陵区湾子中心卫生院：15191842340高陵区张卜中心卫生院：86070623高陵区耿镇卫生院：86060030\\xa0\\xa0\\xa0\\xa0\\xa0\\xa0\\xa0\\xa0\\xa0\\xa0\\xa0\\xa0\\xa0\\xa0\\xa0\\xa0西安市高陵区新型冠状病毒感染的\\xa0\\xa0\\xa0\\xa0\\xa0\\xa0\\xa0\\xa0\\xa0\\xa0\\xa0\\xa0\\xa0\\xa0\\xa0\\xa0\\xa0\\xa0\\xa0\\xa0\\xa0\\xa0\\xa0\\xa0\\xa0\\xa0\\xa0\\xa0\\xa0肺炎疫情防控指挥部\\xa0\\xa0\\xa0\\xa0\\xa0\\xa0\\xa0\\xa0\\xa0\\xa0\\xa0\\xa0\\xa0\\xa0\\xa0\\xa0\\xa0\\xa0\\xa0\\xa0\\xa0\\xa0\\xa0二〇二〇年一月二十八日                                            '"
      ]
     },
     "execution_count": 305,
     "metadata": {},
     "output_type": "execute_result"
    }
   ],
   "source": [
    "content"
   ]
  },
  {
   "cell_type": "code",
   "execution_count": 304,
   "metadata": {},
   "outputs": [
    {
     "data": {
      "text/plain": [
       "'高陵融媒'"
      ]
     },
     "execution_count": 304,
     "metadata": {},
     "output_type": "execute_result"
    }
   ],
   "source": [
    "sname"
   ]
  },
  {
   "cell_type": "code",
   "execution_count": null,
   "metadata": {},
   "outputs": [],
   "source": [
    "# 探索-电脑端\n",
    "url = 'https://weibo.com/7129811001/IrH6peQ3d?from=page_1002067129811001_profile&wvr=6&mod=weibotime&type=comment#_rnd1581676880432'\n",
    "# site = re.search(r'(https*://)(.+?)(/)',url).group(2)\n",
    "# 用引擎\n",
    "driver.get(url)\n",
    "# sleep(0.2)\n",
    "# try:\n",
    "html =  driver.page_source\n",
    "# except Expection as e:\n",
    "#     return '',''\n",
    "# soup = etree.HTML(html)\n",
    "# name = soup.xpath('//*[@id=\"js_name\"]')\n",
    "# content = soup.xpath('//*[@id=\"js_content\"]')\n",
    "# soup = BeautifulSoup(html, 'html.parser')\n",
    "# sn,sc = ['#Pl_Official_WeiboDetail__59 > div > div > div > div.WB_feed_detail.clearfix > div.WB_detail > div.WB_info > a.W_f14.W_fb.S_txt1','#js_content']\n",
    "# resource_name = soup.select(sn)\n",
    "# content_selector = soup.select(sc)[0]\n",
    "# content = content_selector.get_text()\n",
    "# resource_name = resource_name[0].get_text()\n",
    "soup = BeautifulSoup(html, 'lxml')\n",
    "# r = soup.find_all(attrs={'class': 'WB_info'})\n",
    "# resource_name = r[0].find_all(attrs={'class': 'W_f14 W_fb S_txt1'})[0].text\n",
    "# resource_name = re.sub(r'[^\\u4e00-\\u9fa5]','',resource_name)\n",
    "c = soup.find_all(attrs={'class': 'WB_text'})\n",
    "content = c[0].text\n",
    "sname = c[0].attrs['nick-name']\n",
    "# img_list = []\n",
    "# imgs = soup.select(sc)[0].find_all('img')\n",
    "# if len(img)>=1:\n",
    "#     for img in imgs:\n",
    "#         if img['data-type']!='gif':\n",
    "# #             print('add.')\n",
    "#             img_list.append(img['data-src']) \n",
    "    \n",
    "    \n",
    "# imglist = []\n",
    "# imgs = content_selector.find_all('img')\n",
    "# if len(imgs)>=1:\n",
    "#     for img in imgs:\n",
    "# #         if img['data-type'] !='gif':\n",
    "#         imglist.append(img['data-src'])"
   ]
  },
  {
   "cell_type": "code",
   "execution_count": 273,
   "metadata": {
    "scrolled": true
   },
   "outputs": [
    {
     "data": {
      "text/plain": [
       "['__bool__',\n",
       " '__call__',\n",
       " '__class__',\n",
       " '__contains__',\n",
       " '__copy__',\n",
       " '__delattr__',\n",
       " '__delitem__',\n",
       " '__dict__',\n",
       " '__dir__',\n",
       " '__doc__',\n",
       " '__eq__',\n",
       " '__format__',\n",
       " '__ge__',\n",
       " '__getattr__',\n",
       " '__getattribute__',\n",
       " '__getitem__',\n",
       " '__gt__',\n",
       " '__hash__',\n",
       " '__init__',\n",
       " '__init_subclass__',\n",
       " '__iter__',\n",
       " '__le__',\n",
       " '__len__',\n",
       " '__lt__',\n",
       " '__module__',\n",
       " '__ne__',\n",
       " '__new__',\n",
       " '__reduce__',\n",
       " '__reduce_ex__',\n",
       " '__repr__',\n",
       " '__setattr__',\n",
       " '__setitem__',\n",
       " '__sizeof__',\n",
       " '__str__',\n",
       " '__subclasshook__',\n",
       " '__unicode__',\n",
       " '__weakref__',\n",
       " '_all_strings',\n",
       " '_find_all',\n",
       " '_find_one',\n",
       " '_is_xml',\n",
       " '_lastRecursiveChild',\n",
       " '_last_descendant',\n",
       " '_should_pretty_print',\n",
       " 'append',\n",
       " 'attrs',\n",
       " 'can_be_empty_element',\n",
       " 'cdata_list_attributes',\n",
       " 'childGenerator',\n",
       " 'children',\n",
       " 'clear',\n",
       " 'contents',\n",
       " 'decode',\n",
       " 'decode_contents',\n",
       " 'decompose',\n",
       " 'descendants',\n",
       " 'encode',\n",
       " 'encode_contents',\n",
       " 'extend',\n",
       " 'extract',\n",
       " 'fetchNextSiblings',\n",
       " 'fetchParents',\n",
       " 'fetchPrevious',\n",
       " 'fetchPreviousSiblings',\n",
       " 'find',\n",
       " 'findAll',\n",
       " 'findAllNext',\n",
       " 'findAllPrevious',\n",
       " 'findChild',\n",
       " 'findChildren',\n",
       " 'findNext',\n",
       " 'findNextSibling',\n",
       " 'findNextSiblings',\n",
       " 'findParent',\n",
       " 'findParents',\n",
       " 'findPrevious',\n",
       " 'findPreviousSibling',\n",
       " 'findPreviousSiblings',\n",
       " 'find_all',\n",
       " 'find_all_next',\n",
       " 'find_all_previous',\n",
       " 'find_next',\n",
       " 'find_next_sibling',\n",
       " 'find_next_siblings',\n",
       " 'find_parent',\n",
       " 'find_parents',\n",
       " 'find_previous',\n",
       " 'find_previous_sibling',\n",
       " 'find_previous_siblings',\n",
       " 'format_string',\n",
       " 'formatter_for_name',\n",
       " 'get',\n",
       " 'getText',\n",
       " 'get_attribute_list',\n",
       " 'get_text',\n",
       " 'has_attr',\n",
       " 'has_key',\n",
       " 'hidden',\n",
       " 'index',\n",
       " 'insert',\n",
       " 'insert_after',\n",
       " 'insert_before',\n",
       " 'isSelfClosing',\n",
       " 'is_empty_element',\n",
       " 'known_xml',\n",
       " 'name',\n",
       " 'namespace',\n",
       " 'next',\n",
       " 'nextGenerator',\n",
       " 'nextSibling',\n",
       " 'nextSiblingGenerator',\n",
       " 'next_element',\n",
       " 'next_elements',\n",
       " 'next_sibling',\n",
       " 'next_siblings',\n",
       " 'parent',\n",
       " 'parentGenerator',\n",
       " 'parents',\n",
       " 'parserClass',\n",
       " 'parser_class',\n",
       " 'prefix',\n",
       " 'preserve_whitespace_tags',\n",
       " 'prettify',\n",
       " 'previous',\n",
       " 'previousGenerator',\n",
       " 'previousSibling',\n",
       " 'previousSiblingGenerator',\n",
       " 'previous_element',\n",
       " 'previous_elements',\n",
       " 'previous_sibling',\n",
       " 'previous_siblings',\n",
       " 'recursiveChildGenerator',\n",
       " 'renderContents',\n",
       " 'replaceWith',\n",
       " 'replaceWithChildren',\n",
       " 'replace_with',\n",
       " 'replace_with_children',\n",
       " 'select',\n",
       " 'select_one',\n",
       " 'setup',\n",
       " 'smooth',\n",
       " 'string',\n",
       " 'strings',\n",
       " 'stripped_strings',\n",
       " 'text',\n",
       " 'unwrap',\n",
       " 'wrap']"
      ]
     },
     "execution_count": 273,
     "metadata": {},
     "output_type": "execute_result"
    }
   ],
   "source": [
    "dir(r[0])"
   ]
  },
  {
   "cell_type": "code",
   "execution_count": 317,
   "metadata": {},
   "outputs": [],
   "source": [
    "# 探索-手机端\n",
    "url = 'https://m.weibo.cn/status/4469831778965414?'\n",
    "# site = re.search(r'(https*://)(.+?)(/)',url).group(2)\n",
    "# 用引擎\n",
    "driver.get(url)\n",
    "# sleep(0.2)\n",
    "# try:\n",
    "html =  driver.page_source\n",
    "# except Expection as e:\n",
    "#     return '',''\n",
    "# soup = etree.HTML(html)\n",
    "# name = soup.xpath('//*[@id=\"js_name\"]')\n",
    "# content = soup.xpath('//*[@id=\"js_content\"]')\n",
    "soup = BeautifulSoup(html, 'html.parser')\n",
    "# sn,sc = ['#Pl_Official_WeiboDetail__59 > div > div > div > div.WB_feed_detail.clearfix > div.WB_detail > div.WB_info > a.W_f14.W_fb.S_txt1','#js_content']\n",
    "r = soup.select('#app > div.lite-page-wrap > div > div.main > div > div > header > div.m-box-dir.m-box-col.m-box-center > div > a > h3')\n",
    "ren = re.sub(r'[^\\u4e00-\\u9fa5]','',r[0].text)\n",
    "\n",
    "# content_selector = soup.select(sc)[0]\n",
    "# content = content_selector.get_text()\n",
    "# resource_name = resource_name[0].get_text()\n",
    "# soup = BeautifulSoup(html, 'lxml')\n",
    "# r = soup.find_all(attrs={'class': 'WB_info'})\n",
    "# resource_name = r[0].find_all(attrs={'class': 'W_f14 W_fb S_txt1'})[0].text\n",
    "# resource_name = re.sub(r'[^\\u4e00-\\u9fa5]','',resource_name)\n",
    "c = soup.find_all(attrs={'class': 'weibo-text'})\n",
    "content = c[0].text\n",
    "# content = c[0].text\n",
    "# sname = c[0].attrs['nick-name']\n",
    "# img_list = []\n",
    "# imgs = soup.select(sc)[0].find_all('img')\n",
    "# if len(img)>=1:\n",
    "#     for img in imgs:\n",
    "#         if img['data-type']!='gif':\n",
    "# #             print('add.')\n",
    "#             img_list.append(img['data-src']) \n",
    "    \n",
    "    \n",
    "# imglist = []\n",
    "# imgs = content_selector.find_all('img')\n",
    "# if len(imgs)>=1:\n",
    "#     for img in imgs:\n",
    "# #         if img['data-type'] !='gif':\n",
    "#         imglist.append(img['data-src'])"
   ]
  },
  {
   "cell_type": "code",
   "execution_count": 319,
   "metadata": {},
   "outputs": [
    {
     "data": {
      "text/plain": [
       "[<h3 class=\"m-text-cut\">\n",
       "               新浪陕西\n",
       "               <!-- --><i class=\"m-icon m-icon-vipl6\"></i></h3>]"
      ]
     },
     "execution_count": 319,
     "metadata": {},
     "output_type": "execute_result"
    }
   ],
   "source": [
    "r"
   ]
  },
  {
   "cell_type": "code",
   "execution_count": 318,
   "metadata": {},
   "outputs": [
    {
     "data": {
      "text/plain": [
       "'#陕西防控新型肺炎#  【西安小寨银泰城一KFC前台确诊新冠肺炎 活动轨迹公布，急寻相关接触者】雁塔区新型冠状病毒感染的肺炎疫情防控指挥部办公室对一名新型冠状病毒感染的肺炎患者进行流行病学调查追踪时发现，该患者于2020年1月12日乘坐K1131次（4号车厢108座位）从郑州到西安，到西安火车站后于16:00—17:00之间乘坐5路公交车到达西北水电家属院5-2-612。1月13日下午，前往东仪路职工活动中心，来回乘坐204/709路车,电子正街站到电子二路口站，其余时间未外出。1月14日22:00—23:00之间乘坐5路从子午路站至紫薇城市花园站。1月17—25日在KFC朱雀店（小寨银泰城店）前台打工，主要工作为备餐，工作时间为10:00—22:00，每天9:00—10:00乘坐214/709路（电子正街至子午路站），22:00—23:00之间乘坐5路车（子午路至紫薇花园站）返回家中。目前该乘客被确诊为新型冠状病毒感染的肺炎确诊患者。现提醒有以上共同出行史及活动轨迹的人员请注意：1、第一时间主动联系所在街道办（社区）做好报备工作，配合做好居家医学观察14天（自同乘之日算起）。2、居家医学观察期内，实行每日早晚两次体温测试记录，并上报所在街道办及辖区社区卫生服务机构。3、同乘（司机、乘客）及相同轨迹人员如有发热、咳嗽等症状，请及时到发热门诊就诊，就诊过程请全程佩戴口罩，不要乘坐公共交通工具，不要进入人群密集场所。咨询电话：029-89353633雁塔区新型冠状病毒感染的肺炎疫情防控指挥部办公室2020年2月8日 西安 西安'"
      ]
     },
     "execution_count": 318,
     "metadata": {},
     "output_type": "execute_result"
    }
   ],
   "source": [
    "content"
   ]
  },
  {
   "cell_type": "markdown",
   "metadata": {},
   "source": [
    "# weibo_template_sumary"
   ]
  },
  {
   "cell_type": "code",
   "execution_count": 302,
   "metadata": {},
   "outputs": [],
   "source": [
    "def get_resource_content_for_wb(url,driver,img_debug=False):\n",
    "    ''' \n",
    "        input:url,driver  \n",
    "        output:resourceName,text\n",
    "    '''\n",
    "    \n",
    "#     driver.get(url)\n",
    "#     sleep(0.5)\n",
    "#     try:\n",
    "#         html =  driver.page_source\n",
    "#     except Expection as e:\n",
    "#         return '',''\n",
    "    \n",
    "\n",
    "    sname = ''\n",
    "    content = ''\n",
    "    m = 'm.weibo.cn'\n",
    "    p = 'weibo.com'\n",
    "    \n",
    "    # moblie\n",
    "    if m in url:\n",
    "        # 探索-手机端\n",
    "#         url = 'https://m.weibo.cn/status/4469831778965414?'\n",
    "        driver.get(url)\n",
    "        html =  driver.page_source\n",
    "        soup = BeautifulSoup(html, 'html.parser')\n",
    "        r = soup.select('#app > div.lite-page-wrap > div > div.main > div > div > header > div.m-box-dir.m-box-col.m-box-center > div > a > h3')\n",
    "        sname = re.sub(r'[^\\u4e00-\\u9fa5]','',r[0].text)\n",
    "        c = soup.find_all(attrs={'class': 'weibo-text'})\n",
    "        content = c[0].text\n",
    "        \n",
    "    \n",
    "    \n",
    "    # pc\n",
    "    if p in url:\n",
    "       # 探索-电脑端\n",
    "        driver.get(url)\n",
    "        html =  driver.page_source\n",
    "        soup = BeautifulSoup(html, 'lxml')\n",
    "        c = soup.find_all(attrs={'class': 'WB_text'})\n",
    "        content = c[0].text\n",
    "        sname = c[0].attrs['nick-name']\n",
    "        \n",
    "    return sname,content"
   ]
  },
  {
   "cell_type": "code",
   "execution_count": 304,
   "metadata": {},
   "outputs": [],
   "source": [
    "U = 'https://weibo.com/7129811001/IrH6peQ3d?from=page_1002067129811001_profile&wvr=6&mod=weibotime&type=comment#_rnd1588324768065'\n",
    "\n",
    "R = get_resource_content_for_wb(U,driver)\n"
   ]
  },
  {
   "cell_type": "code",
   "execution_count": 305,
   "metadata": {},
   "outputs": [
    {
     "data": {
      "text/plain": [
       "('高陵融媒',\n",
       " '\\n#联防联控\\xa0\\xa0\\xa0高陵在行动# 【紧急扩散！关于急寻高陵区飘雪理发店顾客的通告】我区日前已确诊的首例新型冠状病毒感染的肺炎女性患者(即前期通告的1月24日109路公交车乘客)，经进一步核查，其曾于1月23日11时至13时，在高陵区鹿鸣西路飘雪理发店理发。请该时段在飘雪理发店出入的人员，第一时间拨打驻地街道卫生院电话或者区卫生健康部门电话（具体号码后附），会有医护人员接您就诊。同时请以上时段理发的顾客家人都暂时不要外出，自觉居家隔离，如有发热等不适症状，亦请立即与区卫生健康部门或驻地街道卫生院联系。联系电话：高陵区医院：86912158高陵区中医医院 ：86913419高陵区疾病预防控制中心：86913369高陵区鹿苑卫生院：15332359498高陵区榆楚卫生院：86090258高陵区崇皇中心卫生院：86040726高陵区姬家卫生院：86068897高陵区泾渭卫生院：86031301高陵区药惠卫生院：86011225高陵区通远卫生院：86083306高陵区湾子中心卫生院：15191842340高陵区张卜中心卫生院：86070623高陵区耿镇卫生院：86060030\\xa0\\xa0\\xa0\\xa0\\xa0\\xa0\\xa0\\xa0\\xa0\\xa0\\xa0\\xa0\\xa0\\xa0\\xa0\\xa0西安市高陵区新型冠状病毒感染的\\xa0\\xa0\\xa0\\xa0\\xa0\\xa0\\xa0\\xa0\\xa0\\xa0\\xa0\\xa0\\xa0\\xa0\\xa0\\xa0\\xa0\\xa0\\xa0\\xa0\\xa0\\xa0\\xa0\\xa0\\xa0\\xa0\\xa0\\xa0\\xa0肺炎疫情防控指挥部\\xa0\\xa0\\xa0\\xa0\\xa0\\xa0\\xa0\\xa0\\xa0\\xa0\\xa0\\xa0\\xa0\\xa0\\xa0\\xa0\\xa0\\xa0\\xa0\\xa0\\xa0\\xa0\\xa0二〇二〇年一月二十八日                                            ')"
      ]
     },
     "execution_count": 305,
     "metadata": {},
     "output_type": "execute_result"
    }
   ],
   "source": [
    "R"
   ]
  },
  {
   "cell_type": "code",
   "execution_count": 303,
   "metadata": {},
   "outputs": [
    {
     "ename": "NameError",
     "evalue": "name 'good_url' is not defined",
     "output_type": "error",
     "traceback": [
      "\u001b[0;31m---------------------------------------------------------------------------\u001b[0m",
      "\u001b[0;31mNameError\u001b[0m                                 Traceback (most recent call last)",
      "\u001b[0;32m<ipython-input-303-8fce87c1317b>\u001b[0m in \u001b[0;36m<module>\u001b[0;34m\u001b[0m\n\u001b[1;32m      8\u001b[0m \u001b[0;34m\u001b[0m\u001b[0m\n\u001b[1;32m      9\u001b[0m \u001b[0;34m\u001b[0m\u001b[0m\n\u001b[0;32m---> 10\u001b[0;31m \u001b[0;32mfor\u001b[0m \u001b[0murl\u001b[0m \u001b[0;32min\u001b[0m \u001b[0mgood_url\u001b[0m\u001b[0;34m[\u001b[0m\u001b[0;34m'url'\u001b[0m\u001b[0;34m]\u001b[0m\u001b[0;34m:\u001b[0m\u001b[0;34m\u001b[0m\u001b[0;34m\u001b[0m\u001b[0m\n\u001b[0m\u001b[1;32m     11\u001b[0m     \u001b[0;32mif\u001b[0m \u001b[0mwb_host\u001b[0m \u001b[0;32min\u001b[0m \u001b[0murl\u001b[0m\u001b[0;34m:\u001b[0m\u001b[0;34m\u001b[0m\u001b[0;34m\u001b[0m\u001b[0m\n\u001b[1;32m     12\u001b[0m         \u001b[0mwb_extract\u001b[0m\u001b[0;34m[\u001b[0m\u001b[0;34m'url'\u001b[0m\u001b[0;34m]\u001b[0m\u001b[0;34m.\u001b[0m\u001b[0mappend\u001b[0m\u001b[0;34m(\u001b[0m\u001b[0murl\u001b[0m\u001b[0;34m)\u001b[0m\u001b[0;34m\u001b[0m\u001b[0;34m\u001b[0m\u001b[0m\n",
      "\u001b[0;31mNameError\u001b[0m: name 'good_url' is not defined"
     ]
    }
   ],
   "source": [
    "wb_host = 'weibo'\n",
    "\n",
    "wb_extract = {\n",
    "    'url':[],\n",
    "    'content':[],\n",
    "    'resource':[]\n",
    "}\n",
    "\n",
    "\n",
    "for url in good_url['url']:\n",
    "    if wb_host in url:\n",
    "        wb_extract['url'].append(url)\n",
    "        r,c= get_resource_content_for_wb(url,driver)\n",
    "        wb_extract['resource'].append(r)\n",
    "        wb_extract['content'].append(c)\n",
    "#         wx_extract['imgs_url'].append(i)\n",
    "\n",
    "wb_extract = pd.DataFrame(wb_extract)\n",
    "# good_url\n",
    "wb_extract.to_csv('./wb_extract.csv')"
   ]
  },
  {
   "cell_type": "code",
   "execution_count": 341,
   "metadata": {},
   "outputs": [
    {
     "data": {
      "text/html": [
       "<div>\n",
       "<style scoped>\n",
       "    .dataframe tbody tr th:only-of-type {\n",
       "        vertical-align: middle;\n",
       "    }\n",
       "\n",
       "    .dataframe tbody tr th {\n",
       "        vertical-align: top;\n",
       "    }\n",
       "\n",
       "    .dataframe thead th {\n",
       "        text-align: right;\n",
       "    }\n",
       "</style>\n",
       "<table border=\"1\" class=\"dataframe\">\n",
       "  <thead>\n",
       "    <tr style=\"text-align: right;\">\n",
       "      <th></th>\n",
       "      <th>url</th>\n",
       "      <th>content</th>\n",
       "      <th>resource</th>\n",
       "    </tr>\n",
       "  </thead>\n",
       "  <tbody>\n",
       "    <tr>\n",
       "      <th>0</th>\n",
       "      <td>https://m.weibo.cn/2162541102/4469831778965414</td>\n",
       "      <td>#陕西防控新型肺炎#  【西安小寨银泰城一KFC前台确诊新冠肺炎 活动轨迹公布，急寻相关接触...</td>\n",
       "      <td>新浪陕西</td>\n",
       "    </tr>\n",
       "    <tr>\n",
       "      <th>1</th>\n",
       "      <td>https://m.weibo.cn/3757167087/4469821893163355</td>\n",
       "      <td>#联防联控 西安在行动# 【西安一快餐店前台确诊新冠肺炎 活动轨迹公布】雁塔区新型冠状病毒感...</td>\n",
       "      <td>西安发布</td>\n",
       "    </tr>\n",
       "    <tr>\n",
       "      <th>2</th>\n",
       "      <td>https://m.weibo.cn/3757167087/4471457452715962</td>\n",
       "      <td>#联防联控 西安在行动#【速看 | 西安市灞桥区紧急寻人】西安市灞桥区疾病控制中心对一名新冠...</td>\n",
       "      <td>西安发布</td>\n",
       "    </tr>\n",
       "    <tr>\n",
       "      <th>3</th>\n",
       "      <td>https://m.weibo.cn/3757167087/4471458430201395</td>\n",
       "      <td>#联防联控 西安在行动#【紧急扩散！雁塔区2名确诊病例曾在朱雀市场、曲江国际会展中心年货节购...</td>\n",
       "      <td>西安发布</td>\n",
       "    </tr>\n",
       "    <tr>\n",
       "      <th>4</th>\n",
       "      <td>https://m.weibo.cn/detail/4468614512282405</td>\n",
       "      <td>【提醒！运城市稷山县首例确诊患者活动路线公布】2月5日，稷山县新型冠状病毒感染的肺炎疫情防控...</td>\n",
       "      <td>山西青年报</td>\n",
       "    </tr>\n",
       "    <tr>\n",
       "      <th>5</th>\n",
       "      <td>https://weibo.com/7129811001/IrH6peQ3d?from=pa...</td>\n",
       "      <td>\\n#联防联控   高陵在行动# 【紧急扩散！关于急寻高陵区飘雪理发店顾客的通告】我区日前已...</td>\n",
       "      <td>高陵融媒</td>\n",
       "    </tr>\n",
       "    <tr>\n",
       "      <th>6</th>\n",
       "      <td>https://weibo.com/7129811001/IssWHlJzw?from=pa...</td>\n",
       "      <td>\\n                                            ...</td>\n",
       "      <td>高陵融媒</td>\n",
       "    </tr>\n",
       "    <tr>\n",
       "      <th>7</th>\n",
       "      <td>https://weibo.com/7129811001/ItKAzr93p?from=pa...</td>\n",
       "      <td>\\n#联防联控 高陵在行动# 紧急扩散【通 告】西安市高陵区新型冠状病毒感染的肺炎疫情防控指...</td>\n",
       "      <td>高陵融媒</td>\n",
       "    </tr>\n",
       "  </tbody>\n",
       "</table>\n",
       "</div>"
      ],
      "text/plain": [
       "                                                 url  \\\n",
       "0     https://m.weibo.cn/2162541102/4469831778965414   \n",
       "1     https://m.weibo.cn/3757167087/4469821893163355   \n",
       "2     https://m.weibo.cn/3757167087/4471457452715962   \n",
       "3     https://m.weibo.cn/3757167087/4471458430201395   \n",
       "4         https://m.weibo.cn/detail/4468614512282405   \n",
       "5  https://weibo.com/7129811001/IrH6peQ3d?from=pa...   \n",
       "6  https://weibo.com/7129811001/IssWHlJzw?from=pa...   \n",
       "7  https://weibo.com/7129811001/ItKAzr93p?from=pa...   \n",
       "\n",
       "                                             content resource  \n",
       "0  #陕西防控新型肺炎#  【西安小寨银泰城一KFC前台确诊新冠肺炎 活动轨迹公布，急寻相关接触...     新浪陕西  \n",
       "1  #联防联控 西安在行动# 【西安一快餐店前台确诊新冠肺炎 活动轨迹公布】雁塔区新型冠状病毒感...     西安发布  \n",
       "2  #联防联控 西安在行动#【速看 | 西安市灞桥区紧急寻人】西安市灞桥区疾病控制中心对一名新冠...     西安发布  \n",
       "3  #联防联控 西安在行动#【紧急扩散！雁塔区2名确诊病例曾在朱雀市场、曲江国际会展中心年货节购...     西安发布  \n",
       "4  【提醒！运城市稷山县首例确诊患者活动路线公布】2月5日，稷山县新型冠状病毒感染的肺炎疫情防控...    山西青年报  \n",
       "5  \\n#联防联控   高陵在行动# 【紧急扩散！关于急寻高陵区飘雪理发店顾客的通告】我区日前已...     高陵融媒  \n",
       "6  \\n                                            ...     高陵融媒  \n",
       "7  \\n#联防联控 高陵在行动# 紧急扩散【通 告】西安市高陵区新型冠状病毒感染的肺炎疫情防控指...     高陵融媒  "
      ]
     },
     "execution_count": 341,
     "metadata": {},
     "output_type": "execute_result"
    }
   ],
   "source": [
    "wb_extract"
   ]
  },
  {
   "cell_type": "markdown",
   "metadata": {},
   "source": [
    "# 南方都市报"
   ]
  },
  {
   "cell_type": "code",
   "execution_count": 358,
   "metadata": {},
   "outputs": [],
   "source": [
    "\n",
    "url = 'https://m.mp.oeeee.com/a/BAAFRD000020200203257514.html?layer=4&share=chat&isndappinstalled=12'\n",
    "driver.get(url)\n",
    "html =  driver.page_source\n",
    "soup = BeautifulSoup(html, 'lxml')\n",
    "s = soup.find_all(attrs={'class': 'name avatar_click'})\n",
    "sname = s[0].text\n",
    "c = soup.find_all(attrs={'id': 'docContent'})\n",
    "content = c[0].text"
   ]
  },
  {
   "cell_type": "code",
   "execution_count": 360,
   "metadata": {},
   "outputs": [
    {
     "data": {
      "text/plain": [
       "'南都讯\\xa0 2月3日上午，省卫生健康委公布江门市新增1例新型冠状病毒感染的肺炎确诊病例。这是江门市第4例确诊病例，也是开平首例确诊病例。江门市新型冠状病毒感染的肺炎防控指挥部周密部署，经过反复走访，对该例确诊病例密切接触人员进行了细致排查，现将有关情况公布如下。1月21日从武汉回到江门第4例确诊病例姓李，男性，19岁，家住开平市金鸡镇，之前在武汉市江岸区当厨工，1月20日，他与同事、老乡邓某一起驾车，从武汉出发，于1月21日凌晨2时42分到达开平。经过多方走访，了解到李某在开平活动情况：到达开平后，李某与邓某在祥龙中路澳味餐馆吃饭，随后到位于祥龙三区45号的邓某家中短暂休息。6时45分，李某出门搭乘摩托车（车牌JA9G42，车主司徒某）到宝庭园附近下车，于7时18分许坐客车（车牌J42955，司机梁某，当时车上已满座），8时4分到达开平市金鸡镇，9时40分许与母亲等亲人汇合，坐母亲摩托车到金鸡镇圩，李某与3名亲人一起登上台山那扶总站开往长沙车站的客车（车牌J42739，司机关某），10时40分许在长沙车站下车。下车后，李某等4人打滴滴快车（车牌J6M255，车主李某）到长兴路威尼斯沐足店附近下车，步行至步行街龙尾的翠园餐馆，与表伯、表母聚餐。饭后，李某四人步行至益华广场后面的日兴药店约上堂嫂，5人在益华广场的酷宝贝童装店买衣服、在梦幻成真游乐园坐碰碰车。13时45分许，5人离开。李某堂嫂回去上班，李某等四人步行至祥苑路海清甜甜品店吃糖水。15时8分，李某等四人打滴滴快车（车牌J322K1，车主邓某）至长沙车站附近，15时41分许在碧丽宫酒店附近搭乘面包车（车牌JBS418，车主敖某）回金鸡镇。16时28分到达金鸡镇圩后各自回家，李某回家休息。1月22日下午4时，李某到开平市金鸡镇游东田心村，参加同学关某的入伙喜宴，李某坐靠近水塘第二席，同席人员共10人（除李某母亲、妹妹外，还有村民7人）。当晚8时21分许，李某和同学李某至金鸡镇圩搭乘面包车（车牌J78A01，车主池某）到开平市区宝庭园附近下车，在周边闲逛后，于10时2分坐一辆小汽车（车牌J97N89，车主劳某）到花园酒店附近的I DO酒吧饮酒，1月23日凌晨4时25分独自步行到附近的美宜佳超市买烟，3分钟后返回酒吧，于凌晨5时2分与另外两名男子坐出租车（车牌J01B61），到祥和路鱼生粥宵夜档吃宵夜，5时44分许坐出租车（车牌J73K93）至长沙车站，5时59分由长沙车站搭乘往台山市那扶总站的客车（车牌J42739，司机关某）回金鸡镇。期间，李某因睡过头，7时28分许抵达台山市那扶总站后，再于7时31分搭乘同一辆客车回金鸡镇，并于8时15分许抵达金鸡镇下车。随后，李某父亲驾摩托车载李某回家。李某在家休息后，当晚6时到村路边小卖部玩乐至当晚9时30分许回家。1月24日上午李某在家，14时许，李某和其伯父、六叔到自家鱼塘捉鱼，随后回家吃团年饭。当晚9时45分，李某驾摩托车至金鸡镇圩三品三贡奶茶店买奶茶，随后载其堂弟回家。1月25日，李某上午、中午一直在家，14时许到村路边小卖部玩乐，期间回家吃晚饭后继续到小卖部玩乐至1月26日凌晨1时30分许回家。1月26日13时30分许，李某到村路边小卖部玩乐。16时26分，村干部联系李某做好登记和要求戴口罩。随后李某回家，一直居家隔离，每天登记体温和症状，无发热，但少咳。2月1日晚上，经江门市疾病预防控制中心复核结果为新型冠状病毒核酸检测阳性。2月2日，江门市中心医院报告该例新型冠状病毒感染的肺炎病例。目前，患者正在江门市中心医院接受隔离治疗，病情稳定。密切接触者共有10人经过走访、排查，确定患者的密切接触者共有10人。包括李某的父亲、母亲、妹妹、祖母四人；叔叔一家四口；其同事邓某、朋友李某。目前1人在江门市中心医院隔离治疗，其余9人已被送往定点隔离场所进行集中隔离，并进行医学和健康观察，有关信息将第一时间公布。李某的表伯夫妇和堂嫂等其他接触者已实施居家隔离。相关司机、乘客、餐饮、商场等接触人员排查已全面展开，部分人员已找到，严格落实居家隔离。村小组31个村民在村集中隔离有关方面已对李某所居住的村小组共31个村民在村集中隔离，并多次对李某住所及周边、明确前往过的处所等，开展卫生消毒处理。2月1日上午，疾控部门已对患者居住地村小组进行了终末消毒（传染源出院、转移、死亡而离开疫点或终止传染状态后，对疫点进行的一次彻底消毒），以消灭病人所播散的、遗留在居室和各种物体上的存活的病原体，使疫点无害化。按照医疗垃圾处理标准，对李某家庭生活垃圾进行专门处理。江门市新型冠状病毒感染的肺炎防控指挥部再次呼吁，同时段的接触人员，要第一时间报所在社区、村居登记，由各社区、村居向市卫健部门报告并持续跟踪登记人员的身体情况，或致电开平市防疫专线电话（0750-2215899）登记和咨询检测就诊方法，并请自行居家隔离观察14天，坚持每天2次（上下午各1次）测量体温。监测过程中，如发现自己或周边人有异常情况，请立即戴口罩到就近指定的发热门诊检测就诊，尽量不要乘坐公共交通工具。如自1月21日起14天后无发热、干咳、呼吸困难等症状的，根据有关防控工作指引，可以不用向社区、村居或有关部门登记。江门市新型冠状病毒感染的肺炎防控指挥部一定全力以赴严防病毒的传播、阻止疫情的蔓延，最大限度保护广大市民的生命健康，也恳请全市人民群众近期尽量不要出门，避免到人员密集场所，若必须外出一定要佩戴口罩，有异常一定要及时就医。请广大市民提高警惕，一旦发现疫情，请第一时间联系卫生健康部门跟进处理。\\xa0编辑：罗忠明\\n                    更多报道请看专题：滚动更新：防控新型冠状病毒肺炎，江门在行动！社会台山江门44对这篇文章有想法？跟我聊聊吧罗忠明1.2亿南方都市报记者\\n        南都新闻，未经授权不得转载。授权联系方式：banquan@nandu.cc，020-87006626。\\n    阅读 '"
      ]
     },
     "execution_count": 360,
     "metadata": {},
     "output_type": "execute_result"
    }
   ],
   "source": [
    "content"
   ]
  },
  {
   "cell_type": "markdown",
   "metadata": {},
   "source": [
    "# DIFFBOTAPI"
   ]
  },
  {
   "cell_type": "code",
   "execution_count": 328,
   "metadata": {
    "scrolled": true
   },
   "outputs": [
    {
     "name": "stdout",
     "output_type": "stream",
     "text": [
      "{\n",
      "  \"request\": {\n",
      "    \"pageUrl\": \"http://wjw.sz.gov.cn/yqxx/202002/t20200209_19006168.htm\",\n",
      "    \"api\": \"article\",\n",
      "    \"fields\": \"images\",\n",
      "    \"version\": 3\n",
      "  },\n",
      "  \"objects\": [\n",
      "    {\n",
      "      \"publisherCountry\": \"China\",\n",
      "      \"humanLanguage\": \"unknown\",\n",
      "      \"publisherRegion\": \"China\",\n",
      "      \"icon\": \"http://wjw.sz.gov.cn/images/20181027_title_logo.png\",\n",
      "      \"diffbotUri\": \"article|3|1520170749\",\n",
      "      \"siteName\": \"sz.gov.cn\",\n",
      "      \"pageUrl\": \"http://wjw.sz.gov.cn/yqxx/202002/t20200209_19006168.htm\",\n",
      "      \"text\": \"\",\n",
      "      \"type\": \"article\",\n",
      "      \"title\": \"2月9日深圳新增10个小区，新确诊病人逗留过！_疫情信息_深圳市卫生健康委员会\"\n",
      "    }\n",
      "  ]\n",
      "}\n"
     ]
    }
   ],
   "source": [
    "token = '63ce8433d23e1f4d8cbd8bf14390fcc7'\n",
    "url = 'http://wjw.sz.gov.cn/yqxx/202002/t20200209_19006168.htm'\n",
    "api = 'https://api.diffbot.com/v3/article'\n",
    "\n",
    "params = {\n",
    "    'token': token,\n",
    "    'url': url,\n",
    "    'fields': {'images','author'} \n",
    "}\n",
    "\n",
    "response = requests.get(api, params=params)\n",
    "print(json.dumps(response.json(), indent=2, ensure_ascii=False))\n",
    "result = response.json()"
   ]
  },
  {
   "cell_type": "code",
   "execution_count": 330,
   "metadata": {},
   "outputs": [
    {
     "data": {
      "text/plain": [
       "False"
      ]
     },
     "execution_count": 330,
     "metadata": {},
     "output_type": "execute_result"
    }
   ],
   "source": [
    "'error' not in result and 'objects' in result  and 'text' in result['objects'][0] and result['objects'][0]['text'] != \"\""
   ]
  },
  {
   "cell_type": "code",
   "execution_count": 256,
   "metadata": {},
   "outputs": [
    {
     "name": "stdout",
     "output_type": "stream",
     "text": [
      "https://baijiahao.baidu.com/s?id=1658403541897422656&wfr=spider&for=pc diffbot\n"
     ]
    }
   ],
   "source": [
    "# if 'error' not in result and 'text' in result['objects'][0] and result['objects'][0]['text'] != '':\n",
    "#     methods = 'diffbot'\n",
    "#     print(url,'diffbot')\n",
    "#     sname = result['objects'][0]['siteName']\n",
    "#     content = result['objects'][0]['text']\n",
    "#     if 'images' in result['objects'][0]:\n",
    "#         imgs = result['objects'][0]['images']\n",
    "#         for img in imgs:\n",
    "#             images.append(img['url'])"
   ]
  },
  {
   "cell_type": "markdown",
   "metadata": {},
   "source": [
    "# GNE"
   ]
  },
  {
   "cell_type": "code",
   "execution_count": 207,
   "metadata": {},
   "outputs": [],
   "source": [
    "def GETHTML(url,driver):\n",
    "    ''' \n",
    "        input:url,driver\n",
    "    \n",
    "        output:GETHTML\n",
    "    '''\n",
    "    html =  ''\n",
    "    # 用引擎\n",
    "    driver.get(url)\n",
    "    sleep(0.2)\n",
    "    try:\n",
    "        html =  driver.page_source\n",
    "    except Expection as e:\n",
    "        pass\n",
    "    return html"
   ]
  },
  {
   "cell_type": "code",
   "execution_count": 215,
   "metadata": {},
   "outputs": [],
   "source": [
    "driver = webdriver.Chrome()\n",
    "driver.get('https://weibo.com')\n",
    "\n",
    "driver.implicitly_wait(20) # 操作、获取元素时的隐式等待时间\n",
    "driver.set_page_load_timeout(20) # 页面加载超时等待时间"
   ]
  },
  {
   "cell_type": "code",
   "execution_count": 216,
   "metadata": {},
   "outputs": [
    {
     "name": "stdout",
     "output_type": "stream",
     "text": [
      "{'title': '疫情防控工作失职失责 内蒙古多伦县26人被问责', 'author': '', 'publish_time': '2020-02-13 14:42:05', 'content': '(抗击新冠肺炎)疫情防控工作失职失责 内蒙古多伦县26人被问责\\n中新网锡林郭勒2月13日电 (记者 张林虎)针对多伦县党委政府及其所辖相关乡镇(社区)部门单位公职人员履行新冠肺炎疫情防控工作失职失责问题，内蒙古自治区锡林郭勒盟纪委监委发出《通报》，26人被问责。\\n《通报》称，多伦县确诊患者张某某于1月28日出现全身酸痛、乏力、头晕等症，30日因病情加重到多伦县中医院就诊，次日在该院输液治疗，2月2日在该院进行复诊；2月3日至5日，张某某在多伦县大北沟镇南风雨诊所输液治疗；2月7日，张某某到多伦县医院急诊科就诊，随后转至传染病区进行隔离，2月9日被诊断为新冠肺炎疑似病例，2月12日被确诊为新冠肺炎病例。同日，其母亲、妻子被诊断为新冠肺炎疑似病例。\\n截至目前，经过对张某某流行病学调查，共排查张某某密切接触者49人，其中2人诊断为疑似病例(张某某母亲赵某某、妻子李某某)，45人在多伦县集中隔离医学观察，1人在正蓝旗隔离医学观察，1人在安徽省居家隔离医学观察。\\n经调查核实，多伦县党委、政府及其所辖相关乡镇(社区)、部门、单位公职人员在履行新冠肺炎疫情防控工作中存在失职失责问题，排查管控不到位，给全盟疫情防控工作造成巨大压力和不良影响。\\n锡林郭勒盟纪委监委决定对多伦县党委、政府在全盟范围内通报批评，责令多伦县委书记赵宏伟向盟委作出深刻检查，县委副书记、县长刘建军向盟行署作出深刻检查，县纪委书记、监委主任惠泽宇向盟纪委监委作出深刻检查；给予副县长柳立萍党内警告，对副县长卢彦军、杨建军进行批评教育；给予多伦诺尔镇党委书记田欣党内严重警告，免去高入伍多伦诺尔镇党委副书记、提名免去镇长职务，对多伦诺尔镇副镇长高秀琴诫勉谈话，对多伦诺尔镇纪委书记、监察办主任田学忠诫勉谈话，对多伦诺尔镇副镇长乌云飞诫勉谈话，给予多伦诺尔镇善因社区党支部书记孙建华党内警告，给予多伦县教育局局长黄树林党内警告，给予大北沟镇党委书记高艳青党内严重警告，给予大北沟镇镇长范晓蕾政务记大过，对大北沟镇纪委书记、监察办主任邱立广进行约谈，对大北沟镇副镇长李可鑫诫勉谈话，给予大北沟镇党政办主任、兴华社区党支部书记王凤楼党内警告，给予大北沟镇卫生院院长严卓岐党内警告，给予多伦县卫生和健康委员会主任和秉峰党内严重警告，对多伦县卫生和健康委员会副主任、疾控中心主任夏振华诫勉谈话，给予多伦县卫生和健康委员会副主任马德伦政务警告，给予多伦县中医院院长李广义党内严重警告、免去其中医院党支部书记院长职务，给予多伦县中医院副院长刘耀英政务警告，给予多伦县纪委监委派驻县委办纪检监察组(负责联系监督县卫生和健康委员会及所属部门)组长岳智明党内警告，责成多伦县卫生和健康委员会对县中医院师冠今等医务人员作出严肃处理。(完)', 'images': []}\n"
     ]
    }
   ],
   "source": [
    "from gne import GeneralNewsExtractor\n",
    "url = 'https://baijiahao.baidu.com/s?id=1658403541897422656&wfr=spider&for=pc'\n",
    "html= GETHTML(url,driver)\n",
    "extractor = GeneralNewsExtractor()\n",
    "result = extractor.extract(html)\n",
    "print(result)"
   ]
  },
  {
   "cell_type": "markdown",
   "metadata": {},
   "source": [
    "# 汇总："
   ]
  },
  {
   "cell_type": "markdown",
   "metadata": {},
   "source": [
    "# 正文抽取：分类模板-DIFFBOTAPI-GNE"
   ]
  },
  {
   "cell_type": "code",
   "execution_count": 331,
   "metadata": {},
   "outputs": [],
   "source": [
    "def get_content(url,driver):\n",
    "    ''' \n",
    "        input:url,driver  \n",
    "        output:sname,text,images\n",
    "    '''\n",
    "    start = time.time()\n",
    "    content = ''\n",
    "    sname = ''\n",
    "    methods=''\n",
    "    images= []\n",
    "    \n",
    "    templates = ['weibo.com','mp.weixin.qq.com','m.weibo.cn','m.mp.oeeee.com']\n",
    "    # 判断是否在模板库中\n",
    "    in_ = False\n",
    "    for t in templates:\n",
    "        if t in url:\n",
    "            in_ = True\n",
    "            break\n",
    "    if in_:\n",
    "        methods = 'template'\n",
    "        if 'mp.weixin.qq.com' in url:\n",
    "            # 微信公众号\n",
    "            print(url,'wx')\n",
    "            driver.get(url)\n",
    "            sleep(0.5)\n",
    "            html =  driver.page_source\n",
    "            soup = BeautifulSoup(html, 'html.parser')\n",
    "            sn,sc = ['#js_name','#js_content']\n",
    "            resource_name = soup.select(sn)\n",
    "            content_selector = soup.select(sc)[0]\n",
    "            content = content_selector.get_text()\n",
    "            resource_name = resource_name[0].get_text()\n",
    "            sname = re.sub(r'[^\\u4e00-\\u9fa5]','',resource_name)\n",
    "            imglist = []\n",
    "            imgs = content_selector.find_all('img')\n",
    "    \n",
    "            if len(imgs)>=1:\n",
    "                for img in imgs:\n",
    "                    img_dict = img.attrs\n",
    "                    if 'data-type' in img_dict:\n",
    "                        if 'gif' in img_dict['data-type']:\n",
    "                            continue\n",
    "                        else:\n",
    "                            if 'data-src' in img_dict:\n",
    "                                images.append(img_dict['data-src'])\n",
    "                            elif 'src' in img_dict:\n",
    "                                images.append(img_dict['src'])\n",
    "            \n",
    "        elif 'm.weibo.cn' in url:\n",
    "            # 微博手机端\n",
    "            print(url,'mwb')\n",
    "            driver.get(url)\n",
    "            html =  driver.page_source\n",
    "            soup = BeautifulSoup(html, 'html.parser')\n",
    "            r = soup.select('#app > div.lite-page-wrap > div > div.main > div > div > header > div.m-box-dir.m-box-col.m-box-center > div > a > h3')\n",
    "            sname = re.sub(r'[^\\u4e00-\\u9fa5]','',r[0].text)\n",
    "            c = soup.find_all(attrs={'class': 'weibo-text'})\n",
    "            content = c[0].text\n",
    "        \n",
    "        elif 'weibo.com' in url:\n",
    "            # 微博pc端 \n",
    "            print(url,'pcwb')\n",
    "            driver.get(url)\n",
    "            html =  driver.page_source\n",
    "            soup = BeautifulSoup(html, 'lxml')\n",
    "            c = soup.find_all(attrs={'class': 'WB_text'})\n",
    "            if c != []:\n",
    "                content = c[0].text\n",
    "                sname = c[0].attrs['nick-name']\n",
    "            \n",
    "        elif 'm.mp.oeeee.com' in url:\n",
    "            # 南方都市报\n",
    "            print(url,'nd')\n",
    "#             url = 'https://m.mp.oeeee.com/a/BAAFRD000020200203257514.html?layer=4&share=chat&isndappinstalled=12'\n",
    "            driver.get(url)\n",
    "            sleep(0.5)\n",
    "            html =  driver.page_source\n",
    "            soup = BeautifulSoup(html, 'lxml')\n",
    "            s = soup.find_all(attrs={'class': 'name avatar_click'})\n",
    "            if s != []:\n",
    "                sname = s[0].text\n",
    "            c = soup.find_all(attrs={'id': 'docContent'})\n",
    "            if c != []:\n",
    "                content = c[0].text\n",
    "        \n",
    "    else:\n",
    "        diffbot_invaild = False\n",
    "        methods=  'not_template'\n",
    "        # 不在模板库里，调用diffbot的api进行视觉分割+机器学习的正文抽取\n",
    "#         url = 'https://mp.weixin.qq.com/s/HTsNM1zxEAx3IqoF1uYnYA'\n",
    "        api = 'https://api.diffbot.com/v3/article'\n",
    "        params = {\n",
    "            'token': token,\n",
    "            'url': url,\n",
    "            'fields': 'images' \n",
    "        }\n",
    "        FlagD = True\n",
    "        try:\n",
    "            response = requests.get(api, params=params,timeout = 5)\n",
    "            result = response.json()\n",
    "#         print(json.dumps(response.json(), indent=2, ensure_ascii=False))\n",
    "        except Exception as e:\n",
    "            print (e)\n",
    "            FlagD = False\n",
    "            \n",
    "        if FlagD and 'error' not in result and 'objects' in result  and 'text' in result['objects'][0] and result['objects'][0]['text'] != \"\":\n",
    "            methods = 'diffbot'\n",
    "            print(url,'diffbot')\n",
    "            sname = result['objects'][0]['siteName']\n",
    "            content = result['objects'][0]['text']\n",
    "            if 'images' in result['objects'][0]:\n",
    "                imgs = result['objects'][0]['images']\n",
    "                for img in imgs:\n",
    "                    images.append(img['url'])\n",
    "        else:\n",
    "            methods = 'GNE'\n",
    "            print(url,'gne')\n",
    "            # 无法用api,iffbot失效，转用基于文本密度和符号密度的GNE工具包抽取正文\n",
    "#             print(response.text,url)\n",
    "            try:\n",
    "                driver.get(url)\n",
    "                sleep(0.5)\n",
    "                html =  driver.page_source\n",
    "                host = re.search(r'(https{0,1}://.+?)(/)',url).group(1)\n",
    "                result = extractor.extract(html,host=host)\n",
    "                content = result['content']\n",
    "                sname = result['title']\n",
    "                images = result['images']\n",
    "            except Exception as e:\n",
    "                print (url,e)\n",
    "    \n",
    "    end = time.time()\n",
    "    time_elsap = end-start\n",
    "    print(time_elsap)\n",
    "    \n",
    "    return sname,content,images,methods"
   ]
  },
  {
   "cell_type": "code",
   "execution_count": 276,
   "metadata": {},
   "outputs": [],
   "source": [
    "goodURL = pd.read_csv(\"./goodURL_5.1.csv\")\n",
    "del goodURL['Unnamed: 0']\n",
    "goodURL\n",
    "Content = goodURL[:]"
   ]
  },
  {
   "cell_type": "code",
   "execution_count": 277,
   "metadata": {},
   "outputs": [],
   "source": [
    "driver = webdriver.Chrome()\n",
    "driver.get('https://weibo.com')\n",
    "\n",
    "driver.implicitly_wait(20) # 操作、获取元素时的隐式等待时间\n",
    "driver.set_page_load_timeout(20) # 页面加载超时等待时间"
   ]
  },
  {
   "cell_type": "code",
   "execution_count": 278,
   "metadata": {},
   "outputs": [
    {
     "name": "stdout",
     "output_type": "stream",
     "text": [
      "https://mp.weixin.qq.com/s/HTsNM1zxEAx3IqoF1uYnYA wx\n",
      "1.425826072692871\n",
      "HTTPSConnectionPool(host='api.diffbot.com', port=443): Read timed out. (read timeout=5)\n",
      "http://hc.nc.gov.cn/ncwjw/gzdt/202002/b5cf89720dbf4968850892328059db4c.shtml gne\n",
      "7.060506105422974\n",
      "http://m.ha.bendibao.com/mip/1636.shtm diffbot\n",
      "0.8285250663757324\n",
      "0.8379461765289307\n",
      "http://o.xiancity.cn/system/2020/02/09/030713354.shtml diffbot\n",
      "1.2063653469085693\n",
      "http://sn.ifeng.com/a/20200209/8181674_0.shtml diffbot\n",
      "0.8806977272033691\n",
      "1.2778871059417725\n",
      "http://sxwjw.shaanxi.gov.cn/art/2020/2/3/art_9_67666.html diffbot\n",
      "0.8498775959014893\n",
      "http://sy.bendibao.com/news/202023/55857.shtm diffbot\n",
      "0.9754879474639893\n",
      "http://wjw.gz.gov.cn/ztzl/xxfyyqfk/yqtb/content/post_5648584.html diffbot\n",
      "0.8533070087432861\n",
      "http://wjw.gz.gov.cn/ztzl/xxfyyqfk/yqtb/content/post_5662091.html diffbot\n",
      "0.8612358570098877\n",
      "http://wjw.nmg.gov.cn/doc/2020/02/01/286091.shtml diffbot\n",
      "0.8581929206848145\n",
      "http://wjw.nmg.gov.cn/doc/2020/02/02/286191.shtml diffbot\n",
      "0.8584604263305664\n",
      "http://wjw.nmg.gov.cn/doc/2020/02/09/291226.shtml diffbot\n",
      "0.8815045356750488\n",
      "1.086566686630249\n",
      "HTTPSConnectionPool(host='api.diffbot.com', port=443): Read timed out. (read timeout=5)\n",
      "http://wjw.taiyuan.gov.cn/doc/2020/02/07/955867.shtml gne\n",
      "7.718271970748901\n",
      "HTTPSConnectionPool(host='api.diffbot.com', port=443): Read timed out. (read timeout=5)\n",
      "http://wjw.taiyuan.gov.cn/doc/2020/02/08/955916.shtml gne\n",
      "6.432882308959961\n",
      "http://wsjkw.sh.gov.cn/xwfb/20200208/f3882592b1144b558a13a5a9c4ac4a9f.html diffbot\n",
      "0.9981179237365723\n",
      "http://www.wuzhong.gov.cn/ztzl/ztlb/kjyq/202001/t20200130_1936123.html diffbot\n",
      "1.8055694103240967\n",
      "HTTPSConnectionPool(host='api.diffbot.com', port=443): Read timed out. (read timeout=5)\n",
      "http://wx.hznews.com/data/hzby_2019-nCoV/index_bl.php gne\n",
      "7.258215665817261\n",
      "HTTPSConnectionPool(host='api.diffbot.com', port=443): Read timed out. (read timeout=5)\n",
      "https://baijiahao.baidu.com/s?id=1657795127584927321&wfr=spider&for=pc gne\n",
      "7.270982503890991\n",
      "https://baijiahao.baidu.com/s?id=1658403541897422656&wfr=spider&for=pc diffbot\n",
      "0.822988748550415\n",
      "https://m.mp.oeeee.com/a/BAAFRD000020200203257514.html?layer=4&share=chat&isndappinstalled=12 nd\n",
      "1.583481788635254\n",
      "https://m.mp.oeeee.com/a/BAAFRD000020200212262511.html nd\n",
      "0.7231087684631348\n",
      "https://m.weibo.cn/2162541102/4469831778965414 mwb\n",
      "1.870492696762085\n",
      "https://m.weibo.cn/3757167087/4469821893163355 mwb\n",
      "0.4573216438293457\n",
      "https://m.weibo.cn/3757167087/4471457452715962 mwb\n",
      "0.39054036140441895\n",
      "https://m.weibo.cn/3757167087/4471458430201395 mwb\n",
      "0.6215343475341797\n",
      "https://m.weibo.cn/detail/4468614512282405 mwb\n",
      "0.3430037498474121\n",
      "https://mp.weixin.qq.com/s/03w_HdZGypbtAG33jikquw wx\n",
      "1.2622733116149902\n",
      "https://mp.weixin.qq.com/s/0xihh12dgBBxbfozR6fnNg wx\n",
      "1.0702815055847168\n",
      "https://mp.weixin.qq.com/s/0zzx4G3oUPQmzNk6JTTUzQ wx\n",
      "1.5600578784942627\n",
      "https://mp.weixin.qq.com/s/15bQoiHzj8ABrnySvnEtQA wx\n",
      "1.3791959285736084\n",
      "https://mp.weixin.qq.com/s/16ICfUi-Z2UMbbckkm0Xpw wx\n",
      "1.9491043090820312\n",
      "https://mp.weixin.qq.com/s/1gv6bdr4kVBq4nUYOMqJHg wx\n",
      "1.7305002212524414\n",
      "https://mp.weixin.qq.com/s/1l-RCQ_OfAMhOZZSmo2sDw wx\n",
      "1.1941940784454346\n",
      "https://mp.weixin.qq.com/s/21pwvOkvunpCGf0F8UGsKQ wx\n",
      "1.6600475311279297\n",
      "https://mp.weixin.qq.com/s/22zfhtcc5aqqWpt0anCVOQ wx\n",
      "1.18994140625\n",
      "https://mp.weixin.qq.com/s/23fOSN0X3dT99e22m34Few wx\n",
      "1.3997230529785156\n",
      "https://mp.weixin.qq.com/s/2COYPOACgINLbVZGLJ20pw wx\n",
      "2.4751882553100586\n",
      "https://mp.weixin.qq.com/s/2HRalKs46VxIkbLMBBGbCA wx\n",
      "1.0490837097167969\n",
      "https://mp.weixin.qq.com/s/2J9_3bKsljNLeVmFqY4rxQ wx\n",
      "1.107670545578003\n",
      "https://mp.weixin.qq.com/s/2ri05eGgAq5QHorGkz07sw wx\n",
      "3.316967487335205\n",
      "https://mp.weixin.qq.com/s/3_ru000m-BsCB3uAjbohAg wx\n",
      "1.025482177734375\n",
      "https://mp.weixin.qq.com/s/39apxV_xQLEu0MJ5ToE__g wx\n",
      "1.1276664733886719\n",
      "https://mp.weixin.qq.com/s/3GBAMxcOz-brFl_7_soiXg wx\n",
      "1.1089389324188232\n",
      "https://mp.weixin.qq.com/s/40KCQ1yZszq1b5OMNsRctg wx\n",
      "1.2573378086090088\n",
      "https://mp.weixin.qq.com/s/4JrjMJc7lPDCFHXY3LFSeQ wx\n",
      "1.0825207233428955\n",
      "https://mp.weixin.qq.com/s/4ofIalWCUGmYPNTPhiuiTg wx\n",
      "0.976670503616333\n",
      "https://mp.weixin.qq.com/s/53yB1QgwVerWm6riIRUV6A wx\n",
      "1.2095365524291992\n",
      "https://mp.weixin.qq.com/s/6j-iL-tu6pxdC8q8srFvdA wx\n",
      "1.0370373725891113\n",
      "https://mp.weixin.qq.com/s/6QQRQ2p1q9OSHHa85dJvpA wx\n",
      "1.2069897651672363\n",
      "https://mp.weixin.qq.com/s/704BrIOuTkxkpuXdek9sXw wx\n",
      "1.065213680267334\n",
      "https://mp.weixin.qq.com/s/7aB-WIhbkljfsaO6in6cIw wx\n",
      "1.1788015365600586\n",
      "https://mp.weixin.qq.com/s/7Odzuq-I-eqrHPwU9vEujQ wx\n",
      "1.2795164585113525\n",
      "https://mp.weixin.qq.com/s/8g-ggBSz1IbIZJZOFVxn0A wx\n",
      "1.445831060409546\n",
      "https://mp.weixin.qq.com/s/92XTQRGQ4PLLM0yz9dgZHA wx\n",
      "1.080425500869751\n",
      "https://mp.weixin.qq.com/s/99IBrH7yBT2bi_k6CXWk1A wx\n",
      "1.2582101821899414\n",
      "https://mp.weixin.qq.com/s/A1M0SLD-CJUegw0GAIlvEQ wx\n",
      "1.0374140739440918\n",
      "https://mp.weixin.qq.com/s/A4_l39IRa-METFqXyLUaKw wx\n",
      "1.4366199970245361\n",
      "https://mp.weixin.qq.com/s/AL2WfgREI1kR0MaUaP3yVA wx\n",
      "1.2910547256469727\n",
      "https://mp.weixin.qq.com/s/ANsFtyEh-ThyG6bYF23Mdw wx\n",
      "1.342649221420288\n",
      "https://mp.weixin.qq.com/s/AtGvqHMpPj--woNeOVHqJg wx\n",
      "1.6605944633483887\n",
      "https://mp.weixin.qq.com/s/aupP3RkGcLcJ3kcRTWIQSw wx\n",
      "1.271317958831787\n",
      "https://mp.weixin.qq.com/s/AuuQN67_9XRnT3v-YQ-6Kg wx\n",
      "0.978407621383667\n",
      "https://mp.weixin.qq.com/s/BbpXFJ_S_I2aHe8_BCqA3w wx\n",
      "1.1659669876098633\n",
      "https://mp.weixin.qq.com/s/BEf8kNgXeQhxvmMjylOmgQ wx\n",
      "1.0252668857574463\n",
      "https://mp.weixin.qq.com/s/bFw2DNyZr50uzgb7lYg2iw wx\n",
      "1.3070597648620605\n",
      "https://mp.weixin.qq.com/s/BowMr0k90t8psMKEWMmshQ wx\n",
      "1.080662727355957\n",
      "https://mp.weixin.qq.com/s/BQk8wSVC6V4SLRp5A0BSDQ wx\n",
      "1.1310458183288574\n",
      "https://mp.weixin.qq.com/s/brhYtrHRMv5rb_SYHoX3fA wx\n",
      "1.1605465412139893\n",
      "https://mp.weixin.qq.com/s/BTBVokDLUFUBisFVrreTIg wx\n",
      "1.2753574848175049\n",
      "https://mp.weixin.qq.com/s/byOBjYcuIE-ozN5-5j2NjQ wx\n",
      "1.1323535442352295\n",
      "https://mp.weixin.qq.com/s/BzRmrot5EL4FRlANN3jPog wx\n",
      "0.9514188766479492\n",
      "https://mp.weixin.qq.com/s/CCv9mOu-azDpGCngDnutWw wx\n",
      "1.1457180976867676\n",
      "https://mp.weixin.qq.com/s/D_O9alCJ9kQNF9HzQovfpw wx\n",
      "1.1996376514434814\n",
      "https://mp.weixin.qq.com/s/d0ChVGAE859JSuSQ4-yuwg wx\n",
      "0.9699892997741699\n",
      "https://mp.weixin.qq.com/s/d9aurz1S2epuqAQy3ZL_hw wx\n",
      "1.1329865455627441\n",
      "https://mp.weixin.qq.com/s/DclHoJStly7-_Uz_uk2LmA wx\n",
      "1.165921926498413\n",
      "https://mp.weixin.qq.com/s/DGeAhP_Mks4hJputXQK4_w wx\n",
      "1.1388969421386719\n",
      "https://mp.weixin.qq.com/s/DNtuRvc9NM88eBEX61IpAQ wx\n",
      "1.1071956157684326\n",
      "https://mp.weixin.qq.com/s/DWFNXijNXN0pQLZr2icG5A wx\n",
      "1.0970005989074707\n",
      "https://mp.weixin.qq.com/s/eECI1S8obg-Vx11xTjggoA wx\n",
      "1.0877554416656494\n",
      "https://mp.weixin.qq.com/s/EiKDu4VTdr4k8o2Uq5Fvcw wx\n",
      "1.2581493854522705\n",
      "https://mp.weixin.qq.com/s/en5XMsElXu6JIs0UHd_lmA wx\n",
      "1.1322526931762695\n",
      "https://mp.weixin.qq.com/s/F2RiiyzIE87ilYzlAZ0OOw wx\n",
      "1.0882799625396729\n",
      "https://mp.weixin.qq.com/s/FEf_w5LyNb8-xXKA_T3e5g wx\n",
      "1.1302540302276611\n",
      "https://mp.weixin.qq.com/s/feTfJCSFxyoufeEAks228w wx\n",
      "1.1097381114959717\n",
      "https://mp.weixin.qq.com/s/fTiCuXTR8iCNPE0zX3gOrw wx\n",
      "1.3348791599273682\n",
      "https://mp.weixin.qq.com/s/ftLPQ6l4nOIX7aRnrRSLCA wx\n",
      "1.0123796463012695\n",
      "https://mp.weixin.qq.com/s/FYb03z5wslK1Wzzp1FiA5A wx\n",
      "1.6552789211273193\n",
      "https://mp.weixin.qq.com/s/g5khDHYw8DsVIIlz9KlByg wx\n",
      "1.636627435684204\n",
      "https://mp.weixin.qq.com/s/g89sB9SZS0FSyD1B-bnwag wx\n",
      "1.2109155654907227\n",
      "https://mp.weixin.qq.com/s/GA_mH8SwviTGaxiSdeHO2A wx\n",
      "12.249815225601196\n",
      "https://mp.weixin.qq.com/s/gd2P77m_DseuaCvzmHLwbg wx\n",
      "1.2885375022888184\n",
      "https://mp.weixin.qq.com/s/GGeiv9zLDVP9t5CXddQAvw wx\n",
      "1.4291868209838867\n",
      "https://mp.weixin.qq.com/s/gJ2GE_ihEoPaeQmY143dhA wx\n",
      "2.0725789070129395\n",
      "https://mp.weixin.qq.com/s/gOIBYl1Hm1R7cQTlkVjyyw wx\n",
      "0.9587826728820801\n",
      "https://mp.weixin.qq.com/s/gX82KJTHdwAbVgK6hADT9A wx\n",
      "1.04677414894104\n",
      "https://mp.weixin.qq.com/s/Hdz-Q-3Eig8VGsZJwzTNow wx\n",
      "0.9943339824676514\n",
      "http://mp.weixin.qq.com/s?__biz=MzI3NDE1NTQ2NQ==&mid=2247484445&amp;idx=1&amp;sn=ebf7bd5008d7749ed6eed1ab839df87d&source=41#wechat_redirect wx\n",
      "1.4056739807128906\n",
      "https://mp.weixin.qq.com/s/i5Qja8vQ7wmL65JhuRxS-g wx\n",
      "1.0089430809020996\n",
      "https://mp.weixin.qq.com/s/I8W5RhgaVZE5pV9gf010Ew wx\n",
      "1.0225448608398438\n",
      "https://mp.weixin.qq.com/s/IGaJ4Sz0Uc7ncxnG1lrtGg wx\n",
      "0.9621627330780029\n",
      "https://mp.weixin.qq.com/s/Ilcw8gqTBS1mj2sL9y8BBw wx\n",
      "1.102574348449707\n",
      "https://mp.weixin.qq.com/s/i-OHNjnnHgRfODKlpUSYFg wx\n"
     ]
    },
    {
     "name": "stdout",
     "output_type": "stream",
     "text": [
      "1.042076826095581\n",
      "https://mp.weixin.qq.com/s/iWJ6omQpWP3YwGkjPANq-Q wx\n",
      "0.9180290699005127\n",
      "https://mp.weixin.qq.com/s/J8zMLEAWqq7PLh-y0yO7Tg wx\n",
      "1.093717336654663\n",
      "https://mp.weixin.qq.com/s/JaEaBvbW6dpw3M2LVmA-jw wx\n",
      "1.072521448135376\n",
      "https://mp.weixin.qq.com/s/JEGFaPaXbJCyg4L2Y5f2cA wx\n",
      "1.1173415184020996\n",
      "https://mp.weixin.qq.com/s/jjFdgGdM_qILo5mLaZhylg wx\n",
      "0.967862606048584\n",
      "https://mp.weixin.qq.com/s/k6QZ28KFo3_9-Jvp2td2HA wx\n",
      "1.0473802089691162\n",
      "https://mp.weixin.qq.com/s/KK1b85TfZg3OKob_s8ju0Q wx\n",
      "1.018059492111206\n",
      "https://mp.weixin.qq.com/s/L6UmSE1h35jGNX9nII7W1w wx\n",
      "1.0582258701324463\n",
      "https://mp.weixin.qq.com/s/l7-4X1mqf191u1sKbwpwtg wx\n",
      "1.3376538753509521\n",
      "https://mp.weixin.qq.com/s/LBJ9bWwWH3dIDgHbX3JrMA wx\n",
      "1.2959766387939453\n",
      "https://mp.weixin.qq.com/s/ljO-jnuFaLY7dlay04vnQQ wx\n",
      "2.0006632804870605\n",
      "https://mp.weixin.qq.com/s/L-kxyVWz2388nVMrHpNwSQ wx\n",
      "0.9827713966369629\n",
      "https://mp.weixin.qq.com/s/LLeJqI0C3wg_XMJxptr6hA wx\n",
      "1.0777738094329834\n",
      "https://mp.weixin.qq.com/s/MaIhftMbVTrBaslpSPNkuA wx\n",
      "1.0463457107543945\n",
      "https://mp.weixin.qq.com/s/MJayWWtfMetX7uypjW34jA wx\n",
      "1.1559157371520996\n",
      "https://mp.weixin.qq.com/s/MPkzfHNESrN7F8ZKCYob7Q wx\n",
      "0.9798891544342041\n",
      "https://mp.weixin.qq.com/s/MpL6gwVXTxFjfOsBr2SqQg wx\n",
      "1.0919053554534912\n",
      "https://mp.weixin.qq.com/s/nqSkq_C1SWyXwSoWH8Tl_Q wx\n",
      "1.0273287296295166\n",
      "https://mp.weixin.qq.com/s/o8htUb-Eq0jI-18koz4JSA wx\n",
      "1.1210606098175049\n",
      "https://mp.weixin.qq.com/s/oAp7a7J7b8ueznBiy6UfHw wx\n",
      "1.0553317070007324\n",
      "https://mp.weixin.qq.com/s/O-d8n6f_AygAgNedh-sOoQ wx\n",
      "0.9683990478515625\n",
      "https://mp.weixin.qq.com/s/oSfryyVX7e2CaDTyVRBR1A wx\n",
      "1.008702278137207\n",
      "https://mp.weixin.qq.com/s/p8FwAyaWqBQPQ9ExZNRunA wx\n",
      "0.93831467628479\n",
      "https://mp.weixin.qq.com/s/pAaXlR0Rc7IjTkrJ_nmOHw wx\n",
      "1.0471768379211426\n",
      "https://mp.weixin.qq.com/s/pathagzfYVfG7rgn4fsehw wx\n",
      "0.9485330581665039\n",
      "https://mp.weixin.qq.com/s/pCknNhnIW75e0cHBe54iyg wx\n",
      "0.9476485252380371\n",
      "https://mp.weixin.qq.com/s/PxlQtWded0LAEHEEjPPQjQ wx\n",
      "1.1791820526123047\n",
      "https://mp.weixin.qq.com/s/qMb78wvftwMT0Fx-fbgkVA wx\n",
      "1.2478513717651367\n",
      "https://mp.weixin.qq.com/s/qnN8WIp6bdivLrcxn3kw8A wx\n",
      "0.9523446559906006\n",
      "https://mp.weixin.qq.com/s/qQZ6QvNts9rpSWcPgDXZUA wx\n",
      "1.0291273593902588\n",
      "https://mp.weixin.qq.com/s/qVcPv1s491KY6BfXb7BGDg wx\n",
      "1.0107920169830322\n",
      "https://mp.weixin.qq.com/s/QVO-ku5SAFS5lGfrJ3tqvw wx\n",
      "1.2396483421325684\n",
      "https://mp.weixin.qq.com/s/Rbni3MycgbIuiz5YgD2DCg wx\n",
      "1.028367280960083\n",
      "https://mp.weixin.qq.com/s/rfJiJIU49y8MmMJOXttxBw wx\n",
      "1.027604341506958\n",
      "https://mp.weixin.qq.com/s/S5JyC2E2Vn5XL0jcKkmBPg wx\n",
      "0.9726264476776123\n",
      "https://mp.weixin.qq.com/s/sHZtvU0GD-sUbKT8lexYZA wx\n",
      "1.3306386470794678\n",
      "https://mp.weixin.qq.com/s/SRElAd3cHRF5Z1yIJOeMYQ wx\n",
      "1.000417947769165\n",
      "https://mp.weixin.qq.com/s/T7W4z1YpykNltgM4Els3cw wx\n",
      "1.0063507556915283\n",
      "https://mp.weixin.qq.com/s/tHvCXVKoe13lU2_EP935QQ wx\n",
      "1.1676077842712402\n",
      "https://mp.weixin.qq.com/s/TndLruxymZlVFM7oT-tbmQ wx\n",
      "1.0010285377502441\n",
      "https://mp.weixin.qq.com/s/tnX6pWa1ag-aA4zvjQh2Qg wx\n",
      "1.549987554550171\n",
      "https://mp.weixin.qq.com/s/TTppjI31ZGHP4nDiAueQZw wx\n",
      "0.934502124786377\n",
      "https://mp.weixin.qq.com/s/U019DW4SJCxW7RTcd9I1Iw wx\n",
      "1.099524974822998\n",
      "https://mp.weixin.qq.com/s/uaNlrAc-0-i_rMvYaAYVJA wx\n",
      "1.0169823169708252\n",
      "https://mp.weixin.qq.com/s/UD8VFba4oRx4LLJm3cX7zw wx\n",
      "1.1365606784820557\n",
      "https://mp.weixin.qq.com/s/uiBhG5cbibkaO3D2wSMrzA wx\n",
      "1.0389683246612549\n",
      "https://mp.weixin.qq.com/s/UK7n7JRT9q4Qmmq0nVa7Yw wx\n",
      "1.1121416091918945\n",
      "https://mp.weixin.qq.com/s/URJDtNlB8jOnsmdH17VjXA wx\n",
      "1.1794016361236572\n",
      "https://mp.weixin.qq.com/s/v8_qO9NA0OZlohlo0sbCZg wx\n",
      "0.9588444232940674\n",
      "https://mp.weixin.qq.com/s/VCPYIcswFYrXKMT_iAo4sQ wx\n",
      "1.1774697303771973\n",
      "https://mp.weixin.qq.com/s/VHyCUTBLdswJUs4v94gCGg wx\n",
      "2.5131337642669678\n",
      "https://mp.weixin.qq.com/s/VlmSYauI8yaDuegXGATg1A wx\n",
      "0.9513254165649414\n",
      "https://mp.weixin.qq.com/s/VlptYBqxOilNbokYmgAq3w wx\n",
      "2.064779281616211\n",
      "https://mp.weixin.qq.com/s/vyMK9XAfBREa6c7KkQZE_g wx\n",
      "1.0447304248809814\n",
      "https://mp.weixin.qq.com/s/W9Iqq_rF4D9qHfI91nC0MQ wx\n",
      "1.4093148708343506\n",
      "https://mp.weixin.qq.com/s/WBkYAkadMMy8qkjvZeTbyQ wx\n",
      "1.219681978225708\n",
      "https://mp.weixin.qq.com/s/wpsNrPfHKhGECppcmODvAA wx\n",
      "0.9332256317138672\n",
      "https://mp.weixin.qq.com/s/X4CKfM-zAvmJTCi_4I-bVg wx\n",
      "1.1422619819641113\n",
      "https://mp.weixin.qq.com/s/XLC_oAGCkfZ-9QZiN7dyFw wx\n",
      "1.179368019104004\n",
      "https://mp.weixin.qq.com/s/xPkUySDb9RVh1fWlcQLwGQ wx\n",
      "0.963390588760376\n",
      "https://mp.weixin.qq.com/s/xSgycy4VCvOdSGZl_lWrrw wx\n",
      "0.915473222732544\n",
      "https://mp.weixin.qq.com/s/xYVXdohY_4acdQTniOGWUA wx\n",
      "2.0812647342681885\n",
      "https://mp.weixin.qq.com/s/Y43irqUbONn5cePk8zDMVA wx\n",
      "0.953418493270874\n",
      "https://mp.weixin.qq.com/s/y9lpITTKuZivPJB9l55ORg wx\n",
      "1.0482399463653564\n",
      "https://mp.weixin.qq.com/s/yB_kxKjAEYVn9MR8PyRCZg wx\n",
      "1.0074853897094727\n",
      "http://mp.weixin.qq.com/s?__biz=MzI3NDE1NTQ2NQ==&mid=2247484446&amp;idx=1&amp;sn=5f25018ebb33ed447c1f15635b3c06da&source=41#wechat_redirect wx\n",
      "1.0852582454681396\n",
      "https://mp.weixin.qq.com/s/YfzMmv1vUZyiphWUgzOLlA wx\n",
      "1.026777744293213\n",
      "https://mp.weixin.qq.com/s/YgLkGhE1VlX6oQWl9nqyMg wx\n",
      "1.0706818103790283\n",
      "https://mp.weixin.qq.com/s/YLSR_0NXJ5LUg6LWGW_aDg wx\n",
      "0.983612060546875\n",
      "https://mp.weixin.qq.com/s/yq4IcgXi4vxQxO3UBYOZ-A wx\n",
      "0.9814846515655518\n",
      "https://mp.weixin.qq.com/s/yT_I4r6Sc2K3O7-3iAl-mA wx\n",
      "1.1095585823059082\n",
      "https://mp.weixin.qq.com/s/yyeefgne4StL6ZH9mRh80Q wx\n",
      "1.1552987098693848\n",
      "https://mp.weixin.qq.com/s/z1mVzAvyEoNiS2s0jsIgQw wx\n",
      "1.306084394454956\n",
      "https://mp.weixin.qq.com/s/zOGzJVviegMaLRE8tuiLRw wx\n",
      "0.9809708595275879\n",
      "https://weibo.com/7129811001/IrH6peQ3d?from=page_1002067129811001_profile&wvr=6&mod=weibotime&type=comment#_rnd1581676880432 pcwb\n",
      "3.341200590133667\n",
      "https://weibo.com/7129811001/IssWHlJzw?from=page_1002067129811001_profile&wvr=6&mod=weibotime&type=comment pcwb\n",
      "0.2820136547088623\n",
      "https://weibo.com/7129811001/ItKAzr93p?from=page_1002067129811001_profile&wvr=6&mod=weibotime&type=comment#_rnd1581676145115 pcwb\n",
      "0.2288801670074463\n",
      "HTTPSConnectionPool(host='api.diffbot.com', port=443): Read timed out. (read timeout=5)\n",
      "https://www.tibet3.com/news/zangqu/qh/2020-02-04/149341.html gne\n",
      "11.465995073318481\n",
      "HTTPSConnectionPool(host='api.diffbot.com', port=443): Read timed out. (read timeout=5)\n",
      "http://wjw.shanxi.gov.cn/wjywl02/24757.hrh gne\n",
      "http://wjw.shanxi.gov.cn/wjywl02/24757.hrh Message: timeout\n",
      "  (Session info: chrome=78.0.3904.97)\n",
      "\n",
      "25.650174617767334\n",
      "HTTPSConnectionPool(host='api.diffbot.com', port=443): Read timed out. (read timeout=5)\n",
      "http://wjw.shanxi.gov.cn/wjywl02/24774.hrh gne\n",
      "http://wjw.shanxi.gov.cn/wjywl02/24774.hrh Message: timeout\n",
      "  (Session info: chrome=78.0.3904.97)\n",
      "\n",
      "25.61812472343445\n",
      "HTTPSConnectionPool(host='api.diffbot.com', port=443): Read timed out. (read timeout=5)\n",
      "https://www.sg.gov.cn/xw/ztjj/yqfkyz/zxyq/content/post_1754923.html gne\n",
      "11.702668190002441\n",
      "HTTPSConnectionPool(host='api.diffbot.com', port=443): Read timed out. (read timeout=5)\n",
      "https://www.sg.gov.cn/xw/ztjj/yqfkyz/zxyq/content/post_1756096.html gne\n",
      "6.9948813915252686\n",
      "HTTPSConnectionPool(host='api.diffbot.com', port=443): Read timed out. (read timeout=5)\n",
      "https://www.sg.gov.cn/xw/ztjj/yqfkyz/zxyq/content/post_1760064.html gne\n",
      "6.930109262466431\n"
     ]
    },
    {
     "name": "stderr",
     "output_type": "stream",
     "text": [
      "/home/louis/anaconda3/lib/python3.7/site-packages/ipykernel_launcher.py:13: SettingWithCopyWarning: \n",
      "A value is trying to be set on a copy of a slice from a DataFrame.\n",
      "Try using .loc[row_indexer,col_indexer] = value instead\n",
      "\n",
      "See the caveats in the documentation: https://pandas.pydata.org/pandas-docs/stable/user_guide/indexing.html#returning-a-view-versus-a-copy\n",
      "  del sys.path[0]\n",
      "/home/louis/anaconda3/lib/python3.7/site-packages/ipykernel_launcher.py:14: SettingWithCopyWarning: \n",
      "A value is trying to be set on a copy of a slice from a DataFrame.\n",
      "Try using .loc[row_indexer,col_indexer] = value instead\n",
      "\n",
      "See the caveats in the documentation: https://pandas.pydata.org/pandas-docs/stable/user_guide/indexing.html#returning-a-view-versus-a-copy\n",
      "  \n",
      "/home/louis/anaconda3/lib/python3.7/site-packages/ipykernel_launcher.py:15: SettingWithCopyWarning: \n",
      "A value is trying to be set on a copy of a slice from a DataFrame.\n",
      "Try using .loc[row_indexer,col_indexer] = value instead\n",
      "\n",
      "See the caveats in the documentation: https://pandas.pydata.org/pandas-docs/stable/user_guide/indexing.html#returning-a-view-versus-a-copy\n",
      "  from ipykernel import kernelapp as app\n",
      "/home/louis/anaconda3/lib/python3.7/site-packages/ipykernel_launcher.py:16: SettingWithCopyWarning: \n",
      "A value is trying to be set on a copy of a slice from a DataFrame.\n",
      "Try using .loc[row_indexer,col_indexer] = value instead\n",
      "\n",
      "See the caveats in the documentation: https://pandas.pydata.org/pandas-docs/stable/user_guide/indexing.html#returning-a-view-versus-a-copy\n",
      "  app.launch_new_instance()\n"
     ]
    },
    {
     "data": {
      "text/html": [
       "<div>\n",
       "<style scoped>\n",
       "    .dataframe tbody tr th:only-of-type {\n",
       "        vertical-align: middle;\n",
       "    }\n",
       "\n",
       "    .dataframe tbody tr th {\n",
       "        vertical-align: top;\n",
       "    }\n",
       "\n",
       "    .dataframe thead th {\n",
       "        text-align: right;\n",
       "    }\n",
       "</style>\n",
       "<table border=\"1\" class=\"dataframe\">\n",
       "  <thead>\n",
       "    <tr style=\"text-align: right;\">\n",
       "      <th></th>\n",
       "      <th>url</th>\n",
       "      <th>content</th>\n",
       "      <th>sname</th>\n",
       "      <th>images</th>\n",
       "      <th>methods</th>\n",
       "    </tr>\n",
       "  </thead>\n",
       "  <tbody>\n",
       "    <tr>\n",
       "      <th>0</th>\n",
       "      <td>https://mp.weixin.qq.com/s/HTsNM1zxEAx3IqoF1uYnYA</td>\n",
       "      <td>\\n最新消息2月14日上午，省卫健委公布2月13日0－24时肇庆市新增1例新冠肺炎确诊病例。...</td>\n",
       "      <td>健康肇庆</td>\n",
       "      <td>[https://mmbiz.qpic.cn/mmbiz_jpg/z2KVp01hujFYO...</td>\n",
       "      <td>template</td>\n",
       "    </tr>\n",
       "    <tr>\n",
       "      <th>1</th>\n",
       "      <td>http://hc.nc.gov.cn/ncwjw/gzdt/202002/b5cf8972...</td>\n",
       "      <td>2020年\\n2\\n月\\n1日，江西省卫生健康委发布疫情通报，2020年1月31日0-24时...</td>\n",
       "      <td>南昌市卫生健康委员会</td>\n",
       "      <td>[http://hc.nc.gov.cn/default/images/icon16/xls...</td>\n",
       "      <td>GNE</td>\n",
       "    </tr>\n",
       "    <tr>\n",
       "      <th>2</th>\n",
       "      <td>http://m.ha.bendibao.com/mip/1636.shtm</td>\n",
       "      <td>更新时间：2020年2月11日24时\\n1、男，49岁，现住淮安经济技术开发区大湖城邦小区，...</td>\n",
       "      <td>bendibao.com</td>\n",
       "      <td>[http://imgbdb3.bendibao.com/habdb/news/20202/...</td>\n",
       "      <td>diffbot</td>\n",
       "    </tr>\n",
       "    <tr>\n",
       "      <th>3</th>\n",
       "      <td>http://news.gxnews.com.cn/staticpages/20200209...</td>\n",
       "      <td></td>\n",
       "      <td></td>\n",
       "      <td>[]</td>\n",
       "      <td></td>\n",
       "    </tr>\n",
       "    <tr>\n",
       "      <th>4</th>\n",
       "      <td>http://o.xiancity.cn/system/2020/02/09/0307133...</td>\n",
       "      <td>西安网讯：周至县疫情防控指挥部今日发布寻人通告：\\n一、西安市周至县的一名新型冠状病毒感染的...</td>\n",
       "      <td>xiancity.cn</td>\n",
       "      <td>[]</td>\n",
       "      <td>diffbot</td>\n",
       "    </tr>\n",
       "    <tr>\n",
       "      <th>...</th>\n",
       "      <td>...</td>\n",
       "      <td>...</td>\n",
       "      <td>...</td>\n",
       "      <td>...</td>\n",
       "      <td>...</td>\n",
       "    </tr>\n",
       "    <tr>\n",
       "      <th>184</th>\n",
       "      <td>http://wjw.shanxi.gov.cn/wjywl02/24757.hrh</td>\n",
       "      <td></td>\n",
       "      <td></td>\n",
       "      <td>[]</td>\n",
       "      <td>GNE</td>\n",
       "    </tr>\n",
       "    <tr>\n",
       "      <th>185</th>\n",
       "      <td>http://wjw.shanxi.gov.cn/wjywl02/24774.hrh</td>\n",
       "      <td></td>\n",
       "      <td></td>\n",
       "      <td>[]</td>\n",
       "      <td>GNE</td>\n",
       "    </tr>\n",
       "    <tr>\n",
       "      <th>186</th>\n",
       "      <td>https://www.sg.gov.cn/xw/ztjj/yqfkyz/zxyq/cont...</td>\n",
       "      <td>2月2日我市新确诊1例新型冠状病毒感染的肺炎病例\\n发布时间：2020-02-02 12:4...</td>\n",
       "      <td>2月2日我市新确诊1例新型冠状病毒感染的肺炎病例</td>\n",
       "      <td>[]</td>\n",
       "      <td>GNE</td>\n",
       "    </tr>\n",
       "    <tr>\n",
       "      <th>187</th>\n",
       "      <td>https://www.sg.gov.cn/xw/ztjj/yqfkyz/zxyq/cont...</td>\n",
       "      <td>2月4日我市新确诊1例新型冠状病毒感染的肺炎病例\\n发布时间：2020-02-04 11:0...</td>\n",
       "      <td>2月4日我市新确诊1例新型冠状病毒感染的肺炎病例</td>\n",
       "      <td>[]</td>\n",
       "      <td>GNE</td>\n",
       "    </tr>\n",
       "    <tr>\n",
       "      <th>188</th>\n",
       "      <td>https://www.sg.gov.cn/xw/ztjj/yqfkyz/zxyq/cont...</td>\n",
       "      <td>我市新确诊1例新型冠状病毒感染的肺炎病例\\n发布时间：2020-02-13 10:52:50...</td>\n",
       "      <td>我市新确诊1例新型冠状病毒感染的肺炎病例</td>\n",
       "      <td>[]</td>\n",
       "      <td>GNE</td>\n",
       "    </tr>\n",
       "  </tbody>\n",
       "</table>\n",
       "<p>189 rows × 5 columns</p>\n",
       "</div>"
      ],
      "text/plain": [
       "                                                   url  \\\n",
       "0    https://mp.weixin.qq.com/s/HTsNM1zxEAx3IqoF1uYnYA   \n",
       "1    http://hc.nc.gov.cn/ncwjw/gzdt/202002/b5cf8972...   \n",
       "2               http://m.ha.bendibao.com/mip/1636.shtm   \n",
       "3    http://news.gxnews.com.cn/staticpages/20200209...   \n",
       "4    http://o.xiancity.cn/system/2020/02/09/0307133...   \n",
       "..                                                 ...   \n",
       "184         http://wjw.shanxi.gov.cn/wjywl02/24757.hrh   \n",
       "185         http://wjw.shanxi.gov.cn/wjywl02/24774.hrh   \n",
       "186  https://www.sg.gov.cn/xw/ztjj/yqfkyz/zxyq/cont...   \n",
       "187  https://www.sg.gov.cn/xw/ztjj/yqfkyz/zxyq/cont...   \n",
       "188  https://www.sg.gov.cn/xw/ztjj/yqfkyz/zxyq/cont...   \n",
       "\n",
       "                                               content  \\\n",
       "0    \\n最新消息2月14日上午，省卫健委公布2月13日0－24时肇庆市新增1例新冠肺炎确诊病例。...   \n",
       "1    2020年\\n2\\n月\\n1日，江西省卫生健康委发布疫情通报，2020年1月31日0-24时...   \n",
       "2    更新时间：2020年2月11日24时\\n1、男，49岁，现住淮安经济技术开发区大湖城邦小区，...   \n",
       "3                                                        \n",
       "4    西安网讯：周至县疫情防控指挥部今日发布寻人通告：\\n一、西安市周至县的一名新型冠状病毒感染的...   \n",
       "..                                                 ...   \n",
       "184                                                      \n",
       "185                                                      \n",
       "186  2月2日我市新确诊1例新型冠状病毒感染的肺炎病例\\n发布时间：2020-02-02 12:4...   \n",
       "187  2月4日我市新确诊1例新型冠状病毒感染的肺炎病例\\n发布时间：2020-02-04 11:0...   \n",
       "188  我市新确诊1例新型冠状病毒感染的肺炎病例\\n发布时间：2020-02-13 10:52:50...   \n",
       "\n",
       "                        sname  \\\n",
       "0                        健康肇庆   \n",
       "1                  南昌市卫生健康委员会   \n",
       "2                bendibao.com   \n",
       "3                               \n",
       "4                 xiancity.cn   \n",
       "..                        ...   \n",
       "184                             \n",
       "185                             \n",
       "186  2月2日我市新确诊1例新型冠状病毒感染的肺炎病例   \n",
       "187  2月4日我市新确诊1例新型冠状病毒感染的肺炎病例   \n",
       "188      我市新确诊1例新型冠状病毒感染的肺炎病例   \n",
       "\n",
       "                                                images   methods  \n",
       "0    [https://mmbiz.qpic.cn/mmbiz_jpg/z2KVp01hujFYO...  template  \n",
       "1    [http://hc.nc.gov.cn/default/images/icon16/xls...       GNE  \n",
       "2    [http://imgbdb3.bendibao.com/habdb/news/20202/...   diffbot  \n",
       "3                                                   []            \n",
       "4                                                   []   diffbot  \n",
       "..                                                 ...       ...  \n",
       "184                                                 []       GNE  \n",
       "185                                                 []       GNE  \n",
       "186                                                 []       GNE  \n",
       "187                                                 []       GNE  \n",
       "188                                                 []       GNE  \n",
       "\n",
       "[189 rows x 5 columns]"
      ]
     },
     "execution_count": 278,
     "metadata": {},
     "output_type": "execute_result"
    }
   ],
   "source": [
    "s,c,ims,mes = [],[],[],[]\n",
    "url_good = goodURL['url']\n",
    "Content = goodURL[:]\n",
    "n = len(url_good)\n",
    "for i in range(n):\n",
    "    url = url_good[i]\n",
    "    sname,content,images,me = get_content(url,driver)\n",
    "    s.append(sname)\n",
    "    c.append(content)\n",
    "    ims.append(images)\n",
    "    mes.append(me)\n",
    "    \n",
    "Content['content'] = c\n",
    "Content['sname'] = s\n",
    "Content['images'] = ims\n",
    "Content['methods'] = mes\n",
    "Content"
   ]
  },
  {
   "cell_type": "code",
   "execution_count": 279,
   "metadata": {},
   "outputs": [
    {
     "data": {
      "text/plain": [
       "8"
      ]
     },
     "execution_count": 279,
     "metadata": {},
     "output_type": "execute_result"
    }
   ],
   "source": [
    "Content['content'][Content['content']==''].count()"
   ]
  },
  {
   "cell_type": "code",
   "execution_count": 280,
   "metadata": {
    "scrolled": true
   },
   "outputs": [
    {
     "data": {
      "text/plain": [
       "3      \n",
       "6      \n",
       "14     \n",
       "180    \n",
       "181    \n",
       "182    \n",
       "184    \n",
       "185    \n",
       "Name: content, dtype: object"
      ]
     },
     "execution_count": 280,
     "metadata": {},
     "output_type": "execute_result"
    }
   ],
   "source": [
    "Content['content'][Content['content']=='']"
   ]
  },
  {
   "cell_type": "code",
   "execution_count": 300,
   "metadata": {},
   "outputs": [
    {
     "data": {
      "text/plain": [
       "'https://weibo.com/7129811001/IrH6peQ3d?from=page_1002067129811001_profile&wvr=6&mod=weibotime&type=comment#_rnd1581676880432'"
      ]
     },
     "execution_count": 300,
     "metadata": {},
     "output_type": "execute_result"
    }
   ],
   "source": [
    "Content['url'][180]"
   ]
  },
  {
   "cell_type": "code",
   "execution_count": 306,
   "metadata": {},
   "outputs": [
    {
     "name": "stdout",
     "output_type": "stream",
     "text": [
      "https://weibo.com/7129811001/IrH6peQ3d?from=page_1002067129811001_profile&wvr=6&mod=weibotime&type=comment#_rnd1581676880432 pcwb\n",
      "0.11331677436828613\n"
     ]
    }
   ],
   "source": [
    "sname,content,images,methods = get_content(Content['url'][180],driver)"
   ]
  },
  {
   "cell_type": "code",
   "execution_count": 308,
   "metadata": {},
   "outputs": [
    {
     "data": {
      "text/plain": [
       "'高陵融媒'"
      ]
     },
     "execution_count": 308,
     "metadata": {},
     "output_type": "execute_result"
    }
   ],
   "source": [
    "sname"
   ]
  },
  {
   "cell_type": "code",
   "execution_count": 309,
   "metadata": {},
   "outputs": [
    {
     "data": {
      "text/plain": [
       "'http://wjw.shanxi.gov.cn/wjywl02/24774.hrh'"
      ]
     },
     "execution_count": 309,
     "metadata": {},
     "output_type": "execute_result"
    }
   ],
   "source": [
    "Content['url'][185]"
   ]
  },
  {
   "cell_type": "code",
   "execution_count": 310,
   "metadata": {},
   "outputs": [
    {
     "name": "stdout",
     "output_type": "stream",
     "text": [
      "https://mp.weixin.qq.com/s/HTsNM1zxEAx3IqoF1uYnYA wx\n",
      "1.7921082973480225\n",
      "HTTPSConnectionPool(host='api.diffbot.com', port=443): Read timed out. (read timeout=5)\n",
      "http://hc.nc.gov.cn/ncwjw/gzdt/202002/b5cf89720dbf4968850892328059db4c.shtml gne\n",
      "7.5574791431427\n",
      "http://m.ha.bendibao.com/mip/1636.shtm diffbot\n",
      "1.3398830890655518\n",
      "1.431875467300415\n",
      "http://o.xiancity.cn/system/2020/02/09/030713354.shtml diffbot\n",
      "1.4229142665863037\n",
      "http://sn.ifeng.com/a/20200209/8181674_0.shtml diffbot\n",
      "1.2913126945495605\n",
      "http://sxwjw.shaanxi.gov.cn/art/2020/2/13/art_9_67993.html diffbot\n",
      "0.877906322479248\n",
      "http://sxwjw.shaanxi.gov.cn/art/2020/2/3/art_9_67666.html diffbot\n",
      "0.9014773368835449\n",
      "http://sy.bendibao.com/news/202023/55857.shtm diffbot\n",
      "1.2493765354156494\n",
      "http://wjw.gz.gov.cn/ztzl/xxfyyqfk/yqtb/content/post_5648584.html diffbot\n",
      "0.926579475402832\n",
      "http://wjw.gz.gov.cn/ztzl/xxfyyqfk/yqtb/content/post_5662091.html diffbot\n",
      "0.7979977130889893\n",
      "http://wjw.nmg.gov.cn/doc/2020/02/01/286091.shtml diffbot\n",
      "1.3387768268585205\n",
      "http://wjw.nmg.gov.cn/doc/2020/02/02/286191.shtml diffbot\n",
      "0.8192400932312012\n",
      "http://wjw.nmg.gov.cn/doc/2020/02/09/291226.shtml diffbot\n",
      "0.870377779006958\n",
      "0.8512279987335205\n",
      "HTTPSConnectionPool(host='api.diffbot.com', port=443): Read timed out. (read timeout=5)\n",
      "http://wjw.taiyuan.gov.cn/doc/2020/02/07/955867.shtml gne\n",
      "7.241440057754517\n",
      "HTTPSConnectionPool(host='api.diffbot.com', port=443): Read timed out. (read timeout=5)\n",
      "http://wjw.taiyuan.gov.cn/doc/2020/02/08/955916.shtml gne\n",
      "6.7631378173828125\n",
      "http://wsjkw.sh.gov.cn/xwfb/20200208/f3882592b1144b558a13a5a9c4ac4a9f.html diffbot\n",
      "1.2431421279907227\n",
      "http://www.wuzhong.gov.cn/ztzl/ztlb/kjyq/202001/t20200130_1936123.html diffbot\n",
      "1.4604506492614746\n",
      "http://wx.hznews.com/data/hzby_2019-nCoV/index_bl.php diffbot\n",
      "1.2413349151611328\n",
      "https://baijiahao.baidu.com/s?id=1657795127584927321&wfr=spider&for=pc diffbot\n",
      "1.3468601703643799\n",
      "https://baijiahao.baidu.com/s?id=1658403541897422656&wfr=spider&for=pc diffbot\n",
      "1.0814056396484375\n",
      "https://m.mp.oeeee.com/a/BAAFRD000020200203257514.html?layer=4&share=chat&isndappinstalled=12 nd\n",
      "1.8074488639831543\n",
      "https://m.mp.oeeee.com/a/BAAFRD000020200212262511.html nd\n",
      "1.0480258464813232\n",
      "https://m.weibo.cn/2162541102/4469831778965414 mwb\n",
      "2.2517333030700684\n",
      "https://m.weibo.cn/3757167087/4469821893163355 mwb\n",
      "0.4754669666290283\n",
      "https://m.weibo.cn/3757167087/4471457452715962 mwb\n",
      "0.47876882553100586\n",
      "https://m.weibo.cn/3757167087/4471458430201395 mwb\n",
      "0.24676966667175293\n",
      "https://m.weibo.cn/detail/4468614512282405 mwb\n",
      "0.2758605480194092\n",
      "https://mp.weixin.qq.com/s/03w_HdZGypbtAG33jikquw wx\n",
      "1.4131414890289307\n",
      "https://mp.weixin.qq.com/s/0xihh12dgBBxbfozR6fnNg wx\n",
      "1.322019100189209\n",
      "https://mp.weixin.qq.com/s/0zzx4G3oUPQmzNk6JTTUzQ wx\n",
      "1.2033734321594238\n",
      "https://mp.weixin.qq.com/s/15bQoiHzj8ABrnySvnEtQA wx\n",
      "0.915496826171875\n",
      "https://mp.weixin.qq.com/s/16ICfUi-Z2UMbbckkm0Xpw wx\n",
      "1.5991649627685547\n",
      "https://mp.weixin.qq.com/s/1gv6bdr4kVBq4nUYOMqJHg wx\n",
      "1.0766818523406982\n",
      "https://mp.weixin.qq.com/s/1l-RCQ_OfAMhOZZSmo2sDw wx\n",
      "0.9822001457214355\n",
      "https://mp.weixin.qq.com/s/21pwvOkvunpCGf0F8UGsKQ wx\n",
      "0.9882876873016357\n",
      "https://mp.weixin.qq.com/s/22zfhtcc5aqqWpt0anCVOQ wx\n",
      "1.2005608081817627\n",
      "https://mp.weixin.qq.com/s/23fOSN0X3dT99e22m34Few wx\n",
      "0.9538781642913818\n",
      "https://mp.weixin.qq.com/s/2COYPOACgINLbVZGLJ20pw wx\n",
      "1.264129400253296\n",
      "https://mp.weixin.qq.com/s/2HRalKs46VxIkbLMBBGbCA wx\n",
      "0.928652286529541\n",
      "https://mp.weixin.qq.com/s/2J9_3bKsljNLeVmFqY4rxQ wx\n",
      "1.0977580547332764\n",
      "https://mp.weixin.qq.com/s/2ri05eGgAq5QHorGkz07sw wx\n",
      "1.3774328231811523\n",
      "https://mp.weixin.qq.com/s/3_ru000m-BsCB3uAjbohAg wx\n",
      "2.4076590538024902\n",
      "https://mp.weixin.qq.com/s/39apxV_xQLEu0MJ5ToE__g wx\n",
      "0.9713072776794434\n",
      "https://mp.weixin.qq.com/s/3GBAMxcOz-brFl_7_soiXg wx\n",
      "0.914898157119751\n",
      "https://mp.weixin.qq.com/s/40KCQ1yZszq1b5OMNsRctg wx\n",
      "0.979163408279419\n",
      "https://mp.weixin.qq.com/s/4JrjMJc7lPDCFHXY3LFSeQ wx\n",
      "0.91977858543396\n",
      "https://mp.weixin.qq.com/s/4ofIalWCUGmYPNTPhiuiTg wx\n",
      "0.8593463897705078\n",
      "https://mp.weixin.qq.com/s/53yB1QgwVerWm6riIRUV6A wx\n",
      "0.9125082492828369\n",
      "https://mp.weixin.qq.com/s/6j-iL-tu6pxdC8q8srFvdA wx\n",
      "0.9171993732452393\n",
      "https://mp.weixin.qq.com/s/6QQRQ2p1q9OSHHa85dJvpA wx\n",
      "0.9463822841644287\n",
      "https://mp.weixin.qq.com/s/704BrIOuTkxkpuXdek9sXw wx\n",
      "1.1921944618225098\n",
      "https://mp.weixin.qq.com/s/7aB-WIhbkljfsaO6in6cIw wx\n",
      "1.2078227996826172\n",
      "https://mp.weixin.qq.com/s/7Odzuq-I-eqrHPwU9vEujQ wx\n",
      "0.9936256408691406\n",
      "https://mp.weixin.qq.com/s/8g-ggBSz1IbIZJZOFVxn0A wx\n",
      "1.1563847064971924\n",
      "https://mp.weixin.qq.com/s/92XTQRGQ4PLLM0yz9dgZHA wx\n",
      "0.919548511505127\n",
      "https://mp.weixin.qq.com/s/99IBrH7yBT2bi_k6CXWk1A wx\n",
      "0.9962306022644043\n",
      "https://mp.weixin.qq.com/s/A1M0SLD-CJUegw0GAIlvEQ wx\n",
      "0.9738049507141113\n",
      "https://mp.weixin.qq.com/s/A4_l39IRa-METFqXyLUaKw wx\n",
      "0.9800386428833008\n",
      "https://mp.weixin.qq.com/s/AL2WfgREI1kR0MaUaP3yVA wx\n",
      "0.9772305488586426\n",
      "https://mp.weixin.qq.com/s/ANsFtyEh-ThyG6bYF23Mdw wx\n",
      "0.9624295234680176\n",
      "https://mp.weixin.qq.com/s/AtGvqHMpPj--woNeOVHqJg wx\n",
      "1.0500586032867432\n",
      "https://mp.weixin.qq.com/s/aupP3RkGcLcJ3kcRTWIQSw wx\n",
      "1.696876049041748\n",
      "https://mp.weixin.qq.com/s/AuuQN67_9XRnT3v-YQ-6Kg wx\n",
      "0.9786159992218018\n",
      "https://mp.weixin.qq.com/s/BbpXFJ_S_I2aHe8_BCqA3w wx\n",
      "0.9954836368560791\n",
      "https://mp.weixin.qq.com/s/BEf8kNgXeQhxvmMjylOmgQ wx\n",
      "1.0601749420166016\n",
      "https://mp.weixin.qq.com/s/bFw2DNyZr50uzgb7lYg2iw wx\n",
      "1.1246938705444336\n",
      "https://mp.weixin.qq.com/s/BowMr0k90t8psMKEWMmshQ wx\n",
      "1.0034542083740234\n",
      "https://mp.weixin.qq.com/s/BQk8wSVC6V4SLRp5A0BSDQ wx\n",
      "1.1010351181030273\n",
      "https://mp.weixin.qq.com/s/brhYtrHRMv5rb_SYHoX3fA wx\n",
      "1.0823190212249756\n",
      "https://mp.weixin.qq.com/s/BTBVokDLUFUBisFVrreTIg wx\n",
      "1.0225341320037842\n",
      "https://mp.weixin.qq.com/s/byOBjYcuIE-ozN5-5j2NjQ wx\n",
      "0.9877777099609375\n",
      "https://mp.weixin.qq.com/s/BzRmrot5EL4FRlANN3jPog wx\n",
      "0.8713297843933105\n",
      "https://mp.weixin.qq.com/s/CCv9mOu-azDpGCngDnutWw wx\n",
      "0.9371893405914307\n",
      "https://mp.weixin.qq.com/s/D_O9alCJ9kQNF9HzQovfpw wx\n",
      "0.984752893447876\n",
      "https://mp.weixin.qq.com/s/d0ChVGAE859JSuSQ4-yuwg wx\n",
      "1.0272893905639648\n",
      "https://mp.weixin.qq.com/s/d9aurz1S2epuqAQy3ZL_hw wx\n",
      "0.9817399978637695\n",
      "https://mp.weixin.qq.com/s/DclHoJStly7-_Uz_uk2LmA wx\n",
      "1.3166680335998535\n",
      "https://mp.weixin.qq.com/s/DGeAhP_Mks4hJputXQK4_w wx\n",
      "1.268986463546753\n",
      "https://mp.weixin.qq.com/s/DNtuRvc9NM88eBEX61IpAQ wx\n",
      "1.7551090717315674\n",
      "https://mp.weixin.qq.com/s/DWFNXijNXN0pQLZr2icG5A wx\n",
      "1.0438075065612793\n",
      "https://mp.weixin.qq.com/s/eECI1S8obg-Vx11xTjggoA wx\n",
      "0.9747817516326904\n",
      "https://mp.weixin.qq.com/s/EiKDu4VTdr4k8o2Uq5Fvcw wx\n",
      "1.0318877696990967\n",
      "https://mp.weixin.qq.com/s/en5XMsElXu6JIs0UHd_lmA wx\n",
      "0.9848356246948242\n",
      "https://mp.weixin.qq.com/s/F2RiiyzIE87ilYzlAZ0OOw wx\n",
      "1.0818872451782227\n",
      "https://mp.weixin.qq.com/s/FEf_w5LyNb8-xXKA_T3e5g wx\n",
      "0.9632771015167236\n",
      "https://mp.weixin.qq.com/s/feTfJCSFxyoufeEAks228w wx\n",
      "0.9003934860229492\n",
      "https://mp.weixin.qq.com/s/fTiCuXTR8iCNPE0zX3gOrw wx\n",
      "0.9811069965362549\n",
      "https://mp.weixin.qq.com/s/ftLPQ6l4nOIX7aRnrRSLCA wx\n",
      "0.9706153869628906\n",
      "https://mp.weixin.qq.com/s/FYb03z5wslK1Wzzp1FiA5A wx\n",
      "0.9207651615142822\n",
      "https://mp.weixin.qq.com/s/g5khDHYw8DsVIIlz9KlByg wx\n",
      "1.024897575378418\n",
      "https://mp.weixin.qq.com/s/g89sB9SZS0FSyD1B-bnwag wx\n",
      "0.9553706645965576\n",
      "https://mp.weixin.qq.com/s/GA_mH8SwviTGaxiSdeHO2A wx\n",
      "1.1638610363006592\n",
      "https://mp.weixin.qq.com/s/gd2P77m_DseuaCvzmHLwbg wx\n",
      "1.0916681289672852\n",
      "https://mp.weixin.qq.com/s/GGeiv9zLDVP9t5CXddQAvw wx\n",
      "1.0345711708068848\n",
      "https://mp.weixin.qq.com/s/gJ2GE_ihEoPaeQmY143dhA wx\n",
      "1.079237699508667\n",
      "https://mp.weixin.qq.com/s/gOIBYl1Hm1R7cQTlkVjyyw wx\n",
      "0.9498226642608643\n",
      "https://mp.weixin.qq.com/s/gX82KJTHdwAbVgK6hADT9A wx\n",
      "1.0058393478393555\n",
      "https://mp.weixin.qq.com/s/Hdz-Q-3Eig8VGsZJwzTNow wx\n",
      "1.184312343597412\n",
      "http://mp.weixin.qq.com/s?__biz=MzI3NDE1NTQ2NQ==&mid=2247484445&amp;idx=1&amp;sn=ebf7bd5008d7749ed6eed1ab839df87d&source=41#wechat_redirect wx\n",
      "1.9971301555633545\n",
      "https://mp.weixin.qq.com/s/i5Qja8vQ7wmL65JhuRxS-g wx\n",
      "1.0234789848327637\n",
      "https://mp.weixin.qq.com/s/I8W5RhgaVZE5pV9gf010Ew wx\n",
      "1.0118632316589355\n",
      "https://mp.weixin.qq.com/s/IGaJ4Sz0Uc7ncxnG1lrtGg wx\n",
      "0.9657597541809082\n",
      "https://mp.weixin.qq.com/s/Ilcw8gqTBS1mj2sL9y8BBw wx\n",
      "0.9984736442565918\n",
      "https://mp.weixin.qq.com/s/i-OHNjnnHgRfODKlpUSYFg wx\n",
      "1.0569555759429932\n",
      "https://mp.weixin.qq.com/s/iWJ6omQpWP3YwGkjPANq-Q wx\n"
     ]
    },
    {
     "name": "stdout",
     "output_type": "stream",
     "text": [
      "0.9693419933319092\n",
      "https://mp.weixin.qq.com/s/J8zMLEAWqq7PLh-y0yO7Tg wx\n",
      "1.1437304019927979\n",
      "https://mp.weixin.qq.com/s/JaEaBvbW6dpw3M2LVmA-jw wx\n",
      "0.9658825397491455\n",
      "https://mp.weixin.qq.com/s/JEGFaPaXbJCyg4L2Y5f2cA wx\n",
      "0.9856665134429932\n",
      "https://mp.weixin.qq.com/s/jjFdgGdM_qILo5mLaZhylg wx\n",
      "1.0620522499084473\n",
      "https://mp.weixin.qq.com/s/k6QZ28KFo3_9-Jvp2td2HA wx\n",
      "0.9849047660827637\n",
      "https://mp.weixin.qq.com/s/KK1b85TfZg3OKob_s8ju0Q wx\n",
      "1.2449049949645996\n",
      "https://mp.weixin.qq.com/s/L6UmSE1h35jGNX9nII7W1w wx\n",
      "1.0079822540283203\n",
      "https://mp.weixin.qq.com/s/l7-4X1mqf191u1sKbwpwtg wx\n",
      "1.1566791534423828\n",
      "https://mp.weixin.qq.com/s/LBJ9bWwWH3dIDgHbX3JrMA wx\n",
      "0.9583361148834229\n",
      "https://mp.weixin.qq.com/s/ljO-jnuFaLY7dlay04vnQQ wx\n",
      "1.3585093021392822\n",
      "https://mp.weixin.qq.com/s/L-kxyVWz2388nVMrHpNwSQ wx\n",
      "0.9454135894775391\n",
      "https://mp.weixin.qq.com/s/LLeJqI0C3wg_XMJxptr6hA wx\n",
      "1.0512187480926514\n",
      "https://mp.weixin.qq.com/s/MaIhftMbVTrBaslpSPNkuA wx\n",
      "0.9633073806762695\n",
      "https://mp.weixin.qq.com/s/MJayWWtfMetX7uypjW34jA wx\n",
      "0.95603346824646\n",
      "https://mp.weixin.qq.com/s/MPkzfHNESrN7F8ZKCYob7Q wx\n",
      "1.018331527709961\n",
      "https://mp.weixin.qq.com/s/MpL6gwVXTxFjfOsBr2SqQg wx\n",
      "1.023059606552124\n",
      "https://mp.weixin.qq.com/s/nqSkq_C1SWyXwSoWH8Tl_Q wx\n",
      "0.937319278717041\n",
      "https://mp.weixin.qq.com/s/o8htUb-Eq0jI-18koz4JSA wx\n",
      "1.1831631660461426\n",
      "https://mp.weixin.qq.com/s/oAp7a7J7b8ueznBiy6UfHw wx\n",
      "1.112696886062622\n",
      "https://mp.weixin.qq.com/s/O-d8n6f_AygAgNedh-sOoQ wx\n",
      "0.9202208518981934\n",
      "https://mp.weixin.qq.com/s/oSfryyVX7e2CaDTyVRBR1A wx\n",
      "1.0032691955566406\n",
      "https://mp.weixin.qq.com/s/p8FwAyaWqBQPQ9ExZNRunA wx\n",
      "0.903435468673706\n",
      "https://mp.weixin.qq.com/s/pAaXlR0Rc7IjTkrJ_nmOHw wx\n",
      "1.223970651626587\n",
      "https://mp.weixin.qq.com/s/pathagzfYVfG7rgn4fsehw wx\n",
      "1.6683356761932373\n",
      "https://mp.weixin.qq.com/s/pCknNhnIW75e0cHBe54iyg wx\n",
      "0.9435722827911377\n",
      "https://mp.weixin.qq.com/s/PxlQtWded0LAEHEEjPPQjQ wx\n",
      "1.1271531581878662\n",
      "https://mp.weixin.qq.com/s/qMb78wvftwMT0Fx-fbgkVA wx\n",
      "0.9739377498626709\n",
      "https://mp.weixin.qq.com/s/qnN8WIp6bdivLrcxn3kw8A wx\n",
      "0.9098873138427734\n",
      "https://mp.weixin.qq.com/s/qQZ6QvNts9rpSWcPgDXZUA wx\n",
      "0.9804003238677979\n",
      "https://mp.weixin.qq.com/s/qVcPv1s491KY6BfXb7BGDg wx\n",
      "0.8925931453704834\n",
      "https://mp.weixin.qq.com/s/QVO-ku5SAFS5lGfrJ3tqvw wx\n",
      "1.0067775249481201\n",
      "https://mp.weixin.qq.com/s/Rbni3MycgbIuiz5YgD2DCg wx\n",
      "0.9929938316345215\n",
      "https://mp.weixin.qq.com/s/rfJiJIU49y8MmMJOXttxBw wx\n",
      "1.7633235454559326\n",
      "https://mp.weixin.qq.com/s/S5JyC2E2Vn5XL0jcKkmBPg wx\n",
      "1.3166742324829102\n",
      "https://mp.weixin.qq.com/s/sHZtvU0GD-sUbKT8lexYZA wx\n",
      "0.9436056613922119\n",
      "https://mp.weixin.qq.com/s/SRElAd3cHRF5Z1yIJOeMYQ wx\n",
      "0.9774892330169678\n",
      "https://mp.weixin.qq.com/s/T7W4z1YpykNltgM4Els3cw wx\n",
      "0.9535050392150879\n",
      "https://mp.weixin.qq.com/s/tHvCXVKoe13lU2_EP935QQ wx\n",
      "1.0809555053710938\n",
      "https://mp.weixin.qq.com/s/TndLruxymZlVFM7oT-tbmQ wx\n",
      "0.986546516418457\n",
      "https://mp.weixin.qq.com/s/tnX6pWa1ag-aA4zvjQh2Qg wx\n",
      "1.28055739402771\n",
      "https://mp.weixin.qq.com/s/TTppjI31ZGHP4nDiAueQZw wx\n",
      "0.984581708908081\n",
      "https://mp.weixin.qq.com/s/U019DW4SJCxW7RTcd9I1Iw wx\n",
      "1.4884583950042725\n",
      "https://mp.weixin.qq.com/s/uaNlrAc-0-i_rMvYaAYVJA wx\n",
      "1.0811424255371094\n",
      "https://mp.weixin.qq.com/s/UD8VFba4oRx4LLJm3cX7zw wx\n",
      "1.25712251663208\n",
      "https://mp.weixin.qq.com/s/uiBhG5cbibkaO3D2wSMrzA wx\n",
      "1.1739628314971924\n",
      "https://mp.weixin.qq.com/s/UK7n7JRT9q4Qmmq0nVa7Yw wx\n",
      "1.3199546337127686\n",
      "https://mp.weixin.qq.com/s/URJDtNlB8jOnsmdH17VjXA wx\n",
      "1.0435740947723389\n",
      "https://mp.weixin.qq.com/s/v8_qO9NA0OZlohlo0sbCZg wx\n",
      "1.071119785308838\n",
      "https://mp.weixin.qq.com/s/VCPYIcswFYrXKMT_iAo4sQ wx\n",
      "1.1376984119415283\n",
      "https://mp.weixin.qq.com/s/VHyCUTBLdswJUs4v94gCGg wx\n",
      "1.1640782356262207\n",
      "https://mp.weixin.qq.com/s/VlmSYauI8yaDuegXGATg1A wx\n",
      "2.133524179458618\n",
      "https://mp.weixin.qq.com/s/VlptYBqxOilNbokYmgAq3w wx\n",
      "1.0283243656158447\n",
      "https://mp.weixin.qq.com/s/vyMK9XAfBREa6c7KkQZE_g wx\n",
      "3.4873743057250977\n",
      "https://mp.weixin.qq.com/s/W9Iqq_rF4D9qHfI91nC0MQ wx\n",
      "1.502997636795044\n",
      "https://mp.weixin.qq.com/s/WBkYAkadMMy8qkjvZeTbyQ wx\n",
      "1.9859609603881836\n",
      "https://mp.weixin.qq.com/s/wpsNrPfHKhGECppcmODvAA wx\n",
      "1.2678968906402588\n",
      "https://mp.weixin.qq.com/s/X4CKfM-zAvmJTCi_4I-bVg wx\n",
      "1.1219630241394043\n",
      "https://mp.weixin.qq.com/s/XLC_oAGCkfZ-9QZiN7dyFw wx\n",
      "1.0748498439788818\n",
      "https://mp.weixin.qq.com/s/xPkUySDb9RVh1fWlcQLwGQ wx\n",
      "0.957719087600708\n",
      "https://mp.weixin.qq.com/s/xSgycy4VCvOdSGZl_lWrrw wx\n",
      "1.0647547245025635\n",
      "https://mp.weixin.qq.com/s/xYVXdohY_4acdQTniOGWUA wx\n",
      "1.0890765190124512\n",
      "https://mp.weixin.qq.com/s/Y43irqUbONn5cePk8zDMVA wx\n",
      "1.0627360343933105\n",
      "https://mp.weixin.qq.com/s/y9lpITTKuZivPJB9l55ORg wx\n",
      "0.9441988468170166\n",
      "https://mp.weixin.qq.com/s/yB_kxKjAEYVn9MR8PyRCZg wx\n",
      "1.0442283153533936\n",
      "http://mp.weixin.qq.com/s?__biz=MzI3NDE1NTQ2NQ==&mid=2247484446&amp;idx=1&amp;sn=5f25018ebb33ed447c1f15635b3c06da&source=41#wechat_redirect wx\n",
      "1.5310440063476562\n",
      "https://mp.weixin.qq.com/s/YfzMmv1vUZyiphWUgzOLlA wx\n",
      "0.9898734092712402\n",
      "https://mp.weixin.qq.com/s/YgLkGhE1VlX6oQWl9nqyMg wx\n",
      "1.3353867530822754\n",
      "https://mp.weixin.qq.com/s/YLSR_0NXJ5LUg6LWGW_aDg wx\n",
      "0.977013111114502\n",
      "https://mp.weixin.qq.com/s/yq4IcgXi4vxQxO3UBYOZ-A wx\n",
      "0.9443013668060303\n",
      "https://mp.weixin.qq.com/s/yT_I4r6Sc2K3O7-3iAl-mA wx\n",
      "1.154766321182251\n",
      "https://mp.weixin.qq.com/s/yyeefgne4StL6ZH9mRh80Q wx\n",
      "1.1926672458648682\n",
      "https://mp.weixin.qq.com/s/z1mVzAvyEoNiS2s0jsIgQw wx\n",
      "1.524501085281372\n",
      "https://mp.weixin.qq.com/s/zOGzJVviegMaLRE8tuiLRw wx\n",
      "1.1167082786560059\n",
      "https://weibo.com/7129811001/IrH6peQ3d?from=page_1002067129811001_profile&wvr=6&mod=weibotime&type=comment#_rnd1581676880432 pcwb\n",
      "6.121376991271973\n",
      "https://weibo.com/7129811001/IssWHlJzw?from=page_1002067129811001_profile&wvr=6&mod=weibotime&type=comment pcwb\n",
      "1.2360601425170898\n",
      "https://weibo.com/7129811001/ItKAzr93p?from=page_1002067129811001_profile&wvr=6&mod=weibotime&type=comment#_rnd1581676145115 pcwb\n",
      "1.0733695030212402\n",
      "https://www.tibet3.com/news/zangqu/qh/2020-02-04/149341.html diffbot\n",
      "1.8294670581817627\n",
      "2.464247226715088\n",
      "http://wjw.shanxi.gov.cn/wjywl02/24774.hrh diffbot\n",
      "0.8661372661590576\n",
      "https://www.sg.gov.cn/xw/ztjj/yqfkyz/zxyq/content/post_1754923.html diffbot\n",
      "1.2625021934509277\n",
      "https://www.sg.gov.cn/xw/ztjj/yqfkyz/zxyq/content/post_1756096.html diffbot\n",
      "1.067558765411377\n",
      "https://www.sg.gov.cn/xw/ztjj/yqfkyz/zxyq/content/post_1760064.html diffbot\n",
      "0.8333351612091064\n"
     ]
    },
    {
     "name": "stderr",
     "output_type": "stream",
     "text": [
      "/home/louis/anaconda3/lib/python3.7/site-packages/ipykernel_launcher.py:13: SettingWithCopyWarning: \n",
      "A value is trying to be set on a copy of a slice from a DataFrame.\n",
      "Try using .loc[row_indexer,col_indexer] = value instead\n",
      "\n",
      "See the caveats in the documentation: https://pandas.pydata.org/pandas-docs/stable/user_guide/indexing.html#returning-a-view-versus-a-copy\n",
      "  del sys.path[0]\n",
      "/home/louis/anaconda3/lib/python3.7/site-packages/ipykernel_launcher.py:14: SettingWithCopyWarning: \n",
      "A value is trying to be set on a copy of a slice from a DataFrame.\n",
      "Try using .loc[row_indexer,col_indexer] = value instead\n",
      "\n",
      "See the caveats in the documentation: https://pandas.pydata.org/pandas-docs/stable/user_guide/indexing.html#returning-a-view-versus-a-copy\n",
      "  \n",
      "/home/louis/anaconda3/lib/python3.7/site-packages/ipykernel_launcher.py:15: SettingWithCopyWarning: \n",
      "A value is trying to be set on a copy of a slice from a DataFrame.\n",
      "Try using .loc[row_indexer,col_indexer] = value instead\n",
      "\n",
      "See the caveats in the documentation: https://pandas.pydata.org/pandas-docs/stable/user_guide/indexing.html#returning-a-view-versus-a-copy\n",
      "  from ipykernel import kernelapp as app\n",
      "/home/louis/anaconda3/lib/python3.7/site-packages/ipykernel_launcher.py:16: SettingWithCopyWarning: \n",
      "A value is trying to be set on a copy of a slice from a DataFrame.\n",
      "Try using .loc[row_indexer,col_indexer] = value instead\n",
      "\n",
      "See the caveats in the documentation: https://pandas.pydata.org/pandas-docs/stable/user_guide/indexing.html#returning-a-view-versus-a-copy\n",
      "  app.launch_new_instance()\n"
     ]
    },
    {
     "data": {
      "text/html": [
       "<div>\n",
       "<style scoped>\n",
       "    .dataframe tbody tr th:only-of-type {\n",
       "        vertical-align: middle;\n",
       "    }\n",
       "\n",
       "    .dataframe tbody tr th {\n",
       "        vertical-align: top;\n",
       "    }\n",
       "\n",
       "    .dataframe thead th {\n",
       "        text-align: right;\n",
       "    }\n",
       "</style>\n",
       "<table border=\"1\" class=\"dataframe\">\n",
       "  <thead>\n",
       "    <tr style=\"text-align: right;\">\n",
       "      <th></th>\n",
       "      <th>url</th>\n",
       "      <th>content</th>\n",
       "      <th>sname</th>\n",
       "      <th>images</th>\n",
       "      <th>methods</th>\n",
       "    </tr>\n",
       "  </thead>\n",
       "  <tbody>\n",
       "    <tr>\n",
       "      <th>0</th>\n",
       "      <td>https://mp.weixin.qq.com/s/HTsNM1zxEAx3IqoF1uYnYA</td>\n",
       "      <td>\\n最新消息2月14日上午，省卫健委公布2月13日0－24时肇庆市新增1例新冠肺炎确诊病例。...</td>\n",
       "      <td>健康肇庆</td>\n",
       "      <td>[https://mmbiz.qpic.cn/mmbiz_jpg/z2KVp01hujFYO...</td>\n",
       "      <td>template</td>\n",
       "    </tr>\n",
       "    <tr>\n",
       "      <th>1</th>\n",
       "      <td>http://hc.nc.gov.cn/ncwjw/gzdt/202002/b5cf8972...</td>\n",
       "      <td>2020年\\n2\\n月\\n1日，江西省卫生健康委发布疫情通报，2020年1月31日0-24时...</td>\n",
       "      <td>南昌市卫生健康委员会</td>\n",
       "      <td>[http://hc.nc.gov.cn/default/images/icon16/xls...</td>\n",
       "      <td>GNE</td>\n",
       "    </tr>\n",
       "    <tr>\n",
       "      <th>2</th>\n",
       "      <td>http://m.ha.bendibao.com/mip/1636.shtm</td>\n",
       "      <td>更新时间：2020年2月11日24时\\n1、男，49岁，现住淮安经济技术开发区大湖城邦小区，...</td>\n",
       "      <td>bendibao.com</td>\n",
       "      <td>[http://imgbdb3.bendibao.com/habdb/news/20202/...</td>\n",
       "      <td>diffbot</td>\n",
       "    </tr>\n",
       "    <tr>\n",
       "      <th>3</th>\n",
       "      <td>http://news.gxnews.com.cn/staticpages/20200209...</td>\n",
       "      <td></td>\n",
       "      <td></td>\n",
       "      <td>[]</td>\n",
       "      <td></td>\n",
       "    </tr>\n",
       "    <tr>\n",
       "      <th>4</th>\n",
       "      <td>http://o.xiancity.cn/system/2020/02/09/0307133...</td>\n",
       "      <td>西安网讯：周至县疫情防控指挥部今日发布寻人通告：\\n一、西安市周至县的一名新型冠状病毒感染的...</td>\n",
       "      <td>xiancity.cn</td>\n",
       "      <td>[]</td>\n",
       "      <td>diffbot</td>\n",
       "    </tr>\n",
       "    <tr>\n",
       "      <th>...</th>\n",
       "      <td>...</td>\n",
       "      <td>...</td>\n",
       "      <td>...</td>\n",
       "      <td>...</td>\n",
       "      <td>...</td>\n",
       "    </tr>\n",
       "    <tr>\n",
       "      <th>184</th>\n",
       "      <td>http://wjw.shanxi.gov.cn/wjywl02/24757.hrh</td>\n",
       "      <td></td>\n",
       "      <td></td>\n",
       "      <td>[]</td>\n",
       "      <td></td>\n",
       "    </tr>\n",
       "    <tr>\n",
       "      <th>185</th>\n",
       "      <td>http://wjw.shanxi.gov.cn/wjywl02/24774.hrh</td>\n",
       "      <td>病例1：女，44岁，现住址为平遥县杜家庄乡苏家堡村，长期在武汉白马商场销售服装。\\n2020...</td>\n",
       "      <td>shanxi.gov.cn</td>\n",
       "      <td>[]</td>\n",
       "      <td>diffbot</td>\n",
       "    </tr>\n",
       "    <tr>\n",
       "      <th>186</th>\n",
       "      <td>https://www.sg.gov.cn/xw/ztjj/yqfkyz/zxyq/cont...</td>\n",
       "      <td>2月2日我市新确诊1例新型冠状病毒感染的肺炎病例，为浈江区59岁女性患者，有与武汉来韶人员接...</td>\n",
       "      <td>sg.gov.cn</td>\n",
       "      <td>[]</td>\n",
       "      <td>diffbot</td>\n",
       "    </tr>\n",
       "    <tr>\n",
       "      <th>187</th>\n",
       "      <td>https://www.sg.gov.cn/xw/ztjj/yqfkyz/zxyq/cont...</td>\n",
       "      <td>2月4日我市新确诊1例新型冠状病毒感染的肺炎病例，该确诊病例为女性，31岁，为我市第二例确诊...</td>\n",
       "      <td>sg.gov.cn</td>\n",
       "      <td>[]</td>\n",
       "      <td>diffbot</td>\n",
       "    </tr>\n",
       "    <tr>\n",
       "      <th>188</th>\n",
       "      <td>https://www.sg.gov.cn/xw/ztjj/yqfkyz/zxyq/cont...</td>\n",
       "      <td>2月13日，广东省卫生健康委确认，我市新确诊1例新型冠状病毒感染的肺炎病例，该病例为男性，2...</td>\n",
       "      <td>sg.gov.cn</td>\n",
       "      <td>[]</td>\n",
       "      <td>diffbot</td>\n",
       "    </tr>\n",
       "  </tbody>\n",
       "</table>\n",
       "<p>189 rows × 5 columns</p>\n",
       "</div>"
      ],
      "text/plain": [
       "                                                   url  \\\n",
       "0    https://mp.weixin.qq.com/s/HTsNM1zxEAx3IqoF1uYnYA   \n",
       "1    http://hc.nc.gov.cn/ncwjw/gzdt/202002/b5cf8972...   \n",
       "2               http://m.ha.bendibao.com/mip/1636.shtm   \n",
       "3    http://news.gxnews.com.cn/staticpages/20200209...   \n",
       "4    http://o.xiancity.cn/system/2020/02/09/0307133...   \n",
       "..                                                 ...   \n",
       "184         http://wjw.shanxi.gov.cn/wjywl02/24757.hrh   \n",
       "185         http://wjw.shanxi.gov.cn/wjywl02/24774.hrh   \n",
       "186  https://www.sg.gov.cn/xw/ztjj/yqfkyz/zxyq/cont...   \n",
       "187  https://www.sg.gov.cn/xw/ztjj/yqfkyz/zxyq/cont...   \n",
       "188  https://www.sg.gov.cn/xw/ztjj/yqfkyz/zxyq/cont...   \n",
       "\n",
       "                                               content          sname  \\\n",
       "0    \\n最新消息2月14日上午，省卫健委公布2月13日0－24时肇庆市新增1例新冠肺炎确诊病例。...           健康肇庆   \n",
       "1    2020年\\n2\\n月\\n1日，江西省卫生健康委发布疫情通报，2020年1月31日0-24时...     南昌市卫生健康委员会   \n",
       "2    更新时间：2020年2月11日24时\\n1、男，49岁，现住淮安经济技术开发区大湖城邦小区，...   bendibao.com   \n",
       "3                                                                       \n",
       "4    西安网讯：周至县疫情防控指挥部今日发布寻人通告：\\n一、西安市周至县的一名新型冠状病毒感染的...    xiancity.cn   \n",
       "..                                                 ...            ...   \n",
       "184                                                                     \n",
       "185  病例1：女，44岁，现住址为平遥县杜家庄乡苏家堡村，长期在武汉白马商场销售服装。\\n2020...  shanxi.gov.cn   \n",
       "186  2月2日我市新确诊1例新型冠状病毒感染的肺炎病例，为浈江区59岁女性患者，有与武汉来韶人员接...      sg.gov.cn   \n",
       "187  2月4日我市新确诊1例新型冠状病毒感染的肺炎病例，该确诊病例为女性，31岁，为我市第二例确诊...      sg.gov.cn   \n",
       "188  2月13日，广东省卫生健康委确认，我市新确诊1例新型冠状病毒感染的肺炎病例，该病例为男性，2...      sg.gov.cn   \n",
       "\n",
       "                                                images   methods  \n",
       "0    [https://mmbiz.qpic.cn/mmbiz_jpg/z2KVp01hujFYO...  template  \n",
       "1    [http://hc.nc.gov.cn/default/images/icon16/xls...       GNE  \n",
       "2    [http://imgbdb3.bendibao.com/habdb/news/20202/...   diffbot  \n",
       "3                                                   []            \n",
       "4                                                   []   diffbot  \n",
       "..                                                 ...       ...  \n",
       "184                                                 []            \n",
       "185                                                 []   diffbot  \n",
       "186                                                 []   diffbot  \n",
       "187                                                 []   diffbot  \n",
       "188                                                 []   diffbot  \n",
       "\n",
       "[189 rows x 5 columns]"
      ]
     },
     "execution_count": 310,
     "metadata": {},
     "output_type": "execute_result"
    }
   ],
   "source": [
    "s,c,ims,mes = [],[],[],[]\n",
    "url_good = goodURL['url']\n",
    "Content = goodURL[:]\n",
    "n = len(url_good)\n",
    "for i in range(n):\n",
    "    url = url_good[i]\n",
    "    sname,content,images,me = get_content(url,driver)\n",
    "    s.append(sname)\n",
    "    c.append(content)\n",
    "    ims.append(images)\n",
    "    mes.append(me)\n",
    "    \n",
    "Content['content'] = c\n",
    "Content['sname'] = s\n",
    "Content['images'] = ims\n",
    "Content['methods'] = mes\n",
    "Content"
   ]
  },
  {
   "cell_type": "code",
   "execution_count": 311,
   "metadata": {},
   "outputs": [
    {
     "data": {
      "text/plain": [
       "3"
      ]
     },
     "execution_count": 311,
     "metadata": {},
     "output_type": "execute_result"
    }
   ],
   "source": [
    "Content['content'][Content['content']==''].count()"
   ]
  },
  {
   "cell_type": "code",
   "execution_count": 312,
   "metadata": {},
   "outputs": [
    {
     "data": {
      "text/plain": [
       "3      \n",
       "14     \n",
       "184    \n",
       "Name: content, dtype: object"
      ]
     },
     "execution_count": 312,
     "metadata": {},
     "output_type": "execute_result"
    }
   ],
   "source": [
    "Content['content'][Content['content']=='']"
   ]
  },
  {
   "cell_type": "code",
   "execution_count": 333,
   "metadata": {},
   "outputs": [
    {
     "name": "stdout",
     "output_type": "stream",
     "text": [
      "http://news.gxnews.com.cn/staticpages/20200209/newgx5e3f4bbc-19247534-3.shtml gne\n",
      "3.622346878051758\n"
     ]
    }
   ],
   "source": [
    "Content['sname'][3],Content['content'][3],Content['images'][3],Content['methods'][3] = get_content(Content['url'][3],driver)"
   ]
  },
  {
   "cell_type": "code",
   "execution_count": 321,
   "metadata": {},
   "outputs": [
    {
     "data": {
      "text/plain": [
       "'2020年2月8日河池市新冠肺炎疫情情况\\n2020年2月9日上午，广西壮族自治区卫生健康委发布通报，2月8日0-24时，河池市新增4例新冠肺炎确诊病例。报告死亡病例1例（都安县病例）。\\n病例一：韦某桥，男，41岁，现居住都安县创业园第二期9排，常住都安县，系新冠肺炎确诊病例莫某某之五儿子。2020年1月29日开始出现发热，到都安县苏某某诊所就诊，未见好转。1月31日到都安县人民医院行CT检查提示“疑似肺炎”，2月2日收住都安县人民医院隔离治疗。2月3日、2月6日分别采集标本进行新冠肺炎核酸检测阴性。患者否认到过武汉疫区及武汉类似病人接触史，曾多次与其父亲莫某某聚餐。2月8日经河池市疾控中心检测，新冠病毒核酸阳性。目前病情稳定。\\n病例二：黄某良，男，48岁，系2月7日新冠肺炎确诊病例蓝某参儿子，确诊病例黄某玲哥哥。常住都安县，现居住都安县高岭镇正玄村巴文队。其母亲蓝某参、妹妹黄某玲确诊后，因与母亲及妹妹同处一屋（天地楼），属密切接触者。2月7日，医学观察过程中发现其体温升高，无咳嗽、乏力、胸闷，收住都安县人民医院住院隔离治疗。2月8日经河池市疾控中心检测，新冠病毒核酸阳性。目前病情稳定。\\n病例三：黄某娟，女，35岁，系2月7日新冠肺炎确诊病例蓝某参女儿，确诊病例黄某玲妹妹，现居住都安县下坳镇下坳社区塘边屯，系都安县下坳镇卫生院护士。2020年1月19日下午2点10分乘坐火车C7006至广州南站，约4时到站，入住广州巨大国际公寓。1月20日9点12分乘坐动车（D3710）从广州南到南宁东站，乘坐地铁到其姐黄某玲家（南宁市青秀区长湖路埌东2组A区47栋），当天与其姐黄某玲共乘私家车（车内还有吴某钧）回高岭镇正玄村巴文屯老家，与母亲蓝某参、姐姐黄某玲等同处一屋（天地楼）至1月30日，属密切接触者。2月7日医学观察过程中发现其体温升高，收住都安县人民医院住院隔离治疗。2月8日经河池市疾控中心检测，新冠病毒核酸阳性。目前病情稳定。\\n病例四：黄某等，男，22岁，系2月7日新冠肺炎确诊病例蓝某参孙子、确诊病例黄某玲侄子、黄某良儿子，现居住都安县高岭镇正玄村巴文队。蓝某参、黄某玲确诊后，因其与蓝某参、黄某玲同处一屋（天地楼），属密切接触者。2月7日，医学观察过程中发现其体温升高，无咳嗽、乏力、胸闷，收住都安县人民医院住院隔离治疗。2月8日经河池市疾控中心检测，新型冠状病毒核酸阳性。目前病情稳定。\\n截至2020年2月8日24时，河池市累计报告确诊病例19例，其中：金城江区3例，宜州区1例，环江县2例，都安县13例。重症病例2例，危重病例2例，死亡病例1例。所有患者均在定点医院隔离治疗。\\n（河池市卫生健康委员会）\\n上一页\\n下一页\\n第\\n[1]\\n[2]\\n[3]\\n[4]\\n[5]\\n页'"
      ]
     },
     "execution_count": 321,
     "metadata": {},
     "output_type": "execute_result"
    }
   ],
   "source": [
    "Content['content'][3]"
   ]
  },
  {
   "cell_type": "code",
   "execution_count": 335,
   "metadata": {},
   "outputs": [
    {
     "name": "stdout",
     "output_type": "stream",
     "text": [
      "http://wjw.sz.gov.cn/yqxx/202002/t20200209_19006168.htm gne\n",
      "1.665602445602417\n"
     ]
    }
   ],
   "source": [
    "Content['sname'][14],Content['content'][14],Content['images'][14],Content['methods'][14] = get_content(Content['url'][14],driver)"
   ]
  },
  {
   "cell_type": "code",
   "execution_count": 336,
   "metadata": {},
   "outputs": [
    {
     "data": {
      "text/plain": [
       "'截至2月9日12时，深圳的“新型肺炎”病例累计达366例。\\n2月9日，疾控专业人员通过最新的流行病学调查确认，深圳新增10个小区（场所），有新确诊的病人在出现病征期间曾经逗留。\\n这些新确诊病人已经全部转到深圳市第三人民医院治疗。\\n密切接触者已找到，正接受社区基层防控工作小组“三位一体”的隔离医学观察和管理。\\n疾控部门已组织专门的消杀队伍，对病人停留过的场所进行彻底的综合消毒，对小区外围的公共场所、休息场所、小区垃圾的回收场所等，也开展了预防性消毒，并指导物业部门做好日常消毒。\\n大家不用恐慌，只需跟足政府指引，做好日常防护，尤其是少出门、戴口罩、勤洗手。\\n已经公布过的小区，如果出现了新的确诊病例，该小区不会再次公布。\\n福田区（3个）\\n海田路1008号雅颂居\\n下沙花好园\\n金地名津\\n*以上病例均已转医院治疗\\n龙岗区（2个\\n）\\n万科麓城\\n金德丰雅居\\n*以上病例均已转医院治疗\\n宝安区（2个）\\n松岗街道红星村温屋\\n丽枫酒店（深圳海雅缤纷城店）\\n*以上病例均已转医院治疗\\n南山区（1个）\\n艺华花园\\n*以上病例均已转医院治疗\\n罗湖区（1个）\\n嘉宝田花园\\n*以上病例均已转医院治疗\\n盐田区（1个）\\n京基洲际度假酒店\\n*以上病例均已转医院治疗\\n你对公布“涉病”小区满意吗？\\n欢迎进来提意见\\n深圳市疾控中心正在联合深圳大学传播学院进行一项关于“新冠肺炎”的在线问卷调查。\\n你认为——\\n公布病人逗留过的小区（场所）有必要吗？\\n公布病人信息（但不暴露隐私）有必要吗？\\n信息公开透明对疫情防控重要吗？\\n你还希望深圳官方公布、传播哪类信息？\\n你觉得——\\n现在做一次“新冠肺炎”知识测试（选择题），你能拿多少分？\\n赶紧进来看一看\\n资料来源：深圳市疾控中心、深圳市卫健委'"
      ]
     },
     "execution_count": 336,
     "metadata": {},
     "output_type": "execute_result"
    }
   ],
   "source": [
    "Content['content'][14]"
   ]
  },
  {
   "cell_type": "code",
   "execution_count": 345,
   "metadata": {},
   "outputs": [],
   "source": [
    "def check(Content,x):\n",
    "    return Content['content'][x]\n",
    "\n",
    "def fix_by_hand(Content,x):\n",
    "    Content['sname'][x],Content['content'][x],Content['images'][x],Content['methods'][x] = get_content(Content['url'][x],driver)"
   ]
  },
  {
   "cell_type": "code",
   "execution_count": 344,
   "metadata": {},
   "outputs": [
    {
     "name": "stdout",
     "output_type": "stream",
     "text": [
      "http://wjw.shanxi.gov.cn/wjywl02/24757.hrh gne\n",
      "14.747050046920776\n"
     ]
    },
    {
     "name": "stderr",
     "output_type": "stream",
     "text": [
      "/home/louis/anaconda3/lib/python3.7/site-packages/ipykernel_launcher.py:1: SettingWithCopyWarning: \n",
      "A value is trying to be set on a copy of a slice from a DataFrame\n",
      "\n",
      "See the caveats in the documentation: https://pandas.pydata.org/pandas-docs/stable/user_guide/indexing.html#returning-a-view-versus-a-copy\n",
      "  \"\"\"Entry point for launching an IPython kernel.\n"
     ]
    }
   ],
   "source": [
    "fix_by_hand(Content,184)"
   ]
  },
  {
   "cell_type": "code",
   "execution_count": 346,
   "metadata": {},
   "outputs": [
    {
     "data": {
      "text/plain": [
       "'病例1：男，24岁，现住址为临汾市吉县荣辰佳苑。\\n2020年1月22日下午，在太原市乘坐849路公交车至太原南站。15时42分乘坐太原南-临汾西D9205车次（座位号02.16C），17:07到达临汾西站。乘坐私人面包车从临吉高速回到吉县家中，同车人共8人。\\n2020年1月27日出现发热、咽痛、咳痰，服用自购药品。\\n2020年1月30日到吉县人民医院就诊，体温37.5℃，化验血常规正常，嘱患者居家治疗观察，期间患者未出家门。\\n2020年2月2日10时42分因病情无缓解，到吉县人民医院发热门诊就诊。\\n2020年2月4日核酸检测阳性，转至临汾市第三人民医院（市级定点医疗机构）就诊。\\n2020年2月6日确诊。\\n病例2：男，74岁，现住址为阳泉市盂县秀水镇路洞社区（红楼干休所）。\\n2020年1月24日2时30分（凌晨）患者儿子（2月5日确诊）来到其家中。\\n2020年2月4日22时25分由120从家中送至盂县人民医院隔离医学观察。\\n2020年2月6日确诊为无症状感染者。\\n病例3：女，35岁，现住址为平遥县香乐乡香乐村。\\n2020年1月21日前在平遥县香乐乡派出所居住。\\n2020年1月21日与其丈夫（从武汉回到平遥）一同回到家中居住，当天16时30分去看望母亲。\\n2020年1月22日12时和23日19时两次参加本村居民家宴。\\n2020年1月24日14时去香乐村万福隆超市购物。\\n2020年2月3日23时出现发热症状。\\n2020年2月4日19时由平遥县人民医院120救护车接到县人民医院发热门诊就诊。\\n2020年2月6日确诊。\\n病例4：男，64岁，现住址为沁水县郑庄镇中乡村。\\n2020年1月24日-29日去本村刘某（2月2日确诊）家串门。\\n2020年2月5日出现发热、胸部不适，去沁水县人民医院就诊。\\n2020年2月6日确诊。\\n病例5：男，66岁，现住址为尖草坪区汇丰街道兴华北小区。\\n2020年1月20日和22日其孙子、儿子（2月4日确诊）分别从武汉返并与其同住。患者长期居住太原，发病前14天内无外出史。\\n2020年1月29日凌晨与妻子（2月4日确诊）一同步行去山西万峰医院就诊并住院。\\n2020年2月6日转至太原市第四人民医院住院，确诊。\\n病例6：男，12岁，现住址为尖草坪区汇丰街道兴华北小区。\\n2020年1月20日乘坐武汉-太原HU7630航班到太原。由其舅舅、舅妈驾车送至爷爷（2月6日确诊）家中。\\n2020年2月5日居家隔离医学观察。\\n2020年2月6日转至太原市第四人民医院住院，确诊。\\n山西省新型冠状病毒感染的肺炎疫情\\n防控工作领导小组办公室\\n2020年2月7日'"
      ]
     },
     "execution_count": 346,
     "metadata": {},
     "output_type": "execute_result"
    }
   ],
   "source": [
    "check(Content,184)"
   ]
  },
  {
   "cell_type": "code",
   "execution_count": 347,
   "metadata": {},
   "outputs": [
    {
     "data": {
      "text/plain": [
       "0"
      ]
     },
     "execution_count": 347,
     "metadata": {},
     "output_type": "execute_result"
    }
   ],
   "source": [
    "Content['content'][Content['content']==''].count()"
   ]
  },
  {
   "cell_type": "code",
   "execution_count": 352,
   "metadata": {},
   "outputs": [],
   "source": [
    "Content.to_csv('./content_5.1.1744.csv')"
   ]
  },
  {
   "cell_type": "markdown",
   "metadata": {},
   "source": [
    "# 查看正文长度分布"
   ]
  },
  {
   "cell_type": "code",
   "execution_count": 358,
   "metadata": {},
   "outputs": [
    {
     "data": {
      "text/plain": [
       "Series([], Name: content, dtype: object)"
      ]
     },
     "execution_count": 358,
     "metadata": {},
     "output_type": "execute_result"
    }
   ],
   "source": [
    "Content['content'][Content['content'].duplicated()]"
   ]
  },
  {
   "cell_type": "code",
   "execution_count": 353,
   "metadata": {},
   "outputs": [
    {
     "name": "stderr",
     "output_type": "stream",
     "text": [
      "/home/louis/anaconda3/lib/python3.7/site-packages/ipykernel_launcher.py:1: SettingWithCopyWarning: \n",
      "A value is trying to be set on a copy of a slice from a DataFrame.\n",
      "Try using .loc[row_indexer,col_indexer] = value instead\n",
      "\n",
      "See the caveats in the documentation: https://pandas.pydata.org/pandas-docs/stable/user_guide/indexing.html#returning-a-view-versus-a-copy\n",
      "  \"\"\"Entry point for launching an IPython kernel.\n"
     ]
    }
   ],
   "source": [
    "Content['content_count'] = Content['content'].apply(lambda x: len(x))"
   ]
  },
  {
   "cell_type": "code",
   "execution_count": 354,
   "metadata": {},
   "outputs": [
    {
     "data": {
      "text/plain": [
       "0      4495\n",
       "1       369\n",
       "2       628\n",
       "3      1147\n",
       "4       747\n",
       "       ... \n",
       "184    1093\n",
       "185    1142\n",
       "186     343\n",
       "187     463\n",
       "188     519\n",
       "Name: content_count, Length: 189, dtype: int64"
      ]
     },
     "execution_count": 354,
     "metadata": {},
     "output_type": "execute_result"
    }
   ],
   "source": [
    "Content['content_count']"
   ]
  },
  {
   "cell_type": "code",
   "execution_count": 350,
   "metadata": {},
   "outputs": [
    {
     "data": {
      "text/plain": [
       "[<matplotlib.lines.Line2D at 0x7f086fec6e90>]"
      ]
     },
     "execution_count": 350,
     "metadata": {},
     "output_type": "execute_result"
    },
    {
     "data": {
      "image/png": "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\n",
      "text/plain": [
       "<Figure size 432x288 with 1 Axes>"
      ]
     },
     "metadata": {
      "needs_background": "light"
     },
     "output_type": "display_data"
    }
   ],
   "source": [
    "plt.plot(Content['content_count'])"
   ]
  },
  {
   "cell_type": "code",
   "execution_count": 355,
   "metadata": {},
   "outputs": [
    {
     "data": {
      "text/plain": [
       "82     \\n来源/活力海勃湾编辑/杨梦珂校审/刘之爽大家都在看■ 暖城 | 明天他们要给乌海市民免费...\n",
       "106    \\n在今天举行的市疫情防控工作领导小组新闻发布会上，市卫健委通报：昨天，2月9日0—24时，...\n",
       "Name: content, dtype: object"
      ]
     },
     "execution_count": 355,
     "metadata": {},
     "output_type": "execute_result"
    }
   ],
   "source": [
    "Content['content'][Content['content_count']<=200]"
   ]
  },
  {
   "cell_type": "code",
   "execution_count": 359,
   "metadata": {},
   "outputs": [
    {
     "data": {
      "text/plain": [
       "82     https://mp.weixin.qq.com/s/eECI1S8obg-Vx11xTjggoA\n",
       "106    https://mp.weixin.qq.com/s/iWJ6omQpWP3YwGkjPANq-Q\n",
       "Name: url, dtype: object"
      ]
     },
     "execution_count": 359,
     "metadata": {},
     "output_type": "execute_result"
    }
   ],
   "source": [
    "Content['url'][Content['content_count']<=200]"
   ]
  },
  {
   "cell_type": "code",
   "execution_count": 360,
   "metadata": {},
   "outputs": [
    {
     "data": {
      "text/plain": [
       "82     [https://mmbiz.qpic.cn/mmbiz_png/BYrdA1oTajvhU...\n",
       "106                                                   []\n",
       "Name: images, dtype: object"
      ]
     },
     "execution_count": 360,
     "metadata": {},
     "output_type": "execute_result"
    }
   ],
   "source": [
    "Content['images'][Content['content_count']<=200]"
   ]
  },
  {
   "cell_type": "code",
   "execution_count": 511,
   "metadata": {},
   "outputs": [
    {
     "data": {
      "text/plain": [
       "['https://mmbiz.qpic.cn/mmbiz_png/BYrdA1oTajvhUpibBYmN6f1iaOk23p2u6lJqbDnfOeS5Qz5hQk2dHzy6xlH5rXcQe2DD2x5xOOEBU0sWrZPw46eQ/640?wx_fmt=png',\n",
       " 'https://mmbiz.qpic.cn/mmbiz_png/7QRTvkK2qC7H2bowpqCQLXiczqD2rfB49Avt1ucibvLB4q9MAuuhkvWv8hKVicVV1LEWTpLjIPm2yK65AmQiaX2OnA/640?wx_fmt=png',\n",
       " 'https://mmbiz.qpic.cn/mmbiz_png/Fiaow3ib2DfKvjEjp6VAyylN1lUx4TwCibibvvYJKwNwwvztZXXL0oEGIqXhgAYGLtrcNHxY15xoWV1b6dBXh1gNCg/640?wx_fmt=png',\n",
       " 'https://mmbiz.qpic.cn/mmbiz_png/Fiaow3ib2DfKvjEjp6VAyylN1lUx4TwCibib4Ie2tAOFtQ37YiaiaqUpXZsjFRXCiaIZ7Ab4h3eTb2ibick7D2PRbo5E9Ww/640?wx_fmt=png',\n",
       " 'https://mmbiz.qpic.cn/mmbiz_png/Fiaow3ib2DfKvjEjp6VAyylN1lUx4TwCibibCDF92jPial4zmWT2ksIStJyicRnohMc2IhVpf7TAVpFVt8wwq8gBIENA/640?wx_fmt=png',\n",
       " 'https://mmbiz.qpic.cn/mmbiz_png/7QRTvkK2qC7H2bowpqCQLXiczqD2rfB49Avt1ucibvLB4q9MAuuhkvWv8hKVicVV1LEWTpLjIPm2yK65AmQiaX2OnA/640?wx_fmt=png',\n",
       " 'https://mmbiz.qpic.cn/mmbiz_png/7QRTvkK2qC7H2bowpqCQLXiczqD2rfB49bSNhOf9PA60W96RTC7krIFR6Euia8W6U7d4CWuiaG0DQ22ibS0gd4LTaQ/640?wx_fmt=png',\n",
       " 'https://mmbiz.qpic.cn/mmbiz_jpg/BYrdA1oTajuBqsXFS6XX0kLP9CXhFZA0nh8n7XdDKkgamM1xeNwpXhqqPlmHaGq2fbYibWBsoUVn7wHYvLnibFiaQ/640?wx_fmt=jpeg',\n",
       " 'https://mmbiz.qpic.cn/mmbiz_jpg/BYrdA1oTajuxd8ibSgsXiaBXRtLv0gZkhjx3zuhC1icpMXgGPPib7PChVNmOQVXVLjxRjMp2T0QyTEjwStmqEMnkXw/640?wx_fmt=jpeg']"
      ]
     },
     "execution_count": 511,
     "metadata": {},
     "output_type": "execute_result"
    }
   ],
   "source": [
    "Content['images'][82]"
   ]
  },
  {
   "cell_type": "markdown",
   "metadata": {},
   "source": [
    "# ocr提取图像中的文字并放入df中"
   ]
  },
  {
   "cell_type": "code",
   "execution_count": 367,
   "metadata": {},
   "outputs": [],
   "source": [
    "from aip import AipOcr\n",
    "\n",
    "\"\"\" 你的 APPID AK SK \"\"\"\n",
    "APP_ID = '19684747'\n",
    "API_KEY = 'RwkjgPihwErtP0qAXTDcOtP3'\n",
    "SECRET_KEY = '9j7o3pwXcNZjb3iyLsvk6jCc2GphsV4x'\n",
    "options[\"detect_direction\"] = \"true\"\n",
    "options[\"detect_language\"] = \"true\"\n",
    "options[\"probability\"] = \"true\"\n",
    "client = AipOcr(APP_ID, API_KEY, SECRET_KEY)"
   ]
  },
  {
   "cell_type": "code",
   "execution_count": 368,
   "metadata": {},
   "outputs": [],
   "source": [
    "url = \"https://mmbiz.qpic.cn/mmbiz_png/Fiaow3ib2DfKvjEjp6VAyylN1lUx4TwCibib4Ie2tAOFtQ37YiaiaqUpXZsjFRXCiaIZ7Ab4h3eTb2ibick7D2PRbo5E9Ww/640?wx_fmt=png\"\n",
    "\n",
    "\"\"\" 调用通用文字识别, 图片参数为远程url图片 \"\"\"\n",
    "result = client.basicGeneralUrl(url,options);"
   ]
  },
  {
   "cell_type": "code",
   "execution_count": 363,
   "metadata": {
    "scrolled": false
   },
   "outputs": [
    {
     "name": "stdout",
     "output_type": "stream",
     "text": [
      "海勃湾区新型冠状病毒感染的肺炎确诊患者于1月23日下午\n",
      "16:00时—17:00时左右,到海勃湾区万联生鲜超市购物。患者自\n",
      "驾车到万联生鲜超市,由春天百货旋转门进入,主要停留在二楼\n",
      "零食区,请在上述时间段出入超市的人员及超市员工,立即报告\n",
      "当地防控指挥部,告知自身健康状况、家庭详细地址和联系方式\n",
      "自觉进行居家隔离,自行测量体温。没有发热症状的,居家医学\n",
      "观察不少于14天。如出现发热、乏力、咳嗽等呼吸道症状时,请\n",
      "第一时间拨打0473-2059637、0473-2059639电话或前往乌海市人\n",
      "民医院发热门诊就诊。就医途中,请勿乘坐公共交通工具。\n"
     ]
    }
   ],
   "source": [
    "#将所有的文字都合并到一起\n",
    "for item in result['words_result']:\n",
    "    print(item['words'])"
   ]
  },
  {
   "cell_type": "code",
   "execution_count": 369,
   "metadata": {},
   "outputs": [],
   "source": [
    "def baidu_ocr(APP_ID,API_KEY,SECRET_KEY,url,options):\n",
    "    client = AipOcr(APP_ID, API_KEY, SECRET_KEY)\n",
    "#     url = \"https://mmbiz.qpic.cn/mmbiz_png/Fiaow3ib2DfKvjEjp6VAyylN1lUx4TwCibib4Ie2tAOFtQ37YiaiaqUpXZsjFRXCiaIZ7Ab4h3eTb2ibick7D2PRbo5E9Ww/640?wx_fmt=png\"\n",
    "    \"\"\" 调用通用文字识别, 图片参数为远程url图片 \"\"\"\n",
    "    result = client.basicGeneralUrl(url,options)\n",
    "    #将所有的文字都合并到一起\n",
    "    s = ''\n",
    "    if 'words_result' in result:\n",
    "        for item in result['words_result']:\n",
    "            s += item['words']\n",
    "    return s"
   ]
  },
  {
   "cell_type": "code",
   "execution_count": 382,
   "metadata": {},
   "outputs": [],
   "source": [
    "def str2list(s):\n",
    "    if type(s) == str:\n",
    "        imageslist = s[1:-1].split(\", \")\n",
    "        for i in range(len(imageslist)):\n",
    "            imageslist[i] = imageslist[i][1:-1]\n",
    "    if type(s) == list:\n",
    "        imageslist = s\n",
    "    return imageslist"
   ]
  },
  {
   "cell_type": "code",
   "execution_count": 392,
   "metadata": {},
   "outputs": [],
   "source": [
    "def add_ocr_text(x):\n",
    "    ocr_text = []\n",
    "    img_list = str2list(x)\n",
    "    if img_list != ['']:\n",
    "        for img_url in img_list:\n",
    "            try:\n",
    "                res = baidu_ocr(APP_ID,API_KEY,SECRET_KEY,img_url,options)\n",
    "            except Exception as e :\n",
    "                print (e)\n",
    "            if res != '':\n",
    "                ocr_text.append(res)\n",
    "#             print (img_url,'success')\n",
    "    result = '\\t'.join(ocr_text)\n",
    "    return result"
   ]
  },
  {
   "cell_type": "code",
   "execution_count": 393,
   "metadata": {},
   "outputs": [
    {
     "data": {
      "text/plain": [
       "'抗击疫情庆在行动\\t健康肇庆疫情通报截至2月13日24时:肇庆市累计报告新冠肺炎确诊病例17例。其中:端州区5例,鼎湖2例、高要区3例、四会市1例、广宁县1例、封开县5例。5例鼎湖区2例高要区3例四会市1例广宁县1例德庆县0例封开县5例怀集县0例高新区0例累计出院7例,死亡1例。确诊」重症危重症「治意「死亡g6030鼎湖20o四会市10宁县0德庆县0封开县高新区0疫情通报目前,17例确诊病例年岭介于3岁到65岁之미,其中0-10岁2例,21-30岁5例,31-40岁3例,41-50岁1例,51-60岁2例,61-70岁4列。5例4例3例2例1例0-1011-2021-3031-4041-5051-6061-70\\t防新型冠病者巵的肺炎酸把人民群众生命安全和身体健康放在第一位把疫情防控工作作为当前最重要的工作来抓2疫情就是命令防控就是责任3坚定信心、同舟共济、科学防治、精准施策坚决打嬴疫情防控阻击战4做好疫情监测、排查、预警等工作做到早发现、早报告、早隔离、早治疗5全力遏制疫情扩散蔓延维护人民生命安全和身体健康全省动员全民行动集中力量坚决打赢疫情防控这场硬仗'"
      ]
     },
     "execution_count": 393,
     "metadata": {},
     "output_type": "execute_result"
    }
   ],
   "source": [
    "add_ocr_text(Content['images'][0])"
   ]
  },
  {
   "cell_type": "code",
   "execution_count": 394,
   "metadata": {
    "scrolled": true
   },
   "outputs": [
    {
     "name": "stderr",
     "output_type": "stream",
     "text": [
      "/home/louis/anaconda3/lib/python3.7/site-packages/ipykernel_launcher.py:1: SettingWithCopyWarning: \n",
      "A value is trying to be set on a copy of a slice from a DataFrame.\n",
      "Try using .loc[row_indexer,col_indexer] = value instead\n",
      "\n",
      "See the caveats in the documentation: https://pandas.pydata.org/pandas-docs/stable/user_guide/indexing.html#returning-a-view-versus-a-copy\n",
      "  \"\"\"Entry point for launching an IPython kernel.\n"
     ]
    }
   ],
   "source": [
    "Content['ocr_text'] = Content['images'].apply(lambda x:add_ocr_text(x))"
   ]
  },
  {
   "cell_type": "code",
   "execution_count": 398,
   "metadata": {},
   "outputs": [
    {
     "data": {
      "text/plain": [
       "''"
      ]
     },
     "execution_count": 398,
     "metadata": {},
     "output_type": "execute_result"
    }
   ],
   "source": [
    "Content['ocr_text'][188]"
   ]
  },
  {
   "cell_type": "code",
   "execution_count": 399,
   "metadata": {},
   "outputs": [],
   "source": [
    "a = Content['ocr_text'].apply(lambda x: len(x))"
   ]
  },
  {
   "cell_type": "code",
   "execution_count": 400,
   "metadata": {},
   "outputs": [
    {
     "data": {
      "text/plain": [
       "count     189.000000\n",
       "mean      352.423280\n",
       "std       628.659813\n",
       "min         0.000000\n",
       "25%         0.000000\n",
       "50%       112.000000\n",
       "75%       476.000000\n",
       "max      5673.000000\n",
       "Name: ocr_text, dtype: float64"
      ]
     },
     "execution_count": 400,
     "metadata": {},
     "output_type": "execute_result"
    }
   ],
   "source": [
    "a.describe()"
   ]
  },
  {
   "cell_type": "code",
   "execution_count": 401,
   "metadata": {},
   "outputs": [
    {
     "data": {
      "text/plain": [
       "[<matplotlib.lines.Line2D at 0x7f0874274550>]"
      ]
     },
     "execution_count": 401,
     "metadata": {},
     "output_type": "execute_result"
    },
    {
     "data": {
      "image/png": "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\n",
      "text/plain": [
       "<Figure size 432x288 with 1 Axes>"
      ]
     },
     "metadata": {
      "needs_background": "light"
     },
     "output_type": "display_data"
    }
   ],
   "source": [
    "plt.plot(a)"
   ]
  },
  {
   "cell_type": "code",
   "execution_count": 206,
   "metadata": {},
   "outputs": [
    {
     "data": {
      "text/plain": [
       "'https://mp.weixin.qq.com/s/Hdz-Q-3Eig8VGsZJwzTNow'"
      ]
     },
     "execution_count": 206,
     "metadata": {},
     "output_type": "execute_result"
    }
   ],
   "source": [
    "Content['url'][99]"
   ]
  },
  {
   "cell_type": "code",
   "execution_count": 402,
   "metadata": {},
   "outputs": [],
   "source": [
    "Content.to_csv('./content_withOCR_05011836.csv')"
   ]
  },
  {
   "cell_type": "code",
   "execution_count": 403,
   "metadata": {},
   "outputs": [
    {
     "data": {
      "text/html": [
       "<div>\n",
       "<style scoped>\n",
       "    .dataframe tbody tr th:only-of-type {\n",
       "        vertical-align: middle;\n",
       "    }\n",
       "\n",
       "    .dataframe tbody tr th {\n",
       "        vertical-align: top;\n",
       "    }\n",
       "\n",
       "    .dataframe thead th {\n",
       "        text-align: right;\n",
       "    }\n",
       "</style>\n",
       "<table border=\"1\" class=\"dataframe\">\n",
       "  <thead>\n",
       "    <tr style=\"text-align: right;\">\n",
       "      <th></th>\n",
       "      <th>url</th>\n",
       "      <th>content</th>\n",
       "      <th>sname</th>\n",
       "      <th>images</th>\n",
       "      <th>methods</th>\n",
       "      <th>content_count</th>\n",
       "      <th>ocr_text</th>\n",
       "    </tr>\n",
       "  </thead>\n",
       "  <tbody>\n",
       "    <tr>\n",
       "      <th>0</th>\n",
       "      <td>https://mp.weixin.qq.com/s/HTsNM1zxEAx3IqoF1uYnYA</td>\n",
       "      <td>\\n最新消息2月14日上午，省卫健委公布2月13日0－24时肇庆市新增1例新冠肺炎确诊病例。...</td>\n",
       "      <td>健康肇庆</td>\n",
       "      <td>[https://mmbiz.qpic.cn/mmbiz_jpg/z2KVp01hujFYO...</td>\n",
       "      <td>template</td>\n",
       "      <td>4495</td>\n",
       "      <td>抗击疫情庆在行动\\t健康肇庆疫情通报截至2月13日24时:肇庆市累计报告新冠肺炎确诊病例17...</td>\n",
       "    </tr>\n",
       "    <tr>\n",
       "      <th>1</th>\n",
       "      <td>http://hc.nc.gov.cn/ncwjw/gzdt/202002/b5cf8972...</td>\n",
       "      <td>2020年\\n2\\n月\\n1日，江西省卫生健康委发布疫情通报，2020年1月31日0-24时...</td>\n",
       "      <td>南昌市卫生健康委员会</td>\n",
       "      <td>[http://hc.nc.gov.cn/default/images/icon16/xls...</td>\n",
       "      <td>GNE</td>\n",
       "      <td>369</td>\n",
       "      <td></td>\n",
       "    </tr>\n",
       "    <tr>\n",
       "      <th>2</th>\n",
       "      <td>http://m.ha.bendibao.com/mip/1636.shtm</td>\n",
       "      <td>更新时间：2020年2月11日24时\\n1、男，49岁，现住淮安经济技术开发区大湖城邦小区，...</td>\n",
       "      <td>bendibao.com</td>\n",
       "      <td>[http://imgbdb3.bendibao.com/habdb/news/20202/...</td>\n",
       "      <td>diffbot</td>\n",
       "      <td>628</td>\n",
       "      <td>く9淮安本地宝肺炎市地宝【新型冠状病毒准安武汉加油!中国加油最新消息怎么预防传播途径发热门诊...</td>\n",
       "    </tr>\n",
       "    <tr>\n",
       "      <th>3</th>\n",
       "      <td>http://news.gxnews.com.cn/staticpages/20200209...</td>\n",
       "      <td>2020年2月8日河池市新冠肺炎疫情情况\\n2020年2月9日上午，广西壮族自治区卫生健康委...</td>\n",
       "      <td>2月8日广西新增确诊病例12例 新增死亡病例1例</td>\n",
       "      <td>[]</td>\n",
       "      <td>GNE</td>\n",
       "      <td>1147</td>\n",
       "      <td></td>\n",
       "    </tr>\n",
       "    <tr>\n",
       "      <th>4</th>\n",
       "      <td>http://o.xiancity.cn/system/2020/02/09/0307133...</td>\n",
       "      <td>西安网讯：周至县疫情防控指挥部今日发布寻人通告：\\n一、西安市周至县的一名新型冠状病毒感染的...</td>\n",
       "      <td>xiancity.cn</td>\n",
       "      <td>[]</td>\n",
       "      <td>diffbot</td>\n",
       "      <td>747</td>\n",
       "      <td></td>\n",
       "    </tr>\n",
       "    <tr>\n",
       "      <th>...</th>\n",
       "      <td>...</td>\n",
       "      <td>...</td>\n",
       "      <td>...</td>\n",
       "      <td>...</td>\n",
       "      <td>...</td>\n",
       "      <td>...</td>\n",
       "      <td>...</td>\n",
       "    </tr>\n",
       "    <tr>\n",
       "      <th>184</th>\n",
       "      <td>http://wjw.shanxi.gov.cn/wjywl02/24757.hrh</td>\n",
       "      <td>病例1：男，24岁，现住址为临汾市吉县荣辰佳苑。\\n2020年1月22日下午，在太原市乘坐8...</td>\n",
       "      <td>山西省卫生健康委员会网站</td>\n",
       "      <td>[]</td>\n",
       "      <td>GNE</td>\n",
       "      <td>1093</td>\n",
       "      <td></td>\n",
       "    </tr>\n",
       "    <tr>\n",
       "      <th>185</th>\n",
       "      <td>http://wjw.shanxi.gov.cn/wjywl02/24774.hrh</td>\n",
       "      <td>病例1：女，44岁，现住址为平遥县杜家庄乡苏家堡村，长期在武汉白马商场销售服装。\\n2020...</td>\n",
       "      <td>shanxi.gov.cn</td>\n",
       "      <td>[]</td>\n",
       "      <td>diffbot</td>\n",
       "      <td>1142</td>\n",
       "      <td></td>\n",
       "    </tr>\n",
       "    <tr>\n",
       "      <th>186</th>\n",
       "      <td>https://www.sg.gov.cn/xw/ztjj/yqfkyz/zxyq/cont...</td>\n",
       "      <td>2月2日我市新确诊1例新型冠状病毒感染的肺炎病例，为浈江区59岁女性患者，有与武汉来韶人员接...</td>\n",
       "      <td>sg.gov.cn</td>\n",
       "      <td>[]</td>\n",
       "      <td>diffbot</td>\n",
       "      <td>343</td>\n",
       "      <td></td>\n",
       "    </tr>\n",
       "    <tr>\n",
       "      <th>187</th>\n",
       "      <td>https://www.sg.gov.cn/xw/ztjj/yqfkyz/zxyq/cont...</td>\n",
       "      <td>2月4日我市新确诊1例新型冠状病毒感染的肺炎病例，该确诊病例为女性，31岁，为我市第二例确诊...</td>\n",
       "      <td>sg.gov.cn</td>\n",
       "      <td>[]</td>\n",
       "      <td>diffbot</td>\n",
       "      <td>463</td>\n",
       "      <td></td>\n",
       "    </tr>\n",
       "    <tr>\n",
       "      <th>188</th>\n",
       "      <td>https://www.sg.gov.cn/xw/ztjj/yqfkyz/zxyq/cont...</td>\n",
       "      <td>2月13日，广东省卫生健康委确认，我市新确诊1例新型冠状病毒感染的肺炎病例，该病例为男性，2...</td>\n",
       "      <td>sg.gov.cn</td>\n",
       "      <td>[]</td>\n",
       "      <td>diffbot</td>\n",
       "      <td>519</td>\n",
       "      <td></td>\n",
       "    </tr>\n",
       "  </tbody>\n",
       "</table>\n",
       "<p>189 rows × 7 columns</p>\n",
       "</div>"
      ],
      "text/plain": [
       "                                                   url  \\\n",
       "0    https://mp.weixin.qq.com/s/HTsNM1zxEAx3IqoF1uYnYA   \n",
       "1    http://hc.nc.gov.cn/ncwjw/gzdt/202002/b5cf8972...   \n",
       "2               http://m.ha.bendibao.com/mip/1636.shtm   \n",
       "3    http://news.gxnews.com.cn/staticpages/20200209...   \n",
       "4    http://o.xiancity.cn/system/2020/02/09/0307133...   \n",
       "..                                                 ...   \n",
       "184         http://wjw.shanxi.gov.cn/wjywl02/24757.hrh   \n",
       "185         http://wjw.shanxi.gov.cn/wjywl02/24774.hrh   \n",
       "186  https://www.sg.gov.cn/xw/ztjj/yqfkyz/zxyq/cont...   \n",
       "187  https://www.sg.gov.cn/xw/ztjj/yqfkyz/zxyq/cont...   \n",
       "188  https://www.sg.gov.cn/xw/ztjj/yqfkyz/zxyq/cont...   \n",
       "\n",
       "                                               content  \\\n",
       "0    \\n最新消息2月14日上午，省卫健委公布2月13日0－24时肇庆市新增1例新冠肺炎确诊病例。...   \n",
       "1    2020年\\n2\\n月\\n1日，江西省卫生健康委发布疫情通报，2020年1月31日0-24时...   \n",
       "2    更新时间：2020年2月11日24时\\n1、男，49岁，现住淮安经济技术开发区大湖城邦小区，...   \n",
       "3    2020年2月8日河池市新冠肺炎疫情情况\\n2020年2月9日上午，广西壮族自治区卫生健康委...   \n",
       "4    西安网讯：周至县疫情防控指挥部今日发布寻人通告：\\n一、西安市周至县的一名新型冠状病毒感染的...   \n",
       "..                                                 ...   \n",
       "184  病例1：男，24岁，现住址为临汾市吉县荣辰佳苑。\\n2020年1月22日下午，在太原市乘坐8...   \n",
       "185  病例1：女，44岁，现住址为平遥县杜家庄乡苏家堡村，长期在武汉白马商场销售服装。\\n2020...   \n",
       "186  2月2日我市新确诊1例新型冠状病毒感染的肺炎病例，为浈江区59岁女性患者，有与武汉来韶人员接...   \n",
       "187  2月4日我市新确诊1例新型冠状病毒感染的肺炎病例，该确诊病例为女性，31岁，为我市第二例确诊...   \n",
       "188  2月13日，广东省卫生健康委确认，我市新确诊1例新型冠状病毒感染的肺炎病例，该病例为男性，2...   \n",
       "\n",
       "                        sname  \\\n",
       "0                        健康肇庆   \n",
       "1                  南昌市卫生健康委员会   \n",
       "2                bendibao.com   \n",
       "3    2月8日广西新增确诊病例12例 新增死亡病例1例   \n",
       "4                 xiancity.cn   \n",
       "..                        ...   \n",
       "184              山西省卫生健康委员会网站   \n",
       "185             shanxi.gov.cn   \n",
       "186                 sg.gov.cn   \n",
       "187                 sg.gov.cn   \n",
       "188                 sg.gov.cn   \n",
       "\n",
       "                                                images   methods  \\\n",
       "0    [https://mmbiz.qpic.cn/mmbiz_jpg/z2KVp01hujFYO...  template   \n",
       "1    [http://hc.nc.gov.cn/default/images/icon16/xls...       GNE   \n",
       "2    [http://imgbdb3.bendibao.com/habdb/news/20202/...   diffbot   \n",
       "3                                                   []       GNE   \n",
       "4                                                   []   diffbot   \n",
       "..                                                 ...       ...   \n",
       "184                                                 []       GNE   \n",
       "185                                                 []   diffbot   \n",
       "186                                                 []   diffbot   \n",
       "187                                                 []   diffbot   \n",
       "188                                                 []   diffbot   \n",
       "\n",
       "     content_count                                           ocr_text  \n",
       "0             4495  抗击疫情庆在行动\\t健康肇庆疫情通报截至2月13日24时:肇庆市累计报告新冠肺炎确诊病例17...  \n",
       "1              369                                                     \n",
       "2              628  く9淮安本地宝肺炎市地宝【新型冠状病毒准安武汉加油!中国加油最新消息怎么预防传播途径发热门诊...  \n",
       "3             1147                                                     \n",
       "4              747                                                     \n",
       "..             ...                                                ...  \n",
       "184           1093                                                     \n",
       "185           1142                                                     \n",
       "186            343                                                     \n",
       "187            463                                                     \n",
       "188            519                                                     \n",
       "\n",
       "[189 rows x 7 columns]"
      ]
     },
     "execution_count": 403,
     "metadata": {},
     "output_type": "execute_result"
    }
   ],
   "source": [
    "Content"
   ]
  },
  {
   "cell_type": "code",
   "execution_count": 408,
   "metadata": {},
   "outputs": [
    {
     "data": {
      "text/plain": [
       "0      \\n最新消息2月14日上午，省卫健委公布2月13日0－24时肇庆市新增1例新冠肺炎确诊病例。...\n",
       "1      2020年\\n2\\n月\\n1日，江西省卫生健康委发布疫情通报，2020年1月31日0-24时...\n",
       "2      更新时间：2020年2月11日24时\\n1、男，49岁，现住淮安经济技术开发区大湖城邦小区，...\n",
       "3      2020年2月8日河池市新冠肺炎疫情情况\\n2020年2月9日上午，广西壮族自治区卫生健康委...\n",
       "4      西安网讯：周至县疫情防控指挥部今日发布寻人通告：\\n一、西安市周至县的一名新型冠状病毒感染的...\n",
       "                             ...                        \n",
       "184    病例1：男，24岁，现住址为临汾市吉县荣辰佳苑。\\n2020年1月22日下午，在太原市乘坐8...\n",
       "185    病例1：女，44岁，现住址为平遥县杜家庄乡苏家堡村，长期在武汉白马商场销售服装。\\n2020...\n",
       "186    2月2日我市新确诊1例新型冠状病毒感染的肺炎病例，为浈江区59岁女性患者，有与武汉来韶人员接...\n",
       "187    2月4日我市新确诊1例新型冠状病毒感染的肺炎病例，该确诊病例为女性，31岁，为我市第二例确诊...\n",
       "188    2月13日，广东省卫生健康委确认，我市新确诊1例新型冠状病毒感染的肺炎病例，该病例为男性，2...\n",
       "Name: content, Length: 189, dtype: object"
      ]
     },
     "execution_count": 408,
     "metadata": {},
     "output_type": "execute_result"
    }
   ],
   "source": [
    "Content['content']"
   ]
  },
  {
   "cell_type": "code",
   "execution_count": 411,
   "metadata": {},
   "outputs": [
    {
     "name": "stdout",
     "output_type": "stream",
     "text": [
      "2月11日24时健康\n",
      "生健康委确认，我市新月9\r"
     ]
    }
   ],
   "source": [
    "for i in range(189):\n",
    "    sleep(0.2)\n",
    "    print (Content['content'][i][10:20],end='\\r')"
   ]
  }
 ],
 "metadata": {
  "kernelspec": {
   "display_name": "Python 3",
   "language": "python",
   "name": "python3"
  },
  "language_info": {
   "codemirror_mode": {
    "name": "ipython",
    "version": 3
   },
   "file_extension": ".py",
   "mimetype": "text/x-python",
   "name": "python",
   "nbconvert_exporter": "python",
   "pygments_lexer": "ipython3",
   "version": "3.7.6"
  }
 },
 "nbformat": 4,
 "nbformat_minor": 4
}
>>>>>>> bd7af4430519286cec8f8265c658c57e3a61fa56
