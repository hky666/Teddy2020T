{
 "cells": [
  {
   "cell_type": "markdown",
   "metadata": {},
   "source": [
    "# i am ok"
   ]
  },
  {
   "cell_type": "code",
   "execution_count": 11,
   "metadata": {},
   "outputs": [],
   "source": [
    "import requests"
   ]
  },
  {
   "cell_type": "code",
   "execution_count": 12,
   "metadata": {},
   "outputs": [],
   "source": [
    "url = \"https://sso.scut.edu.cn/cas/login?service=https%3A%2F%2Fiamok.scut.edu.cn%2Fcas%2Flogin\""
   ]
  },
  {
   "cell_type": "code",
   "execution_count": 17,
   "metadata": {},
   "outputs": [],
   "source": [
    "data = {\"rsa\": \"C474348CD68B1DF4601B4CFE48C0E1B0DAEFF866BBD7A905D5D2B52D798CAC5CCCA8EA4B708601A51F4ED2A494C1D5D860EAD5A712BE7F0101D7133B4648F53EF73BA52C3D4A7F00DC7B9B126F274F53FDB189F92717DAD5A401A915E2C816DA751239E8AA36881B9F8F9FA2448FE6C8A75DF89F923B2679E83603F0D06A3A929A216BCFE6054686\"\n",
    ",\"ul\": \"12\",\n",
    "\"pl\": \"10\",\n",
    "\"lt\": \"LT-430300-m1PWW1ddoi0aKzXBpfBGFC5edxhHlv-cas\",\n",
    "\"execution\": \"e5s1\",\n",
    "\"_eventId\": \"submit\"}"
   ]
  },
  {
   "cell_type": "code",
   "execution_count": 24,
   "metadata": {},
   "outputs": [],
   "source": [
    "headers={\"Accept\":\"text/html,application/xhtml+xml,application/xml;q=0.9,image/webp,image/apng,*/*;q=0.8,application/signed-exchange;v=b3;q=0.9\",\n",
    "         \"Accept-Encoding\":\"gzip, deflate, br\"\n",
    ",\"Accept-Language\":\"zh-CN,zh;q=0.9,en;q=0.8,en-GB;q=0.7,en-US;q=0.6\"\n",
    ",\"Cache-Control\":\"max-age=0\"\n",
    ",\"Connection\":\"keep-alive\"\n",
    ",\"Content-Length\":\"367\"\n",
    ",\"Content-Type\":\"application/x-www-form-urlencoded\"\n",
    ",\"Cookie\":\"JSESSIONID=13A60E23932EB935817022ECCF12554B; Language=zh_CN; clwz_blc_pst_SSO=79767242.38943\"\n",
    ",\"Host\":\"sso.scut.edu.cn\"\n",
    ",\"Origin\":\"https://sso.scut.edu.cn\"\n",
    ",\"Referer\":\"https://sso.scut.edu.cn/cas/login?service=https%3A%2F%2Fiamok.scut.edu.cn%2Fcas%2Flogin\"\n",
    "# ,\"Sec-Fetch-Dest\":\"document\"\n",
    "# ,\"Sec-Fetch-Mode\":\"navigate\"\n",
    "# ,\"Sec-Fetch-Site\":\" same-origin\"\n",
    "# ,\"Sec-Fetch-User\":\"?1\"\n",
    ",\"Upgrade-Insecure-Requests\":\"1\"\n",
    ",\"User-Agent\":\"Mozilla/5.0 (Windows NT 10.0; Win64; x64) AppleWebKit/537.36 (KHTML, like Gecko) Chrome/84.0.4121.0 Safari/537.36 Edg/84.0.495.0\"}"
   ]
  },
  {
   "cell_type": "code",
   "execution_count": 25,
   "metadata": {},
   "outputs": [],
   "source": [
    "r = requests.post(url,headers=headers,json=data)"
   ]
  },
  {
   "cell_type": "code",
   "execution_count": 26,
   "metadata": {},
   "outputs": [
    {
     "data": {
      "text/plain": [
       "<Response [200]>"
      ]
     },
     "execution_count": 26,
     "metadata": {},
     "output_type": "execute_result"
    }
   ],
   "source": [
    "r"
   ]
  },
  {
   "cell_type": "code",
   "execution_count": 39,
   "metadata": {},
   "outputs": [],
   "source": [
    "submit = 'https://iamok.scut.edu.cn/mobile/recordPerDay/submitRecordPerDay'"
   ]
  },
  {
   "cell_type": "code",
   "execution_count": 32,
   "metadata": {},
   "outputs": [],
   "source": [
    "headers2={\"Accept\":\"application/json, text/plain, */*\",\"Accept-Encoding\":\"gzip, deflate, br\"\n",
    ",\"Accept-Language\":\"zh-CN,zh;q=0.9,en;q=0.8,en-GB;q=0.7,en-US;q=0.6\"\n",
    ",\"Cache-Control\":\"max-age=0\"\n",
    ",\"Connection\":\"keep-alive\"\n",
    ",\"Content-Length\":\"2678\"\n",
    ",\"Content-Type\":\"application/json;charset=UTF-8\"\n",
    ",\"Cookie\":\"JSESSIONID=A1CDD4BD537E6C1E220D34A4093B70B5; clwz_blc_pst_IamOK=3959754974.20480; code=0ff1652e-948d-4120-9c68-47055bdc00c3\"\n",
    ",\"Host\":\"iamok.scut.edu.cn\"\n",
    ",\"Origin\":\"https://iamok.scut.edu.cn\"\n",
    ",\"Referer\":\"https://iamok.scut.edu.cn/iamok/web/mobile/index.html\"\n",
    "# ,\"Sec-Fetch-Dest\":\"document\"\n",
    "# ,\"Sec-Fetch-Mode\":\"navigate\"\n",
    "# ,\"Sec-Fetch-Site\":\" same-origin\"\n",
    "# ,\"Sec-Fetch-User\":\"?1\"\n",
    "# ,\"Upgrade-Insecure-Requests\":\"1\"\n",
    ",\"Sec-Fetch-Dest\": \"empty\"\n",
    "\"Sec-Fetch-Mode\": \"cors\"\n",
    "\"Sec-Fetch-Site\": \"same-origin\"\n",
    ",\"User-Agent\":\"Mozilla/5.0 (Windows NT 10.0; Win64; x64) AppleWebKit/537.36 (KHTML, like Gecko) Chrome/84.0.4121.0 Safari/537.36 Edg/84.0.495.0\"}"
   ]
  },
  {
   "cell_type": "code",
   "execution_count": 36,
   "metadata": {},
   "outputs": [],
   "source": [
    "data2={\"academy\":\"软件学院\",\"account\":\"201830220372\",\"building\":\"C10\",\"campus\":\"大学城校区\",\"clazz\":\"18软件工程1班\",\"currentAddress\":\"西乡街道龙腾社区翠景花园\",\"currentCity\":\"深圳市\",\"currentCounty\":\"宝安区\",\"currentHealthStatusSymptom\":\"正常\",\"currentProvince\":\"广东省\",\"gender\":\"男\",\"grade\":\"2018\",\"hasGoneToHubei\":\"否\",\"hasPassByWuhang\":\"否\",\"hasPassByWenzhou\":\"NULL\",\"passByWenzhouDate\":\"null\",\"passByWenzhouVihicle\":\"null\",\"beenToEpidemicAreaLeftDate\":\"null\",\"beenToEpidemicAreaLeftProvince\":\"\",\"beenToEpidemicAreaLeftCity\":\"\",\"isBeenToEpidemicAreaWenzhou\":\"null\",\"beenToEpidemicAreaWenzhouLeftDate\":\"null\",\"beenToEpidemicAreaWenzhouLeftProvince\":\"null\",\"beenToEpidemicAreaWenzhouLeftCity\":\"null\",\"homeAddress\":\"西乡街道龙腾社区翠景花园7栋\",\"homeCity\":\"深圳市\",\"homeCounty\":\"宝安区\",\"homeProvince\":\"广东省\",\"identity\":\"本科生\",\"inHubeiToHubeiDate\":\"1580876215656\",\"inHubeiToHubeiVihicle\":\"null\",\"isGangAoTai\":\"否\",\"isOverseasStudent\":\"否\",\"major\":\"软件工程\",\"name\":\"刘奕鑫\",\"notInHubeiToHubeiDate\":\"null\",\"notInHubeiToHubeiVihicle\":\"\",\"parentPhoneNumber\":\"13691952786\",\"passByWuhangDate\":\"null\",\"passByWuhangVihicle\":\"\",\"phoneNumber\":\"19927522401\",\"recordDate\":\"1588089600000\",\"room\":\"625\",\"schoolNumber\":\"201830220372\",\"isVisitingRelativesOrTravelToWenzhou\":\"null\",\"visitingRelativesOrTravelToWenzhouDate\":\"1588089600000\",\"visitingRelativesOrTravelToWenzhouVihicle\":\"null\",\"isBeenToEpidemicArea\":\"否\",\"isContactWithEpidemicAreaHealthyPerson\":\"否\",\"isContactWithEpidemicAreaSuspectedOrPatient\":\"否\",\"currentHealthStatusSymptomDate\":\"null\",\"currentHealthStatusAddressProvince\":\"\",\"currentHealthStatusAddressCity\":\"\",\"currentHealthStatusAddressCounty\":\"\",\"currentHealthStatusAddressDetail\":\"\",\"currentHealthStatusSymptomOtherDescription\":\"\",\"familyCurrentHealthStatusSymptom\":\"正常\",\"familyCurrentHealthStatusSymptomDate\":\"null\",\"familyCurrentHealthStatusAddressProvince\":\"\",\"familyCurrentHealthStatusAddressCity\":\"\",\"familyCurrentHealthStatusAddressCounty\":\"\",\"familyCurrentHealthStatusAddressDetail\":\"\",\"familyCurrentHealthStatusSymptomOtherDescription\":\"\",\"isBeenToEpidemicAreaAbroad\":\"否\",\"isBeenToEpidemicAreaAbroadLeft\":\"null\",\"beenToEpidemicAreaAbroadLeftDate\":\"null\",\"beenToEpidemicAreaAbroadLeftProvince\":\"\",\"beenToEpidemicAreaAbroadLeftCity\":\"\",\"isContactWithEpidemicAreaAbroadHealthyPerson\":\"否\",\"isRecordChanged\":\"false\",\"id\":\"3183777\",\"createTime\":\"1588004098000\",\"updateTime\":\"1588135112000\",\"degreeCategory\":\"null\",\"remark\":\"null\",\"idCardNumber\":\"445221199909104515\",\"teacherStatus\":\"null\",\"recordShowDate\":\"1588089600000\",\"submitDate\":\"1588135111825\",\"isSubmit\":\"true\",\"submitAdminAccount\":\"null\",\"submitAdminSchoolNumber\":\"null\",\"important\":\"false\"}"
   ]
  },
  {
   "cell_type": "code",
   "execution_count": 37,
   "metadata": {},
   "outputs": [],
   "source": [
    "r = requests.post(submit,headers=headers,json=data2)"
   ]
  },
  {
   "cell_type": "code",
   "execution_count": 38,
   "metadata": {},
   "outputs": [
    {
     "data": {
      "text/plain": [
       "<Response [404]>"
      ]
     },
     "execution_count": 38,
     "metadata": {},
     "output_type": "execute_result"
    }
   ],
   "source": [
    "r"
   ]
  },
  {
   "cell_type": "code",
   "execution_count": null,
   "metadata": {},
   "outputs": [],
   "source": []
  }
 ],
 "metadata": {
  "kernelspec": {
   "display_name": "Python 3",
   "language": "python",
   "name": "python3"
  },
  "language_info": {
   "codemirror_mode": {
    "name": "ipython",
    "version": 3
   },
   "file_extension": ".py",
   "mimetype": "text/x-python",
   "name": "python",
   "nbconvert_exporter": "python",
   "pygments_lexer": "ipython3",
   "version": "3.7.4"
  }
 },
 "nbformat": 4,
 "nbformat_minor": 2
}
