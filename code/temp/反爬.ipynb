{
 "cells": [
  {
   "cell_type": "markdown",
   "metadata": {},
   "source": [
    "# 解决微博反爬的问题- 待完善"
   ]
  },
  {
   "cell_type": "code",
   "execution_count": null,
   "metadata": {},
   "outputs": [],
   "source": [
    "# 1.访问 genvisitor 获取一个tid.\n",
    "get_tid_url = 'https://passport.weibo.com/visitor/genvisitor'\n",
    "data = {}\n",
    "data['cb']='gen_callback'\n",
    "data['fp']={\"os\":\"1\",\"browser\":\"Chrome84,0,4121,0\",\"fonts\":\"undefined\",\"screenInfo\":\"1536*864*24\",\"plugins\":\"Portable Document Format::internal-pdf-viewer::Microsoft Edge PDF Plugin|::mhjfbmdgcfjbbpaeojofohoefgiehjai::Microsoft Edge PDF Viewer|::internal-nacl-plugin::Native Client\"}\n",
    "req = requests.post(get_tid_url,data)\n",
    "text = req.text\n",
    "st = re.search('tid',text,flags=0).span()[1] + 3 \n",
    "en = re.search('new_tid',text,flags=0).span()[0] -3\n",
    "tid = text[st:en]"
   ]
  },
  {
   "cell_type": "code",
   "execution_count": null,
   "metadata": {},
   "outputs": [],
   "source": [
    "# 2.用tid 先获取一个 cookie，同时得到2个参数 sub subp。\n",
    "get_1 = 'https://passport.weibo.com/visitor/visitor?a=incarnate&t='+tid+'&c=095&gc=&cb=cross_domain&from=weibo&_rand='+str(random())\n",
    "r = requests.get(get_1)\n",
    "sub = re.search(r\"(?<=sub\\\":\\\").+?(?=\\\",\\\")\",r.text).group(0)\n",
    "subp = re.search(r\"(?<=subp\\\":\\\").+?(?=\\\"}})\",r.text).group(0)\n",
    "\n",
    "\n",
    "# 3.带着获得的cookie，和sub subp 2个参数 获得第二个cookie。\n",
    "get_2= 'https://login.sina.com.cn/visitor/visitor?a=crossdomain&cb=return_back&s='+sub+'&sp='+subp+'&from=weibo&_rand='+str(random())\n",
    "r = requests.get(get_2,cookies= r.cookies)\n",
    "\n",
    "cookies = r.cookies.get_dict()\n",
    "\n",
    "weibo_vistor_cookies = json.dumps(cookies)\n",
    "\n",
    "# 4.最后用第二个cookie访问要抓取的页面。\n",
    "url = 'https://weibo.com/7129811001/ItKAzr93p?from=page_1002067129811001_profile&wvr=6&mod=weibotime&type=comment#_rnd1587887060793'\n",
    "\n",
    "header = {'Accept': 'text/html,application/xhtml+xml,application/xml;q=0.9,image/webp,image/apng,*/*;q=0.8,application/signed-exchange;v=b3;q=0.9',\n",
    "'User-Agent': 'Mozilla/5.0 (Windows NT 10.0; Win64; x64) AppleWebKit/537.36 (KHTML, like Gecko) Chrome/84.0.4121.0 Safari/537.36 Edg/84.0.495.0',\n",
    "'Accept': 'text/html,application/xhtml+xml,application/xml;q=0.9,*/*;q=0.8',\n",
    "'Accept-Language': 'zh-CN,zh;q=0.8,en-US;q=0.5,en;q=0.3',\n",
    "'Accept-Encoding': 'gzip, deflate, br',\n",
    "'Connection': 'keep-alive','Host': 'weibo.com','Referer':'https://passport.weibo.com/','Sec-Fetch-Dest':'document','Sec-Fetch-Mode':'navigate',\n",
    "          'Sec-Fetch-Site':'same-site','Upgrade-Insecure-Requests':1,'Cookie':'YF-Page-G0=02467fca7cf40a590c28b8459d93fb95|1587895531|1587895531; SUB=_2AkMp-dPZf8NxqwJRmfgXyW_ra4pwyg_EieKfpSICJRMxHRl-yT9kqkoctRB6Ann9Nm-aYce8TaQbCen7dh5n89KtmgCX; SUBP=0033WrSXqPxfM72-Ws9jqgMF55529P9D9WFZA4RxgaQVJ-ozRFCUhkRF'\n",
    "# from requests.cookies import RequestsCookieJar\n",
    "# cookie_jar = RequestsCookieJar(weibo_vistor_cookies)\n",
    "r = requests.get(url)\n",
    "r.encoding=\"utf-8\"\n",
    "html = r.text\n",
    "\n",
    "\n",
    "# # 去html的css和脚本\n",
    "# soup = BeautifulSoup(html, features=\"html.parser\")\n",
    "# for script in soup([\"script\", \"style\"]):\n",
    "#     script.decompose()\n",
    "# text = soup.get_text()\n",
    "\n",
    "\n",
    "          \n",
    "# 5.简单打印处结果\n",
    "print(html)\n",
    "\n",
    "          "
   ]
  }
 ],
 "metadata": {
  "kernelspec": {
   "display_name": "Python 3",
   "language": "python",
   "name": "python3"
  },
  "language_info": {
   "codemirror_mode": {
    "name": "ipython",
    "version": 3
   },
   "file_extension": ".py",
   "mimetype": "text/x-python",
   "name": "python",
   "nbconvert_exporter": "python",
   "pygments_lexer": "ipython3",
   "version": "3.7.6"
  }
 },
 "nbformat": 4,
 "nbformat_minor": 2
}
