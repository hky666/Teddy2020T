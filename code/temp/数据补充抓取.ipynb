{
 "cells": [
  {
   "cell_type": "markdown",
   "metadata": {},
   "source": [
    "# 包"
   ]
  },
  {
   "cell_type": "code",
   "execution_count": 4,
   "metadata": {},
   "outputs": [],
   "source": [
    "import requests\n",
    "from bs4 import BeautifulSoup\n",
    "import re\n",
    "import matplotlib.pyplot as plt\n",
    "import numpy as np\n",
    "import matplotlib as mpl\n",
    "mpl.rcParams[\"font.sans-serif\"]=[\"SimHei\"]\n",
    "mpl.rcParams[\"axes.unicode_minus\"]=False\n",
    "from selenium import webdriver\n",
    "from  time import sleep\n",
    "import pandas as pd\n",
    "import json\n",
    "from  random import random\n",
    "import re"
   ]
  },
  {
   "cell_type": "markdown",
   "metadata": {},
   "source": [
    "# 南方都市报"
   ]
  },
  {
   "cell_type": "code",
   "execution_count": 5,
   "metadata": {},
   "outputs": [],
   "source": [
    "url = 'https://m.mp.oeeee.com/h5/pages/v20/nCovcase/guangdong.html'"
   ]
  },
  {
   "cell_type": "code",
   "execution_count": 7,
   "metadata": {},
   "outputs": [],
   "source": [
    "r = requests.get(url)"
   ]
  },
  {
   "cell_type": "code",
   "execution_count": 9,
   "metadata": {},
   "outputs": [
    {
     "data": {
      "text/plain": [
       "'<!DOCTYPE html><html lang=en><head><script>window.time_start_load = new Date().getTime();</script><meta charset=utf-8><meta http-equiv=X-UA-Compatible content=\"IE=edge\"><link rel=icon href=/favicon.ico><meta name=viewport content=\"width=device-width,initial-scale=1,maximum-scale=1,minimum-scale=1,user-scalable=no\"><title>ä½\\xa0ç\\x9a\\x84å°\\x8få\\x8cºæ\\x9c\\x89ç¡®è¯\\x8aç\\x97\\x85ä¾\\x8bå\\x90\\x97ï¼\\x9fä¸\\x80æ\\x9f¥å°±ç\\x9f¥</title><script src=https://3gimg.qq.com/lightmap/components/geolocation/geolocation.min.js></script><link href=nCovcase/css/chunk-common.a37ec443.css rel=preload as=style><link href=nCovcase/css/chunk-vendors.a0536273.css rel=preload as=style><link href=nCovcase/css/index.73c2b5c9.css rel=preload as=style><link href=nCovcase/js/chunk-common.438689b6.js rel=preload as=script><link href=nCovcase/js/chunk-vendors.3049899c.js rel=preload as=script><link href=nCovcase/js/index.219a3854.js rel=preload as=script><link href=nCovcase/css/chunk-vendors.a0536273.css rel=stylesheet><link href=nCovcase/css/chunk-common.a37ec443.css rel=stylesheet><link href=nCovcase/css/index.73c2b5c9.css rel=stylesheet></head><body><noscript><strong>ç½\\x91é¡µè·\\x91ä¸¢äº\\x86ï¼\\x81</strong></noscript><div id=app></div><script>var _mtac = {};\\n        (function() {\\n            var mta = document.createElement(\"script\");\\n            mta.src = \"//pingjs.qq.com/h5/stats.js?v2.0.4\";\\n            mta.setAttribute(\"name\", \"MTAH5\");\\n            mta.setAttribute(\"sid\", \"500710234\");\\n            var s = document.getElementsByTagName(\"script\")[0];\\n            s.parentNode.insertBefore(mta, s);\\n        })();</script><script src=nCovcase/js/chunk-vendors.3049899c.js></script><script src=nCovcase/js/chunk-common.438689b6.js></script><script src=nCovcase/js/index.219a3854.js></script></body></html>'"
      ]
     },
     "execution_count": 9,
     "metadata": {},
     "output_type": "execute_result"
    }
   ],
   "source": [
    "r.text"
   ]
  },
  {
   "cell_type": "markdown",
   "metadata": {},
   "source": [
    "## 换工具"
   ]
  },
  {
   "cell_type": "code",
   "execution_count": 10,
   "metadata": {
    "scrolled": true
   },
   "outputs": [
    {
     "name": "stdout",
     "output_type": "stream",
     "text": [
      "Collecting requests_html\n",
      "  Downloading https://files.pythonhosted.org/packages/24/bc/a4380f09bab3a776182578ce6b2771e57259d0d4dbce178205779abdc347/requests_html-0.10.0-py3-none-any.whl\n",
      "Collecting bs4 (from requests_html)\n",
      "Requirement already satisfied: requests in e:\\anaconda3\\lib\\site-packages (from requests_html) (2.18.4)\n",
      "Collecting pyquery (from requests_html)\n",
      "  Downloading https://files.pythonhosted.org/packages/78/43/95d42e386c61cb639d1a0b94f0c0b9f0b7d6b981ad3c043a836c8b5bc68b/pyquery-1.4.1-py2.py3-none-any.whl\n",
      "Collecting parse (from requests_html)\n",
      "  Downloading https://files.pythonhosted.org/packages/f4/65/220bb4075fddb09d5b3ea2c1c1fa66c1c72be9361ec187aab50fa161e576/parse-1.15.0.tar.gz\n",
      "Collecting w3lib (from requests_html)\n",
      "  Using cached https://files.pythonhosted.org/packages/6a/45/1ba17c50a0bb16bd950c9c2b92ec60d40c8ebda9f3371ae4230c437120b6/w3lib-1.21.0-py2.py3-none-any.whl\n",
      "Collecting fake-useragent (from requests_html)\n",
      "  Downloading https://files.pythonhosted.org/packages/d1/79/af647635d6968e2deb57a208d309f6069d31cb138066d7e821e575112a80/fake-useragent-0.1.11.tar.gz\n",
      "Collecting pyppeteer>=0.0.14 (from requests_html)\n",
      "  Downloading https://files.pythonhosted.org/packages/b0/16/a5e8d617994cac605f972523bb25f12e3ff9c30baee29b4a9c50467229d9/pyppeteer-0.0.25.tar.gz (1.2MB)\n",
      "Requirement already satisfied: beautifulsoup4 in e:\\anaconda3\\lib\\site-packages (from bs4->requests_html) (4.8.0)\n",
      "Requirement already satisfied: idna<2.7,>=2.5 in e:\\anaconda3\\lib\\site-packages (from requests->requests_html) (2.6)\n",
      "Requirement already satisfied: chardet<3.1.0,>=3.0.2 in e:\\anaconda3\\lib\\site-packages (from requests->requests_html) (3.0.4)\n",
      "Requirement already satisfied: certifi>=2017.4.17 in e:\\anaconda3\\lib\\site-packages (from requests->requests_html) (2019.9.11)\n",
      "Requirement already satisfied: urllib3<1.23,>=1.21.1 in e:\\anaconda3\\lib\\site-packages (from requests->requests_html) (1.22)\n",
      "Requirement already satisfied: lxml>=2.1 in e:\\anaconda3\\lib\\site-packages (from pyquery->requests_html) (4.4.1)\n",
      "Collecting cssselect>0.7.9 (from pyquery->requests_html)\n",
      "  Using cached https://files.pythonhosted.org/packages/3b/d4/3b5c17f00cce85b9a1e6f91096e1cc8e8ede2e1be8e96b87ce1ed09e92c5/cssselect-1.1.0-py2.py3-none-any.whl\n",
      "Requirement already satisfied: six>=1.4.1 in e:\\anaconda3\\lib\\site-packages (from w3lib->requests_html) (1.12.0)\n",
      "Collecting pyee (from pyppeteer>=0.0.14->requests_html)\n",
      "  Downloading https://files.pythonhosted.org/packages/d4/ce/a9a45667cdffbda2af63baa3ad1adca2feb80abf307d0dc91f9dfdfb3ec3/pyee-7.0.1-py2.py3-none-any.whl\n",
      "Collecting websockets (from pyppeteer>=0.0.14->requests_html)\n",
      "  Downloading https://files.pythonhosted.org/packages/56/01/1f61610f1eb7f9a8e8fdc607a89dd2fae778e6e43290d7e153ebe724adb5/websockets-8.1-cp37-cp37m-win_amd64.whl (66kB)\n",
      "Collecting appdirs (from pyppeteer>=0.0.14->requests_html)\n",
      "  Downloading https://files.pythonhosted.org/packages/56/eb/810e700ed1349edde4cbdc1b2a21e28cdf115f9faf263f6bbf8447c1abf3/appdirs-1.4.3-py2.py3-none-any.whl\n",
      "Requirement already satisfied: tqdm in e:\\anaconda3\\lib\\site-packages (from pyppeteer>=0.0.14->requests_html) (4.36.1)\n",
      "Requirement already satisfied: soupsieve>=1.2 in e:\\anaconda3\\lib\\site-packages (from beautifulsoup4->bs4->requests_html) (1.9.3)\n",
      "Building wheels for collected packages: parse, fake-useragent, pyppeteer\n",
      "  Building wheel for parse (setup.py): started\n",
      "  Building wheel for parse (setup.py): finished with status 'done'\n",
      "  Stored in directory: C:\\Users\\Administrator\\AppData\\Local\\pip\\Cache\\wheels\\07\\ee\\c8\\eced0759f09fc635398ab1b8e89c38549b28e5db7fd4a53ba5\n",
      "  Building wheel for fake-useragent (setup.py): started\n",
      "  Building wheel for fake-useragent (setup.py): finished with status 'done'\n",
      "  Stored in directory: C:\\Users\\Administrator\\AppData\\Local\\pip\\Cache\\wheels\\5e\\63\\09\\d1dc15179f175357d3f5c00cbffbac37f9e8690d80545143ff\n",
      "  Building wheel for pyppeteer (setup.py): started\n",
      "  Building wheel for pyppeteer (setup.py): finished with status 'done'\n",
      "  Stored in directory: C:\\Users\\Administrator\\AppData\\Local\\pip\\Cache\\wheels\\34\\e0\\5d\\070e22eceecf7ecd5fa4b86bbc18c1c7d0b90e02e9b57f35eb\n",
      "Successfully built parse fake-useragent pyppeteer\n",
      "Installing collected packages: bs4, cssselect, pyquery, parse, w3lib, fake-useragent, pyee, websockets, appdirs, pyppeteer, requests-html\n",
      "Successfully installed appdirs-1.4.3 bs4-0.0.1 cssselect-1.1.0 fake-useragent-0.1.11 parse-1.15.0 pyee-7.0.1 pyppeteer-0.0.25 pyquery-1.4.1 requests-html-0.10.0 w3lib-1.21.0 websockets-8.1\n"
     ]
    }
   ],
   "source": [
    "!pip install requests_html"
   ]
  },
  {
   "cell_type": "code",
   "execution_count": null,
   "metadata": {},
   "outputs": [],
   "source": [
    "from requests_html import AsyncHTMLSession\n",
    "# # 获取请求对象\n",
    "url = 'https://m.mp.oeeee.com/h5/pages/v20/nCovcase/guangdong.html'\n",
    "# session = HTMLSession()\n",
    "# 往新浪新闻主页发送get请求\n",
    "\n",
    "# r = session.get(url)\n",
    "\n",
    "# print(sina.status_code)\n",
    "\n",
    "# r.encoding = 'utf-8'\n",
    "# 获取响应文本信息，与requests无区别\n",
    "# print(r.html.render())\n",
    "\n",
    "\n",
    "asession = AsyncHTMLSession()\n",
    "r = await asession.get(url)\n",
    "await r.html.arender()\n",
    "resp=r.html.raw_html"
   ]
  },
  {
   "cell_type": "code",
   "execution_count": null,
   "metadata": {},
   "outputs": [],
   "source": [
    "resp"
   ]
  },
  {
   "cell_type": "code",
   "execution_count": null,
   "metadata": {},
   "outputs": [],
   "source": []
  }
 ],
 "metadata": {
  "kernelspec": {
   "display_name": "Python 3",
   "language": "python",
   "name": "python3"
  },
  "language_info": {
   "codemirror_mode": {
    "name": "ipython",
    "version": 3
   },
   "file_extension": ".py",
   "mimetype": "text/x-python",
   "name": "python",
   "nbconvert_exporter": "python",
   "pygments_lexer": "ipython3",
   "version": "3.7.6"
  }
 },
 "nbformat": 4,
 "nbformat_minor": 2
}
