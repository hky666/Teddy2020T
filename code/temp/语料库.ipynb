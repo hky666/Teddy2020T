{
 "cells": [
  {
   "cell_type": "code",
   "execution_count": 9,
   "metadata": {},
   "outputs": [
    {
     "name": "stdout",
     "output_type": "stream",
     "text": [
      "Requirement already satisfied: requests-html in e:\\anaconda3\\lib\\site-packages (0.10.0)\n",
      "Requirement already satisfied: fake-useragent in e:\\anaconda3\\lib\\site-packages (from requests-html) (0.1.11)\n",
      "Requirement already satisfied: parse in e:\\anaconda3\\lib\\site-packages (from requests-html) (1.15.0)\n",
      "Requirement already satisfied: w3lib in e:\\anaconda3\\lib\\site-packages (from requests-html) (1.21.0)\n",
      "Requirement already satisfied: pyppeteer>=0.0.14 in e:\\anaconda3\\lib\\site-packages (from requests-html) (0.0.25)\n",
      "Requirement already satisfied: pyquery in e:\\anaconda3\\lib\\site-packages (from requests-html) (1.4.1)\n",
      "Requirement already satisfied: bs4 in e:\\anaconda3\\lib\\site-packages (from requests-html) (0.0.1)\n",
      "Requirement already satisfied: requests in e:\\anaconda3\\lib\\site-packages (from requests-html) (2.18.4)\n",
      "Requirement already satisfied: six>=1.4.1 in e:\\anaconda3\\lib\\site-packages (from w3lib->requests-html) (1.12.0)\n",
      "Requirement already satisfied: pyee in e:\\anaconda3\\lib\\site-packages (from pyppeteer>=0.0.14->requests-html) (7.0.1)\n",
      "Requirement already satisfied: websockets in e:\\anaconda3\\lib\\site-packages (from pyppeteer>=0.0.14->requests-html) (8.1)\n",
      "Requirement already satisfied: urllib3 in e:\\anaconda3\\lib\\site-packages (from pyppeteer>=0.0.14->requests-html) (1.22)\n",
      "Requirement already satisfied: appdirs in e:\\anaconda3\\lib\\site-packages (from pyppeteer>=0.0.14->requests-html) (1.4.3)\n",
      "Requirement already satisfied: tqdm in e:\\anaconda3\\lib\\site-packages (from pyppeteer>=0.0.14->requests-html) (4.36.1)\n",
      "Requirement already satisfied: lxml>=2.1 in e:\\anaconda3\\lib\\site-packages (from pyquery->requests-html) (4.4.1)\n",
      "Requirement already satisfied: cssselect>0.7.9 in e:\\anaconda3\\lib\\site-packages (from pyquery->requests-html) (1.1.0)\n",
      "Requirement already satisfied: beautifulsoup4 in e:\\anaconda3\\lib\\site-packages (from bs4->requests-html) (4.8.0)\n",
      "Requirement already satisfied: idna<2.7,>=2.5 in e:\\anaconda3\\lib\\site-packages (from requests->requests-html) (2.6)\n",
      "Requirement already satisfied: certifi>=2017.4.17 in e:\\anaconda3\\lib\\site-packages (from requests->requests-html) (2019.9.11)\n",
      "Requirement already satisfied: chardet<3.1.0,>=3.0.2 in e:\\anaconda3\\lib\\site-packages (from requests->requests-html) (3.0.4)\n",
      "Requirement already satisfied: soupsieve>=1.2 in e:\\anaconda3\\lib\\site-packages (from beautifulsoup4->bs4->requests-html) (1.9.3)\n"
     ]
    }
   ],
   "source": [
    "!pip install requests-html"
   ]
  },
  {
   "cell_type": "code",
   "execution_count": 14,
   "metadata": {},
   "outputs": [],
   "source": [
    "import requests\n",
    "from bs4 import BeautifulSoup as bs\n",
    "import re\n",
    "import matplotlib.pyplot as plt\n",
    "import numpy as np\n",
    "import matplotlib as mpl\n",
    "mpl.rcParams[\"font.sans-serif\"]=[\"SimHei\"]\n",
    "mpl.rcParams[\"axes.unicode_minus\"]=False\n",
    "from selenium import webdriver\n",
    "from  time import sleep\n",
    "import pandas as pd\n",
    "import json\n",
    "from  random import random\n",
    "import re\n",
    "from lxml import etree\n",
    "from gne import GeneralNewsExtractor\n",
    "token = '63ce8433d23e1f4d8cbd8bf14390fcc7'\n",
    "\n",
    "\n",
    "# 平台：搜狗微信\n",
    "driver = webdriver.Chrome()\n",
    "driver.get('https://weixin.sogou.com/weixin')\n",
    "driver.implicitly_wait(20) # 操作、获取元素时的隐式等待时间\n",
    "driver.set_page_load_timeout(20) # 页面加载超时等待时间\n",
    "# sleep(20)"
   ]
  },
  {
   "cell_type": "code",
   "execution_count": 95,
   "metadata": {},
   "outputs": [],
   "source": [
    "keyword = '确诊逗留'\n",
    "page = '1'\n",
    "url_ = 'https://weixin.sogou.com/weixin?query='+keyword+'&_sug_type_=&sut=3643&lkt=3%2C1588334155156%2C1588334155156&s_from=input&_sug_=y&type=2&sst0=1588334155259&page='+page+'&ie=utf8&w=01019900&dr=1'\n",
    "# r = session.get(url_, verify=False)\n",
    "# r.html.render()\n",
    "# print (r.html.html)\n",
    "# r = requests.get(url_)\n",
    "# soup = bs(r.text,'html.parser')\n",
    "# url_ = 'http://unclechen.github.io/2016/12/11/python%E5%88%A9%E7%94%A8beautifulsoup+selenium%E8%87%AA%E5%8A%A8%E7%BF%BB%E9%A1%B5%E6%8A%93%E5%8F%96%E7%BD%91%E9%A1%B5%E5%86%85%E5%AE%B9/'\n",
    "\n",
    "driver.get(url=url_)\n",
    "html = driver.page_source\n",
    "soup  = bs(html)"
   ]
  },
  {
   "cell_type": "code",
   "execution_count": 96,
   "metadata": {},
   "outputs": [],
   "source": [
    "news  = soup.select('#main > div.news-box > ul')"
   ]
  },
  {
   "cell_type": "code",
   "execution_count": 97,
   "metadata": {},
   "outputs": [],
   "source": [
    "news = news[0]"
   ]
  },
  {
   "cell_type": "code",
   "execution_count": 98,
   "metadata": {},
   "outputs": [],
   "source": [
    "textbox = news.find_all(class_=\"txt-box\")"
   ]
  },
  {
   "cell_type": "code",
   "execution_count": 99,
   "metadata": {},
   "outputs": [
    {
     "data": {
      "text/plain": [
       "[<div class=\"txt-box\">\n",
       " <h3>\n",
       " <a href=\"/link?url=dn9a_-gY295K0Rci_xozVXfdMkSQTLW6cwJThYulHEtVjXrGTiVgSwTwj4wjtvgLE-lM2UP2BcR9wiXWkiXlIFqXa8Fplpd9zMrIIhYFhdgSMt8kiw1coZwH5p7xZBepffNZvyuH-TjVsnBi_fZShI941CxQNbcC0euYa5vB76DDyA6Cfeer-0TdSV6kAZnJjFfnM-mf2dubA631V_wXXi4lq0z11BzwhwhOdikAbFgFXJgBEGIpxaUDYg41cusD3wQL8O21lRTP28temKTOwg..&amp;type=2&amp;query=%E7%A1%AE%E8%AF%8A%E9%80%97%E7%95%99&amp;token=empty\" id=\"sogou_vr_11002601_title_0\" target=\"_blank\" uigs=\"article_title_0\">快讯!厦门<em><!--red_beg-->确诊<!--red_end--></em>病例<em><!--red_beg-->逗留<!--red_end--></em>过的小区、场所公布!新增这些地方!赶紧看!</a>\n",
       " </h3>\n",
       " <p class=\"txt-info\" id=\"sogou_vr_11002601_summary_0\"><em><!--red_beg-->确诊<!--red_end--></em>病例在发病期间<em><!--red_beg-->逗留<!--red_end--></em>过的小区或场所:  思明区(10个)1、莲坂新村2、环岛路曾厝垵社3、环岛路黄厝村4、黄厝塔头5、鼓浪屿...</p>\n",
       " <div class=\"s-p\" t=\"1580617393\">\n",
       " <a class=\"account\" data-headimage=\"http://wx.qlogo.cn/mmhead/Q3auHgzwzM6FPj5auoJPlSbMjScNmmK4LEW9ePMo3B2icBcAaEXATRA/0\" data-isv=\"1\" href=\"/link?url=dn9a_-gY295K0Rci_xozVXfdMkSQTLW6EzDJysI4ql5MPrOUp16838dGRMI7NnPq2oHfC0C_p3Wd9kQnXYB9UQwvDqyjOWdzeIyLW8nBwZw933I4INZ29yqa7QOPuGpCeVa5W8gzG_VW21ZHpoeHOcUPZzcnOe003sv-fzVrDKCRYnCfVz4DuqT7tRpwEsTPLwy8bBj14igaGczAfR_zO6UiiWOv1GPM&amp;type=2&amp;query=%E7%A1%AE%E8%AF%8A%E9%80%97%E7%95%99&amp;token=empty\" i=\"oIWsFt4rONiYswx40ZtxnDoccsjQ\" id=\"sogou_vr_11002601_account_0\" target=\"_blank\" uigs=\"article_account_0\">海峡导报</a><span class=\"s2\"><script>document.write(timeConvert('1580617393'))</script>2020-2-2</span>\n",
       " </div>\n",
       " </div>, <div class=\"txt-box\">\n",
       " <h3>\n",
       " <a href=\"/link?url=dn9a_-gY295K0Rci_xozVXfdMkSQTLW6cwJThYulHEtVjXrGTiVgSwTwj4wjtvgLE-lM2UP2BcR9wiXWkiXlIFqXa8Fplpd9_sKNbn_wJf-aSsQeg8F4kZdnZIUF8nD9_bXuj1ZwFox9fBhtd1L5UVHASI-LGdB1JKsdZm9oxFniWuqinzxeJU2arhyKFqGQeIKsRCLgoyS1JJaLTW4qp35jFWF7VaUBX25e5oJNQNkkBiEZ_U8S4G2sRXfd8pgVuGModacnknxr1dbZWbKUeQ..&amp;type=2&amp;query=%E7%A1%AE%E8%AF%8A%E9%80%97%E7%95%99&amp;token=empty\" id=\"sogou_vr_11002601_title_1\" target=\"_blank\" uigs=\"article_title_1\">最新!深圳刚刚公布新增10个<em><!--red_beg-->确诊<!--red_end--></em>者<em><!--red_beg-->逗留<!--red_end--></em>场所,这类地点不再通报</a>\n",
       " </h3>\n",
       " <p class=\"txt-info\" id=\"sogou_vr_11002601_summary_1\">截至2月8日24时深圳新型冠状病毒感染的肺炎<em><!--red_beg-->确诊<!--red_end--></em>病例累计达366例刚刚深圳卫健委公布新增的10个新冠病毒肺炎<em><!--red_beg-->确诊<!--red_end--></em>患者<em><!--red_beg-->逗留<!--red_end--></em>过的场...</p>\n",
       " <div class=\"s-p\" t=\"1582182430\">\n",
       " <a class=\"account\" data-headimage=\"http://wx.qlogo.cn/mmhead/Q3auHgzwzM5RYT5sBaaImqUvcnFLGMsxRYXjTtkEZibeKD7saXXn5Hg/0\" data-isv=\"1\" href=\"/link?url=dn9a_-gY295K0Rci_xozVXfdMkSQTLW6EzDJysI4ql5MPrOUp16838dGRMI7NnPq2oHfC0C_p3Wd9kQnXYB9UQwvDqyjOWdzJqSVY1x33biS2M7NNRX1lPHGk-mxHWvMNLGp7LgnA7h6HlzEuZB87leb7AZ0OAejRtbmkbEBcJvQtVvkhkmM4SbYvoCWKOMNX2nl-cNLQzci8FM-kPD1pmRTpLLTNgHY&amp;type=2&amp;query=%E7%A1%AE%E8%AF%8A%E9%80%97%E7%95%99&amp;token=empty\" i=\"oIWsFtxV8f4cMxnzZKWkmbSXd8jA\" id=\"sogou_vr_11002601_account_1\" target=\"_blank\" uigs=\"article_account_1\">深圳大件事</a><span class=\"s2\"><script>document.write(timeConvert('1582182430'))</script>2020-2-20</span>\n",
       " </div>\n",
       " </div>, <div class=\"txt-box\">\n",
       " <h3>\n",
       " <a href=\"/link?url=dn9a_-gY295K0Rci_xozVXfdMkSQTLW6cwJThYulHEtVjXrGTiVgSwTwj4wjtvgLE-lM2UP2BcR9wiXWkiXlIFqXa8Fplpd94TYApuXf3gOJUB156Q4KIzl2UhJh8dRdTXttzFOOZOLJMDWrj4iNHAEr6E8d4GLfi0WnRQ2xRHtd_hnuy6-fPn4wDhI5GQw0cc-KKvW7r7P4EJVm1Ipw96J-0McBntef2eu0FW2bdhgr16RVAoJYHrXkNt8C0L2EwdmnbBv6lB_uL0unUdKkuw..&amp;type=2&amp;query=%E7%A1%AE%E8%AF%8A%E9%80%97%E7%95%99&amp;token=empty\" id=\"sogou_vr_11002601_title_2\" target=\"_blank\" uigs=\"article_title_2\">速度自查:这10个地方,新<em><!--red_beg-->确诊<!--red_end--></em>病例<em><!--red_beg-->逗留<!--red_end--></em>过!如果小区出现两次<em><!--red_beg-->确诊<!--red_end--></em>..</a>\n",
       " </h3>\n",
       " <p class=\"txt-info\" id=\"sogou_vr_11002601_summary_2\">_这10个新增场所新<em><!--red_beg-->确诊<!--red_end--></em>的患者<em><!--red_beg-->逗留<!--red_end--></em>过__福田区(3个)_海田路1008号雅颂居下沙花好园金地名津*以上病例均已转医院治疗_龙岗区...</p>\n",
       " <div class=\"s-p\" t=\"1581263815\">\n",
       " <a class=\"account\" data-headimage=\"http://wx.qlogo.cn/mmhead/Q3auHgzwzM6iaJicP26dW1szqjyqVzHAYd99U7HvNic7fo7QibEu731kWg/0\" data-isv=\"1\" href=\"/link?url=dn9a_-gY295K0Rci_xozVXfdMkSQTLW6EzDJysI4ql5MPrOUp16838dGRMI7NnPq2oHfC0C_p3Wd9kQnXYB9UQwvDqyjOWdzN-GmEUaCzxPwGJ8p2PfPS5XdYx8e6A_VeavwJfLydBXAMV4uFSQw1kMibemgHcmVjunC3In75PrejWCa29eeSvbDUUUXhePdifQuzwANpjsiQHeWQjGfjGRTpLLTNgHY&amp;type=2&amp;query=%E7%A1%AE%E8%AF%8A%E9%80%97%E7%95%99&amp;token=empty\" i=\"oIWsFt3trRjFo2fl1ps9FEu41yyQ\" id=\"sogou_vr_11002601_account_2\" target=\"_blank\" uigs=\"article_account_2\">深广电第一现场</a><span class=\"s2\"><script>document.write(timeConvert('1581263815'))</script>2020-2-9</span>\n",
       " </div>\n",
       " </div>, <div class=\"txt-box\">\n",
       " <h3>\n",
       " <a href=\"/link?url=dn9a_-gY295K0Rci_xozVXfdMkSQTLW6cwJThYulHEtVjXrGTiVgSwTwj4wjtvgLE-lM2UP2BcR9wiXWkiXlIFqXa8Fplpd94TYApuXf3gOJUB156Q4KIzl2UhJh8dRdTXttzFOOZOLJMDWrj4iNHH2PA_n5Djo-uLB2K7FEQkiFkB2lw6vzcWsS1IP5dHIYeToMbPPGX6dcaWuVPJ1FwAZjl_PHa77FSWfP41MByF35ucF5twUOucyJ_dFuqa2JYeAubI1c-0fzAjcIGepUqA..&amp;type=2&amp;query=%E7%A1%AE%E8%AF%8A%E9%80%97%E7%95%99&amp;token=empty\" id=\"sogou_vr_11002601_title_3\" target=\"_blank\" uigs=\"article_title_3\">速查!深圳这14个新增点,新<em><!--red_beg-->确诊<!--red_end--></em>病人曾<em><!--red_beg-->逗留<!--red_end--></em>!内含1步行街</a>\n",
       " </h3>\n",
       " <p class=\"txt-info\" id=\"sogou_vr_11002601_summary_3\">新安街道灵芝新村 龙岗区(1个)观湖街道观壹城 民治街道锦绣江南大冲新城花园 南光花园 恒立心海湾花园 罗湖区(2个) 海鹰大厦 鸿翔花园香山美树苑 下梅林河背村 东海国际公寓 园中花园</p>\n",
       " <div class=\"s-p\" t=\"1580877231\">\n",
       " <a class=\"account\" data-headimage=\"http://wx.qlogo.cn/mmhead/Q3auHgzwzM6iaJicP26dW1szqjyqVzHAYd99U7HvNic7fo7QibEu731kWg/0\" data-isv=\"1\" href=\"/link?url=dn9a_-gY295K0Rci_xozVXfdMkSQTLW6EzDJysI4ql5MPrOUp16838dGRMI7NnPq2oHfC0C_p3Wd9kQnXYB9UQwvDqyjOWdzN-GmEUaCzxPwGJ8p2PfPS5XdYx8e6A_VeavwJfLydBXAMV4uFSQw1kMibemgHcmVjunC3In75PrejWCa29eeSvbDUUUXhePdifQuzwANpjsiQHeWQjGfjGRTpLLTNgHY&amp;type=2&amp;query=%E7%A1%AE%E8%AF%8A%E9%80%97%E7%95%99&amp;token=empty\" i=\"oIWsFt3trRjFo2fl1ps9FEu41yyQ\" id=\"sogou_vr_11002601_account_3\" target=\"_blank\" uigs=\"article_account_3\">深广电第一现场</a><span class=\"s2\"><script>document.write(timeConvert('1580877231'))</script>2020-2-5</span>\n",
       " </div>\n",
       " </div>, <div class=\"txt-box\">\n",
       " <h3>\n",
       " <a href=\"/link?url=dn9a_-gY295K0Rci_xozVXfdMkSQTLW6cwJThYulHEtVjXrGTiVgSwTwj4wjtvgLE-lM2UP2BcR9wiXWkiXlIFqXa8Fplpd9P-ANGEvfZZijw-xa1fKeh4HbkubB-C-RvFC6s_zGtLooIo7V0M76uJ-uJKYP-y-HKvF1Z5t4WCyQhwsJptSmZTJEiywAzt1YjzOUsO8w6ggMVdElt3T-vdKiTejM0nVLsIc6eO_3AbA2OEbjfXjQRTeafy_msYK6URsdYU0LcHz2CsG6-xMgzQ..&amp;type=2&amp;query=%E7%A1%AE%E8%AF%8A%E9%80%97%E7%95%99&amp;token=empty\" id=\"sogou_vr_11002601_title_4\" target=\"_blank\" uigs=\"article_title_4\">最新!深圳刚刚公布8处<em><!--red_beg-->确诊<!--red_end--></em>者<em><!--red_beg-->逗留<!--red_end--></em>场所,广东:发热患者均要检测核酸</a>\n",
       " </h3>\n",
       " <p class=\"txt-info\" id=\"sogou_vr_11002601_summary_4\">截至2月7日24时深圳新型冠状病毒感染的肺炎<em><!--red_beg-->确诊<!--red_end--></em>病例累计达351例刚刚深圳卫健委公布新增的8个新冠病毒肺炎<em><!--red_beg-->确诊<!--red_end--></em>患者<em><!--red_beg-->逗留<!--red_end--></em>过的场...</p>\n",
       " <div class=\"s-p\" t=\"1581131391\">\n",
       " <a class=\"account\" data-headimage=\"http://wx.qlogo.cn/mmhead/Q3auHgzwzM6Co96IWsjic5CNNfM4Y7dhToAe65EFtJX04UiaicW0ibE71Q/0\" data-isv=\"0\" href=\"/link?url=dn9a_-gY295K0Rci_xozVXfdMkSQTLW6EzDJysI4ql5MPrOUp16838dGRMI7NnPq2oHfC0C_p3Wd9kQnXYB9UQwvDqyjOWdzZpMrJb6LVR1riNE8Z3DdxS8DXpOGJhKFYb2YECbfAAAyPRQLkiw4qNXsXeDUd7k0STihxFpquxronn24JbPXnTaLSBFpkCezB1zu_w8hWg3FgemO7lYaT24OZCnxixtX&amp;type=2&amp;query=%E7%A1%AE%E8%AF%8A%E9%80%97%E7%95%99&amp;token=empty\" i=\"oIWsFtypw9hMu8AmZa60Gejuo5v8\" id=\"sogou_vr_11002601_account_4\" target=\"_blank\" uigs=\"article_account_4\">深圳掌上网</a><span class=\"s2\"><script>document.write(timeConvert('1581131391'))</script>2020-2-8</span>\n",
       " </div>\n",
       " </div>, <div class=\"txt-box\">\n",
       " <h3>\n",
       " <a href=\"/link?url=dn9a_-gY295K0Rci_xozVXfdMkSQTLW6cwJThYulHEtVjXrGTiVgSwTwj4wjtvgLE-lM2UP2BcR9wiXWkiXlIFqXa8Fplpd9MQCV366z8AevD8f04jTYRRS2oA8vEhe1hKjgKkckGe_0SPST7YgOpmEcwVLh-ZgNJzAiAts8Wep9yRXyVAkWaEyyCyiEb4w15lC-k8gxNT3apQi-kV41-n7TFzGo1oABs7CQ3c9eKlehL9wjWe0P8sKVhUoDzP8G_1SZVL6q9R600NVofL2iDw..&amp;type=2&amp;query=%E7%A1%AE%E8%AF%8A%E9%80%97%E7%95%99&amp;token=empty\" id=\"sogou_vr_11002601_title_5\" target=\"_blank\" uigs=\"article_title_5\">最新!佛山新增7例<em><!--red_beg-->确诊<!--red_end--></em>!<em><!--red_beg-->逗留<!--red_end--></em>过这些小区!</a>\n",
       " </h3>\n",
       " <p class=\"txt-info\" id=\"sogou_vr_11002601_summary_5\"><em><!--red_beg-->确诊<!--red_end--></em>病例<em><!--red_beg-->逗留<!--red_end--></em>过的小区截止2020年2月1日12时,佛山市累计报告新型冠状病毒感染的肺炎<em><!--red_beg-->确诊<!--red_end--></em>病例39例,曾<em><!--red_beg-->逗留<!--red_end--></em>过29个小区、场所....</p>\n",
       " <div class=\"s-p\" t=\"1580551329\">\n",
       " <a class=\"account\" data-headimage=\"http://wx.qlogo.cn/mmhead/Q3auHgzwzM4fayjV099ibiaBGwotZY3Z4OWKI8OiaYPfkUnUIphQY06Dg/0\" data-isv=\"1\" href=\"/link?url=dn9a_-gY295K0Rci_xozVXfdMkSQTLW6EzDJysI4ql5MPrOUp16838dGRMI7NnPq2oHfC0C_p3Wd9kQnXYB9UQwvDqyjOWdzjtoiB9lxILmsgUPeTuwRYxYDhPUKd2s5_MxCHk5as8sRY6vw7d6VMVLkEtnYYIPkUCl2den9Wg4mXXnR085rBVl2Hs5oyZFuK4JQXxbPRDG8WoYrbIbfi24OZCnxixtX&amp;type=2&amp;query=%E7%A1%AE%E8%AF%8A%E9%80%97%E7%95%99&amp;token=empty\" i=\"oIWsFt02z6C5O1LS9FhxG37RIXSo\" id=\"sogou_vr_11002601_account_5\" target=\"_blank\" uigs=\"article_account_5\">佛山乐居</a><span class=\"s2\"><script>document.write(timeConvert('1580551329'))</script>2020-2-1</span>\n",
       " </div>\n",
       " </div>, <div class=\"txt-box\">\n",
       " <h3>\n",
       " <a href=\"/link?url=dn9a_-gY295K0Rci_xozVXfdMkSQTLW6cwJThYulHEtVjXrGTiVgSwTwj4wjtvgLE-lM2UP2BcR9wiXWkiXlIFqXa8Fplpd9yH-48Zyo4BA8uJs5cxHFgg-hfaByvnCrUbT_x1oTF41fhy5vgK35tcwT_hcsajFUqiJ-1cyPuVK9D-YwWKt8xgrRbk66YZ0my-tq11bd97ILOlq1VAQybVp0yOuENcGGZ-cxaysHEOwuvTy0jj5yFJGM-5TPnSud4_7tndBTRSD1AfaFW2DefQ..&amp;type=2&amp;query=%E7%A1%AE%E8%AF%8A%E9%80%97%E7%95%99&amp;token=empty\" id=\"sogou_vr_11002601_title_6\" target=\"_blank\" uigs=\"article_title_6\">请扩散!上海<em><!--red_beg-->确诊<!--red_end--></em>病人<em><!--red_beg-->逗留<!--red_end--></em>场所明细!附最新官宣消息!</a>\n",
       " </h3>\n",
       " <p class=\"txt-info\" id=\"sogou_vr_11002601_summary_6\">以下是上海官方公布的<em><!--red_beg-->确诊<!--red_end--></em>病例发病期间<em><!--red_beg-->逗留<!--red_end--></em>过的场所,以及居住地,共有 92 个(含重复)欢迎扩散,让更多人知道,并提醒大家一...</p>\n",
       " <div class=\"s-p\" t=\"1581557708\">\n",
       " <a class=\"account\" data-headimage=\"http://wx.qlogo.cn/mmhead/Q3auHgzwzM44hqnYDcRJ8gFiaGicy9onAU1HtaJNcnBkdKWc8bOToNIw/0\" data-isv=\"1\" href=\"/link?url=dn9a_-gY295K0Rci_xozVXfdMkSQTLW6EzDJysI4ql5MPrOUp16838dGRMI7NnPq2oHfC0C_p3Wd9kQnXYB9UQwvDqyjOWdzMRRQZHke6rrP7AOJ9Tf9Rf9YsAgN4xGVnTJsJnWexmWmPMZ-tMOSZT67NPqV08Wr3SUCEDhUkRLCoWJuqEMyt6vgKnRu0dd4VoL-6Ecr_gYv5VcS--BID2RTpLLTNgHY&amp;type=2&amp;query=%E7%A1%AE%E8%AF%8A%E9%80%97%E7%95%99&amp;token=empty\" i=\"oIWsFt0-ROR08ie_ar63jL-v7sAU\" id=\"sogou_vr_11002601_account_6\" target=\"_blank\" uigs=\"article_account_6\">发现上海</a><span class=\"s2\"><script>document.write(timeConvert('1581557708'))</script>2020-2-13</span>\n",
       " </div>\n",
       " </div>, <div class=\"txt-box\">\n",
       " <h3>\n",
       " <a href=\"/link?url=dn9a_-gY295K0Rci_xozVXfdMkSQTLW6cwJThYulHEtVjXrGTiVgSwTwj4wjtvgLE-lM2UP2BcR9wiXWkiXlIFqXa8Fplpd9XcXDz6gIacNSC2PaI_WX8p56FUKC2uPp4X6exOjUUphnJXyNQX4g9_1IwNi1dw9V8RaUSr1s7EWgs9X4wWMqgQ07z01_GtAaEUsZwOpWMCbWaFDearveBoZ_Ks9ytLIr88SFmLbOWuZXshawtsZpd6tnzeZQHKb-Xvv2RDdG20BOJBjQH7pCxQ..&amp;type=2&amp;query=%E7%A1%AE%E8%AF%8A%E9%80%97%E7%95%99&amp;token=empty\" id=\"sogou_vr_11002601_title_7\" target=\"_blank\" uigs=\"article_title_7\">最新消息 | 漳州<em><!--red_beg-->确诊<!--red_end--></em>病例在发病期间<em><!--red_beg-->逗留<!--red_end--></em>过的主要场所公布!</a>\n",
       " </h3>\n",
       " <p class=\"txt-info\" id=\"sogou_vr_11002601_summary_7\"><em><!--red_beg-->确诊<!--red_end--></em>病例在发病期间<em><!--red_beg-->逗留<!--red_end--></em>过的主要场所:芗城区(4个):芗城区新浦路6号、人民里25号、丹霞商贸城、巷口社区后港.龙海市(1个...</p>\n",
       " <div class=\"s-p\" t=\"1580636749\">\n",
       " <a class=\"account\" data-headimage=\"http://wx.qlogo.cn/mmhead/Q3auHgzwzM6QeCAuMsz5scCKuAKia9kbPVKu0qkonO67UxUPcn6XUjA/0\" data-isv=\"1\" href=\"/link?url=dn9a_-gY295K0Rci_xozVXfdMkSQTLW6EzDJysI4ql5MPrOUp16838dGRMI7NnPq2oHfC0C_p3Wd9kQnXYB9UQwvDqyjOWdzc_-ne_ZQUNtlVv_lVUGIbGcD3MlXFgyQLktCJT-a3fWFfOLgNseR_is-cInABQpn7syNlkDkrI1XbfuQqjkRNZhiycGmPF_AnVpojSQ_zT6eSRmCGROVcOO00efWrWmm&amp;type=2&amp;query=%E7%A1%AE%E8%AF%8A%E9%80%97%E7%95%99&amp;token=empty\" i=\"oIWsFtw2hP5e-MvRmYHi2GYYH5M0\" id=\"sogou_vr_11002601_account_7\" target=\"_blank\" uigs=\"article_account_7\">漳视新闻</a><span class=\"s2\"><script>document.write(timeConvert('1580636749'))</script>2020-2-2</span>\n",
       " </div>\n",
       " </div>, <div class=\"txt-box\">\n",
       " <h3>\n",
       " <a href=\"/link?url=dn9a_-gY295K0Rci_xozVXfdMkSQTLW6cwJThYulHEtVjXrGTiVgSwTwj4wjtvgLE-lM2UP2BcR9wiXWkiXlIFqXa8Fplpd9_sKNbn_wJf-aSsQeg8F4kZdnZIUF8nD9_bXuj1ZwFox9fBhtd1L5UQxXLkF7D0eEzsKXtQJWCfq_29uJHPj8634yD8Mr7p85MI96HYWmSrVfOqPKY2UGM3MAik3y26p6JL40XwlkjGGoBRTE-7ZMjkVezApj2XFsGIOJRkP3kYVj3x9Nw6p-Fg..&amp;type=2&amp;query=%E7%A1%AE%E8%AF%8A%E9%80%97%E7%95%99&amp;token=empty\" id=\"sogou_vr_11002601_title_8\" target=\"_blank\" uigs=\"article_title_8\">最新!深圳刚刚发布8处<em><!--red_beg-->确诊<!--red_end--></em>病例<em><!--red_beg-->逗留<!--red_end--></em>场所!专家:小区这种防疫措施有害</a>\n",
       " </h3>\n",
       " <p class=\"txt-info\" id=\"sogou_vr_11002601_summary_8\">截至2月11日24时深圳累计报告新冠肺炎<em><!--red_beg-->确诊<!--red_end--></em>病例386例刚刚深圳卫健委公布8个新<em><!--red_beg-->确诊<!--red_end--></em>病例<em><!--red_beg-->逗留<!--red_end--></em>过的小区南山区(1个)花园城一期*以...</p>\n",
       " <div class=\"s-p\" t=\"1581515463\">\n",
       " <a class=\"account\" data-headimage=\"http://wx.qlogo.cn/mmhead/Q3auHgzwzM5RYT5sBaaImqUvcnFLGMsxRYXjTtkEZibeKD7saXXn5Hg/0\" data-isv=\"1\" href=\"/link?url=dn9a_-gY295K0Rci_xozVXfdMkSQTLW6EzDJysI4ql5MPrOUp16838dGRMI7NnPq2oHfC0C_p3Wd9kQnXYB9UQwvDqyjOWdzJqSVY1x33biS2M7NNRX1lPHGk-mxHWvMNLGp7LgnA7h6HlzEuZB87leb7AZ0OAejRtbmkbEBcJvQtVvkhkmM4SbYvoCWKOMNX2nl-cNLQzci8FM-kPD1pmRTpLLTNgHY&amp;type=2&amp;query=%E7%A1%AE%E8%AF%8A%E9%80%97%E7%95%99&amp;token=empty\" i=\"oIWsFtxV8f4cMxnzZKWkmbSXd8jA\" id=\"sogou_vr_11002601_account_8\" target=\"_blank\" uigs=\"article_account_8\">深圳大件事</a><span class=\"s2\"><script>document.write(timeConvert('1581515463'))</script>2020-2-12</span>\n",
       " </div>\n",
       " </div>, <div class=\"txt-box\">\n",
       " <h3>\n",
       " <a href=\"/link?url=dn9a_-gY295K0Rci_xozVXfdMkSQTLW6cwJThYulHEtVjXrGTiVgSwTwj4wjtvgLE-lM2UP2BcR9wiXWkiXlIFqXa8Fplpd9Xk-kzWsOEva3i3xzpMvnbTC2JoEkClxOCEP_wjUPEHpTd2OvzNkueJx6ip_ajLhSXufAIIkcwQbw8nhTSdv2BoralhPgqiLMnpxeXYAC8kbaWMZwy0kkPDkqIj0GNOybXeJv69oGEHlnMjunTcPT8MtZJY2p4yhWGckdYWXK02pCy6umSSPEsg..&amp;type=2&amp;query=%E7%A1%AE%E8%AF%8A%E9%80%97%E7%95%99&amp;token=empty\" id=\"sogou_vr_11002601_title_9\" target=\"_blank\" uigs=\"article_title_9\">最新公布!中山<em><!--red_beg-->确诊<!--red_end--></em>病人,曾<em><!--red_beg-->逗留<!--red_end--></em>过这些小区</a>\n",
       " </h3>\n",
       " <p class=\"txt-info\" id=\"sogou_vr_11002601_summary_9\">中山市<em><!--red_beg-->确诊<!--red_end--></em>病例<em><!--red_beg-->逗留<!--red_end--></em>过的小区(截至2020年1月30日24时)火炬区开发区(5个)1、健康花城2、凯茵新城3、伯爵山4、逸骏华庭5、...</p>\n",
       " <div class=\"s-p\" t=\"1580440145\">\n",
       " <a class=\"account\" data-headimage=\"http://wx.qlogo.cn/mmhead/Q3auHgzwzM5kfMwSBpu9pRAYDJwQo8qlwJCpunUurErraEkjdUbrMw/0\" data-isv=\"1\" href=\"/link?url=dn9a_-gY295K0Rci_xozVXfdMkSQTLW6EzDJysI4ql5MPrOUp16838dGRMI7NnPq2oHfC0C_p3Wd9kQnXYB9UQwvDqyjOWdzNTYcx6AX3C-EO0ljm6uSYB6Y0mgJO8tjpzhuC417ssUss6afbA5unNoQFgbxInKVa9W3MrikCAbcM-WTSTv7k9fksFDk7vxj0LJ1eP0ZfTQaLhz0dE1fxGRTpLLTNgHY&amp;type=2&amp;query=%E7%A1%AE%E8%AF%8A%E9%80%97%E7%95%99&amp;token=empty\" i=\"oIWsFt2138xnoxBkywinML2BNWKc\" id=\"sogou_vr_11002601_account_9\" target=\"_blank\" uigs=\"article_account_9\">中山网</a><span class=\"s2\"><script>document.write(timeConvert('1580440145'))</script>2020-1-31</span>\n",
       " </div>\n",
       " </div>]"
      ]
     },
     "execution_count": 99,
     "metadata": {},
     "output_type": "execute_result"
    }
   ],
   "source": [
    "textbox"
   ]
  },
  {
   "cell_type": "code",
   "execution_count": 100,
   "metadata": {},
   "outputs": [],
   "source": [
    "link = textbox[2].find('a').attrs['href']"
   ]
  },
  {
   "cell_type": "code",
   "execution_count": 101,
   "metadata": {},
   "outputs": [],
   "source": [
    "host = 'https://weixin.sogou.com'"
   ]
  },
  {
   "cell_type": "code",
   "execution_count": 102,
   "metadata": {},
   "outputs": [],
   "source": [
    "url2 = host + link"
   ]
  },
  {
   "cell_type": "code",
   "execution_count": 104,
   "metadata": {},
   "outputs": [
    {
     "data": {
      "text/plain": [
       "'https://weixin.sogou.com/link?url=dn9a_-gY295K0Rci_xozVXfdMkSQTLW6cwJThYulHEtVjXrGTiVgSwTwj4wjtvgLE-lM2UP2BcR9wiXWkiXlIFqXa8Fplpd94TYApuXf3gOJUB156Q4KIzl2UhJh8dRdTXttzFOOZOLJMDWrj4iNHAEr6E8d4GLfi0WnRQ2xRHtd_hnuy6-fPn4wDhI5GQw0cc-KKvW7r7P4EJVm1Ipw96J-0McBntef2eu0FW2bdhgr16RVAoJYHrXkNt8C0L2EwdmnbBv6lB_uL0unUdKkuw..&type=2&query=%E7%A1%AE%E8%AF%8A%E9%80%97%E7%95%99&token=empty'"
      ]
     },
     "execution_count": 104,
     "metadata": {},
     "output_type": "execute_result"
    }
   ],
   "source": [
    "url2"
   ]
  },
  {
   "cell_type": "code",
   "execution_count": 105,
   "metadata": {},
   "outputs": [
    {
     "data": {
      "text/plain": [
       "'http://weixin.sogou.com/antispider/?from=%2Flink%3Furl%3Ddn9a_-gY295K0Rci_xozVXfdMkSQTLW6cwJThYulHEtVjXrGTiVgSwTwj4wjtvgLE-lM2UP2BcR9wiXWkiXlIFqXa8Fplpd94TYApuXf3gOJUB156Q4KIzl2UhJh8dRdTXttzFOOZOLJMDWrj4iNHAEr6E8d4GLfi0WnRQ2xRHtd_hnuy6-fPn4wDhI5GQw0cc-KKvW7r7P4EJVm1Ipw96J-0McBntef2eu0FW2bdhgr16RVAoJYHrXkNt8C0L2EwdmnbBv6lB_uL0unUdKkuw..%26type%3D2%26query%3D%E7%A1%AE%E8%AF%8A%E9%80%97%E7%95%99%26token%3Dempty'"
      ]
     },
     "execution_count": 105,
     "metadata": {},
     "output_type": "execute_result"
    }
   ],
   "source": [
    "requests.get(url2).url"
   ]
  },
  {
   "cell_type": "code",
   "execution_count": 78,
   "metadata": {},
   "outputs": [],
   "source": [
    "driver.get(url2)"
   ]
  },
  {
   "cell_type": "code",
   "execution_count": 90,
   "metadata": {},
   "outputs": [],
   "source": [
    "URL_0 = []"
   ]
  },
  {
   "cell_type": "code",
   "execution_count": 91,
   "metadata": {},
   "outputs": [
    {
     "ename": "KeyboardInterrupt",
     "evalue": "",
     "output_type": "error",
     "traceback": [
      "\u001b[1;31m---------------------------------------------------------------------------\u001b[0m",
      "\u001b[1;31mKeyboardInterrupt\u001b[0m                         Traceback (most recent call last)",
      "\u001b[1;32m<ipython-input-91-f58ef748ee32>\u001b[0m in \u001b[0;36m<module>\u001b[1;34m\u001b[0m\n\u001b[0;32m     15\u001b[0m         \u001b[0mlink\u001b[0m \u001b[1;33m=\u001b[0m \u001b[0mnew\u001b[0m\u001b[1;33m.\u001b[0m\u001b[0mfind\u001b[0m\u001b[1;33m(\u001b[0m\u001b[1;34m'a'\u001b[0m\u001b[1;33m)\u001b[0m\u001b[1;33m.\u001b[0m\u001b[0mattrs\u001b[0m\u001b[1;33m[\u001b[0m\u001b[1;34m'href'\u001b[0m\u001b[1;33m]\u001b[0m\u001b[1;33m\u001b[0m\u001b[1;33m\u001b[0m\u001b[0m\n\u001b[0;32m     16\u001b[0m         \u001b[0murl\u001b[0m \u001b[1;33m=\u001b[0m \u001b[0mhost\u001b[0m\u001b[1;33m+\u001b[0m\u001b[0mlink\u001b[0m\u001b[1;33m\u001b[0m\u001b[1;33m\u001b[0m\u001b[0m\n\u001b[1;32m---> 17\u001b[1;33m         \u001b[0mu\u001b[0m \u001b[1;33m=\u001b[0m \u001b[0mrequests\u001b[0m\u001b[1;33m.\u001b[0m\u001b[0mget\u001b[0m\u001b[1;33m(\u001b[0m\u001b[0murl\u001b[0m\u001b[1;33m)\u001b[0m\u001b[1;33m.\u001b[0m\u001b[0murl\u001b[0m\u001b[1;33m\u001b[0m\u001b[1;33m\u001b[0m\u001b[0m\n\u001b[0m\u001b[0;32m     18\u001b[0m         \u001b[0mURL_0\u001b[0m\u001b[1;33m.\u001b[0m\u001b[0mappend\u001b[0m\u001b[1;33m(\u001b[0m\u001b[0mu\u001b[0m\u001b[1;33m)\u001b[0m\u001b[1;33m\u001b[0m\u001b[1;33m\u001b[0m\u001b[0m\n\u001b[0;32m     19\u001b[0m     \u001b[0mi\u001b[0m \u001b[1;33m+=\u001b[0m\u001b[1;36m1\u001b[0m\u001b[1;33m\u001b[0m\u001b[1;33m\u001b[0m\u001b[0m\n",
      "\u001b[1;32mE:\\Anaconda3\\lib\\site-packages\\requests\\api.py\u001b[0m in \u001b[0;36mget\u001b[1;34m(url, params, **kwargs)\u001b[0m\n\u001b[0;32m     70\u001b[0m \u001b[1;33m\u001b[0m\u001b[0m\n\u001b[0;32m     71\u001b[0m     \u001b[0mkwargs\u001b[0m\u001b[1;33m.\u001b[0m\u001b[0msetdefault\u001b[0m\u001b[1;33m(\u001b[0m\u001b[1;34m'allow_redirects'\u001b[0m\u001b[1;33m,\u001b[0m \u001b[1;32mTrue\u001b[0m\u001b[1;33m)\u001b[0m\u001b[1;33m\u001b[0m\u001b[1;33m\u001b[0m\u001b[0m\n\u001b[1;32m---> 72\u001b[1;33m     \u001b[1;32mreturn\u001b[0m \u001b[0mrequest\u001b[0m\u001b[1;33m(\u001b[0m\u001b[1;34m'get'\u001b[0m\u001b[1;33m,\u001b[0m \u001b[0murl\u001b[0m\u001b[1;33m,\u001b[0m \u001b[0mparams\u001b[0m\u001b[1;33m=\u001b[0m\u001b[0mparams\u001b[0m\u001b[1;33m,\u001b[0m \u001b[1;33m**\u001b[0m\u001b[0mkwargs\u001b[0m\u001b[1;33m)\u001b[0m\u001b[1;33m\u001b[0m\u001b[1;33m\u001b[0m\u001b[0m\n\u001b[0m\u001b[0;32m     73\u001b[0m \u001b[1;33m\u001b[0m\u001b[0m\n\u001b[0;32m     74\u001b[0m \u001b[1;33m\u001b[0m\u001b[0m\n",
      "\u001b[1;32mE:\\Anaconda3\\lib\\site-packages\\requests\\api.py\u001b[0m in \u001b[0;36mrequest\u001b[1;34m(method, url, **kwargs)\u001b[0m\n\u001b[0;32m     56\u001b[0m     \u001b[1;31m# cases, and look like a memory leak in others.\u001b[0m\u001b[1;33m\u001b[0m\u001b[1;33m\u001b[0m\u001b[1;33m\u001b[0m\u001b[0m\n\u001b[0;32m     57\u001b[0m     \u001b[1;32mwith\u001b[0m \u001b[0msessions\u001b[0m\u001b[1;33m.\u001b[0m\u001b[0mSession\u001b[0m\u001b[1;33m(\u001b[0m\u001b[1;33m)\u001b[0m \u001b[1;32mas\u001b[0m \u001b[0msession\u001b[0m\u001b[1;33m:\u001b[0m\u001b[1;33m\u001b[0m\u001b[1;33m\u001b[0m\u001b[0m\n\u001b[1;32m---> 58\u001b[1;33m         \u001b[1;32mreturn\u001b[0m \u001b[0msession\u001b[0m\u001b[1;33m.\u001b[0m\u001b[0mrequest\u001b[0m\u001b[1;33m(\u001b[0m\u001b[0mmethod\u001b[0m\u001b[1;33m=\u001b[0m\u001b[0mmethod\u001b[0m\u001b[1;33m,\u001b[0m \u001b[0murl\u001b[0m\u001b[1;33m=\u001b[0m\u001b[0murl\u001b[0m\u001b[1;33m,\u001b[0m \u001b[1;33m**\u001b[0m\u001b[0mkwargs\u001b[0m\u001b[1;33m)\u001b[0m\u001b[1;33m\u001b[0m\u001b[1;33m\u001b[0m\u001b[0m\n\u001b[0m\u001b[0;32m     59\u001b[0m \u001b[1;33m\u001b[0m\u001b[0m\n\u001b[0;32m     60\u001b[0m \u001b[1;33m\u001b[0m\u001b[0m\n",
      "\u001b[1;32mE:\\Anaconda3\\lib\\site-packages\\requests\\sessions.py\u001b[0m in \u001b[0;36mrequest\u001b[1;34m(self, method, url, params, data, headers, cookies, files, auth, timeout, allow_redirects, proxies, hooks, stream, verify, cert, json)\u001b[0m\n\u001b[0;32m    506\u001b[0m         }\n\u001b[0;32m    507\u001b[0m         \u001b[0msend_kwargs\u001b[0m\u001b[1;33m.\u001b[0m\u001b[0mupdate\u001b[0m\u001b[1;33m(\u001b[0m\u001b[0msettings\u001b[0m\u001b[1;33m)\u001b[0m\u001b[1;33m\u001b[0m\u001b[1;33m\u001b[0m\u001b[0m\n\u001b[1;32m--> 508\u001b[1;33m         \u001b[0mresp\u001b[0m \u001b[1;33m=\u001b[0m \u001b[0mself\u001b[0m\u001b[1;33m.\u001b[0m\u001b[0msend\u001b[0m\u001b[1;33m(\u001b[0m\u001b[0mprep\u001b[0m\u001b[1;33m,\u001b[0m \u001b[1;33m**\u001b[0m\u001b[0msend_kwargs\u001b[0m\u001b[1;33m)\u001b[0m\u001b[1;33m\u001b[0m\u001b[1;33m\u001b[0m\u001b[0m\n\u001b[0m\u001b[0;32m    509\u001b[0m \u001b[1;33m\u001b[0m\u001b[0m\n\u001b[0;32m    510\u001b[0m         \u001b[1;32mreturn\u001b[0m \u001b[0mresp\u001b[0m\u001b[1;33m\u001b[0m\u001b[1;33m\u001b[0m\u001b[0m\n",
      "\u001b[1;32mE:\\Anaconda3\\lib\\site-packages\\requests\\sessions.py\u001b[0m in \u001b[0;36msend\u001b[1;34m(self, request, **kwargs)\u001b[0m\n\u001b[0;32m    616\u001b[0m \u001b[1;33m\u001b[0m\u001b[0m\n\u001b[0;32m    617\u001b[0m         \u001b[1;31m# Send the request\u001b[0m\u001b[1;33m\u001b[0m\u001b[1;33m\u001b[0m\u001b[1;33m\u001b[0m\u001b[0m\n\u001b[1;32m--> 618\u001b[1;33m         \u001b[0mr\u001b[0m \u001b[1;33m=\u001b[0m \u001b[0madapter\u001b[0m\u001b[1;33m.\u001b[0m\u001b[0msend\u001b[0m\u001b[1;33m(\u001b[0m\u001b[0mrequest\u001b[0m\u001b[1;33m,\u001b[0m \u001b[1;33m**\u001b[0m\u001b[0mkwargs\u001b[0m\u001b[1;33m)\u001b[0m\u001b[1;33m\u001b[0m\u001b[1;33m\u001b[0m\u001b[0m\n\u001b[0m\u001b[0;32m    619\u001b[0m \u001b[1;33m\u001b[0m\u001b[0m\n\u001b[0;32m    620\u001b[0m         \u001b[1;31m# Total elapsed time of the request (approximately)\u001b[0m\u001b[1;33m\u001b[0m\u001b[1;33m\u001b[0m\u001b[1;33m\u001b[0m\u001b[0m\n",
      "\u001b[1;32mE:\\Anaconda3\\lib\\site-packages\\requests\\adapters.py\u001b[0m in \u001b[0;36msend\u001b[1;34m(self, request, stream, timeout, verify, cert, proxies)\u001b[0m\n\u001b[0;32m    438\u001b[0m                     \u001b[0mdecode_content\u001b[0m\u001b[1;33m=\u001b[0m\u001b[1;32mFalse\u001b[0m\u001b[1;33m,\u001b[0m\u001b[1;33m\u001b[0m\u001b[1;33m\u001b[0m\u001b[0m\n\u001b[0;32m    439\u001b[0m                     \u001b[0mretries\u001b[0m\u001b[1;33m=\u001b[0m\u001b[0mself\u001b[0m\u001b[1;33m.\u001b[0m\u001b[0mmax_retries\u001b[0m\u001b[1;33m,\u001b[0m\u001b[1;33m\u001b[0m\u001b[1;33m\u001b[0m\u001b[0m\n\u001b[1;32m--> 440\u001b[1;33m                     \u001b[0mtimeout\u001b[0m\u001b[1;33m=\u001b[0m\u001b[0mtimeout\u001b[0m\u001b[1;33m\u001b[0m\u001b[1;33m\u001b[0m\u001b[0m\n\u001b[0m\u001b[0;32m    441\u001b[0m                 )\n\u001b[0;32m    442\u001b[0m \u001b[1;33m\u001b[0m\u001b[0m\n",
      "\u001b[1;32mE:\\Anaconda3\\lib\\site-packages\\urllib3\\connectionpool.py\u001b[0m in \u001b[0;36murlopen\u001b[1;34m(self, method, url, body, headers, retries, redirect, assert_same_host, timeout, pool_timeout, release_conn, chunked, body_pos, **response_kw)\u001b[0m\n\u001b[0;32m    593\u001b[0m             \u001b[0mis_new_proxy_conn\u001b[0m \u001b[1;33m=\u001b[0m \u001b[0mself\u001b[0m\u001b[1;33m.\u001b[0m\u001b[0mproxy\u001b[0m \u001b[1;32mis\u001b[0m \u001b[1;32mnot\u001b[0m \u001b[1;32mNone\u001b[0m \u001b[1;32mand\u001b[0m \u001b[1;32mnot\u001b[0m \u001b[0mgetattr\u001b[0m\u001b[1;33m(\u001b[0m\u001b[0mconn\u001b[0m\u001b[1;33m,\u001b[0m \u001b[1;34m'sock'\u001b[0m\u001b[1;33m,\u001b[0m \u001b[1;32mNone\u001b[0m\u001b[1;33m)\u001b[0m\u001b[1;33m\u001b[0m\u001b[1;33m\u001b[0m\u001b[0m\n\u001b[0;32m    594\u001b[0m             \u001b[1;32mif\u001b[0m \u001b[0mis_new_proxy_conn\u001b[0m\u001b[1;33m:\u001b[0m\u001b[1;33m\u001b[0m\u001b[1;33m\u001b[0m\u001b[0m\n\u001b[1;32m--> 595\u001b[1;33m                 \u001b[0mself\u001b[0m\u001b[1;33m.\u001b[0m\u001b[0m_prepare_proxy\u001b[0m\u001b[1;33m(\u001b[0m\u001b[0mconn\u001b[0m\u001b[1;33m)\u001b[0m\u001b[1;33m\u001b[0m\u001b[1;33m\u001b[0m\u001b[0m\n\u001b[0m\u001b[0;32m    596\u001b[0m \u001b[1;33m\u001b[0m\u001b[0m\n\u001b[0;32m    597\u001b[0m             \u001b[1;31m# Make the request on the httplib connection object.\u001b[0m\u001b[1;33m\u001b[0m\u001b[1;33m\u001b[0m\u001b[1;33m\u001b[0m\u001b[0m\n",
      "\u001b[1;32mE:\\Anaconda3\\lib\\site-packages\\urllib3\\connectionpool.py\u001b[0m in \u001b[0;36m_prepare_proxy\u001b[1;34m(self, conn)\u001b[0m\n\u001b[0;32m    814\u001b[0m             \u001b[0mset_tunnel\u001b[0m\u001b[1;33m(\u001b[0m\u001b[0mself\u001b[0m\u001b[1;33m.\u001b[0m\u001b[0m_proxy_host\u001b[0m\u001b[1;33m,\u001b[0m \u001b[0mself\u001b[0m\u001b[1;33m.\u001b[0m\u001b[0mport\u001b[0m\u001b[1;33m,\u001b[0m \u001b[0mself\u001b[0m\u001b[1;33m.\u001b[0m\u001b[0mproxy_headers\u001b[0m\u001b[1;33m)\u001b[0m\u001b[1;33m\u001b[0m\u001b[1;33m\u001b[0m\u001b[0m\n\u001b[0;32m    815\u001b[0m \u001b[1;33m\u001b[0m\u001b[0m\n\u001b[1;32m--> 816\u001b[1;33m         \u001b[0mconn\u001b[0m\u001b[1;33m.\u001b[0m\u001b[0mconnect\u001b[0m\u001b[1;33m(\u001b[0m\u001b[1;33m)\u001b[0m\u001b[1;33m\u001b[0m\u001b[1;33m\u001b[0m\u001b[0m\n\u001b[0m\u001b[0;32m    817\u001b[0m \u001b[1;33m\u001b[0m\u001b[0m\n\u001b[0;32m    818\u001b[0m     \u001b[1;32mdef\u001b[0m \u001b[0m_new_conn\u001b[0m\u001b[1;33m(\u001b[0m\u001b[0mself\u001b[0m\u001b[1;33m)\u001b[0m\u001b[1;33m:\u001b[0m\u001b[1;33m\u001b[0m\u001b[1;33m\u001b[0m\u001b[0m\n",
      "\u001b[1;32mE:\\Anaconda3\\lib\\site-packages\\urllib3\\connection.py\u001b[0m in \u001b[0;36mconnect\u001b[1;34m(self)\u001b[0m\n\u001b[0;32m    324\u001b[0m             \u001b[0mca_cert_dir\u001b[0m\u001b[1;33m=\u001b[0m\u001b[0mself\u001b[0m\u001b[1;33m.\u001b[0m\u001b[0mca_cert_dir\u001b[0m\u001b[1;33m,\u001b[0m\u001b[1;33m\u001b[0m\u001b[1;33m\u001b[0m\u001b[0m\n\u001b[0;32m    325\u001b[0m             \u001b[0mserver_hostname\u001b[0m\u001b[1;33m=\u001b[0m\u001b[0mhostname\u001b[0m\u001b[1;33m,\u001b[0m\u001b[1;33m\u001b[0m\u001b[1;33m\u001b[0m\u001b[0m\n\u001b[1;32m--> 326\u001b[1;33m             ssl_context=context)\n\u001b[0m\u001b[0;32m    327\u001b[0m \u001b[1;33m\u001b[0m\u001b[0m\n\u001b[0;32m    328\u001b[0m         \u001b[1;32mif\u001b[0m \u001b[0mself\u001b[0m\u001b[1;33m.\u001b[0m\u001b[0massert_fingerprint\u001b[0m\u001b[1;33m:\u001b[0m\u001b[1;33m\u001b[0m\u001b[1;33m\u001b[0m\u001b[0m\n",
      "\u001b[1;32mE:\\Anaconda3\\lib\\site-packages\\urllib3\\util\\ssl_.py\u001b[0m in \u001b[0;36mssl_wrap_socket\u001b[1;34m(sock, keyfile, certfile, cert_reqs, ca_certs, server_hostname, ssl_version, ciphers, ssl_context, ca_cert_dir)\u001b[0m\n\u001b[0;32m    327\u001b[0m         \u001b[0mcontext\u001b[0m\u001b[1;33m.\u001b[0m\u001b[0mload_cert_chain\u001b[0m\u001b[1;33m(\u001b[0m\u001b[0mcertfile\u001b[0m\u001b[1;33m,\u001b[0m \u001b[0mkeyfile\u001b[0m\u001b[1;33m)\u001b[0m\u001b[1;33m\u001b[0m\u001b[1;33m\u001b[0m\u001b[0m\n\u001b[0;32m    328\u001b[0m     \u001b[1;32mif\u001b[0m \u001b[0mHAS_SNI\u001b[0m\u001b[1;33m:\u001b[0m  \u001b[1;31m# Platform-specific: OpenSSL with enabled SNI\u001b[0m\u001b[1;33m\u001b[0m\u001b[1;33m\u001b[0m\u001b[0m\n\u001b[1;32m--> 329\u001b[1;33m         \u001b[1;32mreturn\u001b[0m \u001b[0mcontext\u001b[0m\u001b[1;33m.\u001b[0m\u001b[0mwrap_socket\u001b[0m\u001b[1;33m(\u001b[0m\u001b[0msock\u001b[0m\u001b[1;33m,\u001b[0m \u001b[0mserver_hostname\u001b[0m\u001b[1;33m=\u001b[0m\u001b[0mserver_hostname\u001b[0m\u001b[1;33m)\u001b[0m\u001b[1;33m\u001b[0m\u001b[1;33m\u001b[0m\u001b[0m\n\u001b[0m\u001b[0;32m    330\u001b[0m \u001b[1;33m\u001b[0m\u001b[0m\n\u001b[0;32m    331\u001b[0m     warnings.warn(\n",
      "\u001b[1;32mE:\\Anaconda3\\lib\\site-packages\\urllib3\\contrib\\pyopenssl.py\u001b[0m in \u001b[0;36mwrap_socket\u001b[1;34m(self, sock, server_side, do_handshake_on_connect, suppress_ragged_eofs, server_hostname)\u001b[0m\n\u001b[0;32m    439\u001b[0m         \u001b[1;32mwhile\u001b[0m \u001b[1;32mTrue\u001b[0m\u001b[1;33m:\u001b[0m\u001b[1;33m\u001b[0m\u001b[1;33m\u001b[0m\u001b[0m\n\u001b[0;32m    440\u001b[0m             \u001b[1;32mtry\u001b[0m\u001b[1;33m:\u001b[0m\u001b[1;33m\u001b[0m\u001b[1;33m\u001b[0m\u001b[0m\n\u001b[1;32m--> 441\u001b[1;33m                 \u001b[0mcnx\u001b[0m\u001b[1;33m.\u001b[0m\u001b[0mdo_handshake\u001b[0m\u001b[1;33m(\u001b[0m\u001b[1;33m)\u001b[0m\u001b[1;33m\u001b[0m\u001b[1;33m\u001b[0m\u001b[0m\n\u001b[0m\u001b[0;32m    442\u001b[0m             \u001b[1;32mexcept\u001b[0m \u001b[0mOpenSSL\u001b[0m\u001b[1;33m.\u001b[0m\u001b[0mSSL\u001b[0m\u001b[1;33m.\u001b[0m\u001b[0mWantReadError\u001b[0m\u001b[1;33m:\u001b[0m\u001b[1;33m\u001b[0m\u001b[1;33m\u001b[0m\u001b[0m\n\u001b[0;32m    443\u001b[0m                 \u001b[0mrd\u001b[0m \u001b[1;33m=\u001b[0m \u001b[0mutil\u001b[0m\u001b[1;33m.\u001b[0m\u001b[0mwait_for_read\u001b[0m\u001b[1;33m(\u001b[0m\u001b[0msock\u001b[0m\u001b[1;33m,\u001b[0m \u001b[0msock\u001b[0m\u001b[1;33m.\u001b[0m\u001b[0mgettimeout\u001b[0m\u001b[1;33m(\u001b[0m\u001b[1;33m)\u001b[0m\u001b[1;33m)\u001b[0m\u001b[1;33m\u001b[0m\u001b[1;33m\u001b[0m\u001b[0m\n",
      "\u001b[1;32mE:\\Anaconda3\\lib\\site-packages\\OpenSSL\\SSL.py\u001b[0m in \u001b[0;36mdo_handshake\u001b[1;34m(self)\u001b[0m\n\u001b[0;32m   1912\u001b[0m         \u001b[1;33m:\u001b[0m\u001b[1;32mreturn\u001b[0m\u001b[1;33m:\u001b[0m \u001b[1;32mNone\u001b[0m\u001b[1;33m.\u001b[0m\u001b[1;33m\u001b[0m\u001b[1;33m\u001b[0m\u001b[0m\n\u001b[0;32m   1913\u001b[0m         \"\"\"\n\u001b[1;32m-> 1914\u001b[1;33m         \u001b[0mresult\u001b[0m \u001b[1;33m=\u001b[0m \u001b[0m_lib\u001b[0m\u001b[1;33m.\u001b[0m\u001b[0mSSL_do_handshake\u001b[0m\u001b[1;33m(\u001b[0m\u001b[0mself\u001b[0m\u001b[1;33m.\u001b[0m\u001b[0m_ssl\u001b[0m\u001b[1;33m)\u001b[0m\u001b[1;33m\u001b[0m\u001b[1;33m\u001b[0m\u001b[0m\n\u001b[0m\u001b[0;32m   1915\u001b[0m         \u001b[0mself\u001b[0m\u001b[1;33m.\u001b[0m\u001b[0m_raise_ssl_error\u001b[0m\u001b[1;33m(\u001b[0m\u001b[0mself\u001b[0m\u001b[1;33m.\u001b[0m\u001b[0m_ssl\u001b[0m\u001b[1;33m,\u001b[0m \u001b[0mresult\u001b[0m\u001b[1;33m)\u001b[0m\u001b[1;33m\u001b[0m\u001b[1;33m\u001b[0m\u001b[0m\n\u001b[0;32m   1916\u001b[0m \u001b[1;33m\u001b[0m\u001b[0m\n",
      "\u001b[1;31mKeyboardInterrupt\u001b[0m: "
     ]
    }
   ],
   "source": [
    "host = 'https://weixin.sogou.com'\n",
    "i = 1\n",
    "while True:\n",
    "    page = str(i)\n",
    "    url = 'https://weixin.sogou.com/weixin?query='+keyword+'&_sug_type_=&sut=3643&lkt=3%2C1588334155156%2C1588334155156&s_from=input&_sug_=y&type=2&sst0=1588334155259&page='+page+'&ie=utf8&w=01019900&dr=1'\n",
    "    driver.get(url=url)\n",
    "    sleep(30)\n",
    "    html = driver.page_source\n",
    "    soup  = bs(html)\n",
    "    news  = soup.select('#main > div.news-box > ul')\n",
    "    if news == [] :\n",
    "        break\n",
    "    news_list = news[0].find_all(class_=\"txt-box\")\n",
    "    for new in news_list:\n",
    "        link = new.find('a').attrs['href']\n",
    "        url = host+link\n",
    "        u = requests.get(url).url\n",
    "        URL_0.append(u)\n",
    "    i +=1"
   ]
  },
  {
   "cell_type": "code",
   "execution_count": 92,
   "metadata": {},
   "outputs": [
    {
     "data": {
      "text/plain": [
       "['http://weixin.sogou.com/antispider/?from=%2Flink%3Furl%3Ddn9a_-gY295K0Rci_xozVXfdMkSQTLW6cwJThYulHEtVjXrGTiVgSwTwj4wjtvgL9zhncpzyTBp9wiXWkiXlIFqXa8Fplpd9zMrIIhYFhdgSMt8kiw1coZwH5p7xZBepffNZvyuH-TjVsnBi_fZShI941CxQNbcC0euYa5vB76DDyA6Cfeer-4pzKtqZkHzh4yPbtGbigKul7iVjIG22JW1U8zgyRV3ZRV5-G9Hpc3BLLJPOYLTJ5oy_-PhOgjD4ZZsZEFvYYVW54z_tGSZTqA..%26type%3D2%26query%3D%E7%A1%AE%E8%AF%8A%E9%80%97%E7%95%99%26token%3D7FC99E664510543C323796A6DF8739E233BC21785EAC2373',\n",
       " 'http://weixin.sogou.com/antispider/?from=%2Flink%3Furl%3Ddn9a_-gY295K0Rci_xozVXfdMkSQTLW6cwJThYulHEtVjXrGTiVgSwTwj4wjtvgL9zhncpzyTBp9wiXWkiXlIFqXa8Fplpd9_sKNbn_wJf-aSsQeg8F4kZdnZIUF8nD9_bXuj1ZwFox9fBhtd1L5UVHASI-LGdB1JKsdZm9oxFniWuqinzxeJWAV37VWQSu6-KQcWQYUgFjTLaJVSEHnjSdycvVaSSfN6mrTmT6YyyQlHVPU3TMqgI-yCnWaJovPqa5w4gzgNbndrgozfSg6bw..%26type%3D2%26query%3D%E7%A1%AE%E8%AF%8A%E9%80%97%E7%95%99%26token%3D7FC99E664510543C323796A6DF8739E233BC21785EAC2373',\n",
       " 'http://weixin.sogou.com/antispider/?from=%2Flink%3Furl%3Ddn9a_-gY295K0Rci_xozVXfdMkSQTLW6cwJThYulHEtVjXrGTiVgSwTwj4wjtvgL9zhncpzyTBp9wiXWkiXlIFqXa8Fplpd94TYApuXf3gOJUB156Q4KIzl2UhJh8dRdTXttzFOOZOLJMDWrj4iNHAEr6E8d4GLfi0WnRQ2xRHtd_hnuy6-fPvqRUmjJIsh72SGGxf6KJlVXsGHEEUm9Qy7WyJFu45Q7fsm6ugbGbRkJLL2e8YDS3YDhX1r1JLQE8bj44vNPKI_yPfCoem7FzA..%26type%3D2%26query%3D%E7%A1%AE%E8%AF%8A%E9%80%97%E7%95%99%26token%3D7FC99E664510543C323796A6DF8739E233BC21785EAC2373',\n",
       " 'http://weixin.sogou.com/antispider/?from=%2Flink%3Furl%3Ddn9a_-gY295K0Rci_xozVXfdMkSQTLW6cwJThYulHEtVjXrGTiVgSwTwj4wjtvgL9zhncpzyTBp9wiXWkiXlIFqXa8Fplpd94TYApuXf3gOJUB156Q4KIzl2UhJh8dRdTXttzFOOZOLJMDWrj4iNHH2PA_n5Djo-uLB2K7FEQkiFkB2lw6vzcd_ofuQampO0EfPjkg7NVI0a8bw-MtpVBqMBn3eqyLDAAMpDMFLf5vHuCZJwXjudfnFxyqQZVoqW0CM_zMusWa-q3X8EKMKOIA..%26type%3D2%26query%3D%E7%A1%AE%E8%AF%8A%E9%80%97%E7%95%99%26token%3D7FC99E664510543C323796A6DF8739E233BC21785EAC2373',\n",
       " 'http://weixin.sogou.com/antispider/?from=%2Flink%3Furl%3Ddn9a_-gY295K0Rci_xozVXfdMkSQTLW6cwJThYulHEtVjXrGTiVgSwTwj4wjtvgL9zhncpzyTBp9wiXWkiXlIFqXa8Fplpd9MQCV366z8AevD8f04jTYRRS2oA8vEhe1hKjgKkckGe_0SPST7YgOpmEcwVLh-ZgNJzAiAts8Wep9yRXyVAkWaJqnCmECW_jiSc-a7TnKc2tqysXxDoqCzCx-KupeyAJcXDgV6Unfy7ZrPToOZpQtibx1yzrMFOzX9UweOkcvm3-AFV_3u-a3OQ..%26type%3D2%26query%3D%E7%A1%AE%E8%AF%8A%E9%80%97%E7%95%99%26token%3D7FC99E664510543C323796A6DF8739E233BC21785EAC2373',\n",
       " 'http://weixin.sogou.com/antispider/?from=%2Flink%3Furl%3Ddn9a_-gY295K0Rci_xozVXfdMkSQTLW6cwJThYulHEtVjXrGTiVgSwTwj4wjtvgL9zhncpzyTBp9wiXWkiXlIFqXa8Fplpd9yH-48Zyo4BA8uJs5cxHFgg-hfaByvnCrUbT_x1oTF41fhy5vgK35tcwT_hcsajFUqiJ-1cyPuVK9D-YwWKt8xsZr-_xyMCvvv46BKaB5k4gSwrCuFL1VUT-bRmBR8O03H0USVFkq8qS6Fn_EUd64eCKCr7amj1pTYCkqFBaDveNhlgeRt7bSzA..%26type%3D2%26query%3D%E7%A1%AE%E8%AF%8A%E9%80%97%E7%95%99%26token%3D7FC99E664510543C323796A6DF8739E233BC21785EAC2373',\n",
       " 'http://weixin.sogou.com/antispider/?from=%2Flink%3Furl%3Ddn9a_-gY295K0Rci_xozVXfdMkSQTLW6cwJThYulHEtVjXrGTiVgSwTwj4wjtvgL9zhncpzyTBp9wiXWkiXlIFqXa8Fplpd9XcXDz6gIacNSC2PaI_WX8p56FUKC2uPp4X6exOjUUphnJXyNQX4g9_1IwNi1dw9V8RaUSr1s7EWgs9X4wWMqgYgDkiGEAF1p1r2GYZYpYHWTDO0E3LN0wH2O9CZYuW5bjWD5g3T3XF_KOirw9MQqG9_yfEIW8VMnJn7Wwtz7gCROJBjQH7pCxQ..%26type%3D2%26query%3D%E7%A1%AE%E8%AF%8A%E9%80%97%E7%95%99%26token%3D7FC99E664510543C323796A6DF8739E233BC21785EAC2373',\n",
       " 'http://weixin.sogou.com/antispider/?from=%2Flink%3Furl%3Ddn9a_-gY295K0Rci_xozVXfdMkSQTLW6cwJThYulHEtVjXrGTiVgSwTwj4wjtvgL9zhncpzyTBp9wiXWkiXlIFqXa8Fplpd9Xk-kzWsOEva3i3xzpMvnbTC2JoEkClxOCEP_wjUPEHpTd2OvzNkueJx6ip_ajLhSXufAIIkcwQbw8nhTSdv2Bu5KtH5rxQdk8JkYIMiXeKuZiR83ULrogWDHfl-3UA8MIMWWUpoIFxI3IKrelLBvBz9nSUN82eXydenDI9nGoD15LU3lqtPw9g..%26type%3D2%26query%3D%E7%A1%AE%E8%AF%8A%E9%80%97%E7%95%99%26token%3D7FC99E664510543C323796A6DF8739E233BC21785EAC2373',\n",
       " 'http://weixin.sogou.com/antispider/?from=%2Flink%3Furl%3Ddn9a_-gY295K0Rci_xozVXfdMkSQTLW6cwJThYulHEtVjXrGTiVgSwTwj4wjtvgL9zhncpzyTBp9wiXWkiXlIFqXa8Fplpd9_sKNbn_wJf-aSsQeg8F4kZdnZIUF8nD9_bXuj1ZwFox9fBhtd1L5UQxXLkF7D0eEzsKXtQJWCfq_29uJHPj86-g6XYgV_TgV3L7QG971Gn1Z0IZ-OJZa1euopEexFGBmuqizXTANVJtro5znFgwVsV0eQH633uqAwOCxqC7AcTeTJmCU1UgHwQ..%26type%3D2%26query%3D%E7%A1%AE%E8%AF%8A%E9%80%97%E7%95%99%26token%3D7FC99E664510543C323796A6DF8739E233BC21785EAC2373',\n",
       " 'http://weixin.sogou.com/antispider/?from=%2Flink%3Furl%3Ddn9a_-gY295K0Rci_xozVXfdMkSQTLW6cwJThYulHEtVjXrGTiVgSwTwj4wjtvgL9zhncpzyTBp9wiXWkiXlIFqXa8Fplpd9afh0NMMMGTpmaAscdzV_JuO5u8DzeLf1uo0p2H08q0R--UOKaXxMEQh2jS7bBhBKXrY2IntRUCUahrSXpydeRn1uq07MB1Ypb2QmdAZPkANSMIGUxBVn4Pu8X8j-gHbRnoEKn-w_mpj9cx1voowmVGJMfJewtMFEwx3poh398y8NGbbB75bUeA..%26type%3D2%26query%3D%E7%A1%AE%E8%AF%8A%E9%80%97%E7%95%99%26token%3D7FC99E664510543C323796A6DF8739E233BC21785EAC2373',\n",
       " 'http://weixin.sogou.com/antispider/?from=%2Flink%3Furl%3Ddn9a_-gY295K0Rci_xozVXfdMkSQTLW6cwJThYulHEtVjXrGTiVgSwTwj4wjtvgLWqWqEzNczhh9wiXWkiXlIFqXa8Fplpd9rTbKMFThw6vSHCiFLbU0YD9e1oI_o3DcqNaI2ZECxJ6i4ETSL6L1fiFDrATDrBp5fD1t8uB39sb7wHllOj9xP6Zyusen_jtlpa7wFk9ZamCQ9nkWO5fbGswd12JYZSTw9RNlC4KASVEc84swHq-R6NRW_Nf9JbkCkTn-JdGMgv4YJSSFPgfogQ..%26type%3D2%26query%3D%E7%A1%AE%E8%AF%8A%E9%80%97%E7%95%99%26token%3D7FC9AF164510543C323796A6DF8739E233BC21785EAC2378',\n",
       " 'http://weixin.sogou.com/antispider/?from=%2Flink%3Furl%3Ddn9a_-gY295K0Rci_xozVXfdMkSQTLW6cwJThYulHEtVjXrGTiVgSwTwj4wjtvgLWqWqEzNczhh9wiXWkiXlIFqXa8Fplpd9zMrIIhYFhdgSMt8kiw1coZwH5p7xZBepffNZvyuH-TjVsnBi_fZShP1FtoitFxbhCTElnzySrevv2QR2UuO_95JOKoSuZJUc1pkHYgOUUhfsZXSzP-JUV7ov6U-3C54_RnXUlFA5eyOcg9kTOZshvEEwGiGdY6KDfk0l9vSfMhcNGbbB75bUeA..%26type%3D2%26query%3D%E7%A1%AE%E8%AF%8A%E9%80%97%E7%95%99%26token%3D7FC9AF164510543C323796A6DF8739E233BC21785EAC2378',\n",
       " 'http://weixin.sogou.com/antispider/?from=%2Flink%3Furl%3Ddn9a_-gY295K0Rci_xozVXfdMkSQTLW6cwJThYulHEtVjXrGTiVgSwTwj4wjtvgLWqWqEzNczhh9wiXWkiXlIFqXa8Fplpd9nttsMlxjRuON1lDsEfLGw1uKOaxiZnBrraVj0bDIdl-goY9ocJwJbHD8kuR-rPGku3W-tQtm8Cit1qhzlmOz0qRhZiyalNhzGbP8xhe8XZidaj68idYO1m4lopkS8QV2yUoSvw8jJW7JH7WHncA9lfTmGphpf1PSNy7cvU6j421Q_LeJW-Rhtg..%26type%3D2%26query%3D%E7%A1%AE%E8%AF%8A%E9%80%97%E7%95%99%26token%3D7FC9AF164510543C323796A6DF8739E233BC21785EAC2378',\n",
       " 'http://weixin.sogou.com/antispider/?from=%2Flink%3Furl%3Ddn9a_-gY295K0Rci_xozVXfdMkSQTLW6cwJThYulHEtVjXrGTiVgSwTwj4wjtvgLWqWqEzNczhh9wiXWkiXlIFqXa8Fplpd9CLNLhEOySJHR71eGncKDZ5Z3leUcxz3Ux-OPaK2evs9R7kPo5NutXZE6EnPIkbvWdwjkIfIk0hln9Y3xkgD87CT8Qqu-EwoYya5SRkZPDekzUoaaEHEusnlczCiWkDEqHwpdVgGK6koDvPoIFiT2FX16Yg1Sd4ymq_PR9TSid54O8fIRwtipOg..%26type%3D2%26query%3D%E7%A1%AE%E8%AF%8A%E9%80%97%E7%95%99%26token%3D7FC9AF164510543C323796A6DF8739E233BC21785EAC2378']"
      ]
     },
     "execution_count": 92,
     "metadata": {},
     "output_type": "execute_result"
    }
   ],
   "source": [
    "URL_0"
   ]
  },
  {
   "cell_type": "code",
   "execution_count": 86,
   "metadata": {},
   "outputs": [
    {
     "data": {
      "text/plain": [
       "101"
      ]
     },
     "execution_count": 86,
     "metadata": {},
     "output_type": "execute_result"
    }
   ],
   "source": [
    "i"
   ]
  },
  {
   "cell_type": "code",
   "execution_count": 87,
   "metadata": {},
   "outputs": [
    {
     "data": {
      "text/plain": [
       "998"
      ]
     },
     "execution_count": 87,
     "metadata": {},
     "output_type": "execute_result"
    }
   ],
   "source": [
    "len(URL_0)"
   ]
  },
  {
   "cell_type": "code",
   "execution_count": 93,
   "metadata": {},
   "outputs": [],
   "source": [
    "url = pd.DataFrame(URL_0)"
   ]
  },
  {
   "cell_type": "code",
   "execution_count": 94,
   "metadata": {},
   "outputs": [
    {
     "data": {
      "text/plain": [
       "0     http://weixin.sogou.com/antispider/?from=%2Fli...\n",
       "1     http://weixin.sogou.com/antispider/?from=%2Fli...\n",
       "2     http://weixin.sogou.com/antispider/?from=%2Fli...\n",
       "3     http://weixin.sogou.com/antispider/?from=%2Fli...\n",
       "4     http://weixin.sogou.com/antispider/?from=%2Fli...\n",
       "5     http://weixin.sogou.com/antispider/?from=%2Fli...\n",
       "6     http://weixin.sogou.com/antispider/?from=%2Fli...\n",
       "7     http://weixin.sogou.com/antispider/?from=%2Fli...\n",
       "8     http://weixin.sogou.com/antispider/?from=%2Fli...\n",
       "9     http://weixin.sogou.com/antispider/?from=%2Fli...\n",
       "10    http://weixin.sogou.com/antispider/?from=%2Fli...\n",
       "11    http://weixin.sogou.com/antispider/?from=%2Fli...\n",
       "12    http://weixin.sogou.com/antispider/?from=%2Fli...\n",
       "13    http://weixin.sogou.com/antispider/?from=%2Fli...\n",
       "Name: 0, dtype: object"
      ]
     },
     "execution_count": 94,
     "metadata": {},
     "output_type": "execute_result"
    }
   ],
   "source": [
    "url[0]"
   ]
  },
  {
   "cell_type": "code",
   "execution_count": null,
   "metadata": {},
   "outputs": [],
   "source": []
  }
 ],
 "metadata": {
  "kernelspec": {
   "display_name": "Python 3",
   "language": "python",
   "name": "python3"
  },
  "language_info": {
   "codemirror_mode": {
    "name": "ipython",
    "version": 3
   },
   "file_extension": ".py",
   "mimetype": "text/x-python",
   "name": "python",
   "nbconvert_exporter": "python",
   "pygments_lexer": "ipython3",
   "version": "3.7.4"
  }
 },
 "nbformat": 4,
 "nbformat_minor": 2
}
