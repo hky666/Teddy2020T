{
 "cells": [
  {
   "cell_type": "code",
   "execution_count": 1,
   "metadata": {},
   "outputs": [
    {
     "name": "stdout",
     "output_type": "stream",
     "text": [
      "Collecting hanlp\n",
      "  Downloading https://files.pythonhosted.org/packages/23/30/53abd6f86b5cfa36713a2c1713b70936005389258584c0f07b499168d721/hanlp-2.0.0a42.tar.gz (132kB)\n",
      "Requirement already satisfied: tensorflow==2.1.0 in e:\\anaconda3\\lib\\site-packages (from hanlp) (2.1.0)\n",
      "Collecting fasttext==0.9.1 (from hanlp)\n",
      "  Downloading https://files.pythonhosted.org/packages/10/61/2e01f1397ec533756c1d893c22d9d5ed3fce3a6e4af1976e0d86bb13ea97/fasttext-0.9.1.tar.gz (57kB)\n",
      "Collecting bert-for-tf2==0.12.7 (from hanlp)\n",
      "  Downloading https://files.pythonhosted.org/packages/93/31/1f9d1d5ccafb5b8bb621b02c4c5bd9e9f6599ec9b305f7307f1b6c5ae0b5/bert-for-tf2-0.12.7.tar.gz\n",
      "Collecting py-params==0.8.2 (from hanlp)\n",
      "  Downloading https://files.pythonhosted.org/packages/ec/17/71c5f3c0ab511de96059358bcc5e00891a804cd4049021e5fa80540f201a/py-params-0.8.2.tar.gz\n",
      "Collecting params-flow==0.7.4 (from hanlp)\n",
      "  Downloading https://files.pythonhosted.org/packages/0d/12/2604f88932f285a473015a5adabf08496d88dad0f9c1228fab1547ccc9b5/params-flow-0.7.4.tar.gz\n",
      "Collecting sentencepiece==0.1.85 (from hanlp)\n",
      "  Downloading https://files.pythonhosted.org/packages/61/c5/e7e2f45c076097ac1a58b21288be25ae4eb4044be899e6c04cd897a00f15/sentencepiece-0.1.85-cp37-cp37m-win_amd64.whl (1.2MB)\n",
      "Requirement already satisfied: keras-applications>=1.0.8 in e:\\anaconda3\\lib\\site-packages (from tensorflow==2.1.0->hanlp) (1.0.8)\n",
      "Requirement already satisfied: tensorboard<2.2.0,>=2.1.0 in e:\\anaconda3\\lib\\site-packages (from tensorflow==2.1.0->hanlp) (2.1.1)\n",
      "Requirement already satisfied: wheel>=0.26; python_version >= \"3\" in e:\\anaconda3\\lib\\site-packages (from tensorflow==2.1.0->hanlp) (0.33.6)\n",
      "Requirement already satisfied: google-pasta>=0.1.6 in e:\\anaconda3\\lib\\site-packages (from tensorflow==2.1.0->hanlp) (0.1.8)\n",
      "Requirement already satisfied: scipy==1.4.1; python_version >= \"3\" in e:\\anaconda3\\lib\\site-packages (from tensorflow==2.1.0->hanlp) (1.4.1)\n",
      "Requirement already satisfied: gast==0.2.2 in e:\\anaconda3\\lib\\site-packages (from tensorflow==2.1.0->hanlp) (0.2.2)\n",
      "Requirement already satisfied: protobuf>=3.8.0 in e:\\anaconda3\\lib\\site-packages (from tensorflow==2.1.0->hanlp) (3.11.3)\n",
      "Requirement already satisfied: termcolor>=1.1.0 in e:\\anaconda3\\lib\\site-packages (from tensorflow==2.1.0->hanlp) (1.1.0)\n",
      "Requirement already satisfied: grpcio>=1.8.6 in e:\\anaconda3\\lib\\site-packages (from tensorflow==2.1.0->hanlp) (1.27.2)\n",
      "Requirement already satisfied: astor>=0.6.0 in e:\\anaconda3\\lib\\site-packages (from tensorflow==2.1.0->hanlp) (0.8.1)\n",
      "Requirement already satisfied: tensorflow-estimator<2.2.0,>=2.1.0rc0 in e:\\anaconda3\\lib\\site-packages (from tensorflow==2.1.0->hanlp) (2.1.0)\n",
      "Requirement already satisfied: six>=1.12.0 in e:\\anaconda3\\lib\\site-packages (from tensorflow==2.1.0->hanlp) (1.12.0)\n",
      "Requirement already satisfied: numpy<2.0,>=1.16.0 in e:\\anaconda3\\lib\\site-packages (from tensorflow==2.1.0->hanlp) (1.16.5)\n",
      "Requirement already satisfied: wrapt>=1.11.1 in e:\\anaconda3\\lib\\site-packages (from tensorflow==2.1.0->hanlp) (1.11.2)\n",
      "Requirement already satisfied: opt-einsum>=2.3.2 in e:\\anaconda3\\lib\\site-packages (from tensorflow==2.1.0->hanlp) (3.2.0)\n",
      "Requirement already satisfied: absl-py>=0.7.0 in e:\\anaconda3\\lib\\site-packages (from tensorflow==2.1.0->hanlp) (0.9.0)\n",
      "Requirement already satisfied: keras-preprocessing>=1.1.0 in e:\\anaconda3\\lib\\site-packages (from tensorflow==2.1.0->hanlp) (1.1.0)\n",
      "Requirement already satisfied: pybind11>=2.2 in e:\\anaconda3\\lib\\site-packages (from fasttext==0.9.1->hanlp) (2.5.0)\n",
      "Requirement already satisfied: setuptools>=0.7.0 in e:\\anaconda3\\lib\\site-packages (from fasttext==0.9.1->hanlp) (46.1.1)\n",
      "Requirement already satisfied: tqdm in e:\\anaconda3\\lib\\site-packages (from params-flow==0.7.4->hanlp) (4.36.1)\n",
      "Requirement already satisfied: h5py in e:\\anaconda3\\lib\\site-packages (from keras-applications>=1.0.8->tensorflow==2.1.0->hanlp) (2.9.0)\n",
      "Requirement already satisfied: werkzeug>=0.11.15 in e:\\anaconda3\\lib\\site-packages (from tensorboard<2.2.0,>=2.1.0->tensorflow==2.1.0->hanlp) (0.16.0)\n",
      "Requirement already satisfied: markdown>=2.6.8 in e:\\anaconda3\\lib\\site-packages (from tensorboard<2.2.0,>=2.1.0->tensorflow==2.1.0->hanlp) (3.2.1)\n",
      "Requirement already satisfied: google-auth<2,>=1.6.3 in e:\\anaconda3\\lib\\site-packages (from tensorboard<2.2.0,>=2.1.0->tensorflow==2.1.0->hanlp) (1.11.2)\n",
      "Requirement already satisfied: google-auth-oauthlib<0.5,>=0.4.1 in e:\\anaconda3\\lib\\site-packages (from tensorboard<2.2.0,>=2.1.0->tensorflow==2.1.0->hanlp) (0.4.1)\n",
      "Collecting requests<3,>=2.21.0 (from tensorboard<2.2.0,>=2.1.0->tensorflow==2.1.0->hanlp)\n",
      "  Using cached https://files.pythonhosted.org/packages/1a/70/1935c770cb3be6e3a8b78ced23d7e0f3b187f5cbfab4749523ed65d7c9b1/requests-2.23.0-py2.py3-none-any.whl\n",
      "Requirement already satisfied: rsa<4.1,>=3.1.4 in e:\\anaconda3\\lib\\site-packages (from google-auth<2,>=1.6.3->tensorboard<2.2.0,>=2.1.0->tensorflow==2.1.0->hanlp) (4.0)\n",
      "Requirement already satisfied: pyasn1-modules>=0.2.1 in e:\\anaconda3\\lib\\site-packages (from google-auth<2,>=1.6.3->tensorboard<2.2.0,>=2.1.0->tensorflow==2.1.0->hanlp) (0.2.8)\n",
      "Requirement already satisfied: cachetools<5.0,>=2.0.0 in e:\\anaconda3\\lib\\site-packages (from google-auth<2,>=1.6.3->tensorboard<2.2.0,>=2.1.0->tensorflow==2.1.0->hanlp) (4.0.0)\n",
      "Requirement already satisfied: requests-oauthlib>=0.7.0 in e:\\anaconda3\\lib\\site-packages (from google-auth-oauthlib<0.5,>=0.4.1->tensorboard<2.2.0,>=2.1.0->tensorflow==2.1.0->hanlp) (1.3.0)\n",
      "Requirement already satisfied: chardet<4,>=3.0.2 in e:\\anaconda3\\lib\\site-packages (from requests<3,>=2.21.0->tensorboard<2.2.0,>=2.1.0->tensorflow==2.1.0->hanlp) (3.0.4)\n",
      "Requirement already satisfied: urllib3!=1.25.0,!=1.25.1,<1.26,>=1.21.1 in e:\\anaconda3\\lib\\site-packages (from requests<3,>=2.21.0->tensorboard<2.2.0,>=2.1.0->tensorflow==2.1.0->hanlp) (1.22)\n",
      "Requirement already satisfied: idna<3,>=2.5 in e:\\anaconda3\\lib\\site-packages (from requests<3,>=2.21.0->tensorboard<2.2.0,>=2.1.0->tensorflow==2.1.0->hanlp) (2.6)\n",
      "Requirement already satisfied: certifi>=2017.4.17 in e:\\anaconda3\\lib\\site-packages (from requests<3,>=2.21.0->tensorboard<2.2.0,>=2.1.0->tensorflow==2.1.0->hanlp) (2019.9.11)\n",
      "Requirement already satisfied: pyasn1>=0.1.3 in e:\\anaconda3\\lib\\site-packages (from rsa<4.1,>=3.1.4->google-auth<2,>=1.6.3->tensorboard<2.2.0,>=2.1.0->tensorflow==2.1.0->hanlp) (0.4.8)\n",
      "Requirement already satisfied: oauthlib>=3.0.0 in e:\\anaconda3\\lib\\site-packages (from requests-oauthlib>=0.7.0->google-auth-oauthlib<0.5,>=0.4.1->tensorboard<2.2.0,>=2.1.0->tensorflow==2.1.0->hanlp) (3.1.0)\n",
      "Building wheels for collected packages: hanlp, fasttext, bert-for-tf2, py-params, params-flow\n",
      "  Building wheel for hanlp (setup.py): started\n",
      "  Building wheel for hanlp (setup.py): finished with status 'done'\n",
      "  Stored in directory: C:\\Users\\Administrator\\AppData\\Local\\pip\\Cache\\wheels\\c0\\15\\f7\\5a261ec729c95b233966128973fa172e47f5a8252b2dcda80f\n",
      "  Building wheel for fasttext (setup.py): started\n",
      "  Building wheel for fasttext (setup.py): still running...\n",
      "  Building wheel for fasttext (setup.py): finished with status 'done'\n",
      "  Stored in directory: C:\\Users\\Administrator\\AppData\\Local\\pip\\Cache\\wheels\\9f\\f0\\04\\caa82c912aee89ce76358ff954f3f0729b7577c8ff23a292e3\n",
      "  Building wheel for bert-for-tf2 (setup.py): started\n",
      "  Building wheel for bert-for-tf2 (setup.py): finished with status 'done'\n",
      "  Stored in directory: C:\\Users\\Administrator\\AppData\\Local\\pip\\Cache\\wheels\\87\\77\\d0\\2118abd9686bbeebfde72a494dfbdc012087e3560d9d380ab7\n",
      "  Building wheel for py-params (setup.py): started\n",
      "  Building wheel for py-params (setup.py): finished with status 'done'\n",
      "  Stored in directory: C:\\Users\\Administrator\\AppData\\Local\\pip\\Cache\\wheels\\83\\3a\\9c\\baf35d6f17f0c2c6b61bf8ac3ab9fc12df0e41432ccaeecacb\n",
      "  Building wheel for params-flow (setup.py): started\n",
      "  Building wheel for params-flow (setup.py): finished with status 'done'\n",
      "  Stored in directory: C:\\Users\\Administrator\\AppData\\Local\\pip\\Cache\\wheels\\86\\30\\40\\507b60d68b67ac87f35e95c98f5b296a32f146d5ae1d1d5aa7\n",
      "Successfully built hanlp fasttext bert-for-tf2 py-params params-flow\n",
      "Installing collected packages: fasttext, py-params, params-flow, bert-for-tf2, sentencepiece, hanlp, requests\n",
      "  Found existing installation: requests 2.18.4\n",
      "    Uninstalling requests-2.18.4:\n",
      "      Successfully uninstalled requests-2.18.4\n",
      "Successfully installed bert-for-tf2-0.12.7 fasttext-0.9.1 hanlp-2.0.0a42 params-flow-0.7.4 py-params-0.8.2 requests-2.23.0 sentencepiece-0.1.85\n"
     ]
    },
    {
     "name": "stderr",
     "output_type": "stream",
     "text": [
      "fasttext 0.9.1 requires pybind11>=2.2, which is not installed.\n"
     ]
    }
   ],
   "source": [
    "!pip install hanlp"
   ]
  },
  {
   "cell_type": "code",
   "execution_count": null,
   "metadata": {},
   "outputs": [],
   "source": []
  }
 ],
 "metadata": {
  "kernelspec": {
   "display_name": "Python 3",
   "language": "python",
   "name": "python3"
  },
  "language_info": {
   "codemirror_mode": {
    "name": "ipython",
    "version": 3
   },
   "file_extension": ".py",
   "mimetype": "text/x-python",
   "name": "python",
   "nbconvert_exporter": "python",
   "pygments_lexer": "ipython3",
   "version": "3.7.4"
  }
 },
 "nbformat": 4,
 "nbformat_minor": 2
}
